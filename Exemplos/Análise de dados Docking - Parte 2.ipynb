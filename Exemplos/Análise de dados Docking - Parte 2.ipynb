{
 "cells": [
  {
   "cell_type": "markdown",
   "metadata": {},
   "source": [
    "__Análise de dados Docking - 2 Um tratamento estatístico__"
   ]
  },
  {
   "cell_type": "markdown",
   "metadata": {},
   "source": [
    "Diferente da parte 1, aqui vamos ser mais dinâmicos. Iremos utilizar formas mais diretas de realizar as operações com os dados. Além de trazer um tratamento mais estatístico para os dados, buscando porcentagem de ocupação de energia, média, mediana e desvio-pad, além de outros tramentos."
   ]
  },
  {
   "cell_type": "markdown",
   "metadata": {},
   "source": [
    "Caso não tenha alguma biblioteca"
   ]
  },
  {
   "cell_type": "code",
   "execution_count": 1,
   "metadata": {},
   "outputs": [
    {
     "data": {
      "text/plain": [
       "'\\n!pip install rmsd\\n!pip install periodictable\\n!pip install heatmapz\\n!pip install plotly\\n'"
      ]
     },
     "execution_count": 1,
     "metadata": {},
     "output_type": "execute_result"
    }
   ],
   "source": [
    "'''\n",
    "!pip install rmsd\n",
    "!pip install periodictable\n",
    "!pip install heatmapz\n",
    "!pip install plotly\n",
    "'''"
   ]
  },
  {
   "cell_type": "code",
   "execution_count": 2,
   "metadata": {},
   "outputs": [],
   "source": [
    "import os\n",
    "import numpy as np\n",
    "import pandas as pd\n",
    "import matplotlib.pyplot as plt\n",
    "import seaborn as sns\n",
    "import rmsd\n",
    "import periodictable as pt\n",
    "from pylab import rcParams\n",
    "from heatmap import heatmap, corrplot\n",
    "rcParams['figure.figsize'] = 7,7 \n",
    "sns.set(color_codes=True, font_scale=1.2)\n",
    "\n",
    "import plotly.express as px\n",
    "import plotly.graph_objects as go\n",
    "import plotly.io as pio\n",
    "#Abrir gráficos plotly em uma nova guia\n",
    "#pio.renderers.default = 'browser'\n",
    "fig=go.Figure()\n",
    "\n",
    "%matplotlib inline  "
   ]
  },
  {
   "cell_type": "markdown",
   "metadata": {},
   "source": [
    "Esse algoritmo analisa uma pasta com arquivos pdbqt gerados por docking com o vina e as transforma em um dataframe com a posição do centro de mass, valor do RMSD e energia.\n",
    "\n",
    "Para esse notebook funcionar corretamente, você precisa instalar bibliotecas como, rmsd, periodictable, numpy e pandas.\n",
    "\n",
    "Qualquer questão escreva para rafael.pleite@usp.br"
   ]
  },
  {
   "cell_type": "markdown",
   "metadata": {},
   "source": [
    "Funções para extrair os dados dos arquivos .pdbqt"
   ]
  },
  {
   "cell_type": "code",
   "execution_count": 3,
   "metadata": {},
   "outputs": [],
   "source": [
    "def load(i):\n",
    "    data = ''\n",
    "    with open(i) as fp:\n",
    "        data = fp.read()\n",
    "    data = data.split('\\n')\n",
    "    return data\n",
    "\n",
    "def CalcMassAtom(Matrix):\n",
    "    data = []\n",
    "    for x in range(len(Matrix)):\n",
    "        A = Matrix[x].split()\n",
    "        if len(A) != 0 and A[0] == 'HETATM' and A[2][0] != 'H':\n",
    "            data.append([A[5], A[6], A[7], A[2][0]])\n",
    "    return data\n",
    "\n",
    "def AssingMass(Pos_atom):\n",
    "    for i in range(len(Pos_atom)): #Change the atom name for atom mass\n",
    "        for j in range(len(Pos_atom[0])):\n",
    "            Pos_atom[i][j][3] = MassAtom(Pos_atom[i][j][3])\n",
    "    return Pos_atom\n",
    "\n",
    "def PositionAtom(Data_, n_atom):\n",
    "    Positions = []\n",
    "    for i in range(0, len(Data_), n_atom):\n",
    "        Positions.append(Data_[i:n_atom+i])\n",
    "    return Positions\n",
    "\n",
    "def MassAtom(At):\n",
    "    Atom = str(At)\n",
    "    if Atom == 'C':\n",
    "        return float(pt.C.mass)\n",
    "    elif Atom == 'O':\n",
    "        return float(pt.O.mass)\n",
    "    elif Atom == 'N':\n",
    "        return float(pt.N.mass)\n",
    "    elif Atom == 'F':\n",
    "        return float(pt.F.mass)\n",
    "    elif Atom == 'Cl':\n",
    "        return float(pt.Cl.mass)\n",
    "    else:\n",
    "        return None\n",
    "    \n",
    "def CM(Pos_mass):\n",
    "    Matrix = np.array(Pos_mass)\n",
    "    PositionCM = [float(0), float(0), float(0)]\n",
    "    M = 0\n",
    "    for i in range(len(Matrix)):\n",
    "        M += float(Matrix[i,3])\n",
    "        PositionCM[0] += float(Matrix[i,0])*float(Matrix[i,3])\n",
    "        PositionCM[1] += float(Matrix[i,1])*float(Matrix[i,3])\n",
    "        PositionCM[2] += float(Matrix[i,2])*float(Matrix[i,3])\n",
    "    return [PositionCM[0]/M, PositionCM[1]/M, PositionCM[2]/M]\n",
    "\n",
    "def TransformFloat(M):\n",
    "    P = M\n",
    "    for i in range(len(P)):\n",
    "        for j in range(len(P[i])):\n",
    "            P[i][j] = float(P[i][j])\n",
    "    return P"
   ]
  },
  {
   "cell_type": "markdown",
   "metadata": {},
   "source": [
    "Essa parte é vital para o funcionamente correto do código.\n",
    "\n",
    "Abaixo entre com o caminho da pasta com os arquivos .pdbqt e o correto número de átomos do ligante menos o número de hidrogênios.\n",
    "\n",
    "Exemplo: Luteolin possui a seguinte fórmula C15H10O6, ou seja, são (31 átomos - 10 átomos de hidrogênios) = 21 átomos"
   ]
  },
  {
   "cell_type": "code",
   "execution_count": 4,
   "metadata": {},
   "outputs": [],
   "source": [
    "path = r'C:\\SARSCOV2\\OAII\\LuteolinPLProPOOL\\LuteolinPLpro\\Teste\\Resultados'\n",
    "n_atom = 21"
   ]
  },
  {
   "cell_type": "markdown",
   "metadata": {},
   "source": [
    "Entre aqui com o nome do arquivo de referencial, isto é, o seu melhor resultado para ser o referencial do sistema que calcula o RMSD"
   ]
  },
  {
   "cell_type": "code",
   "execution_count": 5,
   "metadata": {},
   "outputs": [],
   "source": [
    "Referential_pos = r'\\proteina-ligante,60,23,15,.pdbqt'"
   ]
  },
  {
   "cell_type": "code",
   "execution_count": 6,
   "metadata": {},
   "outputs": [
    {
     "name": "stdout",
     "output_type": "stream",
     "text": [
      "Digite [S] para analisar todos os arquivos .pdbqt do diretório ou [N] para analisar apenas o seu referencial de RMSD: S\n"
     ]
    }
   ],
   "source": [
    "Referential = list(np.array(AssingMass(PositionAtom(CalcMassAtom(load(path + Referential_pos)), n_atom)), float)[0,:,:3])\n",
    "    \n",
    "Principal = np.zeros((1,5))\n",
    "    \n",
    "if str(input('Digite [S] para analisar todos os arquivos .pdbqt do diretório ou [N] para analisar apenas o seu referencial de RMSD: ')).upper() == 'S':\n",
    "    for root, directories, files in os.walk(path, topdown=False):\n",
    "        if root == path:\n",
    "            for name in files:\n",
    "                if name.find('pdbqt') != -1:\n",
    "                    Data_load = load(str(path + r'\\b'[0]+ name))\n",
    "                    Data_ = CalcMassAtom(Data_load)\n",
    "\n",
    "                    #Take de coordinates of atom and your name\n",
    "                    Pos_atom = PositionAtom(Data_, n_atom)\n",
    "                    Pos_atom = AssingMass(Pos_atom)\n",
    "\n",
    "                    CM_pos = [] #Calculate de center of mass\n",
    "                    for x in Pos_atom:\n",
    "                        CM_pos.append(CM(x))\n",
    "\n",
    "                    Array_pos_atom = np.array(Pos_atom, float)\n",
    "                    RMSD = []\n",
    "                    for j in range(len(CM_pos)):\n",
    "                        RMSD.append(rmsd.rmsd(Referential, list(Array_pos_atom[j,:,:3])))\n",
    "\n",
    "                    Energy = []\n",
    "                    for x in range(len(Data_load)):\n",
    "                        A = Data_load[x].split()\n",
    "                        if len(A) >= 3 and A[1] == 'VINA':\n",
    "                            Energy.append(float(A[3]))\n",
    "\n",
    "                    No_principal = []\n",
    "                    for i in range(len(RMSD)):\n",
    "                        No_principal.append([CM_pos[i][0], CM_pos[i][1], CM_pos[i][2] ,RMSD[i], Energy[i]])\n",
    "                    No_principal = np.array(No_principal)\n",
    "                    Principal = np.append(Principal, No_principal, axis=0) #add RMSD to principal\n",
    "                    \n",
    "else:\n",
    "    for root, directories, files in os.walk(path, topdown=False):\n",
    "        for name in files:\n",
    "            if name.find(Referential_pos[1:]) != -1:\n",
    "                Data_load = load(str(path + r'\\b'[0]+ name))\n",
    "                Data_ = CalcMassAtom(Data_load)\n",
    "                \n",
    "                #Take de coordinates of atom and your name\n",
    "                Pos_atom = PositionAtom(Data_, n_atom)\n",
    "                Pos_atom = AssingMass(Pos_atom)\n",
    "                \n",
    "                CM_pos = [] #Calculate de center of mass\n",
    "                for x in Pos_atom:\n",
    "                    CM_pos.append(CM(x))\n",
    "                        \n",
    "                Array_pos_atom = np.array(Pos_atom, float)\n",
    "                RMSD = []\n",
    "                for j in range(len(CM_pos)):\n",
    "                    RMSD.append(rmsd.rmsd(Referential, list(Array_pos_atom[j,:,:3])))\n",
    "                    \n",
    "                Energy = []\n",
    "                for x in range(len(Data_load)):\n",
    "                    A = Data_load[x].split()\n",
    "                    if len(A) >= 3 and A[1] == 'VINA':\n",
    "                        Energy.append(float(A[3]))\n",
    "                            \n",
    "                No_principal = []\n",
    "                for i in range(len(RMSD)):\n",
    "                    No_principal.append([CM_pos[i][0], CM_pos[i][1], CM_pos[i][2] ,RMSD[i], Energy[i]])\n",
    "                No_principal = np.array(No_principal)\n",
    "                Principal = np.append(Principal, No_principal, axis=0) #add RMSD to principal\n",
    "                \n",
    "Principal = np.delete(Principal, 0, 0)\n",
    "df = pd.DataFrame(Principal, columns=('x', 'y', 'z', 'RMSD', 'Energy'))\n",
    "df = df[df['Energy'] <=0]"
   ]
  },
  {
   "cell_type": "markdown",
   "metadata": {},
   "source": [
    "Informações sobre o DataFrame."
   ]
  },
  {
   "cell_type": "code",
   "execution_count": 7,
   "metadata": {
    "scrolled": true
   },
   "outputs": [
    {
     "name": "stdout",
     "output_type": "stream",
     "text": [
      "<class 'pandas.core.frame.DataFrame'>\n",
      "Int64Index: 3363 entries, 0 to 3362\n",
      "Data columns (total 5 columns):\n",
      " #   Column  Non-Null Count  Dtype  \n",
      "---  ------  --------------  -----  \n",
      " 0   x       3363 non-null   float64\n",
      " 1   y       3363 non-null   float64\n",
      " 2   z       3363 non-null   float64\n",
      " 3   RMSD    3363 non-null   float64\n",
      " 4   Energy  3363 non-null   float64\n",
      "dtypes: float64(5)\n",
      "memory usage: 157.6 KB\n"
     ]
    }
   ],
   "source": [
    "df.info()"
   ]
  },
  {
   "cell_type": "code",
   "execution_count": 8,
   "metadata": {},
   "outputs": [
    {
     "data": {
      "text/html": [
       "<div>\n",
       "<style scoped>\n",
       "    .dataframe tbody tr th:only-of-type {\n",
       "        vertical-align: middle;\n",
       "    }\n",
       "\n",
       "    .dataframe tbody tr th {\n",
       "        vertical-align: top;\n",
       "    }\n",
       "\n",
       "    .dataframe thead th {\n",
       "        text-align: right;\n",
       "    }\n",
       "</style>\n",
       "<table border=\"1\" class=\"dataframe\">\n",
       "  <thead>\n",
       "    <tr style=\"text-align: right;\">\n",
       "      <th></th>\n",
       "      <th>x</th>\n",
       "      <th>y</th>\n",
       "      <th>z</th>\n",
       "      <th>RMSD</th>\n",
       "      <th>Energy</th>\n",
       "    </tr>\n",
       "  </thead>\n",
       "  <tbody>\n",
       "    <tr>\n",
       "      <th>count</th>\n",
       "      <td>3363.000000</td>\n",
       "      <td>3363.000000</td>\n",
       "      <td>3363.000000</td>\n",
       "      <td>3363.000000</td>\n",
       "      <td>3363.000000</td>\n",
       "    </tr>\n",
       "    <tr>\n",
       "      <th>mean</th>\n",
       "      <td>59.431411</td>\n",
       "      <td>33.216120</td>\n",
       "      <td>19.657752</td>\n",
       "      <td>34.093501</td>\n",
       "      <td>-4.347904</td>\n",
       "    </tr>\n",
       "    <tr>\n",
       "      <th>std</th>\n",
       "      <td>23.599018</td>\n",
       "      <td>18.789127</td>\n",
       "      <td>16.047603</td>\n",
       "      <td>11.292593</td>\n",
       "      <td>2.382548</td>\n",
       "    </tr>\n",
       "    <tr>\n",
       "      <th>min</th>\n",
       "      <td>14.137584</td>\n",
       "      <td>-5.355720</td>\n",
       "      <td>-12.828169</td>\n",
       "      <td>0.000000</td>\n",
       "      <td>-8.900000</td>\n",
       "    </tr>\n",
       "    <tr>\n",
       "      <th>25%</th>\n",
       "      <td>38.770648</td>\n",
       "      <td>17.177991</td>\n",
       "      <td>5.352823</td>\n",
       "      <td>25.872291</td>\n",
       "      <td>-5.900000</td>\n",
       "    </tr>\n",
       "    <tr>\n",
       "      <th>50%</th>\n",
       "      <td>60.188575</td>\n",
       "      <td>33.967457</td>\n",
       "      <td>19.632746</td>\n",
       "      <td>33.996668</td>\n",
       "      <td>-5.000000</td>\n",
       "    </tr>\n",
       "    <tr>\n",
       "      <th>75%</th>\n",
       "      <td>75.821287</td>\n",
       "      <td>48.508908</td>\n",
       "      <td>33.598267</td>\n",
       "      <td>40.883737</td>\n",
       "      <td>-3.000000</td>\n",
       "    </tr>\n",
       "    <tr>\n",
       "      <th>max</th>\n",
       "      <td>108.151367</td>\n",
       "      <td>71.592981</td>\n",
       "      <td>51.405386</td>\n",
       "      <td>69.362703</td>\n",
       "      <td>-0.000000</td>\n",
       "    </tr>\n",
       "  </tbody>\n",
       "</table>\n",
       "</div>"
      ],
      "text/plain": [
       "                 x            y            z         RMSD       Energy\n",
       "count  3363.000000  3363.000000  3363.000000  3363.000000  3363.000000\n",
       "mean     59.431411    33.216120    19.657752    34.093501    -4.347904\n",
       "std      23.599018    18.789127    16.047603    11.292593     2.382548\n",
       "min      14.137584    -5.355720   -12.828169     0.000000    -8.900000\n",
       "25%      38.770648    17.177991     5.352823    25.872291    -5.900000\n",
       "50%      60.188575    33.967457    19.632746    33.996668    -5.000000\n",
       "75%      75.821287    48.508908    33.598267    40.883737    -3.000000\n",
       "max     108.151367    71.592981    51.405386    69.362703    -0.000000"
      ]
     },
     "execution_count": 8,
     "metadata": {},
     "output_type": "execute_result"
    }
   ],
   "source": [
    "df.describe()"
   ]
  },
  {
   "cell_type": "markdown",
   "metadata": {},
   "source": [
    "__Gráficos__"
   ]
  },
  {
   "cell_type": "markdown",
   "metadata": {},
   "source": [
    "Gráfico de correlação"
   ]
  },
  {
   "cell_type": "code",
   "execution_count": 9,
   "metadata": {},
   "outputs": [
    {
     "data": {
      "image/png": "[encoded data removed]",
      "text/plain": [
       "<Figure size 576x576 with 2 Axes>"
      ]
     },
     "metadata": {
      "needs_background": "light"
     },
     "output_type": "display_data"
    }
   ],
   "source": [
    "plt.figure(figsize=(8, 8))\n",
    "corrplot(df.drop('RMSD', axis=1).corr(), size_scale=300)\n",
    "#plt.savefig('Correlacao'+'.png', dpi=600)"
   ]
  },
  {
   "cell_type": "markdown",
   "metadata": {},
   "source": [
    "Aqui, vamos trabalhar com clusters para energias <=-7.5, <=-8.0, <=-8.5."
   ]
  },
  {
   "cell_type": "markdown",
   "metadata": {},
   "source": [
    "Gráfico da distribuição espacial dos pontos nos intervalos. Fique avontade para modificar o termo (abs(i) * 3), pois ele modifica o tamanho dos pontos do gráfico."
   ]
  },
  {
   "cell_type": "code",
   "execution_count": 13,
   "metadata": {},
   "outputs": [
    {
     "data": {
      "application/vnd.plotly.v1+json": {
       "config": {
        "plotlyServerURL": "https://plotly.com"
       },
       "data": [
        {
         "hovertemplate": "x=%{x}<br>y=%{y}<br>z=%{z}<br>size=%{marker.size}<br>Energy=%{marker.color}<extra></extra>",
         "legendgroup": "",
         "marker": {
          "color": [
           -8.3,
           -7.8,
           -7.7,
           -7.7,
           -7.6,
           -7.6,
           -7.5,
           -7.5,
           -7.6,
           -7.6,
           -7.5,
           -8.3,
           -8.2,
           -8.2,
           -8.1,
           -8,
           -7.9,
           -7.9,
           -7.8,
           -7.7,
           -7.9,
           -7.8,
           -8.4,
           -8.2,
           -8.1,
           -8,
           -8,
           -7.8,
           -7.7,
           -7.7,
           -7.7,
           -8,
           -8,
           -8.7,
           -8,
           -7.7,
           -7.5,
           -8,
           -8,
           -7.7,
           -7.6,
           -7.5,
           -7.7,
           -7.5,
           -8.1,
           -7.7,
           -7.5,
           -8.3,
           -8,
           -8,
           -7.9,
           -7.9,
           -7.9,
           -7.8,
           -7.8,
           -7.6,
           -8.3,
           -8.3,
           -8.1,
           -8,
           -8,
           -7.9,
           -7.8,
           -7.7,
           -7.6,
           -8.3,
           -8.1,
           -8.1,
           -8,
           -7.9,
           -7.8,
           -7.8,
           -7.6,
           -7.6,
           -8.6,
           -7.9,
           -7.6,
           -8.4,
           -8.2,
           -7.8,
           -7.8,
           -7.8,
           -7.7,
           -7.7,
           -7.5,
           -7.5,
           -8.4,
           -8.4,
           -8.2,
           -8.2,
           -7.9,
           -7.9,
           -7.8,
           -7.7,
           -7.7,
           -8.4,
           -8,
           -7.8,
           -7.6,
           -7.5,
           -7.9,
           -7.5,
           -8.7,
           -8.1,
           -7.8,
           -7.8,
           -7.8,
           -8,
           -7.8,
           -7.8,
           -7.6,
           -7.5,
           -8.6,
           -8.4,
           -8.2,
           -8,
           -8,
           -7.9,
           -7.9,
           -7.8,
           -7.8,
           -8.4,
           -7.7,
           -7.7,
           -7.6,
           -8.8,
           -8,
           -7.9,
           -7.8,
           -8.2,
           -7.5,
           -7.5,
           -7.5,
           -7.5,
           -8.3,
           -8.2,
           -8.1,
           -8,
           -7.9,
           -7.9,
           -7.9,
           -7.8,
           -7.8,
           -8.2,
           -8.3,
           -8.2,
           -8,
           -8,
           -8,
           -7.8,
           -7.8,
           -7.7,
           -7.7,
           -8,
           -7.5,
           -7.6,
           -8.9,
           -8.8,
           -8.3,
           -8.3,
           -8.3,
           -8.3,
           -8.3,
           -8.3,
           -8.2,
           -8.9,
           -8.4,
           -8.3,
           -8.2,
           -8.2,
           -8.2,
           -8.2,
           -8,
           -8,
           -8.4,
           -8.3,
           -8.1,
           -8.1,
           -8,
           -7.7,
           -7.6,
           -7.5,
           -8.7,
           -8.4,
           -8.3,
           -8.2,
           -7.9,
           -7.9,
           -7.6,
           -7.6,
           -7.6,
           -8.7,
           -8.7,
           -8.3,
           -8,
           -8,
           -7.9,
           -7.9,
           -7.9,
           -7.8,
           -7.7,
           -8.5,
           -8.2,
           -8.1,
           -8,
           -7.8,
           -7.7,
           -7.7,
           -7.7,
           -7.6,
           -8.5,
           -8.4,
           -8.2,
           -8,
           -7.9,
           -7.7,
           -7.6,
           -7.6,
           -8.4
          ],
          "coloraxis": "coloraxis",
          "size": [
           477812028418992400000,
           118067008774342160000,
           88316391576431970000,
           88316391576431970000,
           65812111726441734000,
           65812111726441734000,
           48851558819545600000,
           48851558819545600000,
           65812111726441734000,
           65812111726441734000,
           48851558819545600000,
           477812028418992400000,
           363757267325135550000,
           363757267325135550000,
           276002442101272440000,
           208701085205324530000,
           157256843459542970000,
           157256843459542970000,
           118067008774342160000,
           88316391576431970000,
           157256843459542970000,
           118067008774342160000,
           625581556635839900000,
           363757267325135550000,
           276002442101272440000,
           208701085205324530000,
           208701085205324530000,
           118067008774342160000,
           88316391576431970000,
           88316391576431970000,
           88316391576431970000,
           208701085205324530000,
           208701085205324530000,
           1.37779049364017e+21,
           208701085205324530000,
           88316391576431970000,
           48851558819545600000,
           208701085205324530000,
           208701085205324530000,
           88316391576431970000,
           65812111726441734000,
           48851558819545600000,
           88316391576431970000,
           48851558819545600000,
           276002442101272440000,
           88316391576431970000,
           48851558819545600000,
           477812028418992400000,
           208701085205324530000,
           208701085205324530000,
           157256843459542970000,
           157256843459542970000,
           157256843459542970000,
           118067008774342160000,
           118067008774342160000,
           65812111726441734000,
           477812028418992400000,
           477812028418992400000,
           276002442101272440000,
           208701085205324530000,
           208701085205324530000,
           157256843459542970000,
           118067008774342160000,
           88316391576431970000,
           65812111726441734000,
           477812028418992400000,
           276002442101272440000,
           276002442101272440000,
           208701085205324530000,
           157256843459542970000,
           118067008774342160000,
           118067008774342160000,
           65812111726441734000,
           65812111726441734000,
           1.0622216600262244e+21,
           157256843459542970000,
           65812111726441734000,
           625581556635839900000,
           363757267325135550000,
           118067008774342160000,
           118067008774342160000,
           118067008774342160000,
           88316391576431970000,
           88316391576431970000,
           48851558819545600000,
           48851558819545600000,
           625581556635839900000,
           625581556635839900000,
           363757267325135550000,
           363757267325135550000,
           157256843459542970000,
           157256843459542970000,
           118067008774342160000,
           88316391576431970000,
           88316391576431970000,
           625581556635839900000,
           208701085205324530000,
           118067008774342160000,
           65812111726441734000,
           48851558819545600000,
           157256843459542970000,
           48851558819545600000,
           1.37779049364017e+21,
           276002442101272440000,
           118067008774342160000,
           118067008774342160000,
           118067008774342160000,
           208701085205324530000,
           118067008774342160000,
           118067008774342160000,
           65812111726441734000,
           48851558819545600000,
           1.0622216600262244e+21,
           625581556635839900000,
           363757267325135550000,
           208701085205324530000,
           208701085205324530000,
           157256843459542970000,
           157256843459542970000,
           118067008774342160000,
           118067008774342160000,
           625581556635839900000,
           88316391576431970000,
           88316391576431970000,
           65812111726441734000,
           1.7818047952120098e+21,
           208701085205324530000,
           157256843459542970000,
           118067008774342160000,
           363757267325135550000,
           48851558819545600000,
           48851558819545600000,
           48851558819545600000,
           48851558819545600000,
           477812028418992400000,
           363757267325135550000,
           276002442101272440000,
           208701085205324530000,
           157256843459542970000,
           157256843459542970000,
           157256843459542970000,
           118067008774342160000,
           118067008774342160000,
           363757267325135550000,
           477812028418992400000,
           363757267325135550000,
           208701085205324530000,
           208701085205324530000,
           208701085205324530000,
           118067008774342160000,
           118067008774342160000,
           88316391576431970000,
           88316391576431970000,
           208701085205324530000,
           48851558819545600000,
           65812111726441734000,
           2.2976038458648554e+21,
           1.7818047952120098e+21,
           477812028418992400000,
           477812028418992400000,
           477812028418992400000,
           477812028418992400000,
           477812028418992400000,
           477812028418992400000,
           363757267325135550000,
           2.2976038458648554e+21,
           625581556635839900000,
           477812028418992400000,
           363757267325135550000,
           363757267325135550000,
           363757267325135550000,
           363757267325135550000,
           208701085205324530000,
           208701085205324530000,
           625581556635839900000,
           477812028418992400000,
           276002442101272440000,
           276002442101272440000,
           208701085205324530000,
           88316391576431970000,
           65812111726441734000,
           48851558819545600000,
           1.37779049364017e+21,
           625581556635839900000,
           477812028418992400000,
           363757267325135550000,
           157256843459542970000,
           157256843459542970000,
           65812111726441734000,
           65812111726441734000,
           65812111726441734000,
           1.37779049364017e+21,
           1.37779049364017e+21,
           477812028418992400000,
           208701085205324530000,
           208701085205324530000,
           157256843459542970000,
           157256843459542970000,
           157256843459542970000,
           118067008774342160000,
           88316391576431970000,
           816442922409288500000,
           363757267325135550000,
           276002442101272440000,
           208701085205324530000,
           118067008774342160000,
           88316391576431970000,
           88316391576431970000,
           88316391576431970000,
           65812111726441734000,
           816442922409288500000,
           625581556635839900000,
           363757267325135550000,
           208701085205324530000,
           157256843459542970000,
           88316391576431970000,
           65812111726441734000,
           65812111726441734000,
           625581556635839900000
          ],
          "sizemode": "area",
          "sizeref": 5744009614662139000,
          "symbol": "circle"
         },
         "mode": "markers",
         "name": "",
         "scene": "scene",
         "showlegend": false,
         "type": "scatter3d",
         "x": [
          25.38624171331588,
          24.67833194969961,
          25.443587590967315,
          23.299579686765025,
          23.747247069329074,
          21.633431203783072,
          22.790558944571007,
          24.558335293088824,
          23.31029000723864,
          21.622271516663172,
          22.84970900202023,
          25.386473618439375,
          34.04838042685156,
          32.36382507878674,
          33.279653375309486,
          33.33839962861692,
          33.176432932148366,
          33.71236475641203,
          24.664745000034404,
          25.375889776065712,
          44.59360688434728,
          44.43714107089124,
          44.26566521785261,
          44.785007407383276,
          44.35332715278887,
          41.36295920978257,
          43.5097261958691,
          44.713327885705546,
          43.722250181328086,
          44.31566987498774,
          45.50135793456547,
          41.10100625513975,
          41.06523599555182,
          45.700641590342315,
          44.646537944552534,
          45.38549470536497,
          43.968440269643814,
          43.77365273400739,
          45.23285404529094,
          45.602743319830154,
          44.18703808813034,
          44.76221887629823,
          45.59533889900995,
          44.31333974056053,
          44.59800207780433,
          45.198218748834464,
          43.95149707503235,
          46.30150873434632,
          45.672405455014896,
          38.61540441611274,
          45.636512906974275,
          45.65385692119228,
          45.83943174115875,
          45.88753666955272,
          44.729109219070764,
          46.833343088657216,
          33.880429501852035,
          34.15329053519938,
          33.31074734797502,
          33.29005892193895,
          33.274555762684194,
          33.74919062569141,
          33.57797028355982,
          33.89858122719367,
          33.12310334451176,
          46.2873644598415,
          45.839307509969885,
          47.10641982872781,
          46.82800608892989,
          45.94316944244377,
          44.73480638796279,
          45.27635705245822,
          45.88812627785148,
          57.61547573969727,
          57.138952901774324,
          56.678948449595154,
          57.42609201291006,
          44.29947486700497,
          44.75857038480662,
          44.85878281332098,
          44.41478415820862,
          42.61108253242994,
          45.67637519359466,
          42.68535620149272,
          43.7495676657002,
          43.344040585261496,
          53.796003439711285,
          56.50688384393076,
          49.17954292939992,
          57.282461619101326,
          55.18082923439539,
          55.33144602325707,
          55.12147972438857,
          56.4680233649784,
          54.11614798905986,
          53.8635816682473,
          53.68643723224008,
          55.33236420672451,
          54.50232899449552,
          54.48153383710492,
          42.20203410343903,
          43.816443137940794,
          45.803475211736526,
          44.61413400823953,
          45.269902173003835,
          45.703733690159474,
          45.19870417867524,
          45.311017678356045,
          44.19581032159618,
          45.839876057777296,
          44.188720651919255,
          44.710785568276584,
          55.78854149760517,
          53.7788880524079,
          49.18841245248627,
          56.47075035134013,
          56.32467324010373,
          55.18002805325525,
          56.251863193351326,
          55.1165108726235,
          45.860037521423514,
          53.924943404274885,
          54.24460944665877,
          54.59674898943319,
          52.60896693546316,
          45.78648642528941,
          44.58003467956079,
          45.26163081313558,
          45.195716361242475,
          47.57520696857477,
          45.93694804439072,
          45.79699976390235,
          46.56350640813249,
          46.96407482376865,
          46.30468270356454,
          47.58165601221624,
          45.755481640690505,
          46.79852622005824,
          45.72429897677735,
          47.213252953303,
          45.8239690614285,
          46.45254403348242,
          47.238331024138816,
          47.5820763301587,
          46.30501587539548,
          47.56427789455923,
          45.76914475430454,
          46.789134627814846,
          45.70994780829305,
          46.546994207640665,
          45.95659631209651,
          45.51331787726472,
          47.95406157586503,
          58.016322006439104,
          62.22193313330214,
          60.163234419273984,
          60.48576860111047,
          57.437527027570205,
          59.77982771569352,
          59.635157592296274,
          59.448267833249865,
          59.05280321078343,
          62.956488310449615,
          61.705549271446785,
          62.01954210016118,
          60.46478401372554,
          61.726958467450956,
          62.989303289180896,
          61.867055932696246,
          59.94912973458205,
          65.66868366787143,
          59.7210823057472,
          59.72291432442934,
          62.98740213335247,
          66.30863032392094,
          59.58483604863758,
          59.34380962742558,
          58.78893403242868,
          61.190383722079744,
          61.912675457683676,
          61.95026310151946,
          64.02451454843242,
          55.785433862416625,
          56.50524574146074,
          57.244618076173374,
          53.88664428772195,
          55.17001700120476,
          55.35947507196092,
          54.76127712579335,
          55.13200419435474,
          54.62832850998834,
          55.82540142216257,
          55.823329688666135,
          53.96230691682881,
          56.460939571671055,
          56.32165750448387,
          56.08333977170225,
          56.24658828043045,
          55.77232689496442,
          55.10435086249882,
          56.78485442876859,
          66.42648720165965,
          65.77163369374442,
          65.99075685488938,
          64.59846884325542,
          65.26322120251206,
          65.31609061225703,
          65.564947711971,
          66.71792089026204,
          65.71125250754191,
          66.39854562207212,
          66.4092523677663,
          65.63811988293611,
          64.67596186370865,
          65.79090941888472,
          65.31396368839597,
          67.87472423611364,
          65.29513950402834,
          66.31075459385589
         ],
         "y": [
          63.06467366413805,
          64.07819312282257,
          63.73453310418826,
          65.11658687506997,
          66.07143027061791,
          68.5103125599976,
          65.1797312288775,
          62.942301399313216,
          65.1290516543313,
          68.53656084675055,
          66.55441937536236,
          63.067847956361035,
          67.35701451348855,
          67.10369952154012,
          62.99553672242121,
          67.31473842659737,
          66.94856553502737,
          65.36165554472838,
          64.00859980467627,
          63.70713763588744,
          30.16622032040482,
          30.122387354435112,
          31.041428144652556,
          31.74876913848614,
          30.97046515042717,
          32.80565939905901,
          32.37874509635646,
          32.49005454435505,
          33.0243256029453,
          30.818373757092445,
          40.08589247815282,
          32.803488498386244,
          37.1550517770876,
          47.61245225667004,
          47.07320449317038,
          47.26958581444099,
          46.7287358907201,
          39.3099134253028,
          40.305326964852235,
          44.80416056922713,
          41.04431875937193,
          40.192628573828856,
          44.794770753510065,
          39.74072845219512,
          47.01127703417877,
          46.88512717227055,
          46.7029677958436,
          58.250131747206034,
          58.9583044461319,
          50.43595076349715,
          57.61837520119903,
          59.135893512347515,
          56.91622624312484,
          58.050718024427425,
          57.60417784998311,
          57.89006907486289,
          67.85168298311577,
          67.32610182110244,
          66.42990369641318,
          67.01728190097731,
          67.19214526995344,
          65.46898952407129,
          62.62517574574454,
          67.42552576198533,
          63.152861124961944,
          58.25021743979601,
          59.34712676235864,
          58.33589084140213,
          57.79058595892409,
          58.22491813530642,
          57.61881611395552,
          60.15638505755242,
          58.56588486581361,
          11.753135553375639,
          23.50821515232826,
          23.969973911207724,
          23.025622894810883,
          31.039762447000243,
          31.80155506851359,
          32.67937246507331,
          30.785691079962156,
          32.83255314750419,
          40.20734500495915,
          33.959232782523266,
          36.45244553404244,
          34.125782560204016,
          40.40100209011617,
          36.78846890372829,
          39.14888451637457,
          36.997646500594406,
          38.78670097976912,
          39.57385601735826,
          38.913627906092515,
          39.39383179670688,
          39.27272587286431,
          40.39737762373491,
          38.92161989144577,
          39.578872237485285,
          39.204794236537275,
          39.39506635575646,
          33.010990331583244,
          35.54210112693183,
          47.742406664834384,
          47.04581435444851,
          47.21873952597238,
          47.39700289002375,
          46.78993520639898,
          40.284600101246795,
          40.34222350229164,
          44.09016714737166,
          41.05553702840668,
          40.180336956273784,
          40.65175078768628,
          40.38435019005501,
          39.144667054851794,
          40.055809094757365,
          39.70216317028472,
          38.78623313196232,
          39.595725038918104,
          38.936063959654824,
          44.11527374365805,
          40.38694173167501,
          39.210666693100926,
          39.15158992659608,
          39.364430230061245,
          47.64440488830807,
          47.008004382291375,
          47.31602129188154,
          46.75154280664363,
          59.81482517981626,
          44.57611947773169,
          58.53642617077466,
          59.11772503421064,
          58.927837169739384,
          58.253725872864315,
          59.85052460974178,
          59.23802468813925,
          57.82424367307137,
          58.532507616141416,
          57.708992701250644,
          56.90832847884665,
          58.82800417262796,
          57.039128124265595,
          59.860047486410814,
          58.249813018975814,
          59.836138185574946,
          59.21021778452757,
          57.839245288095285,
          58.44123383373727,
          58.84229837422133,
          57.8223038435759,
          58.00508885275001,
          58.5444976171155,
          11.793330426290273,
          13.374400183011906,
          22.30089494884974,
          23.419552291831202,
          23.533291682735435,
          24.043420274488895,
          24.790451584226215,
          23.035306562682305,
          24.152773747460234,
          23.617232433084236,
          23.574918593379348,
          22.791096788094016,
          23.426755955762832,
          23.76076755750083,
          23.633597560662075,
          22.701260835778502,
          22.575272198521926,
          25.723126784085427,
          23.874126596148788,
          23.312738421889875,
          24.781993718426012,
          26.58321554051339,
          24.812342334013742,
          25.426170215917114,
          25.164974805626805,
          24.442744638283536,
          24.549549568017312,
          23.927970191945235,
          26.90687012564235,
          40.58757931089175,
          36.78419399080741,
          36.975690315903755,
          40.30114717213294,
          38.80619190069124,
          39.584117940199945,
          38.39722304421872,
          39.12323439754719,
          39.177412727330015,
          40.61985616184134,
          40.6340804064646,
          40.37414652612338,
          40.0473594051063,
          39.66458219620803,
          39.715074081437045,
          39.60067960858484,
          39.2663807545638,
          38.909019659838314,
          37.377158120257,
          24.36036854556233,
          24.88788768124208,
          25.879224104847648,
          24.950632994866325,
          25.148387615156462,
          24.769323901014246,
          25.60006499384951,
          26.8597851225155,
          23.875067281317257,
          24.364657417576748,
          26.604203842453337,
          25.75344841935871,
          24.941314589640893,
          24.740750136969243,
          24.79185459968591,
          29.476793380864287,
          23.933623401044844,
          26.614762136307302
         ],
         "z": [
          -10.804331045865597,
          -10.397694109761517,
          -9.895480763290726,
          -0.312366436616286,
          -2.7688188547887096,
          0.3059344999165331,
          -7.44516546245993,
          -10.030612375428609,
          -0.31467023673860783,
          0.33311040716346396,
          -1.144722442567975,
          -10.807707871503483,
          -10.331365171031397,
          -9.95680708684085,
          -10.723625457122385,
          -10.300327825232685,
          -10.082459589458022,
          -10.781115204074206,
          -10.333173655628379,
          -9.86617454063252,
          13.967206527521133,
          14.396938253217646,
          14.609974822646114,
          14.671947027215326,
          14.035580974076694,
          13.15688950592942,
          14.314024251793095,
          13.969735331617645,
          13.936769203666469,
          13.957071401076709,
          15.564029733459499,
          12.98804596300147,
          11.839786038661352,
          -8.010812922653754,
          -9.213789574694678,
          -10.656294712534796,
          -9.994520528728417,
          14.60964722119926,
          15.340530850759123,
          17.989764004448197,
          15.485914770190426,
          15.987932195429487,
          17.992128486016465,
          25.429211167636954,
          -9.250282433645513,
          -9.333666090544904,
          -10.00295399825244,
          5.640398515119484,
          6.95796605806337,
          3.4316991721010788,
          6.245087425662732,
          6.847631733988903,
          4.936020445623485,
          6.082075609553844,
          6.351688054870257,
          5.483053112560288,
          -10.296788846485459,
          -10.310901522286793,
          -10.163409227145873,
          -10.037689739781987,
          -10.343882011639039,
          -10.75085408874448,
          -10.932171498521312,
          -10.147518009870476,
          -10.68108347971751,
          5.630950601994736,
          6.875555268762071,
          5.347736300631996,
          5.775817471154987,
          6.109733000696345,
          6.381310260218014,
          8.362409039209235,
          5.742929768186129,
          13.392147552713695,
          16.47568487769091,
          16.08066436217962,
          16.849759282132737,
          14.628833293681964,
          14.698403176962085,
          13.939332272704394,
          13.946175374578726,
          13.531192175534999,
          15.506044569952808,
          13.60108857790626,
          14.555180848640758,
          14.421225707559728,
          28.960787593212416,
          24.449184724698178,
          27.245970483808303,
          25.652244135851763,
          25.923900225560185,
          27.826068669658447,
          26.476776767844658,
          26.782750862281556,
          27.467382989163053,
          28.929716182720774,
          27.58578556827659,
          27.88813862662856,
          27.520581733427633,
          27.181912321220302,
          13.35599287216796,
          13.937280290660857,
          -8.11613924149641,
          -9.197484482553216,
          -9.793028590630907,
          -8.248249578772068,
          -9.246643178931977,
          15.233801726120191,
          14.984730421365539,
          17.756881264599947,
          15.501767911647327,
          15.999613305696872,
          28.50691837611156,
          28.926526962389865,
          27.24349222996058,
          26.741393416930745,
          26.174897807731767,
          25.909901679081717,
          26.856905128207917,
          26.5089333864191,
          17.75109300365119,
          28.9025857058071,
          27.259496115432935,
          27.46178329782816,
          28.431442470204452,
          -8.122137303467705,
          -9.223236841809856,
          -9.72634683435395,
          -9.207602109163307,
          7.958579525262633,
          17.857006385500423,
          8.09277192748036,
          7.957065116605813,
          7.743890588285139,
          5.646891535572714,
          7.966575164698042,
          6.897944922976758,
          5.812686025226964,
          6.4512288148512695,
          5.437708500493742,
          4.94526776336206,
          7.175546364403717,
          4.867797628087512,
          7.97882199792944,
          5.652152327897657,
          7.928790365187329,
          6.91039025206323,
          5.841874115041125,
          6.36929482587616,
          7.2260389003497645,
          6.105202856419667,
          5.621659722063798,
          5.14103043233756,
          13.460758221503792,
          34.69622073502419,
          -3.0185502140268814,
          18.576984269087614,
          16.284491641526973,
          18.32201121355288,
          17.472050502087768,
          17.607085675570666,
          17.999931221707662,
          17.776851618047573,
          17.583406934970668,
          16.808546617520694,
          18.55564948223275,
          17.094757544352504,
          17.764466001392687,
          16.846064164610777,
          17.905793132454782,
          17.40927620494002,
          17.68060332658717,
          18.024976242129025,
          17.903285393557073,
          18.40680674681676,
          17.480628800511596,
          16.95452499321944,
          17.52515701146703,
          17.780442518365472,
          17.584891902031057,
          17.424350483728634,
          18.579442561819032,
          28.424746344922042,
          24.438966617165818,
          25.681171110336194,
          28.811027643343337,
          25.945987048666908,
          27.849054872067295,
          25.887225288232894,
          25.668359474994112,
          27.4205059623714,
          28.45755599407439,
          28.470034893931675,
          28.8608176109306,
          26.75095865538757,
          26.154144156455992,
          27.569204594199896,
          26.87158785349923,
          26.050593033887623,
          26.478879649576026,
          25.06529346396922,
          16.284162254138867,
          16.908564614174047,
          17.460773585957842,
          18.488428882276708,
          17.81282774212776,
          17.82787273611487,
          17.77023888086809,
          18.368796960351165,
          16.90601824977033,
          16.2931953404025,
          18.38300944173403,
          17.41608666160433,
          18.48858921540617,
          17.42713941241374,
          17.80968884536291,
          21.992905005451618,
          17.116505186001152,
          18.390224895340296
         ]
        }
       ],
       "layout": {
        "coloraxis": {
         "colorbar": {
          "title": {
           "text": "Energy"
          }
         },
         "colorscale": [
          [
           0,
           "#0d0887"
          ],
          [
           0.1111111111111111,
           "#46039f"
          ],
          [
           0.2222222222222222,
           "#7201a8"
          ],
          [
           0.3333333333333333,
           "#9c179e"
          ],
          [
           0.4444444444444444,
           "#bd3786"
          ],
          [
           0.5555555555555556,
           "#d8576b"
          ],
          [
           0.6666666666666666,
           "#ed7953"
          ],
          [
           0.7777777777777778,
           "#fb9f3a"
          ],
          [
           0.8888888888888888,
           "#fdca26"
          ],
          [
           1,
           "#f0f921"
          ]
         ]
        },
        "legend": {
         "itemsizing": "constant",
         "tracegroupgap": 0
        },
        "margin": {
         "t": 60
        },
        "scene": {
         "domain": {
          "x": [
           0,
           1
          ],
          "y": [
           0,
           1
          ]
         },
         "xaxis": {
          "title": {
           "text": "x"
          }
         },
         "yaxis": {
          "title": {
           "text": "y"
          }
         },
         "zaxis": {
          "title": {
           "text": "z"
          }
         }
        },
        "template": {
         "data": {
          "bar": [
           {
            "error_x": {
             "color": "#2a3f5f"
            },
            "error_y": {
             "color": "#2a3f5f"
            },
            "marker": {
             "line": {
              "color": "#E5ECF6",
              "width": 0.5
             }
            },
            "type": "bar"
           }
          ],
          "barpolar": [
           {
            "marker": {
             "line": {
              "color": "#E5ECF6",
              "width": 0.5
             }
            },
            "type": "barpolar"
           }
          ],
          "carpet": [
           {
            "aaxis": {
             "endlinecolor": "#2a3f5f",
             "gridcolor": "white",
             "linecolor": "white",
             "minorgridcolor": "white",
             "startlinecolor": "#2a3f5f"
            },
            "baxis": {
             "endlinecolor": "#2a3f5f",
             "gridcolor": "white",
             "linecolor": "white",
             "minorgridcolor": "white",
             "startlinecolor": "#2a3f5f"
            },
            "type": "carpet"
           }
          ],
          "choropleth": [
           {
            "colorbar": {
             "outlinewidth": 0,
             "ticks": ""
            },
            "type": "choropleth"
           }
          ],
          "contour": [
           {
            "colorbar": {
             "outlinewidth": 0,
             "ticks": ""
            },
            "colorscale": [
             [
              0,
              "#0d0887"
             ],
             [
              0.1111111111111111,
              "#46039f"
             ],
             [
              0.2222222222222222,
              "#7201a8"
             ],
             [
              0.3333333333333333,
              "#9c179e"
             ],
             [
              0.4444444444444444,
              "#bd3786"
             ],
             [
              0.5555555555555556,
              "#d8576b"
             ],
             [
              0.6666666666666666,
              "#ed7953"
             ],
             [
              0.7777777777777778,
              "#fb9f3a"
             ],
             [
              0.8888888888888888,
              "#fdca26"
             ],
             [
              1,
              "#f0f921"
             ]
            ],
            "type": "contour"
           }
          ],
          "contourcarpet": [
           {
            "colorbar": {
             "outlinewidth": 0,
             "ticks": ""
            },
            "type": "contourcarpet"
           }
          ],
          "heatmap": [
           {
            "colorbar": {
             "outlinewidth": 0,
             "ticks": ""
            },
            "colorscale": [
             [
              0,
              "#0d0887"
             ],
             [
              0.1111111111111111,
              "#46039f"
             ],
             [
              0.2222222222222222,
              "#7201a8"
             ],
             [
              0.3333333333333333,
              "#9c179e"
             ],
             [
              0.4444444444444444,
              "#bd3786"
             ],
             [
              0.5555555555555556,
              "#d8576b"
             ],
             [
              0.6666666666666666,
              "#ed7953"
             ],
             [
              0.7777777777777778,
              "#fb9f3a"
             ],
             [
              0.8888888888888888,
              "#fdca26"
             ],
             [
              1,
              "#f0f921"
             ]
            ],
            "type": "heatmap"
           }
          ],
          "heatmapgl": [
           {
            "colorbar": {
             "outlinewidth": 0,
             "ticks": ""
            },
            "colorscale": [
             [
              0,
              "#0d0887"
             ],
             [
              0.1111111111111111,
              "#46039f"
             ],
             [
              0.2222222222222222,
              "#7201a8"
             ],
             [
              0.3333333333333333,
              "#9c179e"
             ],
             [
              0.4444444444444444,
              "#bd3786"
             ],
             [
              0.5555555555555556,
              "#d8576b"
             ],
             [
              0.6666666666666666,
              "#ed7953"
             ],
             [
              0.7777777777777778,
              "#fb9f3a"
             ],
             [
              0.8888888888888888,
              "#fdca26"
             ],
             [
              1,
              "#f0f921"
             ]
            ],
            "type": "heatmapgl"
           }
          ],
          "histogram": [
           {
            "marker": {
             "colorbar": {
              "outlinewidth": 0,
              "ticks": ""
             }
            },
            "type": "histogram"
           }
          ],
          "histogram2d": [
           {
            "colorbar": {
             "outlinewidth": 0,
             "ticks": ""
            },
            "colorscale": [
             [
              0,
              "#0d0887"
             ],
             [
              0.1111111111111111,
              "#46039f"
             ],
             [
              0.2222222222222222,
              "#7201a8"
             ],
             [
              0.3333333333333333,
              "#9c179e"
             ],
             [
              0.4444444444444444,
              "#bd3786"
             ],
             [
              0.5555555555555556,
              "#d8576b"
             ],
             [
              0.6666666666666666,
              "#ed7953"
             ],
             [
              0.7777777777777778,
              "#fb9f3a"
             ],
             [
              0.8888888888888888,
              "#fdca26"
             ],
             [
              1,
              "#f0f921"
             ]
            ],
            "type": "histogram2d"
           }
          ],
          "histogram2dcontour": [
           {
            "colorbar": {
             "outlinewidth": 0,
             "ticks": ""
            },
            "colorscale": [
             [
              0,
              "#0d0887"
             ],
             [
              0.1111111111111111,
              "#46039f"
             ],
             [
              0.2222222222222222,
              "#7201a8"
             ],
             [
              0.3333333333333333,
              "#9c179e"
             ],
             [
              0.4444444444444444,
              "#bd3786"
             ],
             [
              0.5555555555555556,
              "#d8576b"
             ],
             [
              0.6666666666666666,
              "#ed7953"
             ],
             [
              0.7777777777777778,
              "#fb9f3a"
             ],
             [
              0.8888888888888888,
              "#fdca26"
             ],
             [
              1,
              "#f0f921"
             ]
            ],
            "type": "histogram2dcontour"
           }
          ],
          "mesh3d": [
           {
            "colorbar": {
             "outlinewidth": 0,
             "ticks": ""
            },
            "type": "mesh3d"
           }
          ],
          "parcoords": [
           {
            "line": {
             "colorbar": {
              "outlinewidth": 0,
              "ticks": ""
             }
            },
            "type": "parcoords"
           }
          ],
          "pie": [
           {
            "automargin": true,
            "type": "pie"
           }
          ],
          "scatter": [
           {
            "marker": {
             "colorbar": {
              "outlinewidth": 0,
              "ticks": ""
             }
            },
            "type": "scatter"
           }
          ],
          "scatter3d": [
           {
            "line": {
             "colorbar": {
              "outlinewidth": 0,
              "ticks": ""
             }
            },
            "marker": {
             "colorbar": {
              "outlinewidth": 0,
              "ticks": ""
             }
            },
            "type": "scatter3d"
           }
          ],
          "scattercarpet": [
           {
            "marker": {
             "colorbar": {
              "outlinewidth": 0,
              "ticks": ""
             }
            },
            "type": "scattercarpet"
           }
          ],
          "scattergeo": [
           {
            "marker": {
             "colorbar": {
              "outlinewidth": 0,
              "ticks": ""
             }
            },
            "type": "scattergeo"
           }
          ],
          "scattergl": [
           {
            "marker": {
             "colorbar": {
              "outlinewidth": 0,
              "ticks": ""
             }
            },
            "type": "scattergl"
           }
          ],
          "scattermapbox": [
           {
            "marker": {
             "colorbar": {
              "outlinewidth": 0,
              "ticks": ""
             }
            },
            "type": "scattermapbox"
           }
          ],
          "scatterpolar": [
           {
            "marker": {
             "colorbar": {
              "outlinewidth": 0,
              "ticks": ""
             }
            },
            "type": "scatterpolar"
           }
          ],
          "scatterpolargl": [
           {
            "marker": {
             "colorbar": {
              "outlinewidth": 0,
              "ticks": ""
             }
            },
            "type": "scatterpolargl"
           }
          ],
          "scatterternary": [
           {
            "marker": {
             "colorbar": {
              "outlinewidth": 0,
              "ticks": ""
             }
            },
            "type": "scatterternary"
           }
          ],
          "surface": [
           {
            "colorbar": {
             "outlinewidth": 0,
             "ticks": ""
            },
            "colorscale": [
             [
              0,
              "#0d0887"
             ],
             [
              0.1111111111111111,
              "#46039f"
             ],
             [
              0.2222222222222222,
              "#7201a8"
             ],
             [
              0.3333333333333333,
              "#9c179e"
             ],
             [
              0.4444444444444444,
              "#bd3786"
             ],
             [
              0.5555555555555556,
              "#d8576b"
             ],
             [
              0.6666666666666666,
              "#ed7953"
             ],
             [
              0.7777777777777778,
              "#fb9f3a"
             ],
             [
              0.8888888888888888,
              "#fdca26"
             ],
             [
              1,
              "#f0f921"
             ]
            ],
            "type": "surface"
           }
          ],
          "table": [
           {
            "cells": {
             "fill": {
              "color": "#EBF0F8"
             },
             "line": {
              "color": "white"
             }
            },
            "header": {
             "fill": {
              "color": "#C8D4E3"
             },
             "line": {
              "color": "white"
             }
            },
            "type": "table"
           }
          ]
         },
         "layout": {
          "annotationdefaults": {
           "arrowcolor": "#2a3f5f",
           "arrowhead": 0,
           "arrowwidth": 1
          },
          "coloraxis": {
           "colorbar": {
            "outlinewidth": 0,
            "ticks": ""
           }
          },
          "colorscale": {
           "diverging": [
            [
             0,
             "#8e0152"
            ],
            [
             0.1,
             "#c51b7d"
            ],
            [
             0.2,
             "#de77ae"
            ],
            [
             0.3,
             "#f1b6da"
            ],
            [
             0.4,
             "#fde0ef"
            ],
            [
             0.5,
             "#f7f7f7"
            ],
            [
             0.6,
             "#e6f5d0"
            ],
            [
             0.7,
             "#b8e186"
            ],
            [
             0.8,
             "#7fbc41"
            ],
            [
             0.9,
             "#4d9221"
            ],
            [
             1,
             "#276419"
            ]
           ],
           "sequential": [
            [
             0,
             "#0d0887"
            ],
            [
             0.1111111111111111,
             "#46039f"
            ],
            [
             0.2222222222222222,
             "#7201a8"
            ],
            [
             0.3333333333333333,
             "#9c179e"
            ],
            [
             0.4444444444444444,
             "#bd3786"
            ],
            [
             0.5555555555555556,
             "#d8576b"
            ],
            [
             0.6666666666666666,
             "#ed7953"
            ],
            [
             0.7777777777777778,
             "#fb9f3a"
            ],
            [
             0.8888888888888888,
             "#fdca26"
            ],
            [
             1,
             "#f0f921"
            ]
           ],
           "sequentialminus": [
            [
             0,
             "#0d0887"
            ],
            [
             0.1111111111111111,
             "#46039f"
            ],
            [
             0.2222222222222222,
             "#7201a8"
            ],
            [
             0.3333333333333333,
             "#9c179e"
            ],
            [
             0.4444444444444444,
             "#bd3786"
            ],
            [
             0.5555555555555556,
             "#d8576b"
            ],
            [
             0.6666666666666666,
             "#ed7953"
            ],
            [
             0.7777777777777778,
             "#fb9f3a"
            ],
            [
             0.8888888888888888,
             "#fdca26"
            ],
            [
             1,
             "#f0f921"
            ]
           ]
          },
          "colorway": [
           "#636efa",
           "#EF553B",
           "#00cc96",
           "#ab63fa",
           "#FFA15A",
           "#19d3f3",
           "#FF6692",
           "#B6E880",
           "#FF97FF",
           "#FECB52"
          ],
          "font": {
           "color": "#2a3f5f"
          },
          "geo": {
           "bgcolor": "white",
           "lakecolor": "white",
           "landcolor": "#E5ECF6",
           "showlakes": true,
           "showland": true,
           "subunitcolor": "white"
          },
          "hoverlabel": {
           "align": "left"
          },
          "hovermode": "closest",
          "mapbox": {
           "style": "light"
          },
          "paper_bgcolor": "white",
          "plot_bgcolor": "#E5ECF6",
          "polar": {
           "angularaxis": {
            "gridcolor": "white",
            "linecolor": "white",
            "ticks": ""
           },
           "bgcolor": "#E5ECF6",
           "radialaxis": {
            "gridcolor": "white",
            "linecolor": "white",
            "ticks": ""
           }
          },
          "scene": {
           "xaxis": {
            "backgroundcolor": "#E5ECF6",
            "gridcolor": "white",
            "gridwidth": 2,
            "linecolor": "white",
            "showbackground": true,
            "ticks": "",
            "zerolinecolor": "white"
           },
           "yaxis": {
            "backgroundcolor": "#E5ECF6",
            "gridcolor": "white",
            "gridwidth": 2,
            "linecolor": "white",
            "showbackground": true,
            "ticks": "",
            "zerolinecolor": "white"
           },
           "zaxis": {
            "backgroundcolor": "#E5ECF6",
            "gridcolor": "white",
            "gridwidth": 2,
            "linecolor": "white",
            "showbackground": true,
            "ticks": "",
            "zerolinecolor": "white"
           }
          },
          "shapedefaults": {
           "line": {
            "color": "#2a3f5f"
           }
          },
          "ternary": {
           "aaxis": {
            "gridcolor": "white",
            "linecolor": "white",
            "ticks": ""
           },
           "baxis": {
            "gridcolor": "white",
            "linecolor": "white",
            "ticks": ""
           },
           "bgcolor": "#E5ECF6",
           "caxis": {
            "gridcolor": "white",
            "linecolor": "white",
            "ticks": ""
           }
          },
          "title": {
           "x": 0.05
          },
          "xaxis": {
           "automargin": true,
           "gridcolor": "white",
           "linecolor": "white",
           "ticks": "",
           "title": {
            "standoff": 15
           },
           "zerolinecolor": "white",
           "zerolinewidth": 2
          },
          "yaxis": {
           "automargin": true,
           "gridcolor": "white",
           "linecolor": "white",
           "ticks": "",
           "title": {
            "standoff": 15
           },
           "zerolinecolor": "white",
           "zerolinewidth": 2
          }
         }
        }
       }
      },
      "text/html": [
       "<div>                            <div id=\"15e0f970-6d6d-4e90-85ce-baae44a48c91\" class=\"plotly-graph-div\" style=\"height:525px; width:100%;\"></div>            <script type=\"text/javascript\">                require([\"plotly\"], function(Plotly) {                    window.PLOTLYENV=window.PLOTLYENV || {};                                    if (document.getElementById(\"15e0f970-6d6d-4e90-85ce-baae44a48c91\")) {                    Plotly.newPlot(                        \"15e0f970-6d6d-4e90-85ce-baae44a48c91\",                        [{\"hovertemplate\": \"x=%{x}<br>y=%{y}<br>z=%{z}<br>size=%{marker.size}<br>Energy=%{marker.color}<extra></extra>\", \"legendgroup\": \"\", \"marker\": {\"color\": [-8.3, -7.8, -7.7, -7.7, -7.6, -7.6, -7.5, -7.5, -7.6, -7.6, -7.5, -8.3, -8.2, -8.2, -8.1, -8.0, -7.9, -7.9, -7.8, -7.7, -7.9, -7.8, -8.4, -8.2, -8.1, -8.0, -8.0, -7.8, -7.7, -7.7, -7.7, -8.0, -8.0, -8.7, -8.0, -7.7, -7.5, -8.0, -8.0, -7.7, -7.6, -7.5, -7.7, -7.5, -8.1, -7.7, -7.5, -8.3, -8.0, -8.0, -7.9, -7.9, -7.9, -7.8, -7.8, -7.6, -8.3, -8.3, -8.1, -8.0, -8.0, -7.9, -7.8, -7.7, -7.6, -8.3, -8.1, -8.1, -8.0, -7.9, -7.8, -7.8, -7.6, -7.6, -8.6, -7.9, -7.6, -8.4, -8.2, -7.8, -7.8, -7.8, -7.7, -7.7, -7.5, -7.5, -8.4, -8.4, -8.2, -8.2, -7.9, -7.9, -7.8, -7.7, -7.7, -8.4, -8.0, -7.8, -7.6, -7.5, -7.9, -7.5, -8.7, -8.1, -7.8, -7.8, -7.8, -8.0, -7.8, -7.8, -7.6, -7.5, -8.6, -8.4, -8.2, -8.0, -8.0, -7.9, -7.9, -7.8, -7.8, -8.4, -7.7, -7.7, -7.6, -8.8, -8.0, -7.9, -7.8, -8.2, -7.5, -7.5, -7.5, -7.5, -8.3, -8.2, -8.1, -8.0, -7.9, -7.9, -7.9, -7.8, -7.8, -8.2, -8.3, -8.2, -8.0, -8.0, -8.0, -7.8, -7.8, -7.7, -7.7, -8.0, -7.5, -7.6, -8.9, -8.8, -8.3, -8.3, -8.3, -8.3, -8.3, -8.3, -8.2, -8.9, -8.4, -8.3, -8.2, -8.2, -8.2, -8.2, -8.0, -8.0, -8.4, -8.3, -8.1, -8.1, -8.0, -7.7, -7.6, -7.5, -8.7, -8.4, -8.3, -8.2, -7.9, -7.9, -7.6, -7.6, -7.6, -8.7, -8.7, -8.3, -8.0, -8.0, -7.9, -7.9, -7.9, -7.8, -7.7, -8.5, -8.2, -8.1, -8.0, -7.8, -7.7, -7.7, -7.7, -7.6, -8.5, -8.4, -8.2, -8.0, -7.9, -7.7, -7.6, -7.6, -8.4], \"coloraxis\": \"coloraxis\", \"size\": [4.778120284189924e+20, 1.1806700877434216e+20, 8.831639157643197e+19, 8.831639157643197e+19, 6.5812111726441734e+19, 6.5812111726441734e+19, 4.88515588195456e+19, 4.88515588195456e+19, 6.5812111726441734e+19, 6.5812111726441734e+19, 4.88515588195456e+19, 4.778120284189924e+20, 3.6375726732513555e+20, 3.6375726732513555e+20, 2.7600244210127244e+20, 2.0870108520532453e+20, 1.5725684345954297e+20, 1.5725684345954297e+20, 1.1806700877434216e+20, 8.831639157643197e+19, 1.5725684345954297e+20, 1.1806700877434216e+20, 6.255815566358399e+20, 3.6375726732513555e+20, 2.7600244210127244e+20, 2.0870108520532453e+20, 2.0870108520532453e+20, 1.1806700877434216e+20, 8.831639157643197e+19, 8.831639157643197e+19, 8.831639157643197e+19, 2.0870108520532453e+20, 2.0870108520532453e+20, 1.37779049364017e+21, 2.0870108520532453e+20, 8.831639157643197e+19, 4.88515588195456e+19, 2.0870108520532453e+20, 2.0870108520532453e+20, 8.831639157643197e+19, 6.5812111726441734e+19, 4.88515588195456e+19, 8.831639157643197e+19, 4.88515588195456e+19, 2.7600244210127244e+20, 8.831639157643197e+19, 4.88515588195456e+19, 4.778120284189924e+20, 2.0870108520532453e+20, 2.0870108520532453e+20, 1.5725684345954297e+20, 1.5725684345954297e+20, 1.5725684345954297e+20, 1.1806700877434216e+20, 1.1806700877434216e+20, 6.5812111726441734e+19, 4.778120284189924e+20, 4.778120284189924e+20, 2.7600244210127244e+20, 2.0870108520532453e+20, 2.0870108520532453e+20, 1.5725684345954297e+20, 1.1806700877434216e+20, 8.831639157643197e+19, 6.5812111726441734e+19, 4.778120284189924e+20, 2.7600244210127244e+20, 2.7600244210127244e+20, 2.0870108520532453e+20, 1.5725684345954297e+20, 1.1806700877434216e+20, 1.1806700877434216e+20, 6.5812111726441734e+19, 6.5812111726441734e+19, 1.0622216600262244e+21, 1.5725684345954297e+20, 6.5812111726441734e+19, 6.255815566358399e+20, 3.6375726732513555e+20, 1.1806700877434216e+20, 1.1806700877434216e+20, 1.1806700877434216e+20, 8.831639157643197e+19, 8.831639157643197e+19, 4.88515588195456e+19, 4.88515588195456e+19, 6.255815566358399e+20, 6.255815566358399e+20, 3.6375726732513555e+20, 3.6375726732513555e+20, 1.5725684345954297e+20, 1.5725684345954297e+20, 1.1806700877434216e+20, 8.831639157643197e+19, 8.831639157643197e+19, 6.255815566358399e+20, 2.0870108520532453e+20, 1.1806700877434216e+20, 6.5812111726441734e+19, 4.88515588195456e+19, 1.5725684345954297e+20, 4.88515588195456e+19, 1.37779049364017e+21, 2.7600244210127244e+20, 1.1806700877434216e+20, 1.1806700877434216e+20, 1.1806700877434216e+20, 2.0870108520532453e+20, 1.1806700877434216e+20, 1.1806700877434216e+20, 6.5812111726441734e+19, 4.88515588195456e+19, 1.0622216600262244e+21, 6.255815566358399e+20, 3.6375726732513555e+20, 2.0870108520532453e+20, 2.0870108520532453e+20, 1.5725684345954297e+20, 1.5725684345954297e+20, 1.1806700877434216e+20, 1.1806700877434216e+20, 6.255815566358399e+20, 8.831639157643197e+19, 8.831639157643197e+19, 6.5812111726441734e+19, 1.7818047952120098e+21, 2.0870108520532453e+20, 1.5725684345954297e+20, 1.1806700877434216e+20, 3.6375726732513555e+20, 4.88515588195456e+19, 4.88515588195456e+19, 4.88515588195456e+19, 4.88515588195456e+19, 4.778120284189924e+20, 3.6375726732513555e+20, 2.7600244210127244e+20, 2.0870108520532453e+20, 1.5725684345954297e+20, 1.5725684345954297e+20, 1.5725684345954297e+20, 1.1806700877434216e+20, 1.1806700877434216e+20, 3.6375726732513555e+20, 4.778120284189924e+20, 3.6375726732513555e+20, 2.0870108520532453e+20, 2.0870108520532453e+20, 2.0870108520532453e+20, 1.1806700877434216e+20, 1.1806700877434216e+20, 8.831639157643197e+19, 8.831639157643197e+19, 2.0870108520532453e+20, 4.88515588195456e+19, 6.5812111726441734e+19, 2.2976038458648554e+21, 1.7818047952120098e+21, 4.778120284189924e+20, 4.778120284189924e+20, 4.778120284189924e+20, 4.778120284189924e+20, 4.778120284189924e+20, 4.778120284189924e+20, 3.6375726732513555e+20, 2.2976038458648554e+21, 6.255815566358399e+20, 4.778120284189924e+20, 3.6375726732513555e+20, 3.6375726732513555e+20, 3.6375726732513555e+20, 3.6375726732513555e+20, 2.0870108520532453e+20, 2.0870108520532453e+20, 6.255815566358399e+20, 4.778120284189924e+20, 2.7600244210127244e+20, 2.7600244210127244e+20, 2.0870108520532453e+20, 8.831639157643197e+19, 6.5812111726441734e+19, 4.88515588195456e+19, 1.37779049364017e+21, 6.255815566358399e+20, 4.778120284189924e+20, 3.6375726732513555e+20, 1.5725684345954297e+20, 1.5725684345954297e+20, 6.5812111726441734e+19, 6.5812111726441734e+19, 6.5812111726441734e+19, 1.37779049364017e+21, 1.37779049364017e+21, 4.778120284189924e+20, 2.0870108520532453e+20, 2.0870108520532453e+20, 1.5725684345954297e+20, 1.5725684345954297e+20, 1.5725684345954297e+20, 1.1806700877434216e+20, 8.831639157643197e+19, 8.164429224092885e+20, 3.6375726732513555e+20, 2.7600244210127244e+20, 2.0870108520532453e+20, 1.1806700877434216e+20, 8.831639157643197e+19, 8.831639157643197e+19, 8.831639157643197e+19, 6.5812111726441734e+19, 8.164429224092885e+20, 6.255815566358399e+20, 3.6375726732513555e+20, 2.0870108520532453e+20, 1.5725684345954297e+20, 8.831639157643197e+19, 6.5812111726441734e+19, 6.5812111726441734e+19, 6.255815566358399e+20], \"sizemode\": \"area\", \"sizeref\": 5.744009614662139e+18, \"symbol\": \"circle\"}, \"mode\": \"markers\", \"name\": \"\", \"scene\": \"scene\", \"showlegend\": false, \"type\": \"scatter3d\", \"x\": [25.38624171331588, 24.67833194969961, 25.443587590967315, 23.299579686765025, 23.747247069329074, 21.633431203783072, 22.790558944571007, 24.558335293088824, 23.31029000723864, 21.622271516663172, 22.84970900202023, 25.386473618439375, 34.04838042685156, 32.36382507878674, 33.279653375309486, 33.33839962861692, 33.176432932148366, 33.71236475641203, 24.664745000034404, 25.375889776065712, 44.59360688434728, 44.43714107089124, 44.26566521785261, 44.785007407383276, 44.35332715278887, 41.36295920978257, 43.5097261958691, 44.713327885705546, 43.722250181328086, 44.31566987498774, 45.50135793456547, 41.10100625513975, 41.06523599555182, 45.700641590342315, 44.646537944552534, 45.38549470536497, 43.968440269643814, 43.77365273400739, 45.23285404529094, 45.602743319830154, 44.18703808813034, 44.76221887629823, 45.59533889900995, 44.31333974056053, 44.59800207780433, 45.198218748834464, 43.95149707503235, 46.30150873434632, 45.672405455014896, 38.61540441611274, 45.636512906974275, 45.65385692119228, 45.83943174115875, 45.88753666955272, 44.729109219070764, 46.833343088657216, 33.880429501852035, 34.15329053519938, 33.31074734797502, 33.29005892193895, 33.274555762684194, 33.74919062569141, 33.57797028355982, 33.89858122719367, 33.12310334451176, 46.2873644598415, 45.839307509969885, 47.10641982872781, 46.82800608892989, 45.94316944244377, 44.73480638796279, 45.27635705245822, 45.88812627785148, 57.61547573969727, 57.138952901774324, 56.678948449595154, 57.42609201291006, 44.29947486700497, 44.75857038480662, 44.85878281332098, 44.41478415820862, 42.61108253242994, 45.67637519359466, 42.68535620149272, 43.7495676657002, 43.344040585261496, 53.796003439711285, 56.50688384393076, 49.17954292939992, 57.282461619101326, 55.18082923439539, 55.33144602325707, 55.12147972438857, 56.4680233649784, 54.11614798905986, 53.8635816682473, 53.68643723224008, 55.33236420672451, 54.50232899449552, 54.48153383710492, 42.20203410343903, 43.816443137940794, 45.803475211736526, 44.61413400823953, 45.269902173003835, 45.703733690159474, 45.19870417867524, 45.311017678356045, 44.19581032159618, 45.839876057777296, 44.188720651919255, 44.710785568276584, 55.78854149760517, 53.7788880524079, 49.18841245248627, 56.47075035134013, 56.32467324010373, 55.18002805325525, 56.251863193351326, 55.1165108726235, 45.860037521423514, 53.924943404274885, 54.24460944665877, 54.59674898943319, 52.60896693546316, 45.78648642528941, 44.58003467956079, 45.26163081313558, 45.195716361242475, 47.57520696857477, 45.93694804439072, 45.79699976390235, 46.56350640813249, 46.96407482376865, 46.30468270356454, 47.58165601221624, 45.755481640690505, 46.79852622005824, 45.72429897677735, 47.213252953303, 45.8239690614285, 46.45254403348242, 47.238331024138816, 47.5820763301587, 46.30501587539548, 47.56427789455923, 45.76914475430454, 46.789134627814846, 45.70994780829305, 46.546994207640665, 45.95659631209651, 45.51331787726472, 47.95406157586503, 58.016322006439104, 62.22193313330214, 60.163234419273984, 60.48576860111047, 57.437527027570205, 59.77982771569352, 59.635157592296274, 59.448267833249865, 59.05280321078343, 62.956488310449615, 61.705549271446785, 62.01954210016118, 60.46478401372554, 61.726958467450956, 62.989303289180896, 61.867055932696246, 59.94912973458205, 65.66868366787143, 59.7210823057472, 59.72291432442934, 62.98740213335247, 66.30863032392094, 59.58483604863758, 59.34380962742558, 58.78893403242868, 61.190383722079744, 61.912675457683676, 61.95026310151946, 64.02451454843242, 55.785433862416625, 56.50524574146074, 57.244618076173374, 53.88664428772195, 55.17001700120476, 55.35947507196092, 54.76127712579335, 55.13200419435474, 54.62832850998834, 55.82540142216257, 55.823329688666135, 53.96230691682881, 56.460939571671055, 56.32165750448387, 56.08333977170225, 56.24658828043045, 55.77232689496442, 55.10435086249882, 56.78485442876859, 66.42648720165965, 65.77163369374442, 65.99075685488938, 64.59846884325542, 65.26322120251206, 65.31609061225703, 65.564947711971, 66.71792089026204, 65.71125250754191, 66.39854562207212, 66.4092523677663, 65.63811988293611, 64.67596186370865, 65.79090941888472, 65.31396368839597, 67.87472423611364, 65.29513950402834, 66.31075459385589], \"y\": [63.06467366413805, 64.07819312282257, 63.73453310418826, 65.11658687506997, 66.07143027061791, 68.5103125599976, 65.1797312288775, 62.942301399313216, 65.1290516543313, 68.53656084675055, 66.55441937536236, 63.067847956361035, 67.35701451348855, 67.10369952154012, 62.99553672242121, 67.31473842659737, 66.94856553502737, 65.36165554472838, 64.00859980467627, 63.70713763588744, 30.16622032040482, 30.122387354435112, 31.041428144652556, 31.74876913848614, 30.97046515042717, 32.80565939905901, 32.37874509635646, 32.49005454435505, 33.0243256029453, 30.818373757092445, 40.08589247815282, 32.803488498386244, 37.1550517770876, 47.61245225667004, 47.07320449317038, 47.26958581444099, 46.7287358907201, 39.3099134253028, 40.305326964852235, 44.80416056922713, 41.04431875937193, 40.192628573828856, 44.794770753510065, 39.74072845219512, 47.01127703417877, 46.88512717227055, 46.7029677958436, 58.250131747206034, 58.9583044461319, 50.43595076349715, 57.61837520119903, 59.135893512347515, 56.91622624312484, 58.050718024427425, 57.60417784998311, 57.89006907486289, 67.85168298311577, 67.32610182110244, 66.42990369641318, 67.01728190097731, 67.19214526995344, 65.46898952407129, 62.62517574574454, 67.42552576198533, 63.152861124961944, 58.25021743979601, 59.34712676235864, 58.33589084140213, 57.79058595892409, 58.22491813530642, 57.61881611395552, 60.15638505755242, 58.56588486581361, 11.753135553375639, 23.50821515232826, 23.969973911207724, 23.025622894810883, 31.039762447000243, 31.80155506851359, 32.67937246507331, 30.785691079962156, 32.83255314750419, 40.20734500495915, 33.959232782523266, 36.45244553404244, 34.125782560204016, 40.40100209011617, 36.78846890372829, 39.14888451637457, 36.997646500594406, 38.78670097976912, 39.57385601735826, 38.913627906092515, 39.39383179670688, 39.27272587286431, 40.39737762373491, 38.92161989144577, 39.578872237485285, 39.204794236537275, 39.39506635575646, 33.010990331583244, 35.54210112693183, 47.742406664834384, 47.04581435444851, 47.21873952597238, 47.39700289002375, 46.78993520639898, 40.284600101246795, 40.34222350229164, 44.09016714737166, 41.05553702840668, 40.180336956273784, 40.65175078768628, 40.38435019005501, 39.144667054851794, 40.055809094757365, 39.70216317028472, 38.78623313196232, 39.595725038918104, 38.936063959654824, 44.11527374365805, 40.38694173167501, 39.210666693100926, 39.15158992659608, 39.364430230061245, 47.64440488830807, 47.008004382291375, 47.31602129188154, 46.75154280664363, 59.81482517981626, 44.57611947773169, 58.53642617077466, 59.11772503421064, 58.927837169739384, 58.253725872864315, 59.85052460974178, 59.23802468813925, 57.82424367307137, 58.532507616141416, 57.708992701250644, 56.90832847884665, 58.82800417262796, 57.039128124265595, 59.860047486410814, 58.249813018975814, 59.836138185574946, 59.21021778452757, 57.839245288095285, 58.44123383373727, 58.84229837422133, 57.8223038435759, 58.00508885275001, 58.5444976171155, 11.793330426290273, 13.374400183011906, 22.30089494884974, 23.419552291831202, 23.533291682735435, 24.043420274488895, 24.790451584226215, 23.035306562682305, 24.152773747460234, 23.617232433084236, 23.574918593379348, 22.791096788094016, 23.426755955762832, 23.76076755750083, 23.633597560662075, 22.701260835778502, 22.575272198521926, 25.723126784085427, 23.874126596148788, 23.312738421889875, 24.781993718426012, 26.58321554051339, 24.812342334013742, 25.426170215917114, 25.164974805626805, 24.442744638283536, 24.549549568017312, 23.927970191945235, 26.90687012564235, 40.58757931089175, 36.78419399080741, 36.975690315903755, 40.30114717213294, 38.80619190069124, 39.584117940199945, 38.39722304421872, 39.12323439754719, 39.177412727330015, 40.61985616184134, 40.6340804064646, 40.37414652612338, 40.0473594051063, 39.66458219620803, 39.715074081437045, 39.60067960858484, 39.2663807545638, 38.909019659838314, 37.377158120257, 24.36036854556233, 24.88788768124208, 25.879224104847648, 24.950632994866325, 25.148387615156462, 24.769323901014246, 25.60006499384951, 26.8597851225155, 23.875067281317257, 24.364657417576748, 26.604203842453337, 25.75344841935871, 24.941314589640893, 24.740750136969243, 24.79185459968591, 29.476793380864287, 23.933623401044844, 26.614762136307302], \"z\": [-10.804331045865597, -10.397694109761517, -9.895480763290726, -0.312366436616286, -2.7688188547887096, 0.3059344999165331, -7.44516546245993, -10.030612375428609, -0.31467023673860783, 0.33311040716346396, -1.144722442567975, -10.807707871503483, -10.331365171031397, -9.95680708684085, -10.723625457122385, -10.300327825232685, -10.082459589458022, -10.781115204074206, -10.333173655628379, -9.86617454063252, 13.967206527521133, 14.396938253217646, 14.609974822646114, 14.671947027215326, 14.035580974076694, 13.15688950592942, 14.314024251793095, 13.969735331617645, 13.936769203666469, 13.957071401076709, 15.564029733459499, 12.98804596300147, 11.839786038661352, -8.010812922653754, -9.213789574694678, -10.656294712534796, -9.994520528728417, 14.60964722119926, 15.340530850759123, 17.989764004448197, 15.485914770190426, 15.987932195429487, 17.992128486016465, 25.429211167636954, -9.250282433645513, -9.333666090544904, -10.00295399825244, 5.640398515119484, 6.95796605806337, 3.4316991721010788, 6.245087425662732, 6.847631733988903, 4.936020445623485, 6.082075609553844, 6.351688054870257, 5.483053112560288, -10.296788846485459, -10.310901522286793, -10.163409227145873, -10.037689739781987, -10.343882011639039, -10.75085408874448, -10.932171498521312, -10.147518009870476, -10.68108347971751, 5.630950601994736, 6.875555268762071, 5.347736300631996, 5.775817471154987, 6.109733000696345, 6.381310260218014, 8.362409039209235, 5.742929768186129, 13.392147552713695, 16.47568487769091, 16.08066436217962, 16.849759282132737, 14.628833293681964, 14.698403176962085, 13.939332272704394, 13.946175374578726, 13.531192175534999, 15.506044569952808, 13.60108857790626, 14.555180848640758, 14.421225707559728, 28.960787593212416, 24.449184724698178, 27.245970483808303, 25.652244135851763, 25.923900225560185, 27.826068669658447, 26.476776767844658, 26.782750862281556, 27.467382989163053, 28.929716182720774, 27.58578556827659, 27.88813862662856, 27.520581733427633, 27.181912321220302, 13.35599287216796, 13.937280290660857, -8.11613924149641, -9.197484482553216, -9.793028590630907, -8.248249578772068, -9.246643178931977, 15.233801726120191, 14.984730421365539, 17.756881264599947, 15.501767911647327, 15.999613305696872, 28.50691837611156, 28.926526962389865, 27.24349222996058, 26.741393416930745, 26.174897807731767, 25.909901679081717, 26.856905128207917, 26.5089333864191, 17.75109300365119, 28.9025857058071, 27.259496115432935, 27.46178329782816, 28.431442470204452, -8.122137303467705, -9.223236841809856, -9.72634683435395, -9.207602109163307, 7.958579525262633, 17.857006385500423, 8.09277192748036, 7.957065116605813, 7.743890588285139, 5.646891535572714, 7.966575164698042, 6.897944922976758, 5.812686025226964, 6.4512288148512695, 5.437708500493742, 4.94526776336206, 7.175546364403717, 4.867797628087512, 7.97882199792944, 5.652152327897657, 7.928790365187329, 6.91039025206323, 5.841874115041125, 6.36929482587616, 7.2260389003497645, 6.105202856419667, 5.621659722063798, 5.14103043233756, 13.460758221503792, 34.69622073502419, -3.0185502140268814, 18.576984269087614, 16.284491641526973, 18.32201121355288, 17.472050502087768, 17.607085675570666, 17.999931221707662, 17.776851618047573, 17.583406934970668, 16.808546617520694, 18.55564948223275, 17.094757544352504, 17.764466001392687, 16.846064164610777, 17.905793132454782, 17.40927620494002, 17.68060332658717, 18.024976242129025, 17.903285393557073, 18.40680674681676, 17.480628800511596, 16.95452499321944, 17.52515701146703, 17.780442518365472, 17.584891902031057, 17.424350483728634, 18.579442561819032, 28.424746344922042, 24.438966617165818, 25.681171110336194, 28.811027643343337, 25.945987048666908, 27.849054872067295, 25.887225288232894, 25.668359474994112, 27.4205059623714, 28.45755599407439, 28.470034893931675, 28.8608176109306, 26.75095865538757, 26.154144156455992, 27.569204594199896, 26.87158785349923, 26.050593033887623, 26.478879649576026, 25.06529346396922, 16.284162254138867, 16.908564614174047, 17.460773585957842, 18.488428882276708, 17.81282774212776, 17.82787273611487, 17.77023888086809, 18.368796960351165, 16.90601824977033, 16.2931953404025, 18.38300944173403, 17.41608666160433, 18.48858921540617, 17.42713941241374, 17.80968884536291, 21.992905005451618, 17.116505186001152, 18.390224895340296]}],                        {\"coloraxis\": {\"colorbar\": {\"title\": {\"text\": \"Energy\"}}, \"colorscale\": [[0.0, \"#0d0887\"], [0.1111111111111111, \"#46039f\"], [0.2222222222222222, \"#7201a8\"], [0.3333333333333333, \"#9c179e\"], [0.4444444444444444, \"#bd3786\"], [0.5555555555555556, \"#d8576b\"], [0.6666666666666666, \"#ed7953\"], [0.7777777777777778, \"#fb9f3a\"], [0.8888888888888888, \"#fdca26\"], [1.0, \"#f0f921\"]]}, \"legend\": {\"itemsizing\": \"constant\", \"tracegroupgap\": 0}, \"margin\": {\"t\": 60}, \"scene\": {\"domain\": {\"x\": [0.0, 1.0], \"y\": [0.0, 1.0]}, \"xaxis\": {\"title\": {\"text\": \"x\"}}, \"yaxis\": {\"title\": {\"text\": \"y\"}}, \"zaxis\": {\"title\": {\"text\": \"z\"}}}, \"template\": {\"data\": {\"bar\": [{\"error_x\": {\"color\": \"#2a3f5f\"}, \"error_y\": {\"color\": \"#2a3f5f\"}, \"marker\": {\"line\": {\"color\": \"#E5ECF6\", \"width\": 0.5}}, \"type\": \"bar\"}], \"barpolar\": [{\"marker\": {\"line\": {\"color\": \"#E5ECF6\", \"width\": 0.5}}, \"type\": \"barpolar\"}], \"carpet\": [{\"aaxis\": {\"endlinecolor\": \"#2a3f5f\", \"gridcolor\": \"white\", \"linecolor\": \"white\", \"minorgridcolor\": \"white\", \"startlinecolor\": \"#2a3f5f\"}, \"baxis\": {\"endlinecolor\": \"#2a3f5f\", \"gridcolor\": \"white\", \"linecolor\": \"white\", \"minorgridcolor\": \"white\", \"startlinecolor\": \"#2a3f5f\"}, \"type\": \"carpet\"}], \"choropleth\": [{\"colorbar\": {\"outlinewidth\": 0, \"ticks\": \"\"}, \"type\": \"choropleth\"}], \"contour\": [{\"colorbar\": {\"outlinewidth\": 0, \"ticks\": \"\"}, \"colorscale\": [[0.0, \"#0d0887\"], [0.1111111111111111, \"#46039f\"], [0.2222222222222222, \"#7201a8\"], [0.3333333333333333, \"#9c179e\"], [0.4444444444444444, \"#bd3786\"], [0.5555555555555556, \"#d8576b\"], [0.6666666666666666, \"#ed7953\"], [0.7777777777777778, \"#fb9f3a\"], [0.8888888888888888, \"#fdca26\"], [1.0, \"#f0f921\"]], \"type\": \"contour\"}], \"contourcarpet\": [{\"colorbar\": {\"outlinewidth\": 0, \"ticks\": \"\"}, \"type\": \"contourcarpet\"}], \"heatmap\": [{\"colorbar\": {\"outlinewidth\": 0, \"ticks\": \"\"}, \"colorscale\": [[0.0, \"#0d0887\"], [0.1111111111111111, \"#46039f\"], [0.2222222222222222, \"#7201a8\"], [0.3333333333333333, \"#9c179e\"], [0.4444444444444444, \"#bd3786\"], [0.5555555555555556, \"#d8576b\"], [0.6666666666666666, \"#ed7953\"], [0.7777777777777778, \"#fb9f3a\"], [0.8888888888888888, \"#fdca26\"], [1.0, \"#f0f921\"]], \"type\": \"heatmap\"}], \"heatmapgl\": [{\"colorbar\": {\"outlinewidth\": 0, \"ticks\": \"\"}, \"colorscale\": [[0.0, \"#0d0887\"], [0.1111111111111111, \"#46039f\"], [0.2222222222222222, \"#7201a8\"], [0.3333333333333333, \"#9c179e\"], [0.4444444444444444, \"#bd3786\"], [0.5555555555555556, \"#d8576b\"], [0.6666666666666666, \"#ed7953\"], [0.7777777777777778, \"#fb9f3a\"], [0.8888888888888888, \"#fdca26\"], [1.0, \"#f0f921\"]], \"type\": \"heatmapgl\"}], \"histogram\": [{\"marker\": {\"colorbar\": {\"outlinewidth\": 0, \"ticks\": \"\"}}, \"type\": \"histogram\"}], \"histogram2d\": [{\"colorbar\": {\"outlinewidth\": 0, \"ticks\": \"\"}, \"colorscale\": [[0.0, \"#0d0887\"], [0.1111111111111111, \"#46039f\"], [0.2222222222222222, \"#7201a8\"], [0.3333333333333333, \"#9c179e\"], [0.4444444444444444, \"#bd3786\"], [0.5555555555555556, \"#d8576b\"], [0.6666666666666666, \"#ed7953\"], [0.7777777777777778, \"#fb9f3a\"], [0.8888888888888888, \"#fdca26\"], [1.0, \"#f0f921\"]], \"type\": \"histogram2d\"}], \"histogram2dcontour\": [{\"colorbar\": {\"outlinewidth\": 0, \"ticks\": \"\"}, \"colorscale\": [[0.0, \"#0d0887\"], [0.1111111111111111, \"#46039f\"], [0.2222222222222222, \"#7201a8\"], [0.3333333333333333, \"#9c179e\"], [0.4444444444444444, \"#bd3786\"], [0.5555555555555556, \"#d8576b\"], [0.6666666666666666, \"#ed7953\"], [0.7777777777777778, \"#fb9f3a\"], [0.8888888888888888, \"#fdca26\"], [1.0, \"#f0f921\"]], \"type\": \"histogram2dcontour\"}], \"mesh3d\": [{\"colorbar\": {\"outlinewidth\": 0, \"ticks\": \"\"}, \"type\": \"mesh3d\"}], \"parcoords\": [{\"line\": {\"colorbar\": {\"outlinewidth\": 0, \"ticks\": \"\"}}, \"type\": \"parcoords\"}], \"pie\": [{\"automargin\": true, \"type\": \"pie\"}], \"scatter\": [{\"marker\": {\"colorbar\": {\"outlinewidth\": 0, \"ticks\": \"\"}}, \"type\": \"scatter\"}], \"scatter3d\": [{\"line\": {\"colorbar\": {\"outlinewidth\": 0, \"ticks\": \"\"}}, \"marker\": {\"colorbar\": {\"outlinewidth\": 0, \"ticks\": \"\"}}, \"type\": \"scatter3d\"}], \"scattercarpet\": [{\"marker\": {\"colorbar\": {\"outlinewidth\": 0, \"ticks\": \"\"}}, \"type\": \"scattercarpet\"}], \"scattergeo\": [{\"marker\": {\"colorbar\": {\"outlinewidth\": 0, \"ticks\": \"\"}}, \"type\": \"scattergeo\"}], \"scattergl\": [{\"marker\": {\"colorbar\": {\"outlinewidth\": 0, \"ticks\": \"\"}}, \"type\": \"scattergl\"}], \"scattermapbox\": [{\"marker\": {\"colorbar\": {\"outlinewidth\": 0, \"ticks\": \"\"}}, \"type\": \"scattermapbox\"}], \"scatterpolar\": [{\"marker\": {\"colorbar\": {\"outlinewidth\": 0, \"ticks\": \"\"}}, \"type\": \"scatterpolar\"}], \"scatterpolargl\": [{\"marker\": {\"colorbar\": {\"outlinewidth\": 0, \"ticks\": \"\"}}, \"type\": \"scatterpolargl\"}], \"scatterternary\": [{\"marker\": {\"colorbar\": {\"outlinewidth\": 0, \"ticks\": \"\"}}, \"type\": \"scatterternary\"}], \"surface\": [{\"colorbar\": {\"outlinewidth\": 0, \"ticks\": \"\"}, \"colorscale\": [[0.0, \"#0d0887\"], [0.1111111111111111, \"#46039f\"], [0.2222222222222222, \"#7201a8\"], [0.3333333333333333, \"#9c179e\"], [0.4444444444444444, \"#bd3786\"], [0.5555555555555556, \"#d8576b\"], [0.6666666666666666, \"#ed7953\"], [0.7777777777777778, \"#fb9f3a\"], [0.8888888888888888, \"#fdca26\"], [1.0, \"#f0f921\"]], \"type\": \"surface\"}], \"table\": [{\"cells\": {\"fill\": {\"color\": \"#EBF0F8\"}, \"line\": {\"color\": \"white\"}}, \"header\": {\"fill\": {\"color\": \"#C8D4E3\"}, \"line\": {\"color\": \"white\"}}, \"type\": \"table\"}]}, \"layout\": {\"annotationdefaults\": {\"arrowcolor\": \"#2a3f5f\", \"arrowhead\": 0, \"arrowwidth\": 1}, \"coloraxis\": {\"colorbar\": {\"outlinewidth\": 0, \"ticks\": \"\"}}, \"colorscale\": {\"diverging\": [[0, \"#8e0152\"], [0.1, \"#c51b7d\"], [0.2, \"#de77ae\"], [0.3, \"#f1b6da\"], [0.4, \"#fde0ef\"], [0.5, \"#f7f7f7\"], [0.6, \"#e6f5d0\"], [0.7, \"#b8e186\"], [0.8, \"#7fbc41\"], [0.9, \"#4d9221\"], [1, \"#276419\"]], \"sequential\": [[0.0, \"#0d0887\"], [0.1111111111111111, \"#46039f\"], [0.2222222222222222, \"#7201a8\"], [0.3333333333333333, \"#9c179e\"], [0.4444444444444444, \"#bd3786\"], [0.5555555555555556, \"#d8576b\"], [0.6666666666666666, \"#ed7953\"], [0.7777777777777778, \"#fb9f3a\"], [0.8888888888888888, \"#fdca26\"], [1.0, \"#f0f921\"]], \"sequentialminus\": [[0.0, \"#0d0887\"], [0.1111111111111111, \"#46039f\"], [0.2222222222222222, \"#7201a8\"], [0.3333333333333333, \"#9c179e\"], [0.4444444444444444, \"#bd3786\"], [0.5555555555555556, \"#d8576b\"], [0.6666666666666666, \"#ed7953\"], [0.7777777777777778, \"#fb9f3a\"], [0.8888888888888888, \"#fdca26\"], [1.0, \"#f0f921\"]]}, \"colorway\": [\"#636efa\", \"#EF553B\", \"#00cc96\", \"#ab63fa\", \"#FFA15A\", \"#19d3f3\", \"#FF6692\", \"#B6E880\", \"#FF97FF\", \"#FECB52\"], \"font\": {\"color\": \"#2a3f5f\"}, \"geo\": {\"bgcolor\": \"white\", \"lakecolor\": \"white\", \"landcolor\": \"#E5ECF6\", \"showlakes\": true, \"showland\": true, \"subunitcolor\": \"white\"}, \"hoverlabel\": {\"align\": \"left\"}, \"hovermode\": \"closest\", \"mapbox\": {\"style\": \"light\"}, \"paper_bgcolor\": \"white\", \"plot_bgcolor\": \"#E5ECF6\", \"polar\": {\"angularaxis\": {\"gridcolor\": \"white\", \"linecolor\": \"white\", \"ticks\": \"\"}, \"bgcolor\": \"#E5ECF6\", \"radialaxis\": {\"gridcolor\": \"white\", \"linecolor\": \"white\", \"ticks\": \"\"}}, \"scene\": {\"xaxis\": {\"backgroundcolor\": \"#E5ECF6\", \"gridcolor\": \"white\", \"gridwidth\": 2, \"linecolor\": \"white\", \"showbackground\": true, \"ticks\": \"\", \"zerolinecolor\": \"white\"}, \"yaxis\": {\"backgroundcolor\": \"#E5ECF6\", \"gridcolor\": \"white\", \"gridwidth\": 2, \"linecolor\": \"white\", \"showbackground\": true, \"ticks\": \"\", \"zerolinecolor\": \"white\"}, \"zaxis\": {\"backgroundcolor\": \"#E5ECF6\", \"gridcolor\": \"white\", \"gridwidth\": 2, \"linecolor\": \"white\", \"showbackground\": true, \"ticks\": \"\", \"zerolinecolor\": \"white\"}}, \"shapedefaults\": {\"line\": {\"color\": \"#2a3f5f\"}}, \"ternary\": {\"aaxis\": {\"gridcolor\": \"white\", \"linecolor\": \"white\", \"ticks\": \"\"}, \"baxis\": {\"gridcolor\": \"white\", \"linecolor\": \"white\", \"ticks\": \"\"}, \"bgcolor\": \"#E5ECF6\", \"caxis\": {\"gridcolor\": \"white\", \"linecolor\": \"white\", \"ticks\": \"\"}}, \"title\": {\"x\": 0.05}, \"xaxis\": {\"automargin\": true, \"gridcolor\": \"white\", \"linecolor\": \"white\", \"ticks\": \"\", \"title\": {\"standoff\": 15}, \"zerolinecolor\": \"white\", \"zerolinewidth\": 2}, \"yaxis\": {\"automargin\": true, \"gridcolor\": \"white\", \"linecolor\": \"white\", \"ticks\": \"\", \"title\": {\"standoff\": 15}, \"zerolinecolor\": \"white\", \"zerolinewidth\": 2}}}},                        {\"responsive\": true}                    ).then(function(){\n",
       "                            \n",
       "var gd = document.getElementById('15e0f970-6d6d-4e90-85ce-baae44a48c91');\n",
       "var x = new MutationObserver(function (mutations, observer) {{\n",
       "        var display = window.getComputedStyle(gd).display;\n",
       "        if (!display || display === 'none') {{\n",
       "            console.log([gd, 'removed!']);\n",
       "            Plotly.purge(gd);\n",
       "            observer.disconnect();\n",
       "        }}\n",
       "}});\n",
       "\n",
       "// Listen for the removal of the full notebook cells\n",
       "var notebookContainer = gd.closest('#notebook-container');\n",
       "if (notebookContainer) {{\n",
       "    x.observe(notebookContainer, {childList: true});\n",
       "}}\n",
       "\n",
       "// Listen for the clearing of the current output cell\n",
       "var outputEl = gd.closest('.output');\n",
       "if (outputEl) {{\n",
       "    x.observe(outputEl, {childList: true});\n",
       "}}\n",
       "\n",
       "                        })                };                });            </script>        </div>"
      ]
     },
     "metadata": {},
     "output_type": "display_data"
    },
    {
     "data": {
      "application/vnd.plotly.v1+json": {
       "config": {
        "plotlyServerURL": "https://plotly.com"
       },
       "data": [
        {
         "hovertemplate": "x=%{x}<br>y=%{y}<br>z=%{z}<br>size=%{marker.size}<br>Energy=%{marker.color}<extra></extra>",
         "legendgroup": "",
         "marker": {
          "color": [
           -8.3,
           -8.3,
           -8.2,
           -8.2,
           -8.1,
           -8,
           -8.4,
           -8.2,
           -8.1,
           -8,
           -8,
           -8,
           -8,
           -8.7,
           -8,
           -8,
           -8,
           -8.1,
           -8.3,
           -8,
           -8,
           -8.3,
           -8.3,
           -8.1,
           -8,
           -8,
           -8.3,
           -8.1,
           -8.1,
           -8,
           -8.6,
           -8.4,
           -8.2,
           -8.4,
           -8.4,
           -8.2,
           -8.2,
           -8.4,
           -8,
           -8.7,
           -8.1,
           -8,
           -8.6,
           -8.4,
           -8.2,
           -8,
           -8,
           -8.4,
           -8.8,
           -8,
           -8.2,
           -8.3,
           -8.2,
           -8.1,
           -8,
           -8.2,
           -8.3,
           -8.2,
           -8,
           -8,
           -8,
           -8,
           -8.9,
           -8.8,
           -8.3,
           -8.3,
           -8.3,
           -8.3,
           -8.3,
           -8.3,
           -8.2,
           -8.9,
           -8.4,
           -8.3,
           -8.2,
           -8.2,
           -8.2,
           -8.2,
           -8,
           -8,
           -8.4,
           -8.3,
           -8.1,
           -8.1,
           -8,
           -8.7,
           -8.4,
           -8.3,
           -8.2,
           -8.7,
           -8.7,
           -8.3,
           -8,
           -8,
           -8.5,
           -8.2,
           -8.1,
           -8,
           -8.5,
           -8.4,
           -8.2,
           -8,
           -8.4
          ],
          "coloraxis": "coloraxis",
          "size": [
           1.1425473754371059e+22,
           1.1425473754371059e+22,
           8.541466801005381e+21,
           8.541466801005381e+21,
           6.362685441135936e+21,
           4.722366482869645e+21,
           1.523010387809837e+22,
           8.541466801005381e+21,
           6.362685441135936e+21,
           4.722366482869645e+21,
           4.722366482869645e+21,
           4.722366482869645e+21,
           4.722366482869645e+21,
           3.5355913511524947e+22,
           4.722366482869645e+21,
           4.722366482869645e+21,
           4.722366482869645e+21,
           6.362685441135936e+21,
           1.1425473754371059e+22,
           4.722366482869645e+21,
           4.722366482869645e+21,
           1.1425473754371059e+22,
           1.1425473754371059e+22,
           6.362685441135936e+21,
           4.722366482869645e+21,
           4.722366482869645e+21,
           1.1425473754371059e+22,
           6.362685441135936e+21,
           6.362685441135936e+21,
           4.722366482869645e+21,
           2.678939031464213e+22,
           1.523010387809837e+22,
           8.541466801005381e+21,
           1.523010387809837e+22,
           1.523010387809837e+22,
           8.541466801005381e+21,
           8.541466801005381e+21,
           1.523010387809837e+22,
           4.722366482869645e+21,
           3.5355913511524947e+22,
           6.362685441135936e+21,
           4.722366482869645e+21,
           2.678939031464213e+22,
           1.523010387809837e+22,
           8.541466801005381e+21,
           4.722366482869645e+21,
           4.722366482869645e+21,
           1.523010387809837e+22,
           4.65140474534599e+22,
           4.722366482869645e+21,
           8.541466801005381e+21,
           1.1425473754371059e+22,
           8.541466801005381e+21,
           6.362685441135936e+21,
           4.722366482869645e+21,
           8.541466801005381e+21,
           1.1425473754371059e+22,
           8.541466801005381e+21,
           4.722366482869645e+21,
           4.722366482869645e+21,
           4.722366482869645e+21,
           4.722366482869645e+21,
           6.100425945333111e+22,
           4.65140474534599e+22,
           1.1425473754371059e+22,
           1.1425473754371059e+22,
           1.1425473754371059e+22,
           1.1425473754371059e+22,
           1.1425473754371059e+22,
           1.1425473754371059e+22,
           8.541466801005381e+21,
           6.100425945333111e+22,
           1.523010387809837e+22,
           1.1425473754371059e+22,
           8.541466801005381e+21,
           8.541466801005381e+21,
           8.541466801005381e+21,
           8.541466801005381e+21,
           4.722366482869645e+21,
           4.722366482869645e+21,
           1.523010387809837e+22,
           1.1425473754371059e+22,
           6.362685441135936e+21,
           6.362685441135936e+21,
           4.722366482869645e+21,
           3.5355913511524947e+22,
           1.523010387809837e+22,
           1.1425473754371059e+22,
           8.541466801005381e+21,
           3.5355913511524947e+22,
           3.5355913511524947e+22,
           1.1425473754371059e+22,
           4.722366482869645e+21,
           4.722366482869645e+21,
           2.0232717473185773e+22,
           8.541466801005381e+21,
           6.362685441135936e+21,
           4.722366482869645e+21,
           2.0232717473185773e+22,
           1.523010387809837e+22,
           8.541466801005381e+21,
           4.722366482869645e+21,
           1.523010387809837e+22
          ],
          "sizemode": "area",
          "sizeref": 152510648633327780000,
          "symbol": "circle"
         },
         "mode": "markers",
         "name": "",
         "scene": "scene",
         "showlegend": false,
         "type": "scatter3d",
         "x": [
          25.38624171331588,
          25.386473618439375,
          34.04838042685156,
          32.36382507878674,
          33.279653375309486,
          33.33839962861692,
          44.26566521785261,
          44.785007407383276,
          44.35332715278887,
          41.36295920978257,
          43.5097261958691,
          41.10100625513975,
          41.06523599555182,
          45.700641590342315,
          44.646537944552534,
          43.77365273400739,
          45.23285404529094,
          44.59800207780433,
          46.30150873434632,
          45.672405455014896,
          38.61540441611274,
          33.880429501852035,
          34.15329053519938,
          33.31074734797502,
          33.29005892193895,
          33.274555762684194,
          46.2873644598415,
          45.839307509969885,
          47.10641982872781,
          46.82800608892989,
          57.138952901774324,
          44.29947486700497,
          44.75857038480662,
          53.796003439711285,
          56.50688384393076,
          49.17954292939992,
          57.282461619101326,
          53.8635816682473,
          53.68643723224008,
          45.803475211736526,
          44.61413400823953,
          45.311017678356045,
          55.78854149760517,
          53.7788880524079,
          49.18841245248627,
          56.47075035134013,
          56.32467324010373,
          53.924943404274885,
          45.78648642528941,
          44.58003467956079,
          47.57520696857477,
          46.30468270356454,
          47.58165601221624,
          45.755481640690505,
          46.79852622005824,
          47.5820763301587,
          46.30501587539548,
          47.56427789455923,
          45.76914475430454,
          46.789134627814846,
          45.70994780829305,
          58.016322006439104,
          60.48576860111047,
          57.437527027570205,
          59.77982771569352,
          59.635157592296274,
          59.448267833249865,
          59.05280321078343,
          62.956488310449615,
          61.705549271446785,
          62.01954210016118,
          60.46478401372554,
          61.726958467450956,
          62.989303289180896,
          61.867055932696246,
          59.94912973458205,
          65.66868366787143,
          59.7210823057472,
          59.72291432442934,
          62.98740213335247,
          66.30863032392094,
          59.58483604863758,
          59.34380962742558,
          58.78893403242868,
          61.190383722079744,
          55.785433862416625,
          56.50524574146074,
          57.244618076173374,
          53.88664428772195,
          55.82540142216257,
          55.823329688666135,
          53.96230691682881,
          56.460939571671055,
          56.32165750448387,
          66.42648720165965,
          65.77163369374442,
          65.99075685488938,
          64.59846884325542,
          66.39854562207212,
          66.4092523677663,
          65.63811988293611,
          64.67596186370865,
          66.31075459385589
         ],
         "y": [
          63.06467366413805,
          63.067847956361035,
          67.35701451348855,
          67.10369952154012,
          62.99553672242121,
          67.31473842659737,
          31.041428144652556,
          31.74876913848614,
          30.97046515042717,
          32.80565939905901,
          32.37874509635646,
          32.803488498386244,
          37.1550517770876,
          47.61245225667004,
          47.07320449317038,
          39.3099134253028,
          40.305326964852235,
          47.01127703417877,
          58.250131747206034,
          58.9583044461319,
          50.43595076349715,
          67.85168298311577,
          67.32610182110244,
          66.42990369641318,
          67.01728190097731,
          67.19214526995344,
          58.25021743979601,
          59.34712676235864,
          58.33589084140213,
          57.79058595892409,
          23.50821515232826,
          31.039762447000243,
          31.80155506851359,
          40.40100209011617,
          36.78846890372829,
          39.14888451637457,
          36.997646500594406,
          40.39737762373491,
          38.92161989144577,
          47.742406664834384,
          47.04581435444851,
          40.284600101246795,
          40.65175078768628,
          40.38435019005501,
          39.144667054851794,
          40.055809094757365,
          39.70216317028472,
          40.38694173167501,
          47.64440488830807,
          47.008004382291375,
          59.81482517981626,
          58.253725872864315,
          59.85052460974178,
          59.23802468813925,
          57.82424367307137,
          59.860047486410814,
          58.249813018975814,
          59.836138185574946,
          59.21021778452757,
          57.839245288095285,
          58.44123383373727,
          11.793330426290273,
          23.419552291831202,
          23.533291682735435,
          24.043420274488895,
          24.790451584226215,
          23.035306562682305,
          24.152773747460234,
          23.617232433084236,
          23.574918593379348,
          22.791096788094016,
          23.426755955762832,
          23.76076755750083,
          23.633597560662075,
          22.701260835778502,
          22.575272198521926,
          25.723126784085427,
          23.874126596148788,
          23.312738421889875,
          24.781993718426012,
          26.58321554051339,
          24.812342334013742,
          25.426170215917114,
          25.164974805626805,
          24.442744638283536,
          40.58757931089175,
          36.78419399080741,
          36.975690315903755,
          40.30114717213294,
          40.61985616184134,
          40.6340804064646,
          40.37414652612338,
          40.0473594051063,
          39.66458219620803,
          24.36036854556233,
          24.88788768124208,
          25.879224104847648,
          24.950632994866325,
          24.364657417576748,
          26.604203842453337,
          25.75344841935871,
          24.941314589640893,
          26.614762136307302
         ],
         "z": [
          -10.804331045865597,
          -10.807707871503483,
          -10.331365171031397,
          -9.95680708684085,
          -10.723625457122385,
          -10.300327825232685,
          14.609974822646114,
          14.671947027215326,
          14.035580974076694,
          13.15688950592942,
          14.314024251793095,
          12.98804596300147,
          11.839786038661352,
          -8.010812922653754,
          -9.213789574694678,
          14.60964722119926,
          15.340530850759123,
          -9.250282433645513,
          5.640398515119484,
          6.95796605806337,
          3.4316991721010788,
          -10.296788846485459,
          -10.310901522286793,
          -10.163409227145873,
          -10.037689739781987,
          -10.343882011639039,
          5.630950601994736,
          6.875555268762071,
          5.347736300631996,
          5.775817471154987,
          16.47568487769091,
          14.628833293681964,
          14.698403176962085,
          28.960787593212416,
          24.449184724698178,
          27.245970483808303,
          25.652244135851763,
          28.929716182720774,
          27.58578556827659,
          -8.11613924149641,
          -9.197484482553216,
          15.233801726120191,
          28.50691837611156,
          28.926526962389865,
          27.24349222996058,
          26.741393416930745,
          26.174897807731767,
          28.9025857058071,
          -8.122137303467705,
          -9.223236841809856,
          7.958579525262633,
          5.646891535572714,
          7.966575164698042,
          6.897944922976758,
          5.812686025226964,
          7.97882199792944,
          5.652152327897657,
          7.928790365187329,
          6.91039025206323,
          5.841874115041125,
          6.36929482587616,
          13.460758221503792,
          18.576984269087614,
          16.284491641526973,
          18.32201121355288,
          17.472050502087768,
          17.607085675570666,
          17.999931221707662,
          17.776851618047573,
          17.583406934970668,
          16.808546617520694,
          18.55564948223275,
          17.094757544352504,
          17.764466001392687,
          16.846064164610777,
          17.905793132454782,
          17.40927620494002,
          17.68060332658717,
          18.024976242129025,
          17.903285393557073,
          18.40680674681676,
          17.480628800511596,
          16.95452499321944,
          17.52515701146703,
          17.780442518365472,
          28.424746344922042,
          24.438966617165818,
          25.681171110336194,
          28.811027643343337,
          28.45755599407439,
          28.470034893931675,
          28.8608176109306,
          26.75095865538757,
          26.154144156455992,
          16.284162254138867,
          16.908564614174047,
          17.460773585957842,
          18.488428882276708,
          16.2931953404025,
          18.38300944173403,
          17.41608666160433,
          18.48858921540617,
          18.390224895340296
         ]
        }
       ],
       "layout": {
        "coloraxis": {
         "colorbar": {
          "title": {
           "text": "Energy"
          }
         },
         "colorscale": [
          [
           0,
           "#0d0887"
          ],
          [
           0.1111111111111111,
           "#46039f"
          ],
          [
           0.2222222222222222,
           "#7201a8"
          ],
          [
           0.3333333333333333,
           "#9c179e"
          ],
          [
           0.4444444444444444,
           "#bd3786"
          ],
          [
           0.5555555555555556,
           "#d8576b"
          ],
          [
           0.6666666666666666,
           "#ed7953"
          ],
          [
           0.7777777777777778,
           "#fb9f3a"
          ],
          [
           0.8888888888888888,
           "#fdca26"
          ],
          [
           1,
           "#f0f921"
          ]
         ]
        },
        "legend": {
         "itemsizing": "constant",
         "tracegroupgap": 0
        },
        "margin": {
         "t": 60
        },
        "scene": {
         "domain": {
          "x": [
           0,
           1
          ],
          "y": [
           0,
           1
          ]
         },
         "xaxis": {
          "title": {
           "text": "x"
          }
         },
         "yaxis": {
          "title": {
           "text": "y"
          }
         },
         "zaxis": {
          "title": {
           "text": "z"
          }
         }
        },
        "template": {
         "data": {
          "bar": [
           {
            "error_x": {
             "color": "#2a3f5f"
            },
            "error_y": {
             "color": "#2a3f5f"
            },
            "marker": {
             "line": {
              "color": "#E5ECF6",
              "width": 0.5
             }
            },
            "type": "bar"
           }
          ],
          "barpolar": [
           {
            "marker": {
             "line": {
              "color": "#E5ECF6",
              "width": 0.5
             }
            },
            "type": "barpolar"
           }
          ],
          "carpet": [
           {
            "aaxis": {
             "endlinecolor": "#2a3f5f",
             "gridcolor": "white",
             "linecolor": "white",
             "minorgridcolor": "white",
             "startlinecolor": "#2a3f5f"
            },
            "baxis": {
             "endlinecolor": "#2a3f5f",
             "gridcolor": "white",
             "linecolor": "white",
             "minorgridcolor": "white",
             "startlinecolor": "#2a3f5f"
            },
            "type": "carpet"
           }
          ],
          "choropleth": [
           {
            "colorbar": {
             "outlinewidth": 0,
             "ticks": ""
            },
            "type": "choropleth"
           }
          ],
          "contour": [
           {
            "colorbar": {
             "outlinewidth": 0,
             "ticks": ""
            },
            "colorscale": [
             [
              0,
              "#0d0887"
             ],
             [
              0.1111111111111111,
              "#46039f"
             ],
             [
              0.2222222222222222,
              "#7201a8"
             ],
             [
              0.3333333333333333,
              "#9c179e"
             ],
             [
              0.4444444444444444,
              "#bd3786"
             ],
             [
              0.5555555555555556,
              "#d8576b"
             ],
             [
              0.6666666666666666,
              "#ed7953"
             ],
             [
              0.7777777777777778,
              "#fb9f3a"
             ],
             [
              0.8888888888888888,
              "#fdca26"
             ],
             [
              1,
              "#f0f921"
             ]
            ],
            "type": "contour"
           }
          ],
          "contourcarpet": [
           {
            "colorbar": {
             "outlinewidth": 0,
             "ticks": ""
            },
            "type": "contourcarpet"
           }
          ],
          "heatmap": [
           {
            "colorbar": {
             "outlinewidth": 0,
             "ticks": ""
            },
            "colorscale": [
             [
              0,
              "#0d0887"
             ],
             [
              0.1111111111111111,
              "#46039f"
             ],
             [
              0.2222222222222222,
              "#7201a8"
             ],
             [
              0.3333333333333333,
              "#9c179e"
             ],
             [
              0.4444444444444444,
              "#bd3786"
             ],
             [
              0.5555555555555556,
              "#d8576b"
             ],
             [
              0.6666666666666666,
              "#ed7953"
             ],
             [
              0.7777777777777778,
              "#fb9f3a"
             ],
             [
              0.8888888888888888,
              "#fdca26"
             ],
             [
              1,
              "#f0f921"
             ]
            ],
            "type": "heatmap"
           }
          ],
          "heatmapgl": [
           {
            "colorbar": {
             "outlinewidth": 0,
             "ticks": ""
            },
            "colorscale": [
             [
              0,
              "#0d0887"
             ],
             [
              0.1111111111111111,
              "#46039f"
             ],
             [
              0.2222222222222222,
              "#7201a8"
             ],
             [
              0.3333333333333333,
              "#9c179e"
             ],
             [
              0.4444444444444444,
              "#bd3786"
             ],
             [
              0.5555555555555556,
              "#d8576b"
             ],
             [
              0.6666666666666666,
              "#ed7953"
             ],
             [
              0.7777777777777778,
              "#fb9f3a"
             ],
             [
              0.8888888888888888,
              "#fdca26"
             ],
             [
              1,
              "#f0f921"
             ]
            ],
            "type": "heatmapgl"
           }
          ],
          "histogram": [
           {
            "marker": {
             "colorbar": {
              "outlinewidth": 0,
              "ticks": ""
             }
            },
            "type": "histogram"
           }
          ],
          "histogram2d": [
           {
            "colorbar": {
             "outlinewidth": 0,
             "ticks": ""
            },
            "colorscale": [
             [
              0,
              "#0d0887"
             ],
             [
              0.1111111111111111,
              "#46039f"
             ],
             [
              0.2222222222222222,
              "#7201a8"
             ],
             [
              0.3333333333333333,
              "#9c179e"
             ],
             [
              0.4444444444444444,
              "#bd3786"
             ],
             [
              0.5555555555555556,
              "#d8576b"
             ],
             [
              0.6666666666666666,
              "#ed7953"
             ],
             [
              0.7777777777777778,
              "#fb9f3a"
             ],
             [
              0.8888888888888888,
              "#fdca26"
             ],
             [
              1,
              "#f0f921"
             ]
            ],
            "type": "histogram2d"
           }
          ],
          "histogram2dcontour": [
           {
            "colorbar": {
             "outlinewidth": 0,
             "ticks": ""
            },
            "colorscale": [
             [
              0,
              "#0d0887"
             ],
             [
              0.1111111111111111,
              "#46039f"
             ],
             [
              0.2222222222222222,
              "#7201a8"
             ],
             [
              0.3333333333333333,
              "#9c179e"
             ],
             [
              0.4444444444444444,
              "#bd3786"
             ],
             [
              0.5555555555555556,
              "#d8576b"
             ],
             [
              0.6666666666666666,
              "#ed7953"
             ],
             [
              0.7777777777777778,
              "#fb9f3a"
             ],
             [
              0.8888888888888888,
              "#fdca26"
             ],
             [
              1,
              "#f0f921"
             ]
            ],
            "type": "histogram2dcontour"
           }
          ],
          "mesh3d": [
           {
            "colorbar": {
             "outlinewidth": 0,
             "ticks": ""
            },
            "type": "mesh3d"
           }
          ],
          "parcoords": [
           {
            "line": {
             "colorbar": {
              "outlinewidth": 0,
              "ticks": ""
             }
            },
            "type": "parcoords"
           }
          ],
          "pie": [
           {
            "automargin": true,
            "type": "pie"
           }
          ],
          "scatter": [
           {
            "marker": {
             "colorbar": {
              "outlinewidth": 0,
              "ticks": ""
             }
            },
            "type": "scatter"
           }
          ],
          "scatter3d": [
           {
            "line": {
             "colorbar": {
              "outlinewidth": 0,
              "ticks": ""
             }
            },
            "marker": {
             "colorbar": {
              "outlinewidth": 0,
              "ticks": ""
             }
            },
            "type": "scatter3d"
           }
          ],
          "scattercarpet": [
           {
            "marker": {
             "colorbar": {
              "outlinewidth": 0,
              "ticks": ""
             }
            },
            "type": "scattercarpet"
           }
          ],
          "scattergeo": [
           {
            "marker": {
             "colorbar": {
              "outlinewidth": 0,
              "ticks": ""
             }
            },
            "type": "scattergeo"
           }
          ],
          "scattergl": [
           {
            "marker": {
             "colorbar": {
              "outlinewidth": 0,
              "ticks": ""
             }
            },
            "type": "scattergl"
           }
          ],
          "scattermapbox": [
           {
            "marker": {
             "colorbar": {
              "outlinewidth": 0,
              "ticks": ""
             }
            },
            "type": "scattermapbox"
           }
          ],
          "scatterpolar": [
           {
            "marker": {
             "colorbar": {
              "outlinewidth": 0,
              "ticks": ""
             }
            },
            "type": "scatterpolar"
           }
          ],
          "scatterpolargl": [
           {
            "marker": {
             "colorbar": {
              "outlinewidth": 0,
              "ticks": ""
             }
            },
            "type": "scatterpolargl"
           }
          ],
          "scatterternary": [
           {
            "marker": {
             "colorbar": {
              "outlinewidth": 0,
              "ticks": ""
             }
            },
            "type": "scatterternary"
           }
          ],
          "surface": [
           {
            "colorbar": {
             "outlinewidth": 0,
             "ticks": ""
            },
            "colorscale": [
             [
              0,
              "#0d0887"
             ],
             [
              0.1111111111111111,
              "#46039f"
             ],
             [
              0.2222222222222222,
              "#7201a8"
             ],
             [
              0.3333333333333333,
              "#9c179e"
             ],
             [
              0.4444444444444444,
              "#bd3786"
             ],
             [
              0.5555555555555556,
              "#d8576b"
             ],
             [
              0.6666666666666666,
              "#ed7953"
             ],
             [
              0.7777777777777778,
              "#fb9f3a"
             ],
             [
              0.8888888888888888,
              "#fdca26"
             ],
             [
              1,
              "#f0f921"
             ]
            ],
            "type": "surface"
           }
          ],
          "table": [
           {
            "cells": {
             "fill": {
              "color": "#EBF0F8"
             },
             "line": {
              "color": "white"
             }
            },
            "header": {
             "fill": {
              "color": "#C8D4E3"
             },
             "line": {
              "color": "white"
             }
            },
            "type": "table"
           }
          ]
         },
         "layout": {
          "annotationdefaults": {
           "arrowcolor": "#2a3f5f",
           "arrowhead": 0,
           "arrowwidth": 1
          },
          "coloraxis": {
           "colorbar": {
            "outlinewidth": 0,
            "ticks": ""
           }
          },
          "colorscale": {
           "diverging": [
            [
             0,
             "#8e0152"
            ],
            [
             0.1,
             "#c51b7d"
            ],
            [
             0.2,
             "#de77ae"
            ],
            [
             0.3,
             "#f1b6da"
            ],
            [
             0.4,
             "#fde0ef"
            ],
            [
             0.5,
             "#f7f7f7"
            ],
            [
             0.6,
             "#e6f5d0"
            ],
            [
             0.7,
             "#b8e186"
            ],
            [
             0.8,
             "#7fbc41"
            ],
            [
             0.9,
             "#4d9221"
            ],
            [
             1,
             "#276419"
            ]
           ],
           "sequential": [
            [
             0,
             "#0d0887"
            ],
            [
             0.1111111111111111,
             "#46039f"
            ],
            [
             0.2222222222222222,
             "#7201a8"
            ],
            [
             0.3333333333333333,
             "#9c179e"
            ],
            [
             0.4444444444444444,
             "#bd3786"
            ],
            [
             0.5555555555555556,
             "#d8576b"
            ],
            [
             0.6666666666666666,
             "#ed7953"
            ],
            [
             0.7777777777777778,
             "#fb9f3a"
            ],
            [
             0.8888888888888888,
             "#fdca26"
            ],
            [
             1,
             "#f0f921"
            ]
           ],
           "sequentialminus": [
            [
             0,
             "#0d0887"
            ],
            [
             0.1111111111111111,
             "#46039f"
            ],
            [
             0.2222222222222222,
             "#7201a8"
            ],
            [
             0.3333333333333333,
             "#9c179e"
            ],
            [
             0.4444444444444444,
             "#bd3786"
            ],
            [
             0.5555555555555556,
             "#d8576b"
            ],
            [
             0.6666666666666666,
             "#ed7953"
            ],
            [
             0.7777777777777778,
             "#fb9f3a"
            ],
            [
             0.8888888888888888,
             "#fdca26"
            ],
            [
             1,
             "#f0f921"
            ]
           ]
          },
          "colorway": [
           "#636efa",
           "#EF553B",
           "#00cc96",
           "#ab63fa",
           "#FFA15A",
           "#19d3f3",
           "#FF6692",
           "#B6E880",
           "#FF97FF",
           "#FECB52"
          ],
          "font": {
           "color": "#2a3f5f"
          },
          "geo": {
           "bgcolor": "white",
           "lakecolor": "white",
           "landcolor": "#E5ECF6",
           "showlakes": true,
           "showland": true,
           "subunitcolor": "white"
          },
          "hoverlabel": {
           "align": "left"
          },
          "hovermode": "closest",
          "mapbox": {
           "style": "light"
          },
          "paper_bgcolor": "white",
          "plot_bgcolor": "#E5ECF6",
          "polar": {
           "angularaxis": {
            "gridcolor": "white",
            "linecolor": "white",
            "ticks": ""
           },
           "bgcolor": "#E5ECF6",
           "radialaxis": {
            "gridcolor": "white",
            "linecolor": "white",
            "ticks": ""
           }
          },
          "scene": {
           "xaxis": {
            "backgroundcolor": "#E5ECF6",
            "gridcolor": "white",
            "gridwidth": 2,
            "linecolor": "white",
            "showbackground": true,
            "ticks": "",
            "zerolinecolor": "white"
           },
           "yaxis": {
            "backgroundcolor": "#E5ECF6",
            "gridcolor": "white",
            "gridwidth": 2,
            "linecolor": "white",
            "showbackground": true,
            "ticks": "",
            "zerolinecolor": "white"
           },
           "zaxis": {
            "backgroundcolor": "#E5ECF6",
            "gridcolor": "white",
            "gridwidth": 2,
            "linecolor": "white",
            "showbackground": true,
            "ticks": "",
            "zerolinecolor": "white"
           }
          },
          "shapedefaults": {
           "line": {
            "color": "#2a3f5f"
           }
          },
          "ternary": {
           "aaxis": {
            "gridcolor": "white",
            "linecolor": "white",
            "ticks": ""
           },
           "baxis": {
            "gridcolor": "white",
            "linecolor": "white",
            "ticks": ""
           },
           "bgcolor": "#E5ECF6",
           "caxis": {
            "gridcolor": "white",
            "linecolor": "white",
            "ticks": ""
           }
          },
          "title": {
           "x": 0.05
          },
          "xaxis": {
           "automargin": true,
           "gridcolor": "white",
           "linecolor": "white",
           "ticks": "",
           "title": {
            "standoff": 15
           },
           "zerolinecolor": "white",
           "zerolinewidth": 2
          },
          "yaxis": {
           "automargin": true,
           "gridcolor": "white",
           "linecolor": "white",
           "ticks": "",
           "title": {
            "standoff": 15
           },
           "zerolinecolor": "white",
           "zerolinewidth": 2
          }
         }
        }
       }
      },
      "text/html": [
       "<div>                            <div id=\"557c183d-de9e-4236-aca3-f4829e4ac522\" class=\"plotly-graph-div\" style=\"height:525px; width:100%;\"></div>            <script type=\"text/javascript\">                require([\"plotly\"], function(Plotly) {                    window.PLOTLYENV=window.PLOTLYENV || {};                                    if (document.getElementById(\"557c183d-de9e-4236-aca3-f4829e4ac522\")) {                    Plotly.newPlot(                        \"557c183d-de9e-4236-aca3-f4829e4ac522\",                        [{\"hovertemplate\": \"x=%{x}<br>y=%{y}<br>z=%{z}<br>size=%{marker.size}<br>Energy=%{marker.color}<extra></extra>\", \"legendgroup\": \"\", \"marker\": {\"color\": [-8.3, -8.3, -8.2, -8.2, -8.1, -8.0, -8.4, -8.2, -8.1, -8.0, -8.0, -8.0, -8.0, -8.7, -8.0, -8.0, -8.0, -8.1, -8.3, -8.0, -8.0, -8.3, -8.3, -8.1, -8.0, -8.0, -8.3, -8.1, -8.1, -8.0, -8.6, -8.4, -8.2, -8.4, -8.4, -8.2, -8.2, -8.4, -8.0, -8.7, -8.1, -8.0, -8.6, -8.4, -8.2, -8.0, -8.0, -8.4, -8.8, -8.0, -8.2, -8.3, -8.2, -8.1, -8.0, -8.2, -8.3, -8.2, -8.0, -8.0, -8.0, -8.0, -8.9, -8.8, -8.3, -8.3, -8.3, -8.3, -8.3, -8.3, -8.2, -8.9, -8.4, -8.3, -8.2, -8.2, -8.2, -8.2, -8.0, -8.0, -8.4, -8.3, -8.1, -8.1, -8.0, -8.7, -8.4, -8.3, -8.2, -8.7, -8.7, -8.3, -8.0, -8.0, -8.5, -8.2, -8.1, -8.0, -8.5, -8.4, -8.2, -8.0, -8.4], \"coloraxis\": \"coloraxis\", \"size\": [1.1425473754371059e+22, 1.1425473754371059e+22, 8.541466801005381e+21, 8.541466801005381e+21, 6.362685441135936e+21, 4.722366482869645e+21, 1.523010387809837e+22, 8.541466801005381e+21, 6.362685441135936e+21, 4.722366482869645e+21, 4.722366482869645e+21, 4.722366482869645e+21, 4.722366482869645e+21, 3.5355913511524947e+22, 4.722366482869645e+21, 4.722366482869645e+21, 4.722366482869645e+21, 6.362685441135936e+21, 1.1425473754371059e+22, 4.722366482869645e+21, 4.722366482869645e+21, 1.1425473754371059e+22, 1.1425473754371059e+22, 6.362685441135936e+21, 4.722366482869645e+21, 4.722366482869645e+21, 1.1425473754371059e+22, 6.362685441135936e+21, 6.362685441135936e+21, 4.722366482869645e+21, 2.678939031464213e+22, 1.523010387809837e+22, 8.541466801005381e+21, 1.523010387809837e+22, 1.523010387809837e+22, 8.541466801005381e+21, 8.541466801005381e+21, 1.523010387809837e+22, 4.722366482869645e+21, 3.5355913511524947e+22, 6.362685441135936e+21, 4.722366482869645e+21, 2.678939031464213e+22, 1.523010387809837e+22, 8.541466801005381e+21, 4.722366482869645e+21, 4.722366482869645e+21, 1.523010387809837e+22, 4.65140474534599e+22, 4.722366482869645e+21, 8.541466801005381e+21, 1.1425473754371059e+22, 8.541466801005381e+21, 6.362685441135936e+21, 4.722366482869645e+21, 8.541466801005381e+21, 1.1425473754371059e+22, 8.541466801005381e+21, 4.722366482869645e+21, 4.722366482869645e+21, 4.722366482869645e+21, 4.722366482869645e+21, 6.100425945333111e+22, 4.65140474534599e+22, 1.1425473754371059e+22, 1.1425473754371059e+22, 1.1425473754371059e+22, 1.1425473754371059e+22, 1.1425473754371059e+22, 1.1425473754371059e+22, 8.541466801005381e+21, 6.100425945333111e+22, 1.523010387809837e+22, 1.1425473754371059e+22, 8.541466801005381e+21, 8.541466801005381e+21, 8.541466801005381e+21, 8.541466801005381e+21, 4.722366482869645e+21, 4.722366482869645e+21, 1.523010387809837e+22, 1.1425473754371059e+22, 6.362685441135936e+21, 6.362685441135936e+21, 4.722366482869645e+21, 3.5355913511524947e+22, 1.523010387809837e+22, 1.1425473754371059e+22, 8.541466801005381e+21, 3.5355913511524947e+22, 3.5355913511524947e+22, 1.1425473754371059e+22, 4.722366482869645e+21, 4.722366482869645e+21, 2.0232717473185773e+22, 8.541466801005381e+21, 6.362685441135936e+21, 4.722366482869645e+21, 2.0232717473185773e+22, 1.523010387809837e+22, 8.541466801005381e+21, 4.722366482869645e+21, 1.523010387809837e+22], \"sizemode\": \"area\", \"sizeref\": 1.5251064863332778e+20, \"symbol\": \"circle\"}, \"mode\": \"markers\", \"name\": \"\", \"scene\": \"scene\", \"showlegend\": false, \"type\": \"scatter3d\", \"x\": [25.38624171331588, 25.386473618439375, 34.04838042685156, 32.36382507878674, 33.279653375309486, 33.33839962861692, 44.26566521785261, 44.785007407383276, 44.35332715278887, 41.36295920978257, 43.5097261958691, 41.10100625513975, 41.06523599555182, 45.700641590342315, 44.646537944552534, 43.77365273400739, 45.23285404529094, 44.59800207780433, 46.30150873434632, 45.672405455014896, 38.61540441611274, 33.880429501852035, 34.15329053519938, 33.31074734797502, 33.29005892193895, 33.274555762684194, 46.2873644598415, 45.839307509969885, 47.10641982872781, 46.82800608892989, 57.138952901774324, 44.29947486700497, 44.75857038480662, 53.796003439711285, 56.50688384393076, 49.17954292939992, 57.282461619101326, 53.8635816682473, 53.68643723224008, 45.803475211736526, 44.61413400823953, 45.311017678356045, 55.78854149760517, 53.7788880524079, 49.18841245248627, 56.47075035134013, 56.32467324010373, 53.924943404274885, 45.78648642528941, 44.58003467956079, 47.57520696857477, 46.30468270356454, 47.58165601221624, 45.755481640690505, 46.79852622005824, 47.5820763301587, 46.30501587539548, 47.56427789455923, 45.76914475430454, 46.789134627814846, 45.70994780829305, 58.016322006439104, 60.48576860111047, 57.437527027570205, 59.77982771569352, 59.635157592296274, 59.448267833249865, 59.05280321078343, 62.956488310449615, 61.705549271446785, 62.01954210016118, 60.46478401372554, 61.726958467450956, 62.989303289180896, 61.867055932696246, 59.94912973458205, 65.66868366787143, 59.7210823057472, 59.72291432442934, 62.98740213335247, 66.30863032392094, 59.58483604863758, 59.34380962742558, 58.78893403242868, 61.190383722079744, 55.785433862416625, 56.50524574146074, 57.244618076173374, 53.88664428772195, 55.82540142216257, 55.823329688666135, 53.96230691682881, 56.460939571671055, 56.32165750448387, 66.42648720165965, 65.77163369374442, 65.99075685488938, 64.59846884325542, 66.39854562207212, 66.4092523677663, 65.63811988293611, 64.67596186370865, 66.31075459385589], \"y\": [63.06467366413805, 63.067847956361035, 67.35701451348855, 67.10369952154012, 62.99553672242121, 67.31473842659737, 31.041428144652556, 31.74876913848614, 30.97046515042717, 32.80565939905901, 32.37874509635646, 32.803488498386244, 37.1550517770876, 47.61245225667004, 47.07320449317038, 39.3099134253028, 40.305326964852235, 47.01127703417877, 58.250131747206034, 58.9583044461319, 50.43595076349715, 67.85168298311577, 67.32610182110244, 66.42990369641318, 67.01728190097731, 67.19214526995344, 58.25021743979601, 59.34712676235864, 58.33589084140213, 57.79058595892409, 23.50821515232826, 31.039762447000243, 31.80155506851359, 40.40100209011617, 36.78846890372829, 39.14888451637457, 36.997646500594406, 40.39737762373491, 38.92161989144577, 47.742406664834384, 47.04581435444851, 40.284600101246795, 40.65175078768628, 40.38435019005501, 39.144667054851794, 40.055809094757365, 39.70216317028472, 40.38694173167501, 47.64440488830807, 47.008004382291375, 59.81482517981626, 58.253725872864315, 59.85052460974178, 59.23802468813925, 57.82424367307137, 59.860047486410814, 58.249813018975814, 59.836138185574946, 59.21021778452757, 57.839245288095285, 58.44123383373727, 11.793330426290273, 23.419552291831202, 23.533291682735435, 24.043420274488895, 24.790451584226215, 23.035306562682305, 24.152773747460234, 23.617232433084236, 23.574918593379348, 22.791096788094016, 23.426755955762832, 23.76076755750083, 23.633597560662075, 22.701260835778502, 22.575272198521926, 25.723126784085427, 23.874126596148788, 23.312738421889875, 24.781993718426012, 26.58321554051339, 24.812342334013742, 25.426170215917114, 25.164974805626805, 24.442744638283536, 40.58757931089175, 36.78419399080741, 36.975690315903755, 40.30114717213294, 40.61985616184134, 40.6340804064646, 40.37414652612338, 40.0473594051063, 39.66458219620803, 24.36036854556233, 24.88788768124208, 25.879224104847648, 24.950632994866325, 24.364657417576748, 26.604203842453337, 25.75344841935871, 24.941314589640893, 26.614762136307302], \"z\": [-10.804331045865597, -10.807707871503483, -10.331365171031397, -9.95680708684085, -10.723625457122385, -10.300327825232685, 14.609974822646114, 14.671947027215326, 14.035580974076694, 13.15688950592942, 14.314024251793095, 12.98804596300147, 11.839786038661352, -8.010812922653754, -9.213789574694678, 14.60964722119926, 15.340530850759123, -9.250282433645513, 5.640398515119484, 6.95796605806337, 3.4316991721010788, -10.296788846485459, -10.310901522286793, -10.163409227145873, -10.037689739781987, -10.343882011639039, 5.630950601994736, 6.875555268762071, 5.347736300631996, 5.775817471154987, 16.47568487769091, 14.628833293681964, 14.698403176962085, 28.960787593212416, 24.449184724698178, 27.245970483808303, 25.652244135851763, 28.929716182720774, 27.58578556827659, -8.11613924149641, -9.197484482553216, 15.233801726120191, 28.50691837611156, 28.926526962389865, 27.24349222996058, 26.741393416930745, 26.174897807731767, 28.9025857058071, -8.122137303467705, -9.223236841809856, 7.958579525262633, 5.646891535572714, 7.966575164698042, 6.897944922976758, 5.812686025226964, 7.97882199792944, 5.652152327897657, 7.928790365187329, 6.91039025206323, 5.841874115041125, 6.36929482587616, 13.460758221503792, 18.576984269087614, 16.284491641526973, 18.32201121355288, 17.472050502087768, 17.607085675570666, 17.999931221707662, 17.776851618047573, 17.583406934970668, 16.808546617520694, 18.55564948223275, 17.094757544352504, 17.764466001392687, 16.846064164610777, 17.905793132454782, 17.40927620494002, 17.68060332658717, 18.024976242129025, 17.903285393557073, 18.40680674681676, 17.480628800511596, 16.95452499321944, 17.52515701146703, 17.780442518365472, 28.424746344922042, 24.438966617165818, 25.681171110336194, 28.811027643343337, 28.45755599407439, 28.470034893931675, 28.8608176109306, 26.75095865538757, 26.154144156455992, 16.284162254138867, 16.908564614174047, 17.460773585957842, 18.488428882276708, 16.2931953404025, 18.38300944173403, 17.41608666160433, 18.48858921540617, 18.390224895340296]}],                        {\"coloraxis\": {\"colorbar\": {\"title\": {\"text\": \"Energy\"}}, \"colorscale\": [[0.0, \"#0d0887\"], [0.1111111111111111, \"#46039f\"], [0.2222222222222222, \"#7201a8\"], [0.3333333333333333, \"#9c179e\"], [0.4444444444444444, \"#bd3786\"], [0.5555555555555556, \"#d8576b\"], [0.6666666666666666, \"#ed7953\"], [0.7777777777777778, \"#fb9f3a\"], [0.8888888888888888, \"#fdca26\"], [1.0, \"#f0f921\"]]}, \"legend\": {\"itemsizing\": \"constant\", \"tracegroupgap\": 0}, \"margin\": {\"t\": 60}, \"scene\": {\"domain\": {\"x\": [0.0, 1.0], \"y\": [0.0, 1.0]}, \"xaxis\": {\"title\": {\"text\": \"x\"}}, \"yaxis\": {\"title\": {\"text\": \"y\"}}, \"zaxis\": {\"title\": {\"text\": \"z\"}}}, \"template\": {\"data\": {\"bar\": [{\"error_x\": {\"color\": \"#2a3f5f\"}, \"error_y\": {\"color\": \"#2a3f5f\"}, \"marker\": {\"line\": {\"color\": \"#E5ECF6\", \"width\": 0.5}}, \"type\": \"bar\"}], \"barpolar\": [{\"marker\": {\"line\": {\"color\": \"#E5ECF6\", \"width\": 0.5}}, \"type\": \"barpolar\"}], \"carpet\": [{\"aaxis\": {\"endlinecolor\": \"#2a3f5f\", \"gridcolor\": \"white\", \"linecolor\": \"white\", \"minorgridcolor\": \"white\", \"startlinecolor\": \"#2a3f5f\"}, \"baxis\": {\"endlinecolor\": \"#2a3f5f\", \"gridcolor\": \"white\", \"linecolor\": \"white\", \"minorgridcolor\": \"white\", \"startlinecolor\": \"#2a3f5f\"}, \"type\": \"carpet\"}], \"choropleth\": [{\"colorbar\": {\"outlinewidth\": 0, \"ticks\": \"\"}, \"type\": \"choropleth\"}], \"contour\": [{\"colorbar\": {\"outlinewidth\": 0, \"ticks\": \"\"}, \"colorscale\": [[0.0, \"#0d0887\"], [0.1111111111111111, \"#46039f\"], [0.2222222222222222, \"#7201a8\"], [0.3333333333333333, \"#9c179e\"], [0.4444444444444444, \"#bd3786\"], [0.5555555555555556, \"#d8576b\"], [0.6666666666666666, \"#ed7953\"], [0.7777777777777778, \"#fb9f3a\"], [0.8888888888888888, \"#fdca26\"], [1.0, \"#f0f921\"]], \"type\": \"contour\"}], \"contourcarpet\": [{\"colorbar\": {\"outlinewidth\": 0, \"ticks\": \"\"}, \"type\": \"contourcarpet\"}], \"heatmap\": [{\"colorbar\": {\"outlinewidth\": 0, \"ticks\": \"\"}, \"colorscale\": [[0.0, \"#0d0887\"], [0.1111111111111111, \"#46039f\"], [0.2222222222222222, \"#7201a8\"], [0.3333333333333333, \"#9c179e\"], [0.4444444444444444, \"#bd3786\"], [0.5555555555555556, \"#d8576b\"], [0.6666666666666666, \"#ed7953\"], [0.7777777777777778, \"#fb9f3a\"], [0.8888888888888888, \"#fdca26\"], [1.0, \"#f0f921\"]], \"type\": \"heatmap\"}], \"heatmapgl\": [{\"colorbar\": {\"outlinewidth\": 0, \"ticks\": \"\"}, \"colorscale\": [[0.0, \"#0d0887\"], [0.1111111111111111, \"#46039f\"], [0.2222222222222222, \"#7201a8\"], [0.3333333333333333, \"#9c179e\"], [0.4444444444444444, \"#bd3786\"], [0.5555555555555556, \"#d8576b\"], [0.6666666666666666, \"#ed7953\"], [0.7777777777777778, \"#fb9f3a\"], [0.8888888888888888, \"#fdca26\"], [1.0, \"#f0f921\"]], \"type\": \"heatmapgl\"}], \"histogram\": [{\"marker\": {\"colorbar\": {\"outlinewidth\": 0, \"ticks\": \"\"}}, \"type\": \"histogram\"}], \"histogram2d\": [{\"colorbar\": {\"outlinewidth\": 0, \"ticks\": \"\"}, \"colorscale\": [[0.0, \"#0d0887\"], [0.1111111111111111, \"#46039f\"], [0.2222222222222222, \"#7201a8\"], [0.3333333333333333, \"#9c179e\"], [0.4444444444444444, \"#bd3786\"], [0.5555555555555556, \"#d8576b\"], [0.6666666666666666, \"#ed7953\"], [0.7777777777777778, \"#fb9f3a\"], [0.8888888888888888, \"#fdca26\"], [1.0, \"#f0f921\"]], \"type\": \"histogram2d\"}], \"histogram2dcontour\": [{\"colorbar\": {\"outlinewidth\": 0, \"ticks\": \"\"}, \"colorscale\": [[0.0, \"#0d0887\"], [0.1111111111111111, \"#46039f\"], [0.2222222222222222, \"#7201a8\"], [0.3333333333333333, \"#9c179e\"], [0.4444444444444444, \"#bd3786\"], [0.5555555555555556, \"#d8576b\"], [0.6666666666666666, \"#ed7953\"], [0.7777777777777778, \"#fb9f3a\"], [0.8888888888888888, \"#fdca26\"], [1.0, \"#f0f921\"]], \"type\": \"histogram2dcontour\"}], \"mesh3d\": [{\"colorbar\": {\"outlinewidth\": 0, \"ticks\": \"\"}, \"type\": \"mesh3d\"}], \"parcoords\": [{\"line\": {\"colorbar\": {\"outlinewidth\": 0, \"ticks\": \"\"}}, \"type\": \"parcoords\"}], \"pie\": [{\"automargin\": true, \"type\": \"pie\"}], \"scatter\": [{\"marker\": {\"colorbar\": {\"outlinewidth\": 0, \"ticks\": \"\"}}, \"type\": \"scatter\"}], \"scatter3d\": [{\"line\": {\"colorbar\": {\"outlinewidth\": 0, \"ticks\": \"\"}}, \"marker\": {\"colorbar\": {\"outlinewidth\": 0, \"ticks\": \"\"}}, \"type\": \"scatter3d\"}], \"scattercarpet\": [{\"marker\": {\"colorbar\": {\"outlinewidth\": 0, \"ticks\": \"\"}}, \"type\": \"scattercarpet\"}], \"scattergeo\": [{\"marker\": {\"colorbar\": {\"outlinewidth\": 0, \"ticks\": \"\"}}, \"type\": \"scattergeo\"}], \"scattergl\": [{\"marker\": {\"colorbar\": {\"outlinewidth\": 0, \"ticks\": \"\"}}, \"type\": \"scattergl\"}], \"scattermapbox\": [{\"marker\": {\"colorbar\": {\"outlinewidth\": 0, \"ticks\": \"\"}}, \"type\": \"scattermapbox\"}], \"scatterpolar\": [{\"marker\": {\"colorbar\": {\"outlinewidth\": 0, \"ticks\": \"\"}}, \"type\": \"scatterpolar\"}], \"scatterpolargl\": [{\"marker\": {\"colorbar\": {\"outlinewidth\": 0, \"ticks\": \"\"}}, \"type\": \"scatterpolargl\"}], \"scatterternary\": [{\"marker\": {\"colorbar\": {\"outlinewidth\": 0, \"ticks\": \"\"}}, \"type\": \"scatterternary\"}], \"surface\": [{\"colorbar\": {\"outlinewidth\": 0, \"ticks\": \"\"}, \"colorscale\": [[0.0, \"#0d0887\"], [0.1111111111111111, \"#46039f\"], [0.2222222222222222, \"#7201a8\"], [0.3333333333333333, \"#9c179e\"], [0.4444444444444444, \"#bd3786\"], [0.5555555555555556, \"#d8576b\"], [0.6666666666666666, \"#ed7953\"], [0.7777777777777778, \"#fb9f3a\"], [0.8888888888888888, \"#fdca26\"], [1.0, \"#f0f921\"]], \"type\": \"surface\"}], \"table\": [{\"cells\": {\"fill\": {\"color\": \"#EBF0F8\"}, \"line\": {\"color\": \"white\"}}, \"header\": {\"fill\": {\"color\": \"#C8D4E3\"}, \"line\": {\"color\": \"white\"}}, \"type\": \"table\"}]}, \"layout\": {\"annotationdefaults\": {\"arrowcolor\": \"#2a3f5f\", \"arrowhead\": 0, \"arrowwidth\": 1}, \"coloraxis\": {\"colorbar\": {\"outlinewidth\": 0, \"ticks\": \"\"}}, \"colorscale\": {\"diverging\": [[0, \"#8e0152\"], [0.1, \"#c51b7d\"], [0.2, \"#de77ae\"], [0.3, \"#f1b6da\"], [0.4, \"#fde0ef\"], [0.5, \"#f7f7f7\"], [0.6, \"#e6f5d0\"], [0.7, \"#b8e186\"], [0.8, \"#7fbc41\"], [0.9, \"#4d9221\"], [1, \"#276419\"]], \"sequential\": [[0.0, \"#0d0887\"], [0.1111111111111111, \"#46039f\"], [0.2222222222222222, \"#7201a8\"], [0.3333333333333333, \"#9c179e\"], [0.4444444444444444, \"#bd3786\"], [0.5555555555555556, \"#d8576b\"], [0.6666666666666666, \"#ed7953\"], [0.7777777777777778, \"#fb9f3a\"], [0.8888888888888888, \"#fdca26\"], [1.0, \"#f0f921\"]], \"sequentialminus\": [[0.0, \"#0d0887\"], [0.1111111111111111, \"#46039f\"], [0.2222222222222222, \"#7201a8\"], [0.3333333333333333, \"#9c179e\"], [0.4444444444444444, \"#bd3786\"], [0.5555555555555556, \"#d8576b\"], [0.6666666666666666, \"#ed7953\"], [0.7777777777777778, \"#fb9f3a\"], [0.8888888888888888, \"#fdca26\"], [1.0, \"#f0f921\"]]}, \"colorway\": [\"#636efa\", \"#EF553B\", \"#00cc96\", \"#ab63fa\", \"#FFA15A\", \"#19d3f3\", \"#FF6692\", \"#B6E880\", \"#FF97FF\", \"#FECB52\"], \"font\": {\"color\": \"#2a3f5f\"}, \"geo\": {\"bgcolor\": \"white\", \"lakecolor\": \"white\", \"landcolor\": \"#E5ECF6\", \"showlakes\": true, \"showland\": true, \"subunitcolor\": \"white\"}, \"hoverlabel\": {\"align\": \"left\"}, \"hovermode\": \"closest\", \"mapbox\": {\"style\": \"light\"}, \"paper_bgcolor\": \"white\", \"plot_bgcolor\": \"#E5ECF6\", \"polar\": {\"angularaxis\": {\"gridcolor\": \"white\", \"linecolor\": \"white\", \"ticks\": \"\"}, \"bgcolor\": \"#E5ECF6\", \"radialaxis\": {\"gridcolor\": \"white\", \"linecolor\": \"white\", \"ticks\": \"\"}}, \"scene\": {\"xaxis\": {\"backgroundcolor\": \"#E5ECF6\", \"gridcolor\": \"white\", \"gridwidth\": 2, \"linecolor\": \"white\", \"showbackground\": true, \"ticks\": \"\", \"zerolinecolor\": \"white\"}, \"yaxis\": {\"backgroundcolor\": \"#E5ECF6\", \"gridcolor\": \"white\", \"gridwidth\": 2, \"linecolor\": \"white\", \"showbackground\": true, \"ticks\": \"\", \"zerolinecolor\": \"white\"}, \"zaxis\": {\"backgroundcolor\": \"#E5ECF6\", \"gridcolor\": \"white\", \"gridwidth\": 2, \"linecolor\": \"white\", \"showbackground\": true, \"ticks\": \"\", \"zerolinecolor\": \"white\"}}, \"shapedefaults\": {\"line\": {\"color\": \"#2a3f5f\"}}, \"ternary\": {\"aaxis\": {\"gridcolor\": \"white\", \"linecolor\": \"white\", \"ticks\": \"\"}, \"baxis\": {\"gridcolor\": \"white\", \"linecolor\": \"white\", \"ticks\": \"\"}, \"bgcolor\": \"#E5ECF6\", \"caxis\": {\"gridcolor\": \"white\", \"linecolor\": \"white\", \"ticks\": \"\"}}, \"title\": {\"x\": 0.05}, \"xaxis\": {\"automargin\": true, \"gridcolor\": \"white\", \"linecolor\": \"white\", \"ticks\": \"\", \"title\": {\"standoff\": 15}, \"zerolinecolor\": \"white\", \"zerolinewidth\": 2}, \"yaxis\": {\"automargin\": true, \"gridcolor\": \"white\", \"linecolor\": \"white\", \"ticks\": \"\", \"title\": {\"standoff\": 15}, \"zerolinecolor\": \"white\", \"zerolinewidth\": 2}}}},                        {\"responsive\": true}                    ).then(function(){\n",
       "                            \n",
       "var gd = document.getElementById('557c183d-de9e-4236-aca3-f4829e4ac522');\n",
       "var x = new MutationObserver(function (mutations, observer) {{\n",
       "        var display = window.getComputedStyle(gd).display;\n",
       "        if (!display || display === 'none') {{\n",
       "            console.log([gd, 'removed!']);\n",
       "            Plotly.purge(gd);\n",
       "            observer.disconnect();\n",
       "        }}\n",
       "}});\n",
       "\n",
       "// Listen for the removal of the full notebook cells\n",
       "var notebookContainer = gd.closest('#notebook-container');\n",
       "if (notebookContainer) {{\n",
       "    x.observe(notebookContainer, {childList: true});\n",
       "}}\n",
       "\n",
       "// Listen for the clearing of the current output cell\n",
       "var outputEl = gd.closest('.output');\n",
       "if (outputEl) {{\n",
       "    x.observe(outputEl, {childList: true});\n",
       "}}\n",
       "\n",
       "                        })                };                });            </script>        </div>"
      ]
     },
     "metadata": {},
     "output_type": "display_data"
    },
    {
     "data": {
      "application/vnd.plotly.v1+json": {
       "config": {
        "plotlyServerURL": "https://plotly.com"
       },
       "data": [
        {
         "hovertemplate": "x=%{x}<br>y=%{y}<br>z=%{z}<br>size=%{marker.size}<br>Energy=%{marker.color}<extra></extra>",
         "legendgroup": "",
         "marker": {
          "color": [
           -8.7,
           -8.6,
           -8.7,
           -8.6,
           -8.8,
           -8.9,
           -8.8,
           -8.9,
           -8.7,
           -8.7,
           -8.7,
           -8.5,
           -8.5
          ],
          "coloraxis": "coloraxis",
          "size": [
           9.072791734335326e+23,
           6.7563246018964e+23,
           9.072791734335326e+23,
           6.7563246018964e+23,
           1.2142500774027192e+24,
           1.6197394856155016e+24,
           1.2142500774027192e+24,
           1.6197394856155016e+24,
           9.072791734335326e+23,
           9.072791734335326e+23,
           9.072791734335326e+23,
           5.0139800972460434e+23,
           5.0139800972460434e+23
          ],
          "sizemode": "area",
          "sizeref": 4.049348714038754e+21,
          "symbol": "circle"
         },
         "mode": "markers",
         "name": "",
         "scene": "scene",
         "showlegend": false,
         "type": "scatter3d",
         "x": [
          45.700641590342315,
          57.138952901774324,
          45.803475211736526,
          55.78854149760517,
          45.78648642528941,
          60.48576860111047,
          57.437527027570205,
          60.46478401372554,
          55.785433862416625,
          55.82540142216257,
          55.823329688666135,
          66.42648720165965,
          66.39854562207212
         ],
         "y": [
          47.61245225667004,
          23.50821515232826,
          47.742406664834384,
          40.65175078768628,
          47.64440488830807,
          23.419552291831202,
          23.533291682735435,
          23.426755955762832,
          40.58757931089175,
          40.61985616184134,
          40.6340804064646,
          24.36036854556233,
          24.364657417576748
         ],
         "z": [
          -8.010812922653754,
          16.47568487769091,
          -8.11613924149641,
          28.50691837611156,
          -8.122137303467705,
          18.576984269087614,
          16.284491641526973,
          18.55564948223275,
          28.424746344922042,
          28.45755599407439,
          28.470034893931675,
          16.284162254138867,
          16.2931953404025
         ]
        }
       ],
       "layout": {
        "coloraxis": {
         "colorbar": {
          "title": {
           "text": "Energy"
          }
         },
         "colorscale": [
          [
           0,
           "#0d0887"
          ],
          [
           0.1111111111111111,
           "#46039f"
          ],
          [
           0.2222222222222222,
           "#7201a8"
          ],
          [
           0.3333333333333333,
           "#9c179e"
          ],
          [
           0.4444444444444444,
           "#bd3786"
          ],
          [
           0.5555555555555556,
           "#d8576b"
          ],
          [
           0.6666666666666666,
           "#ed7953"
          ],
          [
           0.7777777777777778,
           "#fb9f3a"
          ],
          [
           0.8888888888888888,
           "#fdca26"
          ],
          [
           1,
           "#f0f921"
          ]
         ]
        },
        "legend": {
         "itemsizing": "constant",
         "tracegroupgap": 0
        },
        "margin": {
         "t": 60
        },
        "scene": {
         "domain": {
          "x": [
           0,
           1
          ],
          "y": [
           0,
           1
          ]
         },
         "xaxis": {
          "title": {
           "text": "x"
          }
         },
         "yaxis": {
          "title": {
           "text": "y"
          }
         },
         "zaxis": {
          "title": {
           "text": "z"
          }
         }
        },
        "template": {
         "data": {
          "bar": [
           {
            "error_x": {
             "color": "#2a3f5f"
            },
            "error_y": {
             "color": "#2a3f5f"
            },
            "marker": {
             "line": {
              "color": "#E5ECF6",
              "width": 0.5
             }
            },
            "type": "bar"
           }
          ],
          "barpolar": [
           {
            "marker": {
             "line": {
              "color": "#E5ECF6",
              "width": 0.5
             }
            },
            "type": "barpolar"
           }
          ],
          "carpet": [
           {
            "aaxis": {
             "endlinecolor": "#2a3f5f",
             "gridcolor": "white",
             "linecolor": "white",
             "minorgridcolor": "white",
             "startlinecolor": "#2a3f5f"
            },
            "baxis": {
             "endlinecolor": "#2a3f5f",
             "gridcolor": "white",
             "linecolor": "white",
             "minorgridcolor": "white",
             "startlinecolor": "#2a3f5f"
            },
            "type": "carpet"
           }
          ],
          "choropleth": [
           {
            "colorbar": {
             "outlinewidth": 0,
             "ticks": ""
            },
            "type": "choropleth"
           }
          ],
          "contour": [
           {
            "colorbar": {
             "outlinewidth": 0,
             "ticks": ""
            },
            "colorscale": [
             [
              0,
              "#0d0887"
             ],
             [
              0.1111111111111111,
              "#46039f"
             ],
             [
              0.2222222222222222,
              "#7201a8"
             ],
             [
              0.3333333333333333,
              "#9c179e"
             ],
             [
              0.4444444444444444,
              "#bd3786"
             ],
             [
              0.5555555555555556,
              "#d8576b"
             ],
             [
              0.6666666666666666,
              "#ed7953"
             ],
             [
              0.7777777777777778,
              "#fb9f3a"
             ],
             [
              0.8888888888888888,
              "#fdca26"
             ],
             [
              1,
              "#f0f921"
             ]
            ],
            "type": "contour"
           }
          ],
          "contourcarpet": [
           {
            "colorbar": {
             "outlinewidth": 0,
             "ticks": ""
            },
            "type": "contourcarpet"
           }
          ],
          "heatmap": [
           {
            "colorbar": {
             "outlinewidth": 0,
             "ticks": ""
            },
            "colorscale": [
             [
              0,
              "#0d0887"
             ],
             [
              0.1111111111111111,
              "#46039f"
             ],
             [
              0.2222222222222222,
              "#7201a8"
             ],
             [
              0.3333333333333333,
              "#9c179e"
             ],
             [
              0.4444444444444444,
              "#bd3786"
             ],
             [
              0.5555555555555556,
              "#d8576b"
             ],
             [
              0.6666666666666666,
              "#ed7953"
             ],
             [
              0.7777777777777778,
              "#fb9f3a"
             ],
             [
              0.8888888888888888,
              "#fdca26"
             ],
             [
              1,
              "#f0f921"
             ]
            ],
            "type": "heatmap"
           }
          ],
          "heatmapgl": [
           {
            "colorbar": {
             "outlinewidth": 0,
             "ticks": ""
            },
            "colorscale": [
             [
              0,
              "#0d0887"
             ],
             [
              0.1111111111111111,
              "#46039f"
             ],
             [
              0.2222222222222222,
              "#7201a8"
             ],
             [
              0.3333333333333333,
              "#9c179e"
             ],
             [
              0.4444444444444444,
              "#bd3786"
             ],
             [
              0.5555555555555556,
              "#d8576b"
             ],
             [
              0.6666666666666666,
              "#ed7953"
             ],
             [
              0.7777777777777778,
              "#fb9f3a"
             ],
             [
              0.8888888888888888,
              "#fdca26"
             ],
             [
              1,
              "#f0f921"
             ]
            ],
            "type": "heatmapgl"
           }
          ],
          "histogram": [
           {
            "marker": {
             "colorbar": {
              "outlinewidth": 0,
              "ticks": ""
             }
            },
            "type": "histogram"
           }
          ],
          "histogram2d": [
           {
            "colorbar": {
             "outlinewidth": 0,
             "ticks": ""
            },
            "colorscale": [
             [
              0,
              "#0d0887"
             ],
             [
              0.1111111111111111,
              "#46039f"
             ],
             [
              0.2222222222222222,
              "#7201a8"
             ],
             [
              0.3333333333333333,
              "#9c179e"
             ],
             [
              0.4444444444444444,
              "#bd3786"
             ],
             [
              0.5555555555555556,
              "#d8576b"
             ],
             [
              0.6666666666666666,
              "#ed7953"
             ],
             [
              0.7777777777777778,
              "#fb9f3a"
             ],
             [
              0.8888888888888888,
              "#fdca26"
             ],
             [
              1,
              "#f0f921"
             ]
            ],
            "type": "histogram2d"
           }
          ],
          "histogram2dcontour": [
           {
            "colorbar": {
             "outlinewidth": 0,
             "ticks": ""
            },
            "colorscale": [
             [
              0,
              "#0d0887"
             ],
             [
              0.1111111111111111,
              "#46039f"
             ],
             [
              0.2222222222222222,
              "#7201a8"
             ],
             [
              0.3333333333333333,
              "#9c179e"
             ],
             [
              0.4444444444444444,
              "#bd3786"
             ],
             [
              0.5555555555555556,
              "#d8576b"
             ],
             [
              0.6666666666666666,
              "#ed7953"
             ],
             [
              0.7777777777777778,
              "#fb9f3a"
             ],
             [
              0.8888888888888888,
              "#fdca26"
             ],
             [
              1,
              "#f0f921"
             ]
            ],
            "type": "histogram2dcontour"
           }
          ],
          "mesh3d": [
           {
            "colorbar": {
             "outlinewidth": 0,
             "ticks": ""
            },
            "type": "mesh3d"
           }
          ],
          "parcoords": [
           {
            "line": {
             "colorbar": {
              "outlinewidth": 0,
              "ticks": ""
             }
            },
            "type": "parcoords"
           }
          ],
          "pie": [
           {
            "automargin": true,
            "type": "pie"
           }
          ],
          "scatter": [
           {
            "marker": {
             "colorbar": {
              "outlinewidth": 0,
              "ticks": ""
             }
            },
            "type": "scatter"
           }
          ],
          "scatter3d": [
           {
            "line": {
             "colorbar": {
              "outlinewidth": 0,
              "ticks": ""
             }
            },
            "marker": {
             "colorbar": {
              "outlinewidth": 0,
              "ticks": ""
             }
            },
            "type": "scatter3d"
           }
          ],
          "scattercarpet": [
           {
            "marker": {
             "colorbar": {
              "outlinewidth": 0,
              "ticks": ""
             }
            },
            "type": "scattercarpet"
           }
          ],
          "scattergeo": [
           {
            "marker": {
             "colorbar": {
              "outlinewidth": 0,
              "ticks": ""
             }
            },
            "type": "scattergeo"
           }
          ],
          "scattergl": [
           {
            "marker": {
             "colorbar": {
              "outlinewidth": 0,
              "ticks": ""
             }
            },
            "type": "scattergl"
           }
          ],
          "scattermapbox": [
           {
            "marker": {
             "colorbar": {
              "outlinewidth": 0,
              "ticks": ""
             }
            },
            "type": "scattermapbox"
           }
          ],
          "scatterpolar": [
           {
            "marker": {
             "colorbar": {
              "outlinewidth": 0,
              "ticks": ""
             }
            },
            "type": "scatterpolar"
           }
          ],
          "scatterpolargl": [
           {
            "marker": {
             "colorbar": {
              "outlinewidth": 0,
              "ticks": ""
             }
            },
            "type": "scatterpolargl"
           }
          ],
          "scatterternary": [
           {
            "marker": {
             "colorbar": {
              "outlinewidth": 0,
              "ticks": ""
             }
            },
            "type": "scatterternary"
           }
          ],
          "surface": [
           {
            "colorbar": {
             "outlinewidth": 0,
             "ticks": ""
            },
            "colorscale": [
             [
              0,
              "#0d0887"
             ],
             [
              0.1111111111111111,
              "#46039f"
             ],
             [
              0.2222222222222222,
              "#7201a8"
             ],
             [
              0.3333333333333333,
              "#9c179e"
             ],
             [
              0.4444444444444444,
              "#bd3786"
             ],
             [
              0.5555555555555556,
              "#d8576b"
             ],
             [
              0.6666666666666666,
              "#ed7953"
             ],
             [
              0.7777777777777778,
              "#fb9f3a"
             ],
             [
              0.8888888888888888,
              "#fdca26"
             ],
             [
              1,
              "#f0f921"
             ]
            ],
            "type": "surface"
           }
          ],
          "table": [
           {
            "cells": {
             "fill": {
              "color": "#EBF0F8"
             },
             "line": {
              "color": "white"
             }
            },
            "header": {
             "fill": {
              "color": "#C8D4E3"
             },
             "line": {
              "color": "white"
             }
            },
            "type": "table"
           }
          ]
         },
         "layout": {
          "annotationdefaults": {
           "arrowcolor": "#2a3f5f",
           "arrowhead": 0,
           "arrowwidth": 1
          },
          "coloraxis": {
           "colorbar": {
            "outlinewidth": 0,
            "ticks": ""
           }
          },
          "colorscale": {
           "diverging": [
            [
             0,
             "#8e0152"
            ],
            [
             0.1,
             "#c51b7d"
            ],
            [
             0.2,
             "#de77ae"
            ],
            [
             0.3,
             "#f1b6da"
            ],
            [
             0.4,
             "#fde0ef"
            ],
            [
             0.5,
             "#f7f7f7"
            ],
            [
             0.6,
             "#e6f5d0"
            ],
            [
             0.7,
             "#b8e186"
            ],
            [
             0.8,
             "#7fbc41"
            ],
            [
             0.9,
             "#4d9221"
            ],
            [
             1,
             "#276419"
            ]
           ],
           "sequential": [
            [
             0,
             "#0d0887"
            ],
            [
             0.1111111111111111,
             "#46039f"
            ],
            [
             0.2222222222222222,
             "#7201a8"
            ],
            [
             0.3333333333333333,
             "#9c179e"
            ],
            [
             0.4444444444444444,
             "#bd3786"
            ],
            [
             0.5555555555555556,
             "#d8576b"
            ],
            [
             0.6666666666666666,
             "#ed7953"
            ],
            [
             0.7777777777777778,
             "#fb9f3a"
            ],
            [
             0.8888888888888888,
             "#fdca26"
            ],
            [
             1,
             "#f0f921"
            ]
           ],
           "sequentialminus": [
            [
             0,
             "#0d0887"
            ],
            [
             0.1111111111111111,
             "#46039f"
            ],
            [
             0.2222222222222222,
             "#7201a8"
            ],
            [
             0.3333333333333333,
             "#9c179e"
            ],
            [
             0.4444444444444444,
             "#bd3786"
            ],
            [
             0.5555555555555556,
             "#d8576b"
            ],
            [
             0.6666666666666666,
             "#ed7953"
            ],
            [
             0.7777777777777778,
             "#fb9f3a"
            ],
            [
             0.8888888888888888,
             "#fdca26"
            ],
            [
             1,
             "#f0f921"
            ]
           ]
          },
          "colorway": [
           "#636efa",
           "#EF553B",
           "#00cc96",
           "#ab63fa",
           "#FFA15A",
           "#19d3f3",
           "#FF6692",
           "#B6E880",
           "#FF97FF",
           "#FECB52"
          ],
          "font": {
           "color": "#2a3f5f"
          },
          "geo": {
           "bgcolor": "white",
           "lakecolor": "white",
           "landcolor": "#E5ECF6",
           "showlakes": true,
           "showland": true,
           "subunitcolor": "white"
          },
          "hoverlabel": {
           "align": "left"
          },
          "hovermode": "closest",
          "mapbox": {
           "style": "light"
          },
          "paper_bgcolor": "white",
          "plot_bgcolor": "#E5ECF6",
          "polar": {
           "angularaxis": {
            "gridcolor": "white",
            "linecolor": "white",
            "ticks": ""
           },
           "bgcolor": "#E5ECF6",
           "radialaxis": {
            "gridcolor": "white",
            "linecolor": "white",
            "ticks": ""
           }
          },
          "scene": {
           "xaxis": {
            "backgroundcolor": "#E5ECF6",
            "gridcolor": "white",
            "gridwidth": 2,
            "linecolor": "white",
            "showbackground": true,
            "ticks": "",
            "zerolinecolor": "white"
           },
           "yaxis": {
            "backgroundcolor": "#E5ECF6",
            "gridcolor": "white",
            "gridwidth": 2,
            "linecolor": "white",
            "showbackground": true,
            "ticks": "",
            "zerolinecolor": "white"
           },
           "zaxis": {
            "backgroundcolor": "#E5ECF6",
            "gridcolor": "white",
            "gridwidth": 2,
            "linecolor": "white",
            "showbackground": true,
            "ticks": "",
            "zerolinecolor": "white"
           }
          },
          "shapedefaults": {
           "line": {
            "color": "#2a3f5f"
           }
          },
          "ternary": {
           "aaxis": {
            "gridcolor": "white",
            "linecolor": "white",
            "ticks": ""
           },
           "baxis": {
            "gridcolor": "white",
            "linecolor": "white",
            "ticks": ""
           },
           "bgcolor": "#E5ECF6",
           "caxis": {
            "gridcolor": "white",
            "linecolor": "white",
            "ticks": ""
           }
          },
          "title": {
           "x": 0.05
          },
          "xaxis": {
           "automargin": true,
           "gridcolor": "white",
           "linecolor": "white",
           "ticks": "",
           "title": {
            "standoff": 15
           },
           "zerolinecolor": "white",
           "zerolinewidth": 2
          },
          "yaxis": {
           "automargin": true,
           "gridcolor": "white",
           "linecolor": "white",
           "ticks": "",
           "title": {
            "standoff": 15
           },
           "zerolinecolor": "white",
           "zerolinewidth": 2
          }
         }
        }
       }
      },
      "text/html": [
       "<div>                            <div id=\"db178d2a-f253-4a26-b05b-9dfe5ee69ef4\" class=\"plotly-graph-div\" style=\"height:525px; width:100%;\"></div>            <script type=\"text/javascript\">                require([\"plotly\"], function(Plotly) {                    window.PLOTLYENV=window.PLOTLYENV || {};                                    if (document.getElementById(\"db178d2a-f253-4a26-b05b-9dfe5ee69ef4\")) {                    Plotly.newPlot(                        \"db178d2a-f253-4a26-b05b-9dfe5ee69ef4\",                        [{\"hovertemplate\": \"x=%{x}<br>y=%{y}<br>z=%{z}<br>size=%{marker.size}<br>Energy=%{marker.color}<extra></extra>\", \"legendgroup\": \"\", \"marker\": {\"color\": [-8.7, -8.6, -8.7, -8.6, -8.8, -8.9, -8.8, -8.9, -8.7, -8.7, -8.7, -8.5, -8.5], \"coloraxis\": \"coloraxis\", \"size\": [9.072791734335326e+23, 6.7563246018964e+23, 9.072791734335326e+23, 6.7563246018964e+23, 1.2142500774027192e+24, 1.6197394856155016e+24, 1.2142500774027192e+24, 1.6197394856155016e+24, 9.072791734335326e+23, 9.072791734335326e+23, 9.072791734335326e+23, 5.0139800972460434e+23, 5.0139800972460434e+23], \"sizemode\": \"area\", \"sizeref\": 4.049348714038754e+21, \"symbol\": \"circle\"}, \"mode\": \"markers\", \"name\": \"\", \"scene\": \"scene\", \"showlegend\": false, \"type\": \"scatter3d\", \"x\": [45.700641590342315, 57.138952901774324, 45.803475211736526, 55.78854149760517, 45.78648642528941, 60.48576860111047, 57.437527027570205, 60.46478401372554, 55.785433862416625, 55.82540142216257, 55.823329688666135, 66.42648720165965, 66.39854562207212], \"y\": [47.61245225667004, 23.50821515232826, 47.742406664834384, 40.65175078768628, 47.64440488830807, 23.419552291831202, 23.533291682735435, 23.426755955762832, 40.58757931089175, 40.61985616184134, 40.6340804064646, 24.36036854556233, 24.364657417576748], \"z\": [-8.010812922653754, 16.47568487769091, -8.11613924149641, 28.50691837611156, -8.122137303467705, 18.576984269087614, 16.284491641526973, 18.55564948223275, 28.424746344922042, 28.45755599407439, 28.470034893931675, 16.284162254138867, 16.2931953404025]}],                        {\"coloraxis\": {\"colorbar\": {\"title\": {\"text\": \"Energy\"}}, \"colorscale\": [[0.0, \"#0d0887\"], [0.1111111111111111, \"#46039f\"], [0.2222222222222222, \"#7201a8\"], [0.3333333333333333, \"#9c179e\"], [0.4444444444444444, \"#bd3786\"], [0.5555555555555556, \"#d8576b\"], [0.6666666666666666, \"#ed7953\"], [0.7777777777777778, \"#fb9f3a\"], [0.8888888888888888, \"#fdca26\"], [1.0, \"#f0f921\"]]}, \"legend\": {\"itemsizing\": \"constant\", \"tracegroupgap\": 0}, \"margin\": {\"t\": 60}, \"scene\": {\"domain\": {\"x\": [0.0, 1.0], \"y\": [0.0, 1.0]}, \"xaxis\": {\"title\": {\"text\": \"x\"}}, \"yaxis\": {\"title\": {\"text\": \"y\"}}, \"zaxis\": {\"title\": {\"text\": \"z\"}}}, \"template\": {\"data\": {\"bar\": [{\"error_x\": {\"color\": \"#2a3f5f\"}, \"error_y\": {\"color\": \"#2a3f5f\"}, \"marker\": {\"line\": {\"color\": \"#E5ECF6\", \"width\": 0.5}}, \"type\": \"bar\"}], \"barpolar\": [{\"marker\": {\"line\": {\"color\": \"#E5ECF6\", \"width\": 0.5}}, \"type\": \"barpolar\"}], \"carpet\": [{\"aaxis\": {\"endlinecolor\": \"#2a3f5f\", \"gridcolor\": \"white\", \"linecolor\": \"white\", \"minorgridcolor\": \"white\", \"startlinecolor\": \"#2a3f5f\"}, \"baxis\": {\"endlinecolor\": \"#2a3f5f\", \"gridcolor\": \"white\", \"linecolor\": \"white\", \"minorgridcolor\": \"white\", \"startlinecolor\": \"#2a3f5f\"}, \"type\": \"carpet\"}], \"choropleth\": [{\"colorbar\": {\"outlinewidth\": 0, \"ticks\": \"\"}, \"type\": \"choropleth\"}], \"contour\": [{\"colorbar\": {\"outlinewidth\": 0, \"ticks\": \"\"}, \"colorscale\": [[0.0, \"#0d0887\"], [0.1111111111111111, \"#46039f\"], [0.2222222222222222, \"#7201a8\"], [0.3333333333333333, \"#9c179e\"], [0.4444444444444444, \"#bd3786\"], [0.5555555555555556, \"#d8576b\"], [0.6666666666666666, \"#ed7953\"], [0.7777777777777778, \"#fb9f3a\"], [0.8888888888888888, \"#fdca26\"], [1.0, \"#f0f921\"]], \"type\": \"contour\"}], \"contourcarpet\": [{\"colorbar\": {\"outlinewidth\": 0, \"ticks\": \"\"}, \"type\": \"contourcarpet\"}], \"heatmap\": [{\"colorbar\": {\"outlinewidth\": 0, \"ticks\": \"\"}, \"colorscale\": [[0.0, \"#0d0887\"], [0.1111111111111111, \"#46039f\"], [0.2222222222222222, \"#7201a8\"], [0.3333333333333333, \"#9c179e\"], [0.4444444444444444, \"#bd3786\"], [0.5555555555555556, \"#d8576b\"], [0.6666666666666666, \"#ed7953\"], [0.7777777777777778, \"#fb9f3a\"], [0.8888888888888888, \"#fdca26\"], [1.0, \"#f0f921\"]], \"type\": \"heatmap\"}], \"heatmapgl\": [{\"colorbar\": {\"outlinewidth\": 0, \"ticks\": \"\"}, \"colorscale\": [[0.0, \"#0d0887\"], [0.1111111111111111, \"#46039f\"], [0.2222222222222222, \"#7201a8\"], [0.3333333333333333, \"#9c179e\"], [0.4444444444444444, \"#bd3786\"], [0.5555555555555556, \"#d8576b\"], [0.6666666666666666, \"#ed7953\"], [0.7777777777777778, \"#fb9f3a\"], [0.8888888888888888, \"#fdca26\"], [1.0, \"#f0f921\"]], \"type\": \"heatmapgl\"}], \"histogram\": [{\"marker\": {\"colorbar\": {\"outlinewidth\": 0, \"ticks\": \"\"}}, \"type\": \"histogram\"}], \"histogram2d\": [{\"colorbar\": {\"outlinewidth\": 0, \"ticks\": \"\"}, \"colorscale\": [[0.0, \"#0d0887\"], [0.1111111111111111, \"#46039f\"], [0.2222222222222222, \"#7201a8\"], [0.3333333333333333, \"#9c179e\"], [0.4444444444444444, \"#bd3786\"], [0.5555555555555556, \"#d8576b\"], [0.6666666666666666, \"#ed7953\"], [0.7777777777777778, \"#fb9f3a\"], [0.8888888888888888, \"#fdca26\"], [1.0, \"#f0f921\"]], \"type\": \"histogram2d\"}], \"histogram2dcontour\": [{\"colorbar\": {\"outlinewidth\": 0, \"ticks\": \"\"}, \"colorscale\": [[0.0, \"#0d0887\"], [0.1111111111111111, \"#46039f\"], [0.2222222222222222, \"#7201a8\"], [0.3333333333333333, \"#9c179e\"], [0.4444444444444444, \"#bd3786\"], [0.5555555555555556, \"#d8576b\"], [0.6666666666666666, \"#ed7953\"], [0.7777777777777778, \"#fb9f3a\"], [0.8888888888888888, \"#fdca26\"], [1.0, \"#f0f921\"]], \"type\": \"histogram2dcontour\"}], \"mesh3d\": [{\"colorbar\": {\"outlinewidth\": 0, \"ticks\": \"\"}, \"type\": \"mesh3d\"}], \"parcoords\": [{\"line\": {\"colorbar\": {\"outlinewidth\": 0, \"ticks\": \"\"}}, \"type\": \"parcoords\"}], \"pie\": [{\"automargin\": true, \"type\": \"pie\"}], \"scatter\": [{\"marker\": {\"colorbar\": {\"outlinewidth\": 0, \"ticks\": \"\"}}, \"type\": \"scatter\"}], \"scatter3d\": [{\"line\": {\"colorbar\": {\"outlinewidth\": 0, \"ticks\": \"\"}}, \"marker\": {\"colorbar\": {\"outlinewidth\": 0, \"ticks\": \"\"}}, \"type\": \"scatter3d\"}], \"scattercarpet\": [{\"marker\": {\"colorbar\": {\"outlinewidth\": 0, \"ticks\": \"\"}}, \"type\": \"scattercarpet\"}], \"scattergeo\": [{\"marker\": {\"colorbar\": {\"outlinewidth\": 0, \"ticks\": \"\"}}, \"type\": \"scattergeo\"}], \"scattergl\": [{\"marker\": {\"colorbar\": {\"outlinewidth\": 0, \"ticks\": \"\"}}, \"type\": \"scattergl\"}], \"scattermapbox\": [{\"marker\": {\"colorbar\": {\"outlinewidth\": 0, \"ticks\": \"\"}}, \"type\": \"scattermapbox\"}], \"scatterpolar\": [{\"marker\": {\"colorbar\": {\"outlinewidth\": 0, \"ticks\": \"\"}}, \"type\": \"scatterpolar\"}], \"scatterpolargl\": [{\"marker\": {\"colorbar\": {\"outlinewidth\": 0, \"ticks\": \"\"}}, \"type\": \"scatterpolargl\"}], \"scatterternary\": [{\"marker\": {\"colorbar\": {\"outlinewidth\": 0, \"ticks\": \"\"}}, \"type\": \"scatterternary\"}], \"surface\": [{\"colorbar\": {\"outlinewidth\": 0, \"ticks\": \"\"}, \"colorscale\": [[0.0, \"#0d0887\"], [0.1111111111111111, \"#46039f\"], [0.2222222222222222, \"#7201a8\"], [0.3333333333333333, \"#9c179e\"], [0.4444444444444444, \"#bd3786\"], [0.5555555555555556, \"#d8576b\"], [0.6666666666666666, \"#ed7953\"], [0.7777777777777778, \"#fb9f3a\"], [0.8888888888888888, \"#fdca26\"], [1.0, \"#f0f921\"]], \"type\": \"surface\"}], \"table\": [{\"cells\": {\"fill\": {\"color\": \"#EBF0F8\"}, \"line\": {\"color\": \"white\"}}, \"header\": {\"fill\": {\"color\": \"#C8D4E3\"}, \"line\": {\"color\": \"white\"}}, \"type\": \"table\"}]}, \"layout\": {\"annotationdefaults\": {\"arrowcolor\": \"#2a3f5f\", \"arrowhead\": 0, \"arrowwidth\": 1}, \"coloraxis\": {\"colorbar\": {\"outlinewidth\": 0, \"ticks\": \"\"}}, \"colorscale\": {\"diverging\": [[0, \"#8e0152\"], [0.1, \"#c51b7d\"], [0.2, \"#de77ae\"], [0.3, \"#f1b6da\"], [0.4, \"#fde0ef\"], [0.5, \"#f7f7f7\"], [0.6, \"#e6f5d0\"], [0.7, \"#b8e186\"], [0.8, \"#7fbc41\"], [0.9, \"#4d9221\"], [1, \"#276419\"]], \"sequential\": [[0.0, \"#0d0887\"], [0.1111111111111111, \"#46039f\"], [0.2222222222222222, \"#7201a8\"], [0.3333333333333333, \"#9c179e\"], [0.4444444444444444, \"#bd3786\"], [0.5555555555555556, \"#d8576b\"], [0.6666666666666666, \"#ed7953\"], [0.7777777777777778, \"#fb9f3a\"], [0.8888888888888888, \"#fdca26\"], [1.0, \"#f0f921\"]], \"sequentialminus\": [[0.0, \"#0d0887\"], [0.1111111111111111, \"#46039f\"], [0.2222222222222222, \"#7201a8\"], [0.3333333333333333, \"#9c179e\"], [0.4444444444444444, \"#bd3786\"], [0.5555555555555556, \"#d8576b\"], [0.6666666666666666, \"#ed7953\"], [0.7777777777777778, \"#fb9f3a\"], [0.8888888888888888, \"#fdca26\"], [1.0, \"#f0f921\"]]}, \"colorway\": [\"#636efa\", \"#EF553B\", \"#00cc96\", \"#ab63fa\", \"#FFA15A\", \"#19d3f3\", \"#FF6692\", \"#B6E880\", \"#FF97FF\", \"#FECB52\"], \"font\": {\"color\": \"#2a3f5f\"}, \"geo\": {\"bgcolor\": \"white\", \"lakecolor\": \"white\", \"landcolor\": \"#E5ECF6\", \"showlakes\": true, \"showland\": true, \"subunitcolor\": \"white\"}, \"hoverlabel\": {\"align\": \"left\"}, \"hovermode\": \"closest\", \"mapbox\": {\"style\": \"light\"}, \"paper_bgcolor\": \"white\", \"plot_bgcolor\": \"#E5ECF6\", \"polar\": {\"angularaxis\": {\"gridcolor\": \"white\", \"linecolor\": \"white\", \"ticks\": \"\"}, \"bgcolor\": \"#E5ECF6\", \"radialaxis\": {\"gridcolor\": \"white\", \"linecolor\": \"white\", \"ticks\": \"\"}}, \"scene\": {\"xaxis\": {\"backgroundcolor\": \"#E5ECF6\", \"gridcolor\": \"white\", \"gridwidth\": 2, \"linecolor\": \"white\", \"showbackground\": true, \"ticks\": \"\", \"zerolinecolor\": \"white\"}, \"yaxis\": {\"backgroundcolor\": \"#E5ECF6\", \"gridcolor\": \"white\", \"gridwidth\": 2, \"linecolor\": \"white\", \"showbackground\": true, \"ticks\": \"\", \"zerolinecolor\": \"white\"}, \"zaxis\": {\"backgroundcolor\": \"#E5ECF6\", \"gridcolor\": \"white\", \"gridwidth\": 2, \"linecolor\": \"white\", \"showbackground\": true, \"ticks\": \"\", \"zerolinecolor\": \"white\"}}, \"shapedefaults\": {\"line\": {\"color\": \"#2a3f5f\"}}, \"ternary\": {\"aaxis\": {\"gridcolor\": \"white\", \"linecolor\": \"white\", \"ticks\": \"\"}, \"baxis\": {\"gridcolor\": \"white\", \"linecolor\": \"white\", \"ticks\": \"\"}, \"bgcolor\": \"#E5ECF6\", \"caxis\": {\"gridcolor\": \"white\", \"linecolor\": \"white\", \"ticks\": \"\"}}, \"title\": {\"x\": 0.05}, \"xaxis\": {\"automargin\": true, \"gridcolor\": \"white\", \"linecolor\": \"white\", \"ticks\": \"\", \"title\": {\"standoff\": 15}, \"zerolinecolor\": \"white\", \"zerolinewidth\": 2}, \"yaxis\": {\"automargin\": true, \"gridcolor\": \"white\", \"linecolor\": \"white\", \"ticks\": \"\", \"title\": {\"standoff\": 15}, \"zerolinecolor\": \"white\", \"zerolinewidth\": 2}}}},                        {\"responsive\": true}                    ).then(function(){\n",
       "                            \n",
       "var gd = document.getElementById('db178d2a-f253-4a26-b05b-9dfe5ee69ef4');\n",
       "var x = new MutationObserver(function (mutations, observer) {{\n",
       "        var display = window.getComputedStyle(gd).display;\n",
       "        if (!display || display === 'none') {{\n",
       "            console.log([gd, 'removed!']);\n",
       "            Plotly.purge(gd);\n",
       "            observer.disconnect();\n",
       "        }}\n",
       "}});\n",
       "\n",
       "// Listen for the removal of the full notebook cells\n",
       "var notebookContainer = gd.closest('#notebook-container');\n",
       "if (notebookContainer) {{\n",
       "    x.observe(notebookContainer, {childList: true});\n",
       "}}\n",
       "\n",
       "// Listen for the clearing of the current output cell\n",
       "var outputEl = gd.closest('.output');\n",
       "if (outputEl) {{\n",
       "    x.observe(outputEl, {childList: true});\n",
       "}}\n",
       "\n",
       "                        })                };                });            </script>        </div>"
      ]
     },
     "metadata": {},
     "output_type": "display_data"
    }
   ],
   "source": [
    "#Caso deseje visualizar a distribuição, rode.\n",
    "\n",
    "for i in [-7.5, -8.0, -8.5]:\n",
    "    siz = df[df['Energy'] <= i].apply(abs).apply(lambda x: x**(abs(i) * 3) )['Energy']\n",
    "    fig = px.scatter_3d(df[df['Energy'] <=i], x = 'x',  y = 'y',  z = 'z', color = 'Energy', size= siz)\n",
    "    fig.show()\n"
   ]
  },
  {
   "cell_type": "markdown",
   "metadata": {},
   "source": [
    "__CLUSTERIZAÇÃO__"
   ]
  },
  {
   "cell_type": "markdown",
   "metadata": {},
   "source": [
    "Daqui para frente iremos trabalhar com a clusterização dos dados coletados. Fique a vontade para modificar os parâmetros dos algoritmos de clusterização da forma que achar melhor.\n"
   ]
  },
  {
   "cell_type": "markdown",
   "metadata": {},
   "source": [
    "__Vamos tentar usar o DBSCAN__"
   ]
  },
  {
   "cell_type": "code",
   "execution_count": 11,
   "metadata": {},
   "outputs": [],
   "source": [
    "from sklearn.cluster import DBSCAN\n",
    "from sklearn.preprocessing import MinMaxScaler"
   ]
  },
  {
   "cell_type": "code",
   "execution_count": 19,
   "metadata": {
    "scrolled": false
   },
   "outputs": [
    {
     "data": {
      "application/vnd.plotly.v1+json": {
       "config": {
        "plotlyServerURL": "https://plotly.com"
       },
       "data": [
        {
         "hovertemplate": "x=%{x}<br>y=%{y}<br>z=%{z}<br>size=%{marker.size}<br>Cluster=%{marker.color}<extra></extra>",
         "legendgroup": "",
         "marker": {
          "color": [
           0,
           0,
           0,
           0,
           0,
           0,
           0,
           0,
           0,
           0,
           0,
           0,
           0,
           1,
           1,
           1,
           1,
           1,
           1,
           1,
           1,
           1,
           1,
           1,
           1,
           1,
           1,
           1,
           1,
           1,
           1,
           1,
           0,
           0,
           0,
           0,
           0,
           0,
           0,
           0,
           0,
           0,
           2,
           2,
           2,
           2,
           0,
           0,
           0,
           0,
           0,
           0,
           2,
           2,
           2,
           2,
           2,
           2,
           2,
           2,
           2,
           2,
           2,
           2,
           2,
           2,
           2,
           2,
           2,
           2,
           2,
           2,
           2,
           2,
           1,
           1,
           1,
           1,
           1,
           1,
           1,
           1,
           1,
           1,
           1,
           1,
           1,
           1,
           3,
           3,
           3,
           3,
           -1,
           2,
           2,
           2,
           2,
           2,
           2,
           2,
           2,
           2,
           2,
           2,
           2,
           2,
           2,
           2,
           2,
           2,
           2,
           2,
           2,
           2,
           2,
           2,
           2,
           2,
           2,
           2,
           2,
           2,
           2,
           2,
           2,
           2,
           2,
           2,
           2,
           2,
           2,
           2,
           2,
           2,
           2,
           2,
           2,
           2,
           2,
           2,
           2,
           2,
           2,
           2,
           2,
           2,
           2,
           2,
           2,
           2,
           2,
           2,
           2,
           2,
           2,
           2,
           2,
           2,
           2,
           2,
           2,
           2,
           2,
           2,
           2,
           2,
           2,
           2,
           2,
           2,
           2,
           2,
           2,
           2,
           2,
           2,
           2,
           2,
           2,
           2,
           2,
           2,
           2,
           2,
           2,
           2,
           2,
           2,
           2,
           2,
           2,
           2,
           2,
           2,
           2,
           1,
           1,
           1,
           1,
           1,
           1,
           1,
           1,
           1,
           2,
           2,
           2,
           2,
           2,
           2,
           2,
           2,
           2,
           2,
           2,
           2,
           2,
           2,
           2,
           2,
           2,
           2,
           4,
           4,
           4,
           -1,
           4,
           4,
           4,
           4,
           5,
           2,
           2,
           2,
           2,
           2,
           2,
           2,
           2,
           2,
           2,
           2,
           2,
           2,
           2,
           2,
           2,
           2,
           2,
           2,
           2,
           2,
           2,
           2,
           2,
           2,
           2,
           2,
           2,
           2,
           2,
           2,
           2,
           2,
           2,
           2,
           2,
           2,
           2,
           2,
           2,
           2,
           2,
           2,
           2,
           2,
           2,
           2,
           2,
           2,
           2,
           2,
           2,
           2,
           2,
           2,
           2,
           2,
           2,
           2,
           2,
           2,
           2,
           2,
           2,
           2,
           2,
           2,
           2,
           2,
           2,
           2,
           2,
           2,
           2,
           2,
           2,
           2,
           2,
           2,
           2,
           2,
           2,
           2,
           2,
           2,
           2,
           2,
           2,
           2,
           2,
           2,
           2,
           2,
           2,
           2,
           2,
           2,
           2,
           2,
           2,
           2,
           2,
           2,
           2,
           2,
           2,
           2,
           2,
           2,
           2,
           2,
           2,
           2,
           2,
           2,
           2,
           5,
           4,
           4,
           4,
           4,
           4,
           4,
           4,
           4,
           4,
           6,
           6,
           6,
           6,
           6,
           6,
           6,
           6,
           6,
           4,
           4,
           5,
           5,
           5,
           5,
           5,
           5,
           4,
           4,
           4,
           4,
           4,
           4,
           4,
           4,
           4,
           4,
           4,
           4,
           4,
           4,
           4,
           4,
           4,
           4,
           5,
           4,
           4,
           4,
           4,
           -1,
           5,
           4,
           4,
           4,
           4,
           4,
           4,
           4,
           4,
           4,
           2,
           2,
           2,
           2,
           2,
           2,
           2,
           2,
           2,
           2,
           2,
           2,
           2,
           2,
           2,
           2,
           2,
           2,
           2,
           2,
           2,
           2,
           2,
           2,
           2,
           2,
           2,
           2,
           2,
           2,
           2,
           2,
           2,
           2,
           7,
           7,
           7,
           7,
           7,
           7,
           7,
           7,
           7,
           7,
           7,
           7,
           7,
           7,
           7,
           7,
           7,
           7,
           7,
           7,
           7,
           7,
           7,
           7,
           7,
           4,
           4,
           4,
           6,
           5,
           4,
           4,
           4,
           4,
           4,
           4,
           4,
           4,
           4,
           4,
           4,
           4,
           4,
           4,
           4,
           4,
           4,
           4,
           5,
           4,
           4,
           4,
           4,
           4,
           2,
           2,
           7,
           7,
           7,
           7,
           7,
           7,
           7,
           7,
           7,
           7,
           7,
           7,
           7,
           7,
           7,
           7,
           7,
           7,
           7,
           4,
           4
          ],
          "coloraxis": "coloraxis",
          "size": [
           30158641881388844,
           7109031761113768,
           39768370847026456,
           30158641881388844,
           30158641881388844,
           12836855504029980,
           12836855504029980,
           7109031761113768,
           22780186189285420,
           22780186189285420,
           17136565993161952,
           12836855504029980,
           9574293641480370,
           9574293641480370,
           835646890221345000,
           248796778381172500,
           193450181205809760,
           193450181205809760,
           149921890323028480,
           149921890323028480,
           115796287572256220,
           115796287572256220,
           89128897561779460,
           149921890323028480,
           149921890323028480,
           115796287572256220,
           68359011237970310,
           68359011237970310,
           52237655915821896,
           39768370847026456,
           30158641881388844,
           30158641881388844,
           30158641881388844,
           9574293641480370,
           39768370847026456,
           30158641881388844,
           30158641881388844,
           9574293641480370,
           9574293641480370,
           9574293641480370,
           9574293641480370,
           7109031761113768,
           39768370847026456,
           30158641881388844,
           22780186189285420,
           7109031761113768,
           22780186189285420,
           30158641881388844,
           22780186189285420,
           22780186189285420,
           12836855504029980,
           9574293641480370,
           52237655915821896,
           30158641881388844,
           22780186189285420,
           12836855504029980,
           17136565993161952,
           7109031761113768,
           17136565993161952,
           17136565993161952,
           9574293641480370,
           9574293641480370,
           9574293641480370,
           7109031761113768,
           22780186189285420,
           68359011237970310,
           68359011237970310,
           39768370847026456,
           30158641881388844,
           22780186189285420,
           22780186189285420,
           22780186189285420,
           17136565993161952,
           12836855504029980,
           835646890221345000,
           659735906554489200,
           659735906554489200,
           519347288036249500,
           407619307041649500,
           318954166829688800,
           318954166829688800,
           248796778381172500,
           193450181205809760,
           52237655915821896,
           52237655915821896,
           39768370847026456,
           30158641881388844,
           7109031761113768,
           22780186189285420,
           17136565993161952,
           22780186189285420,
           17136565993161952,
           7109031761113768,
           318954166829688800,
           248796778381172500,
           68359011237970310,
           22780186189285420,
           12836855504029980,
           30158641881388844,
           30158641881388844,
           22780186189285420,
           7109031761113768,
           7109031761113768,
           1055470448378684400,
           659735906554489200,
           519347288036249500,
           407619307041649500,
           407619307041649500,
           248796778381172500,
           193450181205809760,
           193450181205809760,
           193450181205809760,
           89128897561779460,
           68359011237970310,
           39768370847026456,
           30158641881388844,
           22780186189285420,
           17136565993161952,
           9574293641480370,
           9574293641480370,
           7109031761113768,
           407619307041649500,
           407619307041649500,
           68359011237970310,
           52237655915821896,
           39768370847026456,
           30158641881388844,
           22780186189285420,
           12836855504029980,
           12836855504029980,
           2092307086892801300,
           407619307041649500,
           193450181205809760,
           115796287572256220,
           89128897561779460,
           52237655915821896,
           39768370847026456,
           22780186189285420,
           12836855504029980,
           407619307041649500,
           407619307041649500,
           193450181205809760,
           149921890323028480,
           115796287572256220,
           52237655915821896,
           39768370847026456,
           39768370847026456,
           30158641881388844,
           193450181205809760,
           115796287572256220,
           89128897561779460,
           39768370847026456,
           39768370847026456,
           30158641881388844,
           30158641881388844,
           22780186189285420,
           17136565993161952,
           89128897561779460,
           39768370847026456,
           39768370847026456,
           30158641881388844,
           30158641881388844,
           22780186189285420,
           22780186189285420,
           12836855504029980,
           9574293641480370,
           519347288036249500,
           193450181205809760,
           115796287572256220,
           68359011237970310,
           39768370847026456,
           17136565993161952,
           17136565993161952,
           12836855504029980,
           12836855504029980,
           68359011237970310,
           52237655915821896,
           30158641881388844,
           12836855504029980,
           9574293641480370,
           9574293641480370,
           9574293641480370,
           7109031761113768,
           7109031761113768,
           22780186189285420,
           7109031761113768,
           835646890221345000,
           407619307041649500,
           407619307041649500,
           318954166829688800,
           318954166829688800,
           318954166829688800,
           248796778381172500,
           248796778381172500,
           149921890323028480,
           835646890221345000,
           835646890221345000,
           519347288036249500,
           407619307041649500,
           407619307041649500,
           318954166829688800,
           248796778381172500,
           193450181205809760,
           149921890323028480,
           89128897561779460,
           89128897561779460,
           52237655915821896,
           52237655915821896,
           39768370847026456,
           30158641881388844,
           22780186189285420,
           17136565993161952,
           12836855504029980,
           835646890221345000,
           519347288036249500,
           519347288036249500,
           407619307041649500,
           318954166829688800,
           248796778381172500,
           248796778381172500,
           149921890323028480,
           89128897561779460,
           149921890323028480,
           52237655915821896,
           7109031761113768,
           7109031761113768,
           1670012797656534300,
           318954166829688800,
           149921890323028480,
           17136565993161952,
           7109031761113768,
           1055470448378684400,
           659735906554489200,
           248796778381172500,
           248796778381172500,
           248796778381172500,
           193450181205809760,
           193450181205809760,
           115796287572256220,
           115796287572256220,
           1055470448378684400,
           1055470448378684400,
           659735906554489200,
           659735906554489200,
           318954166829688800,
           318954166829688800,
           248796778381172500,
           193450181205809760,
           193450181205809760,
           1055470448378684400,
           407619307041649500,
           248796778381172500,
           149921890323028480,
           115796287572256220,
           89128897561779460,
           30158641881388844,
           12836855504029980,
           9574293641480370,
           12836855504029980,
           9574293641480370,
           318954166829688800,
           115796287572256220,
           30158641881388844,
           2092307086892801300,
           519347288036249500,
           248796778381172500,
           248796778381172500,
           248796778381172500,
           89128897561779460,
           68359011237970310,
           30158641881388844,
           17136565993161952,
           407619307041649500,
           248796778381172500,
           248796778381172500,
           149921890323028480,
           115796287572256220,
           52237655915821896,
           52237655915821896,
           39768370847026456,
           39768370847026456,
           1670012797656534300,
           1055470448378684400,
           659735906554489200,
           407619307041649500,
           407619307041649500,
           318954166829688800,
           318954166829688800,
           248796778381172500,
           248796778381172500,
           1055470448378684400,
           193450181205809760,
           193450181205809760,
           149921890323028480,
           68359011237970310,
           52237655915821896,
           30158641881388844,
           22780186189285420,
           17136565993161952,
           12836855504029980,
           7109031761113768,
           22780186189285420,
           7109031761113768,
           2614641240156616000,
           407619307041649500,
           318954166829688800,
           248796778381172500,
           68359011237970310,
           68359011237970310,
           9574293641480370,
           659735906554489200,
           115796287572256220,
           115796287572256220,
           115796287572256220,
           115796287572256220,
           39768370847026456,
           30158641881388844,
           12836855504029980,
           12836855504029980,
           30158641881388844,
           835646890221345000,
           659735906554489200,
           519347288036249500,
           407619307041649500,
           318954166829688800,
           318954166829688800,
           318954166829688800,
           248796778381172500,
           248796778381172500,
           659735906554489200,
           89128897561779460,
           89128897561779460,
           68359011237970310,
           52237655915821896,
           30158641881388844,
           22780186189285420,
           17136565993161952,
           17136565993161952,
           835646890221345000,
           659735906554489200,
           407619307041649500,
           407619307041649500,
           407619307041649500,
           248796778381172500,
           248796778381172500,
           193450181205809760,
           193450181205809760,
           9574293641480370,
           407619307041649500,
           68359011237970310,
           22780186189285420,
           22780186189285420,
           22780186189285420,
           12836855504029980,
           12836855504029980,
           7109031761113768,
           7109031761113768,
           115796287572256220,
           30158641881388844,
           22780186189285420,
           17136565993161952,
           17136565993161952,
           17136565993161952,
           12836855504029980,
           7109031761113768,
           7109031761113768,
           22780186189285420,
           7109031761113768,
           149921890323028480,
           68359011237970310,
           68359011237970310,
           68359011237970310,
           30158641881388844,
           9574293641480370,
           3259155857725453300,
           2614641240156616000,
           835646890221345000,
           835646890221345000,
           835646890221345000,
           835646890221345000,
           835646890221345000,
           835646890221345000,
           659735906554489200,
           3259155857725453300,
           1055470448378684400,
           835646890221345000,
           659735906554489200,
           659735906554489200,
           659735906554489200,
           659735906554489200,
           407619307041649500,
           407619307041649500,
           9574293641480370,
           30158641881388844,
           9574293641480370,
           7109031761113768,
           7109031761113768,
           7109031761113768,
           9574293641480370,
           1055470448378684400,
           835646890221345000,
           519347288036249500,
           519347288036249500,
           407619307041649500,
           193450181205809760,
           149921890323028480,
           115796287572256220,
           68359011237970310,
           2092307086892801300,
           1055470448378684400,
           835646890221345000,
           659735906554489200,
           318954166829688800,
           318954166829688800,
           149921890323028480,
           149921890323028480,
           149921890323028480,
           2092307086892801300,
           9574293641480370,
           7109031761113768,
           9574293641480370,
           2092307086892801300,
           835646890221345000,
           407619307041649500,
           407619307041649500,
           318954166829688800,
           318954166829688800,
           318954166829688800,
           248796778381172500,
           193450181205809760,
           39768370847026456,
           30158641881388844,
           17136565993161952,
           17136565993161952,
           17136565993161952,
           12836855504029980,
           9574293641480370,
           7109031761113768,
           39768370847026456,
           30158641881388844,
           22780186189285420,
           12836855504029980,
           39768370847026456,
           30158641881388844,
           30158641881388844,
           30158641881388844,
           22780186189285420,
           17136565993161952,
           9574293641480370,
           9574293641480370,
           9574293641480370,
           39768370847026456,
           30158641881388844,
           22780186189285420,
           17136565993161952,
           7109031761113768,
           22780186189285420,
           22780186189285420,
           22780186189285420,
           9574293641480370,
           7109031761113768,
           22780186189285420,
           22780186189285420,
           22780186189285420,
           12836855504029980,
           12836855504029980,
           7109031761113768,
           39768370847026456,
           7109031761113768,
           39768370847026456,
           17136565993161952,
           22780186189285420,
           1329440948356260600,
           659735906554489200,
           519347288036249500,
           407619307041649500,
           248796778381172500,
           193450181205809760,
           193450181205809760,
           193450181205809760,
           149921890323028480,
           1329440948356260600,
           1055470448378684400,
           659735906554489200,
           407619307041649500,
           318954166829688800,
           193450181205809760,
           149921890323028480,
           149921890323028480,
           68359011237970310,
           22780186189285420,
           1055470448378684400,
           39768370847026456,
           12836855504029980,
           68359011237970310,
           12836855504029980,
           7109031761113768,
           7109031761113768,
           39768370847026456,
           17136565993161952,
           17136565993161952,
           12836855504029980,
           12836855504029980,
           9574293641480370,
           9574293641480370,
           39768370847026456,
           22780186189285420,
           12836855504029980,
           9574293641480370,
           7109031761113768,
           22780186189285420,
           12836855504029980,
           7109031761113768,
           7109031761113768,
           22780186189285420,
           12836855504029980,
           7109031761113768,
           12836855504029980,
           12836855504029980
          ],
          "sizemode": "area",
          "sizeref": 8147889644313633,
          "symbol": "circle"
         },
         "mode": "markers",
         "name": "",
         "scene": "scene",
         "showlegend": false,
         "type": "scatter3d",
         "x": [
          26.653833001818896,
          23.959024950671164,
          26.68862933788727,
          25.973762883346392,
          26.858742297947295,
          26.432261621563683,
          25.733392356301803,
          26.75992770740112,
          25.9197606223129,
          25.935938629090927,
          26.43623291759142,
          26.123435294211376,
          25.78404474087014,
          21.959566718412614,
          25.38624171331588,
          24.67833194969961,
          25.443587590967315,
          23.299579686765025,
          23.747247069329074,
          21.633431203783072,
          22.790558944571007,
          24.558335293088824,
          23.073609285156373,
          23.31029000723864,
          21.622271516663172,
          22.84970900202023,
          21.63708666160433,
          20.953763507629183,
          22.21661298269209,
          21.69745384525971,
          23.112834944555075,
          21.658199770854903,
          26.66219344582736,
          24.009276144467155,
          26.669749155643046,
          26.0250499788345,
          26.827169630380418,
          26.057670106377937,
          26.856346022134527,
          28.107751756700637,
          26.309421125454413,
          26.86008933254973,
          35.281249805454806,
          35.5815257138243,
          35.020564941886306,
          36.92614348401218,
          25.94792660802609,
          25.981296650563507,
          26.825034561511956,
          26.52862919340419,
          25.859219517600323,
          26.433559262868325,
          35.47076107567836,
          35.386000742331625,
          35.00943478797742,
          35.68307320874473,
          38.393678936141015,
          37.15295624516354,
          38.31244493148642,
          36.23440185380124,
          37.405294999690405,
          36.82476534462836,
          33.31056320410608,
          36.390542881238886,
          38.42157783093597,
          37.70586176155657,
          35.338485661231,
          35.272754104641244,
          37.653403242142424,
          38.38741507527063,
          36.990859731913275,
          34.29544823142207,
          36.19650279750389,
          35.527769425641736,
          25.386473618439375,
          34.04838042685156,
          32.36382507878674,
          33.279653375309486,
          33.33839962861692,
          33.176432932148366,
          33.71236475641203,
          24.664745000034404,
          25.375889776065712,
          22.29819081833552,
          23.417125544934784,
          23.1256471777457,
          21.71855255436312,
          21.449050328273533,
          39.72345381882546,
          40.48290477876889,
          39.69912226201845,
          40.48718001469455,
          43.88786054884018,
          44.59360688434728,
          44.43714107089124,
          44.13327400908687,
          44.064537643274534,
          43.8138683708428,
          35.56336667271397,
          35.375197522133256,
          34.987421151888654,
          36.06043956316138,
          36.0008112424495,
          44.26566521785261,
          44.785007407383276,
          44.35332715278887,
          41.36295920978257,
          43.5097261958691,
          44.713327885705546,
          43.722250181328086,
          44.31566987498774,
          45.50135793456547,
          45.80074562902466,
          46.642740342899266,
          44.98716860089319,
          46.27806783571225,
          45.806475722677945,
          44.7621256318419,
          46.785007289334445,
          44.537334420396526,
          43.89903806169609,
          41.10100625513975,
          41.06523599555182,
          42.848745318331716,
          35.43290389666165,
          35.34224515302715,
          41.56079824766285,
          35.03955195180711,
          35.6189740415684,
          35.45452211261063,
          45.700641590342315,
          44.646537944552534,
          45.38549470536497,
          43.968440269643814,
          44.82230066168908,
          39.2473776067156,
          44.30300516807657,
          38.68922147264835,
          41.72624069614049,
          43.77365273400739,
          45.23285404529094,
          45.602743319830154,
          44.18703808813034,
          44.76221887629823,
          46.47389116911437,
          44.370290993272306,
          45.60032617906705,
          43.77767200095308,
          45.59533889900995,
          44.31333974056053,
          45.826704074748804,
          46.49431407109511,
          44.93344657294458,
          46.71900941529978,
          43.75970314918803,
          46.292840457363184,
          47.042282110640734,
          39.9965071363417,
          39.17354237029748,
          39.173988668398295,
          40.167417336304126,
          38.48823093140169,
          38.769094387284916,
          39.014058184314784,
          36.31335021648926,
          37.96763524358799,
          44.59800207780433,
          45.198218748834464,
          43.95149707503235,
          39.489720468690095,
          40.17082260048545,
          37.46918019792373,
          36.782811963054336,
          41.6617066059186,
          39.06568406547148,
          45.261534080806975,
          40.83409409071437,
          43.77495288946249,
          40.69303297292229,
          41.17464649588695,
          46.56569536593147,
          39.3775415627855,
          41.40229600455394,
          41.824883735296865,
          43.81812272950631,
          41.359071851545266,
          46.30150873434632,
          45.672405455014896,
          38.61540441611274,
          45.636512906974275,
          45.65385692119228,
          45.83943174115875,
          45.88753666955272,
          44.729109219070764,
          46.833343088657216,
          33.880429501852035,
          34.15329053519938,
          33.31074734797502,
          33.29005892193895,
          33.274555762684194,
          33.74919062569141,
          33.57797028355982,
          33.89858122719367,
          33.12310334451176,
          45.40968561060761,
          46.44805191215574,
          44.86417980503113,
          45.50789042678276,
          46.70641689995796,
          45.60117117551654,
          45.18056722464658,
          45.608720063485656,
          45.12255337889438,
          46.2873644598415,
          45.839307509969885,
          47.10641982872781,
          46.82800608892989,
          45.94316944244377,
          44.73480638796279,
          45.27635705245822,
          45.88812627785148,
          45.612981178815375,
          57.61547573969727,
          57.64832985016852,
          56.15967748732695,
          43.96627569870607,
          57.138952901774324,
          56.678948449595154,
          57.42609201291006,
          56.687307907569945,
          56.55962483283961,
          44.29947486700497,
          44.75857038480662,
          44.85878281332098,
          44.41478415820862,
          42.61108253242994,
          45.67637519359466,
          42.68535620149272,
          43.7495676657002,
          43.344040585261496,
          53.796003439711285,
          56.50688384393076,
          49.17954292939992,
          57.282461619101326,
          55.18082923439539,
          55.33144602325707,
          55.12147972438857,
          56.4680233649784,
          54.11614798905986,
          53.8635816682473,
          53.68643723224008,
          55.33236420672451,
          54.50232899449552,
          54.48153383710492,
          53.21695898309983,
          53.811115618693584,
          53.72355157593384,
          54.341701071383696,
          53.714406009409885,
          54.32906345342087,
          42.20203410343903,
          43.816443137940794,
          43.263945202527985,
          45.803475211736526,
          44.61413400823953,
          45.269902173003835,
          45.703733690159474,
          45.19870417867524,
          44.09189291920644,
          44.479146487377285,
          45.10053733728906,
          44.5598149088435,
          45.311017678356045,
          44.19581032159618,
          45.839876057777296,
          44.188720651919255,
          44.710785568276584,
          44.483191088471806,
          46.480730835984915,
          44.320963936805505,
          45.62241108587184,
          55.78854149760517,
          53.7788880524079,
          49.18841245248627,
          56.47075035134013,
          56.32467324010373,
          55.18002805325525,
          56.251863193351326,
          55.1165108726235,
          45.860037521423514,
          53.924943404274885,
          54.24460944665877,
          54.59674898943319,
          52.60896693546316,
          54.630074064417734,
          54.39971779774469,
          52.08789077151432,
          52.71652324312738,
          57.23113968255003,
          53.71744917870965,
          54.1632416915891,
          43.40203486278996,
          41.10465822508871,
          45.78648642528941,
          44.58003467956079,
          45.26163081313558,
          45.195716361242475,
          47.1921972302702,
          44.389939270393036,
          44.626865577141125,
          47.57520696857477,
          45.93694804439072,
          45.79699976390235,
          46.56350640813249,
          46.96407482376865,
          45.871267365762016,
          43.8580590711295,
          47.11010082565383,
          46.254308994633135,
          43.74959881393512,
          46.30468270356454,
          47.58165601221624,
          45.755481640690505,
          46.79852622005824,
          45.72429897677735,
          47.213252953303,
          45.8239690614285,
          46.45254403348242,
          47.238331024138816,
          47.5820763301587,
          47.496463998183664,
          45.84673620430994,
          45.11315193500507,
          45.2186080365908,
          45.602706627645375,
          45.16640882954582,
          44.921911745098534,
          45.61041803988966,
          46.30501587539548,
          47.56427789455923,
          45.76914475430454,
          46.789134627814846,
          45.70994780829305,
          46.546994207640665,
          45.95659631209651,
          45.51331787726472,
          47.95406157586503,
          59.64036718365539,
          58.016322006439104,
          58.1569302744201,
          58.4191759507005,
          58.3974427280289,
          58.84461364572096,
          59.90343212934387,
          58.46620889718854,
          56.04118414386896,
          59.299170420873075,
          62.22193313330214,
          62.886475604629105,
          61.597223921618486,
          63.72059449682409,
          62.034782350540596,
          62.54328176590918,
          62.26090313731072,
          60.37734772406555,
          57.92748990845422,
          58.52841868119175,
          57.983718217071534,
          60.163234419273984,
          60.48297265793468,
          60.118794839093304,
          60.36310197789735,
          60.72469963958895,
          59.51559311789784,
          60.48576860111047,
          57.437527027570205,
          59.77982771569352,
          59.635157592296274,
          59.448267833249865,
          59.05280321078343,
          62.956488310449615,
          61.705549271446785,
          62.01954210016118,
          60.46478401372554,
          61.726958467450956,
          62.989303289180896,
          61.867055932696246,
          59.94912973458205,
          65.66868366787143,
          59.7210823057472,
          59.72291432442934,
          62.98740213335247,
          62.306241276969736,
          58.51983269583342,
          58.521458960467776,
          59.92539581303238,
          59.96749901306106,
          61.17526559394318,
          56.620884010140614,
          66.30863032392094,
          59.58483604863758,
          59.34380962742558,
          58.78893403242868,
          61.190383722079744,
          61.912675457683676,
          61.95026310151946,
          64.02451454843242,
          63.95718919860413,
          55.785433862416625,
          56.50524574146074,
          57.244618076173374,
          53.88664428772195,
          55.17001700120476,
          55.35947507196092,
          54.76127712579335,
          55.13200419435474,
          54.62832850998834,
          55.82540142216257,
          54.445239360667806,
          61.66397354004192,
          54.39382081925167,
          55.823329688666135,
          53.96230691682881,
          56.460939571671055,
          56.32165750448387,
          56.08333977170225,
          56.24658828043045,
          55.77232689496442,
          55.10435086249882,
          56.78485442876859,
          58.77336556863146,
          59.84609972157133,
          57.26725548447278,
          56.91464557974109,
          59.75515710308163,
          59.3670469367233,
          60.00878690374929,
          57.66018558037116,
          58.76210477630653,
          59.835312822529524,
          59.51733827943464,
          60.3233346952403,
          64.28960667468385,
          63.36750054117787,
          64.32555826741974,
          63.72000521153013,
          63.494658473498234,
          63.32771331913127,
          64.4380877005065,
          65.2071633364946,
          64.18084375259139,
          64.27020419189238,
          63.3535148232762,
          63.672564151393665,
          63.72546662567549,
          63.306267597152214,
          64.33876063933222,
          63.41727154309743,
          63.490645806423814,
          64.19249726767647,
          63.428572204786484,
          63.660179342250736,
          63.346908999557876,
          63.51354437821399,
          63.94956611585661,
          63.46550683977117,
          65.18469419666863,
          72.41075752733319,
          70.70090241670589,
          72.41274243772291,
          63.695336288537426,
          65.92711688898594,
          66.42648720165965,
          65.77163369374442,
          65.99075685488938,
          64.59846884325542,
          65.26322120251206,
          65.31609061225703,
          65.564947711971,
          66.71792089026204,
          65.71125250754191,
          66.39854562207212,
          66.4092523677663,
          65.63811988293611,
          64.67596186370865,
          65.79090941888472,
          65.31396368839597,
          67.87472423611364,
          65.29513950402834,
          67.77284518438613,
          65.95776539749687,
          66.31075459385589,
          67.39819733890408,
          73.68576844431553,
          67.77198994339811,
          73.72743381896305,
          61.212843574069666,
          61.15383840599313,
          64.21548644230872,
          64.40355148431925,
          67.58251254051592,
          66.72711425678665,
          65.34004529526514,
          64.63416397779669,
          67.49183011650263,
          64.24436355600749,
          64.33165695008888,
          64.75589707010762,
          72.62734239919412,
          65.7628578949141,
          64.30799141393899,
          64.58104665246461,
          64.54385950993802,
          65.12792594028976,
          64.26892064945689,
          64.57819141147661,
          65.15681022998159,
          73.72550668297625,
          73.72996774768258
         ],
         "y": [
          26.83019145963762,
          20.494271106751278,
          26.92211811111727,
          27.340257820101552,
          27.47632592595008,
          27.74403168090314,
          27.583167439234728,
          25.40931392661202,
          27.441186248107513,
          27.362836856149542,
          27.792033780434238,
          27.991307008443393,
          27.547284441562027,
          59.71262226582064,
          63.06467366413805,
          64.07819312282257,
          63.73453310418826,
          65.11658687506997,
          66.07143027061791,
          68.5103125599976,
          65.1797312288775,
          62.942301399313216,
          66.03091046249435,
          65.1290516543313,
          68.53656084675055,
          66.55441937536236,
          69.02277111526094,
          63.691923158899904,
          69.1192788418468,
          69.396562309687,
          67.53192979462038,
          66.73538368333364,
          26.74787256990501,
          20.33145815766328,
          26.87331789899148,
          27.278938768866546,
          27.496382408333822,
          27.411220804911995,
          26.125677696990373,
          21.95287648941598,
          28.2990128285768,
          25.405093558046175,
          34.076193231456465,
          34.85886247745394,
          35.03536911226915,
          34.06695733222672,
          27.375749064028465,
          27.278823866070343,
          27.564586233767834,
          27.841931867717232,
          27.561659329171217,
          28.376118132844052,
          34.06345181090895,
          35.17208273738589,
          35.02351387128115,
          33.9390524183897,
          47.96745940152139,
          46.95880745800667,
          47.99090666863658,
          48.48020429292189,
          47.82347894331085,
          46.262292133204,
          49.85751161966259,
          49.27679063061615,
          48.14370849578628,
          50.183369047088824,
          50.90505765635407,
          50.88375235925664,
          49.724761748122184,
          48.13676384765328,
          50.45479509221027,
          50.434108835593115,
          48.4083233947803,
          50.3796419832349,
          63.067847956361035,
          67.35701451348855,
          67.10369952154012,
          62.99553672242121,
          67.31473842659737,
          66.94856553502737,
          65.36165554472838,
          64.00859980467627,
          63.70713763588744,
          69.22477283131438,
          65.10072044225583,
          67.51826054391546,
          66.71849244903893,
          67.5628887465785,
          12.631073288047483,
          12.313835694491068,
          12.589176492783634,
          12.326893307391563,
          12.162415730695121,
          30.16622032040482,
          30.122387354435112,
          30.104722503040843,
          30.367649843983624,
          30.348612816482227,
          34.86579155146948,
          34.027269535180906,
          35.02825324045861,
          33.526616277920276,
          35.33037232529769,
          31.041428144652556,
          31.74876913848614,
          30.97046515042717,
          32.80565939905901,
          32.37874509635646,
          32.49005454435505,
          33.0243256029453,
          30.818373757092445,
          40.08589247815282,
          38.86295241726715,
          39.06613665275068,
          39.17613921506217,
          39.727086237570035,
          39.773705431948294,
          38.977975974889645,
          39.88119265062725,
          39.67684162191857,
          39.16040474853245,
          32.803488498386244,
          37.1550517770876,
          33.28659036294223,
          34.16704674407919,
          35.23726009815436,
          36.789767427140156,
          35.01774028532332,
          33.979266972869425,
          34.08346377910529,
          47.61245225667004,
          47.07320449317038,
          47.26958581444099,
          46.7287358907201,
          46.73703493738524,
          47.966445372540036,
          46.01741470881229,
          46.162357951584774,
          45.17436425959301,
          39.3099134253028,
          40.305326964852235,
          44.80416056922713,
          41.04431875937193,
          40.192628573828856,
          41.06109789217652,
          40.26274100592816,
          42.08845457346893,
          45.74202522551491,
          44.794770753510065,
          39.74072845219512,
          38.88702657329945,
          41.057951356638206,
          44.40571894998822,
          40.41030273478592,
          45.6895917559909,
          42.83920063413226,
          42.25348145275387,
          45.02890641081212,
          47.99806402483516,
          48.56785559042704,
          44.19013091325982,
          48.58407515148094,
          46.09572178714349,
          45.50271906332958,
          48.51454279433178,
          35.84586715341895,
          47.01127703417877,
          46.88512717227055,
          46.7029677958436,
          48.254765484403976,
          49.86443273189989,
          49.40344729354943,
          50.48043727098617,
          45.17136409809063,
          49.349244022510405,
          58.12747195525443,
          52.908530585330304,
          45.60170891982058,
          52.74619940439656,
          48.552344568612995,
          59.15118945172113,
          49.263152942765515,
          47.92728019904628,
          48.10215779254476,
          45.64854872646675,
          47.81771544509662,
          58.250131747206034,
          58.9583044461319,
          50.43595076349715,
          57.61837520119903,
          59.135893512347515,
          56.91622624312484,
          58.050718024427425,
          57.60417784998311,
          57.89006907486289,
          67.85168298311577,
          67.32610182110244,
          66.42990369641318,
          67.01728190097731,
          67.19214526995344,
          65.46898952407129,
          62.62517574574454,
          67.42552576198533,
          63.152861124961944,
          60.138622453757264,
          58.84020077390788,
          63.260445538749906,
          61.961286584546706,
          61.46799680869825,
          62.183947415400446,
          62.83794635477151,
          63.83894633304473,
          63.90682963199544,
          58.25021743979601,
          59.34712676235864,
          58.33589084140213,
          57.79058595892409,
          58.22491813530642,
          57.61881611395552,
          60.15638505755242,
          58.56588486581361,
          59.647500174719525,
          11.753135553375639,
          11.12354292939992,
          11.542173785989055,
          12.163180918528564,
          23.50821515232826,
          23.969973911207724,
          23.025622894810883,
          11.02741858957716,
          30.42494300667483,
          31.039762447000243,
          31.80155506851359,
          32.67937246507331,
          30.785691079962156,
          32.83255314750419,
          40.20734500495915,
          33.959232782523266,
          36.45244553404244,
          34.125782560204016,
          40.40100209011617,
          36.78846890372829,
          39.14888451637457,
          36.997646500594406,
          38.78670097976912,
          39.57385601735826,
          38.913627906092515,
          39.39383179670688,
          39.27272587286431,
          40.39737762373491,
          38.92161989144577,
          39.578872237485285,
          39.204794236537275,
          39.39506635575646,
          39.744477489789325,
          39.19562259824035,
          37.744320806034544,
          38.38580632278245,
          37.75065413936788,
          38.36921074360264,
          33.010990331583244,
          35.54210112693183,
          36.957976184553054,
          47.742406664834384,
          47.04581435444851,
          47.21873952597238,
          47.39700289002375,
          46.78993520639898,
          46.120336175196066,
          46.5536192983047,
          47.387240809481874,
          46.90370796782554,
          40.284600101246795,
          40.34222350229164,
          44.09016714737166,
          41.05553702840668,
          40.180336956273784,
          40.87640416770323,
          41.05738741020051,
          40.68005895308067,
          42.079444075813434,
          40.65175078768628,
          40.38435019005501,
          39.144667054851794,
          40.055809094757365,
          39.70216317028472,
          38.78623313196232,
          39.595725038918104,
          38.936063959654824,
          44.11527374365805,
          40.38694173167501,
          39.210666693100926,
          39.15158992659608,
          39.364430230061245,
          39.14298130917605,
          40.06578480421819,
          39.69086003789875,
          38.645452748781594,
          41.68498348330243,
          37.7489301828055,
          38.40654553045751,
          37.224249897069384,
          47.886449183417106,
          47.64440488830807,
          47.008004382291375,
          47.31602129188154,
          46.75154280664363,
          57.28280602150444,
          46.50609254557827,
          46.92941992504986,
          59.81482517981626,
          44.57611947773169,
          58.53642617077466,
          59.11772503421064,
          58.927837169739384,
          59.48562736871685,
          45.668996984323044,
          58.64773823395324,
          59.45656493247138,
          45.76879267438184,
          58.253725872864315,
          59.85052460974178,
          59.23802468813925,
          57.82424367307137,
          58.532507616141416,
          57.708992701250644,
          56.90832847884665,
          58.82800417262796,
          57.039128124265595,
          59.860047486410814,
          59.62342669113103,
          58.95019173448138,
          62.666575666224546,
          61.886092082797866,
          62.082120000984965,
          62.94012016248735,
          64.12194001272465,
          63.81935156137688,
          58.249813018975814,
          59.836138185574946,
          59.21021778452757,
          57.839245288095285,
          58.44123383373727,
          58.84229837422133,
          57.8223038435759,
          58.00508885275001,
          58.5444976171155,
          20.988460387555055,
          11.793330426290273,
          11.320529939320727,
          10.600278456558573,
          10.8386419303664,
          10.59308855147201,
          8.974967280194702,
          10.084464596032184,
          11.536320644532152,
          9.385276156778993,
          13.374400183011906,
          13.1459734002663,
          12.214573889698212,
          13.31769123204961,
          13.098758723030281,
          12.236090074881346,
          13.407092646607783,
          9.55005451792079,
          8.922158857881154,
          11.92569245888841,
          10.685900946165026,
          22.30089494884974,
          22.896697523038537,
          21.755520099986644,
          21.957151170946666,
          22.74406072960697,
          22.17015827705192,
          23.419552291831202,
          23.533291682735435,
          24.043420274488895,
          24.790451584226215,
          23.035306562682305,
          24.152773747460234,
          23.617232433084236,
          23.574918593379348,
          22.791096788094016,
          23.426755955762832,
          23.76076755750083,
          23.633597560662075,
          22.701260835778502,
          22.575272198521926,
          25.723126784085427,
          23.874126596148788,
          23.312738421889875,
          24.781993718426012,
          22.63817304365743,
          10.654971910895584,
          10.006449990929072,
          8.658044251655493,
          8.994865249428857,
          4.299014727859417,
          30.39004217385117,
          26.58321554051339,
          24.812342334013742,
          25.426170215917114,
          25.164974805626805,
          24.442744638283536,
          24.549549568017312,
          23.927970191945235,
          26.90687012564235,
          26.93470752677193,
          40.58757931089175,
          36.78419399080741,
          36.975690315903755,
          40.30114717213294,
          38.80619190069124,
          39.584117940199945,
          38.39722304421872,
          39.12323439754719,
          39.177412727330015,
          40.61985616184134,
          38.372808745318345,
          37.79799896580531,
          38.3539798074935,
          40.6340804064646,
          40.37414652612338,
          40.0473594051063,
          39.66458219620803,
          39.715074081437045,
          39.60067960858484,
          39.2663807545638,
          38.909019659838314,
          37.377158120257,
          42.8123917707651,
          42.29973646213439,
          41.65048201656377,
          40.14897828408416,
          42.6466576055134,
          41.042520367226025,
          40.37896349575188,
          40.723927415538064,
          42.812985411916216,
          42.306204309941215,
          42.650348256733764,
          41.877191368023034,
          55.95914221842729,
          56.362442771482456,
          56.60816411286483,
          56.8669968351325,
          56.75809272880743,
          56.73140133054796,
          56.17525104931291,
          55.69880070134044,
          57.46292323349518,
          55.984784196954706,
          56.32882072763708,
          56.970789295143454,
          56.97604404199209,
          56.926952884755025,
          56.58155086003645,
          56.48628259985539,
          56.8058335515064,
          57.40686142153248,
          56.92374922082338,
          56.86252278034698,
          56.456050048722304,
          56.762415010090294,
          57.154184693556466,
          56.77783288377008,
          55.688002174126375,
          18.88006379815243,
          18.428199141864646,
          18.870180961982122,
          13.29112567058799,
          25.259740355211118,
          24.36036854556233,
          24.88788768124208,
          25.879224104847648,
          24.950632994866325,
          25.148387615156462,
          24.769323901014246,
          25.60006499384951,
          26.8597851225155,
          23.875067281317257,
          24.364657417576748,
          26.604203842453337,
          25.75344841935871,
          24.941314589640893,
          24.740750136969243,
          24.79185459968591,
          29.476793380864287,
          23.933623401044844,
          29.87611464497176,
          25.250323913326085,
          26.614762136307302,
          24.894636911480394,
          37.86235684279481,
          29.875417799084516,
          37.859471584088624,
          41.531592235790605,
          41.614882561326546,
          55.95448208174413,
          56.0661865711123,
          53.677087997077024,
          54.250138896764845,
          55.381506591361656,
          56.52566692449111,
          53.21925297032232,
          56.018999397444,
          56.55783440247194,
          55.83959406047795,
          54.18717460581287,
          55.16098479234089,
          56.53366608583744,
          56.11055536508413,
          56.300405083849085,
          55.701741543303825,
          56.5567225682212,
          56.11216328833357,
          55.72337996877862,
          37.89580443291478,
          37.86321272979238
         ],
         "z": [
          23.974912116264345,
          16.146805122377895,
          23.985013705976566,
          23.586481129749075,
          25.522203188839395,
          24.852363534280702,
          24.36804793977627,
          24.12779285290355,
          23.58701958053556,
          23.591019096028386,
          24.968710180698004,
          24.294347663592696,
          24.354549751246488,
          -7.457642397854263,
          -10.804331045865597,
          -10.397694109761517,
          -9.895480763290726,
          -0.312366436616286,
          -2.7688188547887096,
          0.3059344999165331,
          -7.44516546245993,
          -10.030612375428609,
          -5.023168709527085,
          -0.31467023673860783,
          0.33311040716346396,
          -1.144722442567975,
          -0.3139987995954475,
          0.34995378388155435,
          -0.4766352606072853,
          -0.26321838708357453,
          -0.9597054489675978,
          -0.7281336200543965,
          23.925043562192368,
          16.102108368105235,
          23.95000733749546,
          23.549856986372607,
          25.529695886287833,
          24.71144292827737,
          24.975148159977174,
          25.804326345276912,
          25.09712891005077,
          24.090749199096607,
          1.6197396534361448,
          0.37820535355082585,
          0.9275824446175344,
          2.5119290088351955,
          23.57970182131969,
          23.541757011684304,
          25.532710652893343,
          24.977681616501346,
          24.314301141488773,
          25.157069197619187,
          2.2086319965208188,
          2.096771922772888,
          0.9053214907901995,
          0.19047759081884247,
          1.6797205603046677,
          1.3113573273019796,
          1.5823289680612727,
          3.2269375373202704,
          1.4152823420309257,
          2.2513087150818976,
          5.310659678610241,
          2.941806218856021,
          1.648019838360005,
          3.803618953573133,
          5.371088132145168,
          3.7133565726585154,
          4.500346877807508,
          1.5746434972292924,
          3.106688561104213,
          5.1746693253002185,
          3.2013856119474124,
          4.701232384923209,
          -10.807707871503483,
          -10.331365171031397,
          -9.95680708684085,
          -10.723625457122385,
          -10.300327825232685,
          -10.082459589458022,
          -10.781115204074206,
          -10.333173655628379,
          -9.86617454063252,
          -0.4542489280550297,
          -0.4625114052917019,
          -0.937675108244625,
          -0.7648177988672383,
          -1.643420043098688,
          19.317447633573526,
          18.52897888664017,
          19.2884630461886,
          18.524976787109072,
          32.8094324787829,
          13.967206527521133,
          14.396938253217646,
          14.38685714027062,
          13.83251588390513,
          13.816893878805853,
          0.44252698882410707,
          1.9606456326095787,
          0.9263507009964265,
          0.3046720491141088,
          -1.2250807077425911,
          14.609974822646114,
          14.671947027215326,
          14.035580974076694,
          13.15688950592942,
          14.314024251793095,
          13.969735331617645,
          13.936769203666469,
          13.957071401076709,
          15.564029733459499,
          23.207305694697475,
          23.669116496093345,
          22.900520292630745,
          23.31218603373662,
          24.45291409303914,
          22.516921758246852,
          23.329123344374164,
          21.0630695858043,
          19.52156157206284,
          12.98804596300147,
          11.839786038661352,
          13.314897947507381,
          2.1950237502666057,
          2.1311206687212962,
          13.221152602741416,
          0.9948062047336135,
          0.26406638689817274,
          0.7226680332810804,
          -8.010812922653754,
          -9.213789574694678,
          -10.656294712534796,
          -9.994520528728417,
          -9.709438847264003,
          1.9529017754037656,
          -10.888557717732205,
          1.660728849795171,
          -6.706917402389727,
          14.60964722119926,
          15.340530850759123,
          17.989764004448197,
          15.485914770190426,
          15.987932195429487,
          19.005561239643114,
          15.564847676809814,
          17.7505934626294,
          18.0196058284258,
          17.992128486016465,
          25.429211167636954,
          23.229987612476823,
          18.98917158542843,
          18.830685422670953,
          20.23550563936661,
          18.052140080150092,
          19.645647905954917,
          19.974961278171936,
          1.3291442263437927,
          1.9190330598293945,
          2.125717911086053,
          1.3834948451405709,
          2.457227636173495,
          1.6341061599402367,
          1.9535136322865736,
          3.237676744995327,
          7.558030179220583,
          -9.250282433645513,
          -9.333666090544904,
          -10.00295399825244,
          2.603310809905529,
          4.093960723776954,
          3.6813598896134776,
          3.258925424640848,
          -6.715941929026579,
          2.2591388438963507,
          7.7596366054949195,
          18.336332848826157,
          18.093239731833613,
          18.438376567813442,
          18.1224477081688,
          8.273627260082947,
          17.64526743094234,
          17.72113675378019,
          18.127815253575058,
          18.15138525019654,
          17.76968803314348,
          5.640398515119484,
          6.95796605806337,
          3.4316991721010788,
          6.245087425662732,
          6.847631733988903,
          4.936020445623485,
          6.082075609553844,
          6.351688054870257,
          5.483053112560288,
          -10.296788846485459,
          -10.310901522286793,
          -10.163409227145873,
          -10.037689739781987,
          -10.343882011639039,
          -10.75085408874448,
          -10.932171498521312,
          -10.147518009870476,
          -10.68108347971751,
          8.58031873293769,
          7.789778409302828,
          10.88957622061951,
          9.754112000460612,
          9.672593711038907,
          9.343189333672273,
          10.024367458499137,
          10.474842600347843,
          10.029293415808189,
          5.630950601994736,
          6.875555268762071,
          5.347736300631996,
          5.775817471154987,
          6.109733000696345,
          6.381310260218014,
          8.362409039209235,
          5.742929768186129,
          7.52818538772705,
          13.392147552713695,
          14.088350269357747,
          14.188745715931779,
          32.82928820427808,
          16.47568487769091,
          16.08066436217962,
          16.849759282132737,
          14.796199464869433,
          -7.794540620205399,
          14.628833293681964,
          14.698403176962085,
          13.939332272704394,
          13.946175374578726,
          13.531192175534999,
          15.506044569952808,
          13.60108857790626,
          14.555180848640758,
          14.421225707559728,
          28.960787593212416,
          24.449184724698178,
          27.245970483808303,
          25.652244135851763,
          25.923900225560185,
          27.826068669658447,
          26.476776767844658,
          26.782750862281556,
          27.467382989163053,
          28.929716182720774,
          27.58578556827659,
          27.88813862662856,
          27.520581733427633,
          27.181912321220302,
          28.425241879525743,
          27.34436691351909,
          39.936260136900444,
          39.68320372440451,
          39.92572410864984,
          39.698204370414075,
          13.35599287216796,
          13.937280290660857,
          12.927700943919927,
          -8.11613924149641,
          -9.197484482553216,
          -9.793028590630907,
          -8.248249578772068,
          -9.246643178931977,
          -9.408181511669637,
          -9.470477860955132,
          -11.16497893009373,
          -9.482115112459622,
          15.233801726120191,
          14.984730421365539,
          17.756881264599947,
          15.501767911647327,
          15.999613305696872,
          15.142013378264318,
          19.033155526803785,
          15.624898803180367,
          17.911861592449807,
          28.50691837611156,
          28.926526962389865,
          27.24349222996058,
          26.741393416930745,
          26.174897807731767,
          25.909901679081717,
          26.856905128207917,
          26.5089333864191,
          17.75109300365119,
          28.9025857058071,
          27.259496115432935,
          27.46178329782816,
          28.431442470204452,
          27.409714174804254,
          27.818064815327816,
          27.653714594131092,
          27.21149897431497,
          33.359840016309576,
          39.92341998552272,
          39.73038793816125,
          12.809637032426135,
          3.9337782865465254,
          -8.122137303467705,
          -9.223236841809856,
          -9.72634683435395,
          -9.207602109163307,
          4.067747670979795,
          -9.509727601229592,
          -9.769996726498599,
          7.958579525262633,
          17.857006385500423,
          8.09277192748036,
          7.957065116605813,
          7.743890588285139,
          8.87520551505322,
          18.038763093009816,
          7.2068038662079426,
          8.086576526604986,
          18.01395554338856,
          5.646891535572714,
          7.966575164698042,
          6.897944922976758,
          5.812686025226964,
          6.4512288148512695,
          5.437708500493742,
          4.94526776336206,
          7.175546364403717,
          4.867797628087512,
          7.97882199792944,
          7.773479772549592,
          8.090729700760694,
          11.601213083938877,
          9.452421981127399,
          9.301103964087085,
          10.171970789793773,
          11.189413233563966,
          10.465338689346527,
          5.652152327897657,
          7.928790365187329,
          6.91039025206323,
          5.841874115041125,
          6.36929482587616,
          7.2260389003497645,
          6.105202856419667,
          5.621659722063798,
          5.14103043233756,
          -3.396897528180539,
          13.460758221503792,
          13.95608850801845,
          13.586396738593171,
          13.381418903167006,
          14.123357397189787,
          14.13636349082714,
          15.86224311396891,
          14.140165872371833,
          16.050624649610423,
          34.69622073502419,
          34.6225954394042,
          34.46592111223728,
          35.50142758084264,
          34.56835728384843,
          35.108263236587604,
          34.83362086987507,
          32.691845201405435,
          32.513176220836776,
          11.885152571599699,
          12.934941063938654,
          -3.0185502140268814,
          -3.426789832519123,
          -3.3513034724100694,
          -3.2645109472187746,
          -2.9506705908851094,
          -4.104757527333194,
          18.576984269087614,
          16.284491641526973,
          18.32201121355288,
          17.472050502087768,
          17.607085675570666,
          17.999931221707662,
          17.776851618047573,
          17.583406934970668,
          16.808546617520694,
          18.55564948223275,
          17.094757544352504,
          17.764466001392687,
          16.846064164610777,
          17.905793132454782,
          17.40927620494002,
          17.68060332658717,
          18.024976242129025,
          17.903285393557073,
          -2.6697037857826484,
          13.593926306748088,
          15.91478414879368,
          14.426500589338891,
          14.18652365774674,
          2.3734409467951014,
          -7.749396507202972,
          18.40680674681676,
          17.480628800511596,
          16.95452499321944,
          17.52515701146703,
          17.780442518365472,
          17.584891902031057,
          17.424350483728634,
          18.579442561819032,
          19.313329291066065,
          28.424746344922042,
          24.438966617165818,
          25.681171110336194,
          28.811027643343337,
          25.945987048666908,
          27.849054872067295,
          25.887225288232894,
          25.668359474994112,
          27.4205059623714,
          28.45755599407439,
          39.66230482960955,
          36.9778623423858,
          39.67191533689725,
          28.470034893931675,
          28.8608176109306,
          26.75095865538757,
          26.154144156455992,
          27.569204594199896,
          26.87158785349923,
          26.050593033887623,
          26.478879649576026,
          25.06529346396922,
          39.79022932108523,
          39.72401310342056,
          33.10718836936538,
          29.909963866917685,
          38.997834053032896,
          37.69602159315954,
          37.66393982949548,
          30.623229988821578,
          39.77880964915235,
          39.652792734854714,
          39.93555563992788,
          39.937126273144,
          18.586551855485055,
          17.341795427526893,
          19.193365158719555,
          19.48537563464828,
          18.678330216626858,
          18.05755914952696,
          17.27673029390177,
          17.9652085090034,
          18.35554724180348,
          18.60034738404147,
          17.37775193522234,
          19.475864940546483,
          18.702339475131712,
          18.098526892502054,
          19.17355114900262,
          17.31675193522234,
          18.713317388050054,
          18.326260630822553,
          18.128787846329395,
          19.516841544426377,
          17.334823830221158,
          18.711793542366678,
          18.691655457821263,
          18.160542698009724,
          17.964568490231464,
          21.7364054162688,
          17.867166718629885,
          21.75466782361767,
          35.52422375540862,
          -2.074788714314218,
          16.284162254138867,
          16.908564614174047,
          17.460773585957842,
          18.488428882276708,
          17.81282774212776,
          17.82787273611487,
          17.77023888086809,
          18.368796960351165,
          16.90601824977033,
          16.2931953404025,
          18.38300944173403,
          17.41608666160433,
          18.48858921540617,
          17.42713941241374,
          17.80968884536291,
          21.992905005451618,
          17.116505186001152,
          23.290308440238146,
          -2.1140294104547097,
          18.390224895340296,
          15.80442552947256,
          15.652756073811664,
          23.267453037747746,
          15.711798920106656,
          40.63621231046554,
          40.67932075316605,
          18.540845411068858,
          17.366351460347364,
          15.344942871606685,
          17.89487865883489,
          17.992135967995008,
          18.94922757570063,
          11.29257227467429,
          18.60436392717329,
          19.211024234773788,
          17.443392783233012,
          24.374211603983102,
          17.91993020453228,
          19.172999546634546,
          18.52079716530712,
          17.17912818473846,
          17.966610852019272,
          19.238746576312238,
          18.507072239730388,
          17.966725916317863,
          15.687712581507107,
          15.712174130720618
         ]
        }
       ],
       "layout": {
        "coloraxis": {
         "colorbar": {
          "title": {
           "text": "Cluster"
          }
         },
         "colorscale": [
          [
           0,
           "#0d0887"
          ],
          [
           0.1111111111111111,
           "#46039f"
          ],
          [
           0.2222222222222222,
           "#7201a8"
          ],
          [
           0.3333333333333333,
           "#9c179e"
          ],
          [
           0.4444444444444444,
           "#bd3786"
          ],
          [
           0.5555555555555556,
           "#d8576b"
          ],
          [
           0.6666666666666666,
           "#ed7953"
          ],
          [
           0.7777777777777778,
           "#fb9f3a"
          ],
          [
           0.8888888888888888,
           "#fdca26"
          ],
          [
           1,
           "#f0f921"
          ]
         ]
        },
        "legend": {
         "itemsizing": "constant",
         "tracegroupgap": 0
        },
        "scene": {
         "domain": {
          "x": [
           0,
           1
          ],
          "y": [
           0,
           1
          ]
         },
         "xaxis": {
          "title": {
           "text": "x"
          }
         },
         "yaxis": {
          "title": {
           "text": "y"
          }
         },
         "zaxis": {
          "title": {
           "text": "z"
          }
         }
        },
        "template": {
         "data": {
          "bar": [
           {
            "error_x": {
             "color": "#2a3f5f"
            },
            "error_y": {
             "color": "#2a3f5f"
            },
            "marker": {
             "line": {
              "color": "#E5ECF6",
              "width": 0.5
             }
            },
            "type": "bar"
           }
          ],
          "barpolar": [
           {
            "marker": {
             "line": {
              "color": "#E5ECF6",
              "width": 0.5
             }
            },
            "type": "barpolar"
           }
          ],
          "carpet": [
           {
            "aaxis": {
             "endlinecolor": "#2a3f5f",
             "gridcolor": "white",
             "linecolor": "white",
             "minorgridcolor": "white",
             "startlinecolor": "#2a3f5f"
            },
            "baxis": {
             "endlinecolor": "#2a3f5f",
             "gridcolor": "white",
             "linecolor": "white",
             "minorgridcolor": "white",
             "startlinecolor": "#2a3f5f"
            },
            "type": "carpet"
           }
          ],
          "choropleth": [
           {
            "colorbar": {
             "outlinewidth": 0,
             "ticks": ""
            },
            "type": "choropleth"
           }
          ],
          "contour": [
           {
            "colorbar": {
             "outlinewidth": 0,
             "ticks": ""
            },
            "colorscale": [
             [
              0,
              "#0d0887"
             ],
             [
              0.1111111111111111,
              "#46039f"
             ],
             [
              0.2222222222222222,
              "#7201a8"
             ],
             [
              0.3333333333333333,
              "#9c179e"
             ],
             [
              0.4444444444444444,
              "#bd3786"
             ],
             [
              0.5555555555555556,
              "#d8576b"
             ],
             [
              0.6666666666666666,
              "#ed7953"
             ],
             [
              0.7777777777777778,
              "#fb9f3a"
             ],
             [
              0.8888888888888888,
              "#fdca26"
             ],
             [
              1,
              "#f0f921"
             ]
            ],
            "type": "contour"
           }
          ],
          "contourcarpet": [
           {
            "colorbar": {
             "outlinewidth": 0,
             "ticks": ""
            },
            "type": "contourcarpet"
           }
          ],
          "heatmap": [
           {
            "colorbar": {
             "outlinewidth": 0,
             "ticks": ""
            },
            "colorscale": [
             [
              0,
              "#0d0887"
             ],
             [
              0.1111111111111111,
              "#46039f"
             ],
             [
              0.2222222222222222,
              "#7201a8"
             ],
             [
              0.3333333333333333,
              "#9c179e"
             ],
             [
              0.4444444444444444,
              "#bd3786"
             ],
             [
              0.5555555555555556,
              "#d8576b"
             ],
             [
              0.6666666666666666,
              "#ed7953"
             ],
             [
              0.7777777777777778,
              "#fb9f3a"
             ],
             [
              0.8888888888888888,
              "#fdca26"
             ],
             [
              1,
              "#f0f921"
             ]
            ],
            "type": "heatmap"
           }
          ],
          "heatmapgl": [
           {
            "colorbar": {
             "outlinewidth": 0,
             "ticks": ""
            },
            "colorscale": [
             [
              0,
              "#0d0887"
             ],
             [
              0.1111111111111111,
              "#46039f"
             ],
             [
              0.2222222222222222,
              "#7201a8"
             ],
             [
              0.3333333333333333,
              "#9c179e"
             ],
             [
              0.4444444444444444,
              "#bd3786"
             ],
             [
              0.5555555555555556,
              "#d8576b"
             ],
             [
              0.6666666666666666,
              "#ed7953"
             ],
             [
              0.7777777777777778,
              "#fb9f3a"
             ],
             [
              0.8888888888888888,
              "#fdca26"
             ],
             [
              1,
              "#f0f921"
             ]
            ],
            "type": "heatmapgl"
           }
          ],
          "histogram": [
           {
            "marker": {
             "colorbar": {
              "outlinewidth": 0,
              "ticks": ""
             }
            },
            "type": "histogram"
           }
          ],
          "histogram2d": [
           {
            "colorbar": {
             "outlinewidth": 0,
             "ticks": ""
            },
            "colorscale": [
             [
              0,
              "#0d0887"
             ],
             [
              0.1111111111111111,
              "#46039f"
             ],
             [
              0.2222222222222222,
              "#7201a8"
             ],
             [
              0.3333333333333333,
              "#9c179e"
             ],
             [
              0.4444444444444444,
              "#bd3786"
             ],
             [
              0.5555555555555556,
              "#d8576b"
             ],
             [
              0.6666666666666666,
              "#ed7953"
             ],
             [
              0.7777777777777778,
              "#fb9f3a"
             ],
             [
              0.8888888888888888,
              "#fdca26"
             ],
             [
              1,
              "#f0f921"
             ]
            ],
            "type": "histogram2d"
           }
          ],
          "histogram2dcontour": [
           {
            "colorbar": {
             "outlinewidth": 0,
             "ticks": ""
            },
            "colorscale": [
             [
              0,
              "#0d0887"
             ],
             [
              0.1111111111111111,
              "#46039f"
             ],
             [
              0.2222222222222222,
              "#7201a8"
             ],
             [
              0.3333333333333333,
              "#9c179e"
             ],
             [
              0.4444444444444444,
              "#bd3786"
             ],
             [
              0.5555555555555556,
              "#d8576b"
             ],
             [
              0.6666666666666666,
              "#ed7953"
             ],
             [
              0.7777777777777778,
              "#fb9f3a"
             ],
             [
              0.8888888888888888,
              "#fdca26"
             ],
             [
              1,
              "#f0f921"
             ]
            ],
            "type": "histogram2dcontour"
           }
          ],
          "mesh3d": [
           {
            "colorbar": {
             "outlinewidth": 0,
             "ticks": ""
            },
            "type": "mesh3d"
           }
          ],
          "parcoords": [
           {
            "line": {
             "colorbar": {
              "outlinewidth": 0,
              "ticks": ""
             }
            },
            "type": "parcoords"
           }
          ],
          "pie": [
           {
            "automargin": true,
            "type": "pie"
           }
          ],
          "scatter": [
           {
            "marker": {
             "colorbar": {
              "outlinewidth": 0,
              "ticks": ""
             }
            },
            "type": "scatter"
           }
          ],
          "scatter3d": [
           {
            "line": {
             "colorbar": {
              "outlinewidth": 0,
              "ticks": ""
             }
            },
            "marker": {
             "colorbar": {
              "outlinewidth": 0,
              "ticks": ""
             }
            },
            "type": "scatter3d"
           }
          ],
          "scattercarpet": [
           {
            "marker": {
             "colorbar": {
              "outlinewidth": 0,
              "ticks": ""
             }
            },
            "type": "scattercarpet"
           }
          ],
          "scattergeo": [
           {
            "marker": {
             "colorbar": {
              "outlinewidth": 0,
              "ticks": ""
             }
            },
            "type": "scattergeo"
           }
          ],
          "scattergl": [
           {
            "marker": {
             "colorbar": {
              "outlinewidth": 0,
              "ticks": ""
             }
            },
            "type": "scattergl"
           }
          ],
          "scattermapbox": [
           {
            "marker": {
             "colorbar": {
              "outlinewidth": 0,
              "ticks": ""
             }
            },
            "type": "scattermapbox"
           }
          ],
          "scatterpolar": [
           {
            "marker": {
             "colorbar": {
              "outlinewidth": 0,
              "ticks": ""
             }
            },
            "type": "scatterpolar"
           }
          ],
          "scatterpolargl": [
           {
            "marker": {
             "colorbar": {
              "outlinewidth": 0,
              "ticks": ""
             }
            },
            "type": "scatterpolargl"
           }
          ],
          "scatterternary": [
           {
            "marker": {
             "colorbar": {
              "outlinewidth": 0,
              "ticks": ""
             }
            },
            "type": "scatterternary"
           }
          ],
          "surface": [
           {
            "colorbar": {
             "outlinewidth": 0,
             "ticks": ""
            },
            "colorscale": [
             [
              0,
              "#0d0887"
             ],
             [
              0.1111111111111111,
              "#46039f"
             ],
             [
              0.2222222222222222,
              "#7201a8"
             ],
             [
              0.3333333333333333,
              "#9c179e"
             ],
             [
              0.4444444444444444,
              "#bd3786"
             ],
             [
              0.5555555555555556,
              "#d8576b"
             ],
             [
              0.6666666666666666,
              "#ed7953"
             ],
             [
              0.7777777777777778,
              "#fb9f3a"
             ],
             [
              0.8888888888888888,
              "#fdca26"
             ],
             [
              1,
              "#f0f921"
             ]
            ],
            "type": "surface"
           }
          ],
          "table": [
           {
            "cells": {
             "fill": {
              "color": "#EBF0F8"
             },
             "line": {
              "color": "white"
             }
            },
            "header": {
             "fill": {
              "color": "#C8D4E3"
             },
             "line": {
              "color": "white"
             }
            },
            "type": "table"
           }
          ]
         },
         "layout": {
          "annotationdefaults": {
           "arrowcolor": "#2a3f5f",
           "arrowhead": 0,
           "arrowwidth": 1
          },
          "coloraxis": {
           "colorbar": {
            "outlinewidth": 0,
            "ticks": ""
           }
          },
          "colorscale": {
           "diverging": [
            [
             0,
             "#8e0152"
            ],
            [
             0.1,
             "#c51b7d"
            ],
            [
             0.2,
             "#de77ae"
            ],
            [
             0.3,
             "#f1b6da"
            ],
            [
             0.4,
             "#fde0ef"
            ],
            [
             0.5,
             "#f7f7f7"
            ],
            [
             0.6,
             "#e6f5d0"
            ],
            [
             0.7,
             "#b8e186"
            ],
            [
             0.8,
             "#7fbc41"
            ],
            [
             0.9,
             "#4d9221"
            ],
            [
             1,
             "#276419"
            ]
           ],
           "sequential": [
            [
             0,
             "#0d0887"
            ],
            [
             0.1111111111111111,
             "#46039f"
            ],
            [
             0.2222222222222222,
             "#7201a8"
            ],
            [
             0.3333333333333333,
             "#9c179e"
            ],
            [
             0.4444444444444444,
             "#bd3786"
            ],
            [
             0.5555555555555556,
             "#d8576b"
            ],
            [
             0.6666666666666666,
             "#ed7953"
            ],
            [
             0.7777777777777778,
             "#fb9f3a"
            ],
            [
             0.8888888888888888,
             "#fdca26"
            ],
            [
             1,
             "#f0f921"
            ]
           ],
           "sequentialminus": [
            [
             0,
             "#0d0887"
            ],
            [
             0.1111111111111111,
             "#46039f"
            ],
            [
             0.2222222222222222,
             "#7201a8"
            ],
            [
             0.3333333333333333,
             "#9c179e"
            ],
            [
             0.4444444444444444,
             "#bd3786"
            ],
            [
             0.5555555555555556,
             "#d8576b"
            ],
            [
             0.6666666666666666,
             "#ed7953"
            ],
            [
             0.7777777777777778,
             "#fb9f3a"
            ],
            [
             0.8888888888888888,
             "#fdca26"
            ],
            [
             1,
             "#f0f921"
            ]
           ]
          },
          "colorway": [
           "#636efa",
           "#EF553B",
           "#00cc96",
           "#ab63fa",
           "#FFA15A",
           "#19d3f3",
           "#FF6692",
           "#B6E880",
           "#FF97FF",
           "#FECB52"
          ],
          "font": {
           "color": "#2a3f5f"
          },
          "geo": {
           "bgcolor": "white",
           "lakecolor": "white",
           "landcolor": "#E5ECF6",
           "showlakes": true,
           "showland": true,
           "subunitcolor": "white"
          },
          "hoverlabel": {
           "align": "left"
          },
          "hovermode": "closest",
          "mapbox": {
           "style": "light"
          },
          "paper_bgcolor": "white",
          "plot_bgcolor": "#E5ECF6",
          "polar": {
           "angularaxis": {
            "gridcolor": "white",
            "linecolor": "white",
            "ticks": ""
           },
           "bgcolor": "#E5ECF6",
           "radialaxis": {
            "gridcolor": "white",
            "linecolor": "white",
            "ticks": ""
           }
          },
          "scene": {
           "xaxis": {
            "backgroundcolor": "#E5ECF6",
            "gridcolor": "white",
            "gridwidth": 2,
            "linecolor": "white",
            "showbackground": true,
            "ticks": "",
            "zerolinecolor": "white"
           },
           "yaxis": {
            "backgroundcolor": "#E5ECF6",
            "gridcolor": "white",
            "gridwidth": 2,
            "linecolor": "white",
            "showbackground": true,
            "ticks": "",
            "zerolinecolor": "white"
           },
           "zaxis": {
            "backgroundcolor": "#E5ECF6",
            "gridcolor": "white",
            "gridwidth": 2,
            "linecolor": "white",
            "showbackground": true,
            "ticks": "",
            "zerolinecolor": "white"
           }
          },
          "shapedefaults": {
           "line": {
            "color": "#2a3f5f"
           }
          },
          "ternary": {
           "aaxis": {
            "gridcolor": "white",
            "linecolor": "white",
            "ticks": ""
           },
           "baxis": {
            "gridcolor": "white",
            "linecolor": "white",
            "ticks": ""
           },
           "bgcolor": "#E5ECF6",
           "caxis": {
            "gridcolor": "white",
            "linecolor": "white",
            "ticks": ""
           }
          },
          "title": {
           "x": 0.05
          },
          "xaxis": {
           "automargin": true,
           "gridcolor": "white",
           "linecolor": "white",
           "ticks": "",
           "title": {
            "standoff": 15
           },
           "zerolinecolor": "white",
           "zerolinewidth": 2
          },
          "yaxis": {
           "automargin": true,
           "gridcolor": "white",
           "linecolor": "white",
           "ticks": "",
           "title": {
            "standoff": 15
           },
           "zerolinecolor": "white",
           "zerolinewidth": 2
          }
         }
        },
        "title": {
         "text": "Cluster para -6.5 (kcal/mol) com o Luteoin na PLPro de SARS-CoV-2"
        }
       }
      },
      "text/html": [
       "<div>                            <div id=\"91f2071b-a68c-4a21-8835-77dd206c6422\" class=\"plotly-graph-div\" style=\"height:525px; width:100%;\"></div>            <script type=\"text/javascript\">                require([\"plotly\"], function(Plotly) {                    window.PLOTLYENV=window.PLOTLYENV || {};                                    if (document.getElementById(\"91f2071b-a68c-4a21-8835-77dd206c6422\")) {                    Plotly.newPlot(                        \"91f2071b-a68c-4a21-8835-77dd206c6422\",                        [{\"hovertemplate\": \"x=%{x}<br>y=%{y}<br>z=%{z}<br>size=%{marker.size}<br>Cluster=%{marker.color}<extra></extra>\", \"legendgroup\": \"\", \"marker\": {\"color\": [0, 0, 0, 0, 0, 0, 0, 0, 0, 0, 0, 0, 0, 1, 1, 1, 1, 1, 1, 1, 1, 1, 1, 1, 1, 1, 1, 1, 1, 1, 1, 1, 0, 0, 0, 0, 0, 0, 0, 0, 0, 0, 2, 2, 2, 2, 0, 0, 0, 0, 0, 0, 2, 2, 2, 2, 2, 2, 2, 2, 2, 2, 2, 2, 2, 2, 2, 2, 2, 2, 2, 2, 2, 2, 1, 1, 1, 1, 1, 1, 1, 1, 1, 1, 1, 1, 1, 1, 3, 3, 3, 3, -1, 2, 2, 2, 2, 2, 2, 2, 2, 2, 2, 2, 2, 2, 2, 2, 2, 2, 2, 2, 2, 2, 2, 2, 2, 2, 2, 2, 2, 2, 2, 2, 2, 2, 2, 2, 2, 2, 2, 2, 2, 2, 2, 2, 2, 2, 2, 2, 2, 2, 2, 2, 2, 2, 2, 2, 2, 2, 2, 2, 2, 2, 2, 2, 2, 2, 2, 2, 2, 2, 2, 2, 2, 2, 2, 2, 2, 2, 2, 2, 2, 2, 2, 2, 2, 2, 2, 2, 2, 2, 2, 2, 2, 2, 2, 2, 2, 2, 2, 2, 2, 2, 2, 1, 1, 1, 1, 1, 1, 1, 1, 1, 2, 2, 2, 2, 2, 2, 2, 2, 2, 2, 2, 2, 2, 2, 2, 2, 2, 2, 4, 4, 4, -1, 4, 4, 4, 4, 5, 2, 2, 2, 2, 2, 2, 2, 2, 2, 2, 2, 2, 2, 2, 2, 2, 2, 2, 2, 2, 2, 2, 2, 2, 2, 2, 2, 2, 2, 2, 2, 2, 2, 2, 2, 2, 2, 2, 2, 2, 2, 2, 2, 2, 2, 2, 2, 2, 2, 2, 2, 2, 2, 2, 2, 2, 2, 2, 2, 2, 2, 2, 2, 2, 2, 2, 2, 2, 2, 2, 2, 2, 2, 2, 2, 2, 2, 2, 2, 2, 2, 2, 2, 2, 2, 2, 2, 2, 2, 2, 2, 2, 2, 2, 2, 2, 2, 2, 2, 2, 2, 2, 2, 2, 2, 2, 2, 2, 2, 2, 2, 2, 2, 2, 2, 2, 5, 4, 4, 4, 4, 4, 4, 4, 4, 4, 6, 6, 6, 6, 6, 6, 6, 6, 6, 4, 4, 5, 5, 5, 5, 5, 5, 4, 4, 4, 4, 4, 4, 4, 4, 4, 4, 4, 4, 4, 4, 4, 4, 4, 4, 5, 4, 4, 4, 4, -1, 5, 4, 4, 4, 4, 4, 4, 4, 4, 4, 2, 2, 2, 2, 2, 2, 2, 2, 2, 2, 2, 2, 2, 2, 2, 2, 2, 2, 2, 2, 2, 2, 2, 2, 2, 2, 2, 2, 2, 2, 2, 2, 2, 2, 7, 7, 7, 7, 7, 7, 7, 7, 7, 7, 7, 7, 7, 7, 7, 7, 7, 7, 7, 7, 7, 7, 7, 7, 7, 4, 4, 4, 6, 5, 4, 4, 4, 4, 4, 4, 4, 4, 4, 4, 4, 4, 4, 4, 4, 4, 4, 4, 5, 4, 4, 4, 4, 4, 2, 2, 7, 7, 7, 7, 7, 7, 7, 7, 7, 7, 7, 7, 7, 7, 7, 7, 7, 7, 7, 4, 4], \"coloraxis\": \"coloraxis\", \"size\": [3.0158641881388844e+16, 7109031761113768.0, 3.9768370847026456e+16, 3.0158641881388844e+16, 3.0158641881388844e+16, 1.283685550402998e+16, 1.283685550402998e+16, 7109031761113768.0, 2.278018618928542e+16, 2.278018618928542e+16, 1.7136565993161952e+16, 1.283685550402998e+16, 9574293641480370.0, 9574293641480370.0, 8.35646890221345e+17, 2.487967783811725e+17, 1.9345018120580976e+17, 1.9345018120580976e+17, 1.4992189032302848e+17, 1.4992189032302848e+17, 1.1579628757225622e+17, 1.1579628757225622e+17, 8.912889756177946e+16, 1.4992189032302848e+17, 1.4992189032302848e+17, 1.1579628757225622e+17, 6.835901123797031e+16, 6.835901123797031e+16, 5.2237655915821896e+16, 3.9768370847026456e+16, 3.0158641881388844e+16, 3.0158641881388844e+16, 3.0158641881388844e+16, 9574293641480370.0, 3.9768370847026456e+16, 3.0158641881388844e+16, 3.0158641881388844e+16, 9574293641480370.0, 9574293641480370.0, 9574293641480370.0, 9574293641480370.0, 7109031761113768.0, 3.9768370847026456e+16, 3.0158641881388844e+16, 2.278018618928542e+16, 7109031761113768.0, 2.278018618928542e+16, 3.0158641881388844e+16, 2.278018618928542e+16, 2.278018618928542e+16, 1.283685550402998e+16, 9574293641480370.0, 5.2237655915821896e+16, 3.0158641881388844e+16, 2.278018618928542e+16, 1.283685550402998e+16, 1.7136565993161952e+16, 7109031761113768.0, 1.7136565993161952e+16, 1.7136565993161952e+16, 9574293641480370.0, 9574293641480370.0, 9574293641480370.0, 7109031761113768.0, 2.278018618928542e+16, 6.835901123797031e+16, 6.835901123797031e+16, 3.9768370847026456e+16, 3.0158641881388844e+16, 2.278018618928542e+16, 2.278018618928542e+16, 2.278018618928542e+16, 1.7136565993161952e+16, 1.283685550402998e+16, 8.35646890221345e+17, 6.597359065544892e+17, 6.597359065544892e+17, 5.193472880362495e+17, 4.076193070416495e+17, 3.189541668296888e+17, 3.189541668296888e+17, 2.487967783811725e+17, 1.9345018120580976e+17, 5.2237655915821896e+16, 5.2237655915821896e+16, 3.9768370847026456e+16, 3.0158641881388844e+16, 7109031761113768.0, 2.278018618928542e+16, 1.7136565993161952e+16, 2.278018618928542e+16, 1.7136565993161952e+16, 7109031761113768.0, 3.189541668296888e+17, 2.487967783811725e+17, 6.835901123797031e+16, 2.278018618928542e+16, 1.283685550402998e+16, 3.0158641881388844e+16, 3.0158641881388844e+16, 2.278018618928542e+16, 7109031761113768.0, 7109031761113768.0, 1.0554704483786844e+18, 6.597359065544892e+17, 5.193472880362495e+17, 4.076193070416495e+17, 4.076193070416495e+17, 2.487967783811725e+17, 1.9345018120580976e+17, 1.9345018120580976e+17, 1.9345018120580976e+17, 8.912889756177946e+16, 6.835901123797031e+16, 3.9768370847026456e+16, 3.0158641881388844e+16, 2.278018618928542e+16, 1.7136565993161952e+16, 9574293641480370.0, 9574293641480370.0, 7109031761113768.0, 4.076193070416495e+17, 4.076193070416495e+17, 6.835901123797031e+16, 5.2237655915821896e+16, 3.9768370847026456e+16, 3.0158641881388844e+16, 2.278018618928542e+16, 1.283685550402998e+16, 1.283685550402998e+16, 2.0923070868928013e+18, 4.076193070416495e+17, 1.9345018120580976e+17, 1.1579628757225622e+17, 8.912889756177946e+16, 5.2237655915821896e+16, 3.9768370847026456e+16, 2.278018618928542e+16, 1.283685550402998e+16, 4.076193070416495e+17, 4.076193070416495e+17, 1.9345018120580976e+17, 1.4992189032302848e+17, 1.1579628757225622e+17, 5.2237655915821896e+16, 3.9768370847026456e+16, 3.9768370847026456e+16, 3.0158641881388844e+16, 1.9345018120580976e+17, 1.1579628757225622e+17, 8.912889756177946e+16, 3.9768370847026456e+16, 3.9768370847026456e+16, 3.0158641881388844e+16, 3.0158641881388844e+16, 2.278018618928542e+16, 1.7136565993161952e+16, 8.912889756177946e+16, 3.9768370847026456e+16, 3.9768370847026456e+16, 3.0158641881388844e+16, 3.0158641881388844e+16, 2.278018618928542e+16, 2.278018618928542e+16, 1.283685550402998e+16, 9574293641480370.0, 5.193472880362495e+17, 1.9345018120580976e+17, 1.1579628757225622e+17, 6.835901123797031e+16, 3.9768370847026456e+16, 1.7136565993161952e+16, 1.7136565993161952e+16, 1.283685550402998e+16, 1.283685550402998e+16, 6.835901123797031e+16, 5.2237655915821896e+16, 3.0158641881388844e+16, 1.283685550402998e+16, 9574293641480370.0, 9574293641480370.0, 9574293641480370.0, 7109031761113768.0, 7109031761113768.0, 2.278018618928542e+16, 7109031761113768.0, 8.35646890221345e+17, 4.076193070416495e+17, 4.076193070416495e+17, 3.189541668296888e+17, 3.189541668296888e+17, 3.189541668296888e+17, 2.487967783811725e+17, 2.487967783811725e+17, 1.4992189032302848e+17, 8.35646890221345e+17, 8.35646890221345e+17, 5.193472880362495e+17, 4.076193070416495e+17, 4.076193070416495e+17, 3.189541668296888e+17, 2.487967783811725e+17, 1.9345018120580976e+17, 1.4992189032302848e+17, 8.912889756177946e+16, 8.912889756177946e+16, 5.2237655915821896e+16, 5.2237655915821896e+16, 3.9768370847026456e+16, 3.0158641881388844e+16, 2.278018618928542e+16, 1.7136565993161952e+16, 1.283685550402998e+16, 8.35646890221345e+17, 5.193472880362495e+17, 5.193472880362495e+17, 4.076193070416495e+17, 3.189541668296888e+17, 2.487967783811725e+17, 2.487967783811725e+17, 1.4992189032302848e+17, 8.912889756177946e+16, 1.4992189032302848e+17, 5.2237655915821896e+16, 7109031761113768.0, 7109031761113768.0, 1.6700127976565343e+18, 3.189541668296888e+17, 1.4992189032302848e+17, 1.7136565993161952e+16, 7109031761113768.0, 1.0554704483786844e+18, 6.597359065544892e+17, 2.487967783811725e+17, 2.487967783811725e+17, 2.487967783811725e+17, 1.9345018120580976e+17, 1.9345018120580976e+17, 1.1579628757225622e+17, 1.1579628757225622e+17, 1.0554704483786844e+18, 1.0554704483786844e+18, 6.597359065544892e+17, 6.597359065544892e+17, 3.189541668296888e+17, 3.189541668296888e+17, 2.487967783811725e+17, 1.9345018120580976e+17, 1.9345018120580976e+17, 1.0554704483786844e+18, 4.076193070416495e+17, 2.487967783811725e+17, 1.4992189032302848e+17, 1.1579628757225622e+17, 8.912889756177946e+16, 3.0158641881388844e+16, 1.283685550402998e+16, 9574293641480370.0, 1.283685550402998e+16, 9574293641480370.0, 3.189541668296888e+17, 1.1579628757225622e+17, 3.0158641881388844e+16, 2.0923070868928013e+18, 5.193472880362495e+17, 2.487967783811725e+17, 2.487967783811725e+17, 2.487967783811725e+17, 8.912889756177946e+16, 6.835901123797031e+16, 3.0158641881388844e+16, 1.7136565993161952e+16, 4.076193070416495e+17, 2.487967783811725e+17, 2.487967783811725e+17, 1.4992189032302848e+17, 1.1579628757225622e+17, 5.2237655915821896e+16, 5.2237655915821896e+16, 3.9768370847026456e+16, 3.9768370847026456e+16, 1.6700127976565343e+18, 1.0554704483786844e+18, 6.597359065544892e+17, 4.076193070416495e+17, 4.076193070416495e+17, 3.189541668296888e+17, 3.189541668296888e+17, 2.487967783811725e+17, 2.487967783811725e+17, 1.0554704483786844e+18, 1.9345018120580976e+17, 1.9345018120580976e+17, 1.4992189032302848e+17, 6.835901123797031e+16, 5.2237655915821896e+16, 3.0158641881388844e+16, 2.278018618928542e+16, 1.7136565993161952e+16, 1.283685550402998e+16, 7109031761113768.0, 2.278018618928542e+16, 7109031761113768.0, 2.614641240156616e+18, 4.076193070416495e+17, 3.189541668296888e+17, 2.487967783811725e+17, 6.835901123797031e+16, 6.835901123797031e+16, 9574293641480370.0, 6.597359065544892e+17, 1.1579628757225622e+17, 1.1579628757225622e+17, 1.1579628757225622e+17, 1.1579628757225622e+17, 3.9768370847026456e+16, 3.0158641881388844e+16, 1.283685550402998e+16, 1.283685550402998e+16, 3.0158641881388844e+16, 8.35646890221345e+17, 6.597359065544892e+17, 5.193472880362495e+17, 4.076193070416495e+17, 3.189541668296888e+17, 3.189541668296888e+17, 3.189541668296888e+17, 2.487967783811725e+17, 2.487967783811725e+17, 6.597359065544892e+17, 8.912889756177946e+16, 8.912889756177946e+16, 6.835901123797031e+16, 5.2237655915821896e+16, 3.0158641881388844e+16, 2.278018618928542e+16, 1.7136565993161952e+16, 1.7136565993161952e+16, 8.35646890221345e+17, 6.597359065544892e+17, 4.076193070416495e+17, 4.076193070416495e+17, 4.076193070416495e+17, 2.487967783811725e+17, 2.487967783811725e+17, 1.9345018120580976e+17, 1.9345018120580976e+17, 9574293641480370.0, 4.076193070416495e+17, 6.835901123797031e+16, 2.278018618928542e+16, 2.278018618928542e+16, 2.278018618928542e+16, 1.283685550402998e+16, 1.283685550402998e+16, 7109031761113768.0, 7109031761113768.0, 1.1579628757225622e+17, 3.0158641881388844e+16, 2.278018618928542e+16, 1.7136565993161952e+16, 1.7136565993161952e+16, 1.7136565993161952e+16, 1.283685550402998e+16, 7109031761113768.0, 7109031761113768.0, 2.278018618928542e+16, 7109031761113768.0, 1.4992189032302848e+17, 6.835901123797031e+16, 6.835901123797031e+16, 6.835901123797031e+16, 3.0158641881388844e+16, 9574293641480370.0, 3.2591558577254533e+18, 2.614641240156616e+18, 8.35646890221345e+17, 8.35646890221345e+17, 8.35646890221345e+17, 8.35646890221345e+17, 8.35646890221345e+17, 8.35646890221345e+17, 6.597359065544892e+17, 3.2591558577254533e+18, 1.0554704483786844e+18, 8.35646890221345e+17, 6.597359065544892e+17, 6.597359065544892e+17, 6.597359065544892e+17, 6.597359065544892e+17, 4.076193070416495e+17, 4.076193070416495e+17, 9574293641480370.0, 3.0158641881388844e+16, 9574293641480370.0, 7109031761113768.0, 7109031761113768.0, 7109031761113768.0, 9574293641480370.0, 1.0554704483786844e+18, 8.35646890221345e+17, 5.193472880362495e+17, 5.193472880362495e+17, 4.076193070416495e+17, 1.9345018120580976e+17, 1.4992189032302848e+17, 1.1579628757225622e+17, 6.835901123797031e+16, 2.0923070868928013e+18, 1.0554704483786844e+18, 8.35646890221345e+17, 6.597359065544892e+17, 3.189541668296888e+17, 3.189541668296888e+17, 1.4992189032302848e+17, 1.4992189032302848e+17, 1.4992189032302848e+17, 2.0923070868928013e+18, 9574293641480370.0, 7109031761113768.0, 9574293641480370.0, 2.0923070868928013e+18, 8.35646890221345e+17, 4.076193070416495e+17, 4.076193070416495e+17, 3.189541668296888e+17, 3.189541668296888e+17, 3.189541668296888e+17, 2.487967783811725e+17, 1.9345018120580976e+17, 3.9768370847026456e+16, 3.0158641881388844e+16, 1.7136565993161952e+16, 1.7136565993161952e+16, 1.7136565993161952e+16, 1.283685550402998e+16, 9574293641480370.0, 7109031761113768.0, 3.9768370847026456e+16, 3.0158641881388844e+16, 2.278018618928542e+16, 1.283685550402998e+16, 3.9768370847026456e+16, 3.0158641881388844e+16, 3.0158641881388844e+16, 3.0158641881388844e+16, 2.278018618928542e+16, 1.7136565993161952e+16, 9574293641480370.0, 9574293641480370.0, 9574293641480370.0, 3.9768370847026456e+16, 3.0158641881388844e+16, 2.278018618928542e+16, 1.7136565993161952e+16, 7109031761113768.0, 2.278018618928542e+16, 2.278018618928542e+16, 2.278018618928542e+16, 9574293641480370.0, 7109031761113768.0, 2.278018618928542e+16, 2.278018618928542e+16, 2.278018618928542e+16, 1.283685550402998e+16, 1.283685550402998e+16, 7109031761113768.0, 3.9768370847026456e+16, 7109031761113768.0, 3.9768370847026456e+16, 1.7136565993161952e+16, 2.278018618928542e+16, 1.3294409483562606e+18, 6.597359065544892e+17, 5.193472880362495e+17, 4.076193070416495e+17, 2.487967783811725e+17, 1.9345018120580976e+17, 1.9345018120580976e+17, 1.9345018120580976e+17, 1.4992189032302848e+17, 1.3294409483562606e+18, 1.0554704483786844e+18, 6.597359065544892e+17, 4.076193070416495e+17, 3.189541668296888e+17, 1.9345018120580976e+17, 1.4992189032302848e+17, 1.4992189032302848e+17, 6.835901123797031e+16, 2.278018618928542e+16, 1.0554704483786844e+18, 3.9768370847026456e+16, 1.283685550402998e+16, 6.835901123797031e+16, 1.283685550402998e+16, 7109031761113768.0, 7109031761113768.0, 3.9768370847026456e+16, 1.7136565993161952e+16, 1.7136565993161952e+16, 1.283685550402998e+16, 1.283685550402998e+16, 9574293641480370.0, 9574293641480370.0, 3.9768370847026456e+16, 2.278018618928542e+16, 1.283685550402998e+16, 9574293641480370.0, 7109031761113768.0, 2.278018618928542e+16, 1.283685550402998e+16, 7109031761113768.0, 7109031761113768.0, 2.278018618928542e+16, 1.283685550402998e+16, 7109031761113768.0, 1.283685550402998e+16, 1.283685550402998e+16], \"sizemode\": \"area\", \"sizeref\": 8147889644313633.0, \"symbol\": \"circle\"}, \"mode\": \"markers\", \"name\": \"\", \"scene\": \"scene\", \"showlegend\": false, \"type\": \"scatter3d\", \"x\": [26.653833001818896, 23.959024950671164, 26.68862933788727, 25.973762883346392, 26.858742297947295, 26.432261621563683, 25.733392356301803, 26.75992770740112, 25.9197606223129, 25.935938629090927, 26.43623291759142, 26.123435294211376, 25.78404474087014, 21.959566718412614, 25.38624171331588, 24.67833194969961, 25.443587590967315, 23.299579686765025, 23.747247069329074, 21.633431203783072, 22.790558944571007, 24.558335293088824, 23.073609285156373, 23.31029000723864, 21.622271516663172, 22.84970900202023, 21.63708666160433, 20.953763507629183, 22.21661298269209, 21.69745384525971, 23.112834944555075, 21.658199770854903, 26.66219344582736, 24.009276144467155, 26.669749155643046, 26.0250499788345, 26.827169630380418, 26.057670106377937, 26.856346022134527, 28.107751756700637, 26.309421125454413, 26.86008933254973, 35.281249805454806, 35.5815257138243, 35.020564941886306, 36.92614348401218, 25.94792660802609, 25.981296650563507, 26.825034561511956, 26.52862919340419, 25.859219517600323, 26.433559262868325, 35.47076107567836, 35.386000742331625, 35.00943478797742, 35.68307320874473, 38.393678936141015, 37.15295624516354, 38.31244493148642, 36.23440185380124, 37.405294999690405, 36.82476534462836, 33.31056320410608, 36.390542881238886, 38.42157783093597, 37.70586176155657, 35.338485661231, 35.272754104641244, 37.653403242142424, 38.38741507527063, 36.990859731913275, 34.29544823142207, 36.19650279750389, 35.527769425641736, 25.386473618439375, 34.04838042685156, 32.36382507878674, 33.279653375309486, 33.33839962861692, 33.176432932148366, 33.71236475641203, 24.664745000034404, 25.375889776065712, 22.29819081833552, 23.417125544934784, 23.1256471777457, 21.71855255436312, 21.449050328273533, 39.72345381882546, 40.48290477876889, 39.69912226201845, 40.48718001469455, 43.88786054884018, 44.59360688434728, 44.43714107089124, 44.13327400908687, 44.064537643274534, 43.8138683708428, 35.56336667271397, 35.375197522133256, 34.987421151888654, 36.06043956316138, 36.0008112424495, 44.26566521785261, 44.785007407383276, 44.35332715278887, 41.36295920978257, 43.5097261958691, 44.713327885705546, 43.722250181328086, 44.31566987498774, 45.50135793456547, 45.80074562902466, 46.642740342899266, 44.98716860089319, 46.27806783571225, 45.806475722677945, 44.7621256318419, 46.785007289334445, 44.537334420396526, 43.89903806169609, 41.10100625513975, 41.06523599555182, 42.848745318331716, 35.43290389666165, 35.34224515302715, 41.56079824766285, 35.03955195180711, 35.6189740415684, 35.45452211261063, 45.700641590342315, 44.646537944552534, 45.38549470536497, 43.968440269643814, 44.82230066168908, 39.2473776067156, 44.30300516807657, 38.68922147264835, 41.72624069614049, 43.77365273400739, 45.23285404529094, 45.602743319830154, 44.18703808813034, 44.76221887629823, 46.47389116911437, 44.370290993272306, 45.60032617906705, 43.77767200095308, 45.59533889900995, 44.31333974056053, 45.826704074748804, 46.49431407109511, 44.93344657294458, 46.71900941529978, 43.75970314918803, 46.292840457363184, 47.042282110640734, 39.9965071363417, 39.17354237029748, 39.173988668398295, 40.167417336304126, 38.48823093140169, 38.769094387284916, 39.014058184314784, 36.31335021648926, 37.96763524358799, 44.59800207780433, 45.198218748834464, 43.95149707503235, 39.489720468690095, 40.17082260048545, 37.46918019792373, 36.782811963054336, 41.6617066059186, 39.06568406547148, 45.261534080806975, 40.83409409071437, 43.77495288946249, 40.69303297292229, 41.17464649588695, 46.56569536593147, 39.3775415627855, 41.40229600455394, 41.824883735296865, 43.81812272950631, 41.359071851545266, 46.30150873434632, 45.672405455014896, 38.61540441611274, 45.636512906974275, 45.65385692119228, 45.83943174115875, 45.88753666955272, 44.729109219070764, 46.833343088657216, 33.880429501852035, 34.15329053519938, 33.31074734797502, 33.29005892193895, 33.274555762684194, 33.74919062569141, 33.57797028355982, 33.89858122719367, 33.12310334451176, 45.40968561060761, 46.44805191215574, 44.86417980503113, 45.50789042678276, 46.70641689995796, 45.60117117551654, 45.18056722464658, 45.608720063485656, 45.12255337889438, 46.2873644598415, 45.839307509969885, 47.10641982872781, 46.82800608892989, 45.94316944244377, 44.73480638796279, 45.27635705245822, 45.88812627785148, 45.612981178815375, 57.61547573969727, 57.64832985016852, 56.15967748732695, 43.96627569870607, 57.138952901774324, 56.678948449595154, 57.42609201291006, 56.687307907569945, 56.55962483283961, 44.29947486700497, 44.75857038480662, 44.85878281332098, 44.41478415820862, 42.61108253242994, 45.67637519359466, 42.68535620149272, 43.7495676657002, 43.344040585261496, 53.796003439711285, 56.50688384393076, 49.17954292939992, 57.282461619101326, 55.18082923439539, 55.33144602325707, 55.12147972438857, 56.4680233649784, 54.11614798905986, 53.8635816682473, 53.68643723224008, 55.33236420672451, 54.50232899449552, 54.48153383710492, 53.21695898309983, 53.811115618693584, 53.72355157593384, 54.341701071383696, 53.714406009409885, 54.32906345342087, 42.20203410343903, 43.816443137940794, 43.263945202527985, 45.803475211736526, 44.61413400823953, 45.269902173003835, 45.703733690159474, 45.19870417867524, 44.09189291920644, 44.479146487377285, 45.10053733728906, 44.5598149088435, 45.311017678356045, 44.19581032159618, 45.839876057777296, 44.188720651919255, 44.710785568276584, 44.483191088471806, 46.480730835984915, 44.320963936805505, 45.62241108587184, 55.78854149760517, 53.7788880524079, 49.18841245248627, 56.47075035134013, 56.32467324010373, 55.18002805325525, 56.251863193351326, 55.1165108726235, 45.860037521423514, 53.924943404274885, 54.24460944665877, 54.59674898943319, 52.60896693546316, 54.630074064417734, 54.39971779774469, 52.08789077151432, 52.71652324312738, 57.23113968255003, 53.71744917870965, 54.1632416915891, 43.40203486278996, 41.10465822508871, 45.78648642528941, 44.58003467956079, 45.26163081313558, 45.195716361242475, 47.1921972302702, 44.389939270393036, 44.626865577141125, 47.57520696857477, 45.93694804439072, 45.79699976390235, 46.56350640813249, 46.96407482376865, 45.871267365762016, 43.8580590711295, 47.11010082565383, 46.254308994633135, 43.74959881393512, 46.30468270356454, 47.58165601221624, 45.755481640690505, 46.79852622005824, 45.72429897677735, 47.213252953303, 45.8239690614285, 46.45254403348242, 47.238331024138816, 47.5820763301587, 47.496463998183664, 45.84673620430994, 45.11315193500507, 45.2186080365908, 45.602706627645375, 45.16640882954582, 44.921911745098534, 45.61041803988966, 46.30501587539548, 47.56427789455923, 45.76914475430454, 46.789134627814846, 45.70994780829305, 46.546994207640665, 45.95659631209651, 45.51331787726472, 47.95406157586503, 59.64036718365539, 58.016322006439104, 58.1569302744201, 58.4191759507005, 58.3974427280289, 58.84461364572096, 59.90343212934387, 58.46620889718854, 56.04118414386896, 59.299170420873075, 62.22193313330214, 62.886475604629105, 61.597223921618486, 63.72059449682409, 62.034782350540596, 62.54328176590918, 62.26090313731072, 60.37734772406555, 57.92748990845422, 58.52841868119175, 57.983718217071534, 60.163234419273984, 60.48297265793468, 60.118794839093304, 60.36310197789735, 60.72469963958895, 59.51559311789784, 60.48576860111047, 57.437527027570205, 59.77982771569352, 59.635157592296274, 59.448267833249865, 59.05280321078343, 62.956488310449615, 61.705549271446785, 62.01954210016118, 60.46478401372554, 61.726958467450956, 62.989303289180896, 61.867055932696246, 59.94912973458205, 65.66868366787143, 59.7210823057472, 59.72291432442934, 62.98740213335247, 62.306241276969736, 58.51983269583342, 58.521458960467776, 59.92539581303238, 59.96749901306106, 61.17526559394318, 56.620884010140614, 66.30863032392094, 59.58483604863758, 59.34380962742558, 58.78893403242868, 61.190383722079744, 61.912675457683676, 61.95026310151946, 64.02451454843242, 63.95718919860413, 55.785433862416625, 56.50524574146074, 57.244618076173374, 53.88664428772195, 55.17001700120476, 55.35947507196092, 54.76127712579335, 55.13200419435474, 54.62832850998834, 55.82540142216257, 54.445239360667806, 61.66397354004192, 54.39382081925167, 55.823329688666135, 53.96230691682881, 56.460939571671055, 56.32165750448387, 56.08333977170225, 56.24658828043045, 55.77232689496442, 55.10435086249882, 56.78485442876859, 58.77336556863146, 59.84609972157133, 57.26725548447278, 56.91464557974109, 59.75515710308163, 59.3670469367233, 60.00878690374929, 57.66018558037116, 58.76210477630653, 59.835312822529524, 59.51733827943464, 60.3233346952403, 64.28960667468385, 63.36750054117787, 64.32555826741974, 63.72000521153013, 63.494658473498234, 63.32771331913127, 64.4380877005065, 65.2071633364946, 64.18084375259139, 64.27020419189238, 63.3535148232762, 63.672564151393665, 63.72546662567549, 63.306267597152214, 64.33876063933222, 63.41727154309743, 63.490645806423814, 64.19249726767647, 63.428572204786484, 63.660179342250736, 63.346908999557876, 63.51354437821399, 63.94956611585661, 63.46550683977117, 65.18469419666863, 72.41075752733319, 70.70090241670589, 72.41274243772291, 63.695336288537426, 65.92711688898594, 66.42648720165965, 65.77163369374442, 65.99075685488938, 64.59846884325542, 65.26322120251206, 65.31609061225703, 65.564947711971, 66.71792089026204, 65.71125250754191, 66.39854562207212, 66.4092523677663, 65.63811988293611, 64.67596186370865, 65.79090941888472, 65.31396368839597, 67.87472423611364, 65.29513950402834, 67.77284518438613, 65.95776539749687, 66.31075459385589, 67.39819733890408, 73.68576844431553, 67.77198994339811, 73.72743381896305, 61.212843574069666, 61.15383840599313, 64.21548644230872, 64.40355148431925, 67.58251254051592, 66.72711425678665, 65.34004529526514, 64.63416397779669, 67.49183011650263, 64.24436355600749, 64.33165695008888, 64.75589707010762, 72.62734239919412, 65.7628578949141, 64.30799141393899, 64.58104665246461, 64.54385950993802, 65.12792594028976, 64.26892064945689, 64.57819141147661, 65.15681022998159, 73.72550668297625, 73.72996774768258], \"y\": [26.83019145963762, 20.494271106751278, 26.92211811111727, 27.340257820101552, 27.47632592595008, 27.74403168090314, 27.583167439234728, 25.40931392661202, 27.441186248107513, 27.362836856149542, 27.792033780434238, 27.991307008443393, 27.547284441562027, 59.71262226582064, 63.06467366413805, 64.07819312282257, 63.73453310418826, 65.11658687506997, 66.07143027061791, 68.5103125599976, 65.1797312288775, 62.942301399313216, 66.03091046249435, 65.1290516543313, 68.53656084675055, 66.55441937536236, 69.02277111526094, 63.691923158899904, 69.1192788418468, 69.396562309687, 67.53192979462038, 66.73538368333364, 26.74787256990501, 20.33145815766328, 26.87331789899148, 27.278938768866546, 27.496382408333822, 27.411220804911995, 26.125677696990373, 21.95287648941598, 28.2990128285768, 25.405093558046175, 34.076193231456465, 34.85886247745394, 35.03536911226915, 34.06695733222672, 27.375749064028465, 27.278823866070343, 27.564586233767834, 27.841931867717232, 27.561659329171217, 28.376118132844052, 34.06345181090895, 35.17208273738589, 35.02351387128115, 33.9390524183897, 47.96745940152139, 46.95880745800667, 47.99090666863658, 48.48020429292189, 47.82347894331085, 46.262292133204, 49.85751161966259, 49.27679063061615, 48.14370849578628, 50.183369047088824, 50.90505765635407, 50.88375235925664, 49.724761748122184, 48.13676384765328, 50.45479509221027, 50.434108835593115, 48.4083233947803, 50.3796419832349, 63.067847956361035, 67.35701451348855, 67.10369952154012, 62.99553672242121, 67.31473842659737, 66.94856553502737, 65.36165554472838, 64.00859980467627, 63.70713763588744, 69.22477283131438, 65.10072044225583, 67.51826054391546, 66.71849244903893, 67.5628887465785, 12.631073288047483, 12.313835694491068, 12.589176492783634, 12.326893307391563, 12.162415730695121, 30.16622032040482, 30.122387354435112, 30.104722503040843, 30.367649843983624, 30.348612816482227, 34.86579155146948, 34.027269535180906, 35.02825324045861, 33.526616277920276, 35.33037232529769, 31.041428144652556, 31.74876913848614, 30.97046515042717, 32.80565939905901, 32.37874509635646, 32.49005454435505, 33.0243256029453, 30.818373757092445, 40.08589247815282, 38.86295241726715, 39.06613665275068, 39.17613921506217, 39.727086237570035, 39.773705431948294, 38.977975974889645, 39.88119265062725, 39.67684162191857, 39.16040474853245, 32.803488498386244, 37.1550517770876, 33.28659036294223, 34.16704674407919, 35.23726009815436, 36.789767427140156, 35.01774028532332, 33.979266972869425, 34.08346377910529, 47.61245225667004, 47.07320449317038, 47.26958581444099, 46.7287358907201, 46.73703493738524, 47.966445372540036, 46.01741470881229, 46.162357951584774, 45.17436425959301, 39.3099134253028, 40.305326964852235, 44.80416056922713, 41.04431875937193, 40.192628573828856, 41.06109789217652, 40.26274100592816, 42.08845457346893, 45.74202522551491, 44.794770753510065, 39.74072845219512, 38.88702657329945, 41.057951356638206, 44.40571894998822, 40.41030273478592, 45.6895917559909, 42.83920063413226, 42.25348145275387, 45.02890641081212, 47.99806402483516, 48.56785559042704, 44.19013091325982, 48.58407515148094, 46.09572178714349, 45.50271906332958, 48.51454279433178, 35.84586715341895, 47.01127703417877, 46.88512717227055, 46.7029677958436, 48.254765484403976, 49.86443273189989, 49.40344729354943, 50.48043727098617, 45.17136409809063, 49.349244022510405, 58.12747195525443, 52.908530585330304, 45.60170891982058, 52.74619940439656, 48.552344568612995, 59.15118945172113, 49.263152942765515, 47.92728019904628, 48.10215779254476, 45.64854872646675, 47.81771544509662, 58.250131747206034, 58.9583044461319, 50.43595076349715, 57.61837520119903, 59.135893512347515, 56.91622624312484, 58.050718024427425, 57.60417784998311, 57.89006907486289, 67.85168298311577, 67.32610182110244, 66.42990369641318, 67.01728190097731, 67.19214526995344, 65.46898952407129, 62.62517574574454, 67.42552576198533, 63.152861124961944, 60.138622453757264, 58.84020077390788, 63.260445538749906, 61.961286584546706, 61.46799680869825, 62.183947415400446, 62.83794635477151, 63.83894633304473, 63.90682963199544, 58.25021743979601, 59.34712676235864, 58.33589084140213, 57.79058595892409, 58.22491813530642, 57.61881611395552, 60.15638505755242, 58.56588486581361, 59.647500174719525, 11.753135553375639, 11.12354292939992, 11.542173785989055, 12.163180918528564, 23.50821515232826, 23.969973911207724, 23.025622894810883, 11.02741858957716, 30.42494300667483, 31.039762447000243, 31.80155506851359, 32.67937246507331, 30.785691079962156, 32.83255314750419, 40.20734500495915, 33.959232782523266, 36.45244553404244, 34.125782560204016, 40.40100209011617, 36.78846890372829, 39.14888451637457, 36.997646500594406, 38.78670097976912, 39.57385601735826, 38.913627906092515, 39.39383179670688, 39.27272587286431, 40.39737762373491, 38.92161989144577, 39.578872237485285, 39.204794236537275, 39.39506635575646, 39.744477489789325, 39.19562259824035, 37.744320806034544, 38.38580632278245, 37.75065413936788, 38.36921074360264, 33.010990331583244, 35.54210112693183, 36.957976184553054, 47.742406664834384, 47.04581435444851, 47.21873952597238, 47.39700289002375, 46.78993520639898, 46.120336175196066, 46.5536192983047, 47.387240809481874, 46.90370796782554, 40.284600101246795, 40.34222350229164, 44.09016714737166, 41.05553702840668, 40.180336956273784, 40.87640416770323, 41.05738741020051, 40.68005895308067, 42.079444075813434, 40.65175078768628, 40.38435019005501, 39.144667054851794, 40.055809094757365, 39.70216317028472, 38.78623313196232, 39.595725038918104, 38.936063959654824, 44.11527374365805, 40.38694173167501, 39.210666693100926, 39.15158992659608, 39.364430230061245, 39.14298130917605, 40.06578480421819, 39.69086003789875, 38.645452748781594, 41.68498348330243, 37.7489301828055, 38.40654553045751, 37.224249897069384, 47.886449183417106, 47.64440488830807, 47.008004382291375, 47.31602129188154, 46.75154280664363, 57.28280602150444, 46.50609254557827, 46.92941992504986, 59.81482517981626, 44.57611947773169, 58.53642617077466, 59.11772503421064, 58.927837169739384, 59.48562736871685, 45.668996984323044, 58.64773823395324, 59.45656493247138, 45.76879267438184, 58.253725872864315, 59.85052460974178, 59.23802468813925, 57.82424367307137, 58.532507616141416, 57.708992701250644, 56.90832847884665, 58.82800417262796, 57.039128124265595, 59.860047486410814, 59.62342669113103, 58.95019173448138, 62.666575666224546, 61.886092082797866, 62.082120000984965, 62.94012016248735, 64.12194001272465, 63.81935156137688, 58.249813018975814, 59.836138185574946, 59.21021778452757, 57.839245288095285, 58.44123383373727, 58.84229837422133, 57.8223038435759, 58.00508885275001, 58.5444976171155, 20.988460387555055, 11.793330426290273, 11.320529939320727, 10.600278456558573, 10.8386419303664, 10.59308855147201, 8.974967280194702, 10.084464596032184, 11.536320644532152, 9.385276156778993, 13.374400183011906, 13.1459734002663, 12.214573889698212, 13.31769123204961, 13.098758723030281, 12.236090074881346, 13.407092646607783, 9.55005451792079, 8.922158857881154, 11.92569245888841, 10.685900946165026, 22.30089494884974, 22.896697523038537, 21.755520099986644, 21.957151170946666, 22.74406072960697, 22.17015827705192, 23.419552291831202, 23.533291682735435, 24.043420274488895, 24.790451584226215, 23.035306562682305, 24.152773747460234, 23.617232433084236, 23.574918593379348, 22.791096788094016, 23.426755955762832, 23.76076755750083, 23.633597560662075, 22.701260835778502, 22.575272198521926, 25.723126784085427, 23.874126596148788, 23.312738421889875, 24.781993718426012, 22.63817304365743, 10.654971910895584, 10.006449990929072, 8.658044251655493, 8.994865249428857, 4.299014727859417, 30.39004217385117, 26.58321554051339, 24.812342334013742, 25.426170215917114, 25.164974805626805, 24.442744638283536, 24.549549568017312, 23.927970191945235, 26.90687012564235, 26.93470752677193, 40.58757931089175, 36.78419399080741, 36.975690315903755, 40.30114717213294, 38.80619190069124, 39.584117940199945, 38.39722304421872, 39.12323439754719, 39.177412727330015, 40.61985616184134, 38.372808745318345, 37.79799896580531, 38.3539798074935, 40.6340804064646, 40.37414652612338, 40.0473594051063, 39.66458219620803, 39.715074081437045, 39.60067960858484, 39.2663807545638, 38.909019659838314, 37.377158120257, 42.8123917707651, 42.29973646213439, 41.65048201656377, 40.14897828408416, 42.6466576055134, 41.042520367226025, 40.37896349575188, 40.723927415538064, 42.812985411916216, 42.306204309941215, 42.650348256733764, 41.877191368023034, 55.95914221842729, 56.362442771482456, 56.60816411286483, 56.8669968351325, 56.75809272880743, 56.73140133054796, 56.17525104931291, 55.69880070134044, 57.46292323349518, 55.984784196954706, 56.32882072763708, 56.970789295143454, 56.97604404199209, 56.926952884755025, 56.58155086003645, 56.48628259985539, 56.8058335515064, 57.40686142153248, 56.92374922082338, 56.86252278034698, 56.456050048722304, 56.762415010090294, 57.154184693556466, 56.77783288377008, 55.688002174126375, 18.88006379815243, 18.428199141864646, 18.870180961982122, 13.29112567058799, 25.259740355211118, 24.36036854556233, 24.88788768124208, 25.879224104847648, 24.950632994866325, 25.148387615156462, 24.769323901014246, 25.60006499384951, 26.8597851225155, 23.875067281317257, 24.364657417576748, 26.604203842453337, 25.75344841935871, 24.941314589640893, 24.740750136969243, 24.79185459968591, 29.476793380864287, 23.933623401044844, 29.87611464497176, 25.250323913326085, 26.614762136307302, 24.894636911480394, 37.86235684279481, 29.875417799084516, 37.859471584088624, 41.531592235790605, 41.614882561326546, 55.95448208174413, 56.0661865711123, 53.677087997077024, 54.250138896764845, 55.381506591361656, 56.52566692449111, 53.21925297032232, 56.018999397444, 56.55783440247194, 55.83959406047795, 54.18717460581287, 55.16098479234089, 56.53366608583744, 56.11055536508413, 56.300405083849085, 55.701741543303825, 56.5567225682212, 56.11216328833357, 55.72337996877862, 37.89580443291478, 37.86321272979238], \"z\": [23.974912116264345, 16.146805122377895, 23.985013705976566, 23.586481129749075, 25.522203188839395, 24.852363534280702, 24.36804793977627, 24.12779285290355, 23.58701958053556, 23.591019096028386, 24.968710180698004, 24.294347663592696, 24.354549751246488, -7.457642397854263, -10.804331045865597, -10.397694109761517, -9.895480763290726, -0.312366436616286, -2.7688188547887096, 0.3059344999165331, -7.44516546245993, -10.030612375428609, -5.023168709527085, -0.31467023673860783, 0.33311040716346396, -1.144722442567975, -0.3139987995954475, 0.34995378388155435, -0.4766352606072853, -0.26321838708357453, -0.9597054489675978, -0.7281336200543965, 23.925043562192368, 16.102108368105235, 23.95000733749546, 23.549856986372607, 25.529695886287833, 24.71144292827737, 24.975148159977174, 25.804326345276912, 25.09712891005077, 24.090749199096607, 1.6197396534361448, 0.37820535355082585, 0.9275824446175344, 2.5119290088351955, 23.57970182131969, 23.541757011684304, 25.532710652893343, 24.977681616501346, 24.314301141488773, 25.157069197619187, 2.2086319965208188, 2.096771922772888, 0.9053214907901995, 0.19047759081884247, 1.6797205603046677, 1.3113573273019796, 1.5823289680612727, 3.2269375373202704, 1.4152823420309257, 2.2513087150818976, 5.310659678610241, 2.941806218856021, 1.648019838360005, 3.803618953573133, 5.371088132145168, 3.7133565726585154, 4.500346877807508, 1.5746434972292924, 3.106688561104213, 5.1746693253002185, 3.2013856119474124, 4.701232384923209, -10.807707871503483, -10.331365171031397, -9.95680708684085, -10.723625457122385, -10.300327825232685, -10.082459589458022, -10.781115204074206, -10.333173655628379, -9.86617454063252, -0.4542489280550297, -0.4625114052917019, -0.937675108244625, -0.7648177988672383, -1.643420043098688, 19.317447633573526, 18.52897888664017, 19.2884630461886, 18.524976787109072, 32.8094324787829, 13.967206527521133, 14.396938253217646, 14.38685714027062, 13.83251588390513, 13.816893878805853, 0.44252698882410707, 1.9606456326095787, 0.9263507009964265, 0.3046720491141088, -1.2250807077425911, 14.609974822646114, 14.671947027215326, 14.035580974076694, 13.15688950592942, 14.314024251793095, 13.969735331617645, 13.936769203666469, 13.957071401076709, 15.564029733459499, 23.207305694697475, 23.669116496093345, 22.900520292630745, 23.31218603373662, 24.45291409303914, 22.516921758246852, 23.329123344374164, 21.0630695858043, 19.52156157206284, 12.98804596300147, 11.839786038661352, 13.314897947507381, 2.1950237502666057, 2.1311206687212962, 13.221152602741416, 0.9948062047336135, 0.26406638689817274, 0.7226680332810804, -8.010812922653754, -9.213789574694678, -10.656294712534796, -9.994520528728417, -9.709438847264003, 1.9529017754037656, -10.888557717732205, 1.660728849795171, -6.706917402389727, 14.60964722119926, 15.340530850759123, 17.989764004448197, 15.485914770190426, 15.987932195429487, 19.005561239643114, 15.564847676809814, 17.7505934626294, 18.0196058284258, 17.992128486016465, 25.429211167636954, 23.229987612476823, 18.98917158542843, 18.830685422670953, 20.23550563936661, 18.052140080150092, 19.645647905954917, 19.974961278171936, 1.3291442263437927, 1.9190330598293945, 2.125717911086053, 1.3834948451405709, 2.457227636173495, 1.6341061599402367, 1.9535136322865736, 3.237676744995327, 7.558030179220583, -9.250282433645513, -9.333666090544904, -10.00295399825244, 2.603310809905529, 4.093960723776954, 3.6813598896134776, 3.258925424640848, -6.715941929026579, 2.2591388438963507, 7.7596366054949195, 18.336332848826157, 18.093239731833613, 18.438376567813442, 18.1224477081688, 8.273627260082947, 17.64526743094234, 17.72113675378019, 18.127815253575058, 18.15138525019654, 17.76968803314348, 5.640398515119484, 6.95796605806337, 3.4316991721010788, 6.245087425662732, 6.847631733988903, 4.936020445623485, 6.082075609553844, 6.351688054870257, 5.483053112560288, -10.296788846485459, -10.310901522286793, -10.163409227145873, -10.037689739781987, -10.343882011639039, -10.75085408874448, -10.932171498521312, -10.147518009870476, -10.68108347971751, 8.58031873293769, 7.789778409302828, 10.88957622061951, 9.754112000460612, 9.672593711038907, 9.343189333672273, 10.024367458499137, 10.474842600347843, 10.029293415808189, 5.630950601994736, 6.875555268762071, 5.347736300631996, 5.775817471154987, 6.109733000696345, 6.381310260218014, 8.362409039209235, 5.742929768186129, 7.52818538772705, 13.392147552713695, 14.088350269357747, 14.188745715931779, 32.82928820427808, 16.47568487769091, 16.08066436217962, 16.849759282132737, 14.796199464869433, -7.794540620205399, 14.628833293681964, 14.698403176962085, 13.939332272704394, 13.946175374578726, 13.531192175534999, 15.506044569952808, 13.60108857790626, 14.555180848640758, 14.421225707559728, 28.960787593212416, 24.449184724698178, 27.245970483808303, 25.652244135851763, 25.923900225560185, 27.826068669658447, 26.476776767844658, 26.782750862281556, 27.467382989163053, 28.929716182720774, 27.58578556827659, 27.88813862662856, 27.520581733427633, 27.181912321220302, 28.425241879525743, 27.34436691351909, 39.936260136900444, 39.68320372440451, 39.92572410864984, 39.698204370414075, 13.35599287216796, 13.937280290660857, 12.927700943919927, -8.11613924149641, -9.197484482553216, -9.793028590630907, -8.248249578772068, -9.246643178931977, -9.408181511669637, -9.470477860955132, -11.16497893009373, -9.482115112459622, 15.233801726120191, 14.984730421365539, 17.756881264599947, 15.501767911647327, 15.999613305696872, 15.142013378264318, 19.033155526803785, 15.624898803180367, 17.911861592449807, 28.50691837611156, 28.926526962389865, 27.24349222996058, 26.741393416930745, 26.174897807731767, 25.909901679081717, 26.856905128207917, 26.5089333864191, 17.75109300365119, 28.9025857058071, 27.259496115432935, 27.46178329782816, 28.431442470204452, 27.409714174804254, 27.818064815327816, 27.653714594131092, 27.21149897431497, 33.359840016309576, 39.92341998552272, 39.73038793816125, 12.809637032426135, 3.9337782865465254, -8.122137303467705, -9.223236841809856, -9.72634683435395, -9.207602109163307, 4.067747670979795, -9.509727601229592, -9.769996726498599, 7.958579525262633, 17.857006385500423, 8.09277192748036, 7.957065116605813, 7.743890588285139, 8.87520551505322, 18.038763093009816, 7.2068038662079426, 8.086576526604986, 18.01395554338856, 5.646891535572714, 7.966575164698042, 6.897944922976758, 5.812686025226964, 6.4512288148512695, 5.437708500493742, 4.94526776336206, 7.175546364403717, 4.867797628087512, 7.97882199792944, 7.773479772549592, 8.090729700760694, 11.601213083938877, 9.452421981127399, 9.301103964087085, 10.171970789793773, 11.189413233563966, 10.465338689346527, 5.652152327897657, 7.928790365187329, 6.91039025206323, 5.841874115041125, 6.36929482587616, 7.2260389003497645, 6.105202856419667, 5.621659722063798, 5.14103043233756, -3.396897528180539, 13.460758221503792, 13.95608850801845, 13.586396738593171, 13.381418903167006, 14.123357397189787, 14.13636349082714, 15.86224311396891, 14.140165872371833, 16.050624649610423, 34.69622073502419, 34.6225954394042, 34.46592111223728, 35.50142758084264, 34.56835728384843, 35.108263236587604, 34.83362086987507, 32.691845201405435, 32.513176220836776, 11.885152571599699, 12.934941063938654, -3.0185502140268814, -3.426789832519123, -3.3513034724100694, -3.2645109472187746, -2.9506705908851094, -4.104757527333194, 18.576984269087614, 16.284491641526973, 18.32201121355288, 17.472050502087768, 17.607085675570666, 17.999931221707662, 17.776851618047573, 17.583406934970668, 16.808546617520694, 18.55564948223275, 17.094757544352504, 17.764466001392687, 16.846064164610777, 17.905793132454782, 17.40927620494002, 17.68060332658717, 18.024976242129025, 17.903285393557073, -2.6697037857826484, 13.593926306748088, 15.91478414879368, 14.426500589338891, 14.18652365774674, 2.3734409467951014, -7.749396507202972, 18.40680674681676, 17.480628800511596, 16.95452499321944, 17.52515701146703, 17.780442518365472, 17.584891902031057, 17.424350483728634, 18.579442561819032, 19.313329291066065, 28.424746344922042, 24.438966617165818, 25.681171110336194, 28.811027643343337, 25.945987048666908, 27.849054872067295, 25.887225288232894, 25.668359474994112, 27.4205059623714, 28.45755599407439, 39.66230482960955, 36.9778623423858, 39.67191533689725, 28.470034893931675, 28.8608176109306, 26.75095865538757, 26.154144156455992, 27.569204594199896, 26.87158785349923, 26.050593033887623, 26.478879649576026, 25.06529346396922, 39.79022932108523, 39.72401310342056, 33.10718836936538, 29.909963866917685, 38.997834053032896, 37.69602159315954, 37.66393982949548, 30.623229988821578, 39.77880964915235, 39.652792734854714, 39.93555563992788, 39.937126273144, 18.586551855485055, 17.341795427526893, 19.193365158719555, 19.48537563464828, 18.678330216626858, 18.05755914952696, 17.27673029390177, 17.9652085090034, 18.35554724180348, 18.60034738404147, 17.37775193522234, 19.475864940546483, 18.702339475131712, 18.098526892502054, 19.17355114900262, 17.31675193522234, 18.713317388050054, 18.326260630822553, 18.128787846329395, 19.516841544426377, 17.334823830221158, 18.711793542366678, 18.691655457821263, 18.160542698009724, 17.964568490231464, 21.7364054162688, 17.867166718629885, 21.75466782361767, 35.52422375540862, -2.074788714314218, 16.284162254138867, 16.908564614174047, 17.460773585957842, 18.488428882276708, 17.81282774212776, 17.82787273611487, 17.77023888086809, 18.368796960351165, 16.90601824977033, 16.2931953404025, 18.38300944173403, 17.41608666160433, 18.48858921540617, 17.42713941241374, 17.80968884536291, 21.992905005451618, 17.116505186001152, 23.290308440238146, -2.1140294104547097, 18.390224895340296, 15.80442552947256, 15.652756073811664, 23.267453037747746, 15.711798920106656, 40.63621231046554, 40.67932075316605, 18.540845411068858, 17.366351460347364, 15.344942871606685, 17.89487865883489, 17.992135967995008, 18.94922757570063, 11.29257227467429, 18.60436392717329, 19.211024234773788, 17.443392783233012, 24.374211603983102, 17.91993020453228, 19.172999546634546, 18.52079716530712, 17.17912818473846, 17.966610852019272, 19.238746576312238, 18.507072239730388, 17.966725916317863, 15.687712581507107, 15.712174130720618]}],                        {\"coloraxis\": {\"colorbar\": {\"title\": {\"text\": \"Cluster\"}}, \"colorscale\": [[0.0, \"#0d0887\"], [0.1111111111111111, \"#46039f\"], [0.2222222222222222, \"#7201a8\"], [0.3333333333333333, \"#9c179e\"], [0.4444444444444444, \"#bd3786\"], [0.5555555555555556, \"#d8576b\"], [0.6666666666666666, \"#ed7953\"], [0.7777777777777778, \"#fb9f3a\"], [0.8888888888888888, \"#fdca26\"], [1.0, \"#f0f921\"]]}, \"legend\": {\"itemsizing\": \"constant\", \"tracegroupgap\": 0}, \"scene\": {\"domain\": {\"x\": [0.0, 1.0], \"y\": [0.0, 1.0]}, \"xaxis\": {\"title\": {\"text\": \"x\"}}, \"yaxis\": {\"title\": {\"text\": \"y\"}}, \"zaxis\": {\"title\": {\"text\": \"z\"}}}, \"template\": {\"data\": {\"bar\": [{\"error_x\": {\"color\": \"#2a3f5f\"}, \"error_y\": {\"color\": \"#2a3f5f\"}, \"marker\": {\"line\": {\"color\": \"#E5ECF6\", \"width\": 0.5}}, \"type\": \"bar\"}], \"barpolar\": [{\"marker\": {\"line\": {\"color\": \"#E5ECF6\", \"width\": 0.5}}, \"type\": \"barpolar\"}], \"carpet\": [{\"aaxis\": {\"endlinecolor\": \"#2a3f5f\", \"gridcolor\": \"white\", \"linecolor\": \"white\", \"minorgridcolor\": \"white\", \"startlinecolor\": \"#2a3f5f\"}, \"baxis\": {\"endlinecolor\": \"#2a3f5f\", \"gridcolor\": \"white\", \"linecolor\": \"white\", \"minorgridcolor\": \"white\", \"startlinecolor\": \"#2a3f5f\"}, \"type\": \"carpet\"}], \"choropleth\": [{\"colorbar\": {\"outlinewidth\": 0, \"ticks\": \"\"}, \"type\": \"choropleth\"}], \"contour\": [{\"colorbar\": {\"outlinewidth\": 0, \"ticks\": \"\"}, \"colorscale\": [[0.0, \"#0d0887\"], [0.1111111111111111, \"#46039f\"], [0.2222222222222222, \"#7201a8\"], [0.3333333333333333, \"#9c179e\"], [0.4444444444444444, \"#bd3786\"], [0.5555555555555556, \"#d8576b\"], [0.6666666666666666, \"#ed7953\"], [0.7777777777777778, \"#fb9f3a\"], [0.8888888888888888, \"#fdca26\"], [1.0, \"#f0f921\"]], \"type\": \"contour\"}], \"contourcarpet\": [{\"colorbar\": {\"outlinewidth\": 0, \"ticks\": \"\"}, \"type\": \"contourcarpet\"}], \"heatmap\": [{\"colorbar\": {\"outlinewidth\": 0, \"ticks\": \"\"}, \"colorscale\": [[0.0, \"#0d0887\"], [0.1111111111111111, \"#46039f\"], [0.2222222222222222, \"#7201a8\"], [0.3333333333333333, \"#9c179e\"], [0.4444444444444444, \"#bd3786\"], [0.5555555555555556, \"#d8576b\"], [0.6666666666666666, \"#ed7953\"], [0.7777777777777778, \"#fb9f3a\"], [0.8888888888888888, \"#fdca26\"], [1.0, \"#f0f921\"]], \"type\": \"heatmap\"}], \"heatmapgl\": [{\"colorbar\": {\"outlinewidth\": 0, \"ticks\": \"\"}, \"colorscale\": [[0.0, \"#0d0887\"], [0.1111111111111111, \"#46039f\"], [0.2222222222222222, \"#7201a8\"], [0.3333333333333333, \"#9c179e\"], [0.4444444444444444, \"#bd3786\"], [0.5555555555555556, \"#d8576b\"], [0.6666666666666666, \"#ed7953\"], [0.7777777777777778, \"#fb9f3a\"], [0.8888888888888888, \"#fdca26\"], [1.0, \"#f0f921\"]], \"type\": \"heatmapgl\"}], \"histogram\": [{\"marker\": {\"colorbar\": {\"outlinewidth\": 0, \"ticks\": \"\"}}, \"type\": \"histogram\"}], \"histogram2d\": [{\"colorbar\": {\"outlinewidth\": 0, \"ticks\": \"\"}, \"colorscale\": [[0.0, \"#0d0887\"], [0.1111111111111111, \"#46039f\"], [0.2222222222222222, \"#7201a8\"], [0.3333333333333333, \"#9c179e\"], [0.4444444444444444, \"#bd3786\"], [0.5555555555555556, \"#d8576b\"], [0.6666666666666666, \"#ed7953\"], [0.7777777777777778, \"#fb9f3a\"], [0.8888888888888888, \"#fdca26\"], [1.0, \"#f0f921\"]], \"type\": \"histogram2d\"}], \"histogram2dcontour\": [{\"colorbar\": {\"outlinewidth\": 0, \"ticks\": \"\"}, \"colorscale\": [[0.0, \"#0d0887\"], [0.1111111111111111, \"#46039f\"], [0.2222222222222222, \"#7201a8\"], [0.3333333333333333, \"#9c179e\"], [0.4444444444444444, \"#bd3786\"], [0.5555555555555556, \"#d8576b\"], [0.6666666666666666, \"#ed7953\"], [0.7777777777777778, \"#fb9f3a\"], [0.8888888888888888, \"#fdca26\"], [1.0, \"#f0f921\"]], \"type\": \"histogram2dcontour\"}], \"mesh3d\": [{\"colorbar\": {\"outlinewidth\": 0, \"ticks\": \"\"}, \"type\": \"mesh3d\"}], \"parcoords\": [{\"line\": {\"colorbar\": {\"outlinewidth\": 0, \"ticks\": \"\"}}, \"type\": \"parcoords\"}], \"pie\": [{\"automargin\": true, \"type\": \"pie\"}], \"scatter\": [{\"marker\": {\"colorbar\": {\"outlinewidth\": 0, \"ticks\": \"\"}}, \"type\": \"scatter\"}], \"scatter3d\": [{\"line\": {\"colorbar\": {\"outlinewidth\": 0, \"ticks\": \"\"}}, \"marker\": {\"colorbar\": {\"outlinewidth\": 0, \"ticks\": \"\"}}, \"type\": \"scatter3d\"}], \"scattercarpet\": [{\"marker\": {\"colorbar\": {\"outlinewidth\": 0, \"ticks\": \"\"}}, \"type\": \"scattercarpet\"}], \"scattergeo\": [{\"marker\": {\"colorbar\": {\"outlinewidth\": 0, \"ticks\": \"\"}}, \"type\": \"scattergeo\"}], \"scattergl\": [{\"marker\": {\"colorbar\": {\"outlinewidth\": 0, \"ticks\": \"\"}}, \"type\": \"scattergl\"}], \"scattermapbox\": [{\"marker\": {\"colorbar\": {\"outlinewidth\": 0, \"ticks\": \"\"}}, \"type\": \"scattermapbox\"}], \"scatterpolar\": [{\"marker\": {\"colorbar\": {\"outlinewidth\": 0, \"ticks\": \"\"}}, \"type\": \"scatterpolar\"}], \"scatterpolargl\": [{\"marker\": {\"colorbar\": {\"outlinewidth\": 0, \"ticks\": \"\"}}, \"type\": \"scatterpolargl\"}], \"scatterternary\": [{\"marker\": {\"colorbar\": {\"outlinewidth\": 0, \"ticks\": \"\"}}, \"type\": \"scatterternary\"}], \"surface\": [{\"colorbar\": {\"outlinewidth\": 0, \"ticks\": \"\"}, \"colorscale\": [[0.0, \"#0d0887\"], [0.1111111111111111, \"#46039f\"], [0.2222222222222222, \"#7201a8\"], [0.3333333333333333, \"#9c179e\"], [0.4444444444444444, \"#bd3786\"], [0.5555555555555556, \"#d8576b\"], [0.6666666666666666, \"#ed7953\"], [0.7777777777777778, \"#fb9f3a\"], [0.8888888888888888, \"#fdca26\"], [1.0, \"#f0f921\"]], \"type\": \"surface\"}], \"table\": [{\"cells\": {\"fill\": {\"color\": \"#EBF0F8\"}, \"line\": {\"color\": \"white\"}}, \"header\": {\"fill\": {\"color\": \"#C8D4E3\"}, \"line\": {\"color\": \"white\"}}, \"type\": \"table\"}]}, \"layout\": {\"annotationdefaults\": {\"arrowcolor\": \"#2a3f5f\", \"arrowhead\": 0, \"arrowwidth\": 1}, \"coloraxis\": {\"colorbar\": {\"outlinewidth\": 0, \"ticks\": \"\"}}, \"colorscale\": {\"diverging\": [[0, \"#8e0152\"], [0.1, \"#c51b7d\"], [0.2, \"#de77ae\"], [0.3, \"#f1b6da\"], [0.4, \"#fde0ef\"], [0.5, \"#f7f7f7\"], [0.6, \"#e6f5d0\"], [0.7, \"#b8e186\"], [0.8, \"#7fbc41\"], [0.9, \"#4d9221\"], [1, \"#276419\"]], \"sequential\": [[0.0, \"#0d0887\"], [0.1111111111111111, \"#46039f\"], [0.2222222222222222, \"#7201a8\"], [0.3333333333333333, \"#9c179e\"], [0.4444444444444444, \"#bd3786\"], [0.5555555555555556, \"#d8576b\"], [0.6666666666666666, \"#ed7953\"], [0.7777777777777778, \"#fb9f3a\"], [0.8888888888888888, \"#fdca26\"], [1.0, \"#f0f921\"]], \"sequentialminus\": [[0.0, \"#0d0887\"], [0.1111111111111111, \"#46039f\"], [0.2222222222222222, \"#7201a8\"], [0.3333333333333333, \"#9c179e\"], [0.4444444444444444, \"#bd3786\"], [0.5555555555555556, \"#d8576b\"], [0.6666666666666666, \"#ed7953\"], [0.7777777777777778, \"#fb9f3a\"], [0.8888888888888888, \"#fdca26\"], [1.0, \"#f0f921\"]]}, \"colorway\": [\"#636efa\", \"#EF553B\", \"#00cc96\", \"#ab63fa\", \"#FFA15A\", \"#19d3f3\", \"#FF6692\", \"#B6E880\", \"#FF97FF\", \"#FECB52\"], \"font\": {\"color\": \"#2a3f5f\"}, \"geo\": {\"bgcolor\": \"white\", \"lakecolor\": \"white\", \"landcolor\": \"#E5ECF6\", \"showlakes\": true, \"showland\": true, \"subunitcolor\": \"white\"}, \"hoverlabel\": {\"align\": \"left\"}, \"hovermode\": \"closest\", \"mapbox\": {\"style\": \"light\"}, \"paper_bgcolor\": \"white\", \"plot_bgcolor\": \"#E5ECF6\", \"polar\": {\"angularaxis\": {\"gridcolor\": \"white\", \"linecolor\": \"white\", \"ticks\": \"\"}, \"bgcolor\": \"#E5ECF6\", \"radialaxis\": {\"gridcolor\": \"white\", \"linecolor\": \"white\", \"ticks\": \"\"}}, \"scene\": {\"xaxis\": {\"backgroundcolor\": \"#E5ECF6\", \"gridcolor\": \"white\", \"gridwidth\": 2, \"linecolor\": \"white\", \"showbackground\": true, \"ticks\": \"\", \"zerolinecolor\": \"white\"}, \"yaxis\": {\"backgroundcolor\": \"#E5ECF6\", \"gridcolor\": \"white\", \"gridwidth\": 2, \"linecolor\": \"white\", \"showbackground\": true, \"ticks\": \"\", \"zerolinecolor\": \"white\"}, \"zaxis\": {\"backgroundcolor\": \"#E5ECF6\", \"gridcolor\": \"white\", \"gridwidth\": 2, \"linecolor\": \"white\", \"showbackground\": true, \"ticks\": \"\", \"zerolinecolor\": \"white\"}}, \"shapedefaults\": {\"line\": {\"color\": \"#2a3f5f\"}}, \"ternary\": {\"aaxis\": {\"gridcolor\": \"white\", \"linecolor\": \"white\", \"ticks\": \"\"}, \"baxis\": {\"gridcolor\": \"white\", \"linecolor\": \"white\", \"ticks\": \"\"}, \"bgcolor\": \"#E5ECF6\", \"caxis\": {\"gridcolor\": \"white\", \"linecolor\": \"white\", \"ticks\": \"\"}}, \"title\": {\"x\": 0.05}, \"xaxis\": {\"automargin\": true, \"gridcolor\": \"white\", \"linecolor\": \"white\", \"ticks\": \"\", \"title\": {\"standoff\": 15}, \"zerolinecolor\": \"white\", \"zerolinewidth\": 2}, \"yaxis\": {\"automargin\": true, \"gridcolor\": \"white\", \"linecolor\": \"white\", \"ticks\": \"\", \"title\": {\"standoff\": 15}, \"zerolinecolor\": \"white\", \"zerolinewidth\": 2}}}, \"title\": {\"text\": \"Cluster para -6.5 (kcal/mol) com o Luteoin na PLPro de SARS-CoV-2\"}},                        {\"responsive\": true}                    ).then(function(){\n",
       "                            \n",
       "var gd = document.getElementById('91f2071b-a68c-4a21-8835-77dd206c6422');\n",
       "var x = new MutationObserver(function (mutations, observer) {{\n",
       "        var display = window.getComputedStyle(gd).display;\n",
       "        if (!display || display === 'none') {{\n",
       "            console.log([gd, 'removed!']);\n",
       "            Plotly.purge(gd);\n",
       "            observer.disconnect();\n",
       "        }}\n",
       "}});\n",
       "\n",
       "// Listen for the removal of the full notebook cells\n",
       "var notebookContainer = gd.closest('#notebook-container');\n",
       "if (notebookContainer) {{\n",
       "    x.observe(notebookContainer, {childList: true});\n",
       "}}\n",
       "\n",
       "// Listen for the clearing of the current output cell\n",
       "var outputEl = gd.closest('.output');\n",
       "if (outputEl) {{\n",
       "    x.observe(outputEl, {childList: true});\n",
       "}}\n",
       "\n",
       "                        })                };                });            </script>        </div>"
      ]
     },
     "metadata": {},
     "output_type": "display_data"
    },
    {
     "name": "stdout",
     "output_type": "stream",
     "text": [
      "\n",
      "\n",
      "Para energia de -6.5 kcal/mol\n",
      "              mean  median       std  Ocupação %\n",
      "Cluster                                        \n",
      "-1      -6.500000   -6.50  0.000000    0.512362\n",
      " 0      -6.793103   -6.80  0.198082    5.176174\n",
      " 1      -7.621429   -7.65  0.457744    8.410626\n",
      " 2      -7.395302   -7.40  0.578263   57.904832\n",
      " 3      -6.850000   -6.85  0.057735    0.719935\n",
      " 4      -7.642857   -7.70  0.696311   15.462834\n",
      " 5      -6.933333   -6.90  0.367630    2.186080\n",
      " 6      -6.830000   -6.80  0.283039    1.794582\n",
      " 7      -6.775000   -6.80  0.191839    7.832576\n"
     ]
    },
    {
     "data": {
      "image/png": "[encoded data removed]",
      "text/plain": [
       "<Figure size 432x288 with 1 Axes>"
      ]
     },
     "metadata": {
      "needs_background": "light"
     },
     "output_type": "display_data"
    },
    {
     "data": {
      "image/png": "[encoded data removed]",
      "text/plain": [
       "<Figure size 432x288 with 1 Axes>"
      ]
     },
     "metadata": {
      "needs_background": "light"
     },
     "output_type": "display_data"
    },
    {
     "data": {
      "image/png": "[encoded data removed]",
      "text/plain": [
       "<Figure size 432x288 with 1 Axes>"
      ]
     },
     "metadata": {
      "needs_background": "light"
     },
     "output_type": "display_data"
    },
    {
     "data": {
      "image/png": "[encoded data removed]",
      "text/plain": [
       "<Figure size 432x288 with 1 Axes>"
      ]
     },
     "metadata": {
      "needs_background": "light"
     },
     "output_type": "display_data"
    },
    {
     "data": {
      "application/vnd.plotly.v1+json": {
       "config": {
        "plotlyServerURL": "https://plotly.com"
       },
       "data": [
        {
         "hovertemplate": "x=%{x}<br>y=%{y}<br>z=%{z}<br>size=%{marker.size}<br>Cluster=%{marker.color}<extra></extra>",
         "legendgroup": "",
         "marker": {
          "color": [
           0,
           0,
           0,
           0,
           0,
           0,
           0,
           0,
           0,
           0,
           0,
           0,
           0,
           0,
           0,
           0,
           0,
           0,
           0,
           0,
           1,
           1,
           1,
           1,
           1,
           1,
           1,
           1,
           1,
           1,
           1,
           1,
           1,
           2,
           2,
           2,
           2,
           1,
           1,
           1,
           1,
           1,
           1,
           1,
           2,
           2,
           2,
           3,
           3,
           3,
           3,
           3,
           3,
           3,
           3,
           3,
           0,
           0,
           0,
           0,
           0,
           0,
           0,
           0,
           0,
           3,
           3,
           3,
           3,
           3,
           3,
           3,
           3,
           4,
           4,
           4,
           4,
           1,
           1,
           1,
           1,
           1,
           1,
           1,
           1,
           1,
           1,
           1,
           1,
           1,
           1,
           1,
           1,
           1,
           1,
           1,
           1,
           1,
           1,
           1,
           1,
           1,
           2,
           2,
           2,
           2,
           2,
           1,
           1,
           1,
           1,
           1,
           1,
           1,
           1,
           1,
           1,
           1,
           1,
           1,
           1,
           1,
           1,
           1,
           1,
           2,
           2,
           2,
           2,
           3,
           1,
           3,
           3,
           3,
           3,
           3,
           3,
           3,
           3,
           3,
           3,
           3,
           3,
           3,
           3,
           3,
           3,
           3,
           3,
           3,
           3,
           3,
           3,
           4,
           -1,
           -1,
           4,
           4,
           4,
           4,
           4,
           4,
           4,
           4,
           4,
           4,
           4,
           4,
           4,
           4,
           4,
           4,
           4,
           4,
           4,
           4,
           4,
           4,
           4,
           4,
           4,
           4,
           1,
           1,
           1,
           1,
           1,
           1,
           1,
           1,
           1,
           1,
           1,
           1,
           1,
           1,
           1,
           1,
           1,
           1,
           1,
           4,
           4,
           4,
           4,
           4,
           4,
           4,
           4,
           4,
           4,
           4,
           4,
           4,
           4,
           4,
           4,
           4,
           4
          ],
          "coloraxis": "coloraxis",
          "size": [
           477812028418992400000,
           118067008774342160000,
           88316391576431970000,
           88316391576431970000,
           65812111726441734000,
           65812111726441734000,
           48851558819545600000,
           48851558819545600000,
           65812111726441734000,
           65812111726441734000,
           48851558819545600000,
           477812028418992400000,
           363757267325135550000,
           363757267325135550000,
           276002442101272440000,
           208701085205324530000,
           157256843459542970000,
           157256843459542970000,
           118067008774342160000,
           88316391576431970000,
           157256843459542970000,
           118067008774342160000,
           625581556635839900000,
           363757267325135550000,
           276002442101272440000,
           208701085205324530000,
           208701085205324530000,
           118067008774342160000,
           88316391576431970000,
           88316391576431970000,
           88316391576431970000,
           208701085205324530000,
           208701085205324530000,
           1.37779049364017e+21,
           208701085205324530000,
           88316391576431970000,
           48851558819545600000,
           208701085205324530000,
           208701085205324530000,
           88316391576431970000,
           65812111726441734000,
           48851558819545600000,
           88316391576431970000,
           48851558819545600000,
           276002442101272440000,
           88316391576431970000,
           48851558819545600000,
           477812028418992400000,
           208701085205324530000,
           208701085205324530000,
           157256843459542970000,
           157256843459542970000,
           157256843459542970000,
           118067008774342160000,
           118067008774342160000,
           65812111726441734000,
           477812028418992400000,
           477812028418992400000,
           276002442101272440000,
           208701085205324530000,
           208701085205324530000,
           157256843459542970000,
           118067008774342160000,
           88316391576431970000,
           65812111726441734000,
           477812028418992400000,
           276002442101272440000,
           276002442101272440000,
           208701085205324530000,
           157256843459542970000,
           118067008774342160000,
           118067008774342160000,
           65812111726441734000,
           65812111726441734000,
           1.0622216600262244e+21,
           157256843459542970000,
           65812111726441734000,
           625581556635839900000,
           363757267325135550000,
           118067008774342160000,
           118067008774342160000,
           118067008774342160000,
           88316391576431970000,
           88316391576431970000,
           48851558819545600000,
           48851558819545600000,
           625581556635839900000,
           625581556635839900000,
           363757267325135550000,
           363757267325135550000,
           157256843459542970000,
           157256843459542970000,
           118067008774342160000,
           88316391576431970000,
           88316391576431970000,
           625581556635839900000,
           208701085205324530000,
           118067008774342160000,
           65812111726441734000,
           48851558819545600000,
           157256843459542970000,
           48851558819545600000,
           1.37779049364017e+21,
           276002442101272440000,
           118067008774342160000,
           118067008774342160000,
           118067008774342160000,
           208701085205324530000,
           118067008774342160000,
           118067008774342160000,
           65812111726441734000,
           48851558819545600000,
           1.0622216600262244e+21,
           625581556635839900000,
           363757267325135550000,
           208701085205324530000,
           208701085205324530000,
           157256843459542970000,
           157256843459542970000,
           118067008774342160000,
           118067008774342160000,
           625581556635839900000,
           88316391576431970000,
           88316391576431970000,
           65812111726441734000,
           1.7818047952120098e+21,
           208701085205324530000,
           157256843459542970000,
           118067008774342160000,
           363757267325135550000,
           48851558819545600000,
           48851558819545600000,
           48851558819545600000,
           48851558819545600000,
           477812028418992400000,
           363757267325135550000,
           276002442101272440000,
           208701085205324530000,
           157256843459542970000,
           157256843459542970000,
           157256843459542970000,
           118067008774342160000,
           118067008774342160000,
           363757267325135550000,
           477812028418992400000,
           363757267325135550000,
           208701085205324530000,
           208701085205324530000,
           208701085205324530000,
           118067008774342160000,
           118067008774342160000,
           88316391576431970000,
           88316391576431970000,
           208701085205324530000,
           48851558819545600000,
           65812111726441734000,
           2.2976038458648554e+21,
           1.7818047952120098e+21,
           477812028418992400000,
           477812028418992400000,
           477812028418992400000,
           477812028418992400000,
           477812028418992400000,
           477812028418992400000,
           363757267325135550000,
           2.2976038458648554e+21,
           625581556635839900000,
           477812028418992400000,
           363757267325135550000,
           363757267325135550000,
           363757267325135550000,
           363757267325135550000,
           208701085205324530000,
           208701085205324530000,
           625581556635839900000,
           477812028418992400000,
           276002442101272440000,
           276002442101272440000,
           208701085205324530000,
           88316391576431970000,
           65812111726441734000,
           48851558819545600000,
           1.37779049364017e+21,
           625581556635839900000,
           477812028418992400000,
           363757267325135550000,
           157256843459542970000,
           157256843459542970000,
           65812111726441734000,
           65812111726441734000,
           65812111726441734000,
           1.37779049364017e+21,
           1.37779049364017e+21,
           477812028418992400000,
           208701085205324530000,
           208701085205324530000,
           157256843459542970000,
           157256843459542970000,
           157256843459542970000,
           118067008774342160000,
           88316391576431970000,
           816442922409288500000,
           363757267325135550000,
           276002442101272440000,
           208701085205324530000,
           118067008774342160000,
           88316391576431970000,
           88316391576431970000,
           88316391576431970000,
           65812111726441734000,
           816442922409288500000,
           625581556635839900000,
           363757267325135550000,
           208701085205324530000,
           157256843459542970000,
           88316391576431970000,
           65812111726441734000,
           65812111726441734000,
           625581556635839900000
          ],
          "sizemode": "area",
          "sizeref": 5744009614662139000,
          "symbol": "circle"
         },
         "mode": "markers",
         "name": "",
         "scene": "scene",
         "showlegend": false,
         "type": "scatter3d",
         "x": [
          25.38624171331588,
          24.67833194969961,
          25.443587590967315,
          23.299579686765025,
          23.747247069329074,
          21.633431203783072,
          22.790558944571007,
          24.558335293088824,
          23.31029000723864,
          21.622271516663172,
          22.84970900202023,
          25.386473618439375,
          34.04838042685156,
          32.36382507878674,
          33.279653375309486,
          33.33839962861692,
          33.176432932148366,
          33.71236475641203,
          24.664745000034404,
          25.375889776065712,
          44.59360688434728,
          44.43714107089124,
          44.26566521785261,
          44.785007407383276,
          44.35332715278887,
          41.36295920978257,
          43.5097261958691,
          44.713327885705546,
          43.722250181328086,
          44.31566987498774,
          45.50135793456547,
          41.10100625513975,
          41.06523599555182,
          45.700641590342315,
          44.646537944552534,
          45.38549470536497,
          43.968440269643814,
          43.77365273400739,
          45.23285404529094,
          45.602743319830154,
          44.18703808813034,
          44.76221887629823,
          45.59533889900995,
          44.31333974056053,
          44.59800207780433,
          45.198218748834464,
          43.95149707503235,
          46.30150873434632,
          45.672405455014896,
          38.61540441611274,
          45.636512906974275,
          45.65385692119228,
          45.83943174115875,
          45.88753666955272,
          44.729109219070764,
          46.833343088657216,
          33.880429501852035,
          34.15329053519938,
          33.31074734797502,
          33.29005892193895,
          33.274555762684194,
          33.74919062569141,
          33.57797028355982,
          33.89858122719367,
          33.12310334451176,
          46.2873644598415,
          45.839307509969885,
          47.10641982872781,
          46.82800608892989,
          45.94316944244377,
          44.73480638796279,
          45.27635705245822,
          45.88812627785148,
          57.61547573969727,
          57.138952901774324,
          56.678948449595154,
          57.42609201291006,
          44.29947486700497,
          44.75857038480662,
          44.85878281332098,
          44.41478415820862,
          42.61108253242994,
          45.67637519359466,
          42.68535620149272,
          43.7495676657002,
          43.344040585261496,
          53.796003439711285,
          56.50688384393076,
          49.17954292939992,
          57.282461619101326,
          55.18082923439539,
          55.33144602325707,
          55.12147972438857,
          56.4680233649784,
          54.11614798905986,
          53.8635816682473,
          53.68643723224008,
          55.33236420672451,
          54.50232899449552,
          54.48153383710492,
          42.20203410343903,
          43.816443137940794,
          45.803475211736526,
          44.61413400823953,
          45.269902173003835,
          45.703733690159474,
          45.19870417867524,
          45.311017678356045,
          44.19581032159618,
          45.839876057777296,
          44.188720651919255,
          44.710785568276584,
          55.78854149760517,
          53.7788880524079,
          49.18841245248627,
          56.47075035134013,
          56.32467324010373,
          55.18002805325525,
          56.251863193351326,
          55.1165108726235,
          45.860037521423514,
          53.924943404274885,
          54.24460944665877,
          54.59674898943319,
          52.60896693546316,
          45.78648642528941,
          44.58003467956079,
          45.26163081313558,
          45.195716361242475,
          47.57520696857477,
          45.93694804439072,
          45.79699976390235,
          46.56350640813249,
          46.96407482376865,
          46.30468270356454,
          47.58165601221624,
          45.755481640690505,
          46.79852622005824,
          45.72429897677735,
          47.213252953303,
          45.8239690614285,
          46.45254403348242,
          47.238331024138816,
          47.5820763301587,
          46.30501587539548,
          47.56427789455923,
          45.76914475430454,
          46.789134627814846,
          45.70994780829305,
          46.546994207640665,
          45.95659631209651,
          45.51331787726472,
          47.95406157586503,
          58.016322006439104,
          62.22193313330214,
          60.163234419273984,
          60.48576860111047,
          57.437527027570205,
          59.77982771569352,
          59.635157592296274,
          59.448267833249865,
          59.05280321078343,
          62.956488310449615,
          61.705549271446785,
          62.01954210016118,
          60.46478401372554,
          61.726958467450956,
          62.989303289180896,
          61.867055932696246,
          59.94912973458205,
          65.66868366787143,
          59.7210823057472,
          59.72291432442934,
          62.98740213335247,
          66.30863032392094,
          59.58483604863758,
          59.34380962742558,
          58.78893403242868,
          61.190383722079744,
          61.912675457683676,
          61.95026310151946,
          64.02451454843242,
          55.785433862416625,
          56.50524574146074,
          57.244618076173374,
          53.88664428772195,
          55.17001700120476,
          55.35947507196092,
          54.76127712579335,
          55.13200419435474,
          54.62832850998834,
          55.82540142216257,
          55.823329688666135,
          53.96230691682881,
          56.460939571671055,
          56.32165750448387,
          56.08333977170225,
          56.24658828043045,
          55.77232689496442,
          55.10435086249882,
          56.78485442876859,
          66.42648720165965,
          65.77163369374442,
          65.99075685488938,
          64.59846884325542,
          65.26322120251206,
          65.31609061225703,
          65.564947711971,
          66.71792089026204,
          65.71125250754191,
          66.39854562207212,
          66.4092523677663,
          65.63811988293611,
          64.67596186370865,
          65.79090941888472,
          65.31396368839597,
          67.87472423611364,
          65.29513950402834,
          66.31075459385589
         ],
         "y": [
          63.06467366413805,
          64.07819312282257,
          63.73453310418826,
          65.11658687506997,
          66.07143027061791,
          68.5103125599976,
          65.1797312288775,
          62.942301399313216,
          65.1290516543313,
          68.53656084675055,
          66.55441937536236,
          63.067847956361035,
          67.35701451348855,
          67.10369952154012,
          62.99553672242121,
          67.31473842659737,
          66.94856553502737,
          65.36165554472838,
          64.00859980467627,
          63.70713763588744,
          30.16622032040482,
          30.122387354435112,
          31.041428144652556,
          31.74876913848614,
          30.97046515042717,
          32.80565939905901,
          32.37874509635646,
          32.49005454435505,
          33.0243256029453,
          30.818373757092445,
          40.08589247815282,
          32.803488498386244,
          37.1550517770876,
          47.61245225667004,
          47.07320449317038,
          47.26958581444099,
          46.7287358907201,
          39.3099134253028,
          40.305326964852235,
          44.80416056922713,
          41.04431875937193,
          40.192628573828856,
          44.794770753510065,
          39.74072845219512,
          47.01127703417877,
          46.88512717227055,
          46.7029677958436,
          58.250131747206034,
          58.9583044461319,
          50.43595076349715,
          57.61837520119903,
          59.135893512347515,
          56.91622624312484,
          58.050718024427425,
          57.60417784998311,
          57.89006907486289,
          67.85168298311577,
          67.32610182110244,
          66.42990369641318,
          67.01728190097731,
          67.19214526995344,
          65.46898952407129,
          62.62517574574454,
          67.42552576198533,
          63.152861124961944,
          58.25021743979601,
          59.34712676235864,
          58.33589084140213,
          57.79058595892409,
          58.22491813530642,
          57.61881611395552,
          60.15638505755242,
          58.56588486581361,
          11.753135553375639,
          23.50821515232826,
          23.969973911207724,
          23.025622894810883,
          31.039762447000243,
          31.80155506851359,
          32.67937246507331,
          30.785691079962156,
          32.83255314750419,
          40.20734500495915,
          33.959232782523266,
          36.45244553404244,
          34.125782560204016,
          40.40100209011617,
          36.78846890372829,
          39.14888451637457,
          36.997646500594406,
          38.78670097976912,
          39.57385601735826,
          38.913627906092515,
          39.39383179670688,
          39.27272587286431,
          40.39737762373491,
          38.92161989144577,
          39.578872237485285,
          39.204794236537275,
          39.39506635575646,
          33.010990331583244,
          35.54210112693183,
          47.742406664834384,
          47.04581435444851,
          47.21873952597238,
          47.39700289002375,
          46.78993520639898,
          40.284600101246795,
          40.34222350229164,
          44.09016714737166,
          41.05553702840668,
          40.180336956273784,
          40.65175078768628,
          40.38435019005501,
          39.144667054851794,
          40.055809094757365,
          39.70216317028472,
          38.78623313196232,
          39.595725038918104,
          38.936063959654824,
          44.11527374365805,
          40.38694173167501,
          39.210666693100926,
          39.15158992659608,
          39.364430230061245,
          47.64440488830807,
          47.008004382291375,
          47.31602129188154,
          46.75154280664363,
          59.81482517981626,
          44.57611947773169,
          58.53642617077466,
          59.11772503421064,
          58.927837169739384,
          58.253725872864315,
          59.85052460974178,
          59.23802468813925,
          57.82424367307137,
          58.532507616141416,
          57.708992701250644,
          56.90832847884665,
          58.82800417262796,
          57.039128124265595,
          59.860047486410814,
          58.249813018975814,
          59.836138185574946,
          59.21021778452757,
          57.839245288095285,
          58.44123383373727,
          58.84229837422133,
          57.8223038435759,
          58.00508885275001,
          58.5444976171155,
          11.793330426290273,
          13.374400183011906,
          22.30089494884974,
          23.419552291831202,
          23.533291682735435,
          24.043420274488895,
          24.790451584226215,
          23.035306562682305,
          24.152773747460234,
          23.617232433084236,
          23.574918593379348,
          22.791096788094016,
          23.426755955762832,
          23.76076755750083,
          23.633597560662075,
          22.701260835778502,
          22.575272198521926,
          25.723126784085427,
          23.874126596148788,
          23.312738421889875,
          24.781993718426012,
          26.58321554051339,
          24.812342334013742,
          25.426170215917114,
          25.164974805626805,
          24.442744638283536,
          24.549549568017312,
          23.927970191945235,
          26.90687012564235,
          40.58757931089175,
          36.78419399080741,
          36.975690315903755,
          40.30114717213294,
          38.80619190069124,
          39.584117940199945,
          38.39722304421872,
          39.12323439754719,
          39.177412727330015,
          40.61985616184134,
          40.6340804064646,
          40.37414652612338,
          40.0473594051063,
          39.66458219620803,
          39.715074081437045,
          39.60067960858484,
          39.2663807545638,
          38.909019659838314,
          37.377158120257,
          24.36036854556233,
          24.88788768124208,
          25.879224104847648,
          24.950632994866325,
          25.148387615156462,
          24.769323901014246,
          25.60006499384951,
          26.8597851225155,
          23.875067281317257,
          24.364657417576748,
          26.604203842453337,
          25.75344841935871,
          24.941314589640893,
          24.740750136969243,
          24.79185459968591,
          29.476793380864287,
          23.933623401044844,
          26.614762136307302
         ],
         "z": [
          -10.804331045865597,
          -10.397694109761517,
          -9.895480763290726,
          -0.312366436616286,
          -2.7688188547887096,
          0.3059344999165331,
          -7.44516546245993,
          -10.030612375428609,
          -0.31467023673860783,
          0.33311040716346396,
          -1.144722442567975,
          -10.807707871503483,
          -10.331365171031397,
          -9.95680708684085,
          -10.723625457122385,
          -10.300327825232685,
          -10.082459589458022,
          -10.781115204074206,
          -10.333173655628379,
          -9.86617454063252,
          13.967206527521133,
          14.396938253217646,
          14.609974822646114,
          14.671947027215326,
          14.035580974076694,
          13.15688950592942,
          14.314024251793095,
          13.969735331617645,
          13.936769203666469,
          13.957071401076709,
          15.564029733459499,
          12.98804596300147,
          11.839786038661352,
          -8.010812922653754,
          -9.213789574694678,
          -10.656294712534796,
          -9.994520528728417,
          14.60964722119926,
          15.340530850759123,
          17.989764004448197,
          15.485914770190426,
          15.987932195429487,
          17.992128486016465,
          25.429211167636954,
          -9.250282433645513,
          -9.333666090544904,
          -10.00295399825244,
          5.640398515119484,
          6.95796605806337,
          3.4316991721010788,
          6.245087425662732,
          6.847631733988903,
          4.936020445623485,
          6.082075609553844,
          6.351688054870257,
          5.483053112560288,
          -10.296788846485459,
          -10.310901522286793,
          -10.163409227145873,
          -10.037689739781987,
          -10.343882011639039,
          -10.75085408874448,
          -10.932171498521312,
          -10.147518009870476,
          -10.68108347971751,
          5.630950601994736,
          6.875555268762071,
          5.347736300631996,
          5.775817471154987,
          6.109733000696345,
          6.381310260218014,
          8.362409039209235,
          5.742929768186129,
          13.392147552713695,
          16.47568487769091,
          16.08066436217962,
          16.849759282132737,
          14.628833293681964,
          14.698403176962085,
          13.939332272704394,
          13.946175374578726,
          13.531192175534999,
          15.506044569952808,
          13.60108857790626,
          14.555180848640758,
          14.421225707559728,
          28.960787593212416,
          24.449184724698178,
          27.245970483808303,
          25.652244135851763,
          25.923900225560185,
          27.826068669658447,
          26.476776767844658,
          26.782750862281556,
          27.467382989163053,
          28.929716182720774,
          27.58578556827659,
          27.88813862662856,
          27.520581733427633,
          27.181912321220302,
          13.35599287216796,
          13.937280290660857,
          -8.11613924149641,
          -9.197484482553216,
          -9.793028590630907,
          -8.248249578772068,
          -9.246643178931977,
          15.233801726120191,
          14.984730421365539,
          17.756881264599947,
          15.501767911647327,
          15.999613305696872,
          28.50691837611156,
          28.926526962389865,
          27.24349222996058,
          26.741393416930745,
          26.174897807731767,
          25.909901679081717,
          26.856905128207917,
          26.5089333864191,
          17.75109300365119,
          28.9025857058071,
          27.259496115432935,
          27.46178329782816,
          28.431442470204452,
          -8.122137303467705,
          -9.223236841809856,
          -9.72634683435395,
          -9.207602109163307,
          7.958579525262633,
          17.857006385500423,
          8.09277192748036,
          7.957065116605813,
          7.743890588285139,
          5.646891535572714,
          7.966575164698042,
          6.897944922976758,
          5.812686025226964,
          6.4512288148512695,
          5.437708500493742,
          4.94526776336206,
          7.175546364403717,
          4.867797628087512,
          7.97882199792944,
          5.652152327897657,
          7.928790365187329,
          6.91039025206323,
          5.841874115041125,
          6.36929482587616,
          7.2260389003497645,
          6.105202856419667,
          5.621659722063798,
          5.14103043233756,
          13.460758221503792,
          34.69622073502419,
          -3.0185502140268814,
          18.576984269087614,
          16.284491641526973,
          18.32201121355288,
          17.472050502087768,
          17.607085675570666,
          17.999931221707662,
          17.776851618047573,
          17.583406934970668,
          16.808546617520694,
          18.55564948223275,
          17.094757544352504,
          17.764466001392687,
          16.846064164610777,
          17.905793132454782,
          17.40927620494002,
          17.68060332658717,
          18.024976242129025,
          17.903285393557073,
          18.40680674681676,
          17.480628800511596,
          16.95452499321944,
          17.52515701146703,
          17.780442518365472,
          17.584891902031057,
          17.424350483728634,
          18.579442561819032,
          28.424746344922042,
          24.438966617165818,
          25.681171110336194,
          28.811027643343337,
          25.945987048666908,
          27.849054872067295,
          25.887225288232894,
          25.668359474994112,
          27.4205059623714,
          28.45755599407439,
          28.470034893931675,
          28.8608176109306,
          26.75095865538757,
          26.154144156455992,
          27.569204594199896,
          26.87158785349923,
          26.050593033887623,
          26.478879649576026,
          25.06529346396922,
          16.284162254138867,
          16.908564614174047,
          17.460773585957842,
          18.488428882276708,
          17.81282774212776,
          17.82787273611487,
          17.77023888086809,
          18.368796960351165,
          16.90601824977033,
          16.2931953404025,
          18.38300944173403,
          17.41608666160433,
          18.48858921540617,
          17.42713941241374,
          17.80968884536291,
          21.992905005451618,
          17.116505186001152,
          18.390224895340296
         ]
        }
       ],
       "layout": {
        "coloraxis": {
         "colorbar": {
          "title": {
           "text": "Cluster"
          }
         },
         "colorscale": [
          [
           0,
           "#0d0887"
          ],
          [
           0.1111111111111111,
           "#46039f"
          ],
          [
           0.2222222222222222,
           "#7201a8"
          ],
          [
           0.3333333333333333,
           "#9c179e"
          ],
          [
           0.4444444444444444,
           "#bd3786"
          ],
          [
           0.5555555555555556,
           "#d8576b"
          ],
          [
           0.6666666666666666,
           "#ed7953"
          ],
          [
           0.7777777777777778,
           "#fb9f3a"
          ],
          [
           0.8888888888888888,
           "#fdca26"
          ],
          [
           1,
           "#f0f921"
          ]
         ]
        },
        "legend": {
         "itemsizing": "constant",
         "tracegroupgap": 0
        },
        "scene": {
         "domain": {
          "x": [
           0,
           1
          ],
          "y": [
           0,
           1
          ]
         },
         "xaxis": {
          "title": {
           "text": "x"
          }
         },
         "yaxis": {
          "title": {
           "text": "y"
          }
         },
         "zaxis": {
          "title": {
           "text": "z"
          }
         }
        },
        "template": {
         "data": {
          "bar": [
           {
            "error_x": {
             "color": "#2a3f5f"
            },
            "error_y": {
             "color": "#2a3f5f"
            },
            "marker": {
             "line": {
              "color": "#E5ECF6",
              "width": 0.5
             }
            },
            "type": "bar"
           }
          ],
          "barpolar": [
           {
            "marker": {
             "line": {
              "color": "#E5ECF6",
              "width": 0.5
             }
            },
            "type": "barpolar"
           }
          ],
          "carpet": [
           {
            "aaxis": {
             "endlinecolor": "#2a3f5f",
             "gridcolor": "white",
             "linecolor": "white",
             "minorgridcolor": "white",
             "startlinecolor": "#2a3f5f"
            },
            "baxis": {
             "endlinecolor": "#2a3f5f",
             "gridcolor": "white",
             "linecolor": "white",
             "minorgridcolor": "white",
             "startlinecolor": "#2a3f5f"
            },
            "type": "carpet"
           }
          ],
          "choropleth": [
           {
            "colorbar": {
             "outlinewidth": 0,
             "ticks": ""
            },
            "type": "choropleth"
           }
          ],
          "contour": [
           {
            "colorbar": {
             "outlinewidth": 0,
             "ticks": ""
            },
            "colorscale": [
             [
              0,
              "#0d0887"
             ],
             [
              0.1111111111111111,
              "#46039f"
             ],
             [
              0.2222222222222222,
              "#7201a8"
             ],
             [
              0.3333333333333333,
              "#9c179e"
             ],
             [
              0.4444444444444444,
              "#bd3786"
             ],
             [
              0.5555555555555556,
              "#d8576b"
             ],
             [
              0.6666666666666666,
              "#ed7953"
             ],
             [
              0.7777777777777778,
              "#fb9f3a"
             ],
             [
              0.8888888888888888,
              "#fdca26"
             ],
             [
              1,
              "#f0f921"
             ]
            ],
            "type": "contour"
           }
          ],
          "contourcarpet": [
           {
            "colorbar": {
             "outlinewidth": 0,
             "ticks": ""
            },
            "type": "contourcarpet"
           }
          ],
          "heatmap": [
           {
            "colorbar": {
             "outlinewidth": 0,
             "ticks": ""
            },
            "colorscale": [
             [
              0,
              "#0d0887"
             ],
             [
              0.1111111111111111,
              "#46039f"
             ],
             [
              0.2222222222222222,
              "#7201a8"
             ],
             [
              0.3333333333333333,
              "#9c179e"
             ],
             [
              0.4444444444444444,
              "#bd3786"
             ],
             [
              0.5555555555555556,
              "#d8576b"
             ],
             [
              0.6666666666666666,
              "#ed7953"
             ],
             [
              0.7777777777777778,
              "#fb9f3a"
             ],
             [
              0.8888888888888888,
              "#fdca26"
             ],
             [
              1,
              "#f0f921"
             ]
            ],
            "type": "heatmap"
           }
          ],
          "heatmapgl": [
           {
            "colorbar": {
             "outlinewidth": 0,
             "ticks": ""
            },
            "colorscale": [
             [
              0,
              "#0d0887"
             ],
             [
              0.1111111111111111,
              "#46039f"
             ],
             [
              0.2222222222222222,
              "#7201a8"
             ],
             [
              0.3333333333333333,
              "#9c179e"
             ],
             [
              0.4444444444444444,
              "#bd3786"
             ],
             [
              0.5555555555555556,
              "#d8576b"
             ],
             [
              0.6666666666666666,
              "#ed7953"
             ],
             [
              0.7777777777777778,
              "#fb9f3a"
             ],
             [
              0.8888888888888888,
              "#fdca26"
             ],
             [
              1,
              "#f0f921"
             ]
            ],
            "type": "heatmapgl"
           }
          ],
          "histogram": [
           {
            "marker": {
             "colorbar": {
              "outlinewidth": 0,
              "ticks": ""
             }
            },
            "type": "histogram"
           }
          ],
          "histogram2d": [
           {
            "colorbar": {
             "outlinewidth": 0,
             "ticks": ""
            },
            "colorscale": [
             [
              0,
              "#0d0887"
             ],
             [
              0.1111111111111111,
              "#46039f"
             ],
             [
              0.2222222222222222,
              "#7201a8"
             ],
             [
              0.3333333333333333,
              "#9c179e"
             ],
             [
              0.4444444444444444,
              "#bd3786"
             ],
             [
              0.5555555555555556,
              "#d8576b"
             ],
             [
              0.6666666666666666,
              "#ed7953"
             ],
             [
              0.7777777777777778,
              "#fb9f3a"
             ],
             [
              0.8888888888888888,
              "#fdca26"
             ],
             [
              1,
              "#f0f921"
             ]
            ],
            "type": "histogram2d"
           }
          ],
          "histogram2dcontour": [
           {
            "colorbar": {
             "outlinewidth": 0,
             "ticks": ""
            },
            "colorscale": [
             [
              0,
              "#0d0887"
             ],
             [
              0.1111111111111111,
              "#46039f"
             ],
             [
              0.2222222222222222,
              "#7201a8"
             ],
             [
              0.3333333333333333,
              "#9c179e"
             ],
             [
              0.4444444444444444,
              "#bd3786"
             ],
             [
              0.5555555555555556,
              "#d8576b"
             ],
             [
              0.6666666666666666,
              "#ed7953"
             ],
             [
              0.7777777777777778,
              "#fb9f3a"
             ],
             [
              0.8888888888888888,
              "#fdca26"
             ],
             [
              1,
              "#f0f921"
             ]
            ],
            "type": "histogram2dcontour"
           }
          ],
          "mesh3d": [
           {
            "colorbar": {
             "outlinewidth": 0,
             "ticks": ""
            },
            "type": "mesh3d"
           }
          ],
          "parcoords": [
           {
            "line": {
             "colorbar": {
              "outlinewidth": 0,
              "ticks": ""
             }
            },
            "type": "parcoords"
           }
          ],
          "pie": [
           {
            "automargin": true,
            "type": "pie"
           }
          ],
          "scatter": [
           {
            "marker": {
             "colorbar": {
              "outlinewidth": 0,
              "ticks": ""
             }
            },
            "type": "scatter"
           }
          ],
          "scatter3d": [
           {
            "line": {
             "colorbar": {
              "outlinewidth": 0,
              "ticks": ""
             }
            },
            "marker": {
             "colorbar": {
              "outlinewidth": 0,
              "ticks": ""
             }
            },
            "type": "scatter3d"
           }
          ],
          "scattercarpet": [
           {
            "marker": {
             "colorbar": {
              "outlinewidth": 0,
              "ticks": ""
             }
            },
            "type": "scattercarpet"
           }
          ],
          "scattergeo": [
           {
            "marker": {
             "colorbar": {
              "outlinewidth": 0,
              "ticks": ""
             }
            },
            "type": "scattergeo"
           }
          ],
          "scattergl": [
           {
            "marker": {
             "colorbar": {
              "outlinewidth": 0,
              "ticks": ""
             }
            },
            "type": "scattergl"
           }
          ],
          "scattermapbox": [
           {
            "marker": {
             "colorbar": {
              "outlinewidth": 0,
              "ticks": ""
             }
            },
            "type": "scattermapbox"
           }
          ],
          "scatterpolar": [
           {
            "marker": {
             "colorbar": {
              "outlinewidth": 0,
              "ticks": ""
             }
            },
            "type": "scatterpolar"
           }
          ],
          "scatterpolargl": [
           {
            "marker": {
             "colorbar": {
              "outlinewidth": 0,
              "ticks": ""
             }
            },
            "type": "scatterpolargl"
           }
          ],
          "scatterternary": [
           {
            "marker": {
             "colorbar": {
              "outlinewidth": 0,
              "ticks": ""
             }
            },
            "type": "scatterternary"
           }
          ],
          "surface": [
           {
            "colorbar": {
             "outlinewidth": 0,
             "ticks": ""
            },
            "colorscale": [
             [
              0,
              "#0d0887"
             ],
             [
              0.1111111111111111,
              "#46039f"
             ],
             [
              0.2222222222222222,
              "#7201a8"
             ],
             [
              0.3333333333333333,
              "#9c179e"
             ],
             [
              0.4444444444444444,
              "#bd3786"
             ],
             [
              0.5555555555555556,
              "#d8576b"
             ],
             [
              0.6666666666666666,
              "#ed7953"
             ],
             [
              0.7777777777777778,
              "#fb9f3a"
             ],
             [
              0.8888888888888888,
              "#fdca26"
             ],
             [
              1,
              "#f0f921"
             ]
            ],
            "type": "surface"
           }
          ],
          "table": [
           {
            "cells": {
             "fill": {
              "color": "#EBF0F8"
             },
             "line": {
              "color": "white"
             }
            },
            "header": {
             "fill": {
              "color": "#C8D4E3"
             },
             "line": {
              "color": "white"
             }
            },
            "type": "table"
           }
          ]
         },
         "layout": {
          "annotationdefaults": {
           "arrowcolor": "#2a3f5f",
           "arrowhead": 0,
           "arrowwidth": 1
          },
          "coloraxis": {
           "colorbar": {
            "outlinewidth": 0,
            "ticks": ""
           }
          },
          "colorscale": {
           "diverging": [
            [
             0,
             "#8e0152"
            ],
            [
             0.1,
             "#c51b7d"
            ],
            [
             0.2,
             "#de77ae"
            ],
            [
             0.3,
             "#f1b6da"
            ],
            [
             0.4,
             "#fde0ef"
            ],
            [
             0.5,
             "#f7f7f7"
            ],
            [
             0.6,
             "#e6f5d0"
            ],
            [
             0.7,
             "#b8e186"
            ],
            [
             0.8,
             "#7fbc41"
            ],
            [
             0.9,
             "#4d9221"
            ],
            [
             1,
             "#276419"
            ]
           ],
           "sequential": [
            [
             0,
             "#0d0887"
            ],
            [
             0.1111111111111111,
             "#46039f"
            ],
            [
             0.2222222222222222,
             "#7201a8"
            ],
            [
             0.3333333333333333,
             "#9c179e"
            ],
            [
             0.4444444444444444,
             "#bd3786"
            ],
            [
             0.5555555555555556,
             "#d8576b"
            ],
            [
             0.6666666666666666,
             "#ed7953"
            ],
            [
             0.7777777777777778,
             "#fb9f3a"
            ],
            [
             0.8888888888888888,
             "#fdca26"
            ],
            [
             1,
             "#f0f921"
            ]
           ],
           "sequentialminus": [
            [
             0,
             "#0d0887"
            ],
            [
             0.1111111111111111,
             "#46039f"
            ],
            [
             0.2222222222222222,
             "#7201a8"
            ],
            [
             0.3333333333333333,
             "#9c179e"
            ],
            [
             0.4444444444444444,
             "#bd3786"
            ],
            [
             0.5555555555555556,
             "#d8576b"
            ],
            [
             0.6666666666666666,
             "#ed7953"
            ],
            [
             0.7777777777777778,
             "#fb9f3a"
            ],
            [
             0.8888888888888888,
             "#fdca26"
            ],
            [
             1,
             "#f0f921"
            ]
           ]
          },
          "colorway": [
           "#636efa",
           "#EF553B",
           "#00cc96",
           "#ab63fa",
           "#FFA15A",
           "#19d3f3",
           "#FF6692",
           "#B6E880",
           "#FF97FF",
           "#FECB52"
          ],
          "font": {
           "color": "#2a3f5f"
          },
          "geo": {
           "bgcolor": "white",
           "lakecolor": "white",
           "landcolor": "#E5ECF6",
           "showlakes": true,
           "showland": true,
           "subunitcolor": "white"
          },
          "hoverlabel": {
           "align": "left"
          },
          "hovermode": "closest",
          "mapbox": {
           "style": "light"
          },
          "paper_bgcolor": "white",
          "plot_bgcolor": "#E5ECF6",
          "polar": {
           "angularaxis": {
            "gridcolor": "white",
            "linecolor": "white",
            "ticks": ""
           },
           "bgcolor": "#E5ECF6",
           "radialaxis": {
            "gridcolor": "white",
            "linecolor": "white",
            "ticks": ""
           }
          },
          "scene": {
           "xaxis": {
            "backgroundcolor": "#E5ECF6",
            "gridcolor": "white",
            "gridwidth": 2,
            "linecolor": "white",
            "showbackground": true,
            "ticks": "",
            "zerolinecolor": "white"
           },
           "yaxis": {
            "backgroundcolor": "#E5ECF6",
            "gridcolor": "white",
            "gridwidth": 2,
            "linecolor": "white",
            "showbackground": true,
            "ticks": "",
            "zerolinecolor": "white"
           },
           "zaxis": {
            "backgroundcolor": "#E5ECF6",
            "gridcolor": "white",
            "gridwidth": 2,
            "linecolor": "white",
            "showbackground": true,
            "ticks": "",
            "zerolinecolor": "white"
           }
          },
          "shapedefaults": {
           "line": {
            "color": "#2a3f5f"
           }
          },
          "ternary": {
           "aaxis": {
            "gridcolor": "white",
            "linecolor": "white",
            "ticks": ""
           },
           "baxis": {
            "gridcolor": "white",
            "linecolor": "white",
            "ticks": ""
           },
           "bgcolor": "#E5ECF6",
           "caxis": {
            "gridcolor": "white",
            "linecolor": "white",
            "ticks": ""
           }
          },
          "title": {
           "x": 0.05
          },
          "xaxis": {
           "automargin": true,
           "gridcolor": "white",
           "linecolor": "white",
           "ticks": "",
           "title": {
            "standoff": 15
           },
           "zerolinecolor": "white",
           "zerolinewidth": 2
          },
          "yaxis": {
           "automargin": true,
           "gridcolor": "white",
           "linecolor": "white",
           "ticks": "",
           "title": {
            "standoff": 15
           },
           "zerolinecolor": "white",
           "zerolinewidth": 2
          }
         }
        },
        "title": {
         "text": "Cluster para -7.5 (kcal/mol) com o Luteoin na PLPro de SARS-CoV-2"
        }
       }
      },
      "text/html": [
       "<div>                            <div id=\"629b82a2-5bc2-40b3-85d6-b809a74320da\" class=\"plotly-graph-div\" style=\"height:525px; width:100%;\"></div>            <script type=\"text/javascript\">                require([\"plotly\"], function(Plotly) {                    window.PLOTLYENV=window.PLOTLYENV || {};                                    if (document.getElementById(\"629b82a2-5bc2-40b3-85d6-b809a74320da\")) {                    Plotly.newPlot(                        \"629b82a2-5bc2-40b3-85d6-b809a74320da\",                        [{\"hovertemplate\": \"x=%{x}<br>y=%{y}<br>z=%{z}<br>size=%{marker.size}<br>Cluster=%{marker.color}<extra></extra>\", \"legendgroup\": \"\", \"marker\": {\"color\": [0, 0, 0, 0, 0, 0, 0, 0, 0, 0, 0, 0, 0, 0, 0, 0, 0, 0, 0, 0, 1, 1, 1, 1, 1, 1, 1, 1, 1, 1, 1, 1, 1, 2, 2, 2, 2, 1, 1, 1, 1, 1, 1, 1, 2, 2, 2, 3, 3, 3, 3, 3, 3, 3, 3, 3, 0, 0, 0, 0, 0, 0, 0, 0, 0, 3, 3, 3, 3, 3, 3, 3, 3, 4, 4, 4, 4, 1, 1, 1, 1, 1, 1, 1, 1, 1, 1, 1, 1, 1, 1, 1, 1, 1, 1, 1, 1, 1, 1, 1, 1, 1, 2, 2, 2, 2, 2, 1, 1, 1, 1, 1, 1, 1, 1, 1, 1, 1, 1, 1, 1, 1, 1, 1, 1, 2, 2, 2, 2, 3, 1, 3, 3, 3, 3, 3, 3, 3, 3, 3, 3, 3, 3, 3, 3, 3, 3, 3, 3, 3, 3, 3, 3, 4, -1, -1, 4, 4, 4, 4, 4, 4, 4, 4, 4, 4, 4, 4, 4, 4, 4, 4, 4, 4, 4, 4, 4, 4, 4, 4, 4, 4, 1, 1, 1, 1, 1, 1, 1, 1, 1, 1, 1, 1, 1, 1, 1, 1, 1, 1, 1, 4, 4, 4, 4, 4, 4, 4, 4, 4, 4, 4, 4, 4, 4, 4, 4, 4, 4], \"coloraxis\": \"coloraxis\", \"size\": [4.778120284189924e+20, 1.1806700877434216e+20, 8.831639157643197e+19, 8.831639157643197e+19, 6.5812111726441734e+19, 6.5812111726441734e+19, 4.88515588195456e+19, 4.88515588195456e+19, 6.5812111726441734e+19, 6.5812111726441734e+19, 4.88515588195456e+19, 4.778120284189924e+20, 3.6375726732513555e+20, 3.6375726732513555e+20, 2.7600244210127244e+20, 2.0870108520532453e+20, 1.5725684345954297e+20, 1.5725684345954297e+20, 1.1806700877434216e+20, 8.831639157643197e+19, 1.5725684345954297e+20, 1.1806700877434216e+20, 6.255815566358399e+20, 3.6375726732513555e+20, 2.7600244210127244e+20, 2.0870108520532453e+20, 2.0870108520532453e+20, 1.1806700877434216e+20, 8.831639157643197e+19, 8.831639157643197e+19, 8.831639157643197e+19, 2.0870108520532453e+20, 2.0870108520532453e+20, 1.37779049364017e+21, 2.0870108520532453e+20, 8.831639157643197e+19, 4.88515588195456e+19, 2.0870108520532453e+20, 2.0870108520532453e+20, 8.831639157643197e+19, 6.5812111726441734e+19, 4.88515588195456e+19, 8.831639157643197e+19, 4.88515588195456e+19, 2.7600244210127244e+20, 8.831639157643197e+19, 4.88515588195456e+19, 4.778120284189924e+20, 2.0870108520532453e+20, 2.0870108520532453e+20, 1.5725684345954297e+20, 1.5725684345954297e+20, 1.5725684345954297e+20, 1.1806700877434216e+20, 1.1806700877434216e+20, 6.5812111726441734e+19, 4.778120284189924e+20, 4.778120284189924e+20, 2.7600244210127244e+20, 2.0870108520532453e+20, 2.0870108520532453e+20, 1.5725684345954297e+20, 1.1806700877434216e+20, 8.831639157643197e+19, 6.5812111726441734e+19, 4.778120284189924e+20, 2.7600244210127244e+20, 2.7600244210127244e+20, 2.0870108520532453e+20, 1.5725684345954297e+20, 1.1806700877434216e+20, 1.1806700877434216e+20, 6.5812111726441734e+19, 6.5812111726441734e+19, 1.0622216600262244e+21, 1.5725684345954297e+20, 6.5812111726441734e+19, 6.255815566358399e+20, 3.6375726732513555e+20, 1.1806700877434216e+20, 1.1806700877434216e+20, 1.1806700877434216e+20, 8.831639157643197e+19, 8.831639157643197e+19, 4.88515588195456e+19, 4.88515588195456e+19, 6.255815566358399e+20, 6.255815566358399e+20, 3.6375726732513555e+20, 3.6375726732513555e+20, 1.5725684345954297e+20, 1.5725684345954297e+20, 1.1806700877434216e+20, 8.831639157643197e+19, 8.831639157643197e+19, 6.255815566358399e+20, 2.0870108520532453e+20, 1.1806700877434216e+20, 6.5812111726441734e+19, 4.88515588195456e+19, 1.5725684345954297e+20, 4.88515588195456e+19, 1.37779049364017e+21, 2.7600244210127244e+20, 1.1806700877434216e+20, 1.1806700877434216e+20, 1.1806700877434216e+20, 2.0870108520532453e+20, 1.1806700877434216e+20, 1.1806700877434216e+20, 6.5812111726441734e+19, 4.88515588195456e+19, 1.0622216600262244e+21, 6.255815566358399e+20, 3.6375726732513555e+20, 2.0870108520532453e+20, 2.0870108520532453e+20, 1.5725684345954297e+20, 1.5725684345954297e+20, 1.1806700877434216e+20, 1.1806700877434216e+20, 6.255815566358399e+20, 8.831639157643197e+19, 8.831639157643197e+19, 6.5812111726441734e+19, 1.7818047952120098e+21, 2.0870108520532453e+20, 1.5725684345954297e+20, 1.1806700877434216e+20, 3.6375726732513555e+20, 4.88515588195456e+19, 4.88515588195456e+19, 4.88515588195456e+19, 4.88515588195456e+19, 4.778120284189924e+20, 3.6375726732513555e+20, 2.7600244210127244e+20, 2.0870108520532453e+20, 1.5725684345954297e+20, 1.5725684345954297e+20, 1.5725684345954297e+20, 1.1806700877434216e+20, 1.1806700877434216e+20, 3.6375726732513555e+20, 4.778120284189924e+20, 3.6375726732513555e+20, 2.0870108520532453e+20, 2.0870108520532453e+20, 2.0870108520532453e+20, 1.1806700877434216e+20, 1.1806700877434216e+20, 8.831639157643197e+19, 8.831639157643197e+19, 2.0870108520532453e+20, 4.88515588195456e+19, 6.5812111726441734e+19, 2.2976038458648554e+21, 1.7818047952120098e+21, 4.778120284189924e+20, 4.778120284189924e+20, 4.778120284189924e+20, 4.778120284189924e+20, 4.778120284189924e+20, 4.778120284189924e+20, 3.6375726732513555e+20, 2.2976038458648554e+21, 6.255815566358399e+20, 4.778120284189924e+20, 3.6375726732513555e+20, 3.6375726732513555e+20, 3.6375726732513555e+20, 3.6375726732513555e+20, 2.0870108520532453e+20, 2.0870108520532453e+20, 6.255815566358399e+20, 4.778120284189924e+20, 2.7600244210127244e+20, 2.7600244210127244e+20, 2.0870108520532453e+20, 8.831639157643197e+19, 6.5812111726441734e+19, 4.88515588195456e+19, 1.37779049364017e+21, 6.255815566358399e+20, 4.778120284189924e+20, 3.6375726732513555e+20, 1.5725684345954297e+20, 1.5725684345954297e+20, 6.5812111726441734e+19, 6.5812111726441734e+19, 6.5812111726441734e+19, 1.37779049364017e+21, 1.37779049364017e+21, 4.778120284189924e+20, 2.0870108520532453e+20, 2.0870108520532453e+20, 1.5725684345954297e+20, 1.5725684345954297e+20, 1.5725684345954297e+20, 1.1806700877434216e+20, 8.831639157643197e+19, 8.164429224092885e+20, 3.6375726732513555e+20, 2.7600244210127244e+20, 2.0870108520532453e+20, 1.1806700877434216e+20, 8.831639157643197e+19, 8.831639157643197e+19, 8.831639157643197e+19, 6.5812111726441734e+19, 8.164429224092885e+20, 6.255815566358399e+20, 3.6375726732513555e+20, 2.0870108520532453e+20, 1.5725684345954297e+20, 8.831639157643197e+19, 6.5812111726441734e+19, 6.5812111726441734e+19, 6.255815566358399e+20], \"sizemode\": \"area\", \"sizeref\": 5.744009614662139e+18, \"symbol\": \"circle\"}, \"mode\": \"markers\", \"name\": \"\", \"scene\": \"scene\", \"showlegend\": false, \"type\": \"scatter3d\", \"x\": [25.38624171331588, 24.67833194969961, 25.443587590967315, 23.299579686765025, 23.747247069329074, 21.633431203783072, 22.790558944571007, 24.558335293088824, 23.31029000723864, 21.622271516663172, 22.84970900202023, 25.386473618439375, 34.04838042685156, 32.36382507878674, 33.279653375309486, 33.33839962861692, 33.176432932148366, 33.71236475641203, 24.664745000034404, 25.375889776065712, 44.59360688434728, 44.43714107089124, 44.26566521785261, 44.785007407383276, 44.35332715278887, 41.36295920978257, 43.5097261958691, 44.713327885705546, 43.722250181328086, 44.31566987498774, 45.50135793456547, 41.10100625513975, 41.06523599555182, 45.700641590342315, 44.646537944552534, 45.38549470536497, 43.968440269643814, 43.77365273400739, 45.23285404529094, 45.602743319830154, 44.18703808813034, 44.76221887629823, 45.59533889900995, 44.31333974056053, 44.59800207780433, 45.198218748834464, 43.95149707503235, 46.30150873434632, 45.672405455014896, 38.61540441611274, 45.636512906974275, 45.65385692119228, 45.83943174115875, 45.88753666955272, 44.729109219070764, 46.833343088657216, 33.880429501852035, 34.15329053519938, 33.31074734797502, 33.29005892193895, 33.274555762684194, 33.74919062569141, 33.57797028355982, 33.89858122719367, 33.12310334451176, 46.2873644598415, 45.839307509969885, 47.10641982872781, 46.82800608892989, 45.94316944244377, 44.73480638796279, 45.27635705245822, 45.88812627785148, 57.61547573969727, 57.138952901774324, 56.678948449595154, 57.42609201291006, 44.29947486700497, 44.75857038480662, 44.85878281332098, 44.41478415820862, 42.61108253242994, 45.67637519359466, 42.68535620149272, 43.7495676657002, 43.344040585261496, 53.796003439711285, 56.50688384393076, 49.17954292939992, 57.282461619101326, 55.18082923439539, 55.33144602325707, 55.12147972438857, 56.4680233649784, 54.11614798905986, 53.8635816682473, 53.68643723224008, 55.33236420672451, 54.50232899449552, 54.48153383710492, 42.20203410343903, 43.816443137940794, 45.803475211736526, 44.61413400823953, 45.269902173003835, 45.703733690159474, 45.19870417867524, 45.311017678356045, 44.19581032159618, 45.839876057777296, 44.188720651919255, 44.710785568276584, 55.78854149760517, 53.7788880524079, 49.18841245248627, 56.47075035134013, 56.32467324010373, 55.18002805325525, 56.251863193351326, 55.1165108726235, 45.860037521423514, 53.924943404274885, 54.24460944665877, 54.59674898943319, 52.60896693546316, 45.78648642528941, 44.58003467956079, 45.26163081313558, 45.195716361242475, 47.57520696857477, 45.93694804439072, 45.79699976390235, 46.56350640813249, 46.96407482376865, 46.30468270356454, 47.58165601221624, 45.755481640690505, 46.79852622005824, 45.72429897677735, 47.213252953303, 45.8239690614285, 46.45254403348242, 47.238331024138816, 47.5820763301587, 46.30501587539548, 47.56427789455923, 45.76914475430454, 46.789134627814846, 45.70994780829305, 46.546994207640665, 45.95659631209651, 45.51331787726472, 47.95406157586503, 58.016322006439104, 62.22193313330214, 60.163234419273984, 60.48576860111047, 57.437527027570205, 59.77982771569352, 59.635157592296274, 59.448267833249865, 59.05280321078343, 62.956488310449615, 61.705549271446785, 62.01954210016118, 60.46478401372554, 61.726958467450956, 62.989303289180896, 61.867055932696246, 59.94912973458205, 65.66868366787143, 59.7210823057472, 59.72291432442934, 62.98740213335247, 66.30863032392094, 59.58483604863758, 59.34380962742558, 58.78893403242868, 61.190383722079744, 61.912675457683676, 61.95026310151946, 64.02451454843242, 55.785433862416625, 56.50524574146074, 57.244618076173374, 53.88664428772195, 55.17001700120476, 55.35947507196092, 54.76127712579335, 55.13200419435474, 54.62832850998834, 55.82540142216257, 55.823329688666135, 53.96230691682881, 56.460939571671055, 56.32165750448387, 56.08333977170225, 56.24658828043045, 55.77232689496442, 55.10435086249882, 56.78485442876859, 66.42648720165965, 65.77163369374442, 65.99075685488938, 64.59846884325542, 65.26322120251206, 65.31609061225703, 65.564947711971, 66.71792089026204, 65.71125250754191, 66.39854562207212, 66.4092523677663, 65.63811988293611, 64.67596186370865, 65.79090941888472, 65.31396368839597, 67.87472423611364, 65.29513950402834, 66.31075459385589], \"y\": [63.06467366413805, 64.07819312282257, 63.73453310418826, 65.11658687506997, 66.07143027061791, 68.5103125599976, 65.1797312288775, 62.942301399313216, 65.1290516543313, 68.53656084675055, 66.55441937536236, 63.067847956361035, 67.35701451348855, 67.10369952154012, 62.99553672242121, 67.31473842659737, 66.94856553502737, 65.36165554472838, 64.00859980467627, 63.70713763588744, 30.16622032040482, 30.122387354435112, 31.041428144652556, 31.74876913848614, 30.97046515042717, 32.80565939905901, 32.37874509635646, 32.49005454435505, 33.0243256029453, 30.818373757092445, 40.08589247815282, 32.803488498386244, 37.1550517770876, 47.61245225667004, 47.07320449317038, 47.26958581444099, 46.7287358907201, 39.3099134253028, 40.305326964852235, 44.80416056922713, 41.04431875937193, 40.192628573828856, 44.794770753510065, 39.74072845219512, 47.01127703417877, 46.88512717227055, 46.7029677958436, 58.250131747206034, 58.9583044461319, 50.43595076349715, 57.61837520119903, 59.135893512347515, 56.91622624312484, 58.050718024427425, 57.60417784998311, 57.89006907486289, 67.85168298311577, 67.32610182110244, 66.42990369641318, 67.01728190097731, 67.19214526995344, 65.46898952407129, 62.62517574574454, 67.42552576198533, 63.152861124961944, 58.25021743979601, 59.34712676235864, 58.33589084140213, 57.79058595892409, 58.22491813530642, 57.61881611395552, 60.15638505755242, 58.56588486581361, 11.753135553375639, 23.50821515232826, 23.969973911207724, 23.025622894810883, 31.039762447000243, 31.80155506851359, 32.67937246507331, 30.785691079962156, 32.83255314750419, 40.20734500495915, 33.959232782523266, 36.45244553404244, 34.125782560204016, 40.40100209011617, 36.78846890372829, 39.14888451637457, 36.997646500594406, 38.78670097976912, 39.57385601735826, 38.913627906092515, 39.39383179670688, 39.27272587286431, 40.39737762373491, 38.92161989144577, 39.578872237485285, 39.204794236537275, 39.39506635575646, 33.010990331583244, 35.54210112693183, 47.742406664834384, 47.04581435444851, 47.21873952597238, 47.39700289002375, 46.78993520639898, 40.284600101246795, 40.34222350229164, 44.09016714737166, 41.05553702840668, 40.180336956273784, 40.65175078768628, 40.38435019005501, 39.144667054851794, 40.055809094757365, 39.70216317028472, 38.78623313196232, 39.595725038918104, 38.936063959654824, 44.11527374365805, 40.38694173167501, 39.210666693100926, 39.15158992659608, 39.364430230061245, 47.64440488830807, 47.008004382291375, 47.31602129188154, 46.75154280664363, 59.81482517981626, 44.57611947773169, 58.53642617077466, 59.11772503421064, 58.927837169739384, 58.253725872864315, 59.85052460974178, 59.23802468813925, 57.82424367307137, 58.532507616141416, 57.708992701250644, 56.90832847884665, 58.82800417262796, 57.039128124265595, 59.860047486410814, 58.249813018975814, 59.836138185574946, 59.21021778452757, 57.839245288095285, 58.44123383373727, 58.84229837422133, 57.8223038435759, 58.00508885275001, 58.5444976171155, 11.793330426290273, 13.374400183011906, 22.30089494884974, 23.419552291831202, 23.533291682735435, 24.043420274488895, 24.790451584226215, 23.035306562682305, 24.152773747460234, 23.617232433084236, 23.574918593379348, 22.791096788094016, 23.426755955762832, 23.76076755750083, 23.633597560662075, 22.701260835778502, 22.575272198521926, 25.723126784085427, 23.874126596148788, 23.312738421889875, 24.781993718426012, 26.58321554051339, 24.812342334013742, 25.426170215917114, 25.164974805626805, 24.442744638283536, 24.549549568017312, 23.927970191945235, 26.90687012564235, 40.58757931089175, 36.78419399080741, 36.975690315903755, 40.30114717213294, 38.80619190069124, 39.584117940199945, 38.39722304421872, 39.12323439754719, 39.177412727330015, 40.61985616184134, 40.6340804064646, 40.37414652612338, 40.0473594051063, 39.66458219620803, 39.715074081437045, 39.60067960858484, 39.2663807545638, 38.909019659838314, 37.377158120257, 24.36036854556233, 24.88788768124208, 25.879224104847648, 24.950632994866325, 25.148387615156462, 24.769323901014246, 25.60006499384951, 26.8597851225155, 23.875067281317257, 24.364657417576748, 26.604203842453337, 25.75344841935871, 24.941314589640893, 24.740750136969243, 24.79185459968591, 29.476793380864287, 23.933623401044844, 26.614762136307302], \"z\": [-10.804331045865597, -10.397694109761517, -9.895480763290726, -0.312366436616286, -2.7688188547887096, 0.3059344999165331, -7.44516546245993, -10.030612375428609, -0.31467023673860783, 0.33311040716346396, -1.144722442567975, -10.807707871503483, -10.331365171031397, -9.95680708684085, -10.723625457122385, -10.300327825232685, -10.082459589458022, -10.781115204074206, -10.333173655628379, -9.86617454063252, 13.967206527521133, 14.396938253217646, 14.609974822646114, 14.671947027215326, 14.035580974076694, 13.15688950592942, 14.314024251793095, 13.969735331617645, 13.936769203666469, 13.957071401076709, 15.564029733459499, 12.98804596300147, 11.839786038661352, -8.010812922653754, -9.213789574694678, -10.656294712534796, -9.994520528728417, 14.60964722119926, 15.340530850759123, 17.989764004448197, 15.485914770190426, 15.987932195429487, 17.992128486016465, 25.429211167636954, -9.250282433645513, -9.333666090544904, -10.00295399825244, 5.640398515119484, 6.95796605806337, 3.4316991721010788, 6.245087425662732, 6.847631733988903, 4.936020445623485, 6.082075609553844, 6.351688054870257, 5.483053112560288, -10.296788846485459, -10.310901522286793, -10.163409227145873, -10.037689739781987, -10.343882011639039, -10.75085408874448, -10.932171498521312, -10.147518009870476, -10.68108347971751, 5.630950601994736, 6.875555268762071, 5.347736300631996, 5.775817471154987, 6.109733000696345, 6.381310260218014, 8.362409039209235, 5.742929768186129, 13.392147552713695, 16.47568487769091, 16.08066436217962, 16.849759282132737, 14.628833293681964, 14.698403176962085, 13.939332272704394, 13.946175374578726, 13.531192175534999, 15.506044569952808, 13.60108857790626, 14.555180848640758, 14.421225707559728, 28.960787593212416, 24.449184724698178, 27.245970483808303, 25.652244135851763, 25.923900225560185, 27.826068669658447, 26.476776767844658, 26.782750862281556, 27.467382989163053, 28.929716182720774, 27.58578556827659, 27.88813862662856, 27.520581733427633, 27.181912321220302, 13.35599287216796, 13.937280290660857, -8.11613924149641, -9.197484482553216, -9.793028590630907, -8.248249578772068, -9.246643178931977, 15.233801726120191, 14.984730421365539, 17.756881264599947, 15.501767911647327, 15.999613305696872, 28.50691837611156, 28.926526962389865, 27.24349222996058, 26.741393416930745, 26.174897807731767, 25.909901679081717, 26.856905128207917, 26.5089333864191, 17.75109300365119, 28.9025857058071, 27.259496115432935, 27.46178329782816, 28.431442470204452, -8.122137303467705, -9.223236841809856, -9.72634683435395, -9.207602109163307, 7.958579525262633, 17.857006385500423, 8.09277192748036, 7.957065116605813, 7.743890588285139, 5.646891535572714, 7.966575164698042, 6.897944922976758, 5.812686025226964, 6.4512288148512695, 5.437708500493742, 4.94526776336206, 7.175546364403717, 4.867797628087512, 7.97882199792944, 5.652152327897657, 7.928790365187329, 6.91039025206323, 5.841874115041125, 6.36929482587616, 7.2260389003497645, 6.105202856419667, 5.621659722063798, 5.14103043233756, 13.460758221503792, 34.69622073502419, -3.0185502140268814, 18.576984269087614, 16.284491641526973, 18.32201121355288, 17.472050502087768, 17.607085675570666, 17.999931221707662, 17.776851618047573, 17.583406934970668, 16.808546617520694, 18.55564948223275, 17.094757544352504, 17.764466001392687, 16.846064164610777, 17.905793132454782, 17.40927620494002, 17.68060332658717, 18.024976242129025, 17.903285393557073, 18.40680674681676, 17.480628800511596, 16.95452499321944, 17.52515701146703, 17.780442518365472, 17.584891902031057, 17.424350483728634, 18.579442561819032, 28.424746344922042, 24.438966617165818, 25.681171110336194, 28.811027643343337, 25.945987048666908, 27.849054872067295, 25.887225288232894, 25.668359474994112, 27.4205059623714, 28.45755599407439, 28.470034893931675, 28.8608176109306, 26.75095865538757, 26.154144156455992, 27.569204594199896, 26.87158785349923, 26.050593033887623, 26.478879649576026, 25.06529346396922, 16.284162254138867, 16.908564614174047, 17.460773585957842, 18.488428882276708, 17.81282774212776, 17.82787273611487, 17.77023888086809, 18.368796960351165, 16.90601824977033, 16.2931953404025, 18.38300944173403, 17.41608666160433, 18.48858921540617, 17.42713941241374, 17.80968884536291, 21.992905005451618, 17.116505186001152, 18.390224895340296]}],                        {\"coloraxis\": {\"colorbar\": {\"title\": {\"text\": \"Cluster\"}}, \"colorscale\": [[0.0, \"#0d0887\"], [0.1111111111111111, \"#46039f\"], [0.2222222222222222, \"#7201a8\"], [0.3333333333333333, \"#9c179e\"], [0.4444444444444444, \"#bd3786\"], [0.5555555555555556, \"#d8576b\"], [0.6666666666666666, \"#ed7953\"], [0.7777777777777778, \"#fb9f3a\"], [0.8888888888888888, \"#fdca26\"], [1.0, \"#f0f921\"]]}, \"legend\": {\"itemsizing\": \"constant\", \"tracegroupgap\": 0}, \"scene\": {\"domain\": {\"x\": [0.0, 1.0], \"y\": [0.0, 1.0]}, \"xaxis\": {\"title\": {\"text\": \"x\"}}, \"yaxis\": {\"title\": {\"text\": \"y\"}}, \"zaxis\": {\"title\": {\"text\": \"z\"}}}, \"template\": {\"data\": {\"bar\": [{\"error_x\": {\"color\": \"#2a3f5f\"}, \"error_y\": {\"color\": \"#2a3f5f\"}, \"marker\": {\"line\": {\"color\": \"#E5ECF6\", \"width\": 0.5}}, \"type\": \"bar\"}], \"barpolar\": [{\"marker\": {\"line\": {\"color\": \"#E5ECF6\", \"width\": 0.5}}, \"type\": \"barpolar\"}], \"carpet\": [{\"aaxis\": {\"endlinecolor\": \"#2a3f5f\", \"gridcolor\": \"white\", \"linecolor\": \"white\", \"minorgridcolor\": \"white\", \"startlinecolor\": \"#2a3f5f\"}, \"baxis\": {\"endlinecolor\": \"#2a3f5f\", \"gridcolor\": \"white\", \"linecolor\": \"white\", \"minorgridcolor\": \"white\", \"startlinecolor\": \"#2a3f5f\"}, \"type\": \"carpet\"}], \"choropleth\": [{\"colorbar\": {\"outlinewidth\": 0, \"ticks\": \"\"}, \"type\": \"choropleth\"}], \"contour\": [{\"colorbar\": {\"outlinewidth\": 0, \"ticks\": \"\"}, \"colorscale\": [[0.0, \"#0d0887\"], [0.1111111111111111, \"#46039f\"], [0.2222222222222222, \"#7201a8\"], [0.3333333333333333, \"#9c179e\"], [0.4444444444444444, \"#bd3786\"], [0.5555555555555556, \"#d8576b\"], [0.6666666666666666, \"#ed7953\"], [0.7777777777777778, \"#fb9f3a\"], [0.8888888888888888, \"#fdca26\"], [1.0, \"#f0f921\"]], \"type\": \"contour\"}], \"contourcarpet\": [{\"colorbar\": {\"outlinewidth\": 0, \"ticks\": \"\"}, \"type\": \"contourcarpet\"}], \"heatmap\": [{\"colorbar\": {\"outlinewidth\": 0, \"ticks\": \"\"}, \"colorscale\": [[0.0, \"#0d0887\"], [0.1111111111111111, \"#46039f\"], [0.2222222222222222, \"#7201a8\"], [0.3333333333333333, \"#9c179e\"], [0.4444444444444444, \"#bd3786\"], [0.5555555555555556, \"#d8576b\"], [0.6666666666666666, \"#ed7953\"], [0.7777777777777778, \"#fb9f3a\"], [0.8888888888888888, \"#fdca26\"], [1.0, \"#f0f921\"]], \"type\": \"heatmap\"}], \"heatmapgl\": [{\"colorbar\": {\"outlinewidth\": 0, \"ticks\": \"\"}, \"colorscale\": [[0.0, \"#0d0887\"], [0.1111111111111111, \"#46039f\"], [0.2222222222222222, \"#7201a8\"], [0.3333333333333333, \"#9c179e\"], [0.4444444444444444, \"#bd3786\"], [0.5555555555555556, \"#d8576b\"], [0.6666666666666666, \"#ed7953\"], [0.7777777777777778, \"#fb9f3a\"], [0.8888888888888888, \"#fdca26\"], [1.0, \"#f0f921\"]], \"type\": \"heatmapgl\"}], \"histogram\": [{\"marker\": {\"colorbar\": {\"outlinewidth\": 0, \"ticks\": \"\"}}, \"type\": \"histogram\"}], \"histogram2d\": [{\"colorbar\": {\"outlinewidth\": 0, \"ticks\": \"\"}, \"colorscale\": [[0.0, \"#0d0887\"], [0.1111111111111111, \"#46039f\"], [0.2222222222222222, \"#7201a8\"], [0.3333333333333333, \"#9c179e\"], [0.4444444444444444, \"#bd3786\"], [0.5555555555555556, \"#d8576b\"], [0.6666666666666666, \"#ed7953\"], [0.7777777777777778, \"#fb9f3a\"], [0.8888888888888888, \"#fdca26\"], [1.0, \"#f0f921\"]], \"type\": \"histogram2d\"}], \"histogram2dcontour\": [{\"colorbar\": {\"outlinewidth\": 0, \"ticks\": \"\"}, \"colorscale\": [[0.0, \"#0d0887\"], [0.1111111111111111, \"#46039f\"], [0.2222222222222222, \"#7201a8\"], [0.3333333333333333, \"#9c179e\"], [0.4444444444444444, \"#bd3786\"], [0.5555555555555556, \"#d8576b\"], [0.6666666666666666, \"#ed7953\"], [0.7777777777777778, \"#fb9f3a\"], [0.8888888888888888, \"#fdca26\"], [1.0, \"#f0f921\"]], \"type\": \"histogram2dcontour\"}], \"mesh3d\": [{\"colorbar\": {\"outlinewidth\": 0, \"ticks\": \"\"}, \"type\": \"mesh3d\"}], \"parcoords\": [{\"line\": {\"colorbar\": {\"outlinewidth\": 0, \"ticks\": \"\"}}, \"type\": \"parcoords\"}], \"pie\": [{\"automargin\": true, \"type\": \"pie\"}], \"scatter\": [{\"marker\": {\"colorbar\": {\"outlinewidth\": 0, \"ticks\": \"\"}}, \"type\": \"scatter\"}], \"scatter3d\": [{\"line\": {\"colorbar\": {\"outlinewidth\": 0, \"ticks\": \"\"}}, \"marker\": {\"colorbar\": {\"outlinewidth\": 0, \"ticks\": \"\"}}, \"type\": \"scatter3d\"}], \"scattercarpet\": [{\"marker\": {\"colorbar\": {\"outlinewidth\": 0, \"ticks\": \"\"}}, \"type\": \"scattercarpet\"}], \"scattergeo\": [{\"marker\": {\"colorbar\": {\"outlinewidth\": 0, \"ticks\": \"\"}}, \"type\": \"scattergeo\"}], \"scattergl\": [{\"marker\": {\"colorbar\": {\"outlinewidth\": 0, \"ticks\": \"\"}}, \"type\": \"scattergl\"}], \"scattermapbox\": [{\"marker\": {\"colorbar\": {\"outlinewidth\": 0, \"ticks\": \"\"}}, \"type\": \"scattermapbox\"}], \"scatterpolar\": [{\"marker\": {\"colorbar\": {\"outlinewidth\": 0, \"ticks\": \"\"}}, \"type\": \"scatterpolar\"}], \"scatterpolargl\": [{\"marker\": {\"colorbar\": {\"outlinewidth\": 0, \"ticks\": \"\"}}, \"type\": \"scatterpolargl\"}], \"scatterternary\": [{\"marker\": {\"colorbar\": {\"outlinewidth\": 0, \"ticks\": \"\"}}, \"type\": \"scatterternary\"}], \"surface\": [{\"colorbar\": {\"outlinewidth\": 0, \"ticks\": \"\"}, \"colorscale\": [[0.0, \"#0d0887\"], [0.1111111111111111, \"#46039f\"], [0.2222222222222222, \"#7201a8\"], [0.3333333333333333, \"#9c179e\"], [0.4444444444444444, \"#bd3786\"], [0.5555555555555556, \"#d8576b\"], [0.6666666666666666, \"#ed7953\"], [0.7777777777777778, \"#fb9f3a\"], [0.8888888888888888, \"#fdca26\"], [1.0, \"#f0f921\"]], \"type\": \"surface\"}], \"table\": [{\"cells\": {\"fill\": {\"color\": \"#EBF0F8\"}, \"line\": {\"color\": \"white\"}}, \"header\": {\"fill\": {\"color\": \"#C8D4E3\"}, \"line\": {\"color\": \"white\"}}, \"type\": \"table\"}]}, \"layout\": {\"annotationdefaults\": {\"arrowcolor\": \"#2a3f5f\", \"arrowhead\": 0, \"arrowwidth\": 1}, \"coloraxis\": {\"colorbar\": {\"outlinewidth\": 0, \"ticks\": \"\"}}, \"colorscale\": {\"diverging\": [[0, \"#8e0152\"], [0.1, \"#c51b7d\"], [0.2, \"#de77ae\"], [0.3, \"#f1b6da\"], [0.4, \"#fde0ef\"], [0.5, \"#f7f7f7\"], [0.6, \"#e6f5d0\"], [0.7, \"#b8e186\"], [0.8, \"#7fbc41\"], [0.9, \"#4d9221\"], [1, \"#276419\"]], \"sequential\": [[0.0, \"#0d0887\"], [0.1111111111111111, \"#46039f\"], [0.2222222222222222, \"#7201a8\"], [0.3333333333333333, \"#9c179e\"], [0.4444444444444444, \"#bd3786\"], [0.5555555555555556, \"#d8576b\"], [0.6666666666666666, \"#ed7953\"], [0.7777777777777778, \"#fb9f3a\"], [0.8888888888888888, \"#fdca26\"], [1.0, \"#f0f921\"]], \"sequentialminus\": [[0.0, \"#0d0887\"], [0.1111111111111111, \"#46039f\"], [0.2222222222222222, \"#7201a8\"], [0.3333333333333333, \"#9c179e\"], [0.4444444444444444, \"#bd3786\"], [0.5555555555555556, \"#d8576b\"], [0.6666666666666666, \"#ed7953\"], [0.7777777777777778, \"#fb9f3a\"], [0.8888888888888888, \"#fdca26\"], [1.0, \"#f0f921\"]]}, \"colorway\": [\"#636efa\", \"#EF553B\", \"#00cc96\", \"#ab63fa\", \"#FFA15A\", \"#19d3f3\", \"#FF6692\", \"#B6E880\", \"#FF97FF\", \"#FECB52\"], \"font\": {\"color\": \"#2a3f5f\"}, \"geo\": {\"bgcolor\": \"white\", \"lakecolor\": \"white\", \"landcolor\": \"#E5ECF6\", \"showlakes\": true, \"showland\": true, \"subunitcolor\": \"white\"}, \"hoverlabel\": {\"align\": \"left\"}, \"hovermode\": \"closest\", \"mapbox\": {\"style\": \"light\"}, \"paper_bgcolor\": \"white\", \"plot_bgcolor\": \"#E5ECF6\", \"polar\": {\"angularaxis\": {\"gridcolor\": \"white\", \"linecolor\": \"white\", \"ticks\": \"\"}, \"bgcolor\": \"#E5ECF6\", \"radialaxis\": {\"gridcolor\": \"white\", \"linecolor\": \"white\", \"ticks\": \"\"}}, \"scene\": {\"xaxis\": {\"backgroundcolor\": \"#E5ECF6\", \"gridcolor\": \"white\", \"gridwidth\": 2, \"linecolor\": \"white\", \"showbackground\": true, \"ticks\": \"\", \"zerolinecolor\": \"white\"}, \"yaxis\": {\"backgroundcolor\": \"#E5ECF6\", \"gridcolor\": \"white\", \"gridwidth\": 2, \"linecolor\": \"white\", \"showbackground\": true, \"ticks\": \"\", \"zerolinecolor\": \"white\"}, \"zaxis\": {\"backgroundcolor\": \"#E5ECF6\", \"gridcolor\": \"white\", \"gridwidth\": 2, \"linecolor\": \"white\", \"showbackground\": true, \"ticks\": \"\", \"zerolinecolor\": \"white\"}}, \"shapedefaults\": {\"line\": {\"color\": \"#2a3f5f\"}}, \"ternary\": {\"aaxis\": {\"gridcolor\": \"white\", \"linecolor\": \"white\", \"ticks\": \"\"}, \"baxis\": {\"gridcolor\": \"white\", \"linecolor\": \"white\", \"ticks\": \"\"}, \"bgcolor\": \"#E5ECF6\", \"caxis\": {\"gridcolor\": \"white\", \"linecolor\": \"white\", \"ticks\": \"\"}}, \"title\": {\"x\": 0.05}, \"xaxis\": {\"automargin\": true, \"gridcolor\": \"white\", \"linecolor\": \"white\", \"ticks\": \"\", \"title\": {\"standoff\": 15}, \"zerolinecolor\": \"white\", \"zerolinewidth\": 2}, \"yaxis\": {\"automargin\": true, \"gridcolor\": \"white\", \"linecolor\": \"white\", \"ticks\": \"\", \"title\": {\"standoff\": 15}, \"zerolinecolor\": \"white\", \"zerolinewidth\": 2}}}, \"title\": {\"text\": \"Cluster para -7.5 (kcal/mol) com o Luteoin na PLPro de SARS-CoV-2\"}},                        {\"responsive\": true}                    ).then(function(){\n",
       "                            \n",
       "var gd = document.getElementById('629b82a2-5bc2-40b3-85d6-b809a74320da');\n",
       "var x = new MutationObserver(function (mutations, observer) {{\n",
       "        var display = window.getComputedStyle(gd).display;\n",
       "        if (!display || display === 'none') {{\n",
       "            console.log([gd, 'removed!']);\n",
       "            Plotly.purge(gd);\n",
       "            observer.disconnect();\n",
       "        }}\n",
       "}});\n",
       "\n",
       "// Listen for the removal of the full notebook cells\n",
       "var notebookContainer = gd.closest('#notebook-container');\n",
       "if (notebookContainer) {{\n",
       "    x.observe(notebookContainer, {childList: true});\n",
       "}}\n",
       "\n",
       "// Listen for the clearing of the current output cell\n",
       "var outputEl = gd.closest('.output');\n",
       "if (outputEl) {{\n",
       "    x.observe(outputEl, {childList: true});\n",
       "}}\n",
       "\n",
       "                        })                };                });            </script>        </div>"
      ]
     },
     "metadata": {},
     "output_type": "display_data"
    },
    {
     "name": "stdout",
     "output_type": "stream",
     "text": [
      "\n",
      "\n",
      "Para energia de -7.5 kcal/mol\n",
      "              mean  median       std  Ocupação %\n",
      "Cluster                                        \n",
      "-1      -7.550000   -7.55  0.070711    0.866173\n",
      " 0      -7.868966   -7.80  0.268732   13.090116\n",
      " 1      -7.926506   -7.90  0.310029   37.738771\n",
      " 2      -7.993750   -7.85  0.407380    7.336660\n",
      " 3      -7.927500   -7.90  0.225306   18.189640\n",
      " 4      -8.104082   -8.20  0.352940   22.778638\n"
     ]
    },
    {
     "data": {
      "image/png": "[encoded data removed]",
      "text/plain": [
       "<Figure size 432x288 with 1 Axes>"
      ]
     },
     "metadata": {
      "needs_background": "light"
     },
     "output_type": "display_data"
    },
    {
     "data": {
      "image/png": "[encoded data removed]",
      "text/plain": [
       "<Figure size 432x288 with 1 Axes>"
      ]
     },
     "metadata": {
      "needs_background": "light"
     },
     "output_type": "display_data"
    },
    {
     "data": {
      "image/png": "[encoded data removed]",
      "text/plain": [
       "<Figure size 432x288 with 1 Axes>"
      ]
     },
     "metadata": {
      "needs_background": "light"
     },
     "output_type": "display_data"
    },
    {
     "data": {
      "image/png": "[encoded data removed]",
      "text/plain": [
       "<Figure size 432x288 with 1 Axes>"
      ]
     },
     "metadata": {
      "needs_background": "light"
     },
     "output_type": "display_data"
    },
    {
     "data": {
      "application/vnd.plotly.v1+json": {
       "config": {
        "plotlyServerURL": "https://plotly.com"
       },
       "data": [
        {
         "hovertemplate": "x=%{x}<br>y=%{y}<br>z=%{z}<br>size=%{marker.size}<br>Cluster=%{marker.color}<extra></extra>",
         "legendgroup": "",
         "marker": {
          "color": [
           0,
           0,
           0,
           0,
           0,
           0,
           1,
           1,
           1,
           1,
           1,
           1,
           1,
           2,
           2,
           1,
           1,
           2,
           3,
           3,
           3,
           0,
           0,
           0,
           0,
           0,
           3,
           3,
           3,
           3,
           4,
           1,
           1,
           5,
           5,
           5,
           5,
           5,
           5,
           2,
           2,
           1,
           5,
           5,
           5,
           5,
           5,
           5,
           2,
           2,
           3,
           3,
           3,
           3,
           3,
           3,
           3,
           3,
           3,
           3,
           3,
           4,
           4,
           4,
           4,
           4,
           4,
           4,
           4,
           4,
           4,
           4,
           4,
           4,
           4,
           4,
           4,
           4,
           4,
           4,
           4,
           4,
           4,
           4,
           4,
           5,
           5,
           5,
           5,
           5,
           5,
           5,
           5,
           5,
           4,
           4,
           4,
           4,
           4,
           4,
           4,
           4,
           4
          ],
          "coloraxis": "coloraxis",
          "size": [
           1.1425473754371059e+22,
           1.1425473754371059e+22,
           8.541466801005381e+21,
           8.541466801005381e+21,
           6.362685441135936e+21,
           4.722366482869645e+21,
           1.523010387809837e+22,
           8.541466801005381e+21,
           6.362685441135936e+21,
           4.722366482869645e+21,
           4.722366482869645e+21,
           4.722366482869645e+21,
           4.722366482869645e+21,
           3.5355913511524947e+22,
           4.722366482869645e+21,
           4.722366482869645e+21,
           4.722366482869645e+21,
           6.362685441135936e+21,
           1.1425473754371059e+22,
           4.722366482869645e+21,
           4.722366482869645e+21,
           1.1425473754371059e+22,
           1.1425473754371059e+22,
           6.362685441135936e+21,
           4.722366482869645e+21,
           4.722366482869645e+21,
           1.1425473754371059e+22,
           6.362685441135936e+21,
           6.362685441135936e+21,
           4.722366482869645e+21,
           2.678939031464213e+22,
           1.523010387809837e+22,
           8.541466801005381e+21,
           1.523010387809837e+22,
           1.523010387809837e+22,
           8.541466801005381e+21,
           8.541466801005381e+21,
           1.523010387809837e+22,
           4.722366482869645e+21,
           3.5355913511524947e+22,
           6.362685441135936e+21,
           4.722366482869645e+21,
           2.678939031464213e+22,
           1.523010387809837e+22,
           8.541466801005381e+21,
           4.722366482869645e+21,
           4.722366482869645e+21,
           1.523010387809837e+22,
           4.65140474534599e+22,
           4.722366482869645e+21,
           8.541466801005381e+21,
           1.1425473754371059e+22,
           8.541466801005381e+21,
           6.362685441135936e+21,
           4.722366482869645e+21,
           8.541466801005381e+21,
           1.1425473754371059e+22,
           8.541466801005381e+21,
           4.722366482869645e+21,
           4.722366482869645e+21,
           4.722366482869645e+21,
           4.722366482869645e+21,
           6.100425945333111e+22,
           4.65140474534599e+22,
           1.1425473754371059e+22,
           1.1425473754371059e+22,
           1.1425473754371059e+22,
           1.1425473754371059e+22,
           1.1425473754371059e+22,
           1.1425473754371059e+22,
           8.541466801005381e+21,
           6.100425945333111e+22,
           1.523010387809837e+22,
           1.1425473754371059e+22,
           8.541466801005381e+21,
           8.541466801005381e+21,
           8.541466801005381e+21,
           8.541466801005381e+21,
           4.722366482869645e+21,
           4.722366482869645e+21,
           1.523010387809837e+22,
           1.1425473754371059e+22,
           6.362685441135936e+21,
           6.362685441135936e+21,
           4.722366482869645e+21,
           3.5355913511524947e+22,
           1.523010387809837e+22,
           1.1425473754371059e+22,
           8.541466801005381e+21,
           3.5355913511524947e+22,
           3.5355913511524947e+22,
           1.1425473754371059e+22,
           4.722366482869645e+21,
           4.722366482869645e+21,
           2.0232717473185773e+22,
           8.541466801005381e+21,
           6.362685441135936e+21,
           4.722366482869645e+21,
           2.0232717473185773e+22,
           1.523010387809837e+22,
           8.541466801005381e+21,
           4.722366482869645e+21,
           1.523010387809837e+22
          ],
          "sizemode": "area",
          "sizeref": 152510648633327780000,
          "symbol": "circle"
         },
         "mode": "markers",
         "name": "",
         "scene": "scene",
         "showlegend": false,
         "type": "scatter3d",
         "x": [
          25.38624171331588,
          25.386473618439375,
          34.04838042685156,
          32.36382507878674,
          33.279653375309486,
          33.33839962861692,
          44.26566521785261,
          44.785007407383276,
          44.35332715278887,
          41.36295920978257,
          43.5097261958691,
          41.10100625513975,
          41.06523599555182,
          45.700641590342315,
          44.646537944552534,
          43.77365273400739,
          45.23285404529094,
          44.59800207780433,
          46.30150873434632,
          45.672405455014896,
          38.61540441611274,
          33.880429501852035,
          34.15329053519938,
          33.31074734797502,
          33.29005892193895,
          33.274555762684194,
          46.2873644598415,
          45.839307509969885,
          47.10641982872781,
          46.82800608892989,
          57.138952901774324,
          44.29947486700497,
          44.75857038480662,
          53.796003439711285,
          56.50688384393076,
          49.17954292939992,
          57.282461619101326,
          53.8635816682473,
          53.68643723224008,
          45.803475211736526,
          44.61413400823953,
          45.311017678356045,
          55.78854149760517,
          53.7788880524079,
          49.18841245248627,
          56.47075035134013,
          56.32467324010373,
          53.924943404274885,
          45.78648642528941,
          44.58003467956079,
          47.57520696857477,
          46.30468270356454,
          47.58165601221624,
          45.755481640690505,
          46.79852622005824,
          47.5820763301587,
          46.30501587539548,
          47.56427789455923,
          45.76914475430454,
          46.789134627814846,
          45.70994780829305,
          58.016322006439104,
          60.48576860111047,
          57.437527027570205,
          59.77982771569352,
          59.635157592296274,
          59.448267833249865,
          59.05280321078343,
          62.956488310449615,
          61.705549271446785,
          62.01954210016118,
          60.46478401372554,
          61.726958467450956,
          62.989303289180896,
          61.867055932696246,
          59.94912973458205,
          65.66868366787143,
          59.7210823057472,
          59.72291432442934,
          62.98740213335247,
          66.30863032392094,
          59.58483604863758,
          59.34380962742558,
          58.78893403242868,
          61.190383722079744,
          55.785433862416625,
          56.50524574146074,
          57.244618076173374,
          53.88664428772195,
          55.82540142216257,
          55.823329688666135,
          53.96230691682881,
          56.460939571671055,
          56.32165750448387,
          66.42648720165965,
          65.77163369374442,
          65.99075685488938,
          64.59846884325542,
          66.39854562207212,
          66.4092523677663,
          65.63811988293611,
          64.67596186370865,
          66.31075459385589
         ],
         "y": [
          63.06467366413805,
          63.067847956361035,
          67.35701451348855,
          67.10369952154012,
          62.99553672242121,
          67.31473842659737,
          31.041428144652556,
          31.74876913848614,
          30.97046515042717,
          32.80565939905901,
          32.37874509635646,
          32.803488498386244,
          37.1550517770876,
          47.61245225667004,
          47.07320449317038,
          39.3099134253028,
          40.305326964852235,
          47.01127703417877,
          58.250131747206034,
          58.9583044461319,
          50.43595076349715,
          67.85168298311577,
          67.32610182110244,
          66.42990369641318,
          67.01728190097731,
          67.19214526995344,
          58.25021743979601,
          59.34712676235864,
          58.33589084140213,
          57.79058595892409,
          23.50821515232826,
          31.039762447000243,
          31.80155506851359,
          40.40100209011617,
          36.78846890372829,
          39.14888451637457,
          36.997646500594406,
          40.39737762373491,
          38.92161989144577,
          47.742406664834384,
          47.04581435444851,
          40.284600101246795,
          40.65175078768628,
          40.38435019005501,
          39.144667054851794,
          40.055809094757365,
          39.70216317028472,
          40.38694173167501,
          47.64440488830807,
          47.008004382291375,
          59.81482517981626,
          58.253725872864315,
          59.85052460974178,
          59.23802468813925,
          57.82424367307137,
          59.860047486410814,
          58.249813018975814,
          59.836138185574946,
          59.21021778452757,
          57.839245288095285,
          58.44123383373727,
          11.793330426290273,
          23.419552291831202,
          23.533291682735435,
          24.043420274488895,
          24.790451584226215,
          23.035306562682305,
          24.152773747460234,
          23.617232433084236,
          23.574918593379348,
          22.791096788094016,
          23.426755955762832,
          23.76076755750083,
          23.633597560662075,
          22.701260835778502,
          22.575272198521926,
          25.723126784085427,
          23.874126596148788,
          23.312738421889875,
          24.781993718426012,
          26.58321554051339,
          24.812342334013742,
          25.426170215917114,
          25.164974805626805,
          24.442744638283536,
          40.58757931089175,
          36.78419399080741,
          36.975690315903755,
          40.30114717213294,
          40.61985616184134,
          40.6340804064646,
          40.37414652612338,
          40.0473594051063,
          39.66458219620803,
          24.36036854556233,
          24.88788768124208,
          25.879224104847648,
          24.950632994866325,
          24.364657417576748,
          26.604203842453337,
          25.75344841935871,
          24.941314589640893,
          26.614762136307302
         ],
         "z": [
          -10.804331045865597,
          -10.807707871503483,
          -10.331365171031397,
          -9.95680708684085,
          -10.723625457122385,
          -10.300327825232685,
          14.609974822646114,
          14.671947027215326,
          14.035580974076694,
          13.15688950592942,
          14.314024251793095,
          12.98804596300147,
          11.839786038661352,
          -8.010812922653754,
          -9.213789574694678,
          14.60964722119926,
          15.340530850759123,
          -9.250282433645513,
          5.640398515119484,
          6.95796605806337,
          3.4316991721010788,
          -10.296788846485459,
          -10.310901522286793,
          -10.163409227145873,
          -10.037689739781987,
          -10.343882011639039,
          5.630950601994736,
          6.875555268762071,
          5.347736300631996,
          5.775817471154987,
          16.47568487769091,
          14.628833293681964,
          14.698403176962085,
          28.960787593212416,
          24.449184724698178,
          27.245970483808303,
          25.652244135851763,
          28.929716182720774,
          27.58578556827659,
          -8.11613924149641,
          -9.197484482553216,
          15.233801726120191,
          28.50691837611156,
          28.926526962389865,
          27.24349222996058,
          26.741393416930745,
          26.174897807731767,
          28.9025857058071,
          -8.122137303467705,
          -9.223236841809856,
          7.958579525262633,
          5.646891535572714,
          7.966575164698042,
          6.897944922976758,
          5.812686025226964,
          7.97882199792944,
          5.652152327897657,
          7.928790365187329,
          6.91039025206323,
          5.841874115041125,
          6.36929482587616,
          13.460758221503792,
          18.576984269087614,
          16.284491641526973,
          18.32201121355288,
          17.472050502087768,
          17.607085675570666,
          17.999931221707662,
          17.776851618047573,
          17.583406934970668,
          16.808546617520694,
          18.55564948223275,
          17.094757544352504,
          17.764466001392687,
          16.846064164610777,
          17.905793132454782,
          17.40927620494002,
          17.68060332658717,
          18.024976242129025,
          17.903285393557073,
          18.40680674681676,
          17.480628800511596,
          16.95452499321944,
          17.52515701146703,
          17.780442518365472,
          28.424746344922042,
          24.438966617165818,
          25.681171110336194,
          28.811027643343337,
          28.45755599407439,
          28.470034893931675,
          28.8608176109306,
          26.75095865538757,
          26.154144156455992,
          16.284162254138867,
          16.908564614174047,
          17.460773585957842,
          18.488428882276708,
          16.2931953404025,
          18.38300944173403,
          17.41608666160433,
          18.48858921540617,
          18.390224895340296
         ]
        }
       ],
       "layout": {
        "coloraxis": {
         "colorbar": {
          "title": {
           "text": "Cluster"
          }
         },
         "colorscale": [
          [
           0,
           "#0d0887"
          ],
          [
           0.1111111111111111,
           "#46039f"
          ],
          [
           0.2222222222222222,
           "#7201a8"
          ],
          [
           0.3333333333333333,
           "#9c179e"
          ],
          [
           0.4444444444444444,
           "#bd3786"
          ],
          [
           0.5555555555555556,
           "#d8576b"
          ],
          [
           0.6666666666666666,
           "#ed7953"
          ],
          [
           0.7777777777777778,
           "#fb9f3a"
          ],
          [
           0.8888888888888888,
           "#fdca26"
          ],
          [
           1,
           "#f0f921"
          ]
         ]
        },
        "legend": {
         "itemsizing": "constant",
         "tracegroupgap": 0
        },
        "scene": {
         "domain": {
          "x": [
           0,
           1
          ],
          "y": [
           0,
           1
          ]
         },
         "xaxis": {
          "title": {
           "text": "x"
          }
         },
         "yaxis": {
          "title": {
           "text": "y"
          }
         },
         "zaxis": {
          "title": {
           "text": "z"
          }
         }
        },
        "template": {
         "data": {
          "bar": [
           {
            "error_x": {
             "color": "#2a3f5f"
            },
            "error_y": {
             "color": "#2a3f5f"
            },
            "marker": {
             "line": {
              "color": "#E5ECF6",
              "width": 0.5
             }
            },
            "type": "bar"
           }
          ],
          "barpolar": [
           {
            "marker": {
             "line": {
              "color": "#E5ECF6",
              "width": 0.5
             }
            },
            "type": "barpolar"
           }
          ],
          "carpet": [
           {
            "aaxis": {
             "endlinecolor": "#2a3f5f",
             "gridcolor": "white",
             "linecolor": "white",
             "minorgridcolor": "white",
             "startlinecolor": "#2a3f5f"
            },
            "baxis": {
             "endlinecolor": "#2a3f5f",
             "gridcolor": "white",
             "linecolor": "white",
             "minorgridcolor": "white",
             "startlinecolor": "#2a3f5f"
            },
            "type": "carpet"
           }
          ],
          "choropleth": [
           {
            "colorbar": {
             "outlinewidth": 0,
             "ticks": ""
            },
            "type": "choropleth"
           }
          ],
          "contour": [
           {
            "colorbar": {
             "outlinewidth": 0,
             "ticks": ""
            },
            "colorscale": [
             [
              0,
              "#0d0887"
             ],
             [
              0.1111111111111111,
              "#46039f"
             ],
             [
              0.2222222222222222,
              "#7201a8"
             ],
             [
              0.3333333333333333,
              "#9c179e"
             ],
             [
              0.4444444444444444,
              "#bd3786"
             ],
             [
              0.5555555555555556,
              "#d8576b"
             ],
             [
              0.6666666666666666,
              "#ed7953"
             ],
             [
              0.7777777777777778,
              "#fb9f3a"
             ],
             [
              0.8888888888888888,
              "#fdca26"
             ],
             [
              1,
              "#f0f921"
             ]
            ],
            "type": "contour"
           }
          ],
          "contourcarpet": [
           {
            "colorbar": {
             "outlinewidth": 0,
             "ticks": ""
            },
            "type": "contourcarpet"
           }
          ],
          "heatmap": [
           {
            "colorbar": {
             "outlinewidth": 0,
             "ticks": ""
            },
            "colorscale": [
             [
              0,
              "#0d0887"
             ],
             [
              0.1111111111111111,
              "#46039f"
             ],
             [
              0.2222222222222222,
              "#7201a8"
             ],
             [
              0.3333333333333333,
              "#9c179e"
             ],
             [
              0.4444444444444444,
              "#bd3786"
             ],
             [
              0.5555555555555556,
              "#d8576b"
             ],
             [
              0.6666666666666666,
              "#ed7953"
             ],
             [
              0.7777777777777778,
              "#fb9f3a"
             ],
             [
              0.8888888888888888,
              "#fdca26"
             ],
             [
              1,
              "#f0f921"
             ]
            ],
            "type": "heatmap"
           }
          ],
          "heatmapgl": [
           {
            "colorbar": {
             "outlinewidth": 0,
             "ticks": ""
            },
            "colorscale": [
             [
              0,
              "#0d0887"
             ],
             [
              0.1111111111111111,
              "#46039f"
             ],
             [
              0.2222222222222222,
              "#7201a8"
             ],
             [
              0.3333333333333333,
              "#9c179e"
             ],
             [
              0.4444444444444444,
              "#bd3786"
             ],
             [
              0.5555555555555556,
              "#d8576b"
             ],
             [
              0.6666666666666666,
              "#ed7953"
             ],
             [
              0.7777777777777778,
              "#fb9f3a"
             ],
             [
              0.8888888888888888,
              "#fdca26"
             ],
             [
              1,
              "#f0f921"
             ]
            ],
            "type": "heatmapgl"
           }
          ],
          "histogram": [
           {
            "marker": {
             "colorbar": {
              "outlinewidth": 0,
              "ticks": ""
             }
            },
            "type": "histogram"
           }
          ],
          "histogram2d": [
           {
            "colorbar": {
             "outlinewidth": 0,
             "ticks": ""
            },
            "colorscale": [
             [
              0,
              "#0d0887"
             ],
             [
              0.1111111111111111,
              "#46039f"
             ],
             [
              0.2222222222222222,
              "#7201a8"
             ],
             [
              0.3333333333333333,
              "#9c179e"
             ],
             [
              0.4444444444444444,
              "#bd3786"
             ],
             [
              0.5555555555555556,
              "#d8576b"
             ],
             [
              0.6666666666666666,
              "#ed7953"
             ],
             [
              0.7777777777777778,
              "#fb9f3a"
             ],
             [
              0.8888888888888888,
              "#fdca26"
             ],
             [
              1,
              "#f0f921"
             ]
            ],
            "type": "histogram2d"
           }
          ],
          "histogram2dcontour": [
           {
            "colorbar": {
             "outlinewidth": 0,
             "ticks": ""
            },
            "colorscale": [
             [
              0,
              "#0d0887"
             ],
             [
              0.1111111111111111,
              "#46039f"
             ],
             [
              0.2222222222222222,
              "#7201a8"
             ],
             [
              0.3333333333333333,
              "#9c179e"
             ],
             [
              0.4444444444444444,
              "#bd3786"
             ],
             [
              0.5555555555555556,
              "#d8576b"
             ],
             [
              0.6666666666666666,
              "#ed7953"
             ],
             [
              0.7777777777777778,
              "#fb9f3a"
             ],
             [
              0.8888888888888888,
              "#fdca26"
             ],
             [
              1,
              "#f0f921"
             ]
            ],
            "type": "histogram2dcontour"
           }
          ],
          "mesh3d": [
           {
            "colorbar": {
             "outlinewidth": 0,
             "ticks": ""
            },
            "type": "mesh3d"
           }
          ],
          "parcoords": [
           {
            "line": {
             "colorbar": {
              "outlinewidth": 0,
              "ticks": ""
             }
            },
            "type": "parcoords"
           }
          ],
          "pie": [
           {
            "automargin": true,
            "type": "pie"
           }
          ],
          "scatter": [
           {
            "marker": {
             "colorbar": {
              "outlinewidth": 0,
              "ticks": ""
             }
            },
            "type": "scatter"
           }
          ],
          "scatter3d": [
           {
            "line": {
             "colorbar": {
              "outlinewidth": 0,
              "ticks": ""
             }
            },
            "marker": {
             "colorbar": {
              "outlinewidth": 0,
              "ticks": ""
             }
            },
            "type": "scatter3d"
           }
          ],
          "scattercarpet": [
           {
            "marker": {
             "colorbar": {
              "outlinewidth": 0,
              "ticks": ""
             }
            },
            "type": "scattercarpet"
           }
          ],
          "scattergeo": [
           {
            "marker": {
             "colorbar": {
              "outlinewidth": 0,
              "ticks": ""
             }
            },
            "type": "scattergeo"
           }
          ],
          "scattergl": [
           {
            "marker": {
             "colorbar": {
              "outlinewidth": 0,
              "ticks": ""
             }
            },
            "type": "scattergl"
           }
          ],
          "scattermapbox": [
           {
            "marker": {
             "colorbar": {
              "outlinewidth": 0,
              "ticks": ""
             }
            },
            "type": "scattermapbox"
           }
          ],
          "scatterpolar": [
           {
            "marker": {
             "colorbar": {
              "outlinewidth": 0,
              "ticks": ""
             }
            },
            "type": "scatterpolar"
           }
          ],
          "scatterpolargl": [
           {
            "marker": {
             "colorbar": {
              "outlinewidth": 0,
              "ticks": ""
             }
            },
            "type": "scatterpolargl"
           }
          ],
          "scatterternary": [
           {
            "marker": {
             "colorbar": {
              "outlinewidth": 0,
              "ticks": ""
             }
            },
            "type": "scatterternary"
           }
          ],
          "surface": [
           {
            "colorbar": {
             "outlinewidth": 0,
             "ticks": ""
            },
            "colorscale": [
             [
              0,
              "#0d0887"
             ],
             [
              0.1111111111111111,
              "#46039f"
             ],
             [
              0.2222222222222222,
              "#7201a8"
             ],
             [
              0.3333333333333333,
              "#9c179e"
             ],
             [
              0.4444444444444444,
              "#bd3786"
             ],
             [
              0.5555555555555556,
              "#d8576b"
             ],
             [
              0.6666666666666666,
              "#ed7953"
             ],
             [
              0.7777777777777778,
              "#fb9f3a"
             ],
             [
              0.8888888888888888,
              "#fdca26"
             ],
             [
              1,
              "#f0f921"
             ]
            ],
            "type": "surface"
           }
          ],
          "table": [
           {
            "cells": {
             "fill": {
              "color": "#EBF0F8"
             },
             "line": {
              "color": "white"
             }
            },
            "header": {
             "fill": {
              "color": "#C8D4E3"
             },
             "line": {
              "color": "white"
             }
            },
            "type": "table"
           }
          ]
         },
         "layout": {
          "annotationdefaults": {
           "arrowcolor": "#2a3f5f",
           "arrowhead": 0,
           "arrowwidth": 1
          },
          "coloraxis": {
           "colorbar": {
            "outlinewidth": 0,
            "ticks": ""
           }
          },
          "colorscale": {
           "diverging": [
            [
             0,
             "#8e0152"
            ],
            [
             0.1,
             "#c51b7d"
            ],
            [
             0.2,
             "#de77ae"
            ],
            [
             0.3,
             "#f1b6da"
            ],
            [
             0.4,
             "#fde0ef"
            ],
            [
             0.5,
             "#f7f7f7"
            ],
            [
             0.6,
             "#e6f5d0"
            ],
            [
             0.7,
             "#b8e186"
            ],
            [
             0.8,
             "#7fbc41"
            ],
            [
             0.9,
             "#4d9221"
            ],
            [
             1,
             "#276419"
            ]
           ],
           "sequential": [
            [
             0,
             "#0d0887"
            ],
            [
             0.1111111111111111,
             "#46039f"
            ],
            [
             0.2222222222222222,
             "#7201a8"
            ],
            [
             0.3333333333333333,
             "#9c179e"
            ],
            [
             0.4444444444444444,
             "#bd3786"
            ],
            [
             0.5555555555555556,
             "#d8576b"
            ],
            [
             0.6666666666666666,
             "#ed7953"
            ],
            [
             0.7777777777777778,
             "#fb9f3a"
            ],
            [
             0.8888888888888888,
             "#fdca26"
            ],
            [
             1,
             "#f0f921"
            ]
           ],
           "sequentialminus": [
            [
             0,
             "#0d0887"
            ],
            [
             0.1111111111111111,
             "#46039f"
            ],
            [
             0.2222222222222222,
             "#7201a8"
            ],
            [
             0.3333333333333333,
             "#9c179e"
            ],
            [
             0.4444444444444444,
             "#bd3786"
            ],
            [
             0.5555555555555556,
             "#d8576b"
            ],
            [
             0.6666666666666666,
             "#ed7953"
            ],
            [
             0.7777777777777778,
             "#fb9f3a"
            ],
            [
             0.8888888888888888,
             "#fdca26"
            ],
            [
             1,
             "#f0f921"
            ]
           ]
          },
          "colorway": [
           "#636efa",
           "#EF553B",
           "#00cc96",
           "#ab63fa",
           "#FFA15A",
           "#19d3f3",
           "#FF6692",
           "#B6E880",
           "#FF97FF",
           "#FECB52"
          ],
          "font": {
           "color": "#2a3f5f"
          },
          "geo": {
           "bgcolor": "white",
           "lakecolor": "white",
           "landcolor": "#E5ECF6",
           "showlakes": true,
           "showland": true,
           "subunitcolor": "white"
          },
          "hoverlabel": {
           "align": "left"
          },
          "hovermode": "closest",
          "mapbox": {
           "style": "light"
          },
          "paper_bgcolor": "white",
          "plot_bgcolor": "#E5ECF6",
          "polar": {
           "angularaxis": {
            "gridcolor": "white",
            "linecolor": "white",
            "ticks": ""
           },
           "bgcolor": "#E5ECF6",
           "radialaxis": {
            "gridcolor": "white",
            "linecolor": "white",
            "ticks": ""
           }
          },
          "scene": {
           "xaxis": {
            "backgroundcolor": "#E5ECF6",
            "gridcolor": "white",
            "gridwidth": 2,
            "linecolor": "white",
            "showbackground": true,
            "ticks": "",
            "zerolinecolor": "white"
           },
           "yaxis": {
            "backgroundcolor": "#E5ECF6",
            "gridcolor": "white",
            "gridwidth": 2,
            "linecolor": "white",
            "showbackground": true,
            "ticks": "",
            "zerolinecolor": "white"
           },
           "zaxis": {
            "backgroundcolor": "#E5ECF6",
            "gridcolor": "white",
            "gridwidth": 2,
            "linecolor": "white",
            "showbackground": true,
            "ticks": "",
            "zerolinecolor": "white"
           }
          },
          "shapedefaults": {
           "line": {
            "color": "#2a3f5f"
           }
          },
          "ternary": {
           "aaxis": {
            "gridcolor": "white",
            "linecolor": "white",
            "ticks": ""
           },
           "baxis": {
            "gridcolor": "white",
            "linecolor": "white",
            "ticks": ""
           },
           "bgcolor": "#E5ECF6",
           "caxis": {
            "gridcolor": "white",
            "linecolor": "white",
            "ticks": ""
           }
          },
          "title": {
           "x": 0.05
          },
          "xaxis": {
           "automargin": true,
           "gridcolor": "white",
           "linecolor": "white",
           "ticks": "",
           "title": {
            "standoff": 15
           },
           "zerolinecolor": "white",
           "zerolinewidth": 2
          },
          "yaxis": {
           "automargin": true,
           "gridcolor": "white",
           "linecolor": "white",
           "ticks": "",
           "title": {
            "standoff": 15
           },
           "zerolinecolor": "white",
           "zerolinewidth": 2
          }
         }
        },
        "title": {
         "text": "Cluster para -8.0 (kcal/mol) com o Luteoin na PLPro de SARS-CoV-2"
        }
       }
      },
      "text/html": [
       "<div>                            <div id=\"02af15ba-638d-4156-8d42-3f8262d5cdf8\" class=\"plotly-graph-div\" style=\"height:525px; width:100%;\"></div>            <script type=\"text/javascript\">                require([\"plotly\"], function(Plotly) {                    window.PLOTLYENV=window.PLOTLYENV || {};                                    if (document.getElementById(\"02af15ba-638d-4156-8d42-3f8262d5cdf8\")) {                    Plotly.newPlot(                        \"02af15ba-638d-4156-8d42-3f8262d5cdf8\",                        [{\"hovertemplate\": \"x=%{x}<br>y=%{y}<br>z=%{z}<br>size=%{marker.size}<br>Cluster=%{marker.color}<extra></extra>\", \"legendgroup\": \"\", \"marker\": {\"color\": [0, 0, 0, 0, 0, 0, 1, 1, 1, 1, 1, 1, 1, 2, 2, 1, 1, 2, 3, 3, 3, 0, 0, 0, 0, 0, 3, 3, 3, 3, 4, 1, 1, 5, 5, 5, 5, 5, 5, 2, 2, 1, 5, 5, 5, 5, 5, 5, 2, 2, 3, 3, 3, 3, 3, 3, 3, 3, 3, 3, 3, 4, 4, 4, 4, 4, 4, 4, 4, 4, 4, 4, 4, 4, 4, 4, 4, 4, 4, 4, 4, 4, 4, 4, 4, 5, 5, 5, 5, 5, 5, 5, 5, 5, 4, 4, 4, 4, 4, 4, 4, 4, 4], \"coloraxis\": \"coloraxis\", \"size\": [1.1425473754371059e+22, 1.1425473754371059e+22, 8.541466801005381e+21, 8.541466801005381e+21, 6.362685441135936e+21, 4.722366482869645e+21, 1.523010387809837e+22, 8.541466801005381e+21, 6.362685441135936e+21, 4.722366482869645e+21, 4.722366482869645e+21, 4.722366482869645e+21, 4.722366482869645e+21, 3.5355913511524947e+22, 4.722366482869645e+21, 4.722366482869645e+21, 4.722366482869645e+21, 6.362685441135936e+21, 1.1425473754371059e+22, 4.722366482869645e+21, 4.722366482869645e+21, 1.1425473754371059e+22, 1.1425473754371059e+22, 6.362685441135936e+21, 4.722366482869645e+21, 4.722366482869645e+21, 1.1425473754371059e+22, 6.362685441135936e+21, 6.362685441135936e+21, 4.722366482869645e+21, 2.678939031464213e+22, 1.523010387809837e+22, 8.541466801005381e+21, 1.523010387809837e+22, 1.523010387809837e+22, 8.541466801005381e+21, 8.541466801005381e+21, 1.523010387809837e+22, 4.722366482869645e+21, 3.5355913511524947e+22, 6.362685441135936e+21, 4.722366482869645e+21, 2.678939031464213e+22, 1.523010387809837e+22, 8.541466801005381e+21, 4.722366482869645e+21, 4.722366482869645e+21, 1.523010387809837e+22, 4.65140474534599e+22, 4.722366482869645e+21, 8.541466801005381e+21, 1.1425473754371059e+22, 8.541466801005381e+21, 6.362685441135936e+21, 4.722366482869645e+21, 8.541466801005381e+21, 1.1425473754371059e+22, 8.541466801005381e+21, 4.722366482869645e+21, 4.722366482869645e+21, 4.722366482869645e+21, 4.722366482869645e+21, 6.100425945333111e+22, 4.65140474534599e+22, 1.1425473754371059e+22, 1.1425473754371059e+22, 1.1425473754371059e+22, 1.1425473754371059e+22, 1.1425473754371059e+22, 1.1425473754371059e+22, 8.541466801005381e+21, 6.100425945333111e+22, 1.523010387809837e+22, 1.1425473754371059e+22, 8.541466801005381e+21, 8.541466801005381e+21, 8.541466801005381e+21, 8.541466801005381e+21, 4.722366482869645e+21, 4.722366482869645e+21, 1.523010387809837e+22, 1.1425473754371059e+22, 6.362685441135936e+21, 6.362685441135936e+21, 4.722366482869645e+21, 3.5355913511524947e+22, 1.523010387809837e+22, 1.1425473754371059e+22, 8.541466801005381e+21, 3.5355913511524947e+22, 3.5355913511524947e+22, 1.1425473754371059e+22, 4.722366482869645e+21, 4.722366482869645e+21, 2.0232717473185773e+22, 8.541466801005381e+21, 6.362685441135936e+21, 4.722366482869645e+21, 2.0232717473185773e+22, 1.523010387809837e+22, 8.541466801005381e+21, 4.722366482869645e+21, 1.523010387809837e+22], \"sizemode\": \"area\", \"sizeref\": 1.5251064863332778e+20, \"symbol\": \"circle\"}, \"mode\": \"markers\", \"name\": \"\", \"scene\": \"scene\", \"showlegend\": false, \"type\": \"scatter3d\", \"x\": [25.38624171331588, 25.386473618439375, 34.04838042685156, 32.36382507878674, 33.279653375309486, 33.33839962861692, 44.26566521785261, 44.785007407383276, 44.35332715278887, 41.36295920978257, 43.5097261958691, 41.10100625513975, 41.06523599555182, 45.700641590342315, 44.646537944552534, 43.77365273400739, 45.23285404529094, 44.59800207780433, 46.30150873434632, 45.672405455014896, 38.61540441611274, 33.880429501852035, 34.15329053519938, 33.31074734797502, 33.29005892193895, 33.274555762684194, 46.2873644598415, 45.839307509969885, 47.10641982872781, 46.82800608892989, 57.138952901774324, 44.29947486700497, 44.75857038480662, 53.796003439711285, 56.50688384393076, 49.17954292939992, 57.282461619101326, 53.8635816682473, 53.68643723224008, 45.803475211736526, 44.61413400823953, 45.311017678356045, 55.78854149760517, 53.7788880524079, 49.18841245248627, 56.47075035134013, 56.32467324010373, 53.924943404274885, 45.78648642528941, 44.58003467956079, 47.57520696857477, 46.30468270356454, 47.58165601221624, 45.755481640690505, 46.79852622005824, 47.5820763301587, 46.30501587539548, 47.56427789455923, 45.76914475430454, 46.789134627814846, 45.70994780829305, 58.016322006439104, 60.48576860111047, 57.437527027570205, 59.77982771569352, 59.635157592296274, 59.448267833249865, 59.05280321078343, 62.956488310449615, 61.705549271446785, 62.01954210016118, 60.46478401372554, 61.726958467450956, 62.989303289180896, 61.867055932696246, 59.94912973458205, 65.66868366787143, 59.7210823057472, 59.72291432442934, 62.98740213335247, 66.30863032392094, 59.58483604863758, 59.34380962742558, 58.78893403242868, 61.190383722079744, 55.785433862416625, 56.50524574146074, 57.244618076173374, 53.88664428772195, 55.82540142216257, 55.823329688666135, 53.96230691682881, 56.460939571671055, 56.32165750448387, 66.42648720165965, 65.77163369374442, 65.99075685488938, 64.59846884325542, 66.39854562207212, 66.4092523677663, 65.63811988293611, 64.67596186370865, 66.31075459385589], \"y\": [63.06467366413805, 63.067847956361035, 67.35701451348855, 67.10369952154012, 62.99553672242121, 67.31473842659737, 31.041428144652556, 31.74876913848614, 30.97046515042717, 32.80565939905901, 32.37874509635646, 32.803488498386244, 37.1550517770876, 47.61245225667004, 47.07320449317038, 39.3099134253028, 40.305326964852235, 47.01127703417877, 58.250131747206034, 58.9583044461319, 50.43595076349715, 67.85168298311577, 67.32610182110244, 66.42990369641318, 67.01728190097731, 67.19214526995344, 58.25021743979601, 59.34712676235864, 58.33589084140213, 57.79058595892409, 23.50821515232826, 31.039762447000243, 31.80155506851359, 40.40100209011617, 36.78846890372829, 39.14888451637457, 36.997646500594406, 40.39737762373491, 38.92161989144577, 47.742406664834384, 47.04581435444851, 40.284600101246795, 40.65175078768628, 40.38435019005501, 39.144667054851794, 40.055809094757365, 39.70216317028472, 40.38694173167501, 47.64440488830807, 47.008004382291375, 59.81482517981626, 58.253725872864315, 59.85052460974178, 59.23802468813925, 57.82424367307137, 59.860047486410814, 58.249813018975814, 59.836138185574946, 59.21021778452757, 57.839245288095285, 58.44123383373727, 11.793330426290273, 23.419552291831202, 23.533291682735435, 24.043420274488895, 24.790451584226215, 23.035306562682305, 24.152773747460234, 23.617232433084236, 23.574918593379348, 22.791096788094016, 23.426755955762832, 23.76076755750083, 23.633597560662075, 22.701260835778502, 22.575272198521926, 25.723126784085427, 23.874126596148788, 23.312738421889875, 24.781993718426012, 26.58321554051339, 24.812342334013742, 25.426170215917114, 25.164974805626805, 24.442744638283536, 40.58757931089175, 36.78419399080741, 36.975690315903755, 40.30114717213294, 40.61985616184134, 40.6340804064646, 40.37414652612338, 40.0473594051063, 39.66458219620803, 24.36036854556233, 24.88788768124208, 25.879224104847648, 24.950632994866325, 24.364657417576748, 26.604203842453337, 25.75344841935871, 24.941314589640893, 26.614762136307302], \"z\": [-10.804331045865597, -10.807707871503483, -10.331365171031397, -9.95680708684085, -10.723625457122385, -10.300327825232685, 14.609974822646114, 14.671947027215326, 14.035580974076694, 13.15688950592942, 14.314024251793095, 12.98804596300147, 11.839786038661352, -8.010812922653754, -9.213789574694678, 14.60964722119926, 15.340530850759123, -9.250282433645513, 5.640398515119484, 6.95796605806337, 3.4316991721010788, -10.296788846485459, -10.310901522286793, -10.163409227145873, -10.037689739781987, -10.343882011639039, 5.630950601994736, 6.875555268762071, 5.347736300631996, 5.775817471154987, 16.47568487769091, 14.628833293681964, 14.698403176962085, 28.960787593212416, 24.449184724698178, 27.245970483808303, 25.652244135851763, 28.929716182720774, 27.58578556827659, -8.11613924149641, -9.197484482553216, 15.233801726120191, 28.50691837611156, 28.926526962389865, 27.24349222996058, 26.741393416930745, 26.174897807731767, 28.9025857058071, -8.122137303467705, -9.223236841809856, 7.958579525262633, 5.646891535572714, 7.966575164698042, 6.897944922976758, 5.812686025226964, 7.97882199792944, 5.652152327897657, 7.928790365187329, 6.91039025206323, 5.841874115041125, 6.36929482587616, 13.460758221503792, 18.576984269087614, 16.284491641526973, 18.32201121355288, 17.472050502087768, 17.607085675570666, 17.999931221707662, 17.776851618047573, 17.583406934970668, 16.808546617520694, 18.55564948223275, 17.094757544352504, 17.764466001392687, 16.846064164610777, 17.905793132454782, 17.40927620494002, 17.68060332658717, 18.024976242129025, 17.903285393557073, 18.40680674681676, 17.480628800511596, 16.95452499321944, 17.52515701146703, 17.780442518365472, 28.424746344922042, 24.438966617165818, 25.681171110336194, 28.811027643343337, 28.45755599407439, 28.470034893931675, 28.8608176109306, 26.75095865538757, 26.154144156455992, 16.284162254138867, 16.908564614174047, 17.460773585957842, 18.488428882276708, 16.2931953404025, 18.38300944173403, 17.41608666160433, 18.48858921540617, 18.390224895340296]}],                        {\"coloraxis\": {\"colorbar\": {\"title\": {\"text\": \"Cluster\"}}, \"colorscale\": [[0.0, \"#0d0887\"], [0.1111111111111111, \"#46039f\"], [0.2222222222222222, \"#7201a8\"], [0.3333333333333333, \"#9c179e\"], [0.4444444444444444, \"#bd3786\"], [0.5555555555555556, \"#d8576b\"], [0.6666666666666666, \"#ed7953\"], [0.7777777777777778, \"#fb9f3a\"], [0.8888888888888888, \"#fdca26\"], [1.0, \"#f0f921\"]]}, \"legend\": {\"itemsizing\": \"constant\", \"tracegroupgap\": 0}, \"scene\": {\"domain\": {\"x\": [0.0, 1.0], \"y\": [0.0, 1.0]}, \"xaxis\": {\"title\": {\"text\": \"x\"}}, \"yaxis\": {\"title\": {\"text\": \"y\"}}, \"zaxis\": {\"title\": {\"text\": \"z\"}}}, \"template\": {\"data\": {\"bar\": [{\"error_x\": {\"color\": \"#2a3f5f\"}, \"error_y\": {\"color\": \"#2a3f5f\"}, \"marker\": {\"line\": {\"color\": \"#E5ECF6\", \"width\": 0.5}}, \"type\": \"bar\"}], \"barpolar\": [{\"marker\": {\"line\": {\"color\": \"#E5ECF6\", \"width\": 0.5}}, \"type\": \"barpolar\"}], \"carpet\": [{\"aaxis\": {\"endlinecolor\": \"#2a3f5f\", \"gridcolor\": \"white\", \"linecolor\": \"white\", \"minorgridcolor\": \"white\", \"startlinecolor\": \"#2a3f5f\"}, \"baxis\": {\"endlinecolor\": \"#2a3f5f\", \"gridcolor\": \"white\", \"linecolor\": \"white\", \"minorgridcolor\": \"white\", \"startlinecolor\": \"#2a3f5f\"}, \"type\": \"carpet\"}], \"choropleth\": [{\"colorbar\": {\"outlinewidth\": 0, \"ticks\": \"\"}, \"type\": \"choropleth\"}], \"contour\": [{\"colorbar\": {\"outlinewidth\": 0, \"ticks\": \"\"}, \"colorscale\": [[0.0, \"#0d0887\"], [0.1111111111111111, \"#46039f\"], [0.2222222222222222, \"#7201a8\"], [0.3333333333333333, \"#9c179e\"], [0.4444444444444444, \"#bd3786\"], [0.5555555555555556, \"#d8576b\"], [0.6666666666666666, \"#ed7953\"], [0.7777777777777778, \"#fb9f3a\"], [0.8888888888888888, \"#fdca26\"], [1.0, \"#f0f921\"]], \"type\": \"contour\"}], \"contourcarpet\": [{\"colorbar\": {\"outlinewidth\": 0, \"ticks\": \"\"}, \"type\": \"contourcarpet\"}], \"heatmap\": [{\"colorbar\": {\"outlinewidth\": 0, \"ticks\": \"\"}, \"colorscale\": [[0.0, \"#0d0887\"], [0.1111111111111111, \"#46039f\"], [0.2222222222222222, \"#7201a8\"], [0.3333333333333333, \"#9c179e\"], [0.4444444444444444, \"#bd3786\"], [0.5555555555555556, \"#d8576b\"], [0.6666666666666666, \"#ed7953\"], [0.7777777777777778, \"#fb9f3a\"], [0.8888888888888888, \"#fdca26\"], [1.0, \"#f0f921\"]], \"type\": \"heatmap\"}], \"heatmapgl\": [{\"colorbar\": {\"outlinewidth\": 0, \"ticks\": \"\"}, \"colorscale\": [[0.0, \"#0d0887\"], [0.1111111111111111, \"#46039f\"], [0.2222222222222222, \"#7201a8\"], [0.3333333333333333, \"#9c179e\"], [0.4444444444444444, \"#bd3786\"], [0.5555555555555556, \"#d8576b\"], [0.6666666666666666, \"#ed7953\"], [0.7777777777777778, \"#fb9f3a\"], [0.8888888888888888, \"#fdca26\"], [1.0, \"#f0f921\"]], \"type\": \"heatmapgl\"}], \"histogram\": [{\"marker\": {\"colorbar\": {\"outlinewidth\": 0, \"ticks\": \"\"}}, \"type\": \"histogram\"}], \"histogram2d\": [{\"colorbar\": {\"outlinewidth\": 0, \"ticks\": \"\"}, \"colorscale\": [[0.0, \"#0d0887\"], [0.1111111111111111, \"#46039f\"], [0.2222222222222222, \"#7201a8\"], [0.3333333333333333, \"#9c179e\"], [0.4444444444444444, \"#bd3786\"], [0.5555555555555556, \"#d8576b\"], [0.6666666666666666, \"#ed7953\"], [0.7777777777777778, \"#fb9f3a\"], [0.8888888888888888, \"#fdca26\"], [1.0, \"#f0f921\"]], \"type\": \"histogram2d\"}], \"histogram2dcontour\": [{\"colorbar\": {\"outlinewidth\": 0, \"ticks\": \"\"}, \"colorscale\": [[0.0, \"#0d0887\"], [0.1111111111111111, \"#46039f\"], [0.2222222222222222, \"#7201a8\"], [0.3333333333333333, \"#9c179e\"], [0.4444444444444444, \"#bd3786\"], [0.5555555555555556, \"#d8576b\"], [0.6666666666666666, \"#ed7953\"], [0.7777777777777778, \"#fb9f3a\"], [0.8888888888888888, \"#fdca26\"], [1.0, \"#f0f921\"]], \"type\": \"histogram2dcontour\"}], \"mesh3d\": [{\"colorbar\": {\"outlinewidth\": 0, \"ticks\": \"\"}, \"type\": \"mesh3d\"}], \"parcoords\": [{\"line\": {\"colorbar\": {\"outlinewidth\": 0, \"ticks\": \"\"}}, \"type\": \"parcoords\"}], \"pie\": [{\"automargin\": true, \"type\": \"pie\"}], \"scatter\": [{\"marker\": {\"colorbar\": {\"outlinewidth\": 0, \"ticks\": \"\"}}, \"type\": \"scatter\"}], \"scatter3d\": [{\"line\": {\"colorbar\": {\"outlinewidth\": 0, \"ticks\": \"\"}}, \"marker\": {\"colorbar\": {\"outlinewidth\": 0, \"ticks\": \"\"}}, \"type\": \"scatter3d\"}], \"scattercarpet\": [{\"marker\": {\"colorbar\": {\"outlinewidth\": 0, \"ticks\": \"\"}}, \"type\": \"scattercarpet\"}], \"scattergeo\": [{\"marker\": {\"colorbar\": {\"outlinewidth\": 0, \"ticks\": \"\"}}, \"type\": \"scattergeo\"}], \"scattergl\": [{\"marker\": {\"colorbar\": {\"outlinewidth\": 0, \"ticks\": \"\"}}, \"type\": \"scattergl\"}], \"scattermapbox\": [{\"marker\": {\"colorbar\": {\"outlinewidth\": 0, \"ticks\": \"\"}}, \"type\": \"scattermapbox\"}], \"scatterpolar\": [{\"marker\": {\"colorbar\": {\"outlinewidth\": 0, \"ticks\": \"\"}}, \"type\": \"scatterpolar\"}], \"scatterpolargl\": [{\"marker\": {\"colorbar\": {\"outlinewidth\": 0, \"ticks\": \"\"}}, \"type\": \"scatterpolargl\"}], \"scatterternary\": [{\"marker\": {\"colorbar\": {\"outlinewidth\": 0, \"ticks\": \"\"}}, \"type\": \"scatterternary\"}], \"surface\": [{\"colorbar\": {\"outlinewidth\": 0, \"ticks\": \"\"}, \"colorscale\": [[0.0, \"#0d0887\"], [0.1111111111111111, \"#46039f\"], [0.2222222222222222, \"#7201a8\"], [0.3333333333333333, \"#9c179e\"], [0.4444444444444444, \"#bd3786\"], [0.5555555555555556, \"#d8576b\"], [0.6666666666666666, \"#ed7953\"], [0.7777777777777778, \"#fb9f3a\"], [0.8888888888888888, \"#fdca26\"], [1.0, \"#f0f921\"]], \"type\": \"surface\"}], \"table\": [{\"cells\": {\"fill\": {\"color\": \"#EBF0F8\"}, \"line\": {\"color\": \"white\"}}, \"header\": {\"fill\": {\"color\": \"#C8D4E3\"}, \"line\": {\"color\": \"white\"}}, \"type\": \"table\"}]}, \"layout\": {\"annotationdefaults\": {\"arrowcolor\": \"#2a3f5f\", \"arrowhead\": 0, \"arrowwidth\": 1}, \"coloraxis\": {\"colorbar\": {\"outlinewidth\": 0, \"ticks\": \"\"}}, \"colorscale\": {\"diverging\": [[0, \"#8e0152\"], [0.1, \"#c51b7d\"], [0.2, \"#de77ae\"], [0.3, \"#f1b6da\"], [0.4, \"#fde0ef\"], [0.5, \"#f7f7f7\"], [0.6, \"#e6f5d0\"], [0.7, \"#b8e186\"], [0.8, \"#7fbc41\"], [0.9, \"#4d9221\"], [1, \"#276419\"]], \"sequential\": [[0.0, \"#0d0887\"], [0.1111111111111111, \"#46039f\"], [0.2222222222222222, \"#7201a8\"], [0.3333333333333333, \"#9c179e\"], [0.4444444444444444, \"#bd3786\"], [0.5555555555555556, \"#d8576b\"], [0.6666666666666666, \"#ed7953\"], [0.7777777777777778, \"#fb9f3a\"], [0.8888888888888888, \"#fdca26\"], [1.0, \"#f0f921\"]], \"sequentialminus\": [[0.0, \"#0d0887\"], [0.1111111111111111, \"#46039f\"], [0.2222222222222222, \"#7201a8\"], [0.3333333333333333, \"#9c179e\"], [0.4444444444444444, \"#bd3786\"], [0.5555555555555556, \"#d8576b\"], [0.6666666666666666, \"#ed7953\"], [0.7777777777777778, \"#fb9f3a\"], [0.8888888888888888, \"#fdca26\"], [1.0, \"#f0f921\"]]}, \"colorway\": [\"#636efa\", \"#EF553B\", \"#00cc96\", \"#ab63fa\", \"#FFA15A\", \"#19d3f3\", \"#FF6692\", \"#B6E880\", \"#FF97FF\", \"#FECB52\"], \"font\": {\"color\": \"#2a3f5f\"}, \"geo\": {\"bgcolor\": \"white\", \"lakecolor\": \"white\", \"landcolor\": \"#E5ECF6\", \"showlakes\": true, \"showland\": true, \"subunitcolor\": \"white\"}, \"hoverlabel\": {\"align\": \"left\"}, \"hovermode\": \"closest\", \"mapbox\": {\"style\": \"light\"}, \"paper_bgcolor\": \"white\", \"plot_bgcolor\": \"#E5ECF6\", \"polar\": {\"angularaxis\": {\"gridcolor\": \"white\", \"linecolor\": \"white\", \"ticks\": \"\"}, \"bgcolor\": \"#E5ECF6\", \"radialaxis\": {\"gridcolor\": \"white\", \"linecolor\": \"white\", \"ticks\": \"\"}}, \"scene\": {\"xaxis\": {\"backgroundcolor\": \"#E5ECF6\", \"gridcolor\": \"white\", \"gridwidth\": 2, \"linecolor\": \"white\", \"showbackground\": true, \"ticks\": \"\", \"zerolinecolor\": \"white\"}, \"yaxis\": {\"backgroundcolor\": \"#E5ECF6\", \"gridcolor\": \"white\", \"gridwidth\": 2, \"linecolor\": \"white\", \"showbackground\": true, \"ticks\": \"\", \"zerolinecolor\": \"white\"}, \"zaxis\": {\"backgroundcolor\": \"#E5ECF6\", \"gridcolor\": \"white\", \"gridwidth\": 2, \"linecolor\": \"white\", \"showbackground\": true, \"ticks\": \"\", \"zerolinecolor\": \"white\"}}, \"shapedefaults\": {\"line\": {\"color\": \"#2a3f5f\"}}, \"ternary\": {\"aaxis\": {\"gridcolor\": \"white\", \"linecolor\": \"white\", \"ticks\": \"\"}, \"baxis\": {\"gridcolor\": \"white\", \"linecolor\": \"white\", \"ticks\": \"\"}, \"bgcolor\": \"#E5ECF6\", \"caxis\": {\"gridcolor\": \"white\", \"linecolor\": \"white\", \"ticks\": \"\"}}, \"title\": {\"x\": 0.05}, \"xaxis\": {\"automargin\": true, \"gridcolor\": \"white\", \"linecolor\": \"white\", \"ticks\": \"\", \"title\": {\"standoff\": 15}, \"zerolinecolor\": \"white\", \"zerolinewidth\": 2}, \"yaxis\": {\"automargin\": true, \"gridcolor\": \"white\", \"linecolor\": \"white\", \"ticks\": \"\", \"title\": {\"standoff\": 15}, \"zerolinecolor\": \"white\", \"zerolinewidth\": 2}}}, \"title\": {\"text\": \"Cluster para -8.0 (kcal/mol) com o Luteoin na PLPro de SARS-CoV-2\"}},                        {\"responsive\": true}                    ).then(function(){\n",
       "                            \n",
       "var gd = document.getElementById('02af15ba-638d-4156-8d42-3f8262d5cdf8');\n",
       "var x = new MutationObserver(function (mutations, observer) {{\n",
       "        var display = window.getComputedStyle(gd).display;\n",
       "        if (!display || display === 'none') {{\n",
       "            console.log([gd, 'removed!']);\n",
       "            Plotly.purge(gd);\n",
       "            observer.disconnect();\n",
       "        }}\n",
       "}});\n",
       "\n",
       "// Listen for the removal of the full notebook cells\n",
       "var notebookContainer = gd.closest('#notebook-container');\n",
       "if (notebookContainer) {{\n",
       "    x.observe(notebookContainer, {childList: true});\n",
       "}}\n",
       "\n",
       "// Listen for the clearing of the current output cell\n",
       "var outputEl = gd.closest('.output');\n",
       "if (outputEl) {{\n",
       "    x.observe(outputEl, {childList: true});\n",
       "}}\n",
       "\n",
       "                        })                };                });            </script>        </div>"
      ]
     },
     "metadata": {},
     "output_type": "display_data"
    },
    {
     "name": "stdout",
     "output_type": "stream",
     "text": [
      "\n",
      "\n",
      "Para energia de -8.0 kcal/mol\n",
      "              mean  median       std  Ocupação %\n",
      "Cluster                                        \n",
      "0       -8.163636    -8.2  0.128629   10.587126\n",
      "1       -8.108333    -8.0  0.156428   11.471351\n",
      "2       -8.342857    -8.1  0.369040    6.885169\n",
      "3       -8.127778    -8.1  0.122741   17.248290\n",
      "4       -8.291176    -8.3  0.240413   33.235086\n",
      "5       -8.309524    -8.3  0.236442   20.572978\n"
     ]
    },
    {
     "data": {
      "image/png": "[encoded data removed]",
      "text/plain": [
       "<Figure size 432x288 with 1 Axes>"
      ]
     },
     "metadata": {
      "needs_background": "light"
     },
     "output_type": "display_data"
    },
    {
     "data": {
      "image/png": "[encoded data removed]",
      "text/plain": [
       "<Figure size 432x288 with 1 Axes>"
      ]
     },
     "metadata": {
      "needs_background": "light"
     },
     "output_type": "display_data"
    },
    {
     "data": {
      "image/png": "[encoded data removed]",
      "text/plain": [
       "<Figure size 432x288 with 1 Axes>"
      ]
     },
     "metadata": {
      "needs_background": "light"
     },
     "output_type": "display_data"
    },
    {
     "data": {
      "image/png": "[encoded data removed]",
      "text/plain": [
       "<Figure size 432x288 with 1 Axes>"
      ]
     },
     "metadata": {
      "needs_background": "light"
     },
     "output_type": "display_data"
    },
    {
     "data": {
      "application/vnd.plotly.v1+json": {
       "config": {
        "plotlyServerURL": "https://plotly.com"
       },
       "data": [
        {
         "hovertemplate": "x=%{x}<br>y=%{y}<br>z=%{z}<br>size=%{marker.size}<br>Cluster=%{marker.color}<extra></extra>",
         "legendgroup": "",
         "marker": {
          "color": [
           -1,
           0,
           -1,
           1,
           -1,
           0,
           0,
           0,
           1,
           1,
           1,
           0,
           0
          ],
          "coloraxis": "coloraxis",
          "size": [
           9.072791734335326e+23,
           6.7563246018964e+23,
           9.072791734335326e+23,
           6.7563246018964e+23,
           1.2142500774027192e+24,
           1.6197394856155016e+24,
           1.2142500774027192e+24,
           1.6197394856155016e+24,
           9.072791734335326e+23,
           9.072791734335326e+23,
           9.072791734335326e+23,
           5.0139800972460434e+23,
           5.0139800972460434e+23
          ],
          "sizemode": "area",
          "sizeref": 4.049348714038754e+21,
          "symbol": "circle"
         },
         "mode": "markers",
         "name": "",
         "scene": "scene",
         "showlegend": false,
         "type": "scatter3d",
         "x": [
          45.700641590342315,
          57.138952901774324,
          45.803475211736526,
          55.78854149760517,
          45.78648642528941,
          60.48576860111047,
          57.437527027570205,
          60.46478401372554,
          55.785433862416625,
          55.82540142216257,
          55.823329688666135,
          66.42648720165965,
          66.39854562207212
         ],
         "y": [
          47.61245225667004,
          23.50821515232826,
          47.742406664834384,
          40.65175078768628,
          47.64440488830807,
          23.419552291831202,
          23.533291682735435,
          23.426755955762832,
          40.58757931089175,
          40.61985616184134,
          40.6340804064646,
          24.36036854556233,
          24.364657417576748
         ],
         "z": [
          -8.010812922653754,
          16.47568487769091,
          -8.11613924149641,
          28.50691837611156,
          -8.122137303467705,
          18.576984269087614,
          16.284491641526973,
          18.55564948223275,
          28.424746344922042,
          28.45755599407439,
          28.470034893931675,
          16.284162254138867,
          16.2931953404025
         ]
        }
       ],
       "layout": {
        "coloraxis": {
         "colorbar": {
          "title": {
           "text": "Cluster"
          }
         },
         "colorscale": [
          [
           0,
           "#0d0887"
          ],
          [
           0.1111111111111111,
           "#46039f"
          ],
          [
           0.2222222222222222,
           "#7201a8"
          ],
          [
           0.3333333333333333,
           "#9c179e"
          ],
          [
           0.4444444444444444,
           "#bd3786"
          ],
          [
           0.5555555555555556,
           "#d8576b"
          ],
          [
           0.6666666666666666,
           "#ed7953"
          ],
          [
           0.7777777777777778,
           "#fb9f3a"
          ],
          [
           0.8888888888888888,
           "#fdca26"
          ],
          [
           1,
           "#f0f921"
          ]
         ]
        },
        "legend": {
         "itemsizing": "constant",
         "tracegroupgap": 0
        },
        "scene": {
         "domain": {
          "x": [
           0,
           1
          ],
          "y": [
           0,
           1
          ]
         },
         "xaxis": {
          "title": {
           "text": "x"
          }
         },
         "yaxis": {
          "title": {
           "text": "y"
          }
         },
         "zaxis": {
          "title": {
           "text": "z"
          }
         }
        },
        "template": {
         "data": {
          "bar": [
           {
            "error_x": {
             "color": "#2a3f5f"
            },
            "error_y": {
             "color": "#2a3f5f"
            },
            "marker": {
             "line": {
              "color": "#E5ECF6",
              "width": 0.5
             }
            },
            "type": "bar"
           }
          ],
          "barpolar": [
           {
            "marker": {
             "line": {
              "color": "#E5ECF6",
              "width": 0.5
             }
            },
            "type": "barpolar"
           }
          ],
          "carpet": [
           {
            "aaxis": {
             "endlinecolor": "#2a3f5f",
             "gridcolor": "white",
             "linecolor": "white",
             "minorgridcolor": "white",
             "startlinecolor": "#2a3f5f"
            },
            "baxis": {
             "endlinecolor": "#2a3f5f",
             "gridcolor": "white",
             "linecolor": "white",
             "minorgridcolor": "white",
             "startlinecolor": "#2a3f5f"
            },
            "type": "carpet"
           }
          ],
          "choropleth": [
           {
            "colorbar": {
             "outlinewidth": 0,
             "ticks": ""
            },
            "type": "choropleth"
           }
          ],
          "contour": [
           {
            "colorbar": {
             "outlinewidth": 0,
             "ticks": ""
            },
            "colorscale": [
             [
              0,
              "#0d0887"
             ],
             [
              0.1111111111111111,
              "#46039f"
             ],
             [
              0.2222222222222222,
              "#7201a8"
             ],
             [
              0.3333333333333333,
              "#9c179e"
             ],
             [
              0.4444444444444444,
              "#bd3786"
             ],
             [
              0.5555555555555556,
              "#d8576b"
             ],
             [
              0.6666666666666666,
              "#ed7953"
             ],
             [
              0.7777777777777778,
              "#fb9f3a"
             ],
             [
              0.8888888888888888,
              "#fdca26"
             ],
             [
              1,
              "#f0f921"
             ]
            ],
            "type": "contour"
           }
          ],
          "contourcarpet": [
           {
            "colorbar": {
             "outlinewidth": 0,
             "ticks": ""
            },
            "type": "contourcarpet"
           }
          ],
          "heatmap": [
           {
            "colorbar": {
             "outlinewidth": 0,
             "ticks": ""
            },
            "colorscale": [
             [
              0,
              "#0d0887"
             ],
             [
              0.1111111111111111,
              "#46039f"
             ],
             [
              0.2222222222222222,
              "#7201a8"
             ],
             [
              0.3333333333333333,
              "#9c179e"
             ],
             [
              0.4444444444444444,
              "#bd3786"
             ],
             [
              0.5555555555555556,
              "#d8576b"
             ],
             [
              0.6666666666666666,
              "#ed7953"
             ],
             [
              0.7777777777777778,
              "#fb9f3a"
             ],
             [
              0.8888888888888888,
              "#fdca26"
             ],
             [
              1,
              "#f0f921"
             ]
            ],
            "type": "heatmap"
           }
          ],
          "heatmapgl": [
           {
            "colorbar": {
             "outlinewidth": 0,
             "ticks": ""
            },
            "colorscale": [
             [
              0,
              "#0d0887"
             ],
             [
              0.1111111111111111,
              "#46039f"
             ],
             [
              0.2222222222222222,
              "#7201a8"
             ],
             [
              0.3333333333333333,
              "#9c179e"
             ],
             [
              0.4444444444444444,
              "#bd3786"
             ],
             [
              0.5555555555555556,
              "#d8576b"
             ],
             [
              0.6666666666666666,
              "#ed7953"
             ],
             [
              0.7777777777777778,
              "#fb9f3a"
             ],
             [
              0.8888888888888888,
              "#fdca26"
             ],
             [
              1,
              "#f0f921"
             ]
            ],
            "type": "heatmapgl"
           }
          ],
          "histogram": [
           {
            "marker": {
             "colorbar": {
              "outlinewidth": 0,
              "ticks": ""
             }
            },
            "type": "histogram"
           }
          ],
          "histogram2d": [
           {
            "colorbar": {
             "outlinewidth": 0,
             "ticks": ""
            },
            "colorscale": [
             [
              0,
              "#0d0887"
             ],
             [
              0.1111111111111111,
              "#46039f"
             ],
             [
              0.2222222222222222,
              "#7201a8"
             ],
             [
              0.3333333333333333,
              "#9c179e"
             ],
             [
              0.4444444444444444,
              "#bd3786"
             ],
             [
              0.5555555555555556,
              "#d8576b"
             ],
             [
              0.6666666666666666,
              "#ed7953"
             ],
             [
              0.7777777777777778,
              "#fb9f3a"
             ],
             [
              0.8888888888888888,
              "#fdca26"
             ],
             [
              1,
              "#f0f921"
             ]
            ],
            "type": "histogram2d"
           }
          ],
          "histogram2dcontour": [
           {
            "colorbar": {
             "outlinewidth": 0,
             "ticks": ""
            },
            "colorscale": [
             [
              0,
              "#0d0887"
             ],
             [
              0.1111111111111111,
              "#46039f"
             ],
             [
              0.2222222222222222,
              "#7201a8"
             ],
             [
              0.3333333333333333,
              "#9c179e"
             ],
             [
              0.4444444444444444,
              "#bd3786"
             ],
             [
              0.5555555555555556,
              "#d8576b"
             ],
             [
              0.6666666666666666,
              "#ed7953"
             ],
             [
              0.7777777777777778,
              "#fb9f3a"
             ],
             [
              0.8888888888888888,
              "#fdca26"
             ],
             [
              1,
              "#f0f921"
             ]
            ],
            "type": "histogram2dcontour"
           }
          ],
          "mesh3d": [
           {
            "colorbar": {
             "outlinewidth": 0,
             "ticks": ""
            },
            "type": "mesh3d"
           }
          ],
          "parcoords": [
           {
            "line": {
             "colorbar": {
              "outlinewidth": 0,
              "ticks": ""
             }
            },
            "type": "parcoords"
           }
          ],
          "pie": [
           {
            "automargin": true,
            "type": "pie"
           }
          ],
          "scatter": [
           {
            "marker": {
             "colorbar": {
              "outlinewidth": 0,
              "ticks": ""
             }
            },
            "type": "scatter"
           }
          ],
          "scatter3d": [
           {
            "line": {
             "colorbar": {
              "outlinewidth": 0,
              "ticks": ""
             }
            },
            "marker": {
             "colorbar": {
              "outlinewidth": 0,
              "ticks": ""
             }
            },
            "type": "scatter3d"
           }
          ],
          "scattercarpet": [
           {
            "marker": {
             "colorbar": {
              "outlinewidth": 0,
              "ticks": ""
             }
            },
            "type": "scattercarpet"
           }
          ],
          "scattergeo": [
           {
            "marker": {
             "colorbar": {
              "outlinewidth": 0,
              "ticks": ""
             }
            },
            "type": "scattergeo"
           }
          ],
          "scattergl": [
           {
            "marker": {
             "colorbar": {
              "outlinewidth": 0,
              "ticks": ""
             }
            },
            "type": "scattergl"
           }
          ],
          "scattermapbox": [
           {
            "marker": {
             "colorbar": {
              "outlinewidth": 0,
              "ticks": ""
             }
            },
            "type": "scattermapbox"
           }
          ],
          "scatterpolar": [
           {
            "marker": {
             "colorbar": {
              "outlinewidth": 0,
              "ticks": ""
             }
            },
            "type": "scatterpolar"
           }
          ],
          "scatterpolargl": [
           {
            "marker": {
             "colorbar": {
              "outlinewidth": 0,
              "ticks": ""
             }
            },
            "type": "scatterpolargl"
           }
          ],
          "scatterternary": [
           {
            "marker": {
             "colorbar": {
              "outlinewidth": 0,
              "ticks": ""
             }
            },
            "type": "scatterternary"
           }
          ],
          "surface": [
           {
            "colorbar": {
             "outlinewidth": 0,
             "ticks": ""
            },
            "colorscale": [
             [
              0,
              "#0d0887"
             ],
             [
              0.1111111111111111,
              "#46039f"
             ],
             [
              0.2222222222222222,
              "#7201a8"
             ],
             [
              0.3333333333333333,
              "#9c179e"
             ],
             [
              0.4444444444444444,
              "#bd3786"
             ],
             [
              0.5555555555555556,
              "#d8576b"
             ],
             [
              0.6666666666666666,
              "#ed7953"
             ],
             [
              0.7777777777777778,
              "#fb9f3a"
             ],
             [
              0.8888888888888888,
              "#fdca26"
             ],
             [
              1,
              "#f0f921"
             ]
            ],
            "type": "surface"
           }
          ],
          "table": [
           {
            "cells": {
             "fill": {
              "color": "#EBF0F8"
             },
             "line": {
              "color": "white"
             }
            },
            "header": {
             "fill": {
              "color": "#C8D4E3"
             },
             "line": {
              "color": "white"
             }
            },
            "type": "table"
           }
          ]
         },
         "layout": {
          "annotationdefaults": {
           "arrowcolor": "#2a3f5f",
           "arrowhead": 0,
           "arrowwidth": 1
          },
          "coloraxis": {
           "colorbar": {
            "outlinewidth": 0,
            "ticks": ""
           }
          },
          "colorscale": {
           "diverging": [
            [
             0,
             "#8e0152"
            ],
            [
             0.1,
             "#c51b7d"
            ],
            [
             0.2,
             "#de77ae"
            ],
            [
             0.3,
             "#f1b6da"
            ],
            [
             0.4,
             "#fde0ef"
            ],
            [
             0.5,
             "#f7f7f7"
            ],
            [
             0.6,
             "#e6f5d0"
            ],
            [
             0.7,
             "#b8e186"
            ],
            [
             0.8,
             "#7fbc41"
            ],
            [
             0.9,
             "#4d9221"
            ],
            [
             1,
             "#276419"
            ]
           ],
           "sequential": [
            [
             0,
             "#0d0887"
            ],
            [
             0.1111111111111111,
             "#46039f"
            ],
            [
             0.2222222222222222,
             "#7201a8"
            ],
            [
             0.3333333333333333,
             "#9c179e"
            ],
            [
             0.4444444444444444,
             "#bd3786"
            ],
            [
             0.5555555555555556,
             "#d8576b"
            ],
            [
             0.6666666666666666,
             "#ed7953"
            ],
            [
             0.7777777777777778,
             "#fb9f3a"
            ],
            [
             0.8888888888888888,
             "#fdca26"
            ],
            [
             1,
             "#f0f921"
            ]
           ],
           "sequentialminus": [
            [
             0,
             "#0d0887"
            ],
            [
             0.1111111111111111,
             "#46039f"
            ],
            [
             0.2222222222222222,
             "#7201a8"
            ],
            [
             0.3333333333333333,
             "#9c179e"
            ],
            [
             0.4444444444444444,
             "#bd3786"
            ],
            [
             0.5555555555555556,
             "#d8576b"
            ],
            [
             0.6666666666666666,
             "#ed7953"
            ],
            [
             0.7777777777777778,
             "#fb9f3a"
            ],
            [
             0.8888888888888888,
             "#fdca26"
            ],
            [
             1,
             "#f0f921"
            ]
           ]
          },
          "colorway": [
           "#636efa",
           "#EF553B",
           "#00cc96",
           "#ab63fa",
           "#FFA15A",
           "#19d3f3",
           "#FF6692",
           "#B6E880",
           "#FF97FF",
           "#FECB52"
          ],
          "font": {
           "color": "#2a3f5f"
          },
          "geo": {
           "bgcolor": "white",
           "lakecolor": "white",
           "landcolor": "#E5ECF6",
           "showlakes": true,
           "showland": true,
           "subunitcolor": "white"
          },
          "hoverlabel": {
           "align": "left"
          },
          "hovermode": "closest",
          "mapbox": {
           "style": "light"
          },
          "paper_bgcolor": "white",
          "plot_bgcolor": "#E5ECF6",
          "polar": {
           "angularaxis": {
            "gridcolor": "white",
            "linecolor": "white",
            "ticks": ""
           },
           "bgcolor": "#E5ECF6",
           "radialaxis": {
            "gridcolor": "white",
            "linecolor": "white",
            "ticks": ""
           }
          },
          "scene": {
           "xaxis": {
            "backgroundcolor": "#E5ECF6",
            "gridcolor": "white",
            "gridwidth": 2,
            "linecolor": "white",
            "showbackground": true,
            "ticks": "",
            "zerolinecolor": "white"
           },
           "yaxis": {
            "backgroundcolor": "#E5ECF6",
            "gridcolor": "white",
            "gridwidth": 2,
            "linecolor": "white",
            "showbackground": true,
            "ticks": "",
            "zerolinecolor": "white"
           },
           "zaxis": {
            "backgroundcolor": "#E5ECF6",
            "gridcolor": "white",
            "gridwidth": 2,
            "linecolor": "white",
            "showbackground": true,
            "ticks": "",
            "zerolinecolor": "white"
           }
          },
          "shapedefaults": {
           "line": {
            "color": "#2a3f5f"
           }
          },
          "ternary": {
           "aaxis": {
            "gridcolor": "white",
            "linecolor": "white",
            "ticks": ""
           },
           "baxis": {
            "gridcolor": "white",
            "linecolor": "white",
            "ticks": ""
           },
           "bgcolor": "#E5ECF6",
           "caxis": {
            "gridcolor": "white",
            "linecolor": "white",
            "ticks": ""
           }
          },
          "title": {
           "x": 0.05
          },
          "xaxis": {
           "automargin": true,
           "gridcolor": "white",
           "linecolor": "white",
           "ticks": "",
           "title": {
            "standoff": 15
           },
           "zerolinecolor": "white",
           "zerolinewidth": 2
          },
          "yaxis": {
           "automargin": true,
           "gridcolor": "white",
           "linecolor": "white",
           "ticks": "",
           "title": {
            "standoff": 15
           },
           "zerolinecolor": "white",
           "zerolinewidth": 2
          }
         }
        },
        "title": {
         "text": "Cluster para -8.5 (kcal/mol) com o Luteoin na PLPro de SARS-CoV-2"
        }
       }
      },
      "text/html": [
       "<div>                            <div id=\"7696b7d2-5da2-4d6e-8dbb-c76913204699\" class=\"plotly-graph-div\" style=\"height:525px; width:100%;\"></div>            <script type=\"text/javascript\">                require([\"plotly\"], function(Plotly) {                    window.PLOTLYENV=window.PLOTLYENV || {};                                    if (document.getElementById(\"7696b7d2-5da2-4d6e-8dbb-c76913204699\")) {                    Plotly.newPlot(                        \"7696b7d2-5da2-4d6e-8dbb-c76913204699\",                        [{\"hovertemplate\": \"x=%{x}<br>y=%{y}<br>z=%{z}<br>size=%{marker.size}<br>Cluster=%{marker.color}<extra></extra>\", \"legendgroup\": \"\", \"marker\": {\"color\": [-1, 0, -1, 1, -1, 0, 0, 0, 1, 1, 1, 0, 0], \"coloraxis\": \"coloraxis\", \"size\": [9.072791734335326e+23, 6.7563246018964e+23, 9.072791734335326e+23, 6.7563246018964e+23, 1.2142500774027192e+24, 1.6197394856155016e+24, 1.2142500774027192e+24, 1.6197394856155016e+24, 9.072791734335326e+23, 9.072791734335326e+23, 9.072791734335326e+23, 5.0139800972460434e+23, 5.0139800972460434e+23], \"sizemode\": \"area\", \"sizeref\": 4.049348714038754e+21, \"symbol\": \"circle\"}, \"mode\": \"markers\", \"name\": \"\", \"scene\": \"scene\", \"showlegend\": false, \"type\": \"scatter3d\", \"x\": [45.700641590342315, 57.138952901774324, 45.803475211736526, 55.78854149760517, 45.78648642528941, 60.48576860111047, 57.437527027570205, 60.46478401372554, 55.785433862416625, 55.82540142216257, 55.823329688666135, 66.42648720165965, 66.39854562207212], \"y\": [47.61245225667004, 23.50821515232826, 47.742406664834384, 40.65175078768628, 47.64440488830807, 23.419552291831202, 23.533291682735435, 23.426755955762832, 40.58757931089175, 40.61985616184134, 40.6340804064646, 24.36036854556233, 24.364657417576748], \"z\": [-8.010812922653754, 16.47568487769091, -8.11613924149641, 28.50691837611156, -8.122137303467705, 18.576984269087614, 16.284491641526973, 18.55564948223275, 28.424746344922042, 28.45755599407439, 28.470034893931675, 16.284162254138867, 16.2931953404025]}],                        {\"coloraxis\": {\"colorbar\": {\"title\": {\"text\": \"Cluster\"}}, \"colorscale\": [[0.0, \"#0d0887\"], [0.1111111111111111, \"#46039f\"], [0.2222222222222222, \"#7201a8\"], [0.3333333333333333, \"#9c179e\"], [0.4444444444444444, \"#bd3786\"], [0.5555555555555556, \"#d8576b\"], [0.6666666666666666, \"#ed7953\"], [0.7777777777777778, \"#fb9f3a\"], [0.8888888888888888, \"#fdca26\"], [1.0, \"#f0f921\"]]}, \"legend\": {\"itemsizing\": \"constant\", \"tracegroupgap\": 0}, \"scene\": {\"domain\": {\"x\": [0.0, 1.0], \"y\": [0.0, 1.0]}, \"xaxis\": {\"title\": {\"text\": \"x\"}}, \"yaxis\": {\"title\": {\"text\": \"y\"}}, \"zaxis\": {\"title\": {\"text\": \"z\"}}}, \"template\": {\"data\": {\"bar\": [{\"error_x\": {\"color\": \"#2a3f5f\"}, \"error_y\": {\"color\": \"#2a3f5f\"}, \"marker\": {\"line\": {\"color\": \"#E5ECF6\", \"width\": 0.5}}, \"type\": \"bar\"}], \"barpolar\": [{\"marker\": {\"line\": {\"color\": \"#E5ECF6\", \"width\": 0.5}}, \"type\": \"barpolar\"}], \"carpet\": [{\"aaxis\": {\"endlinecolor\": \"#2a3f5f\", \"gridcolor\": \"white\", \"linecolor\": \"white\", \"minorgridcolor\": \"white\", \"startlinecolor\": \"#2a3f5f\"}, \"baxis\": {\"endlinecolor\": \"#2a3f5f\", \"gridcolor\": \"white\", \"linecolor\": \"white\", \"minorgridcolor\": \"white\", \"startlinecolor\": \"#2a3f5f\"}, \"type\": \"carpet\"}], \"choropleth\": [{\"colorbar\": {\"outlinewidth\": 0, \"ticks\": \"\"}, \"type\": \"choropleth\"}], \"contour\": [{\"colorbar\": {\"outlinewidth\": 0, \"ticks\": \"\"}, \"colorscale\": [[0.0, \"#0d0887\"], [0.1111111111111111, \"#46039f\"], [0.2222222222222222, \"#7201a8\"], [0.3333333333333333, \"#9c179e\"], [0.4444444444444444, \"#bd3786\"], [0.5555555555555556, \"#d8576b\"], [0.6666666666666666, \"#ed7953\"], [0.7777777777777778, \"#fb9f3a\"], [0.8888888888888888, \"#fdca26\"], [1.0, \"#f0f921\"]], \"type\": \"contour\"}], \"contourcarpet\": [{\"colorbar\": {\"outlinewidth\": 0, \"ticks\": \"\"}, \"type\": \"contourcarpet\"}], \"heatmap\": [{\"colorbar\": {\"outlinewidth\": 0, \"ticks\": \"\"}, \"colorscale\": [[0.0, \"#0d0887\"], [0.1111111111111111, \"#46039f\"], [0.2222222222222222, \"#7201a8\"], [0.3333333333333333, \"#9c179e\"], [0.4444444444444444, \"#bd3786\"], [0.5555555555555556, \"#d8576b\"], [0.6666666666666666, \"#ed7953\"], [0.7777777777777778, \"#fb9f3a\"], [0.8888888888888888, \"#fdca26\"], [1.0, \"#f0f921\"]], \"type\": \"heatmap\"}], \"heatmapgl\": [{\"colorbar\": {\"outlinewidth\": 0, \"ticks\": \"\"}, \"colorscale\": [[0.0, \"#0d0887\"], [0.1111111111111111, \"#46039f\"], [0.2222222222222222, \"#7201a8\"], [0.3333333333333333, \"#9c179e\"], [0.4444444444444444, \"#bd3786\"], [0.5555555555555556, \"#d8576b\"], [0.6666666666666666, \"#ed7953\"], [0.7777777777777778, \"#fb9f3a\"], [0.8888888888888888, \"#fdca26\"], [1.0, \"#f0f921\"]], \"type\": \"heatmapgl\"}], \"histogram\": [{\"marker\": {\"colorbar\": {\"outlinewidth\": 0, \"ticks\": \"\"}}, \"type\": \"histogram\"}], \"histogram2d\": [{\"colorbar\": {\"outlinewidth\": 0, \"ticks\": \"\"}, \"colorscale\": [[0.0, \"#0d0887\"], [0.1111111111111111, \"#46039f\"], [0.2222222222222222, \"#7201a8\"], [0.3333333333333333, \"#9c179e\"], [0.4444444444444444, \"#bd3786\"], [0.5555555555555556, \"#d8576b\"], [0.6666666666666666, \"#ed7953\"], [0.7777777777777778, \"#fb9f3a\"], [0.8888888888888888, \"#fdca26\"], [1.0, \"#f0f921\"]], \"type\": \"histogram2d\"}], \"histogram2dcontour\": [{\"colorbar\": {\"outlinewidth\": 0, \"ticks\": \"\"}, \"colorscale\": [[0.0, \"#0d0887\"], [0.1111111111111111, \"#46039f\"], [0.2222222222222222, \"#7201a8\"], [0.3333333333333333, \"#9c179e\"], [0.4444444444444444, \"#bd3786\"], [0.5555555555555556, \"#d8576b\"], [0.6666666666666666, \"#ed7953\"], [0.7777777777777778, \"#fb9f3a\"], [0.8888888888888888, \"#fdca26\"], [1.0, \"#f0f921\"]], \"type\": \"histogram2dcontour\"}], \"mesh3d\": [{\"colorbar\": {\"outlinewidth\": 0, \"ticks\": \"\"}, \"type\": \"mesh3d\"}], \"parcoords\": [{\"line\": {\"colorbar\": {\"outlinewidth\": 0, \"ticks\": \"\"}}, \"type\": \"parcoords\"}], \"pie\": [{\"automargin\": true, \"type\": \"pie\"}], \"scatter\": [{\"marker\": {\"colorbar\": {\"outlinewidth\": 0, \"ticks\": \"\"}}, \"type\": \"scatter\"}], \"scatter3d\": [{\"line\": {\"colorbar\": {\"outlinewidth\": 0, \"ticks\": \"\"}}, \"marker\": {\"colorbar\": {\"outlinewidth\": 0, \"ticks\": \"\"}}, \"type\": \"scatter3d\"}], \"scattercarpet\": [{\"marker\": {\"colorbar\": {\"outlinewidth\": 0, \"ticks\": \"\"}}, \"type\": \"scattercarpet\"}], \"scattergeo\": [{\"marker\": {\"colorbar\": {\"outlinewidth\": 0, \"ticks\": \"\"}}, \"type\": \"scattergeo\"}], \"scattergl\": [{\"marker\": {\"colorbar\": {\"outlinewidth\": 0, \"ticks\": \"\"}}, \"type\": \"scattergl\"}], \"scattermapbox\": [{\"marker\": {\"colorbar\": {\"outlinewidth\": 0, \"ticks\": \"\"}}, \"type\": \"scattermapbox\"}], \"scatterpolar\": [{\"marker\": {\"colorbar\": {\"outlinewidth\": 0, \"ticks\": \"\"}}, \"type\": \"scatterpolar\"}], \"scatterpolargl\": [{\"marker\": {\"colorbar\": {\"outlinewidth\": 0, \"ticks\": \"\"}}, \"type\": \"scatterpolargl\"}], \"scatterternary\": [{\"marker\": {\"colorbar\": {\"outlinewidth\": 0, \"ticks\": \"\"}}, \"type\": \"scatterternary\"}], \"surface\": [{\"colorbar\": {\"outlinewidth\": 0, \"ticks\": \"\"}, \"colorscale\": [[0.0, \"#0d0887\"], [0.1111111111111111, \"#46039f\"], [0.2222222222222222, \"#7201a8\"], [0.3333333333333333, \"#9c179e\"], [0.4444444444444444, \"#bd3786\"], [0.5555555555555556, \"#d8576b\"], [0.6666666666666666, \"#ed7953\"], [0.7777777777777778, \"#fb9f3a\"], [0.8888888888888888, \"#fdca26\"], [1.0, \"#f0f921\"]], \"type\": \"surface\"}], \"table\": [{\"cells\": {\"fill\": {\"color\": \"#EBF0F8\"}, \"line\": {\"color\": \"white\"}}, \"header\": {\"fill\": {\"color\": \"#C8D4E3\"}, \"line\": {\"color\": \"white\"}}, \"type\": \"table\"}]}, \"layout\": {\"annotationdefaults\": {\"arrowcolor\": \"#2a3f5f\", \"arrowhead\": 0, \"arrowwidth\": 1}, \"coloraxis\": {\"colorbar\": {\"outlinewidth\": 0, \"ticks\": \"\"}}, \"colorscale\": {\"diverging\": [[0, \"#8e0152\"], [0.1, \"#c51b7d\"], [0.2, \"#de77ae\"], [0.3, \"#f1b6da\"], [0.4, \"#fde0ef\"], [0.5, \"#f7f7f7\"], [0.6, \"#e6f5d0\"], [0.7, \"#b8e186\"], [0.8, \"#7fbc41\"], [0.9, \"#4d9221\"], [1, \"#276419\"]], \"sequential\": [[0.0, \"#0d0887\"], [0.1111111111111111, \"#46039f\"], [0.2222222222222222, \"#7201a8\"], [0.3333333333333333, \"#9c179e\"], [0.4444444444444444, \"#bd3786\"], [0.5555555555555556, \"#d8576b\"], [0.6666666666666666, \"#ed7953\"], [0.7777777777777778, \"#fb9f3a\"], [0.8888888888888888, \"#fdca26\"], [1.0, \"#f0f921\"]], \"sequentialminus\": [[0.0, \"#0d0887\"], [0.1111111111111111, \"#46039f\"], [0.2222222222222222, \"#7201a8\"], [0.3333333333333333, \"#9c179e\"], [0.4444444444444444, \"#bd3786\"], [0.5555555555555556, \"#d8576b\"], [0.6666666666666666, \"#ed7953\"], [0.7777777777777778, \"#fb9f3a\"], [0.8888888888888888, \"#fdca26\"], [1.0, \"#f0f921\"]]}, \"colorway\": [\"#636efa\", \"#EF553B\", \"#00cc96\", \"#ab63fa\", \"#FFA15A\", \"#19d3f3\", \"#FF6692\", \"#B6E880\", \"#FF97FF\", \"#FECB52\"], \"font\": {\"color\": \"#2a3f5f\"}, \"geo\": {\"bgcolor\": \"white\", \"lakecolor\": \"white\", \"landcolor\": \"#E5ECF6\", \"showlakes\": true, \"showland\": true, \"subunitcolor\": \"white\"}, \"hoverlabel\": {\"align\": \"left\"}, \"hovermode\": \"closest\", \"mapbox\": {\"style\": \"light\"}, \"paper_bgcolor\": \"white\", \"plot_bgcolor\": \"#E5ECF6\", \"polar\": {\"angularaxis\": {\"gridcolor\": \"white\", \"linecolor\": \"white\", \"ticks\": \"\"}, \"bgcolor\": \"#E5ECF6\", \"radialaxis\": {\"gridcolor\": \"white\", \"linecolor\": \"white\", \"ticks\": \"\"}}, \"scene\": {\"xaxis\": {\"backgroundcolor\": \"#E5ECF6\", \"gridcolor\": \"white\", \"gridwidth\": 2, \"linecolor\": \"white\", \"showbackground\": true, \"ticks\": \"\", \"zerolinecolor\": \"white\"}, \"yaxis\": {\"backgroundcolor\": \"#E5ECF6\", \"gridcolor\": \"white\", \"gridwidth\": 2, \"linecolor\": \"white\", \"showbackground\": true, \"ticks\": \"\", \"zerolinecolor\": \"white\"}, \"zaxis\": {\"backgroundcolor\": \"#E5ECF6\", \"gridcolor\": \"white\", \"gridwidth\": 2, \"linecolor\": \"white\", \"showbackground\": true, \"ticks\": \"\", \"zerolinecolor\": \"white\"}}, \"shapedefaults\": {\"line\": {\"color\": \"#2a3f5f\"}}, \"ternary\": {\"aaxis\": {\"gridcolor\": \"white\", \"linecolor\": \"white\", \"ticks\": \"\"}, \"baxis\": {\"gridcolor\": \"white\", \"linecolor\": \"white\", \"ticks\": \"\"}, \"bgcolor\": \"#E5ECF6\", \"caxis\": {\"gridcolor\": \"white\", \"linecolor\": \"white\", \"ticks\": \"\"}}, \"title\": {\"x\": 0.05}, \"xaxis\": {\"automargin\": true, \"gridcolor\": \"white\", \"linecolor\": \"white\", \"ticks\": \"\", \"title\": {\"standoff\": 15}, \"zerolinecolor\": \"white\", \"zerolinewidth\": 2}, \"yaxis\": {\"automargin\": true, \"gridcolor\": \"white\", \"linecolor\": \"white\", \"ticks\": \"\", \"title\": {\"standoff\": 15}, \"zerolinecolor\": \"white\", \"zerolinewidth\": 2}}}, \"title\": {\"text\": \"Cluster para -8.5 (kcal/mol) com o Luteoin na PLPro de SARS-CoV-2\"}},                        {\"responsive\": true}                    ).then(function(){\n",
       "                            \n",
       "var gd = document.getElementById('7696b7d2-5da2-4d6e-8dbb-c76913204699');\n",
       "var x = new MutationObserver(function (mutations, observer) {{\n",
       "        var display = window.getComputedStyle(gd).display;\n",
       "        if (!display || display === 'none') {{\n",
       "            console.log([gd, 'removed!']);\n",
       "            Plotly.purge(gd);\n",
       "            observer.disconnect();\n",
       "        }}\n",
       "}});\n",
       "\n",
       "// Listen for the removal of the full notebook cells\n",
       "var notebookContainer = gd.closest('#notebook-container');\n",
       "if (notebookContainer) {{\n",
       "    x.observe(notebookContainer, {childList: true});\n",
       "}}\n",
       "\n",
       "// Listen for the clearing of the current output cell\n",
       "var outputEl = gd.closest('.output');\n",
       "if (outputEl) {{\n",
       "    x.observe(outputEl, {childList: true});\n",
       "}}\n",
       "\n",
       "                        })                };                });            </script>        </div>"
      ]
     },
     "metadata": {},
     "output_type": "display_data"
    },
    {
     "name": "stdout",
     "output_type": "stream",
     "text": [
      "\n",
      "\n",
      "Para energia de -8.5 kcal/mol\n",
      "              mean  median       std  Ocupação %\n",
      "Cluster                                        \n",
      "-1      -8.733333    -8.7  0.057735   23.165340\n",
      " 0      -8.700000    -8.7  0.189737   46.153846\n",
      " 1      -8.675000    -8.7  0.050000   30.680813\n"
     ]
    },
    {
     "data": {
      "image/png": "[encoded data removed]",
      "text/plain": [
       "<Figure size 432x288 with 1 Axes>"
      ]
     },
     "metadata": {
      "needs_background": "light"
     },
     "output_type": "display_data"
    },
    {
     "data": {
      "image/png": "[encoded data removed]",
      "text/plain": [
       "<Figure size 432x288 with 1 Axes>"
      ]
     },
     "metadata": {
      "needs_background": "light"
     },
     "output_type": "display_data"
    },
    {
     "data": {
      "image/png": "[encoded data removed]",
      "text/plain": [
       "<Figure size 432x288 with 1 Axes>"
      ]
     },
     "metadata": {
      "needs_background": "light"
     },
     "output_type": "display_data"
    },
    {
     "data": {
      "image/png": "[encoded data removed]",
      "text/plain": [
       "<Figure size 432x288 with 1 Axes>"
      ]
     },
     "metadata": {
      "needs_background": "light"
     },
     "output_type": "display_data"
    }
   ],
   "source": [
    "valores_busca = [-6.5, -7.5, -8.0, -8.5]\n",
    "for i in valores_busca:\n",
    "    #CLUSTERIZACAO\n",
    "    clustering = DBSCAN(eps= 12, min_samples = 4).fit(df[df['Energy'] <= i].drop(['RMSD', 'Energy'], axis=1))\n",
    "    df_p = df[df['Energy'] <= i].copy()\n",
    "    df_p['Cluster'] = clustering.labels_\n",
    "    \n",
    "    #IMPLEMENTAR A MÉDIA DO RMSD TAMBÉM!!!\n",
    "    pc = df_p[['Cluster', 'Energy', 'RMSD']].groupby(by=['Cluster']).agg([np.mean, np.median, np.std, np.sum])['Energy']\n",
    "    pc['Ocupação %'] = pc['sum'].apply(lambda x: abs(x/ pc['sum'].sum() *100))\n",
    "    pc = pc.drop('sum', axis=1)\n",
    "    \n",
    "    siz = df_p.apply(abs).apply(lambda x: x**(abs(i) * 3) )['Energy']\n",
    "    fig = px.scatter_3d(df_p, x = 'x',  y = 'y',  z = 'z', color = 'Cluster', size=siz, title=f'Cluster para {i} (kcal/mol) com o Luteoin na PLPro de SARS-CoV-2')\n",
    "    fig.show()\n",
    "    print(f'\\n\\nPara energia de {i} kcal/mol\\n', pc)\n",
    "    \n",
    "    \n",
    "    #Gráficos\n",
    "    sns.violinplot(x='Cluster', y='Energy', data=df_p, palette=\"colorblind\", split=True, inner=\"stick\")\n",
    "    plt.show()\n",
    "    sns.violinplot(x='Cluster', y='RMSD', data=df_p, palette=\"colorblind\", split=True, inner=\"stick\")\n",
    "    plt.show()\n",
    "    sns.boxenplot(x='Cluster', y='Energy', data=df_p, palette=\"colorblind\")\n",
    "    sns.swarmplot(x='Cluster', y='Energy', data=df_p, color='.3')\n",
    "    plt.show()\n",
    "    sns.boxenplot(x='Cluster', y='RMSD', data=df_p, palette=\"colorblind\")\n",
    "    sns.swarmplot(x='Cluster', y='RMSD', data=df_p, color='.3')\n",
    "    plt.show()"
   ]
  },
  {
   "cell_type": "code",
   "execution_count": null,
   "metadata": {},
   "outputs": [],
   "source": []
  }
 ],
 "metadata": {
  "kernelspec": {
   "display_name": "Python 3",
   "language": "python",
   "name": "python3"
  },
  "language_info": {
   "codemirror_mode": {
    "name": "ipython",
    "version": 3
   },
   "file_extension": ".py",
   "mimetype": "text/x-python",
   "name": "python",
   "nbconvert_exporter": "python",
   "pygments_lexer": "ipython3",
   "version": "3.8.3"
  }
 },
 "nbformat": 4,
 "nbformat_minor": 4
}
