{
 "cells": [
  {
   "cell_type": "markdown",
   "metadata": {},
   "source": [
    "__Análise Resultados de Docking do PLPro Sars-Cov-2 com Luteolin no Autodock Vina.__"
   ]
  },
  {
   "cell_type": "markdown",
   "metadata": {},
   "source": [
    "Notebook de exemplo para análise das posições de docking com Autodock Vina. \n",
    "\n",
    "Dúvidas escrever para rafael.pleite@usp.br"
   ]
  },
  {
   "cell_type": "markdown",
   "metadata": {},
   "source": [
    "Importa as bibliotecas necessárias para análise."
   ]
  },
  {
   "cell_type": "code",
   "execution_count": 1,
   "metadata": {},
   "outputs": [],
   "source": [
    "import os\n",
    "import numpy as np\n",
    "import pandas as pd\n",
    "import matplotlib.pyplot as plt\n",
    "import seaborn as sns\n",
    "%matplotlib inline  "
   ]
  },
  {
   "cell_type": "markdown",
   "metadata": {},
   "source": [
    "Diretório com os arquivos de saída da simulação com o Vina.\n",
    "\n",
    "Os arquivos txt precisam ser escritos da seguinte forma \"algo,x_pos,y_pos,z_pos,.txt\", exemplo \"log,0,3,0,.txt\". Onde pos é a posição do centro da caixa."
   ]
  },
  {
   "cell_type": "code",
   "execution_count": 2,
   "metadata": {},
   "outputs": [],
   "source": [
    "diretorio = 'C:\\SARSCOV2\\The Molecular Docking Study of Potential Drug Candidates\\Luteolin\\LuteolinPLpro\\Teste\\Resultado'"
   ]
  },
  {
   "cell_type": "markdown",
   "metadata": {},
   "source": [
    "Lê cada arquivo .txt com os resultados e cria uma lista contendo cada um das posições do centro da caixa e a respectiva melhor energia de ligação."
   ]
  },
  {
   "cell_type": "code",
   "execution_count": 3,
   "metadata": {},
   "outputs": [],
   "source": [
    "posicoes = [[], [], [], []]\n",
    "for root, directories, files in os.walk(diretorio, topdown=False):\n",
    "    for nome in files:\n",
    "        if nome.find('txt') != -1:\n",
    "            f = open(str(diretorio)+ r'\\b'[0]+str(nome),'r')\n",
    "            dados = f.readlines()\n",
    "            posicoes[0].append(nome.split(',')[1])\n",
    "            posicoes[1].append(nome.split(',')[2])\n",
    "            posicoes[2].append(nome.split(',')[3])\n",
    "            posicoes[3].append(float(dados[26].split()[1]))"
   ]
  },
  {
   "cell_type": "markdown",
   "metadata": {},
   "source": [
    "Cria um DataFrame com a lista criada acima."
   ]
  },
  {
   "cell_type": "code",
   "execution_count": 4,
   "metadata": {},
   "outputs": [],
   "source": [
    "df = pd.DataFrame(list(zip(posicoes[3],posicoes[0],posicoes[1],posicoes[2])), \n",
    "                      columns = ['energia (kcal/mol)', 'x_pos', 'y_pos', 'z_pos'])"
   ]
  },
  {
   "cell_type": "markdown",
   "metadata": {},
   "source": [
    "Remove os valores de energia > 0."
   ]
  },
  {
   "cell_type": "code",
   "execution_count": 5,
   "metadata": {},
   "outputs": [],
   "source": [
    "df = df[df['energia (kcal/mol)'] <=0]"
   ]
  },
  {
   "cell_type": "markdown",
   "metadata": {},
   "source": [
    "Apresenta alguns dados de menores energias."
   ]
  },
  {
   "cell_type": "code",
   "execution_count": 6,
   "metadata": {},
   "outputs": [
    {
     "data": {
      "text/html": [
       "<div>\n",
       "<style scoped>\n",
       "    .dataframe tbody tr th:only-of-type {\n",
       "        vertical-align: middle;\n",
       "    }\n",
       "\n",
       "    .dataframe tbody tr th {\n",
       "        vertical-align: top;\n",
       "    }\n",
       "\n",
       "    .dataframe thead th {\n",
       "        text-align: right;\n",
       "    }\n",
       "</style>\n",
       "<table border=\"1\" class=\"dataframe\">\n",
       "  <thead>\n",
       "    <tr style=\"text-align: right;\">\n",
       "      <th></th>\n",
       "      <th>energia (kcal/mol)</th>\n",
       "      <th>x_pos</th>\n",
       "      <th>y_pos</th>\n",
       "      <th>z_pos</th>\n",
       "    </tr>\n",
       "  </thead>\n",
       "  <tbody>\n",
       "    <tr>\n",
       "      <th>98</th>\n",
       "      <td>-8.9</td>\n",
       "      <td>60</td>\n",
       "      <td>23</td>\n",
       "      <td>20</td>\n",
       "    </tr>\n",
       "    <tr>\n",
       "      <th>57</th>\n",
       "      <td>-8.1</td>\n",
       "      <td>20</td>\n",
       "      <td>83</td>\n",
       "      <td>0</td>\n",
       "    </tr>\n",
       "    <tr>\n",
       "      <th>78</th>\n",
       "      <td>-8.0</td>\n",
       "      <td>40</td>\n",
       "      <td>43</td>\n",
       "      <td>20</td>\n",
       "    </tr>\n",
       "    <tr>\n",
       "      <th>108</th>\n",
       "      <td>-7.8</td>\n",
       "      <td>60</td>\n",
       "      <td>43</td>\n",
       "      <td>20</td>\n",
       "    </tr>\n",
       "    <tr>\n",
       "      <th>52</th>\n",
       "      <td>-7.6</td>\n",
       "      <td>20</td>\n",
       "      <td>63</td>\n",
       "      <td>0</td>\n",
       "    </tr>\n",
       "    <tr>\n",
       "      <th>97</th>\n",
       "      <td>-7.5</td>\n",
       "      <td>60</td>\n",
       "      <td>23</td>\n",
       "      <td>0</td>\n",
       "    </tr>\n",
       "    <tr>\n",
       "      <th>82</th>\n",
       "      <td>-7.5</td>\n",
       "      <td>40</td>\n",
       "      <td>63</td>\n",
       "      <td>0</td>\n",
       "    </tr>\n",
       "    <tr>\n",
       "      <th>77</th>\n",
       "      <td>-7.4</td>\n",
       "      <td>40</td>\n",
       "      <td>43</td>\n",
       "      <td>0</td>\n",
       "    </tr>\n",
       "    <tr>\n",
       "      <th>68</th>\n",
       "      <td>-7.3</td>\n",
       "      <td>40</td>\n",
       "      <td>23</td>\n",
       "      <td>20</td>\n",
       "    </tr>\n",
       "    <tr>\n",
       "      <th>109</th>\n",
       "      <td>-7.1</td>\n",
       "      <td>60</td>\n",
       "      <td>43</td>\n",
       "      <td>40</td>\n",
       "    </tr>\n",
       "  </tbody>\n",
       "</table>\n",
       "</div>"
      ],
      "text/plain": [
       "     energia (kcal/mol) x_pos y_pos z_pos\n",
       "98                 -8.9    60    23    20\n",
       "57                 -8.1    20    83     0\n",
       "78                 -8.0    40    43    20\n",
       "108                -7.8    60    43    20\n",
       "52                 -7.6    20    63     0\n",
       "97                 -7.5    60    23     0\n",
       "82                 -7.5    40    63     0\n",
       "77                 -7.4    40    43     0\n",
       "68                 -7.3    40    23    20\n",
       "109                -7.1    60    43    40"
      ]
     },
     "execution_count": 6,
     "metadata": {},
     "output_type": "execute_result"
    }
   ],
   "source": [
    "df.sort_values(by=['energia (kcal/mol)']).head(10)"
   ]
  },
  {
   "cell_type": "markdown",
   "metadata": {},
   "source": [
    "Informações sobre o DataFrame."
   ]
  },
  {
   "cell_type": "code",
   "execution_count": 7,
   "metadata": {},
   "outputs": [
    {
     "name": "stdout",
     "output_type": "stream",
     "text": [
      "<class 'pandas.core.frame.DataFrame'>\n",
      "Int64Index: 150 entries, 0 to 149\n",
      "Data columns (total 4 columns):\n",
      " #   Column              Non-Null Count  Dtype  \n",
      "---  ------              --------------  -----  \n",
      " 0   energia (kcal/mol)  150 non-null    float64\n",
      " 1   x_pos               150 non-null    object \n",
      " 2   y_pos               150 non-null    object \n",
      " 3   z_pos               150 non-null    object \n",
      "dtypes: float64(1), object(3)\n",
      "memory usage: 5.9+ KB\n"
     ]
    }
   ],
   "source": [
    "df.info()"
   ]
  },
  {
   "cell_type": "markdown",
   "metadata": {},
   "source": [
    "__Gráficos__"
   ]
  },
  {
   "cell_type": "markdown",
   "metadata": {},
   "source": [
    "Fique avontade para alterar os parâmetros e ver o que acontece com os gráficos abaixo.\n",
    "\n",
    "Cria Heatmaps xy, xz e yz para vizualização dos resultados."
   ]
  },
  {
   "cell_type": "code",
   "execution_count": 8,
   "metadata": {},
   "outputs": [
    {
     "data": {
      "image/png": "[encoded data removed]",
      "text/plain": [
       "<Figure size 432x288 with 2 Axes>"
      ]
     },
     "metadata": {
      "needs_background": "light"
     },
     "output_type": "display_data"
    }
   ],
   "source": [
    "heat1 = df.pivot_table(index='x_pos', columns='y_pos', values='energia (kcal/mol)')\n",
    "sns.heatmap(heat1, cmap='coolwarm_r', linewidths=0.05)\n",
    "\n",
    "'Para salvar a figura:'\n",
    "plt.savefig('Heatmap_xy.png', dpi=250)"
   ]
  },
  {
   "cell_type": "code",
   "execution_count": 9,
   "metadata": {},
   "outputs": [
    {
     "data": {
      "image/png": "[encoded data removed]",
      "text/plain": [
       "<Figure size 432x288 with 2 Axes>"
      ]
     },
     "metadata": {
      "needs_background": "light"
     },
     "output_type": "display_data"
    }
   ],
   "source": [
    "heat2 = df.pivot_table(index='x_pos', columns='z_pos', values='energia (kcal/mol)')\n",
    "sns.heatmap(heat2, cmap='coolwarm_r', linewidths=0.05)\n",
    "\n",
    "'Para salvar a figura:'\n",
    "plt.savefig('Heatmap_xz.png', dpi=250)"
   ]
  },
  {
   "cell_type": "code",
   "execution_count": 10,
   "metadata": {},
   "outputs": [
    {
     "data": {
      "image/png": "[encoded data removed]",
      "text/plain": [
       "<Figure size 432x288 with 2 Axes>"
      ]
     },
     "metadata": {
      "needs_background": "light"
     },
     "output_type": "display_data"
    }
   ],
   "source": [
    "heat3 = df.pivot_table(index='y_pos', columns='z_pos', values='energia (kcal/mol)')\n",
    "sns.heatmap(heat3, cmap='coolwarm_r', linewidths=0.05)\n",
    "\n",
    "'Para salvar a figura:'\n",
    "plt.savefig('Heatmap_yz.png', dpi=250)"
   ]
  },
  {
   "cell_type": "markdown",
   "metadata": {},
   "source": [
    "Cria gráficos com os pontos do centro das caixa xy, xz, yz para vizualização dos resultados."
   ]
  },
  {
   "cell_type": "code",
   "execution_count": 11,
   "metadata": {},
   "outputs": [
    {
     "data": {
      "image/png": "[encoded data removed]",
      "text/plain": [
       "<Figure size 432x288 with 1 Axes>"
      ]
     },
     "metadata": {
      "needs_background": "light"
     },
     "output_type": "display_data"
    }
   ],
   "source": [
    "scatterxy = sns.scatterplot(data=df,x='x_pos', y='y_pos',hue='energia (kcal/mol)',palette='coolwarm_r')\n",
    "lgd = plt.legend(bbox_to_anchor=(0.4, 0.625, 1., .102), loc='lower right')\n",
    "\n",
    "'Para salvar a figura:'\n",
    "plt.savefig('Scatter_xy.png', bbox_extra_artists=(lgd,), bbox_inches='tight', dpi = 250)"
   ]
  },
  {
   "cell_type": "code",
   "execution_count": 12,
   "metadata": {},
   "outputs": [
    {
     "data": {
      "image/png": "[encoded data removed]",
      "text/plain": [
       "<Figure size 432x288 with 1 Axes>"
      ]
     },
     "metadata": {
      "needs_background": "light"
     },
     "output_type": "display_data"
    }
   ],
   "source": [
    "scatterxy = sns.scatterplot(data=df,x='x_pos', y='z_pos',hue='energia (kcal/mol)',palette='coolwarm_r')\n",
    "lgd = plt.legend(bbox_to_anchor=(0.4, 0.625, 1., .102), loc='lower right')\n",
    "\n",
    "'Para salvar a figura:'\n",
    "plt.savefig('Scatter_xz.png', bbox_extra_artists=(lgd,), bbox_inches='tight', dpi = 250)"
   ]
  },
  {
   "cell_type": "code",
   "execution_count": 13,
   "metadata": {},
   "outputs": [
    {
     "data": {
      "image/png": "[encoded data removed]",
      "text/plain": [
       "<Figure size 432x288 with 1 Axes>"
      ]
     },
     "metadata": {
      "needs_background": "light"
     },
     "output_type": "display_data"
    }
   ],
   "source": [
    "scatterxy = sns.scatterplot(data=df,x='y_pos', y='z_pos',hue='energia (kcal/mol)',palette='coolwarm_r')\n",
    "lgd = plt.legend(bbox_to_anchor=(0.4, 0.625, 1., .102), loc='lower right')\n",
    "\n",
    "'Para salvar a figura:'\n",
    "plt.savefig('Scatter_yz.png', bbox_extra_artists=(lgd,), bbox_inches='tight', dpi = 250)"
   ]
  },
  {
   "cell_type": "markdown",
   "metadata": {},
   "source": [
    "Considero que esse notebook não é o melhor para analisar os dados de Docking, porém para quem está começando ele é uma ótima maneira de encontrar a melhor posição de ligação, pois é bastante intuitivo. Caso queira aproveitar o máximo que seu resultado de docking pode oferecer, ou seja, posições do centro de massa e RMSD e energia, existe outro notebook \"???\" que pode ajudar a realizar esta análise mais profunda."
   ]
  }
 ],
 "metadata": {
  "kernelspec": {
   "display_name": "Python 3",
   "language": "python",
   "name": "python3"
  },
  "language_info": {
   "codemirror_mode": {
    "name": "ipython",
    "version": 3
   },
   "file_extension": ".py",
   "mimetype": "text/x-python",
   "name": "python",
   "nbconvert_exporter": "python",
   "pygments_lexer": "ipython3",
   "version": "3.8.3"
  }
 },
 "nbformat": 4,
 "nbformat_minor": 4
}
