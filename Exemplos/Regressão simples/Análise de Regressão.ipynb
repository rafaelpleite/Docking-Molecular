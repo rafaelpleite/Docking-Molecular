{
 "cells": [
  {
   "cell_type": "markdown",
   "metadata": {},
   "source": [
    "Vamos trabalhar com um projeto de regressão simples por meio da biblioteca Keras. O objetivo vai ser construir um algoritmo que ajuste o valor da energia de acordo com a posição espacial 3-D usando os resultados do docking do Luteoin na proteína PLPro do Sars-Cov-2."
   ]
  },
  {
   "cell_type": "markdown",
   "metadata": {},
   "source": [
    "Começamos tratando os nossos dados."
   ]
  },
  {
   "cell_type": "code",
   "execution_count": 22,
   "metadata": {},
   "outputs": [],
   "source": [
    "import numpy as np\n",
    "import pandas as pd\n",
    "import seaborn as sns\n",
    "import matplotlib.pyplot as plt"
   ]
  },
  {
   "cell_type": "code",
   "execution_count": 26,
   "metadata": {},
   "outputs": [],
   "source": [
    "df = pd.read_csv('dados.csv').drop(['Unnamed: 0', 'RMSD'], axis=1)"
   ]
  },
  {
   "cell_type": "markdown",
   "metadata": {},
   "source": [
    "Nossos dados:"
   ]
  },
  {
   "cell_type": "code",
   "execution_count": 27,
   "metadata": {},
   "outputs": [
    {
     "data": {
      "text/html": [
       "<div>\n",
       "<style scoped>\n",
       "    .dataframe tbody tr th:only-of-type {\n",
       "        vertical-align: middle;\n",
       "    }\n",
       "\n",
       "    .dataframe tbody tr th {\n",
       "        vertical-align: top;\n",
       "    }\n",
       "\n",
       "    .dataframe thead th {\n",
       "        text-align: right;\n",
       "    }\n",
       "</style>\n",
       "<table border=\"1\" class=\"dataframe\">\n",
       "  <thead>\n",
       "    <tr style=\"text-align: right;\">\n",
       "      <th></th>\n",
       "      <th>x</th>\n",
       "      <th>y</th>\n",
       "      <th>z</th>\n",
       "      <th>Energy</th>\n",
       "    </tr>\n",
       "  </thead>\n",
       "  <tbody>\n",
       "    <tr>\n",
       "      <th>0</th>\n",
       "      <td>98.816380</td>\n",
       "      <td>18.681493</td>\n",
       "      <td>-9.476816</td>\n",
       "      <td>-0.0</td>\n",
       "    </tr>\n",
       "    <tr>\n",
       "      <th>1</th>\n",
       "      <td>104.543648</td>\n",
       "      <td>15.358521</td>\n",
       "      <td>-3.348029</td>\n",
       "      <td>-0.0</td>\n",
       "    </tr>\n",
       "    <tr>\n",
       "      <th>2</th>\n",
       "      <td>97.905362</td>\n",
       "      <td>7.022739</td>\n",
       "      <td>-1.047928</td>\n",
       "      <td>-0.0</td>\n",
       "    </tr>\n",
       "    <tr>\n",
       "      <th>3</th>\n",
       "      <td>99.446407</td>\n",
       "      <td>7.273058</td>\n",
       "      <td>-0.302425</td>\n",
       "      <td>-0.0</td>\n",
       "    </tr>\n",
       "    <tr>\n",
       "      <th>4</th>\n",
       "      <td>94.437669</td>\n",
       "      <td>14.888655</td>\n",
       "      <td>-3.983924</td>\n",
       "      <td>-0.0</td>\n",
       "    </tr>\n",
       "  </tbody>\n",
       "</table>\n",
       "</div>"
      ],
      "text/plain": [
       "            x          y         z  Energy\n",
       "0   98.816380  18.681493 -9.476816    -0.0\n",
       "1  104.543648  15.358521 -3.348029    -0.0\n",
       "2   97.905362   7.022739 -1.047928    -0.0\n",
       "3   99.446407   7.273058 -0.302425    -0.0\n",
       "4   94.437669  14.888655 -3.983924    -0.0"
      ]
     },
     "execution_count": 27,
     "metadata": {},
     "output_type": "execute_result"
    }
   ],
   "source": [
    "df.head()"
   ]
  },
  {
   "cell_type": "code",
   "execution_count": 32,
   "metadata": {},
   "outputs": [
    {
     "data": {
      "text/html": [
       "<div>\n",
       "<style scoped>\n",
       "    .dataframe tbody tr th:only-of-type {\n",
       "        vertical-align: middle;\n",
       "    }\n",
       "\n",
       "    .dataframe tbody tr th {\n",
       "        vertical-align: top;\n",
       "    }\n",
       "\n",
       "    .dataframe thead th {\n",
       "        text-align: right;\n",
       "    }\n",
       "</style>\n",
       "<table border=\"1\" class=\"dataframe\">\n",
       "  <thead>\n",
       "    <tr style=\"text-align: right;\">\n",
       "      <th></th>\n",
       "      <th>x</th>\n",
       "      <th>y</th>\n",
       "      <th>z</th>\n",
       "      <th>Energy</th>\n",
       "    </tr>\n",
       "  </thead>\n",
       "  <tbody>\n",
       "    <tr>\n",
       "      <th>count</th>\n",
       "      <td>3363.000000</td>\n",
       "      <td>3363.000000</td>\n",
       "      <td>3363.000000</td>\n",
       "      <td>3363.000000</td>\n",
       "    </tr>\n",
       "    <tr>\n",
       "      <th>mean</th>\n",
       "      <td>59.431411</td>\n",
       "      <td>33.216120</td>\n",
       "      <td>19.657752</td>\n",
       "      <td>-4.347904</td>\n",
       "    </tr>\n",
       "    <tr>\n",
       "      <th>std</th>\n",
       "      <td>23.599018</td>\n",
       "      <td>18.789127</td>\n",
       "      <td>16.047603</td>\n",
       "      <td>2.382548</td>\n",
       "    </tr>\n",
       "    <tr>\n",
       "      <th>min</th>\n",
       "      <td>14.137584</td>\n",
       "      <td>-5.355720</td>\n",
       "      <td>-12.828169</td>\n",
       "      <td>-8.900000</td>\n",
       "    </tr>\n",
       "    <tr>\n",
       "      <th>25%</th>\n",
       "      <td>38.770648</td>\n",
       "      <td>17.177991</td>\n",
       "      <td>5.352823</td>\n",
       "      <td>-5.900000</td>\n",
       "    </tr>\n",
       "    <tr>\n",
       "      <th>50%</th>\n",
       "      <td>60.188575</td>\n",
       "      <td>33.967457</td>\n",
       "      <td>19.632746</td>\n",
       "      <td>-5.000000</td>\n",
       "    </tr>\n",
       "    <tr>\n",
       "      <th>75%</th>\n",
       "      <td>75.821287</td>\n",
       "      <td>48.508908</td>\n",
       "      <td>33.598267</td>\n",
       "      <td>-3.000000</td>\n",
       "    </tr>\n",
       "    <tr>\n",
       "      <th>max</th>\n",
       "      <td>108.151367</td>\n",
       "      <td>71.592981</td>\n",
       "      <td>51.405386</td>\n",
       "      <td>-0.000000</td>\n",
       "    </tr>\n",
       "  </tbody>\n",
       "</table>\n",
       "</div>"
      ],
      "text/plain": [
       "                 x            y            z       Energy\n",
       "count  3363.000000  3363.000000  3363.000000  3363.000000\n",
       "mean     59.431411    33.216120    19.657752    -4.347904\n",
       "std      23.599018    18.789127    16.047603     2.382548\n",
       "min      14.137584    -5.355720   -12.828169    -8.900000\n",
       "25%      38.770648    17.177991     5.352823    -5.900000\n",
       "50%      60.188575    33.967457    19.632746    -5.000000\n",
       "75%      75.821287    48.508908    33.598267    -3.000000\n",
       "max     108.151367    71.592981    51.405386    -0.000000"
      ]
     },
     "execution_count": 32,
     "metadata": {},
     "output_type": "execute_result"
    }
   ],
   "source": [
    "df.describe()"
   ]
  },
  {
   "cell_type": "markdown",
   "metadata": {},
   "source": [
    "Vamos tomar alguns dados para treina-los para o nosso modelo."
   ]
  },
  {
   "cell_type": "code",
   "execution_count": 33,
   "metadata": {},
   "outputs": [],
   "source": [
    "from sklearn.model_selection import train_test_split"
   ]
  },
  {
   "cell_type": "code",
   "execution_count": 47,
   "metadata": {},
   "outputs": [],
   "source": [
    "X = df[['x', 'y', 'z']].values\n",
    "y = df[['Energy']].values\n",
    "\n",
    "X_train, X_test, y_train, y_test = train_test_split(X, y, test_size=0.33, random_state=73)"
   ]
  },
  {
   "cell_type": "markdown",
   "metadata": {},
   "source": [
    "Para evitar problemas de magnetide vamos normalizar os dados espaciais."
   ]
  },
  {
   "cell_type": "code",
   "execution_count": 51,
   "metadata": {},
   "outputs": [],
   "source": [
    "from sklearn.preprocessing import MinMaxScaler\n",
    "scaler = MinMaxScaler()\n",
    "scaler.fit(X_train)\n",
    "\n",
    "X_train = scaler.transform(X_train)\n",
    "X_test = scaler.transform(X_test)"
   ]
  },
  {
   "cell_type": "markdown",
   "metadata": {},
   "source": [
    "Finalmente, vamos criar o nosso modelo."
   ]
  },
  {
   "cell_type": "code",
   "execution_count": 53,
   "metadata": {},
   "outputs": [],
   "source": [
    "import tensorflow as tf\n",
    "from tensorflow.keras.models import Sequential\n",
    "from tensorflow.keras.layers import Dense, Activation"
   ]
  },
  {
   "cell_type": "markdown",
   "metadata": {},
   "source": [
    "A escolha dos parâmetros de units, activation, foi apenas um chute. Já a escolha dos parâmetros de optimezes, loss, foram com \n",
    "base no que eu li sobre.\n",
    "\n",
    "    # For a mean squared error regression problem\n",
    "    model.compile(optimizer='rmsprop',\n",
    "                  loss='mse')"
   ]
  },
  {
   "cell_type": "code",
   "execution_count": 57,
   "metadata": {},
   "outputs": [],
   "source": [
    "modelo = Sequential()\n",
    "\n",
    "modelo.add(Dense(4,activation='relu'))\n",
    "modelo.add(Dense(4,activation='relu'))\n",
    "modelo.add(Dense(4,activation='relu'))\n",
    "modelo.add(Dense(1))\n",
    "\n",
    "modelo.compile(optimizer='rmsprop', loss='mse')"
   ]
  },
  {
   "cell_type": "code",
   "execution_count": 58,
   "metadata": {},
   "outputs": [
    {
     "name": "stdout",
     "output_type": "stream",
     "text": [
      "Epoch 1/150\n",
      "71/71 [==============================] - 0s 634us/step - loss: 24.9453\n",
      "Epoch 2/150\n",
      "71/71 [==============================] - 0s 592us/step - loss: 23.2861\n",
      "Epoch 3/150\n",
      "71/71 [==============================] - 0s 521us/step - loss: 21.6876\n",
      "Epoch 4/150\n",
      "71/71 [==============================] - 0s 493us/step - loss: 19.4126\n",
      "Epoch 5/150\n",
      "71/71 [==============================] - 0s 507us/step - loss: 16.3060\n",
      "Epoch 6/150\n",
      "71/71 [==============================] - 0s 493us/step - loss: 12.5662\n",
      "Epoch 7/150\n",
      "71/71 [==============================] - 0s 493us/step - loss: 8.9682\n",
      "Epoch 8/150\n",
      "71/71 [==============================] - 0s 493us/step - loss: 6.9063\n",
      "Epoch 9/150\n",
      "71/71 [==============================] - 0s 507us/step - loss: 6.4783\n",
      "Epoch 10/150\n",
      "71/71 [==============================] - 0s 465us/step - loss: 6.3674\n",
      "Epoch 11/150\n",
      "71/71 [==============================] - 0s 507us/step - loss: 6.2653\n",
      "Epoch 12/150\n",
      "71/71 [==============================] - 0s 493us/step - loss: 6.1695\n",
      "Epoch 13/150\n",
      "71/71 [==============================] - 0s 493us/step - loss: 6.0824\n",
      "Epoch 14/150\n",
      "71/71 [==============================] - 0s 493us/step - loss: 5.9918\n",
      "Epoch 15/150\n",
      "71/71 [==============================] - 0s 493us/step - loss: 5.9194\n",
      "Epoch 16/150\n",
      "71/71 [==============================] - 0s 507us/step - loss: 5.8330\n",
      "Epoch 17/150\n",
      "71/71 [==============================] - 0s 493us/step - loss: 5.7458\n",
      "Epoch 18/150\n",
      "71/71 [==============================] - 0s 564us/step - loss: 5.6683\n",
      "Epoch 19/150\n",
      "71/71 [==============================] - 0s 479us/step - loss: 5.5390\n",
      "Epoch 20/150\n",
      "71/71 [==============================] - 0s 535us/step - loss: 5.4360\n",
      "Epoch 21/150\n",
      "71/71 [==============================] - 0s 507us/step - loss: 5.3519\n",
      "Epoch 22/150\n",
      "71/71 [==============================] - 0s 493us/step - loss: 5.2677\n",
      "Epoch 23/150\n",
      "71/71 [==============================] - 0s 507us/step - loss: 5.1818\n",
      "Epoch 24/150\n",
      "71/71 [==============================] - 0s 493us/step - loss: 5.0997\n",
      "Epoch 25/150\n",
      "71/71 [==============================] - 0s 479us/step - loss: 5.0212\n",
      "Epoch 26/150\n",
      "71/71 [==============================] - 0s 493us/step - loss: 4.9507\n",
      "Epoch 27/150\n",
      "71/71 [==============================] - 0s 507us/step - loss: 4.8803\n",
      "Epoch 28/150\n",
      "71/71 [==============================] - 0s 493us/step - loss: 4.8161\n",
      "Epoch 29/150\n",
      "71/71 [==============================] - 0s 507us/step - loss: 4.7589\n",
      "Epoch 30/150\n",
      "71/71 [==============================] - 0s 479us/step - loss: 4.7055\n",
      "Epoch 31/150\n",
      "71/71 [==============================] - 0s 507us/step - loss: 4.6488\n",
      "Epoch 32/150\n",
      "71/71 [==============================] - 0s 479us/step - loss: 4.5804\n",
      "Epoch 33/150\n",
      "71/71 [==============================] - 0s 493us/step - loss: 4.5015\n",
      "Epoch 34/150\n",
      "71/71 [==============================] - 0s 507us/step - loss: 4.4207\n",
      "Epoch 35/150\n",
      "71/71 [==============================] - 0s 479us/step - loss: 4.3328\n",
      "Epoch 36/150\n",
      "71/71 [==============================] - 0s 493us/step - loss: 4.2338\n",
      "Epoch 37/150\n",
      "71/71 [==============================] - 0s 507us/step - loss: 4.1289\n",
      "Epoch 38/150\n",
      "71/71 [==============================] - 0s 507us/step - loss: 4.0354\n",
      "Epoch 39/150\n",
      "71/71 [==============================] - 0s 507us/step - loss: 3.9392\n",
      "Epoch 40/150\n",
      "71/71 [==============================] - 0s 493us/step - loss: 3.8338\n",
      "Epoch 41/150\n",
      "71/71 [==============================] - 0s 507us/step - loss: 3.7455\n",
      "Epoch 42/150\n",
      "71/71 [==============================] - 0s 493us/step - loss: 3.6477\n",
      "Epoch 43/150\n",
      "71/71 [==============================] - 0s 479us/step - loss: 3.5515\n",
      "Epoch 44/150\n",
      "71/71 [==============================] - 0s 507us/step - loss: 3.4586\n",
      "Epoch 45/150\n",
      "71/71 [==============================] - 0s 479us/step - loss: 3.3761\n",
      "Epoch 46/150\n",
      "71/71 [==============================] - 0s 479us/step - loss: 3.3144\n",
      "Epoch 47/150\n",
      "71/71 [==============================] - 0s 479us/step - loss: 3.2362\n",
      "Epoch 48/150\n",
      "71/71 [==============================] - 0s 507us/step - loss: 3.1611\n",
      "Epoch 49/150\n",
      "71/71 [==============================] - 0s 479us/step - loss: 3.0592\n",
      "Epoch 50/150\n",
      "71/71 [==============================] - 0s 493us/step - loss: 2.9797\n",
      "Epoch 51/150\n",
      "71/71 [==============================] - 0s 479us/step - loss: 2.9255\n",
      "Epoch 52/150\n",
      "71/71 [==============================] - 0s 493us/step - loss: 2.8617\n",
      "Epoch 53/150\n",
      "71/71 [==============================] - 0s 549us/step - loss: 2.8135\n",
      "Epoch 54/150\n",
      "71/71 [==============================] - 0s 507us/step - loss: 2.7597\n",
      "Epoch 55/150\n",
      "71/71 [==============================] - 0s 493us/step - loss: 2.7076\n",
      "Epoch 56/150\n",
      "71/71 [==============================] - 0s 493us/step - loss: 2.6619\n",
      "Epoch 57/150\n",
      "71/71 [==============================] - 0s 493us/step - loss: 2.6191\n",
      "Epoch 58/150\n",
      "71/71 [==============================] - 0s 465us/step - loss: 2.5789\n",
      "Epoch 59/150\n",
      "71/71 [==============================] - 0s 486us/step - loss: 2.5342\n",
      "Epoch 60/150\n",
      "71/71 [==============================] - 0s 493us/step - loss: 2.5021\n",
      "Epoch 61/150\n",
      "71/71 [==============================] - 0s 478us/step - loss: 2.4620\n",
      "Epoch 62/150\n",
      "71/71 [==============================] - 0s 479us/step - loss: 2.4320\n",
      "Epoch 63/150\n",
      "71/71 [==============================] - 0s 507us/step - loss: 2.4012\n",
      "Epoch 64/150\n",
      "71/71 [==============================] - 0s 479us/step - loss: 2.3682\n",
      "Epoch 65/150\n",
      "71/71 [==============================] - 0s 479us/step - loss: 2.3360\n",
      "Epoch 66/150\n",
      "71/71 [==============================] - 0s 493us/step - loss: 2.3076\n",
      "Epoch 67/150\n",
      "71/71 [==============================] - 0s 521us/step - loss: 2.2766\n",
      "Epoch 68/150\n",
      "71/71 [==============================] - 0s 507us/step - loss: 2.2534\n",
      "Epoch 69/150\n",
      "71/71 [==============================] - 0s 493us/step - loss: 2.2329\n",
      "Epoch 70/150\n",
      "71/71 [==============================] - 0s 479us/step - loss: 2.2058\n",
      "Epoch 71/150\n",
      "71/71 [==============================] - 0s 479us/step - loss: 2.1860\n",
      "Epoch 72/150\n",
      "71/71 [==============================] - 0s 493us/step - loss: 2.1693\n",
      "Epoch 73/150\n",
      "71/71 [==============================] - 0s 493us/step - loss: 2.1472\n",
      "Epoch 74/150\n",
      "71/71 [==============================] - 0s 493us/step - loss: 2.1315\n",
      "Epoch 75/150\n",
      "71/71 [==============================] - 0s 493us/step - loss: 2.1130\n",
      "Epoch 76/150\n",
      "71/71 [==============================] - 0s 493us/step - loss: 2.0959\n",
      "Epoch 77/150\n",
      "71/71 [==============================] - 0s 493us/step - loss: 2.0769\n",
      "Epoch 78/150\n",
      "71/71 [==============================] - 0s 479us/step - loss: 2.0634\n",
      "Epoch 79/150\n",
      "71/71 [==============================] - 0s 493us/step - loss: 2.0472\n",
      "Epoch 80/150\n",
      "71/71 [==============================] - 0s 479us/step - loss: 2.0398\n",
      "Epoch 81/150\n",
      "71/71 [==============================] - 0s 479us/step - loss: 2.0233\n",
      "Epoch 82/150\n",
      "71/71 [==============================] - 0s 493us/step - loss: 2.0064\n",
      "Epoch 83/150\n",
      "71/71 [==============================] - 0s 479us/step - loss: 1.9926\n",
      "Epoch 84/150\n",
      "71/71 [==============================] - 0s 479us/step - loss: 1.9732\n",
      "Epoch 85/150\n",
      "71/71 [==============================] - 0s 507us/step - loss: 1.9616\n",
      "Epoch 86/150\n",
      "71/71 [==============================] - 0s 479us/step - loss: 1.9519\n",
      "Epoch 87/150\n",
      "71/71 [==============================] - 0s 549us/step - loss: 1.9373\n",
      "Epoch 88/150\n",
      "71/71 [==============================] - 0s 493us/step - loss: 1.9311\n",
      "Epoch 89/150\n",
      "71/71 [==============================] - 0s 479us/step - loss: 1.9182\n",
      "Epoch 90/150\n",
      "71/71 [==============================] - 0s 493us/step - loss: 1.9107\n",
      "Epoch 91/150\n",
      "71/71 [==============================] - 0s 497us/step - loss: 1.9023\n",
      "Epoch 92/150\n",
      "71/71 [==============================] - 0s 465us/step - loss: 1.8954\n",
      "Epoch 93/150\n",
      "71/71 [==============================] - 0s 493us/step - loss: 1.8860\n",
      "Epoch 94/150\n",
      "71/71 [==============================] - 0s 474us/step - loss: 1.8822\n",
      "Epoch 95/150\n",
      "71/71 [==============================] - 0s 493us/step - loss: 1.8771\n",
      "Epoch 96/150\n",
      "71/71 [==============================] - 0s 493us/step - loss: 1.8711\n",
      "Epoch 97/150\n",
      "71/71 [==============================] - 0s 493us/step - loss: 1.8630\n",
      "Epoch 98/150\n",
      "71/71 [==============================] - 0s 493us/step - loss: 1.8668\n",
      "Epoch 99/150\n"
     ]
    },
    {
     "name": "stdout",
     "output_type": "stream",
     "text": [
      "71/71 [==============================] - 0s 493us/step - loss: 1.8577\n",
      "Epoch 100/150\n",
      "71/71 [==============================] - 0s 493us/step - loss: 1.8506\n",
      "Epoch 101/150\n",
      "71/71 [==============================] - 0s 493us/step - loss: 1.8447\n",
      "Epoch 102/150\n",
      "71/71 [==============================] - 0s 479us/step - loss: 1.8485\n",
      "Epoch 103/150\n",
      "71/71 [==============================] - 0s 479us/step - loss: 1.8442\n",
      "Epoch 104/150\n",
      "71/71 [==============================] - 0s 493us/step - loss: 1.8351\n",
      "Epoch 105/150\n",
      "71/71 [==============================] - 0s 535us/step - loss: 1.8367\n",
      "Epoch 106/150\n",
      "71/71 [==============================] - 0s 465us/step - loss: 1.8291\n",
      "Epoch 107/150\n",
      "71/71 [==============================] - 0s 479us/step - loss: 1.8305\n",
      "Epoch 108/150\n",
      "71/71 [==============================] - 0s 493us/step - loss: 1.8237\n",
      "Epoch 109/150\n",
      "71/71 [==============================] - 0s 493us/step - loss: 1.8306\n",
      "Epoch 110/150\n",
      "71/71 [==============================] - 0s 493us/step - loss: 1.8231\n",
      "Epoch 111/150\n",
      "71/71 [==============================] - 0s 493us/step - loss: 1.8210\n",
      "Epoch 112/150\n",
      "71/71 [==============================] - 0s 493us/step - loss: 1.8164\n",
      "Epoch 113/150\n",
      "71/71 [==============================] - 0s 507us/step - loss: 1.8191\n",
      "Epoch 114/150\n",
      "71/71 [==============================] - 0s 479us/step - loss: 1.8140\n",
      "Epoch 115/150\n",
      "71/71 [==============================] - 0s 493us/step - loss: 1.8113\n",
      "Epoch 116/150\n",
      "71/71 [==============================] - 0s 479us/step - loss: 1.8100\n",
      "Epoch 117/150\n",
      "71/71 [==============================] - 0s 493us/step - loss: 1.8117\n",
      "Epoch 118/150\n",
      "71/71 [==============================] - 0s 479us/step - loss: 1.8046\n",
      "Epoch 119/150\n",
      "71/71 [==============================] - 0s 479us/step - loss: 1.8053\n",
      "Epoch 120/150\n",
      "71/71 [==============================] - 0s 507us/step - loss: 1.8048\n",
      "Epoch 121/150\n",
      "71/71 [==============================] - 0s 493us/step - loss: 1.8010\n",
      "Epoch 122/150\n",
      "71/71 [==============================] - 0s 479us/step - loss: 1.7943\n",
      "Epoch 123/150\n",
      "71/71 [==============================] - 0s 493us/step - loss: 1.7943\n",
      "Epoch 124/150\n",
      "71/71 [==============================] - 0s 479us/step - loss: 1.7939\n",
      "Epoch 125/150\n",
      "71/71 [==============================] - 0s 479us/step - loss: 1.7894\n",
      "Epoch 126/150\n",
      "71/71 [==============================] - 0s 493us/step - loss: 1.7910\n",
      "Epoch 127/150\n",
      "71/71 [==============================] - 0s 479us/step - loss: 1.7877\n",
      "Epoch 128/150\n",
      "71/71 [==============================] - 0s 493us/step - loss: 1.7759\n",
      "Epoch 129/150\n",
      "71/71 [==============================] - 0s 493us/step - loss: 1.7851\n",
      "Epoch 130/150\n",
      "71/71 [==============================] - 0s 493us/step - loss: 1.7795\n",
      "Epoch 131/150\n",
      "71/71 [==============================] - 0s 493us/step - loss: 1.7801\n",
      "Epoch 132/150\n",
      "71/71 [==============================] - 0s 493us/step - loss: 1.7769\n",
      "Epoch 133/150\n",
      "71/71 [==============================] - 0s 479us/step - loss: 1.7762\n",
      "Epoch 134/150\n",
      "71/71 [==============================] - ETA: 0s - loss: 1.818 - 0s 479us/step - loss: 1.7720\n",
      "Epoch 135/150\n",
      "71/71 [==============================] - 0s 493us/step - loss: 1.7722\n",
      "Epoch 136/150\n",
      "71/71 [==============================] - 0s 479us/step - loss: 1.7720\n",
      "Epoch 137/150\n",
      "71/71 [==============================] - 0s 465us/step - loss: 1.7666\n",
      "Epoch 138/150\n",
      "71/71 [==============================] - 0s 507us/step - loss: 1.7667\n",
      "Epoch 139/150\n",
      "71/71 [==============================] - 0s 493us/step - loss: 1.7646\n",
      "Epoch 140/150\n",
      "71/71 [==============================] - 0s 493us/step - loss: 1.7614\n",
      "Epoch 141/150\n",
      "71/71 [==============================] - 0s 521us/step - loss: 1.7593\n",
      "Epoch 142/150\n",
      "71/71 [==============================] - 0s 507us/step - loss: 1.7567\n",
      "Epoch 143/150\n",
      "71/71 [==============================] - 0s 535us/step - loss: 1.7556\n",
      "Epoch 144/150\n",
      "71/71 [==============================] - 0s 507us/step - loss: 1.7590\n",
      "Epoch 145/150\n",
      "71/71 [==============================] - 0s 507us/step - loss: 1.7547\n",
      "Epoch 146/150\n",
      "71/71 [==============================] - 0s 507us/step - loss: 1.7494\n",
      "Epoch 147/150\n",
      "71/71 [==============================] - 0s 507us/step - loss: 1.7512\n",
      "Epoch 148/150\n",
      "71/71 [==============================] - 0s 507us/step - loss: 1.7477\n",
      "Epoch 149/150\n",
      "71/71 [==============================] - 0s 507us/step - loss: 1.7444\n",
      "Epoch 150/150\n",
      "71/71 [==============================] - 0s 507us/step - loss: 1.7487\n"
     ]
    },
    {
     "data": {
      "text/plain": [
       "<tensorflow.python.keras.callbacks.History at 0x1c7ab510970>"
      ]
     },
     "execution_count": 58,
     "metadata": {},
     "output_type": "execute_result"
    }
   ],
   "source": [
    "modelo.fit(X_train, y_train, epochs=150)"
   ]
  },
  {
   "cell_type": "code",
   "execution_count": 66,
   "metadata": {},
   "outputs": [
    {
     "data": {
      "text/plain": [
       "Text(0.5, 1.0, 'Perda x Epoch')"
      ]
     },
     "execution_count": 66,
     "metadata": {},
     "output_type": "execute_result"
    },
    {
     "data": {
      "image/png": "[encoded data removed]",
      "text/plain": [
       "<Figure size 432x288 with 1 Axes>"
      ]
     },
     "metadata": {
      "needs_background": "light"
     },
     "output_type": "display_data"
    }
   ],
   "source": [
    "perda = modelo.history.history['loss']\n",
    "sns.lineplot(x=range(len(perda)), y=perda)\n",
    "plt.title('Perda x Epoch')"
   ]
  },
  {
   "cell_type": "code",
   "execution_count": 83,
   "metadata": {},
   "outputs": [],
   "source": [
    "treino_pontuacao = modelo.evaluate(X_train, y_train, verbose=0)\n",
    "teste_pontuacao = modelo.evaluate(X_test, y_test, verbose=0)"
   ]
  },
  {
   "cell_type": "code",
   "execution_count": 84,
   "metadata": {},
   "outputs": [
    {
     "data": {
      "text/plain": [
       "1.735297441482544"
      ]
     },
     "execution_count": 84,
     "metadata": {},
     "output_type": "execute_result"
    }
   ],
   "source": [
    "treino_pontuacao"
   ]
  },
  {
   "cell_type": "code",
   "execution_count": 85,
   "metadata": {},
   "outputs": [
    {
     "data": {
      "text/plain": [
       "1.7435424327850342"
      ]
     },
     "execution_count": 85,
     "metadata": {},
     "output_type": "execute_result"
    }
   ],
   "source": [
    "teste_pontuacao"
   ]
  },
  {
   "cell_type": "code",
   "execution_count": 86,
   "metadata": {},
   "outputs": [],
   "source": [
    "teste_predicao = modelo.predict(X_test)"
   ]
  },
  {
   "cell_type": "code",
   "execution_count": 87,
   "metadata": {},
   "outputs": [],
   "source": [
    "pred_df = pd.DataFrame(y_test,columns=['Test Y'])\n",
    "teste_predicao = pd.Series(teste_predicao.reshape(1110,))\n",
    "pred_df = pd.concat([pred_df,teste_predicao],axis=1)"
   ]
  },
  {
   "cell_type": "code",
   "execution_count": 90,
   "metadata": {},
   "outputs": [],
   "source": [
    "pred_df.columns = ['Teste','Predicao']"
   ]
  },
  {
   "cell_type": "code",
   "execution_count": 91,
   "metadata": {},
   "outputs": [
    {
     "data": {
      "text/html": [
       "<div>\n",
       "<style scoped>\n",
       "    .dataframe tbody tr th:only-of-type {\n",
       "        vertical-align: middle;\n",
       "    }\n",
       "\n",
       "    .dataframe tbody tr th {\n",
       "        vertical-align: top;\n",
       "    }\n",
       "\n",
       "    .dataframe thead th {\n",
       "        text-align: right;\n",
       "    }\n",
       "</style>\n",
       "<table border=\"1\" class=\"dataframe\">\n",
       "  <thead>\n",
       "    <tr style=\"text-align: right;\">\n",
       "      <th></th>\n",
       "      <th>Teste</th>\n",
       "      <th>Predicao</th>\n",
       "    </tr>\n",
       "  </thead>\n",
       "  <tbody>\n",
       "    <tr>\n",
       "      <th>0</th>\n",
       "      <td>-0.0</td>\n",
       "      <td>0.324877</td>\n",
       "    </tr>\n",
       "    <tr>\n",
       "      <th>1</th>\n",
       "      <td>-5.3</td>\n",
       "      <td>-4.088146</td>\n",
       "    </tr>\n",
       "    <tr>\n",
       "      <th>2</th>\n",
       "      <td>-0.0</td>\n",
       "      <td>-1.264080</td>\n",
       "    </tr>\n",
       "    <tr>\n",
       "      <th>3</th>\n",
       "      <td>-4.6</td>\n",
       "      <td>-5.398712</td>\n",
       "    </tr>\n",
       "    <tr>\n",
       "      <th>4</th>\n",
       "      <td>-6.9</td>\n",
       "      <td>-6.243951</td>\n",
       "    </tr>\n",
       "    <tr>\n",
       "      <th>...</th>\n",
       "      <td>...</td>\n",
       "      <td>...</td>\n",
       "    </tr>\n",
       "    <tr>\n",
       "      <th>1105</th>\n",
       "      <td>-7.0</td>\n",
       "      <td>-5.784082</td>\n",
       "    </tr>\n",
       "    <tr>\n",
       "      <th>1106</th>\n",
       "      <td>-0.0</td>\n",
       "      <td>-0.371075</td>\n",
       "    </tr>\n",
       "    <tr>\n",
       "      <th>1107</th>\n",
       "      <td>-5.7</td>\n",
       "      <td>-3.883675</td>\n",
       "    </tr>\n",
       "    <tr>\n",
       "      <th>1108</th>\n",
       "      <td>-4.4</td>\n",
       "      <td>-4.574045</td>\n",
       "    </tr>\n",
       "    <tr>\n",
       "      <th>1109</th>\n",
       "      <td>-0.0</td>\n",
       "      <td>-0.818773</td>\n",
       "    </tr>\n",
       "  </tbody>\n",
       "</table>\n",
       "<p>1110 rows × 2 columns</p>\n",
       "</div>"
      ],
      "text/plain": [
       "      Teste  Predicao\n",
       "0      -0.0  0.324877\n",
       "1      -5.3 -4.088146\n",
       "2      -0.0 -1.264080\n",
       "3      -4.6 -5.398712\n",
       "4      -6.9 -6.243951\n",
       "...     ...       ...\n",
       "1105   -7.0 -5.784082\n",
       "1106   -0.0 -0.371075\n",
       "1107   -5.7 -3.883675\n",
       "1108   -4.4 -4.574045\n",
       "1109   -0.0 -0.818773\n",
       "\n",
       "[1110 rows x 2 columns]"
      ]
     },
     "execution_count": 91,
     "metadata": {},
     "output_type": "execute_result"
    }
   ],
   "source": [
    "pred_df"
   ]
  },
  {
   "cell_type": "code",
   "execution_count": 93,
   "metadata": {},
   "outputs": [
    {
     "data": {
      "text/plain": [
       "<matplotlib.axes._subplots.AxesSubplot at 0x1c7ad30d760>"
      ]
     },
     "execution_count": 93,
     "metadata": {},
     "output_type": "execute_result"
    },
    {
     "data": {
      "image/png": "[encoded data removed]",
      "text/plain": [
       "<Figure size 432x288 with 1 Axes>"
      ]
     },
     "metadata": {
      "needs_background": "light"
     },
     "output_type": "display_data"
    }
   ],
   "source": [
    "sns.scatterplot(x='Teste',y='Predicao',data=pred_df)"
   ]
  },
  {
   "cell_type": "code",
   "execution_count": 95,
   "metadata": {},
   "outputs": [
    {
     "data": {
      "text/plain": [
       "<matplotlib.axes._subplots.AxesSubplot at 0x1c7ad5abfa0>"
      ]
     },
     "execution_count": 95,
     "metadata": {},
     "output_type": "execute_result"
    },
    {
     "data": {
      "image/png": "[encoded data removed]",
      "text/plain": [
       "<Figure size 432x288 with 1 Axes>"
      ]
     },
     "metadata": {
      "needs_background": "light"
     },
     "output_type": "display_data"
    }
   ],
   "source": [
    "pred_df['Error'] = pred_df['Teste'] - pred_df['Predicao']\n",
    "sns.distplot(pred_df['Error'],bins=50)"
   ]
  },
  {
   "cell_type": "code",
   "execution_count": 96,
   "metadata": {},
   "outputs": [],
   "source": [
    "from sklearn.metrics import mean_absolute_error,mean_squared_error"
   ]
  },
  {
   "cell_type": "code",
   "execution_count": 97,
   "metadata": {},
   "outputs": [
    {
     "data": {
      "text/plain": [
       "1.0326974887568672"
      ]
     },
     "execution_count": 97,
     "metadata": {},
     "output_type": "execute_result"
    }
   ],
   "source": [
    "mean_absolute_error(pred_df['Teste'],pred_df['Predicao'])"
   ]
  },
  {
   "cell_type": "code",
   "execution_count": 102,
   "metadata": {},
   "outputs": [
    {
     "data": {
      "text/plain": [
       "1.3204327497249537"
      ]
     },
     "execution_count": 102,
     "metadata": {},
     "output_type": "execute_result"
    }
   ],
   "source": [
    "mean_squared_error(pred_df['Teste'],pred_df['Predicao'])**0.5"
   ]
  },
  {
   "cell_type": "code",
   "execution_count": null,
   "metadata": {},
   "outputs": [],
   "source": []
  }
 ],
 "metadata": {
  "kernelspec": {
   "display_name": "Python 3",
   "language": "python",
   "name": "python3"
  },
  "language_info": {
   "codemirror_mode": {
    "name": "ipython",
    "version": 3
   },
   "file_extension": ".py",
   "mimetype": "text/x-python",
   "name": "python",
   "nbconvert_exporter": "python",
   "pygments_lexer": "ipython3",
   "version": "3.8.3"
  }
 },
 "nbformat": 4,
 "nbformat_minor": 4
}
