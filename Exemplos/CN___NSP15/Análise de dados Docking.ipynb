{
 "cells": [
  {
   "cell_type": "markdown",
   "metadata": {},
   "source": [
    "__Análise de dados Docking - 2 Um tratamento estatístico__"
   ]
  },
  {
   "cell_type": "markdown",
   "metadata": {},
   "source": [
    "Diferente da parte 1, aqui vamos ser mais dinâmicos. Iremos utilizar formas mais diretas de realizar as operações com os dados. Além de trazer um tratamento mais estatístico para os dados, buscando porcentagem de ocupação de energia, média, mediana e desvio-pad, além de outros tramentos."
   ]
  },
  {
   "cell_type": "markdown",
   "metadata": {},
   "source": [
    "Caso não tenha alguma biblioteca"
   ]
  },
  {
   "cell_type": "code",
   "execution_count": 1,
   "metadata": {},
   "outputs": [
    {
     "data": {
      "text/plain": [
       "'\\n!pip install heatmapz\\n!pip install plotly\\n'"
      ]
     },
     "execution_count": 1,
     "metadata": {},
     "output_type": "execute_result"
    }
   ],
   "source": [
    "'''\n",
    "!pip install heatmapz\n",
    "!pip install plotly\n",
    "'''"
   ]
  },
  {
   "cell_type": "code",
   "execution_count": 2,
   "metadata": {},
   "outputs": [],
   "source": [
    "import os\n",
    "import numpy as np\n",
    "import pandas as pd\n",
    "import matplotlib.pyplot as plt\n",
    "import seaborn as sns\n",
    "from pylab import rcParams\n",
    "from heatmap import heatmap, corrplot\n",
    "rcParams['figure.figsize'] = 7,7 \n",
    "sns.set(color_codes=True, font_scale=1.2)\n",
    "\n",
    "import plotly.express as px\n",
    "import plotly.graph_objects as go\n",
    "import plotly.io as pio\n",
    "#Abrir gráficos plotly em uma nova guia\n",
    "#pio.renderers.default = 'browser'\n",
    "fig=go.Figure()\n",
    "\n",
    "%matplotlib inline  "
   ]
  },
  {
   "cell_type": "markdown",
   "metadata": {},
   "source": [
    "Esse algoritmo analisa uma pasta com arquivos pdbqt gerados por docking com o vina e as transforma em um dataframe com a posição do centro de mass, valor do RMSD e energia.\n",
    "\n",
    "Para esse notebook funcionar corretamente, você precisa instalar bibliotecas como, rmsd, periodictable, numpy e pandas.\n",
    "\n",
    "Qualquer questão escreva para rafael.pleite@usp.br"
   ]
  },
  {
   "cell_type": "markdown",
   "metadata": {},
   "source": [
    "Funções para extrair os dados dos arquivos .pdbqt"
   ]
  },
  {
   "cell_type": "code",
   "execution_count": 9,
   "metadata": {},
   "outputs": [],
   "source": [
    "def load(path, name):\n",
    "    pre_data = ''\n",
    "    with open(os.path.join(path, name)) as fp:\n",
    "        pre_data = fp.read().split('MODEL')\n",
    "        del pre_data[0]\n",
    "        fp.close()\n",
    "    return pre_data\n",
    "\n",
    "        \n",
    "def take_position(every_result): #receive a vina result and gives back a array with (energy, array(atom_name, x, y, z)) position of every atom\n",
    "    array = []\n",
    "    energy = every_result.split('\\n')[1].split()[3]\n",
    "    for i in every_result.split('\\n'):\n",
    "        if 'HETATM' in i:\n",
    "            array.append(list(''.join(p for p in i.split()[2] if not p.isdigit())) + i.split()[4:7])\n",
    "    return energy, np.array(array)\n",
    "\n",
    "def CM(array): #receive an array with (atom_name, x, y, z) and gives back the center of mass position\n",
    "    global elements\n",
    "    total_mass = np.sum([elements[x] for x in array[:,0]])\n",
    "    x = np.array([elements[x[0]]*float(x[1]) for x in array[:,:2]], dtype=float)\n",
    "    y = np.array([elements[x[0]]*float(x[1]) for x in array[:,[0,2]]], dtype=float)\n",
    "    z = np.array([elements[x[0]]*float(x[1]) for x in array[:,[0,3]]], dtype=float)\n",
    "    return np.array([sum(x)/total_mass, sum(y)/total_mass, sum(z)/total_mass], dtype=str)\n",
    "    \n",
    "\n",
    "def make_array(data, name, V): #recive data with N results processed by load() and name, gives back array(name, count, x, y, z, rmsd, energy) \n",
    "    pos_data = np.chararray([len(data), 7], 32, True)\n",
    "    pos_data[:,0] = np.array([name.split('.pdbqt')[0]]*len(data), dtype=str)\n",
    "    pos_data[:,1] = np.array([x for x in range(1, len(data)+1)], dtype=str)\n",
    "    for i, ival in enumerate(data):\n",
    "        result = take_position(ival)\n",
    "        pos_data[i, 5] = result[0]\n",
    "        pos_data[i, 2:5] = CM(result[1])\n",
    "        W = np.array([x for x in result[1] if (x[0] != 'H')])[:,1:]\n",
    "        global SHOULD_CALCULATE_RMSD\n",
    "        if SHOULD_CALCULATE_RMSD: RMSD_val = RMSD(V, W)\n",
    "        else: RMSD_val = False\n",
    "        if RMSD_val != False: pos_data[i, 6] = RMSD_val\n",
    "        else:\n",
    "            if V.shape == W.shape and np.any(V == W): \n",
    "                pos_data[i, 6] = 0\n",
    "            else:\n",
    "                pos_data[i, 6] = 'CANNOT CALCULATE RMSD'\n",
    "    return pos_data\n",
    "                \n",
    "def RMSD(V, W):\n",
    "    global SHOULD_CALCULATE_RMSD\n",
    "    if V.shape != W.shape or not SHOULD_CALCULATE_RMSD: \n",
    "        return False #Cannot calculate RMSD because number os atoms of V is different the number os atoms W\n",
    "    diff = np.array(V, dtype=float) - np.array(W, dtype=float)\n",
    "    return np.sqrt((diff * diff).sum() / len(V))"
   ]
  },
  {
   "cell_type": "markdown",
   "metadata": {},
   "source": [
    "Essa parte é vital para o funcionamente correto do código.\n",
    "\n",
    "Abaixo entre com o caminho da pasta com os arquivos .pdbqt."
   ]
  },
  {
   "cell_type": "code",
   "execution_count": 10,
   "metadata": {},
   "outputs": [],
   "source": [
    "SHOULD_TAKE_SUBFOLDERS = False #Should verify subfolders of variable path to find others .pdbqt files.\n",
    "SHOULD_CALCULATE_RMSD = True #Desire calculate RMSD?\n",
    "path = r'C:\\Users\\Rafael\\Nanobio\\Nsp15\\pdbqt'"
   ]
  },
  {
   "cell_type": "markdown",
   "metadata": {},
   "source": [
    "Entre aqui com o nome do arquivo de referencial, isto é, o seu melhor resultado para ser o referencial do sistema que calcula o RMSD"
   ]
  },
  {
   "cell_type": "code",
   "execution_count": 19,
   "metadata": {},
   "outputs": [],
   "source": [
    "referential = 'CN289.pdbqt'"
   ]
  },
  {
   "cell_type": "code",
   "execution_count": 20,
   "metadata": {},
   "outputs": [],
   "source": [
    "elements = {'H': 1.00797, 'He': 4.0026, 'Li': 6.941, 'Be': 9.01218, 'B': 10.81, 'C': 12.011, 'N': 14.0067, 'O': 15.9994, 'F': 18.998403, 'Ne': 20.179, 'Na': 22.98977, 'Mg': 24.305, 'Al': 26.98154, 'Si': 28.0855, 'P': 30.97376, 'S': 32.06, 'Cl': 35.453, 'Ar': 39.948, 'K': 39.0983, 'Ca': 40.08, 'Sc': 44.9559, 'Ti': 47.9, 'V': 50.9415, 'Cr': 51.996, 'Mn': 54.938, 'Fe': 55.847, 'Co': 58.9332, 'Ni': 58.7, 'Cu': 63.546, 'Zn': 65.38, 'Ga': 69.72, 'Ge': 72.59, 'As': 74.9216, 'Se': 78.96, 'Br': 79.904, 'Kr': 83.8, 'Rb': 85.4678, 'Sr': 87.62, 'Y': 88.9059, 'Zr': 91.22, 'Nb': 92.9064, 'Mo': 95.94, 'Tc': 98, 'Ru': 101.07, 'Rh': 102.9055, 'Pd': 106.4, 'Ag': 107.868, 'Cd': 112.41, 'In': 114.82, 'Sn': 118.69, 'Sb': 121.75, 'Te': 127.6, 'I': 126.9045, 'Xe': 131.3, 'Cs': 132.9054, 'Ba': 137.33, 'La': 138.9055, 'Ce': 140.12, 'Pr': 140.9077, 'Nd': 144.24, 'Pm': 145, 'Sm': 150.4, 'Eu': 151.96, 'Gd': 157.25, 'Tb': 158.9254, 'Dy': 162.5, 'Ho': 164.9304, 'Er': 167.26, 'Tm': 168.9342, 'Yb': 173.04, 'Lu': 174.967, 'Hf': 178.49, 'Ta': 180.9479, 'W': 183.85, 'Re': 186.207, 'Os': 190.2, 'Ir': 192.22, 'Pt': 195.09, 'Au': 196.9665, 'Hg': 200.59, 'Tl': 204.37, 'Pb': 207.2, 'Bi': 208.9804, 'Po': 209, 'At': 210, 'Rn': 222, 'Fr': 223, 'Ra': 226.0254, 'Ac': 227.0278, 'Th': 232.0381, 'Pa': 231.0359, 'U': 238.029, 'Np': 237.0482, 'Pu': 242, 'Am': 243, 'Cm': 247}\n",
    "\n",
    "#V is a array (N,D) dimensions with position of each point of referential result\n",
    "V = take_position(load(path, referential)[0])[1]\n",
    "V = np.array([x for x in V if (x[0] != 'H')])[:,1:]\n",
    "\n",
    "\n",
    "dataset = np.chararray((0,7), 32, True)\n",
    "for root, directories, files in os.walk(path, topdown=False):\n",
    "    if SHOULD_TAKE_SUBFOLDERS or root == path:\n",
    "        for name in files:\n",
    "            if name.find('.pdbqt') != 1:\n",
    "                add = make_array(load(path, name), name, V)\n",
    "                dataset = np.append(dataset, add).reshape(dataset.shape[0] + add.shape[0], 7)\n",
    "if 'CANNOT CALCULATE RMSD' not in dataset[:, 6]:\n",
    "    df = pd.DataFrame(data=dataset, columns=('Name', 'Count', 'x', 'y', 'z', 'Energy', 'RMSD'))\n",
    "    df[['x','y','z', 'Energy', 'RMSD']] = df[['x','y','z', 'Energy', 'RMSD']].astype(float)\n",
    "else: \n",
    "    df = pd.DataFrame(data=dataset[:,:6], columns=('Name', 'Count', 'x', 'y', 'z', 'Energy'))\n",
    "    df[['x','y','z', 'Energy']] = df[['x','y','z', 'Energy']].astype(float)"
   ]
  },
  {
   "cell_type": "markdown",
   "metadata": {},
   "source": [
    "Informações sobre o DataFrame."
   ]
  },
  {
   "cell_type": "code",
   "execution_count": 21,
   "metadata": {
    "scrolled": true
   },
   "outputs": [
    {
     "name": "stdout",
     "output_type": "stream",
     "text": [
      "<class 'pandas.core.frame.DataFrame'>\n",
      "RangeIndex: 342 entries, 0 to 341\n",
      "Data columns (total 6 columns):\n",
      " #   Column  Non-Null Count  Dtype  \n",
      "---  ------  --------------  -----  \n",
      " 0   Name    342 non-null    object \n",
      " 1   Count   342 non-null    object \n",
      " 2   x       342 non-null    float64\n",
      " 3   y       342 non-null    float64\n",
      " 4   z       342 non-null    float64\n",
      " 5   Energy  342 non-null    float64\n",
      "dtypes: float64(4), object(2)\n",
      "memory usage: 16.2+ KB\n"
     ]
    }
   ],
   "source": [
    "df.info()"
   ]
  },
  {
   "cell_type": "code",
   "execution_count": 24,
   "metadata": {},
   "outputs": [
    {
     "data": {
      "text/html": [
       "<div>\n",
       "<style scoped>\n",
       "    .dataframe tbody tr th:only-of-type {\n",
       "        vertical-align: middle;\n",
       "    }\n",
       "\n",
       "    .dataframe tbody tr th {\n",
       "        vertical-align: top;\n",
       "    }\n",
       "\n",
       "    .dataframe thead th {\n",
       "        text-align: right;\n",
       "    }\n",
       "</style>\n",
       "<table border=\"1\" class=\"dataframe\">\n",
       "  <thead>\n",
       "    <tr style=\"text-align: right;\">\n",
       "      <th></th>\n",
       "      <th>Name</th>\n",
       "      <th>Count</th>\n",
       "      <th>x</th>\n",
       "      <th>y</th>\n",
       "      <th>z</th>\n",
       "      <th>Energy</th>\n",
       "    </tr>\n",
       "  </thead>\n",
       "  <tbody>\n",
       "    <tr>\n",
       "      <th>144</th>\n",
       "      <td>CN289</td>\n",
       "      <td>1</td>\n",
       "      <td>0.0</td>\n",
       "      <td>-63.317351</td>\n",
       "      <td>53.519690</td>\n",
       "      <td>-9.6</td>\n",
       "    </tr>\n",
       "    <tr>\n",
       "      <th>135</th>\n",
       "      <td>CN288</td>\n",
       "      <td>1</td>\n",
       "      <td>0.0</td>\n",
       "      <td>-63.604122</td>\n",
       "      <td>53.408756</td>\n",
       "      <td>-9.6</td>\n",
       "    </tr>\n",
       "    <tr>\n",
       "      <th>136</th>\n",
       "      <td>CN288</td>\n",
       "      <td>2</td>\n",
       "      <td>0.0</td>\n",
       "      <td>-60.301456</td>\n",
       "      <td>49.997688</td>\n",
       "      <td>-9.1</td>\n",
       "    </tr>\n",
       "    <tr>\n",
       "      <th>137</th>\n",
       "      <td>CN288</td>\n",
       "      <td>3</td>\n",
       "      <td>0.0</td>\n",
       "      <td>-65.152680</td>\n",
       "      <td>53.180428</td>\n",
       "      <td>-9.0</td>\n",
       "    </tr>\n",
       "    <tr>\n",
       "      <th>138</th>\n",
       "      <td>CN288</td>\n",
       "      <td>4</td>\n",
       "      <td>0.0</td>\n",
       "      <td>-63.506244</td>\n",
       "      <td>53.442669</td>\n",
       "      <td>-9.0</td>\n",
       "    </tr>\n",
       "    <tr>\n",
       "      <th>...</th>\n",
       "      <td>...</td>\n",
       "      <td>...</td>\n",
       "      <td>...</td>\n",
       "      <td>...</td>\n",
       "      <td>...</td>\n",
       "      <td>...</td>\n",
       "    </tr>\n",
       "    <tr>\n",
       "      <th>332</th>\n",
       "      <td>CN394</td>\n",
       "      <td>9</td>\n",
       "      <td>0.0</td>\n",
       "      <td>-66.542931</td>\n",
       "      <td>42.551572</td>\n",
       "      <td>-5.2</td>\n",
       "    </tr>\n",
       "    <tr>\n",
       "      <th>71</th>\n",
       "      <td>CN277</td>\n",
       "      <td>9</td>\n",
       "      <td>0.0</td>\n",
       "      <td>-43.639788</td>\n",
       "      <td>65.353969</td>\n",
       "      <td>-5.2</td>\n",
       "    </tr>\n",
       "    <tr>\n",
       "      <th>250</th>\n",
       "      <td>CN340</td>\n",
       "      <td>8</td>\n",
       "      <td>0.0</td>\n",
       "      <td>-60.208872</td>\n",
       "      <td>55.107855</td>\n",
       "      <td>-5.2</td>\n",
       "    </tr>\n",
       "    <tr>\n",
       "      <th>251</th>\n",
       "      <td>CN340</td>\n",
       "      <td>9</td>\n",
       "      <td>0.0</td>\n",
       "      <td>-59.213540</td>\n",
       "      <td>54.722598</td>\n",
       "      <td>-5.2</td>\n",
       "    </tr>\n",
       "    <tr>\n",
       "      <th>242</th>\n",
       "      <td>CN339</td>\n",
       "      <td>9</td>\n",
       "      <td>0.0</td>\n",
       "      <td>-59.693557</td>\n",
       "      <td>54.534892</td>\n",
       "      <td>-5.2</td>\n",
       "    </tr>\n",
       "  </tbody>\n",
       "</table>\n",
       "<p>342 rows × 6 columns</p>\n",
       "</div>"
      ],
      "text/plain": [
       "      Name Count    x          y          z  Energy\n",
       "144  CN289     1  0.0 -63.317351  53.519690    -9.6\n",
       "135  CN288     1  0.0 -63.604122  53.408756    -9.6\n",
       "136  CN288     2  0.0 -60.301456  49.997688    -9.1\n",
       "137  CN288     3  0.0 -65.152680  53.180428    -9.0\n",
       "138  CN288     4  0.0 -63.506244  53.442669    -9.0\n",
       "..     ...   ...  ...        ...        ...     ...\n",
       "332  CN394     9  0.0 -66.542931  42.551572    -5.2\n",
       "71   CN277     9  0.0 -43.639788  65.353969    -5.2\n",
       "250  CN340     8  0.0 -60.208872  55.107855    -5.2\n",
       "251  CN340     9  0.0 -59.213540  54.722598    -5.2\n",
       "242  CN339     9  0.0 -59.693557  54.534892    -5.2\n",
       "\n",
       "[342 rows x 6 columns]"
      ]
     },
     "execution_count": 24,
     "metadata": {},
     "output_type": "execute_result"
    }
   ],
   "source": [
    "df = df[df['Energy'] <= 0]\n",
    "df.sort_values(by=['Energy'])"
   ]
  },
  {
   "cell_type": "markdown",
   "metadata": {},
   "source": [
    "__Gráficos__"
   ]
  },
  {
   "cell_type": "markdown",
   "metadata": {},
   "source": [
    "Gráfico de correlação"
   ]
  },
  {
   "cell_type": "code",
   "execution_count": 31,
   "metadata": {},
   "outputs": [
    {
     "data": {
      "image/png": "[encoded data removed]",
      "text/plain": [
       "<Figure size 576x576 with 2 Axes>"
      ]
     },
     "metadata": {
      "needs_background": "light"
     },
     "output_type": "display_data"
    }
   ],
   "source": [
    "plt.figure(figsize=(8, 8))\n",
    "corrplot(df.corr(), size_scale=300)\n",
    "#plt.savefig('Correlacao'+'.png', dpi=600)"
   ]
  },
  {
   "cell_type": "markdown",
   "metadata": {},
   "source": [
    "Aqui, vamos trabalhar com clusters para energias <=-7.5, <=-8.0, <=-8.5."
   ]
  },
  {
   "cell_type": "markdown",
   "metadata": {},
   "source": [
    "Gráfico da distribuição espacial dos pontos nos intervalos. Fique avontade para modificar o termo (abs(i) * 3), pois ele modifica o tamanho dos pontos do gráfico."
   ]
  },
  {
   "cell_type": "code",
   "execution_count": 61,
   "metadata": {},
   "outputs": [
    {
     "name": "stdout",
     "output_type": "stream",
     "text": [
      "Energia <=  -7.0  kcal/mol\n"
     ]
    },
    {
     "data": {
      "application/vnd.plotly.v1+json": {
       "config": {
        "plotlyServerURL": "https://plot.ly"
       },
       "data": [
        {
         "hovertemplate": "x=%{x}<br>y=%{y}<br>z=%{z}<br>size=%{marker.size}<br>Name=%{text}<br>Energy=%{marker.color}<extra></extra>",
         "legendgroup": "",
         "marker": {
          "color": [
           -7.8,
           -7.7,
           -7.4,
           -7.3,
           -7.2,
           -7.1,
           -7.1,
           -7.1,
           -7,
           -8.1,
           -7.8,
           -7.6,
           -7.4,
           -7.3,
           -7.3,
           -7.3,
           -7.2,
           -7.1,
           -7.9,
           -7.6,
           -7.5,
           -7.4,
           -7.4,
           -7.4,
           -7.4,
           -7.3,
           -7.3,
           -8,
           -8,
           -8,
           -7.7,
           -7.6,
           -7.5,
           -7.5,
           -7.3,
           -7.2,
           -8.1,
           -7.8,
           -7.7,
           -7.7,
           -7.5,
           -7.5,
           -7.4,
           -7.4,
           -7.3,
           -7.5,
           -7.4,
           -7.3,
           -7.1,
           -7.1,
           -7.1,
           -7.1,
           -7,
           -7,
           -7.4,
           -7.2,
           -7.4,
           -7.4,
           -7.2,
           -7.1,
           -7,
           -7,
           -7.1,
           -7,
           -8.1,
           -7.9,
           -7.9,
           -7.8,
           -7.6,
           -7.6,
           -7.5,
           -7.5,
           -7.5,
           -9.6,
           -9.1,
           -9,
           -9,
           -8.9,
           -8.8,
           -8.8,
           -8.7,
           -8.6,
           -9.6,
           -8.9,
           -8.9,
           -8.9,
           -8.8,
           -8.8,
           -8.8,
           -8.7,
           -8.6,
           -8.2,
           -8.1,
           -8,
           -8,
           -8,
           -7.9,
           -7.8,
           -7.8,
           -7.8,
           -7.1,
           -7.1,
           -7.1,
           -7.1,
           -7,
           -7,
           -8.4,
           -8.4,
           -8.4,
           -8.2,
           -8.1,
           -8,
           -8,
           -7.8,
           -7.8,
           -7.7,
           -7.7,
           -7.3,
           -7.2,
           -7.1,
           -7,
           -8,
           -7.7,
           -7.7,
           -7.5,
           -7.4,
           -7.4,
           -7.2,
           -7.1,
           -7.1,
           -7,
           -7,
           -7,
           -8,
           -7.9,
           -7.2,
           -7.8,
           -7,
           -8.2,
           -8.1,
           -7.3,
           -7.2,
           -7,
           -8.2,
           -8,
           -7.3,
           -7.3,
           -7.2,
           -7,
           -7.3,
           -7.1,
           -7,
           -7
          ],
          "coloraxis": "coloraxis",
          "size": [
           5419842379272479000,
           4133378999547950600,
           1794180426060715800,
           1348279907365868300,
           1009212044656508300,
           752359350923790100,
           752359350923790100,
           752359350923790100,
           558545864083284030,
           11972515182562010000,
           5419842379272479000,
           3141126580731584500,
           1794180426060715800,
           1348279907365868300,
           1348279907365868300,
           1348279907365868300,
           1009212044656508300,
           752359350923790100,
           7082211906170651000,
           3141126580731584500,
           2378408954200495000,
           1794180426060715800,
           1794180426060715800,
           1794180426060715800,
           1794180426060715800,
           1348279907365868300,
           1348279907365868300,
           9223372036854776000,
           9223372036854776000,
           9223372036854776000,
           4133378999547950600,
           3141126580731584500,
           2378408954200495000,
           2378408954200495000,
           1348279907365868300,
           1009212044656508300,
           11972515182562010000,
           5419842379272479000,
           4133378999547950600,
           4133378999547950600,
           2378408954200495000,
           2378408954200495000,
           1794180426060715800,
           1794180426060715800,
           1348279907365868300,
           2378408954200495000,
           1794180426060715800,
           1348279907365868300,
           752359350923790100,
           752359350923790100,
           752359350923790100,
           752359350923790100,
           558545864083284030,
           558545864083284030,
           1794180426060715800,
           1009212044656508300,
           1794180426060715800,
           1794180426060715800,
           1009212044656508300,
           752359350923790100,
           558545864083284030,
           558545864083284030,
           752359350923790100,
           558545864083284030,
           11972515182562010000,
           7082211906170651000,
           7082211906170651000,
           5419842379272479000,
           3141126580731584500,
           3141126580731584500,
           2378408954200495000,
           2378408954200495000,
           2378408954200495000,
           424322336524231100000,
           137996870875659880000,
           109418989131512370000,
           109418989131512370000,
           86534669543385740000,
           68255258401606940000,
           68255258401606940000,
           53691347665120666000,
           42117974383768306000,
           424322336524231100000,
           86534669543385740000,
           86534669543385740000,
           86534669543385740000,
           68255258401606940000,
           68255258401606940000,
           68255258401606940000,
           53691347665120666000,
           42117974383768306000,
           15491408280867560000,
           11972515182562010000,
           9223372036854776000,
           9223372036854776000,
           9223372036854776000,
           7082211906170651000,
           5419842379272479000,
           5419842379272479000,
           5419842379272479000,
           752359350923790100,
           752359350923790100,
           752359350923790100,
           752359350923790100,
           558545864083284030,
           558545864083284030,
           25695969452034015000,
           25695969452034015000,
           25695969452034015000,
           15491408280867560000,
           11972515182562010000,
           9223372036854776000,
           9223372036854776000,
           5419842379272479000,
           5419842379272479000,
           4133378999547950600,
           4133378999547950600,
           1348279907365868300,
           1009212044656508300,
           752359350923790100,
           558545864083284030,
           9223372036854776000,
           4133378999547950600,
           4133378999547950600,
           2378408954200495000,
           1794180426060715800,
           1794180426060715800,
           1009212044656508300,
           752359350923790100,
           752359350923790100,
           558545864083284030,
           558545864083284030,
           558545864083284030,
           9223372036854776000,
           7082211906170651000,
           1009212044656508300,
           5419842379272479000,
           558545864083284030,
           15491408280867560000,
           11972515182562010000,
           1348279907365868300,
           1009212044656508300,
           558545864083284030,
           15491408280867560000,
           9223372036854776000,
           1348279907365868300,
           1348279907365868300,
           1009212044656508300,
           558545864083284030,
           1348279907365868300,
           752359350923790100,
           558545864083284030,
           558545864083284030
          ],
          "sizemode": "area",
          "sizeref": 1060805841310577800,
          "symbol": "circle"
         },
         "mode": "markers+text",
         "name": "",
         "scene": "scene",
         "showlegend": false,
         "text": [
          "CN093",
          "CN093",
          "CN093",
          "CN093",
          "CN093",
          "CN093",
          "CN093",
          "CN093",
          "CN093",
          "CN099",
          "CN099",
          "CN099",
          "CN099",
          "CN099",
          "CN099",
          "CN099",
          "CN099",
          "CN099",
          "CN100",
          "CN100",
          "CN100",
          "CN100",
          "CN100",
          "CN100",
          "CN100",
          "CN100",
          "CN100",
          "CN126",
          "CN126",
          "CN126",
          "CN126",
          "CN126",
          "CN126",
          "CN126",
          "CN126",
          "CN126",
          "CN275",
          "CN275",
          "CN275",
          "CN275",
          "CN275",
          "CN275",
          "CN275",
          "CN275",
          "CN275",
          "CN278",
          "CN278",
          "CN278",
          "CN278",
          "CN278",
          "CN278",
          "CN278",
          "CN278",
          "CN278",
          "CN281",
          "CN281",
          "CN283",
          "CN283",
          "CN283",
          "CN283",
          "CN283",
          "CN283",
          "CN284",
          "CN285",
          "CN286",
          "CN286",
          "CN286",
          "CN286",
          "CN286",
          "CN286",
          "CN286",
          "CN286",
          "CN286",
          "CN288",
          "CN288",
          "CN288",
          "CN288",
          "CN288",
          "CN288",
          "CN288",
          "CN288",
          "CN288",
          "CN289",
          "CN289",
          "CN289",
          "CN289",
          "CN289",
          "CN289",
          "CN289",
          "CN289",
          "CN289",
          "CN290",
          "CN290",
          "CN290",
          "CN290",
          "CN290",
          "CN290",
          "CN290",
          "CN290",
          "CN290",
          "CN292",
          "CN292",
          "CN292",
          "CN292",
          "CN292",
          "CN292",
          "CN334",
          "CN334",
          "CN334",
          "CN334",
          "CN334",
          "CN334",
          "CN334",
          "CN334",
          "CN334",
          "CN335",
          "CN335",
          "CN335",
          "CN335",
          "CN335",
          "CN335",
          "CN336",
          "CN336",
          "CN336",
          "CN336",
          "CN336",
          "CN336",
          "CN336",
          "CN338",
          "CN338",
          "CN338",
          "CN338",
          "CN338",
          "CN342",
          "CN342",
          "CN342",
          "CN343",
          "CN343",
          "CN344",
          "CN344",
          "CN344",
          "CN344",
          "CN344",
          "CN345",
          "CN345",
          "CN345",
          "CN346",
          "CN346",
          "CN346",
          "CN395",
          "CN395",
          "CN395",
          "CN395"
         ],
         "type": "scatter3d",
         "x": [
          0,
          0,
          0,
          0,
          0,
          0,
          0,
          0,
          0,
          0,
          0,
          0,
          0,
          0,
          0,
          0,
          0,
          0,
          0,
          0,
          0,
          0,
          0,
          0,
          0,
          0,
          0,
          0,
          0,
          0,
          0,
          0,
          0,
          0,
          0,
          0,
          0,
          0,
          0,
          0,
          0,
          0,
          0,
          0,
          0,
          0,
          0,
          0,
          0,
          0,
          0,
          0,
          0,
          0,
          0,
          0,
          0,
          0,
          0,
          0,
          0,
          0,
          0,
          0,
          0,
          0,
          0,
          0,
          0,
          0,
          0,
          0,
          0,
          0,
          0,
          0,
          0,
          0,
          0,
          0,
          0,
          0,
          0,
          0,
          0,
          0,
          0,
          0,
          0,
          0,
          0,
          0,
          0,
          0,
          0,
          0,
          0,
          0,
          0,
          0,
          0,
          0,
          0,
          0,
          0,
          0,
          0,
          0,
          0,
          0,
          0,
          0,
          0,
          0,
          0,
          0,
          0,
          0,
          0,
          0,
          0,
          0,
          0,
          0,
          0,
          0,
          0,
          0,
          0,
          0,
          0,
          0,
          0,
          0,
          0,
          0,
          0,
          0,
          0,
          0,
          0,
          0,
          0,
          0,
          0,
          0,
          0,
          0,
          0,
          0,
          0,
          0,
          0
         ],
         "y": [
          -60.75118745393513,
          -60.05217314599635,
          -60.21547423481451,
          -61.158870921840794,
          -59.538597795248904,
          -67.72220061986043,
          -63.77007023946023,
          -61.22655862914219,
          -61.88798411923996,
          -60.57494000771868,
          -60.68928645849326,
          -61.304439935105314,
          -61.00958650848745,
          -61.46972460703987,
          -61.11353677938163,
          -61.31374100876196,
          -60.90198862610622,
          -68.36343990917459,
          -62.86189789808475,
          -60.75217495286459,
          -62.69552566936948,
          -61.196261255397964,
          -61.32174906787396,
          -60.895689026999335,
          -61.04937819759732,
          -61.4358825743977,
          -62.871056223844285,
          -61.37746948061531,
          -60.945224392632156,
          -61.38932445074329,
          -61.238462152540755,
          -61.157075810453456,
          -62.58502025835166,
          -63.140936052448595,
          -61.3545692613022,
          -61.27617050739009,
          -63.0747459518479,
          -63.09550021292299,
          -63.327606398291714,
          -70.24154925512283,
          -70.54614321850939,
          -63.489107019201604,
          -63.559018453351186,
          -48.31739698378559,
          -46.727766425654536,
          -63.0140343755948,
          -63.200027649246735,
          -62.901220551652614,
          -63.26817904527513,
          -46.75011802165369,
          -63.25797098634029,
          -62.7023431946856,
          -63.57580716659059,
          -70.72862705898417,
          -61.428233712937626,
          -61.89645335783423,
          -62.043886588856346,
          -62.05147587735457,
          -49.64030979337443,
          -62.70445468644807,
          -62.711569727283376,
          -49.655111733560524,
          -59.37985873510166,
          -49.7848514713609,
          -60.28846342567355,
          -62.50263298534182,
          -62.67584754437707,
          -60.673802201076654,
          -60.996689492631596,
          -63.37150265541684,
          -62.113037072468586,
          -62.089209276981215,
          -63.330014854256625,
          -63.60412212933175,
          -60.30145574594113,
          -65.15267969912556,
          -63.50624438822011,
          -64.45172081623664,
          -64.95177670657633,
          -65.5707428343778,
          -64.99478336218452,
          -65.91221619198205,
          -63.31735055751747,
          -63.43452993598127,
          -65.25852681580234,
          -60.38057092121936,
          -65.09619800483695,
          -42.351118666359135,
          -64.78658354116956,
          -65.39916696304155,
          -64.76476951982782,
          -62.00665480890412,
          -49.397654775838696,
          -61.98667529618951,
          -61.9465482703732,
          -62.170683922611616,
          -61.16239819311625,
          -49.50068016212949,
          -63.10976298462083,
          -63.15752325007695,
          -63.01335014414529,
          -63.94459195768303,
          -62.97392069102371,
          -63.960590151810244,
          -63.12696436992394,
          -49.77610532098474,
          -61.029262172053755,
          -61.77753195654853,
          -60.56519031037682,
          -62.47902265951993,
          -62.21689087493429,
          -62.94674458965757,
          -62.61385460698362,
          -62.527543212656475,
          -62.30758057143599,
          -62.6301457621013,
          -62.56150573061158,
          -62.16088350477428,
          -64.02070644348836,
          -61.6546337794381,
          -63.832153624080924,
          -60.484239551699396,
          -59.91702395790995,
          -60.8476380277742,
          -59.56990354622792,
          -61.263281884342526,
          -59.830939527919945,
          -60.39369362477795,
          -61.97727406295221,
          -60.941543189936795,
          -59.76712972504487,
          -60.467830972681185,
          -64.27547353620488,
          -59.55447505114777,
          -59.51515982124604,
          -59.56866994675619,
          -59.91838322243058,
          -59.76313232119952,
          -59.69414214694723,
          -59.66613708639593,
          -59.8418181568948,
          -60.14876595968577,
          -60.455148918659006,
          -59.733784224749506,
          -59.65604081004755,
          -59.62740044860427,
          -59.97938267103758,
          -60.41666589485104,
          -60.30916341007479,
          -60.938769304944934,
          -59.83252348177193,
          -60.71057606368141,
          -60.88669395207643
         ],
         "z": [
          54.117132125448514,
          53.343287814023704,
          52.74629120646537,
          53.76410237397174,
          53.07532147231076,
          42.0223038994316,
          72.04853761865918,
          53.192714670898546,
          53.60987438558194,
          53.414850752615116,
          53.805074492488735,
          53.49523863903513,
          52.78964340749768,
          53.83582920847344,
          53.51776695686241,
          52.799409267281895,
          52.7588444765736,
          42.243425971565756,
          52.77950256615447,
          50.00912946297451,
          52.517956587943324,
          50.649120407954115,
          51.21468229766469,
          50.620798383774165,
          50.50573505593589,
          50.62093825600328,
          52.22929788738166,
          53.869024175636746,
          53.478731980020534,
          53.124774990596784,
          52.65790566439512,
          53.027265325506974,
          53.01757727872972,
          53.31917361081088,
          52.70267935991297,
          52.34846438806406,
          50.2265091497157,
          50.258440149670264,
          49.8039221831396,
          42.42269852151155,
          41.52544248590911,
          49.8456025609156,
          50.122040319637826,
          31.053786504043916,
          32.453970958429416,
          50.386040500648704,
          49.99351616467796,
          51.71810716312807,
          50.36002987698443,
          32.90720980920118,
          49.73919265517008,
          51.68788214202511,
          49.43433433555537,
          42.445262505072755,
          54.12178553706663,
          54.000080907972695,
          53.615219298002614,
          53.63535337190594,
          32.925771051679995,
          53.99730781113808,
          54.008534044510405,
          32.29856443330397,
          54.76059359627944,
          32.771851226685094,
          52.15670304166269,
          53.667369963503766,
          54.0435701599313,
          51.88559761218135,
          51.46624176106343,
          71.59913939120491,
          53.423091679254796,
          53.68050911373071,
          53.433399630737505,
          53.408756083099064,
          49.99768847552658,
          53.180428318364086,
          53.442669371177395,
          53.693756805928714,
          53.60620783588089,
          53.33904036485085,
          53.58785090850512,
          53.16227961761895,
          53.519689864427654,
          53.35882955041355,
          53.40954222921508,
          49.8464714254118,
          53.71739676413705,
          53.66186892753911,
          53.62668951622923,
          53.218867431821,
          53.690123065890674,
          54.0632444825613,
          33.247576376234896,
          54.05724493881554,
          53.85885061366438,
          53.67895310874783,
          53.17913514849833,
          33.08725525194032,
          69.97848066943608,
          53.45099903886828,
          53.55715971587801,
          53.628140134439825,
          53.5256323772837,
          53.62430993945577,
          53.80185748316406,
          32.586547732318095,
          53.614608373620236,
          52.945269663147364,
          52.46291580566245,
          52.8265138141373,
          52.84808543376831,
          52.356152043762926,
          52.79498977242493,
          53.18257646249586,
          52.130693856057306,
          53.32955814187234,
          53.31825956326853,
          53.11287171006189,
          52.84940649083921,
          52.87884710854957,
          53.16658565996296,
          54.262894344485495,
          53.70611994575857,
          54.69634854612717,
          53.92103696797039,
          54.230377056661304,
          53.602667092862106,
          54.23673663492686,
          53.874398436503434,
          54.27969242299815,
          53.958999403793996,
          53.557430238103656,
          37.6361331808898,
          54.497765573657446,
          54.35845007587763,
          54.43960654997261,
          54.56914916127192,
          54.16942535572042,
          54.2585309395323,
          54.174736643696754,
          54.42736491865578,
          53.96920922853735,
          54.125414471348606,
          54.289641768467014,
          54.309132396653304,
          54.3923735970013,
          54.7199295095141,
          54.42548001807256,
          54.860663445202434,
          53.94601613273452,
          53.914743175645555,
          54.15913915337049,
          53.93136190797932
         ]
        }
       ],
       "layout": {
        "coloraxis": {
         "colorbar": {
          "title": {
           "text": "Energy"
          }
         },
         "colorscale": [
          [
           0,
           "#0d0887"
          ],
          [
           0.1111111111111111,
           "#46039f"
          ],
          [
           0.2222222222222222,
           "#7201a8"
          ],
          [
           0.3333333333333333,
           "#9c179e"
          ],
          [
           0.4444444444444444,
           "#bd3786"
          ],
          [
           0.5555555555555556,
           "#d8576b"
          ],
          [
           0.6666666666666666,
           "#ed7953"
          ],
          [
           0.7777777777777778,
           "#fb9f3a"
          ],
          [
           0.8888888888888888,
           "#fdca26"
          ],
          [
           1,
           "#f0f921"
          ]
         ]
        },
        "legend": {
         "itemsizing": "constant",
         "tracegroupgap": 0
        },
        "margin": {
         "t": 60
        },
        "scene": {
         "domain": {
          "x": [
           0,
           1
          ],
          "y": [
           0,
           1
          ]
         },
         "xaxis": {
          "title": {
           "text": "x"
          }
         },
         "yaxis": {
          "title": {
           "text": "y"
          }
         },
         "zaxis": {
          "title": {
           "text": "z"
          }
         }
        },
        "template": {
         "data": {
          "bar": [
           {
            "error_x": {
             "color": "#2a3f5f"
            },
            "error_y": {
             "color": "#2a3f5f"
            },
            "marker": {
             "line": {
              "color": "#E5ECF6",
              "width": 0.5
             }
            },
            "type": "bar"
           }
          ],
          "barpolar": [
           {
            "marker": {
             "line": {
              "color": "#E5ECF6",
              "width": 0.5
             }
            },
            "type": "barpolar"
           }
          ],
          "carpet": [
           {
            "aaxis": {
             "endlinecolor": "#2a3f5f",
             "gridcolor": "white",
             "linecolor": "white",
             "minorgridcolor": "white",
             "startlinecolor": "#2a3f5f"
            },
            "baxis": {
             "endlinecolor": "#2a3f5f",
             "gridcolor": "white",
             "linecolor": "white",
             "minorgridcolor": "white",
             "startlinecolor": "#2a3f5f"
            },
            "type": "carpet"
           }
          ],
          "choropleth": [
           {
            "colorbar": {
             "outlinewidth": 0,
             "ticks": ""
            },
            "type": "choropleth"
           }
          ],
          "contour": [
           {
            "colorbar": {
             "outlinewidth": 0,
             "ticks": ""
            },
            "colorscale": [
             [
              0,
              "#0d0887"
             ],
             [
              0.1111111111111111,
              "#46039f"
             ],
             [
              0.2222222222222222,
              "#7201a8"
             ],
             [
              0.3333333333333333,
              "#9c179e"
             ],
             [
              0.4444444444444444,
              "#bd3786"
             ],
             [
              0.5555555555555556,
              "#d8576b"
             ],
             [
              0.6666666666666666,
              "#ed7953"
             ],
             [
              0.7777777777777778,
              "#fb9f3a"
             ],
             [
              0.8888888888888888,
              "#fdca26"
             ],
             [
              1,
              "#f0f921"
             ]
            ],
            "type": "contour"
           }
          ],
          "contourcarpet": [
           {
            "colorbar": {
             "outlinewidth": 0,
             "ticks": ""
            },
            "type": "contourcarpet"
           }
          ],
          "heatmap": [
           {
            "colorbar": {
             "outlinewidth": 0,
             "ticks": ""
            },
            "colorscale": [
             [
              0,
              "#0d0887"
             ],
             [
              0.1111111111111111,
              "#46039f"
             ],
             [
              0.2222222222222222,
              "#7201a8"
             ],
             [
              0.3333333333333333,
              "#9c179e"
             ],
             [
              0.4444444444444444,
              "#bd3786"
             ],
             [
              0.5555555555555556,
              "#d8576b"
             ],
             [
              0.6666666666666666,
              "#ed7953"
             ],
             [
              0.7777777777777778,
              "#fb9f3a"
             ],
             [
              0.8888888888888888,
              "#fdca26"
             ],
             [
              1,
              "#f0f921"
             ]
            ],
            "type": "heatmap"
           }
          ],
          "heatmapgl": [
           {
            "colorbar": {
             "outlinewidth": 0,
             "ticks": ""
            },
            "colorscale": [
             [
              0,
              "#0d0887"
             ],
             [
              0.1111111111111111,
              "#46039f"
             ],
             [
              0.2222222222222222,
              "#7201a8"
             ],
             [
              0.3333333333333333,
              "#9c179e"
             ],
             [
              0.4444444444444444,
              "#bd3786"
             ],
             [
              0.5555555555555556,
              "#d8576b"
             ],
             [
              0.6666666666666666,
              "#ed7953"
             ],
             [
              0.7777777777777778,
              "#fb9f3a"
             ],
             [
              0.8888888888888888,
              "#fdca26"
             ],
             [
              1,
              "#f0f921"
             ]
            ],
            "type": "heatmapgl"
           }
          ],
          "histogram": [
           {
            "marker": {
             "colorbar": {
              "outlinewidth": 0,
              "ticks": ""
             }
            },
            "type": "histogram"
           }
          ],
          "histogram2d": [
           {
            "colorbar": {
             "outlinewidth": 0,
             "ticks": ""
            },
            "colorscale": [
             [
              0,
              "#0d0887"
             ],
             [
              0.1111111111111111,
              "#46039f"
             ],
             [
              0.2222222222222222,
              "#7201a8"
             ],
             [
              0.3333333333333333,
              "#9c179e"
             ],
             [
              0.4444444444444444,
              "#bd3786"
             ],
             [
              0.5555555555555556,
              "#d8576b"
             ],
             [
              0.6666666666666666,
              "#ed7953"
             ],
             [
              0.7777777777777778,
              "#fb9f3a"
             ],
             [
              0.8888888888888888,
              "#fdca26"
             ],
             [
              1,
              "#f0f921"
             ]
            ],
            "type": "histogram2d"
           }
          ],
          "histogram2dcontour": [
           {
            "colorbar": {
             "outlinewidth": 0,
             "ticks": ""
            },
            "colorscale": [
             [
              0,
              "#0d0887"
             ],
             [
              0.1111111111111111,
              "#46039f"
             ],
             [
              0.2222222222222222,
              "#7201a8"
             ],
             [
              0.3333333333333333,
              "#9c179e"
             ],
             [
              0.4444444444444444,
              "#bd3786"
             ],
             [
              0.5555555555555556,
              "#d8576b"
             ],
             [
              0.6666666666666666,
              "#ed7953"
             ],
             [
              0.7777777777777778,
              "#fb9f3a"
             ],
             [
              0.8888888888888888,
              "#fdca26"
             ],
             [
              1,
              "#f0f921"
             ]
            ],
            "type": "histogram2dcontour"
           }
          ],
          "mesh3d": [
           {
            "colorbar": {
             "outlinewidth": 0,
             "ticks": ""
            },
            "type": "mesh3d"
           }
          ],
          "parcoords": [
           {
            "line": {
             "colorbar": {
              "outlinewidth": 0,
              "ticks": ""
             }
            },
            "type": "parcoords"
           }
          ],
          "pie": [
           {
            "automargin": true,
            "type": "pie"
           }
          ],
          "scatter": [
           {
            "marker": {
             "colorbar": {
              "outlinewidth": 0,
              "ticks": ""
             }
            },
            "type": "scatter"
           }
          ],
          "scatter3d": [
           {
            "line": {
             "colorbar": {
              "outlinewidth": 0,
              "ticks": ""
             }
            },
            "marker": {
             "colorbar": {
              "outlinewidth": 0,
              "ticks": ""
             }
            },
            "type": "scatter3d"
           }
          ],
          "scattercarpet": [
           {
            "marker": {
             "colorbar": {
              "outlinewidth": 0,
              "ticks": ""
             }
            },
            "type": "scattercarpet"
           }
          ],
          "scattergeo": [
           {
            "marker": {
             "colorbar": {
              "outlinewidth": 0,
              "ticks": ""
             }
            },
            "type": "scattergeo"
           }
          ],
          "scattergl": [
           {
            "marker": {
             "colorbar": {
              "outlinewidth": 0,
              "ticks": ""
             }
            },
            "type": "scattergl"
           }
          ],
          "scattermapbox": [
           {
            "marker": {
             "colorbar": {
              "outlinewidth": 0,
              "ticks": ""
             }
            },
            "type": "scattermapbox"
           }
          ],
          "scatterpolar": [
           {
            "marker": {
             "colorbar": {
              "outlinewidth": 0,
              "ticks": ""
             }
            },
            "type": "scatterpolar"
           }
          ],
          "scatterpolargl": [
           {
            "marker": {
             "colorbar": {
              "outlinewidth": 0,
              "ticks": ""
             }
            },
            "type": "scatterpolargl"
           }
          ],
          "scatterternary": [
           {
            "marker": {
             "colorbar": {
              "outlinewidth": 0,
              "ticks": ""
             }
            },
            "type": "scatterternary"
           }
          ],
          "surface": [
           {
            "colorbar": {
             "outlinewidth": 0,
             "ticks": ""
            },
            "colorscale": [
             [
              0,
              "#0d0887"
             ],
             [
              0.1111111111111111,
              "#46039f"
             ],
             [
              0.2222222222222222,
              "#7201a8"
             ],
             [
              0.3333333333333333,
              "#9c179e"
             ],
             [
              0.4444444444444444,
              "#bd3786"
             ],
             [
              0.5555555555555556,
              "#d8576b"
             ],
             [
              0.6666666666666666,
              "#ed7953"
             ],
             [
              0.7777777777777778,
              "#fb9f3a"
             ],
             [
              0.8888888888888888,
              "#fdca26"
             ],
             [
              1,
              "#f0f921"
             ]
            ],
            "type": "surface"
           }
          ],
          "table": [
           {
            "cells": {
             "fill": {
              "color": "#EBF0F8"
             },
             "line": {
              "color": "white"
             }
            },
            "header": {
             "fill": {
              "color": "#C8D4E3"
             },
             "line": {
              "color": "white"
             }
            },
            "type": "table"
           }
          ]
         },
         "layout": {
          "annotationdefaults": {
           "arrowcolor": "#2a3f5f",
           "arrowhead": 0,
           "arrowwidth": 1
          },
          "autotypenumbers": "strict",
          "coloraxis": {
           "colorbar": {
            "outlinewidth": 0,
            "ticks": ""
           }
          },
          "colorscale": {
           "diverging": [
            [
             0,
             "#8e0152"
            ],
            [
             0.1,
             "#c51b7d"
            ],
            [
             0.2,
             "#de77ae"
            ],
            [
             0.3,
             "#f1b6da"
            ],
            [
             0.4,
             "#fde0ef"
            ],
            [
             0.5,
             "#f7f7f7"
            ],
            [
             0.6,
             "#e6f5d0"
            ],
            [
             0.7,
             "#b8e186"
            ],
            [
             0.8,
             "#7fbc41"
            ],
            [
             0.9,
             "#4d9221"
            ],
            [
             1,
             "#276419"
            ]
           ],
           "sequential": [
            [
             0,
             "#0d0887"
            ],
            [
             0.1111111111111111,
             "#46039f"
            ],
            [
             0.2222222222222222,
             "#7201a8"
            ],
            [
             0.3333333333333333,
             "#9c179e"
            ],
            [
             0.4444444444444444,
             "#bd3786"
            ],
            [
             0.5555555555555556,
             "#d8576b"
            ],
            [
             0.6666666666666666,
             "#ed7953"
            ],
            [
             0.7777777777777778,
             "#fb9f3a"
            ],
            [
             0.8888888888888888,
             "#fdca26"
            ],
            [
             1,
             "#f0f921"
            ]
           ],
           "sequentialminus": [
            [
             0,
             "#0d0887"
            ],
            [
             0.1111111111111111,
             "#46039f"
            ],
            [
             0.2222222222222222,
             "#7201a8"
            ],
            [
             0.3333333333333333,
             "#9c179e"
            ],
            [
             0.4444444444444444,
             "#bd3786"
            ],
            [
             0.5555555555555556,
             "#d8576b"
            ],
            [
             0.6666666666666666,
             "#ed7953"
            ],
            [
             0.7777777777777778,
             "#fb9f3a"
            ],
            [
             0.8888888888888888,
             "#fdca26"
            ],
            [
             1,
             "#f0f921"
            ]
           ]
          },
          "colorway": [
           "#636efa",
           "#EF553B",
           "#00cc96",
           "#ab63fa",
           "#FFA15A",
           "#19d3f3",
           "#FF6692",
           "#B6E880",
           "#FF97FF",
           "#FECB52"
          ],
          "font": {
           "color": "#2a3f5f"
          },
          "geo": {
           "bgcolor": "white",
           "lakecolor": "white",
           "landcolor": "#E5ECF6",
           "showlakes": true,
           "showland": true,
           "subunitcolor": "white"
          },
          "hoverlabel": {
           "align": "left"
          },
          "hovermode": "closest",
          "mapbox": {
           "style": "light"
          },
          "paper_bgcolor": "white",
          "plot_bgcolor": "#E5ECF6",
          "polar": {
           "angularaxis": {
            "gridcolor": "white",
            "linecolor": "white",
            "ticks": ""
           },
           "bgcolor": "#E5ECF6",
           "radialaxis": {
            "gridcolor": "white",
            "linecolor": "white",
            "ticks": ""
           }
          },
          "scene": {
           "xaxis": {
            "backgroundcolor": "#E5ECF6",
            "gridcolor": "white",
            "gridwidth": 2,
            "linecolor": "white",
            "showbackground": true,
            "ticks": "",
            "zerolinecolor": "white"
           },
           "yaxis": {
            "backgroundcolor": "#E5ECF6",
            "gridcolor": "white",
            "gridwidth": 2,
            "linecolor": "white",
            "showbackground": true,
            "ticks": "",
            "zerolinecolor": "white"
           },
           "zaxis": {
            "backgroundcolor": "#E5ECF6",
            "gridcolor": "white",
            "gridwidth": 2,
            "linecolor": "white",
            "showbackground": true,
            "ticks": "",
            "zerolinecolor": "white"
           }
          },
          "shapedefaults": {
           "line": {
            "color": "#2a3f5f"
           }
          },
          "ternary": {
           "aaxis": {
            "gridcolor": "white",
            "linecolor": "white",
            "ticks": ""
           },
           "baxis": {
            "gridcolor": "white",
            "linecolor": "white",
            "ticks": ""
           },
           "bgcolor": "#E5ECF6",
           "caxis": {
            "gridcolor": "white",
            "linecolor": "white",
            "ticks": ""
           }
          },
          "title": {
           "x": 0.05
          },
          "xaxis": {
           "automargin": true,
           "gridcolor": "white",
           "linecolor": "white",
           "ticks": "",
           "title": {
            "standoff": 15
           },
           "zerolinecolor": "white",
           "zerolinewidth": 2
          },
          "yaxis": {
           "automargin": true,
           "gridcolor": "white",
           "linecolor": "white",
           "ticks": "",
           "title": {
            "standoff": 15
           },
           "zerolinecolor": "white",
           "zerolinewidth": 2
          }
         }
        }
       }
      },
      "text/html": [
       "<div>                            <div id=\"f1569d02-5b8b-410d-86a8-96f29e0c9d1a\" class=\"plotly-graph-div\" style=\"height:525px; width:100%;\"></div>            <script type=\"text/javascript\">                require([\"plotly\"], function(Plotly) {                    window.PLOTLYENV=window.PLOTLYENV || {};                                    if (document.getElementById(\"f1569d02-5b8b-410d-86a8-96f29e0c9d1a\")) {                    Plotly.newPlot(                        \"f1569d02-5b8b-410d-86a8-96f29e0c9d1a\",                        [{\"hovertemplate\": \"x=%{x}<br>y=%{y}<br>z=%{z}<br>size=%{marker.size}<br>Name=%{text}<br>Energy=%{marker.color}<extra></extra>\", \"legendgroup\": \"\", \"marker\": {\"color\": [-7.8, -7.7, -7.4, -7.3, -7.2, -7.1, -7.1, -7.1, -7.0, -8.1, -7.8, -7.6, -7.4, -7.3, -7.3, -7.3, -7.2, -7.1, -7.9, -7.6, -7.5, -7.4, -7.4, -7.4, -7.4, -7.3, -7.3, -8.0, -8.0, -8.0, -7.7, -7.6, -7.5, -7.5, -7.3, -7.2, -8.1, -7.8, -7.7, -7.7, -7.5, -7.5, -7.4, -7.4, -7.3, -7.5, -7.4, -7.3, -7.1, -7.1, -7.1, -7.1, -7.0, -7.0, -7.4, -7.2, -7.4, -7.4, -7.2, -7.1, -7.0, -7.0, -7.1, -7.0, -8.1, -7.9, -7.9, -7.8, -7.6, -7.6, -7.5, -7.5, -7.5, -9.6, -9.1, -9.0, -9.0, -8.9, -8.8, -8.8, -8.7, -8.6, -9.6, -8.9, -8.9, -8.9, -8.8, -8.8, -8.8, -8.7, -8.6, -8.2, -8.1, -8.0, -8.0, -8.0, -7.9, -7.8, -7.8, -7.8, -7.1, -7.1, -7.1, -7.1, -7.0, -7.0, -8.4, -8.4, -8.4, -8.2, -8.1, -8.0, -8.0, -7.8, -7.8, -7.7, -7.7, -7.3, -7.2, -7.1, -7.0, -8.0, -7.7, -7.7, -7.5, -7.4, -7.4, -7.2, -7.1, -7.1, -7.0, -7.0, -7.0, -8.0, -7.9, -7.2, -7.8, -7.0, -8.2, -8.1, -7.3, -7.2, -7.0, -8.2, -8.0, -7.3, -7.3, -7.2, -7.0, -7.3, -7.1, -7.0, -7.0], \"coloraxis\": \"coloraxis\", \"size\": [5.419842379272479e+18, 4.1333789995479506e+18, 1.7941804260607158e+18, 1.3482799073658683e+18, 1.0092120446565083e+18, 7.523593509237901e+17, 7.523593509237901e+17, 7.523593509237901e+17, 5.5854586408328403e+17, 1.197251518256201e+19, 5.419842379272479e+18, 3.1411265807315845e+18, 1.7941804260607158e+18, 1.3482799073658683e+18, 1.3482799073658683e+18, 1.3482799073658683e+18, 1.0092120446565083e+18, 7.523593509237901e+17, 7.082211906170651e+18, 3.1411265807315845e+18, 2.378408954200495e+18, 1.7941804260607158e+18, 1.7941804260607158e+18, 1.7941804260607158e+18, 1.7941804260607158e+18, 1.3482799073658683e+18, 1.3482799073658683e+18, 9.223372036854776e+18, 9.223372036854776e+18, 9.223372036854776e+18, 4.1333789995479506e+18, 3.1411265807315845e+18, 2.378408954200495e+18, 2.378408954200495e+18, 1.3482799073658683e+18, 1.0092120446565083e+18, 1.197251518256201e+19, 5.419842379272479e+18, 4.1333789995479506e+18, 4.1333789995479506e+18, 2.378408954200495e+18, 2.378408954200495e+18, 1.7941804260607158e+18, 1.7941804260607158e+18, 1.3482799073658683e+18, 2.378408954200495e+18, 1.7941804260607158e+18, 1.3482799073658683e+18, 7.523593509237901e+17, 7.523593509237901e+17, 7.523593509237901e+17, 7.523593509237901e+17, 5.5854586408328403e+17, 5.5854586408328403e+17, 1.7941804260607158e+18, 1.0092120446565083e+18, 1.7941804260607158e+18, 1.7941804260607158e+18, 1.0092120446565083e+18, 7.523593509237901e+17, 5.5854586408328403e+17, 5.5854586408328403e+17, 7.523593509237901e+17, 5.5854586408328403e+17, 1.197251518256201e+19, 7.082211906170651e+18, 7.082211906170651e+18, 5.419842379272479e+18, 3.1411265807315845e+18, 3.1411265807315845e+18, 2.378408954200495e+18, 2.378408954200495e+18, 2.378408954200495e+18, 4.243223365242311e+20, 1.3799687087565988e+20, 1.0941898913151237e+20, 1.0941898913151237e+20, 8.653466954338574e+19, 6.825525840160694e+19, 6.825525840160694e+19, 5.3691347665120666e+19, 4.2117974383768306e+19, 4.243223365242311e+20, 8.653466954338574e+19, 8.653466954338574e+19, 8.653466954338574e+19, 6.825525840160694e+19, 6.825525840160694e+19, 6.825525840160694e+19, 5.3691347665120666e+19, 4.2117974383768306e+19, 1.549140828086756e+19, 1.197251518256201e+19, 9.223372036854776e+18, 9.223372036854776e+18, 9.223372036854776e+18, 7.082211906170651e+18, 5.419842379272479e+18, 5.419842379272479e+18, 5.419842379272479e+18, 7.523593509237901e+17, 7.523593509237901e+17, 7.523593509237901e+17, 7.523593509237901e+17, 5.5854586408328403e+17, 5.5854586408328403e+17, 2.5695969452034015e+19, 2.5695969452034015e+19, 2.5695969452034015e+19, 1.549140828086756e+19, 1.197251518256201e+19, 9.223372036854776e+18, 9.223372036854776e+18, 5.419842379272479e+18, 5.419842379272479e+18, 4.1333789995479506e+18, 4.1333789995479506e+18, 1.3482799073658683e+18, 1.0092120446565083e+18, 7.523593509237901e+17, 5.5854586408328403e+17, 9.223372036854776e+18, 4.1333789995479506e+18, 4.1333789995479506e+18, 2.378408954200495e+18, 1.7941804260607158e+18, 1.7941804260607158e+18, 1.0092120446565083e+18, 7.523593509237901e+17, 7.523593509237901e+17, 5.5854586408328403e+17, 5.5854586408328403e+17, 5.5854586408328403e+17, 9.223372036854776e+18, 7.082211906170651e+18, 1.0092120446565083e+18, 5.419842379272479e+18, 5.5854586408328403e+17, 1.549140828086756e+19, 1.197251518256201e+19, 1.3482799073658683e+18, 1.0092120446565083e+18, 5.5854586408328403e+17, 1.549140828086756e+19, 9.223372036854776e+18, 1.3482799073658683e+18, 1.3482799073658683e+18, 1.0092120446565083e+18, 5.5854586408328403e+17, 1.3482799073658683e+18, 7.523593509237901e+17, 5.5854586408328403e+17, 5.5854586408328403e+17], \"sizemode\": \"area\", \"sizeref\": 1.0608058413105778e+18, \"symbol\": \"circle\"}, \"mode\": \"markers+text\", \"name\": \"\", \"scene\": \"scene\", \"showlegend\": false, \"text\": [\"CN093\", \"CN093\", \"CN093\", \"CN093\", \"CN093\", \"CN093\", \"CN093\", \"CN093\", \"CN093\", \"CN099\", \"CN099\", \"CN099\", \"CN099\", \"CN099\", \"CN099\", \"CN099\", \"CN099\", \"CN099\", \"CN100\", \"CN100\", \"CN100\", \"CN100\", \"CN100\", \"CN100\", \"CN100\", \"CN100\", \"CN100\", \"CN126\", \"CN126\", \"CN126\", \"CN126\", \"CN126\", \"CN126\", \"CN126\", \"CN126\", \"CN126\", \"CN275\", \"CN275\", \"CN275\", \"CN275\", \"CN275\", \"CN275\", \"CN275\", \"CN275\", \"CN275\", \"CN278\", \"CN278\", \"CN278\", \"CN278\", \"CN278\", \"CN278\", \"CN278\", \"CN278\", \"CN278\", \"CN281\", \"CN281\", \"CN283\", \"CN283\", \"CN283\", \"CN283\", \"CN283\", \"CN283\", \"CN284\", \"CN285\", \"CN286\", \"CN286\", \"CN286\", \"CN286\", \"CN286\", \"CN286\", \"CN286\", \"CN286\", \"CN286\", \"CN288\", \"CN288\", \"CN288\", \"CN288\", \"CN288\", \"CN288\", \"CN288\", \"CN288\", \"CN288\", \"CN289\", \"CN289\", \"CN289\", \"CN289\", \"CN289\", \"CN289\", \"CN289\", \"CN289\", \"CN289\", \"CN290\", \"CN290\", \"CN290\", \"CN290\", \"CN290\", \"CN290\", \"CN290\", \"CN290\", \"CN290\", \"CN292\", \"CN292\", \"CN292\", \"CN292\", \"CN292\", \"CN292\", \"CN334\", \"CN334\", \"CN334\", \"CN334\", \"CN334\", \"CN334\", \"CN334\", \"CN334\", \"CN334\", \"CN335\", \"CN335\", \"CN335\", \"CN335\", \"CN335\", \"CN335\", \"CN336\", \"CN336\", \"CN336\", \"CN336\", \"CN336\", \"CN336\", \"CN336\", \"CN338\", \"CN338\", \"CN338\", \"CN338\", \"CN338\", \"CN342\", \"CN342\", \"CN342\", \"CN343\", \"CN343\", \"CN344\", \"CN344\", \"CN344\", \"CN344\", \"CN344\", \"CN345\", \"CN345\", \"CN345\", \"CN346\", \"CN346\", \"CN346\", \"CN395\", \"CN395\", \"CN395\", \"CN395\"], \"type\": \"scatter3d\", \"x\": [0.0, 0.0, 0.0, 0.0, 0.0, 0.0, 0.0, 0.0, 0.0, 0.0, 0.0, 0.0, 0.0, 0.0, 0.0, 0.0, 0.0, 0.0, 0.0, 0.0, 0.0, 0.0, 0.0, 0.0, 0.0, 0.0, 0.0, 0.0, 0.0, 0.0, 0.0, 0.0, 0.0, 0.0, 0.0, 0.0, 0.0, 0.0, 0.0, 0.0, 0.0, 0.0, 0.0, 0.0, 0.0, 0.0, 0.0, 0.0, 0.0, 0.0, 0.0, 0.0, 0.0, 0.0, 0.0, 0.0, 0.0, 0.0, 0.0, 0.0, 0.0, 0.0, 0.0, 0.0, 0.0, 0.0, 0.0, 0.0, 0.0, 0.0, 0.0, 0.0, 0.0, 0.0, 0.0, 0.0, 0.0, 0.0, 0.0, 0.0, 0.0, 0.0, 0.0, 0.0, 0.0, 0.0, 0.0, 0.0, 0.0, 0.0, 0.0, 0.0, 0.0, 0.0, 0.0, 0.0, 0.0, 0.0, 0.0, 0.0, 0.0, 0.0, 0.0, 0.0, 0.0, 0.0, 0.0, 0.0, 0.0, 0.0, 0.0, 0.0, 0.0, 0.0, 0.0, 0.0, 0.0, 0.0, 0.0, 0.0, 0.0, 0.0, 0.0, 0.0, 0.0, 0.0, 0.0, 0.0, 0.0, 0.0, 0.0, 0.0, 0.0, 0.0, 0.0, 0.0, 0.0, 0.0, 0.0, 0.0, 0.0, 0.0, 0.0, 0.0, 0.0, 0.0, 0.0, 0.0, 0.0, 0.0, 0.0, 0.0, 0.0], \"y\": [-60.75118745393513, -60.05217314599635, -60.21547423481451, -61.158870921840794, -59.538597795248904, -67.72220061986043, -63.77007023946023, -61.22655862914219, -61.88798411923996, -60.57494000771868, -60.68928645849326, -61.304439935105314, -61.00958650848745, -61.46972460703987, -61.11353677938163, -61.31374100876196, -60.90198862610622, -68.36343990917459, -62.86189789808475, -60.75217495286459, -62.69552566936948, -61.196261255397964, -61.32174906787396, -60.895689026999335, -61.04937819759732, -61.4358825743977, -62.871056223844285, -61.37746948061531, -60.945224392632156, -61.38932445074329, -61.238462152540755, -61.157075810453456, -62.58502025835166, -63.140936052448595, -61.3545692613022, -61.27617050739009, -63.0747459518479, -63.09550021292299, -63.327606398291714, -70.24154925512283, -70.54614321850939, -63.489107019201604, -63.559018453351186, -48.31739698378559, -46.727766425654536, -63.0140343755948, -63.200027649246735, -62.901220551652614, -63.26817904527513, -46.75011802165369, -63.25797098634029, -62.7023431946856, -63.57580716659059, -70.72862705898417, -61.428233712937626, -61.89645335783423, -62.043886588856346, -62.05147587735457, -49.64030979337443, -62.70445468644807, -62.711569727283376, -49.655111733560524, -59.37985873510166, -49.7848514713609, -60.28846342567355, -62.50263298534182, -62.67584754437707, -60.673802201076654, -60.996689492631596, -63.37150265541684, -62.113037072468586, -62.089209276981215, -63.330014854256625, -63.60412212933175, -60.30145574594113, -65.15267969912556, -63.50624438822011, -64.45172081623664, -64.95177670657633, -65.5707428343778, -64.99478336218452, -65.91221619198205, -63.31735055751747, -63.43452993598127, -65.25852681580234, -60.38057092121936, -65.09619800483695, -42.351118666359135, -64.78658354116956, -65.39916696304155, -64.76476951982782, -62.00665480890412, -49.397654775838696, -61.98667529618951, -61.9465482703732, -62.170683922611616, -61.16239819311625, -49.50068016212949, -63.10976298462083, -63.15752325007695, -63.01335014414529, -63.94459195768303, -62.97392069102371, -63.960590151810244, -63.12696436992394, -49.77610532098474, -61.029262172053755, -61.77753195654853, -60.56519031037682, -62.47902265951993, -62.21689087493429, -62.94674458965757, -62.61385460698362, -62.527543212656475, -62.30758057143599, -62.6301457621013, -62.56150573061158, -62.16088350477428, -64.02070644348836, -61.6546337794381, -63.832153624080924, -60.484239551699396, -59.91702395790995, -60.8476380277742, -59.56990354622792, -61.263281884342526, -59.830939527919945, -60.39369362477795, -61.97727406295221, -60.941543189936795, -59.76712972504487, -60.467830972681185, -64.27547353620488, -59.55447505114777, -59.51515982124604, -59.56866994675619, -59.91838322243058, -59.76313232119952, -59.69414214694723, -59.66613708639593, -59.8418181568948, -60.14876595968577, -60.455148918659006, -59.733784224749506, -59.65604081004755, -59.62740044860427, -59.97938267103758, -60.41666589485104, -60.30916341007479, -60.938769304944934, -59.83252348177193, -60.71057606368141, -60.88669395207643], \"z\": [54.117132125448514, 53.343287814023704, 52.74629120646537, 53.76410237397174, 53.07532147231076, 42.0223038994316, 72.04853761865918, 53.192714670898546, 53.60987438558194, 53.414850752615116, 53.805074492488735, 53.49523863903513, 52.78964340749768, 53.83582920847344, 53.51776695686241, 52.799409267281895, 52.7588444765736, 42.243425971565756, 52.77950256615447, 50.00912946297451, 52.517956587943324, 50.649120407954115, 51.21468229766469, 50.620798383774165, 50.50573505593589, 50.62093825600328, 52.22929788738166, 53.869024175636746, 53.478731980020534, 53.124774990596784, 52.65790566439512, 53.027265325506974, 53.01757727872972, 53.31917361081088, 52.70267935991297, 52.34846438806406, 50.2265091497157, 50.258440149670264, 49.8039221831396, 42.42269852151155, 41.52544248590911, 49.8456025609156, 50.122040319637826, 31.053786504043916, 32.453970958429416, 50.386040500648704, 49.99351616467796, 51.71810716312807, 50.36002987698443, 32.90720980920118, 49.73919265517008, 51.68788214202511, 49.43433433555537, 42.445262505072755, 54.12178553706663, 54.000080907972695, 53.615219298002614, 53.63535337190594, 32.925771051679995, 53.99730781113808, 54.008534044510405, 32.29856443330397, 54.76059359627944, 32.771851226685094, 52.15670304166269, 53.667369963503766, 54.0435701599313, 51.88559761218135, 51.46624176106343, 71.59913939120491, 53.423091679254796, 53.68050911373071, 53.433399630737505, 53.408756083099064, 49.99768847552658, 53.180428318364086, 53.442669371177395, 53.693756805928714, 53.60620783588089, 53.33904036485085, 53.58785090850512, 53.16227961761895, 53.519689864427654, 53.35882955041355, 53.40954222921508, 49.8464714254118, 53.71739676413705, 53.66186892753911, 53.62668951622923, 53.218867431821, 53.690123065890674, 54.0632444825613, 33.247576376234896, 54.05724493881554, 53.85885061366438, 53.67895310874783, 53.17913514849833, 33.08725525194032, 69.97848066943608, 53.45099903886828, 53.55715971587801, 53.628140134439825, 53.5256323772837, 53.62430993945577, 53.80185748316406, 32.586547732318095, 53.614608373620236, 52.945269663147364, 52.46291580566245, 52.8265138141373, 52.84808543376831, 52.356152043762926, 52.79498977242493, 53.18257646249586, 52.130693856057306, 53.32955814187234, 53.31825956326853, 53.11287171006189, 52.84940649083921, 52.87884710854957, 53.16658565996296, 54.262894344485495, 53.70611994575857, 54.69634854612717, 53.92103696797039, 54.230377056661304, 53.602667092862106, 54.23673663492686, 53.874398436503434, 54.27969242299815, 53.958999403793996, 53.557430238103656, 37.6361331808898, 54.497765573657446, 54.35845007587763, 54.43960654997261, 54.56914916127192, 54.16942535572042, 54.2585309395323, 54.174736643696754, 54.42736491865578, 53.96920922853735, 54.125414471348606, 54.289641768467014, 54.309132396653304, 54.3923735970013, 54.7199295095141, 54.42548001807256, 54.860663445202434, 53.94601613273452, 53.914743175645555, 54.15913915337049, 53.93136190797932]}],                        {\"coloraxis\": {\"colorbar\": {\"title\": {\"text\": \"Energy\"}}, \"colorscale\": [[0.0, \"#0d0887\"], [0.1111111111111111, \"#46039f\"], [0.2222222222222222, \"#7201a8\"], [0.3333333333333333, \"#9c179e\"], [0.4444444444444444, \"#bd3786\"], [0.5555555555555556, \"#d8576b\"], [0.6666666666666666, \"#ed7953\"], [0.7777777777777778, \"#fb9f3a\"], [0.8888888888888888, \"#fdca26\"], [1.0, \"#f0f921\"]]}, \"legend\": {\"itemsizing\": \"constant\", \"tracegroupgap\": 0}, \"margin\": {\"t\": 60}, \"scene\": {\"domain\": {\"x\": [0.0, 1.0], \"y\": [0.0, 1.0]}, \"xaxis\": {\"title\": {\"text\": \"x\"}}, \"yaxis\": {\"title\": {\"text\": \"y\"}}, \"zaxis\": {\"title\": {\"text\": \"z\"}}}, \"template\": {\"data\": {\"bar\": [{\"error_x\": {\"color\": \"#2a3f5f\"}, \"error_y\": {\"color\": \"#2a3f5f\"}, \"marker\": {\"line\": {\"color\": \"#E5ECF6\", \"width\": 0.5}}, \"type\": \"bar\"}], \"barpolar\": [{\"marker\": {\"line\": {\"color\": \"#E5ECF6\", \"width\": 0.5}}, \"type\": \"barpolar\"}], \"carpet\": [{\"aaxis\": {\"endlinecolor\": \"#2a3f5f\", \"gridcolor\": \"white\", \"linecolor\": \"white\", \"minorgridcolor\": \"white\", \"startlinecolor\": \"#2a3f5f\"}, \"baxis\": {\"endlinecolor\": \"#2a3f5f\", \"gridcolor\": \"white\", \"linecolor\": \"white\", \"minorgridcolor\": \"white\", \"startlinecolor\": \"#2a3f5f\"}, \"type\": \"carpet\"}], \"choropleth\": [{\"colorbar\": {\"outlinewidth\": 0, \"ticks\": \"\"}, \"type\": \"choropleth\"}], \"contour\": [{\"colorbar\": {\"outlinewidth\": 0, \"ticks\": \"\"}, \"colorscale\": [[0.0, \"#0d0887\"], [0.1111111111111111, \"#46039f\"], [0.2222222222222222, \"#7201a8\"], [0.3333333333333333, \"#9c179e\"], [0.4444444444444444, \"#bd3786\"], [0.5555555555555556, \"#d8576b\"], [0.6666666666666666, \"#ed7953\"], [0.7777777777777778, \"#fb9f3a\"], [0.8888888888888888, \"#fdca26\"], [1.0, \"#f0f921\"]], \"type\": \"contour\"}], \"contourcarpet\": [{\"colorbar\": {\"outlinewidth\": 0, \"ticks\": \"\"}, \"type\": \"contourcarpet\"}], \"heatmap\": [{\"colorbar\": {\"outlinewidth\": 0, \"ticks\": \"\"}, \"colorscale\": [[0.0, \"#0d0887\"], [0.1111111111111111, \"#46039f\"], [0.2222222222222222, \"#7201a8\"], [0.3333333333333333, \"#9c179e\"], [0.4444444444444444, \"#bd3786\"], [0.5555555555555556, \"#d8576b\"], [0.6666666666666666, \"#ed7953\"], [0.7777777777777778, \"#fb9f3a\"], [0.8888888888888888, \"#fdca26\"], [1.0, \"#f0f921\"]], \"type\": \"heatmap\"}], \"heatmapgl\": [{\"colorbar\": {\"outlinewidth\": 0, \"ticks\": \"\"}, \"colorscale\": [[0.0, \"#0d0887\"], [0.1111111111111111, \"#46039f\"], [0.2222222222222222, \"#7201a8\"], [0.3333333333333333, \"#9c179e\"], [0.4444444444444444, \"#bd3786\"], [0.5555555555555556, \"#d8576b\"], [0.6666666666666666, \"#ed7953\"], [0.7777777777777778, \"#fb9f3a\"], [0.8888888888888888, \"#fdca26\"], [1.0, \"#f0f921\"]], \"type\": \"heatmapgl\"}], \"histogram\": [{\"marker\": {\"colorbar\": {\"outlinewidth\": 0, \"ticks\": \"\"}}, \"type\": \"histogram\"}], \"histogram2d\": [{\"colorbar\": {\"outlinewidth\": 0, \"ticks\": \"\"}, \"colorscale\": [[0.0, \"#0d0887\"], [0.1111111111111111, \"#46039f\"], [0.2222222222222222, \"#7201a8\"], [0.3333333333333333, \"#9c179e\"], [0.4444444444444444, \"#bd3786\"], [0.5555555555555556, \"#d8576b\"], [0.6666666666666666, \"#ed7953\"], [0.7777777777777778, \"#fb9f3a\"], [0.8888888888888888, \"#fdca26\"], [1.0, \"#f0f921\"]], \"type\": \"histogram2d\"}], \"histogram2dcontour\": [{\"colorbar\": {\"outlinewidth\": 0, \"ticks\": \"\"}, \"colorscale\": [[0.0, \"#0d0887\"], [0.1111111111111111, \"#46039f\"], [0.2222222222222222, \"#7201a8\"], [0.3333333333333333, \"#9c179e\"], [0.4444444444444444, \"#bd3786\"], [0.5555555555555556, \"#d8576b\"], [0.6666666666666666, \"#ed7953\"], [0.7777777777777778, \"#fb9f3a\"], [0.8888888888888888, \"#fdca26\"], [1.0, \"#f0f921\"]], \"type\": \"histogram2dcontour\"}], \"mesh3d\": [{\"colorbar\": {\"outlinewidth\": 0, \"ticks\": \"\"}, \"type\": \"mesh3d\"}], \"parcoords\": [{\"line\": {\"colorbar\": {\"outlinewidth\": 0, \"ticks\": \"\"}}, \"type\": \"parcoords\"}], \"pie\": [{\"automargin\": true, \"type\": \"pie\"}], \"scatter\": [{\"marker\": {\"colorbar\": {\"outlinewidth\": 0, \"ticks\": \"\"}}, \"type\": \"scatter\"}], \"scatter3d\": [{\"line\": {\"colorbar\": {\"outlinewidth\": 0, \"ticks\": \"\"}}, \"marker\": {\"colorbar\": {\"outlinewidth\": 0, \"ticks\": \"\"}}, \"type\": \"scatter3d\"}], \"scattercarpet\": [{\"marker\": {\"colorbar\": {\"outlinewidth\": 0, \"ticks\": \"\"}}, \"type\": \"scattercarpet\"}], \"scattergeo\": [{\"marker\": {\"colorbar\": {\"outlinewidth\": 0, \"ticks\": \"\"}}, \"type\": \"scattergeo\"}], \"scattergl\": [{\"marker\": {\"colorbar\": {\"outlinewidth\": 0, \"ticks\": \"\"}}, \"type\": \"scattergl\"}], \"scattermapbox\": [{\"marker\": {\"colorbar\": {\"outlinewidth\": 0, \"ticks\": \"\"}}, \"type\": \"scattermapbox\"}], \"scatterpolar\": [{\"marker\": {\"colorbar\": {\"outlinewidth\": 0, \"ticks\": \"\"}}, \"type\": \"scatterpolar\"}], \"scatterpolargl\": [{\"marker\": {\"colorbar\": {\"outlinewidth\": 0, \"ticks\": \"\"}}, \"type\": \"scatterpolargl\"}], \"scatterternary\": [{\"marker\": {\"colorbar\": {\"outlinewidth\": 0, \"ticks\": \"\"}}, \"type\": \"scatterternary\"}], \"surface\": [{\"colorbar\": {\"outlinewidth\": 0, \"ticks\": \"\"}, \"colorscale\": [[0.0, \"#0d0887\"], [0.1111111111111111, \"#46039f\"], [0.2222222222222222, \"#7201a8\"], [0.3333333333333333, \"#9c179e\"], [0.4444444444444444, \"#bd3786\"], [0.5555555555555556, \"#d8576b\"], [0.6666666666666666, \"#ed7953\"], [0.7777777777777778, \"#fb9f3a\"], [0.8888888888888888, \"#fdca26\"], [1.0, \"#f0f921\"]], \"type\": \"surface\"}], \"table\": [{\"cells\": {\"fill\": {\"color\": \"#EBF0F8\"}, \"line\": {\"color\": \"white\"}}, \"header\": {\"fill\": {\"color\": \"#C8D4E3\"}, \"line\": {\"color\": \"white\"}}, \"type\": \"table\"}]}, \"layout\": {\"annotationdefaults\": {\"arrowcolor\": \"#2a3f5f\", \"arrowhead\": 0, \"arrowwidth\": 1}, \"autotypenumbers\": \"strict\", \"coloraxis\": {\"colorbar\": {\"outlinewidth\": 0, \"ticks\": \"\"}}, \"colorscale\": {\"diverging\": [[0, \"#8e0152\"], [0.1, \"#c51b7d\"], [0.2, \"#de77ae\"], [0.3, \"#f1b6da\"], [0.4, \"#fde0ef\"], [0.5, \"#f7f7f7\"], [0.6, \"#e6f5d0\"], [0.7, \"#b8e186\"], [0.8, \"#7fbc41\"], [0.9, \"#4d9221\"], [1, \"#276419\"]], \"sequential\": [[0.0, \"#0d0887\"], [0.1111111111111111, \"#46039f\"], [0.2222222222222222, \"#7201a8\"], [0.3333333333333333, \"#9c179e\"], [0.4444444444444444, \"#bd3786\"], [0.5555555555555556, \"#d8576b\"], [0.6666666666666666, \"#ed7953\"], [0.7777777777777778, \"#fb9f3a\"], [0.8888888888888888, \"#fdca26\"], [1.0, \"#f0f921\"]], \"sequentialminus\": [[0.0, \"#0d0887\"], [0.1111111111111111, \"#46039f\"], [0.2222222222222222, \"#7201a8\"], [0.3333333333333333, \"#9c179e\"], [0.4444444444444444, \"#bd3786\"], [0.5555555555555556, \"#d8576b\"], [0.6666666666666666, \"#ed7953\"], [0.7777777777777778, \"#fb9f3a\"], [0.8888888888888888, \"#fdca26\"], [1.0, \"#f0f921\"]]}, \"colorway\": [\"#636efa\", \"#EF553B\", \"#00cc96\", \"#ab63fa\", \"#FFA15A\", \"#19d3f3\", \"#FF6692\", \"#B6E880\", \"#FF97FF\", \"#FECB52\"], \"font\": {\"color\": \"#2a3f5f\"}, \"geo\": {\"bgcolor\": \"white\", \"lakecolor\": \"white\", \"landcolor\": \"#E5ECF6\", \"showlakes\": true, \"showland\": true, \"subunitcolor\": \"white\"}, \"hoverlabel\": {\"align\": \"left\"}, \"hovermode\": \"closest\", \"mapbox\": {\"style\": \"light\"}, \"paper_bgcolor\": \"white\", \"plot_bgcolor\": \"#E5ECF6\", \"polar\": {\"angularaxis\": {\"gridcolor\": \"white\", \"linecolor\": \"white\", \"ticks\": \"\"}, \"bgcolor\": \"#E5ECF6\", \"radialaxis\": {\"gridcolor\": \"white\", \"linecolor\": \"white\", \"ticks\": \"\"}}, \"scene\": {\"xaxis\": {\"backgroundcolor\": \"#E5ECF6\", \"gridcolor\": \"white\", \"gridwidth\": 2, \"linecolor\": \"white\", \"showbackground\": true, \"ticks\": \"\", \"zerolinecolor\": \"white\"}, \"yaxis\": {\"backgroundcolor\": \"#E5ECF6\", \"gridcolor\": \"white\", \"gridwidth\": 2, \"linecolor\": \"white\", \"showbackground\": true, \"ticks\": \"\", \"zerolinecolor\": \"white\"}, \"zaxis\": {\"backgroundcolor\": \"#E5ECF6\", \"gridcolor\": \"white\", \"gridwidth\": 2, \"linecolor\": \"white\", \"showbackground\": true, \"ticks\": \"\", \"zerolinecolor\": \"white\"}}, \"shapedefaults\": {\"line\": {\"color\": \"#2a3f5f\"}}, \"ternary\": {\"aaxis\": {\"gridcolor\": \"white\", \"linecolor\": \"white\", \"ticks\": \"\"}, \"baxis\": {\"gridcolor\": \"white\", \"linecolor\": \"white\", \"ticks\": \"\"}, \"bgcolor\": \"#E5ECF6\", \"caxis\": {\"gridcolor\": \"white\", \"linecolor\": \"white\", \"ticks\": \"\"}}, \"title\": {\"x\": 0.05}, \"xaxis\": {\"automargin\": true, \"gridcolor\": \"white\", \"linecolor\": \"white\", \"ticks\": \"\", \"title\": {\"standoff\": 15}, \"zerolinecolor\": \"white\", \"zerolinewidth\": 2}, \"yaxis\": {\"automargin\": true, \"gridcolor\": \"white\", \"linecolor\": \"white\", \"ticks\": \"\", \"title\": {\"standoff\": 15}, \"zerolinecolor\": \"white\", \"zerolinewidth\": 2}}}},                        {\"responsive\": true}                    ).then(function(){\n",
       "                            \n",
       "var gd = document.getElementById('f1569d02-5b8b-410d-86a8-96f29e0c9d1a');\n",
       "var x = new MutationObserver(function (mutations, observer) {{\n",
       "        var display = window.getComputedStyle(gd).display;\n",
       "        if (!display || display === 'none') {{\n",
       "            console.log([gd, 'removed!']);\n",
       "            Plotly.purge(gd);\n",
       "            observer.disconnect();\n",
       "        }}\n",
       "}});\n",
       "\n",
       "// Listen for the removal of the full notebook cells\n",
       "var notebookContainer = gd.closest('#notebook-container');\n",
       "if (notebookContainer) {{\n",
       "    x.observe(notebookContainer, {childList: true});\n",
       "}}\n",
       "\n",
       "// Listen for the clearing of the current output cell\n",
       "var outputEl = gd.closest('.output');\n",
       "if (outputEl) {{\n",
       "    x.observe(outputEl, {childList: true});\n",
       "}}\n",
       "\n",
       "                        })                };                });            </script>        </div>"
      ]
     },
     "metadata": {},
     "output_type": "display_data"
    },
    {
     "name": "stdout",
     "output_type": "stream",
     "text": [
      "Energia <=  -8.0  kcal/mol\n"
     ]
    },
    {
     "data": {
      "application/vnd.plotly.v1+json": {
       "config": {
        "plotlyServerURL": "https://plot.ly"
       },
       "data": [
        {
         "hovertemplate": "x=%{x}<br>y=%{y}<br>z=%{z}<br>size=%{marker.size}<br>Name=%{text}<br>Energy=%{marker.color}<extra></extra>",
         "legendgroup": "",
         "marker": {
          "color": [
           -8.1,
           -8,
           -8,
           -8,
           -8.1,
           -8.1,
           -9.6,
           -9.1,
           -9,
           -9,
           -8.9,
           -8.8,
           -8.8,
           -8.7,
           -8.6,
           -9.6,
           -8.9,
           -8.9,
           -8.9,
           -8.8,
           -8.8,
           -8.8,
           -8.7,
           -8.6,
           -8.2,
           -8.1,
           -8,
           -8,
           -8,
           -8.4,
           -8.4,
           -8.4,
           -8.2,
           -8.1,
           -8,
           -8,
           -8,
           -8,
           -8.2,
           -8.1,
           -8.2,
           -8
          ],
          "coloraxis": "coloraxis",
          "size": [
           6.362685441135936e+21,
           4.722366482869645e+21,
           4.722366482869645e+21,
           4.722366482869645e+21,
           6.362685441135936e+21,
           6.362685441135936e+21,
           3.754132467271021e+23,
           1.0399043998264189e+23,
           7.976644307687251e+22,
           7.976644307687251e+22,
           6.100425945333111e+22,
           4.65140474534599e+22,
           4.65140474534599e+22,
           3.5355913511524947e+22,
           2.678939031464213e+22,
           3.754132467271021e+23,
           6.100425945333111e+22,
           6.100425945333111e+22,
           6.100425945333111e+22,
           4.65140474534599e+22,
           4.65140474534599e+22,
           4.65140474534599e+22,
           3.5355913511524947e+22,
           2.678939031464213e+22,
           8.541466801005381e+21,
           6.362685441135936e+21,
           4.722366482869645e+21,
           4.722366482869645e+21,
           4.722366482869645e+21,
           1.523010387809837e+22,
           1.523010387809837e+22,
           1.523010387809837e+22,
           8.541466801005381e+21,
           6.362685441135936e+21,
           4.722366482869645e+21,
           4.722366482869645e+21,
           4.722366482869645e+21,
           4.722366482869645e+21,
           8.541466801005381e+21,
           6.362685441135936e+21,
           8.541466801005381e+21,
           4.722366482869645e+21
          ],
          "sizemode": "area",
          "sizeref": 938533116817755200000,
          "symbol": "circle"
         },
         "mode": "markers+text",
         "name": "",
         "scene": "scene",
         "showlegend": false,
         "text": [
          "CN099",
          "CN126",
          "CN126",
          "CN126",
          "CN275",
          "CN286",
          "CN288",
          "CN288",
          "CN288",
          "CN288",
          "CN288",
          "CN288",
          "CN288",
          "CN288",
          "CN288",
          "CN289",
          "CN289",
          "CN289",
          "CN289",
          "CN289",
          "CN289",
          "CN289",
          "CN289",
          "CN289",
          "CN290",
          "CN290",
          "CN290",
          "CN290",
          "CN290",
          "CN334",
          "CN334",
          "CN334",
          "CN334",
          "CN334",
          "CN334",
          "CN334",
          "CN336",
          "CN342",
          "CN344",
          "CN344",
          "CN345",
          "CN345"
         ],
         "type": "scatter3d",
         "x": [
          0,
          0,
          0,
          0,
          0,
          0,
          0,
          0,
          0,
          0,
          0,
          0,
          0,
          0,
          0,
          0,
          0,
          0,
          0,
          0,
          0,
          0,
          0,
          0,
          0,
          0,
          0,
          0,
          0,
          0,
          0,
          0,
          0,
          0,
          0,
          0,
          0,
          0,
          0,
          0,
          0,
          0
         ],
         "y": [
          -60.57494000771868,
          -61.37746948061531,
          -60.945224392632156,
          -61.38932445074329,
          -63.0747459518479,
          -60.28846342567355,
          -63.60412212933175,
          -60.30145574594113,
          -65.15267969912556,
          -63.50624438822011,
          -64.45172081623664,
          -64.95177670657633,
          -65.5707428343778,
          -64.99478336218452,
          -65.91221619198205,
          -63.31735055751747,
          -63.43452993598127,
          -65.25852681580234,
          -60.38057092121936,
          -65.09619800483695,
          -42.351118666359135,
          -64.78658354116956,
          -65.39916696304155,
          -64.76476951982782,
          -62.00665480890412,
          -49.397654775838696,
          -61.98667529618951,
          -61.9465482703732,
          -62.170683922611616,
          -61.029262172053755,
          -61.77753195654853,
          -60.56519031037682,
          -62.47902265951993,
          -62.21689087493429,
          -62.94674458965757,
          -62.61385460698362,
          -60.484239551699396,
          -59.55447505114777,
          -59.69414214694723,
          -59.66613708639593,
          -59.733784224749506,
          -59.65604081004755
         ],
         "z": [
          53.414850752615116,
          53.869024175636746,
          53.478731980020534,
          53.124774990596784,
          50.2265091497157,
          52.15670304166269,
          53.408756083099064,
          49.99768847552658,
          53.180428318364086,
          53.442669371177395,
          53.693756805928714,
          53.60620783588089,
          53.33904036485085,
          53.58785090850512,
          53.16227961761895,
          53.519689864427654,
          53.35882955041355,
          53.40954222921508,
          49.8464714254118,
          53.71739676413705,
          53.66186892753911,
          53.62668951622923,
          53.218867431821,
          53.690123065890674,
          54.0632444825613,
          33.247576376234896,
          54.05724493881554,
          53.85885061366438,
          53.67895310874783,
          53.614608373620236,
          52.945269663147364,
          52.46291580566245,
          52.8265138141373,
          52.84808543376831,
          52.356152043762926,
          52.79498977242493,
          54.262894344485495,
          54.497765573657446,
          54.2585309395323,
          54.174736643696754,
          54.289641768467014,
          54.309132396653304
         ]
        }
       ],
       "layout": {
        "coloraxis": {
         "colorbar": {
          "title": {
           "text": "Energy"
          }
         },
         "colorscale": [
          [
           0,
           "#0d0887"
          ],
          [
           0.1111111111111111,
           "#46039f"
          ],
          [
           0.2222222222222222,
           "#7201a8"
          ],
          [
           0.3333333333333333,
           "#9c179e"
          ],
          [
           0.4444444444444444,
           "#bd3786"
          ],
          [
           0.5555555555555556,
           "#d8576b"
          ],
          [
           0.6666666666666666,
           "#ed7953"
          ],
          [
           0.7777777777777778,
           "#fb9f3a"
          ],
          [
           0.8888888888888888,
           "#fdca26"
          ],
          [
           1,
           "#f0f921"
          ]
         ]
        },
        "legend": {
         "itemsizing": "constant",
         "tracegroupgap": 0
        },
        "margin": {
         "t": 60
        },
        "scene": {
         "domain": {
          "x": [
           0,
           1
          ],
          "y": [
           0,
           1
          ]
         },
         "xaxis": {
          "title": {
           "text": "x"
          }
         },
         "yaxis": {
          "title": {
           "text": "y"
          }
         },
         "zaxis": {
          "title": {
           "text": "z"
          }
         }
        },
        "template": {
         "data": {
          "bar": [
           {
            "error_x": {
             "color": "#2a3f5f"
            },
            "error_y": {
             "color": "#2a3f5f"
            },
            "marker": {
             "line": {
              "color": "#E5ECF6",
              "width": 0.5
             }
            },
            "type": "bar"
           }
          ],
          "barpolar": [
           {
            "marker": {
             "line": {
              "color": "#E5ECF6",
              "width": 0.5
             }
            },
            "type": "barpolar"
           }
          ],
          "carpet": [
           {
            "aaxis": {
             "endlinecolor": "#2a3f5f",
             "gridcolor": "white",
             "linecolor": "white",
             "minorgridcolor": "white",
             "startlinecolor": "#2a3f5f"
            },
            "baxis": {
             "endlinecolor": "#2a3f5f",
             "gridcolor": "white",
             "linecolor": "white",
             "minorgridcolor": "white",
             "startlinecolor": "#2a3f5f"
            },
            "type": "carpet"
           }
          ],
          "choropleth": [
           {
            "colorbar": {
             "outlinewidth": 0,
             "ticks": ""
            },
            "type": "choropleth"
           }
          ],
          "contour": [
           {
            "colorbar": {
             "outlinewidth": 0,
             "ticks": ""
            },
            "colorscale": [
             [
              0,
              "#0d0887"
             ],
             [
              0.1111111111111111,
              "#46039f"
             ],
             [
              0.2222222222222222,
              "#7201a8"
             ],
             [
              0.3333333333333333,
              "#9c179e"
             ],
             [
              0.4444444444444444,
              "#bd3786"
             ],
             [
              0.5555555555555556,
              "#d8576b"
             ],
             [
              0.6666666666666666,
              "#ed7953"
             ],
             [
              0.7777777777777778,
              "#fb9f3a"
             ],
             [
              0.8888888888888888,
              "#fdca26"
             ],
             [
              1,
              "#f0f921"
             ]
            ],
            "type": "contour"
           }
          ],
          "contourcarpet": [
           {
            "colorbar": {
             "outlinewidth": 0,
             "ticks": ""
            },
            "type": "contourcarpet"
           }
          ],
          "heatmap": [
           {
            "colorbar": {
             "outlinewidth": 0,
             "ticks": ""
            },
            "colorscale": [
             [
              0,
              "#0d0887"
             ],
             [
              0.1111111111111111,
              "#46039f"
             ],
             [
              0.2222222222222222,
              "#7201a8"
             ],
             [
              0.3333333333333333,
              "#9c179e"
             ],
             [
              0.4444444444444444,
              "#bd3786"
             ],
             [
              0.5555555555555556,
              "#d8576b"
             ],
             [
              0.6666666666666666,
              "#ed7953"
             ],
             [
              0.7777777777777778,
              "#fb9f3a"
             ],
             [
              0.8888888888888888,
              "#fdca26"
             ],
             [
              1,
              "#f0f921"
             ]
            ],
            "type": "heatmap"
           }
          ],
          "heatmapgl": [
           {
            "colorbar": {
             "outlinewidth": 0,
             "ticks": ""
            },
            "colorscale": [
             [
              0,
              "#0d0887"
             ],
             [
              0.1111111111111111,
              "#46039f"
             ],
             [
              0.2222222222222222,
              "#7201a8"
             ],
             [
              0.3333333333333333,
              "#9c179e"
             ],
             [
              0.4444444444444444,
              "#bd3786"
             ],
             [
              0.5555555555555556,
              "#d8576b"
             ],
             [
              0.6666666666666666,
              "#ed7953"
             ],
             [
              0.7777777777777778,
              "#fb9f3a"
             ],
             [
              0.8888888888888888,
              "#fdca26"
             ],
             [
              1,
              "#f0f921"
             ]
            ],
            "type": "heatmapgl"
           }
          ],
          "histogram": [
           {
            "marker": {
             "colorbar": {
              "outlinewidth": 0,
              "ticks": ""
             }
            },
            "type": "histogram"
           }
          ],
          "histogram2d": [
           {
            "colorbar": {
             "outlinewidth": 0,
             "ticks": ""
            },
            "colorscale": [
             [
              0,
              "#0d0887"
             ],
             [
              0.1111111111111111,
              "#46039f"
             ],
             [
              0.2222222222222222,
              "#7201a8"
             ],
             [
              0.3333333333333333,
              "#9c179e"
             ],
             [
              0.4444444444444444,
              "#bd3786"
             ],
             [
              0.5555555555555556,
              "#d8576b"
             ],
             [
              0.6666666666666666,
              "#ed7953"
             ],
             [
              0.7777777777777778,
              "#fb9f3a"
             ],
             [
              0.8888888888888888,
              "#fdca26"
             ],
             [
              1,
              "#f0f921"
             ]
            ],
            "type": "histogram2d"
           }
          ],
          "histogram2dcontour": [
           {
            "colorbar": {
             "outlinewidth": 0,
             "ticks": ""
            },
            "colorscale": [
             [
              0,
              "#0d0887"
             ],
             [
              0.1111111111111111,
              "#46039f"
             ],
             [
              0.2222222222222222,
              "#7201a8"
             ],
             [
              0.3333333333333333,
              "#9c179e"
             ],
             [
              0.4444444444444444,
              "#bd3786"
             ],
             [
              0.5555555555555556,
              "#d8576b"
             ],
             [
              0.6666666666666666,
              "#ed7953"
             ],
             [
              0.7777777777777778,
              "#fb9f3a"
             ],
             [
              0.8888888888888888,
              "#fdca26"
             ],
             [
              1,
              "#f0f921"
             ]
            ],
            "type": "histogram2dcontour"
           }
          ],
          "mesh3d": [
           {
            "colorbar": {
             "outlinewidth": 0,
             "ticks": ""
            },
            "type": "mesh3d"
           }
          ],
          "parcoords": [
           {
            "line": {
             "colorbar": {
              "outlinewidth": 0,
              "ticks": ""
             }
            },
            "type": "parcoords"
           }
          ],
          "pie": [
           {
            "automargin": true,
            "type": "pie"
           }
          ],
          "scatter": [
           {
            "marker": {
             "colorbar": {
              "outlinewidth": 0,
              "ticks": ""
             }
            },
            "type": "scatter"
           }
          ],
          "scatter3d": [
           {
            "line": {
             "colorbar": {
              "outlinewidth": 0,
              "ticks": ""
             }
            },
            "marker": {
             "colorbar": {
              "outlinewidth": 0,
              "ticks": ""
             }
            },
            "type": "scatter3d"
           }
          ],
          "scattercarpet": [
           {
            "marker": {
             "colorbar": {
              "outlinewidth": 0,
              "ticks": ""
             }
            },
            "type": "scattercarpet"
           }
          ],
          "scattergeo": [
           {
            "marker": {
             "colorbar": {
              "outlinewidth": 0,
              "ticks": ""
             }
            },
            "type": "scattergeo"
           }
          ],
          "scattergl": [
           {
            "marker": {
             "colorbar": {
              "outlinewidth": 0,
              "ticks": ""
             }
            },
            "type": "scattergl"
           }
          ],
          "scattermapbox": [
           {
            "marker": {
             "colorbar": {
              "outlinewidth": 0,
              "ticks": ""
             }
            },
            "type": "scattermapbox"
           }
          ],
          "scatterpolar": [
           {
            "marker": {
             "colorbar": {
              "outlinewidth": 0,
              "ticks": ""
             }
            },
            "type": "scatterpolar"
           }
          ],
          "scatterpolargl": [
           {
            "marker": {
             "colorbar": {
              "outlinewidth": 0,
              "ticks": ""
             }
            },
            "type": "scatterpolargl"
           }
          ],
          "scatterternary": [
           {
            "marker": {
             "colorbar": {
              "outlinewidth": 0,
              "ticks": ""
             }
            },
            "type": "scatterternary"
           }
          ],
          "surface": [
           {
            "colorbar": {
             "outlinewidth": 0,
             "ticks": ""
            },
            "colorscale": [
             [
              0,
              "#0d0887"
             ],
             [
              0.1111111111111111,
              "#46039f"
             ],
             [
              0.2222222222222222,
              "#7201a8"
             ],
             [
              0.3333333333333333,
              "#9c179e"
             ],
             [
              0.4444444444444444,
              "#bd3786"
             ],
             [
              0.5555555555555556,
              "#d8576b"
             ],
             [
              0.6666666666666666,
              "#ed7953"
             ],
             [
              0.7777777777777778,
              "#fb9f3a"
             ],
             [
              0.8888888888888888,
              "#fdca26"
             ],
             [
              1,
              "#f0f921"
             ]
            ],
            "type": "surface"
           }
          ],
          "table": [
           {
            "cells": {
             "fill": {
              "color": "#EBF0F8"
             },
             "line": {
              "color": "white"
             }
            },
            "header": {
             "fill": {
              "color": "#C8D4E3"
             },
             "line": {
              "color": "white"
             }
            },
            "type": "table"
           }
          ]
         },
         "layout": {
          "annotationdefaults": {
           "arrowcolor": "#2a3f5f",
           "arrowhead": 0,
           "arrowwidth": 1
          },
          "autotypenumbers": "strict",
          "coloraxis": {
           "colorbar": {
            "outlinewidth": 0,
            "ticks": ""
           }
          },
          "colorscale": {
           "diverging": [
            [
             0,
             "#8e0152"
            ],
            [
             0.1,
             "#c51b7d"
            ],
            [
             0.2,
             "#de77ae"
            ],
            [
             0.3,
             "#f1b6da"
            ],
            [
             0.4,
             "#fde0ef"
            ],
            [
             0.5,
             "#f7f7f7"
            ],
            [
             0.6,
             "#e6f5d0"
            ],
            [
             0.7,
             "#b8e186"
            ],
            [
             0.8,
             "#7fbc41"
            ],
            [
             0.9,
             "#4d9221"
            ],
            [
             1,
             "#276419"
            ]
           ],
           "sequential": [
            [
             0,
             "#0d0887"
            ],
            [
             0.1111111111111111,
             "#46039f"
            ],
            [
             0.2222222222222222,
             "#7201a8"
            ],
            [
             0.3333333333333333,
             "#9c179e"
            ],
            [
             0.4444444444444444,
             "#bd3786"
            ],
            [
             0.5555555555555556,
             "#d8576b"
            ],
            [
             0.6666666666666666,
             "#ed7953"
            ],
            [
             0.7777777777777778,
             "#fb9f3a"
            ],
            [
             0.8888888888888888,
             "#fdca26"
            ],
            [
             1,
             "#f0f921"
            ]
           ],
           "sequentialminus": [
            [
             0,
             "#0d0887"
            ],
            [
             0.1111111111111111,
             "#46039f"
            ],
            [
             0.2222222222222222,
             "#7201a8"
            ],
            [
             0.3333333333333333,
             "#9c179e"
            ],
            [
             0.4444444444444444,
             "#bd3786"
            ],
            [
             0.5555555555555556,
             "#d8576b"
            ],
            [
             0.6666666666666666,
             "#ed7953"
            ],
            [
             0.7777777777777778,
             "#fb9f3a"
            ],
            [
             0.8888888888888888,
             "#fdca26"
            ],
            [
             1,
             "#f0f921"
            ]
           ]
          },
          "colorway": [
           "#636efa",
           "#EF553B",
           "#00cc96",
           "#ab63fa",
           "#FFA15A",
           "#19d3f3",
           "#FF6692",
           "#B6E880",
           "#FF97FF",
           "#FECB52"
          ],
          "font": {
           "color": "#2a3f5f"
          },
          "geo": {
           "bgcolor": "white",
           "lakecolor": "white",
           "landcolor": "#E5ECF6",
           "showlakes": true,
           "showland": true,
           "subunitcolor": "white"
          },
          "hoverlabel": {
           "align": "left"
          },
          "hovermode": "closest",
          "mapbox": {
           "style": "light"
          },
          "paper_bgcolor": "white",
          "plot_bgcolor": "#E5ECF6",
          "polar": {
           "angularaxis": {
            "gridcolor": "white",
            "linecolor": "white",
            "ticks": ""
           },
           "bgcolor": "#E5ECF6",
           "radialaxis": {
            "gridcolor": "white",
            "linecolor": "white",
            "ticks": ""
           }
          },
          "scene": {
           "xaxis": {
            "backgroundcolor": "#E5ECF6",
            "gridcolor": "white",
            "gridwidth": 2,
            "linecolor": "white",
            "showbackground": true,
            "ticks": "",
            "zerolinecolor": "white"
           },
           "yaxis": {
            "backgroundcolor": "#E5ECF6",
            "gridcolor": "white",
            "gridwidth": 2,
            "linecolor": "white",
            "showbackground": true,
            "ticks": "",
            "zerolinecolor": "white"
           },
           "zaxis": {
            "backgroundcolor": "#E5ECF6",
            "gridcolor": "white",
            "gridwidth": 2,
            "linecolor": "white",
            "showbackground": true,
            "ticks": "",
            "zerolinecolor": "white"
           }
          },
          "shapedefaults": {
           "line": {
            "color": "#2a3f5f"
           }
          },
          "ternary": {
           "aaxis": {
            "gridcolor": "white",
            "linecolor": "white",
            "ticks": ""
           },
           "baxis": {
            "gridcolor": "white",
            "linecolor": "white",
            "ticks": ""
           },
           "bgcolor": "#E5ECF6",
           "caxis": {
            "gridcolor": "white",
            "linecolor": "white",
            "ticks": ""
           }
          },
          "title": {
           "x": 0.05
          },
          "xaxis": {
           "automargin": true,
           "gridcolor": "white",
           "linecolor": "white",
           "ticks": "",
           "title": {
            "standoff": 15
           },
           "zerolinecolor": "white",
           "zerolinewidth": 2
          },
          "yaxis": {
           "automargin": true,
           "gridcolor": "white",
           "linecolor": "white",
           "ticks": "",
           "title": {
            "standoff": 15
           },
           "zerolinecolor": "white",
           "zerolinewidth": 2
          }
         }
        }
       }
      },
      "text/html": [
       "<div>                            <div id=\"9a3d8002-c02f-4b2c-a243-ed46315c20d2\" class=\"plotly-graph-div\" style=\"height:525px; width:100%;\"></div>            <script type=\"text/javascript\">                require([\"plotly\"], function(Plotly) {                    window.PLOTLYENV=window.PLOTLYENV || {};                                    if (document.getElementById(\"9a3d8002-c02f-4b2c-a243-ed46315c20d2\")) {                    Plotly.newPlot(                        \"9a3d8002-c02f-4b2c-a243-ed46315c20d2\",                        [{\"hovertemplate\": \"x=%{x}<br>y=%{y}<br>z=%{z}<br>size=%{marker.size}<br>Name=%{text}<br>Energy=%{marker.color}<extra></extra>\", \"legendgroup\": \"\", \"marker\": {\"color\": [-8.1, -8.0, -8.0, -8.0, -8.1, -8.1, -9.6, -9.1, -9.0, -9.0, -8.9, -8.8, -8.8, -8.7, -8.6, -9.6, -8.9, -8.9, -8.9, -8.8, -8.8, -8.8, -8.7, -8.6, -8.2, -8.1, -8.0, -8.0, -8.0, -8.4, -8.4, -8.4, -8.2, -8.1, -8.0, -8.0, -8.0, -8.0, -8.2, -8.1, -8.2, -8.0], \"coloraxis\": \"coloraxis\", \"size\": [6.362685441135936e+21, 4.722366482869645e+21, 4.722366482869645e+21, 4.722366482869645e+21, 6.362685441135936e+21, 6.362685441135936e+21, 3.754132467271021e+23, 1.0399043998264189e+23, 7.976644307687251e+22, 7.976644307687251e+22, 6.100425945333111e+22, 4.65140474534599e+22, 4.65140474534599e+22, 3.5355913511524947e+22, 2.678939031464213e+22, 3.754132467271021e+23, 6.100425945333111e+22, 6.100425945333111e+22, 6.100425945333111e+22, 4.65140474534599e+22, 4.65140474534599e+22, 4.65140474534599e+22, 3.5355913511524947e+22, 2.678939031464213e+22, 8.541466801005381e+21, 6.362685441135936e+21, 4.722366482869645e+21, 4.722366482869645e+21, 4.722366482869645e+21, 1.523010387809837e+22, 1.523010387809837e+22, 1.523010387809837e+22, 8.541466801005381e+21, 6.362685441135936e+21, 4.722366482869645e+21, 4.722366482869645e+21, 4.722366482869645e+21, 4.722366482869645e+21, 8.541466801005381e+21, 6.362685441135936e+21, 8.541466801005381e+21, 4.722366482869645e+21], \"sizemode\": \"area\", \"sizeref\": 9.385331168177552e+20, \"symbol\": \"circle\"}, \"mode\": \"markers+text\", \"name\": \"\", \"scene\": \"scene\", \"showlegend\": false, \"text\": [\"CN099\", \"CN126\", \"CN126\", \"CN126\", \"CN275\", \"CN286\", \"CN288\", \"CN288\", \"CN288\", \"CN288\", \"CN288\", \"CN288\", \"CN288\", \"CN288\", \"CN288\", \"CN289\", \"CN289\", \"CN289\", \"CN289\", \"CN289\", \"CN289\", \"CN289\", \"CN289\", \"CN289\", \"CN290\", \"CN290\", \"CN290\", \"CN290\", \"CN290\", \"CN334\", \"CN334\", \"CN334\", \"CN334\", \"CN334\", \"CN334\", \"CN334\", \"CN336\", \"CN342\", \"CN344\", \"CN344\", \"CN345\", \"CN345\"], \"type\": \"scatter3d\", \"x\": [0.0, 0.0, 0.0, 0.0, 0.0, 0.0, 0.0, 0.0, 0.0, 0.0, 0.0, 0.0, 0.0, 0.0, 0.0, 0.0, 0.0, 0.0, 0.0, 0.0, 0.0, 0.0, 0.0, 0.0, 0.0, 0.0, 0.0, 0.0, 0.0, 0.0, 0.0, 0.0, 0.0, 0.0, 0.0, 0.0, 0.0, 0.0, 0.0, 0.0, 0.0, 0.0], \"y\": [-60.57494000771868, -61.37746948061531, -60.945224392632156, -61.38932445074329, -63.0747459518479, -60.28846342567355, -63.60412212933175, -60.30145574594113, -65.15267969912556, -63.50624438822011, -64.45172081623664, -64.95177670657633, -65.5707428343778, -64.99478336218452, -65.91221619198205, -63.31735055751747, -63.43452993598127, -65.25852681580234, -60.38057092121936, -65.09619800483695, -42.351118666359135, -64.78658354116956, -65.39916696304155, -64.76476951982782, -62.00665480890412, -49.397654775838696, -61.98667529618951, -61.9465482703732, -62.170683922611616, -61.029262172053755, -61.77753195654853, -60.56519031037682, -62.47902265951993, -62.21689087493429, -62.94674458965757, -62.61385460698362, -60.484239551699396, -59.55447505114777, -59.69414214694723, -59.66613708639593, -59.733784224749506, -59.65604081004755], \"z\": [53.414850752615116, 53.869024175636746, 53.478731980020534, 53.124774990596784, 50.2265091497157, 52.15670304166269, 53.408756083099064, 49.99768847552658, 53.180428318364086, 53.442669371177395, 53.693756805928714, 53.60620783588089, 53.33904036485085, 53.58785090850512, 53.16227961761895, 53.519689864427654, 53.35882955041355, 53.40954222921508, 49.8464714254118, 53.71739676413705, 53.66186892753911, 53.62668951622923, 53.218867431821, 53.690123065890674, 54.0632444825613, 33.247576376234896, 54.05724493881554, 53.85885061366438, 53.67895310874783, 53.614608373620236, 52.945269663147364, 52.46291580566245, 52.8265138141373, 52.84808543376831, 52.356152043762926, 52.79498977242493, 54.262894344485495, 54.497765573657446, 54.2585309395323, 54.174736643696754, 54.289641768467014, 54.309132396653304]}],                        {\"coloraxis\": {\"colorbar\": {\"title\": {\"text\": \"Energy\"}}, \"colorscale\": [[0.0, \"#0d0887\"], [0.1111111111111111, \"#46039f\"], [0.2222222222222222, \"#7201a8\"], [0.3333333333333333, \"#9c179e\"], [0.4444444444444444, \"#bd3786\"], [0.5555555555555556, \"#d8576b\"], [0.6666666666666666, \"#ed7953\"], [0.7777777777777778, \"#fb9f3a\"], [0.8888888888888888, \"#fdca26\"], [1.0, \"#f0f921\"]]}, \"legend\": {\"itemsizing\": \"constant\", \"tracegroupgap\": 0}, \"margin\": {\"t\": 60}, \"scene\": {\"domain\": {\"x\": [0.0, 1.0], \"y\": [0.0, 1.0]}, \"xaxis\": {\"title\": {\"text\": \"x\"}}, \"yaxis\": {\"title\": {\"text\": \"y\"}}, \"zaxis\": {\"title\": {\"text\": \"z\"}}}, \"template\": {\"data\": {\"bar\": [{\"error_x\": {\"color\": \"#2a3f5f\"}, \"error_y\": {\"color\": \"#2a3f5f\"}, \"marker\": {\"line\": {\"color\": \"#E5ECF6\", \"width\": 0.5}}, \"type\": \"bar\"}], \"barpolar\": [{\"marker\": {\"line\": {\"color\": \"#E5ECF6\", \"width\": 0.5}}, \"type\": \"barpolar\"}], \"carpet\": [{\"aaxis\": {\"endlinecolor\": \"#2a3f5f\", \"gridcolor\": \"white\", \"linecolor\": \"white\", \"minorgridcolor\": \"white\", \"startlinecolor\": \"#2a3f5f\"}, \"baxis\": {\"endlinecolor\": \"#2a3f5f\", \"gridcolor\": \"white\", \"linecolor\": \"white\", \"minorgridcolor\": \"white\", \"startlinecolor\": \"#2a3f5f\"}, \"type\": \"carpet\"}], \"choropleth\": [{\"colorbar\": {\"outlinewidth\": 0, \"ticks\": \"\"}, \"type\": \"choropleth\"}], \"contour\": [{\"colorbar\": {\"outlinewidth\": 0, \"ticks\": \"\"}, \"colorscale\": [[0.0, \"#0d0887\"], [0.1111111111111111, \"#46039f\"], [0.2222222222222222, \"#7201a8\"], [0.3333333333333333, \"#9c179e\"], [0.4444444444444444, \"#bd3786\"], [0.5555555555555556, \"#d8576b\"], [0.6666666666666666, \"#ed7953\"], [0.7777777777777778, \"#fb9f3a\"], [0.8888888888888888, \"#fdca26\"], [1.0, \"#f0f921\"]], \"type\": \"contour\"}], \"contourcarpet\": [{\"colorbar\": {\"outlinewidth\": 0, \"ticks\": \"\"}, \"type\": \"contourcarpet\"}], \"heatmap\": [{\"colorbar\": {\"outlinewidth\": 0, \"ticks\": \"\"}, \"colorscale\": [[0.0, \"#0d0887\"], [0.1111111111111111, \"#46039f\"], [0.2222222222222222, \"#7201a8\"], [0.3333333333333333, \"#9c179e\"], [0.4444444444444444, \"#bd3786\"], [0.5555555555555556, \"#d8576b\"], [0.6666666666666666, \"#ed7953\"], [0.7777777777777778, \"#fb9f3a\"], [0.8888888888888888, \"#fdca26\"], [1.0, \"#f0f921\"]], \"type\": \"heatmap\"}], \"heatmapgl\": [{\"colorbar\": {\"outlinewidth\": 0, \"ticks\": \"\"}, \"colorscale\": [[0.0, \"#0d0887\"], [0.1111111111111111, \"#46039f\"], [0.2222222222222222, \"#7201a8\"], [0.3333333333333333, \"#9c179e\"], [0.4444444444444444, \"#bd3786\"], [0.5555555555555556, \"#d8576b\"], [0.6666666666666666, \"#ed7953\"], [0.7777777777777778, \"#fb9f3a\"], [0.8888888888888888, \"#fdca26\"], [1.0, \"#f0f921\"]], \"type\": \"heatmapgl\"}], \"histogram\": [{\"marker\": {\"colorbar\": {\"outlinewidth\": 0, \"ticks\": \"\"}}, \"type\": \"histogram\"}], \"histogram2d\": [{\"colorbar\": {\"outlinewidth\": 0, \"ticks\": \"\"}, \"colorscale\": [[0.0, \"#0d0887\"], [0.1111111111111111, \"#46039f\"], [0.2222222222222222, \"#7201a8\"], [0.3333333333333333, \"#9c179e\"], [0.4444444444444444, \"#bd3786\"], [0.5555555555555556, \"#d8576b\"], [0.6666666666666666, \"#ed7953\"], [0.7777777777777778, \"#fb9f3a\"], [0.8888888888888888, \"#fdca26\"], [1.0, \"#f0f921\"]], \"type\": \"histogram2d\"}], \"histogram2dcontour\": [{\"colorbar\": {\"outlinewidth\": 0, \"ticks\": \"\"}, \"colorscale\": [[0.0, \"#0d0887\"], [0.1111111111111111, \"#46039f\"], [0.2222222222222222, \"#7201a8\"], [0.3333333333333333, \"#9c179e\"], [0.4444444444444444, \"#bd3786\"], [0.5555555555555556, \"#d8576b\"], [0.6666666666666666, \"#ed7953\"], [0.7777777777777778, \"#fb9f3a\"], [0.8888888888888888, \"#fdca26\"], [1.0, \"#f0f921\"]], \"type\": \"histogram2dcontour\"}], \"mesh3d\": [{\"colorbar\": {\"outlinewidth\": 0, \"ticks\": \"\"}, \"type\": \"mesh3d\"}], \"parcoords\": [{\"line\": {\"colorbar\": {\"outlinewidth\": 0, \"ticks\": \"\"}}, \"type\": \"parcoords\"}], \"pie\": [{\"automargin\": true, \"type\": \"pie\"}], \"scatter\": [{\"marker\": {\"colorbar\": {\"outlinewidth\": 0, \"ticks\": \"\"}}, \"type\": \"scatter\"}], \"scatter3d\": [{\"line\": {\"colorbar\": {\"outlinewidth\": 0, \"ticks\": \"\"}}, \"marker\": {\"colorbar\": {\"outlinewidth\": 0, \"ticks\": \"\"}}, \"type\": \"scatter3d\"}], \"scattercarpet\": [{\"marker\": {\"colorbar\": {\"outlinewidth\": 0, \"ticks\": \"\"}}, \"type\": \"scattercarpet\"}], \"scattergeo\": [{\"marker\": {\"colorbar\": {\"outlinewidth\": 0, \"ticks\": \"\"}}, \"type\": \"scattergeo\"}], \"scattergl\": [{\"marker\": {\"colorbar\": {\"outlinewidth\": 0, \"ticks\": \"\"}}, \"type\": \"scattergl\"}], \"scattermapbox\": [{\"marker\": {\"colorbar\": {\"outlinewidth\": 0, \"ticks\": \"\"}}, \"type\": \"scattermapbox\"}], \"scatterpolar\": [{\"marker\": {\"colorbar\": {\"outlinewidth\": 0, \"ticks\": \"\"}}, \"type\": \"scatterpolar\"}], \"scatterpolargl\": [{\"marker\": {\"colorbar\": {\"outlinewidth\": 0, \"ticks\": \"\"}}, \"type\": \"scatterpolargl\"}], \"scatterternary\": [{\"marker\": {\"colorbar\": {\"outlinewidth\": 0, \"ticks\": \"\"}}, \"type\": \"scatterternary\"}], \"surface\": [{\"colorbar\": {\"outlinewidth\": 0, \"ticks\": \"\"}, \"colorscale\": [[0.0, \"#0d0887\"], [0.1111111111111111, \"#46039f\"], [0.2222222222222222, \"#7201a8\"], [0.3333333333333333, \"#9c179e\"], [0.4444444444444444, \"#bd3786\"], [0.5555555555555556, \"#d8576b\"], [0.6666666666666666, \"#ed7953\"], [0.7777777777777778, \"#fb9f3a\"], [0.8888888888888888, \"#fdca26\"], [1.0, \"#f0f921\"]], \"type\": \"surface\"}], \"table\": [{\"cells\": {\"fill\": {\"color\": \"#EBF0F8\"}, \"line\": {\"color\": \"white\"}}, \"header\": {\"fill\": {\"color\": \"#C8D4E3\"}, \"line\": {\"color\": \"white\"}}, \"type\": \"table\"}]}, \"layout\": {\"annotationdefaults\": {\"arrowcolor\": \"#2a3f5f\", \"arrowhead\": 0, \"arrowwidth\": 1}, \"autotypenumbers\": \"strict\", \"coloraxis\": {\"colorbar\": {\"outlinewidth\": 0, \"ticks\": \"\"}}, \"colorscale\": {\"diverging\": [[0, \"#8e0152\"], [0.1, \"#c51b7d\"], [0.2, \"#de77ae\"], [0.3, \"#f1b6da\"], [0.4, \"#fde0ef\"], [0.5, \"#f7f7f7\"], [0.6, \"#e6f5d0\"], [0.7, \"#b8e186\"], [0.8, \"#7fbc41\"], [0.9, \"#4d9221\"], [1, \"#276419\"]], \"sequential\": [[0.0, \"#0d0887\"], [0.1111111111111111, \"#46039f\"], [0.2222222222222222, \"#7201a8\"], [0.3333333333333333, \"#9c179e\"], [0.4444444444444444, \"#bd3786\"], [0.5555555555555556, \"#d8576b\"], [0.6666666666666666, \"#ed7953\"], [0.7777777777777778, \"#fb9f3a\"], [0.8888888888888888, \"#fdca26\"], [1.0, \"#f0f921\"]], \"sequentialminus\": [[0.0, \"#0d0887\"], [0.1111111111111111, \"#46039f\"], [0.2222222222222222, \"#7201a8\"], [0.3333333333333333, \"#9c179e\"], [0.4444444444444444, \"#bd3786\"], [0.5555555555555556, \"#d8576b\"], [0.6666666666666666, \"#ed7953\"], [0.7777777777777778, \"#fb9f3a\"], [0.8888888888888888, \"#fdca26\"], [1.0, \"#f0f921\"]]}, \"colorway\": [\"#636efa\", \"#EF553B\", \"#00cc96\", \"#ab63fa\", \"#FFA15A\", \"#19d3f3\", \"#FF6692\", \"#B6E880\", \"#FF97FF\", \"#FECB52\"], \"font\": {\"color\": \"#2a3f5f\"}, \"geo\": {\"bgcolor\": \"white\", \"lakecolor\": \"white\", \"landcolor\": \"#E5ECF6\", \"showlakes\": true, \"showland\": true, \"subunitcolor\": \"white\"}, \"hoverlabel\": {\"align\": \"left\"}, \"hovermode\": \"closest\", \"mapbox\": {\"style\": \"light\"}, \"paper_bgcolor\": \"white\", \"plot_bgcolor\": \"#E5ECF6\", \"polar\": {\"angularaxis\": {\"gridcolor\": \"white\", \"linecolor\": \"white\", \"ticks\": \"\"}, \"bgcolor\": \"#E5ECF6\", \"radialaxis\": {\"gridcolor\": \"white\", \"linecolor\": \"white\", \"ticks\": \"\"}}, \"scene\": {\"xaxis\": {\"backgroundcolor\": \"#E5ECF6\", \"gridcolor\": \"white\", \"gridwidth\": 2, \"linecolor\": \"white\", \"showbackground\": true, \"ticks\": \"\", \"zerolinecolor\": \"white\"}, \"yaxis\": {\"backgroundcolor\": \"#E5ECF6\", \"gridcolor\": \"white\", \"gridwidth\": 2, \"linecolor\": \"white\", \"showbackground\": true, \"ticks\": \"\", \"zerolinecolor\": \"white\"}, \"zaxis\": {\"backgroundcolor\": \"#E5ECF6\", \"gridcolor\": \"white\", \"gridwidth\": 2, \"linecolor\": \"white\", \"showbackground\": true, \"ticks\": \"\", \"zerolinecolor\": \"white\"}}, \"shapedefaults\": {\"line\": {\"color\": \"#2a3f5f\"}}, \"ternary\": {\"aaxis\": {\"gridcolor\": \"white\", \"linecolor\": \"white\", \"ticks\": \"\"}, \"baxis\": {\"gridcolor\": \"white\", \"linecolor\": \"white\", \"ticks\": \"\"}, \"bgcolor\": \"#E5ECF6\", \"caxis\": {\"gridcolor\": \"white\", \"linecolor\": \"white\", \"ticks\": \"\"}}, \"title\": {\"x\": 0.05}, \"xaxis\": {\"automargin\": true, \"gridcolor\": \"white\", \"linecolor\": \"white\", \"ticks\": \"\", \"title\": {\"standoff\": 15}, \"zerolinecolor\": \"white\", \"zerolinewidth\": 2}, \"yaxis\": {\"automargin\": true, \"gridcolor\": \"white\", \"linecolor\": \"white\", \"ticks\": \"\", \"title\": {\"standoff\": 15}, \"zerolinecolor\": \"white\", \"zerolinewidth\": 2}}}},                        {\"responsive\": true}                    ).then(function(){\n",
       "                            \n",
       "var gd = document.getElementById('9a3d8002-c02f-4b2c-a243-ed46315c20d2');\n",
       "var x = new MutationObserver(function (mutations, observer) {{\n",
       "        var display = window.getComputedStyle(gd).display;\n",
       "        if (!display || display === 'none') {{\n",
       "            console.log([gd, 'removed!']);\n",
       "            Plotly.purge(gd);\n",
       "            observer.disconnect();\n",
       "        }}\n",
       "}});\n",
       "\n",
       "// Listen for the removal of the full notebook cells\n",
       "var notebookContainer = gd.closest('#notebook-container');\n",
       "if (notebookContainer) {{\n",
       "    x.observe(notebookContainer, {childList: true});\n",
       "}}\n",
       "\n",
       "// Listen for the clearing of the current output cell\n",
       "var outputEl = gd.closest('.output');\n",
       "if (outputEl) {{\n",
       "    x.observe(outputEl, {childList: true});\n",
       "}}\n",
       "\n",
       "                        })                };                });            </script>        </div>"
      ]
     },
     "metadata": {},
     "output_type": "display_data"
    },
    {
     "name": "stdout",
     "output_type": "stream",
     "text": [
      "Energia <=  -9.0  kcal/mol\n"
     ]
    },
    {
     "data": {
      "application/vnd.plotly.v1+json": {
       "config": {
        "plotlyServerURL": "https://plot.ly"
       },
       "data": [
        {
         "hovertemplate": "x=%{x}<br>y=%{y}<br>z=%{z}<br>size=%{marker.size}<br>Name=%{text}<br>Energy=%{marker.color}<extra></extra>",
         "legendgroup": "",
         "marker": {
          "color": [
           -9.6,
           -9.1,
           -9,
           -9,
           -9.6
          ],
          "coloraxis": "coloraxis",
          "size": [
           3.321416142563494e+26,
           7.836417984815941e+25,
           5.8149737003040055e+25,
           5.8149737003040055e+25,
           3.321416142563494e+26
          ],
          "sizemode": "area",
          "sizeref": 8.303540356408734e+23,
          "symbol": "circle"
         },
         "mode": "markers+text",
         "name": "",
         "scene": "scene",
         "showlegend": false,
         "text": [
          "CN288",
          "CN288",
          "CN288",
          "CN288",
          "CN289"
         ],
         "type": "scatter3d",
         "x": [
          0,
          0,
          0,
          0,
          0
         ],
         "y": [
          -63.60412212933175,
          -60.30145574594113,
          -65.15267969912556,
          -63.50624438822011,
          -63.31735055751747
         ],
         "z": [
          53.408756083099064,
          49.99768847552658,
          53.180428318364086,
          53.442669371177395,
          53.519689864427654
         ]
        }
       ],
       "layout": {
        "coloraxis": {
         "colorbar": {
          "title": {
           "text": "Energy"
          }
         },
         "colorscale": [
          [
           0,
           "#0d0887"
          ],
          [
           0.1111111111111111,
           "#46039f"
          ],
          [
           0.2222222222222222,
           "#7201a8"
          ],
          [
           0.3333333333333333,
           "#9c179e"
          ],
          [
           0.4444444444444444,
           "#bd3786"
          ],
          [
           0.5555555555555556,
           "#d8576b"
          ],
          [
           0.6666666666666666,
           "#ed7953"
          ],
          [
           0.7777777777777778,
           "#fb9f3a"
          ],
          [
           0.8888888888888888,
           "#fdca26"
          ],
          [
           1,
           "#f0f921"
          ]
         ]
        },
        "legend": {
         "itemsizing": "constant",
         "tracegroupgap": 0
        },
        "margin": {
         "t": 60
        },
        "scene": {
         "domain": {
          "x": [
           0,
           1
          ],
          "y": [
           0,
           1
          ]
         },
         "xaxis": {
          "title": {
           "text": "x"
          }
         },
         "yaxis": {
          "title": {
           "text": "y"
          }
         },
         "zaxis": {
          "title": {
           "text": "z"
          }
         }
        },
        "template": {
         "data": {
          "bar": [
           {
            "error_x": {
             "color": "#2a3f5f"
            },
            "error_y": {
             "color": "#2a3f5f"
            },
            "marker": {
             "line": {
              "color": "#E5ECF6",
              "width": 0.5
             }
            },
            "type": "bar"
           }
          ],
          "barpolar": [
           {
            "marker": {
             "line": {
              "color": "#E5ECF6",
              "width": 0.5
             }
            },
            "type": "barpolar"
           }
          ],
          "carpet": [
           {
            "aaxis": {
             "endlinecolor": "#2a3f5f",
             "gridcolor": "white",
             "linecolor": "white",
             "minorgridcolor": "white",
             "startlinecolor": "#2a3f5f"
            },
            "baxis": {
             "endlinecolor": "#2a3f5f",
             "gridcolor": "white",
             "linecolor": "white",
             "minorgridcolor": "white",
             "startlinecolor": "#2a3f5f"
            },
            "type": "carpet"
           }
          ],
          "choropleth": [
           {
            "colorbar": {
             "outlinewidth": 0,
             "ticks": ""
            },
            "type": "choropleth"
           }
          ],
          "contour": [
           {
            "colorbar": {
             "outlinewidth": 0,
             "ticks": ""
            },
            "colorscale": [
             [
              0,
              "#0d0887"
             ],
             [
              0.1111111111111111,
              "#46039f"
             ],
             [
              0.2222222222222222,
              "#7201a8"
             ],
             [
              0.3333333333333333,
              "#9c179e"
             ],
             [
              0.4444444444444444,
              "#bd3786"
             ],
             [
              0.5555555555555556,
              "#d8576b"
             ],
             [
              0.6666666666666666,
              "#ed7953"
             ],
             [
              0.7777777777777778,
              "#fb9f3a"
             ],
             [
              0.8888888888888888,
              "#fdca26"
             ],
             [
              1,
              "#f0f921"
             ]
            ],
            "type": "contour"
           }
          ],
          "contourcarpet": [
           {
            "colorbar": {
             "outlinewidth": 0,
             "ticks": ""
            },
            "type": "contourcarpet"
           }
          ],
          "heatmap": [
           {
            "colorbar": {
             "outlinewidth": 0,
             "ticks": ""
            },
            "colorscale": [
             [
              0,
              "#0d0887"
             ],
             [
              0.1111111111111111,
              "#46039f"
             ],
             [
              0.2222222222222222,
              "#7201a8"
             ],
             [
              0.3333333333333333,
              "#9c179e"
             ],
             [
              0.4444444444444444,
              "#bd3786"
             ],
             [
              0.5555555555555556,
              "#d8576b"
             ],
             [
              0.6666666666666666,
              "#ed7953"
             ],
             [
              0.7777777777777778,
              "#fb9f3a"
             ],
             [
              0.8888888888888888,
              "#fdca26"
             ],
             [
              1,
              "#f0f921"
             ]
            ],
            "type": "heatmap"
           }
          ],
          "heatmapgl": [
           {
            "colorbar": {
             "outlinewidth": 0,
             "ticks": ""
            },
            "colorscale": [
             [
              0,
              "#0d0887"
             ],
             [
              0.1111111111111111,
              "#46039f"
             ],
             [
              0.2222222222222222,
              "#7201a8"
             ],
             [
              0.3333333333333333,
              "#9c179e"
             ],
             [
              0.4444444444444444,
              "#bd3786"
             ],
             [
              0.5555555555555556,
              "#d8576b"
             ],
             [
              0.6666666666666666,
              "#ed7953"
             ],
             [
              0.7777777777777778,
              "#fb9f3a"
             ],
             [
              0.8888888888888888,
              "#fdca26"
             ],
             [
              1,
              "#f0f921"
             ]
            ],
            "type": "heatmapgl"
           }
          ],
          "histogram": [
           {
            "marker": {
             "colorbar": {
              "outlinewidth": 0,
              "ticks": ""
             }
            },
            "type": "histogram"
           }
          ],
          "histogram2d": [
           {
            "colorbar": {
             "outlinewidth": 0,
             "ticks": ""
            },
            "colorscale": [
             [
              0,
              "#0d0887"
             ],
             [
              0.1111111111111111,
              "#46039f"
             ],
             [
              0.2222222222222222,
              "#7201a8"
             ],
             [
              0.3333333333333333,
              "#9c179e"
             ],
             [
              0.4444444444444444,
              "#bd3786"
             ],
             [
              0.5555555555555556,
              "#d8576b"
             ],
             [
              0.6666666666666666,
              "#ed7953"
             ],
             [
              0.7777777777777778,
              "#fb9f3a"
             ],
             [
              0.8888888888888888,
              "#fdca26"
             ],
             [
              1,
              "#f0f921"
             ]
            ],
            "type": "histogram2d"
           }
          ],
          "histogram2dcontour": [
           {
            "colorbar": {
             "outlinewidth": 0,
             "ticks": ""
            },
            "colorscale": [
             [
              0,
              "#0d0887"
             ],
             [
              0.1111111111111111,
              "#46039f"
             ],
             [
              0.2222222222222222,
              "#7201a8"
             ],
             [
              0.3333333333333333,
              "#9c179e"
             ],
             [
              0.4444444444444444,
              "#bd3786"
             ],
             [
              0.5555555555555556,
              "#d8576b"
             ],
             [
              0.6666666666666666,
              "#ed7953"
             ],
             [
              0.7777777777777778,
              "#fb9f3a"
             ],
             [
              0.8888888888888888,
              "#fdca26"
             ],
             [
              1,
              "#f0f921"
             ]
            ],
            "type": "histogram2dcontour"
           }
          ],
          "mesh3d": [
           {
            "colorbar": {
             "outlinewidth": 0,
             "ticks": ""
            },
            "type": "mesh3d"
           }
          ],
          "parcoords": [
           {
            "line": {
             "colorbar": {
              "outlinewidth": 0,
              "ticks": ""
             }
            },
            "type": "parcoords"
           }
          ],
          "pie": [
           {
            "automargin": true,
            "type": "pie"
           }
          ],
          "scatter": [
           {
            "marker": {
             "colorbar": {
              "outlinewidth": 0,
              "ticks": ""
             }
            },
            "type": "scatter"
           }
          ],
          "scatter3d": [
           {
            "line": {
             "colorbar": {
              "outlinewidth": 0,
              "ticks": ""
             }
            },
            "marker": {
             "colorbar": {
              "outlinewidth": 0,
              "ticks": ""
             }
            },
            "type": "scatter3d"
           }
          ],
          "scattercarpet": [
           {
            "marker": {
             "colorbar": {
              "outlinewidth": 0,
              "ticks": ""
             }
            },
            "type": "scattercarpet"
           }
          ],
          "scattergeo": [
           {
            "marker": {
             "colorbar": {
              "outlinewidth": 0,
              "ticks": ""
             }
            },
            "type": "scattergeo"
           }
          ],
          "scattergl": [
           {
            "marker": {
             "colorbar": {
              "outlinewidth": 0,
              "ticks": ""
             }
            },
            "type": "scattergl"
           }
          ],
          "scattermapbox": [
           {
            "marker": {
             "colorbar": {
              "outlinewidth": 0,
              "ticks": ""
             }
            },
            "type": "scattermapbox"
           }
          ],
          "scatterpolar": [
           {
            "marker": {
             "colorbar": {
              "outlinewidth": 0,
              "ticks": ""
             }
            },
            "type": "scatterpolar"
           }
          ],
          "scatterpolargl": [
           {
            "marker": {
             "colorbar": {
              "outlinewidth": 0,
              "ticks": ""
             }
            },
            "type": "scatterpolargl"
           }
          ],
          "scatterternary": [
           {
            "marker": {
             "colorbar": {
              "outlinewidth": 0,
              "ticks": ""
             }
            },
            "type": "scatterternary"
           }
          ],
          "surface": [
           {
            "colorbar": {
             "outlinewidth": 0,
             "ticks": ""
            },
            "colorscale": [
             [
              0,
              "#0d0887"
             ],
             [
              0.1111111111111111,
              "#46039f"
             ],
             [
              0.2222222222222222,
              "#7201a8"
             ],
             [
              0.3333333333333333,
              "#9c179e"
             ],
             [
              0.4444444444444444,
              "#bd3786"
             ],
             [
              0.5555555555555556,
              "#d8576b"
             ],
             [
              0.6666666666666666,
              "#ed7953"
             ],
             [
              0.7777777777777778,
              "#fb9f3a"
             ],
             [
              0.8888888888888888,
              "#fdca26"
             ],
             [
              1,
              "#f0f921"
             ]
            ],
            "type": "surface"
           }
          ],
          "table": [
           {
            "cells": {
             "fill": {
              "color": "#EBF0F8"
             },
             "line": {
              "color": "white"
             }
            },
            "header": {
             "fill": {
              "color": "#C8D4E3"
             },
             "line": {
              "color": "white"
             }
            },
            "type": "table"
           }
          ]
         },
         "layout": {
          "annotationdefaults": {
           "arrowcolor": "#2a3f5f",
           "arrowhead": 0,
           "arrowwidth": 1
          },
          "autotypenumbers": "strict",
          "coloraxis": {
           "colorbar": {
            "outlinewidth": 0,
            "ticks": ""
           }
          },
          "colorscale": {
           "diverging": [
            [
             0,
             "#8e0152"
            ],
            [
             0.1,
             "#c51b7d"
            ],
            [
             0.2,
             "#de77ae"
            ],
            [
             0.3,
             "#f1b6da"
            ],
            [
             0.4,
             "#fde0ef"
            ],
            [
             0.5,
             "#f7f7f7"
            ],
            [
             0.6,
             "#e6f5d0"
            ],
            [
             0.7,
             "#b8e186"
            ],
            [
             0.8,
             "#7fbc41"
            ],
            [
             0.9,
             "#4d9221"
            ],
            [
             1,
             "#276419"
            ]
           ],
           "sequential": [
            [
             0,
             "#0d0887"
            ],
            [
             0.1111111111111111,
             "#46039f"
            ],
            [
             0.2222222222222222,
             "#7201a8"
            ],
            [
             0.3333333333333333,
             "#9c179e"
            ],
            [
             0.4444444444444444,
             "#bd3786"
            ],
            [
             0.5555555555555556,
             "#d8576b"
            ],
            [
             0.6666666666666666,
             "#ed7953"
            ],
            [
             0.7777777777777778,
             "#fb9f3a"
            ],
            [
             0.8888888888888888,
             "#fdca26"
            ],
            [
             1,
             "#f0f921"
            ]
           ],
           "sequentialminus": [
            [
             0,
             "#0d0887"
            ],
            [
             0.1111111111111111,
             "#46039f"
            ],
            [
             0.2222222222222222,
             "#7201a8"
            ],
            [
             0.3333333333333333,
             "#9c179e"
            ],
            [
             0.4444444444444444,
             "#bd3786"
            ],
            [
             0.5555555555555556,
             "#d8576b"
            ],
            [
             0.6666666666666666,
             "#ed7953"
            ],
            [
             0.7777777777777778,
             "#fb9f3a"
            ],
            [
             0.8888888888888888,
             "#fdca26"
            ],
            [
             1,
             "#f0f921"
            ]
           ]
          },
          "colorway": [
           "#636efa",
           "#EF553B",
           "#00cc96",
           "#ab63fa",
           "#FFA15A",
           "#19d3f3",
           "#FF6692",
           "#B6E880",
           "#FF97FF",
           "#FECB52"
          ],
          "font": {
           "color": "#2a3f5f"
          },
          "geo": {
           "bgcolor": "white",
           "lakecolor": "white",
           "landcolor": "#E5ECF6",
           "showlakes": true,
           "showland": true,
           "subunitcolor": "white"
          },
          "hoverlabel": {
           "align": "left"
          },
          "hovermode": "closest",
          "mapbox": {
           "style": "light"
          },
          "paper_bgcolor": "white",
          "plot_bgcolor": "#E5ECF6",
          "polar": {
           "angularaxis": {
            "gridcolor": "white",
            "linecolor": "white",
            "ticks": ""
           },
           "bgcolor": "#E5ECF6",
           "radialaxis": {
            "gridcolor": "white",
            "linecolor": "white",
            "ticks": ""
           }
          },
          "scene": {
           "xaxis": {
            "backgroundcolor": "#E5ECF6",
            "gridcolor": "white",
            "gridwidth": 2,
            "linecolor": "white",
            "showbackground": true,
            "ticks": "",
            "zerolinecolor": "white"
           },
           "yaxis": {
            "backgroundcolor": "#E5ECF6",
            "gridcolor": "white",
            "gridwidth": 2,
            "linecolor": "white",
            "showbackground": true,
            "ticks": "",
            "zerolinecolor": "white"
           },
           "zaxis": {
            "backgroundcolor": "#E5ECF6",
            "gridcolor": "white",
            "gridwidth": 2,
            "linecolor": "white",
            "showbackground": true,
            "ticks": "",
            "zerolinecolor": "white"
           }
          },
          "shapedefaults": {
           "line": {
            "color": "#2a3f5f"
           }
          },
          "ternary": {
           "aaxis": {
            "gridcolor": "white",
            "linecolor": "white",
            "ticks": ""
           },
           "baxis": {
            "gridcolor": "white",
            "linecolor": "white",
            "ticks": ""
           },
           "bgcolor": "#E5ECF6",
           "caxis": {
            "gridcolor": "white",
            "linecolor": "white",
            "ticks": ""
           }
          },
          "title": {
           "x": 0.05
          },
          "xaxis": {
           "automargin": true,
           "gridcolor": "white",
           "linecolor": "white",
           "ticks": "",
           "title": {
            "standoff": 15
           },
           "zerolinecolor": "white",
           "zerolinewidth": 2
          },
          "yaxis": {
           "automargin": true,
           "gridcolor": "white",
           "linecolor": "white",
           "ticks": "",
           "title": {
            "standoff": 15
           },
           "zerolinecolor": "white",
           "zerolinewidth": 2
          }
         }
        }
       }
      },
      "text/html": [
       "<div>                            <div id=\"fee65a9c-8288-407d-b070-e94747bcfb96\" class=\"plotly-graph-div\" style=\"height:525px; width:100%;\"></div>            <script type=\"text/javascript\">                require([\"plotly\"], function(Plotly) {                    window.PLOTLYENV=window.PLOTLYENV || {};                                    if (document.getElementById(\"fee65a9c-8288-407d-b070-e94747bcfb96\")) {                    Plotly.newPlot(                        \"fee65a9c-8288-407d-b070-e94747bcfb96\",                        [{\"hovertemplate\": \"x=%{x}<br>y=%{y}<br>z=%{z}<br>size=%{marker.size}<br>Name=%{text}<br>Energy=%{marker.color}<extra></extra>\", \"legendgroup\": \"\", \"marker\": {\"color\": [-9.6, -9.1, -9.0, -9.0, -9.6], \"coloraxis\": \"coloraxis\", \"size\": [3.321416142563494e+26, 7.836417984815941e+25, 5.8149737003040055e+25, 5.8149737003040055e+25, 3.321416142563494e+26], \"sizemode\": \"area\", \"sizeref\": 8.303540356408734e+23, \"symbol\": \"circle\"}, \"mode\": \"markers+text\", \"name\": \"\", \"scene\": \"scene\", \"showlegend\": false, \"text\": [\"CN288\", \"CN288\", \"CN288\", \"CN288\", \"CN289\"], \"type\": \"scatter3d\", \"x\": [0.0, 0.0, 0.0, 0.0, 0.0], \"y\": [-63.60412212933175, -60.30145574594113, -65.15267969912556, -63.50624438822011, -63.31735055751747], \"z\": [53.408756083099064, 49.99768847552658, 53.180428318364086, 53.442669371177395, 53.519689864427654]}],                        {\"coloraxis\": {\"colorbar\": {\"title\": {\"text\": \"Energy\"}}, \"colorscale\": [[0.0, \"#0d0887\"], [0.1111111111111111, \"#46039f\"], [0.2222222222222222, \"#7201a8\"], [0.3333333333333333, \"#9c179e\"], [0.4444444444444444, \"#bd3786\"], [0.5555555555555556, \"#d8576b\"], [0.6666666666666666, \"#ed7953\"], [0.7777777777777778, \"#fb9f3a\"], [0.8888888888888888, \"#fdca26\"], [1.0, \"#f0f921\"]]}, \"legend\": {\"itemsizing\": \"constant\", \"tracegroupgap\": 0}, \"margin\": {\"t\": 60}, \"scene\": {\"domain\": {\"x\": [0.0, 1.0], \"y\": [0.0, 1.0]}, \"xaxis\": {\"title\": {\"text\": \"x\"}}, \"yaxis\": {\"title\": {\"text\": \"y\"}}, \"zaxis\": {\"title\": {\"text\": \"z\"}}}, \"template\": {\"data\": {\"bar\": [{\"error_x\": {\"color\": \"#2a3f5f\"}, \"error_y\": {\"color\": \"#2a3f5f\"}, \"marker\": {\"line\": {\"color\": \"#E5ECF6\", \"width\": 0.5}}, \"type\": \"bar\"}], \"barpolar\": [{\"marker\": {\"line\": {\"color\": \"#E5ECF6\", \"width\": 0.5}}, \"type\": \"barpolar\"}], \"carpet\": [{\"aaxis\": {\"endlinecolor\": \"#2a3f5f\", \"gridcolor\": \"white\", \"linecolor\": \"white\", \"minorgridcolor\": \"white\", \"startlinecolor\": \"#2a3f5f\"}, \"baxis\": {\"endlinecolor\": \"#2a3f5f\", \"gridcolor\": \"white\", \"linecolor\": \"white\", \"minorgridcolor\": \"white\", \"startlinecolor\": \"#2a3f5f\"}, \"type\": \"carpet\"}], \"choropleth\": [{\"colorbar\": {\"outlinewidth\": 0, \"ticks\": \"\"}, \"type\": \"choropleth\"}], \"contour\": [{\"colorbar\": {\"outlinewidth\": 0, \"ticks\": \"\"}, \"colorscale\": [[0.0, \"#0d0887\"], [0.1111111111111111, \"#46039f\"], [0.2222222222222222, \"#7201a8\"], [0.3333333333333333, \"#9c179e\"], [0.4444444444444444, \"#bd3786\"], [0.5555555555555556, \"#d8576b\"], [0.6666666666666666, \"#ed7953\"], [0.7777777777777778, \"#fb9f3a\"], [0.8888888888888888, \"#fdca26\"], [1.0, \"#f0f921\"]], \"type\": \"contour\"}], \"contourcarpet\": [{\"colorbar\": {\"outlinewidth\": 0, \"ticks\": \"\"}, \"type\": \"contourcarpet\"}], \"heatmap\": [{\"colorbar\": {\"outlinewidth\": 0, \"ticks\": \"\"}, \"colorscale\": [[0.0, \"#0d0887\"], [0.1111111111111111, \"#46039f\"], [0.2222222222222222, \"#7201a8\"], [0.3333333333333333, \"#9c179e\"], [0.4444444444444444, \"#bd3786\"], [0.5555555555555556, \"#d8576b\"], [0.6666666666666666, \"#ed7953\"], [0.7777777777777778, \"#fb9f3a\"], [0.8888888888888888, \"#fdca26\"], [1.0, \"#f0f921\"]], \"type\": \"heatmap\"}], \"heatmapgl\": [{\"colorbar\": {\"outlinewidth\": 0, \"ticks\": \"\"}, \"colorscale\": [[0.0, \"#0d0887\"], [0.1111111111111111, \"#46039f\"], [0.2222222222222222, \"#7201a8\"], [0.3333333333333333, \"#9c179e\"], [0.4444444444444444, \"#bd3786\"], [0.5555555555555556, \"#d8576b\"], [0.6666666666666666, \"#ed7953\"], [0.7777777777777778, \"#fb9f3a\"], [0.8888888888888888, \"#fdca26\"], [1.0, \"#f0f921\"]], \"type\": \"heatmapgl\"}], \"histogram\": [{\"marker\": {\"colorbar\": {\"outlinewidth\": 0, \"ticks\": \"\"}}, \"type\": \"histogram\"}], \"histogram2d\": [{\"colorbar\": {\"outlinewidth\": 0, \"ticks\": \"\"}, \"colorscale\": [[0.0, \"#0d0887\"], [0.1111111111111111, \"#46039f\"], [0.2222222222222222, \"#7201a8\"], [0.3333333333333333, \"#9c179e\"], [0.4444444444444444, \"#bd3786\"], [0.5555555555555556, \"#d8576b\"], [0.6666666666666666, \"#ed7953\"], [0.7777777777777778, \"#fb9f3a\"], [0.8888888888888888, \"#fdca26\"], [1.0, \"#f0f921\"]], \"type\": \"histogram2d\"}], \"histogram2dcontour\": [{\"colorbar\": {\"outlinewidth\": 0, \"ticks\": \"\"}, \"colorscale\": [[0.0, \"#0d0887\"], [0.1111111111111111, \"#46039f\"], [0.2222222222222222, \"#7201a8\"], [0.3333333333333333, \"#9c179e\"], [0.4444444444444444, \"#bd3786\"], [0.5555555555555556, \"#d8576b\"], [0.6666666666666666, \"#ed7953\"], [0.7777777777777778, \"#fb9f3a\"], [0.8888888888888888, \"#fdca26\"], [1.0, \"#f0f921\"]], \"type\": \"histogram2dcontour\"}], \"mesh3d\": [{\"colorbar\": {\"outlinewidth\": 0, \"ticks\": \"\"}, \"type\": \"mesh3d\"}], \"parcoords\": [{\"line\": {\"colorbar\": {\"outlinewidth\": 0, \"ticks\": \"\"}}, \"type\": \"parcoords\"}], \"pie\": [{\"automargin\": true, \"type\": \"pie\"}], \"scatter\": [{\"marker\": {\"colorbar\": {\"outlinewidth\": 0, \"ticks\": \"\"}}, \"type\": \"scatter\"}], \"scatter3d\": [{\"line\": {\"colorbar\": {\"outlinewidth\": 0, \"ticks\": \"\"}}, \"marker\": {\"colorbar\": {\"outlinewidth\": 0, \"ticks\": \"\"}}, \"type\": \"scatter3d\"}], \"scattercarpet\": [{\"marker\": {\"colorbar\": {\"outlinewidth\": 0, \"ticks\": \"\"}}, \"type\": \"scattercarpet\"}], \"scattergeo\": [{\"marker\": {\"colorbar\": {\"outlinewidth\": 0, \"ticks\": \"\"}}, \"type\": \"scattergeo\"}], \"scattergl\": [{\"marker\": {\"colorbar\": {\"outlinewidth\": 0, \"ticks\": \"\"}}, \"type\": \"scattergl\"}], \"scattermapbox\": [{\"marker\": {\"colorbar\": {\"outlinewidth\": 0, \"ticks\": \"\"}}, \"type\": \"scattermapbox\"}], \"scatterpolar\": [{\"marker\": {\"colorbar\": {\"outlinewidth\": 0, \"ticks\": \"\"}}, \"type\": \"scatterpolar\"}], \"scatterpolargl\": [{\"marker\": {\"colorbar\": {\"outlinewidth\": 0, \"ticks\": \"\"}}, \"type\": \"scatterpolargl\"}], \"scatterternary\": [{\"marker\": {\"colorbar\": {\"outlinewidth\": 0, \"ticks\": \"\"}}, \"type\": \"scatterternary\"}], \"surface\": [{\"colorbar\": {\"outlinewidth\": 0, \"ticks\": \"\"}, \"colorscale\": [[0.0, \"#0d0887\"], [0.1111111111111111, \"#46039f\"], [0.2222222222222222, \"#7201a8\"], [0.3333333333333333, \"#9c179e\"], [0.4444444444444444, \"#bd3786\"], [0.5555555555555556, \"#d8576b\"], [0.6666666666666666, \"#ed7953\"], [0.7777777777777778, \"#fb9f3a\"], [0.8888888888888888, \"#fdca26\"], [1.0, \"#f0f921\"]], \"type\": \"surface\"}], \"table\": [{\"cells\": {\"fill\": {\"color\": \"#EBF0F8\"}, \"line\": {\"color\": \"white\"}}, \"header\": {\"fill\": {\"color\": \"#C8D4E3\"}, \"line\": {\"color\": \"white\"}}, \"type\": \"table\"}]}, \"layout\": {\"annotationdefaults\": {\"arrowcolor\": \"#2a3f5f\", \"arrowhead\": 0, \"arrowwidth\": 1}, \"autotypenumbers\": \"strict\", \"coloraxis\": {\"colorbar\": {\"outlinewidth\": 0, \"ticks\": \"\"}}, \"colorscale\": {\"diverging\": [[0, \"#8e0152\"], [0.1, \"#c51b7d\"], [0.2, \"#de77ae\"], [0.3, \"#f1b6da\"], [0.4, \"#fde0ef\"], [0.5, \"#f7f7f7\"], [0.6, \"#e6f5d0\"], [0.7, \"#b8e186\"], [0.8, \"#7fbc41\"], [0.9, \"#4d9221\"], [1, \"#276419\"]], \"sequential\": [[0.0, \"#0d0887\"], [0.1111111111111111, \"#46039f\"], [0.2222222222222222, \"#7201a8\"], [0.3333333333333333, \"#9c179e\"], [0.4444444444444444, \"#bd3786\"], [0.5555555555555556, \"#d8576b\"], [0.6666666666666666, \"#ed7953\"], [0.7777777777777778, \"#fb9f3a\"], [0.8888888888888888, \"#fdca26\"], [1.0, \"#f0f921\"]], \"sequentialminus\": [[0.0, \"#0d0887\"], [0.1111111111111111, \"#46039f\"], [0.2222222222222222, \"#7201a8\"], [0.3333333333333333, \"#9c179e\"], [0.4444444444444444, \"#bd3786\"], [0.5555555555555556, \"#d8576b\"], [0.6666666666666666, \"#ed7953\"], [0.7777777777777778, \"#fb9f3a\"], [0.8888888888888888, \"#fdca26\"], [1.0, \"#f0f921\"]]}, \"colorway\": [\"#636efa\", \"#EF553B\", \"#00cc96\", \"#ab63fa\", \"#FFA15A\", \"#19d3f3\", \"#FF6692\", \"#B6E880\", \"#FF97FF\", \"#FECB52\"], \"font\": {\"color\": \"#2a3f5f\"}, \"geo\": {\"bgcolor\": \"white\", \"lakecolor\": \"white\", \"landcolor\": \"#E5ECF6\", \"showlakes\": true, \"showland\": true, \"subunitcolor\": \"white\"}, \"hoverlabel\": {\"align\": \"left\"}, \"hovermode\": \"closest\", \"mapbox\": {\"style\": \"light\"}, \"paper_bgcolor\": \"white\", \"plot_bgcolor\": \"#E5ECF6\", \"polar\": {\"angularaxis\": {\"gridcolor\": \"white\", \"linecolor\": \"white\", \"ticks\": \"\"}, \"bgcolor\": \"#E5ECF6\", \"radialaxis\": {\"gridcolor\": \"white\", \"linecolor\": \"white\", \"ticks\": \"\"}}, \"scene\": {\"xaxis\": {\"backgroundcolor\": \"#E5ECF6\", \"gridcolor\": \"white\", \"gridwidth\": 2, \"linecolor\": \"white\", \"showbackground\": true, \"ticks\": \"\", \"zerolinecolor\": \"white\"}, \"yaxis\": {\"backgroundcolor\": \"#E5ECF6\", \"gridcolor\": \"white\", \"gridwidth\": 2, \"linecolor\": \"white\", \"showbackground\": true, \"ticks\": \"\", \"zerolinecolor\": \"white\"}, \"zaxis\": {\"backgroundcolor\": \"#E5ECF6\", \"gridcolor\": \"white\", \"gridwidth\": 2, \"linecolor\": \"white\", \"showbackground\": true, \"ticks\": \"\", \"zerolinecolor\": \"white\"}}, \"shapedefaults\": {\"line\": {\"color\": \"#2a3f5f\"}}, \"ternary\": {\"aaxis\": {\"gridcolor\": \"white\", \"linecolor\": \"white\", \"ticks\": \"\"}, \"baxis\": {\"gridcolor\": \"white\", \"linecolor\": \"white\", \"ticks\": \"\"}, \"bgcolor\": \"#E5ECF6\", \"caxis\": {\"gridcolor\": \"white\", \"linecolor\": \"white\", \"ticks\": \"\"}}, \"title\": {\"x\": 0.05}, \"xaxis\": {\"automargin\": true, \"gridcolor\": \"white\", \"linecolor\": \"white\", \"ticks\": \"\", \"title\": {\"standoff\": 15}, \"zerolinecolor\": \"white\", \"zerolinewidth\": 2}, \"yaxis\": {\"automargin\": true, \"gridcolor\": \"white\", \"linecolor\": \"white\", \"ticks\": \"\", \"title\": {\"standoff\": 15}, \"zerolinecolor\": \"white\", \"zerolinewidth\": 2}}}},                        {\"responsive\": true}                    ).then(function(){\n",
       "                            \n",
       "var gd = document.getElementById('fee65a9c-8288-407d-b070-e94747bcfb96');\n",
       "var x = new MutationObserver(function (mutations, observer) {{\n",
       "        var display = window.getComputedStyle(gd).display;\n",
       "        if (!display || display === 'none') {{\n",
       "            console.log([gd, 'removed!']);\n",
       "            Plotly.purge(gd);\n",
       "            observer.disconnect();\n",
       "        }}\n",
       "}});\n",
       "\n",
       "// Listen for the removal of the full notebook cells\n",
       "var notebookContainer = gd.closest('#notebook-container');\n",
       "if (notebookContainer) {{\n",
       "    x.observe(notebookContainer, {childList: true});\n",
       "}}\n",
       "\n",
       "// Listen for the clearing of the current output cell\n",
       "var outputEl = gd.closest('.output');\n",
       "if (outputEl) {{\n",
       "    x.observe(outputEl, {childList: true});\n",
       "}}\n",
       "\n",
       "                        })                };                });            </script>        </div>"
      ]
     },
     "metadata": {},
     "output_type": "display_data"
    }
   ],
   "source": [
    "#Caso deseje visualizar a distribuição, rode.\n",
    "\n",
    "for i in [-7., -8., -9.]:\n",
    "    print('Energia <= ', i, ' kcal/mol')\n",
    "    siz = df[df['Energy'] <= i].drop(['Name','Count'], axis=1).apply(abs).apply(lambda x: x**(abs(i) * 3) )['Energy']\n",
    "    fig = px.scatter_3d(df[df['Energy'] <=i], x = 'x', text='Name',  y = 'y',  z = 'z', color = 'Energy', size= siz)\n",
    "    fig.show()\n"
   ]
  },
  {
   "cell_type": "markdown",
   "metadata": {},
   "source": [
    "__CLUSTERIZAÇÃO__"
   ]
  },
  {
   "cell_type": "markdown",
   "metadata": {},
   "source": [
    "Daqui para frente iremos trabalhar com a clusterização dos dados coletados. Fique a vontade para modificar os parâmetros dos algoritmos de clusterização da forma que achar melhor.\n"
   ]
  },
  {
   "cell_type": "markdown",
   "metadata": {},
   "source": [
    "__Vamos tentar usar o DBSCAN__"
   ]
  },
  {
   "cell_type": "code",
   "execution_count": 36,
   "metadata": {},
   "outputs": [],
   "source": [
    "from sklearn.cluster import DBSCAN\n",
    "from sklearn.preprocessing import MinMaxScaler"
   ]
  },
  {
   "cell_type": "code",
   "execution_count": 60,
   "metadata": {
    "scrolled": false
   },
   "outputs": [
    {
     "data": {
      "application/vnd.plotly.v1+json": {
       "config": {
        "plotlyServerURL": "https://plot.ly"
       },
       "data": [
        {
         "hovertemplate": "x=%{x}<br>y=%{y}<br>z=%{z}<br>size=%{marker.size}<br>Name=%{text}<br>Cluster=%{marker.color}<extra></extra>",
         "legendgroup": "",
         "marker": {
          "color": [
           0,
           0,
           0,
           0,
           0,
           1,
           -1,
           0,
           0,
           0,
           0,
           0,
           0,
           0,
           0,
           0,
           0,
           1,
           0,
           0,
           0,
           0,
           0,
           0,
           0,
           0,
           0,
           0,
           0,
           0,
           0,
           0,
           0,
           0,
           0,
           0,
           0,
           0,
           0,
           1,
           1,
           0,
           0,
           2,
           2,
           0,
           0,
           0,
           0,
           2,
           0,
           0,
           0,
           1,
           0,
           0,
           0,
           0,
           2,
           0,
           0,
           2,
           0,
           2,
           0,
           0,
           0,
           0,
           0,
           -1,
           0,
           0,
           0,
           0,
           0,
           0,
           0,
           0,
           0,
           0,
           0,
           0,
           0,
           0,
           0,
           0,
           0,
           -1,
           0,
           0,
           0,
           0,
           2,
           0,
           0,
           0,
           0,
           2,
           -1,
           0,
           0,
           0,
           0,
           0,
           0,
           2,
           0,
           0,
           0,
           0,
           0,
           0,
           0,
           0,
           0,
           0,
           0,
           0,
           0,
           0,
           0,
           0,
           0,
           0,
           0,
           0,
           0,
           0,
           0,
           0,
           0,
           0,
           -1,
           0,
           0,
           0,
           0,
           0,
           0,
           0,
           0,
           0,
           0,
           0,
           0,
           0,
           0,
           0,
           0,
           0,
           0,
           0,
           0
          ],
          "coloraxis": "coloraxis",
          "size": [
           5419842379272479000,
           4133378999547950600,
           1794180426060715800,
           1348279907365868300,
           1009212044656508300,
           752359350923790100,
           752359350923790100,
           752359350923790100,
           558545864083284030,
           11972515182562010000,
           5419842379272479000,
           3141126580731584500,
           1794180426060715800,
           1348279907365868300,
           1348279907365868300,
           1348279907365868300,
           1009212044656508300,
           752359350923790100,
           7082211906170651000,
           3141126580731584500,
           2378408954200495000,
           1794180426060715800,
           1794180426060715800,
           1794180426060715800,
           1794180426060715800,
           1348279907365868300,
           1348279907365868300,
           9223372036854776000,
           9223372036854776000,
           9223372036854776000,
           4133378999547950600,
           3141126580731584500,
           2378408954200495000,
           2378408954200495000,
           1348279907365868300,
           1009212044656508300,
           11972515182562010000,
           5419842379272479000,
           4133378999547950600,
           4133378999547950600,
           2378408954200495000,
           2378408954200495000,
           1794180426060715800,
           1794180426060715800,
           1348279907365868300,
           2378408954200495000,
           1794180426060715800,
           1348279907365868300,
           752359350923790100,
           752359350923790100,
           752359350923790100,
           752359350923790100,
           558545864083284030,
           558545864083284030,
           1794180426060715800,
           1009212044656508300,
           1794180426060715800,
           1794180426060715800,
           1009212044656508300,
           752359350923790100,
           558545864083284030,
           558545864083284030,
           752359350923790100,
           558545864083284030,
           11972515182562010000,
           7082211906170651000,
           7082211906170651000,
           5419842379272479000,
           3141126580731584500,
           3141126580731584500,
           2378408954200495000,
           2378408954200495000,
           2378408954200495000,
           424322336524231100000,
           137996870875659880000,
           109418989131512370000,
           109418989131512370000,
           86534669543385740000,
           68255258401606940000,
           68255258401606940000,
           53691347665120666000,
           42117974383768306000,
           424322336524231100000,
           86534669543385740000,
           86534669543385740000,
           86534669543385740000,
           68255258401606940000,
           68255258401606940000,
           68255258401606940000,
           53691347665120666000,
           42117974383768306000,
           15491408280867560000,
           11972515182562010000,
           9223372036854776000,
           9223372036854776000,
           9223372036854776000,
           7082211906170651000,
           5419842379272479000,
           5419842379272479000,
           5419842379272479000,
           752359350923790100,
           752359350923790100,
           752359350923790100,
           752359350923790100,
           558545864083284030,
           558545864083284030,
           25695969452034015000,
           25695969452034015000,
           25695969452034015000,
           15491408280867560000,
           11972515182562010000,
           9223372036854776000,
           9223372036854776000,
           5419842379272479000,
           5419842379272479000,
           4133378999547950600,
           4133378999547950600,
           1348279907365868300,
           1009212044656508300,
           752359350923790100,
           558545864083284030,
           9223372036854776000,
           4133378999547950600,
           4133378999547950600,
           2378408954200495000,
           1794180426060715800,
           1794180426060715800,
           1009212044656508300,
           752359350923790100,
           752359350923790100,
           558545864083284030,
           558545864083284030,
           558545864083284030,
           9223372036854776000,
           7082211906170651000,
           1009212044656508300,
           5419842379272479000,
           558545864083284030,
           15491408280867560000,
           11972515182562010000,
           1348279907365868300,
           1009212044656508300,
           558545864083284030,
           15491408280867560000,
           9223372036854776000,
           1348279907365868300,
           1348279907365868300,
           1009212044656508300,
           558545864083284030,
           1348279907365868300,
           752359350923790100,
           558545864083284030,
           558545864083284030
          ],
          "sizemode": "area",
          "sizeref": 1060805841310577800,
          "symbol": "circle"
         },
         "mode": "markers+text",
         "name": "",
         "scene": "scene",
         "showlegend": false,
         "text": [
          "CN093",
          "CN093",
          "CN093",
          "CN093",
          "CN093",
          "CN093",
          "CN093",
          "CN093",
          "CN093",
          "CN099",
          "CN099",
          "CN099",
          "CN099",
          "CN099",
          "CN099",
          "CN099",
          "CN099",
          "CN099",
          "CN100",
          "CN100",
          "CN100",
          "CN100",
          "CN100",
          "CN100",
          "CN100",
          "CN100",
          "CN100",
          "CN126",
          "CN126",
          "CN126",
          "CN126",
          "CN126",
          "CN126",
          "CN126",
          "CN126",
          "CN126",
          "CN275",
          "CN275",
          "CN275",
          "CN275",
          "CN275",
          "CN275",
          "CN275",
          "CN275",
          "CN275",
          "CN278",
          "CN278",
          "CN278",
          "CN278",
          "CN278",
          "CN278",
          "CN278",
          "CN278",
          "CN278",
          "CN281",
          "CN281",
          "CN283",
          "CN283",
          "CN283",
          "CN283",
          "CN283",
          "CN283",
          "CN284",
          "CN285",
          "CN286",
          "CN286",
          "CN286",
          "CN286",
          "CN286",
          "CN286",
          "CN286",
          "CN286",
          "CN286",
          "CN288",
          "CN288",
          "CN288",
          "CN288",
          "CN288",
          "CN288",
          "CN288",
          "CN288",
          "CN288",
          "CN289",
          "CN289",
          "CN289",
          "CN289",
          "CN289",
          "CN289",
          "CN289",
          "CN289",
          "CN289",
          "CN290",
          "CN290",
          "CN290",
          "CN290",
          "CN290",
          "CN290",
          "CN290",
          "CN290",
          "CN290",
          "CN292",
          "CN292",
          "CN292",
          "CN292",
          "CN292",
          "CN292",
          "CN334",
          "CN334",
          "CN334",
          "CN334",
          "CN334",
          "CN334",
          "CN334",
          "CN334",
          "CN334",
          "CN335",
          "CN335",
          "CN335",
          "CN335",
          "CN335",
          "CN335",
          "CN336",
          "CN336",
          "CN336",
          "CN336",
          "CN336",
          "CN336",
          "CN336",
          "CN338",
          "CN338",
          "CN338",
          "CN338",
          "CN338",
          "CN342",
          "CN342",
          "CN342",
          "CN343",
          "CN343",
          "CN344",
          "CN344",
          "CN344",
          "CN344",
          "CN344",
          "CN345",
          "CN345",
          "CN345",
          "CN346",
          "CN346",
          "CN346",
          "CN395",
          "CN395",
          "CN395",
          "CN395"
         ],
         "type": "scatter3d",
         "x": [
          0,
          0,
          0,
          0,
          0,
          0,
          0,
          0,
          0,
          0,
          0,
          0,
          0,
          0,
          0,
          0,
          0,
          0,
          0,
          0,
          0,
          0,
          0,
          0,
          0,
          0,
          0,
          0,
          0,
          0,
          0,
          0,
          0,
          0,
          0,
          0,
          0,
          0,
          0,
          0,
          0,
          0,
          0,
          0,
          0,
          0,
          0,
          0,
          0,
          0,
          0,
          0,
          0,
          0,
          0,
          0,
          0,
          0,
          0,
          0,
          0,
          0,
          0,
          0,
          0,
          0,
          0,
          0,
          0,
          0,
          0,
          0,
          0,
          0,
          0,
          0,
          0,
          0,
          0,
          0,
          0,
          0,
          0,
          0,
          0,
          0,
          0,
          0,
          0,
          0,
          0,
          0,
          0,
          0,
          0,
          0,
          0,
          0,
          0,
          0,
          0,
          0,
          0,
          0,
          0,
          0,
          0,
          0,
          0,
          0,
          0,
          0,
          0,
          0,
          0,
          0,
          0,
          0,
          0,
          0,
          0,
          0,
          0,
          0,
          0,
          0,
          0,
          0,
          0,
          0,
          0,
          0,
          0,
          0,
          0,
          0,
          0,
          0,
          0,
          0,
          0,
          0,
          0,
          0,
          0,
          0,
          0,
          0,
          0,
          0,
          0,
          0,
          0
         ],
         "y": [
          -60.75118745393513,
          -60.05217314599635,
          -60.21547423481451,
          -61.158870921840794,
          -59.538597795248904,
          -67.72220061986043,
          -63.77007023946023,
          -61.22655862914219,
          -61.88798411923996,
          -60.57494000771868,
          -60.68928645849326,
          -61.304439935105314,
          -61.00958650848745,
          -61.46972460703987,
          -61.11353677938163,
          -61.31374100876196,
          -60.90198862610622,
          -68.36343990917459,
          -62.86189789808475,
          -60.75217495286459,
          -62.69552566936948,
          -61.196261255397964,
          -61.32174906787396,
          -60.895689026999335,
          -61.04937819759732,
          -61.4358825743977,
          -62.871056223844285,
          -61.37746948061531,
          -60.945224392632156,
          -61.38932445074329,
          -61.238462152540755,
          -61.157075810453456,
          -62.58502025835166,
          -63.140936052448595,
          -61.3545692613022,
          -61.27617050739009,
          -63.0747459518479,
          -63.09550021292299,
          -63.327606398291714,
          -70.24154925512283,
          -70.54614321850939,
          -63.489107019201604,
          -63.559018453351186,
          -48.31739698378559,
          -46.727766425654536,
          -63.0140343755948,
          -63.200027649246735,
          -62.901220551652614,
          -63.26817904527513,
          -46.75011802165369,
          -63.25797098634029,
          -62.7023431946856,
          -63.57580716659059,
          -70.72862705898417,
          -61.428233712937626,
          -61.89645335783423,
          -62.043886588856346,
          -62.05147587735457,
          -49.64030979337443,
          -62.70445468644807,
          -62.711569727283376,
          -49.655111733560524,
          -59.37985873510166,
          -49.7848514713609,
          -60.28846342567355,
          -62.50263298534182,
          -62.67584754437707,
          -60.673802201076654,
          -60.996689492631596,
          -63.37150265541684,
          -62.113037072468586,
          -62.089209276981215,
          -63.330014854256625,
          -63.60412212933175,
          -60.30145574594113,
          -65.15267969912556,
          -63.50624438822011,
          -64.45172081623664,
          -64.95177670657633,
          -65.5707428343778,
          -64.99478336218452,
          -65.91221619198205,
          -63.31735055751747,
          -63.43452993598127,
          -65.25852681580234,
          -60.38057092121936,
          -65.09619800483695,
          -42.351118666359135,
          -64.78658354116956,
          -65.39916696304155,
          -64.76476951982782,
          -62.00665480890412,
          -49.397654775838696,
          -61.98667529618951,
          -61.9465482703732,
          -62.170683922611616,
          -61.16239819311625,
          -49.50068016212949,
          -63.10976298462083,
          -63.15752325007695,
          -63.01335014414529,
          -63.94459195768303,
          -62.97392069102371,
          -63.960590151810244,
          -63.12696436992394,
          -49.77610532098474,
          -61.029262172053755,
          -61.77753195654853,
          -60.56519031037682,
          -62.47902265951993,
          -62.21689087493429,
          -62.94674458965757,
          -62.61385460698362,
          -62.527543212656475,
          -62.30758057143599,
          -62.6301457621013,
          -62.56150573061158,
          -62.16088350477428,
          -64.02070644348836,
          -61.6546337794381,
          -63.832153624080924,
          -60.484239551699396,
          -59.91702395790995,
          -60.8476380277742,
          -59.56990354622792,
          -61.263281884342526,
          -59.830939527919945,
          -60.39369362477795,
          -61.97727406295221,
          -60.941543189936795,
          -59.76712972504487,
          -60.467830972681185,
          -64.27547353620488,
          -59.55447505114777,
          -59.51515982124604,
          -59.56866994675619,
          -59.91838322243058,
          -59.76313232119952,
          -59.69414214694723,
          -59.66613708639593,
          -59.8418181568948,
          -60.14876595968577,
          -60.455148918659006,
          -59.733784224749506,
          -59.65604081004755,
          -59.62740044860427,
          -59.97938267103758,
          -60.41666589485104,
          -60.30916341007479,
          -60.938769304944934,
          -59.83252348177193,
          -60.71057606368141,
          -60.88669395207643
         ],
         "z": [
          54.117132125448514,
          53.343287814023704,
          52.74629120646537,
          53.76410237397174,
          53.07532147231076,
          42.0223038994316,
          72.04853761865918,
          53.192714670898546,
          53.60987438558194,
          53.414850752615116,
          53.805074492488735,
          53.49523863903513,
          52.78964340749768,
          53.83582920847344,
          53.51776695686241,
          52.799409267281895,
          52.7588444765736,
          42.243425971565756,
          52.77950256615447,
          50.00912946297451,
          52.517956587943324,
          50.649120407954115,
          51.21468229766469,
          50.620798383774165,
          50.50573505593589,
          50.62093825600328,
          52.22929788738166,
          53.869024175636746,
          53.478731980020534,
          53.124774990596784,
          52.65790566439512,
          53.027265325506974,
          53.01757727872972,
          53.31917361081088,
          52.70267935991297,
          52.34846438806406,
          50.2265091497157,
          50.258440149670264,
          49.8039221831396,
          42.42269852151155,
          41.52544248590911,
          49.8456025609156,
          50.122040319637826,
          31.053786504043916,
          32.453970958429416,
          50.386040500648704,
          49.99351616467796,
          51.71810716312807,
          50.36002987698443,
          32.90720980920118,
          49.73919265517008,
          51.68788214202511,
          49.43433433555537,
          42.445262505072755,
          54.12178553706663,
          54.000080907972695,
          53.615219298002614,
          53.63535337190594,
          32.925771051679995,
          53.99730781113808,
          54.008534044510405,
          32.29856443330397,
          54.76059359627944,
          32.771851226685094,
          52.15670304166269,
          53.667369963503766,
          54.0435701599313,
          51.88559761218135,
          51.46624176106343,
          71.59913939120491,
          53.423091679254796,
          53.68050911373071,
          53.433399630737505,
          53.408756083099064,
          49.99768847552658,
          53.180428318364086,
          53.442669371177395,
          53.693756805928714,
          53.60620783588089,
          53.33904036485085,
          53.58785090850512,
          53.16227961761895,
          53.519689864427654,
          53.35882955041355,
          53.40954222921508,
          49.8464714254118,
          53.71739676413705,
          53.66186892753911,
          53.62668951622923,
          53.218867431821,
          53.690123065890674,
          54.0632444825613,
          33.247576376234896,
          54.05724493881554,
          53.85885061366438,
          53.67895310874783,
          53.17913514849833,
          33.08725525194032,
          69.97848066943608,
          53.45099903886828,
          53.55715971587801,
          53.628140134439825,
          53.5256323772837,
          53.62430993945577,
          53.80185748316406,
          32.586547732318095,
          53.614608373620236,
          52.945269663147364,
          52.46291580566245,
          52.8265138141373,
          52.84808543376831,
          52.356152043762926,
          52.79498977242493,
          53.18257646249586,
          52.130693856057306,
          53.32955814187234,
          53.31825956326853,
          53.11287171006189,
          52.84940649083921,
          52.87884710854957,
          53.16658565996296,
          54.262894344485495,
          53.70611994575857,
          54.69634854612717,
          53.92103696797039,
          54.230377056661304,
          53.602667092862106,
          54.23673663492686,
          53.874398436503434,
          54.27969242299815,
          53.958999403793996,
          53.557430238103656,
          37.6361331808898,
          54.497765573657446,
          54.35845007587763,
          54.43960654997261,
          54.56914916127192,
          54.16942535572042,
          54.2585309395323,
          54.174736643696754,
          54.42736491865578,
          53.96920922853735,
          54.125414471348606,
          54.289641768467014,
          54.309132396653304,
          54.3923735970013,
          54.7199295095141,
          54.42548001807256,
          54.860663445202434,
          53.94601613273452,
          53.914743175645555,
          54.15913915337049,
          53.93136190797932
         ]
        }
       ],
       "layout": {
        "coloraxis": {
         "colorbar": {
          "title": {
           "text": "Cluster"
          }
         },
         "colorscale": [
          [
           0,
           "#0d0887"
          ],
          [
           0.1111111111111111,
           "#46039f"
          ],
          [
           0.2222222222222222,
           "#7201a8"
          ],
          [
           0.3333333333333333,
           "#9c179e"
          ],
          [
           0.4444444444444444,
           "#bd3786"
          ],
          [
           0.5555555555555556,
           "#d8576b"
          ],
          [
           0.6666666666666666,
           "#ed7953"
          ],
          [
           0.7777777777777778,
           "#fb9f3a"
          ],
          [
           0.8888888888888888,
           "#fdca26"
          ],
          [
           1,
           "#f0f921"
          ]
         ]
        },
        "legend": {
         "itemsizing": "constant",
         "tracegroupgap": 0
        },
        "scene": {
         "domain": {
          "x": [
           0,
           1
          ],
          "y": [
           0,
           1
          ]
         },
         "xaxis": {
          "title": {
           "text": "x"
          }
         },
         "yaxis": {
          "title": {
           "text": "y"
          }
         },
         "zaxis": {
          "title": {
           "text": "z"
          }
         }
        },
        "template": {
         "data": {
          "bar": [
           {
            "error_x": {
             "color": "#2a3f5f"
            },
            "error_y": {
             "color": "#2a3f5f"
            },
            "marker": {
             "line": {
              "color": "#E5ECF6",
              "width": 0.5
             }
            },
            "type": "bar"
           }
          ],
          "barpolar": [
           {
            "marker": {
             "line": {
              "color": "#E5ECF6",
              "width": 0.5
             }
            },
            "type": "barpolar"
           }
          ],
          "carpet": [
           {
            "aaxis": {
             "endlinecolor": "#2a3f5f",
             "gridcolor": "white",
             "linecolor": "white",
             "minorgridcolor": "white",
             "startlinecolor": "#2a3f5f"
            },
            "baxis": {
             "endlinecolor": "#2a3f5f",
             "gridcolor": "white",
             "linecolor": "white",
             "minorgridcolor": "white",
             "startlinecolor": "#2a3f5f"
            },
            "type": "carpet"
           }
          ],
          "choropleth": [
           {
            "colorbar": {
             "outlinewidth": 0,
             "ticks": ""
            },
            "type": "choropleth"
           }
          ],
          "contour": [
           {
            "colorbar": {
             "outlinewidth": 0,
             "ticks": ""
            },
            "colorscale": [
             [
              0,
              "#0d0887"
             ],
             [
              0.1111111111111111,
              "#46039f"
             ],
             [
              0.2222222222222222,
              "#7201a8"
             ],
             [
              0.3333333333333333,
              "#9c179e"
             ],
             [
              0.4444444444444444,
              "#bd3786"
             ],
             [
              0.5555555555555556,
              "#d8576b"
             ],
             [
              0.6666666666666666,
              "#ed7953"
             ],
             [
              0.7777777777777778,
              "#fb9f3a"
             ],
             [
              0.8888888888888888,
              "#fdca26"
             ],
             [
              1,
              "#f0f921"
             ]
            ],
            "type": "contour"
           }
          ],
          "contourcarpet": [
           {
            "colorbar": {
             "outlinewidth": 0,
             "ticks": ""
            },
            "type": "contourcarpet"
           }
          ],
          "heatmap": [
           {
            "colorbar": {
             "outlinewidth": 0,
             "ticks": ""
            },
            "colorscale": [
             [
              0,
              "#0d0887"
             ],
             [
              0.1111111111111111,
              "#46039f"
             ],
             [
              0.2222222222222222,
              "#7201a8"
             ],
             [
              0.3333333333333333,
              "#9c179e"
             ],
             [
              0.4444444444444444,
              "#bd3786"
             ],
             [
              0.5555555555555556,
              "#d8576b"
             ],
             [
              0.6666666666666666,
              "#ed7953"
             ],
             [
              0.7777777777777778,
              "#fb9f3a"
             ],
             [
              0.8888888888888888,
              "#fdca26"
             ],
             [
              1,
              "#f0f921"
             ]
            ],
            "type": "heatmap"
           }
          ],
          "heatmapgl": [
           {
            "colorbar": {
             "outlinewidth": 0,
             "ticks": ""
            },
            "colorscale": [
             [
              0,
              "#0d0887"
             ],
             [
              0.1111111111111111,
              "#46039f"
             ],
             [
              0.2222222222222222,
              "#7201a8"
             ],
             [
              0.3333333333333333,
              "#9c179e"
             ],
             [
              0.4444444444444444,
              "#bd3786"
             ],
             [
              0.5555555555555556,
              "#d8576b"
             ],
             [
              0.6666666666666666,
              "#ed7953"
             ],
             [
              0.7777777777777778,
              "#fb9f3a"
             ],
             [
              0.8888888888888888,
              "#fdca26"
             ],
             [
              1,
              "#f0f921"
             ]
            ],
            "type": "heatmapgl"
           }
          ],
          "histogram": [
           {
            "marker": {
             "colorbar": {
              "outlinewidth": 0,
              "ticks": ""
             }
            },
            "type": "histogram"
           }
          ],
          "histogram2d": [
           {
            "colorbar": {
             "outlinewidth": 0,
             "ticks": ""
            },
            "colorscale": [
             [
              0,
              "#0d0887"
             ],
             [
              0.1111111111111111,
              "#46039f"
             ],
             [
              0.2222222222222222,
              "#7201a8"
             ],
             [
              0.3333333333333333,
              "#9c179e"
             ],
             [
              0.4444444444444444,
              "#bd3786"
             ],
             [
              0.5555555555555556,
              "#d8576b"
             ],
             [
              0.6666666666666666,
              "#ed7953"
             ],
             [
              0.7777777777777778,
              "#fb9f3a"
             ],
             [
              0.8888888888888888,
              "#fdca26"
             ],
             [
              1,
              "#f0f921"
             ]
            ],
            "type": "histogram2d"
           }
          ],
          "histogram2dcontour": [
           {
            "colorbar": {
             "outlinewidth": 0,
             "ticks": ""
            },
            "colorscale": [
             [
              0,
              "#0d0887"
             ],
             [
              0.1111111111111111,
              "#46039f"
             ],
             [
              0.2222222222222222,
              "#7201a8"
             ],
             [
              0.3333333333333333,
              "#9c179e"
             ],
             [
              0.4444444444444444,
              "#bd3786"
             ],
             [
              0.5555555555555556,
              "#d8576b"
             ],
             [
              0.6666666666666666,
              "#ed7953"
             ],
             [
              0.7777777777777778,
              "#fb9f3a"
             ],
             [
              0.8888888888888888,
              "#fdca26"
             ],
             [
              1,
              "#f0f921"
             ]
            ],
            "type": "histogram2dcontour"
           }
          ],
          "mesh3d": [
           {
            "colorbar": {
             "outlinewidth": 0,
             "ticks": ""
            },
            "type": "mesh3d"
           }
          ],
          "parcoords": [
           {
            "line": {
             "colorbar": {
              "outlinewidth": 0,
              "ticks": ""
             }
            },
            "type": "parcoords"
           }
          ],
          "pie": [
           {
            "automargin": true,
            "type": "pie"
           }
          ],
          "scatter": [
           {
            "marker": {
             "colorbar": {
              "outlinewidth": 0,
              "ticks": ""
             }
            },
            "type": "scatter"
           }
          ],
          "scatter3d": [
           {
            "line": {
             "colorbar": {
              "outlinewidth": 0,
              "ticks": ""
             }
            },
            "marker": {
             "colorbar": {
              "outlinewidth": 0,
              "ticks": ""
             }
            },
            "type": "scatter3d"
           }
          ],
          "scattercarpet": [
           {
            "marker": {
             "colorbar": {
              "outlinewidth": 0,
              "ticks": ""
             }
            },
            "type": "scattercarpet"
           }
          ],
          "scattergeo": [
           {
            "marker": {
             "colorbar": {
              "outlinewidth": 0,
              "ticks": ""
             }
            },
            "type": "scattergeo"
           }
          ],
          "scattergl": [
           {
            "marker": {
             "colorbar": {
              "outlinewidth": 0,
              "ticks": ""
             }
            },
            "type": "scattergl"
           }
          ],
          "scattermapbox": [
           {
            "marker": {
             "colorbar": {
              "outlinewidth": 0,
              "ticks": ""
             }
            },
            "type": "scattermapbox"
           }
          ],
          "scatterpolar": [
           {
            "marker": {
             "colorbar": {
              "outlinewidth": 0,
              "ticks": ""
             }
            },
            "type": "scatterpolar"
           }
          ],
          "scatterpolargl": [
           {
            "marker": {
             "colorbar": {
              "outlinewidth": 0,
              "ticks": ""
             }
            },
            "type": "scatterpolargl"
           }
          ],
          "scatterternary": [
           {
            "marker": {
             "colorbar": {
              "outlinewidth": 0,
              "ticks": ""
             }
            },
            "type": "scatterternary"
           }
          ],
          "surface": [
           {
            "colorbar": {
             "outlinewidth": 0,
             "ticks": ""
            },
            "colorscale": [
             [
              0,
              "#0d0887"
             ],
             [
              0.1111111111111111,
              "#46039f"
             ],
             [
              0.2222222222222222,
              "#7201a8"
             ],
             [
              0.3333333333333333,
              "#9c179e"
             ],
             [
              0.4444444444444444,
              "#bd3786"
             ],
             [
              0.5555555555555556,
              "#d8576b"
             ],
             [
              0.6666666666666666,
              "#ed7953"
             ],
             [
              0.7777777777777778,
              "#fb9f3a"
             ],
             [
              0.8888888888888888,
              "#fdca26"
             ],
             [
              1,
              "#f0f921"
             ]
            ],
            "type": "surface"
           }
          ],
          "table": [
           {
            "cells": {
             "fill": {
              "color": "#EBF0F8"
             },
             "line": {
              "color": "white"
             }
            },
            "header": {
             "fill": {
              "color": "#C8D4E3"
             },
             "line": {
              "color": "white"
             }
            },
            "type": "table"
           }
          ]
         },
         "layout": {
          "annotationdefaults": {
           "arrowcolor": "#2a3f5f",
           "arrowhead": 0,
           "arrowwidth": 1
          },
          "autotypenumbers": "strict",
          "coloraxis": {
           "colorbar": {
            "outlinewidth": 0,
            "ticks": ""
           }
          },
          "colorscale": {
           "diverging": [
            [
             0,
             "#8e0152"
            ],
            [
             0.1,
             "#c51b7d"
            ],
            [
             0.2,
             "#de77ae"
            ],
            [
             0.3,
             "#f1b6da"
            ],
            [
             0.4,
             "#fde0ef"
            ],
            [
             0.5,
             "#f7f7f7"
            ],
            [
             0.6,
             "#e6f5d0"
            ],
            [
             0.7,
             "#b8e186"
            ],
            [
             0.8,
             "#7fbc41"
            ],
            [
             0.9,
             "#4d9221"
            ],
            [
             1,
             "#276419"
            ]
           ],
           "sequential": [
            [
             0,
             "#0d0887"
            ],
            [
             0.1111111111111111,
             "#46039f"
            ],
            [
             0.2222222222222222,
             "#7201a8"
            ],
            [
             0.3333333333333333,
             "#9c179e"
            ],
            [
             0.4444444444444444,
             "#bd3786"
            ],
            [
             0.5555555555555556,
             "#d8576b"
            ],
            [
             0.6666666666666666,
             "#ed7953"
            ],
            [
             0.7777777777777778,
             "#fb9f3a"
            ],
            [
             0.8888888888888888,
             "#fdca26"
            ],
            [
             1,
             "#f0f921"
            ]
           ],
           "sequentialminus": [
            [
             0,
             "#0d0887"
            ],
            [
             0.1111111111111111,
             "#46039f"
            ],
            [
             0.2222222222222222,
             "#7201a8"
            ],
            [
             0.3333333333333333,
             "#9c179e"
            ],
            [
             0.4444444444444444,
             "#bd3786"
            ],
            [
             0.5555555555555556,
             "#d8576b"
            ],
            [
             0.6666666666666666,
             "#ed7953"
            ],
            [
             0.7777777777777778,
             "#fb9f3a"
            ],
            [
             0.8888888888888888,
             "#fdca26"
            ],
            [
             1,
             "#f0f921"
            ]
           ]
          },
          "colorway": [
           "#636efa",
           "#EF553B",
           "#00cc96",
           "#ab63fa",
           "#FFA15A",
           "#19d3f3",
           "#FF6692",
           "#B6E880",
           "#FF97FF",
           "#FECB52"
          ],
          "font": {
           "color": "#2a3f5f"
          },
          "geo": {
           "bgcolor": "white",
           "lakecolor": "white",
           "landcolor": "#E5ECF6",
           "showlakes": true,
           "showland": true,
           "subunitcolor": "white"
          },
          "hoverlabel": {
           "align": "left"
          },
          "hovermode": "closest",
          "mapbox": {
           "style": "light"
          },
          "paper_bgcolor": "white",
          "plot_bgcolor": "#E5ECF6",
          "polar": {
           "angularaxis": {
            "gridcolor": "white",
            "linecolor": "white",
            "ticks": ""
           },
           "bgcolor": "#E5ECF6",
           "radialaxis": {
            "gridcolor": "white",
            "linecolor": "white",
            "ticks": ""
           }
          },
          "scene": {
           "xaxis": {
            "backgroundcolor": "#E5ECF6",
            "gridcolor": "white",
            "gridwidth": 2,
            "linecolor": "white",
            "showbackground": true,
            "ticks": "",
            "zerolinecolor": "white"
           },
           "yaxis": {
            "backgroundcolor": "#E5ECF6",
            "gridcolor": "white",
            "gridwidth": 2,
            "linecolor": "white",
            "showbackground": true,
            "ticks": "",
            "zerolinecolor": "white"
           },
           "zaxis": {
            "backgroundcolor": "#E5ECF6",
            "gridcolor": "white",
            "gridwidth": 2,
            "linecolor": "white",
            "showbackground": true,
            "ticks": "",
            "zerolinecolor": "white"
           }
          },
          "shapedefaults": {
           "line": {
            "color": "#2a3f5f"
           }
          },
          "ternary": {
           "aaxis": {
            "gridcolor": "white",
            "linecolor": "white",
            "ticks": ""
           },
           "baxis": {
            "gridcolor": "white",
            "linecolor": "white",
            "ticks": ""
           },
           "bgcolor": "#E5ECF6",
           "caxis": {
            "gridcolor": "white",
            "linecolor": "white",
            "ticks": ""
           }
          },
          "title": {
           "x": 0.05
          },
          "xaxis": {
           "automargin": true,
           "gridcolor": "white",
           "linecolor": "white",
           "ticks": "",
           "title": {
            "standoff": 15
           },
           "zerolinecolor": "white",
           "zerolinewidth": 2
          },
          "yaxis": {
           "automargin": true,
           "gridcolor": "white",
           "linecolor": "white",
           "ticks": "",
           "title": {
            "standoff": 15
           },
           "zerolinecolor": "white",
           "zerolinewidth": 2
          }
         }
        },
        "title": {
         "text": "Cluster para -7.0 (kcal/mol) com o Luteoin na PLPro de SARS-CoV-2"
        }
       }
      },
      "text/html": [
       "<div>                            <div id=\"6db12190-8bb7-4a4d-a817-d7591ad25af2\" class=\"plotly-graph-div\" style=\"height:525px; width:100%;\"></div>            <script type=\"text/javascript\">                require([\"plotly\"], function(Plotly) {                    window.PLOTLYENV=window.PLOTLYENV || {};                                    if (document.getElementById(\"6db12190-8bb7-4a4d-a817-d7591ad25af2\")) {                    Plotly.newPlot(                        \"6db12190-8bb7-4a4d-a817-d7591ad25af2\",                        [{\"hovertemplate\": \"x=%{x}<br>y=%{y}<br>z=%{z}<br>size=%{marker.size}<br>Name=%{text}<br>Cluster=%{marker.color}<extra></extra>\", \"legendgroup\": \"\", \"marker\": {\"color\": [0, 0, 0, 0, 0, 1, -1, 0, 0, 0, 0, 0, 0, 0, 0, 0, 0, 1, 0, 0, 0, 0, 0, 0, 0, 0, 0, 0, 0, 0, 0, 0, 0, 0, 0, 0, 0, 0, 0, 1, 1, 0, 0, 2, 2, 0, 0, 0, 0, 2, 0, 0, 0, 1, 0, 0, 0, 0, 2, 0, 0, 2, 0, 2, 0, 0, 0, 0, 0, -1, 0, 0, 0, 0, 0, 0, 0, 0, 0, 0, 0, 0, 0, 0, 0, 0, 0, -1, 0, 0, 0, 0, 2, 0, 0, 0, 0, 2, -1, 0, 0, 0, 0, 0, 0, 2, 0, 0, 0, 0, 0, 0, 0, 0, 0, 0, 0, 0, 0, 0, 0, 0, 0, 0, 0, 0, 0, 0, 0, 0, 0, 0, -1, 0, 0, 0, 0, 0, 0, 0, 0, 0, 0, 0, 0, 0, 0, 0, 0, 0, 0, 0, 0], \"coloraxis\": \"coloraxis\", \"size\": [5.419842379272479e+18, 4.1333789995479506e+18, 1.7941804260607158e+18, 1.3482799073658683e+18, 1.0092120446565083e+18, 7.523593509237901e+17, 7.523593509237901e+17, 7.523593509237901e+17, 5.5854586408328403e+17, 1.197251518256201e+19, 5.419842379272479e+18, 3.1411265807315845e+18, 1.7941804260607158e+18, 1.3482799073658683e+18, 1.3482799073658683e+18, 1.3482799073658683e+18, 1.0092120446565083e+18, 7.523593509237901e+17, 7.082211906170651e+18, 3.1411265807315845e+18, 2.378408954200495e+18, 1.7941804260607158e+18, 1.7941804260607158e+18, 1.7941804260607158e+18, 1.7941804260607158e+18, 1.3482799073658683e+18, 1.3482799073658683e+18, 9.223372036854776e+18, 9.223372036854776e+18, 9.223372036854776e+18, 4.1333789995479506e+18, 3.1411265807315845e+18, 2.378408954200495e+18, 2.378408954200495e+18, 1.3482799073658683e+18, 1.0092120446565083e+18, 1.197251518256201e+19, 5.419842379272479e+18, 4.1333789995479506e+18, 4.1333789995479506e+18, 2.378408954200495e+18, 2.378408954200495e+18, 1.7941804260607158e+18, 1.7941804260607158e+18, 1.3482799073658683e+18, 2.378408954200495e+18, 1.7941804260607158e+18, 1.3482799073658683e+18, 7.523593509237901e+17, 7.523593509237901e+17, 7.523593509237901e+17, 7.523593509237901e+17, 5.5854586408328403e+17, 5.5854586408328403e+17, 1.7941804260607158e+18, 1.0092120446565083e+18, 1.7941804260607158e+18, 1.7941804260607158e+18, 1.0092120446565083e+18, 7.523593509237901e+17, 5.5854586408328403e+17, 5.5854586408328403e+17, 7.523593509237901e+17, 5.5854586408328403e+17, 1.197251518256201e+19, 7.082211906170651e+18, 7.082211906170651e+18, 5.419842379272479e+18, 3.1411265807315845e+18, 3.1411265807315845e+18, 2.378408954200495e+18, 2.378408954200495e+18, 2.378408954200495e+18, 4.243223365242311e+20, 1.3799687087565988e+20, 1.0941898913151237e+20, 1.0941898913151237e+20, 8.653466954338574e+19, 6.825525840160694e+19, 6.825525840160694e+19, 5.3691347665120666e+19, 4.2117974383768306e+19, 4.243223365242311e+20, 8.653466954338574e+19, 8.653466954338574e+19, 8.653466954338574e+19, 6.825525840160694e+19, 6.825525840160694e+19, 6.825525840160694e+19, 5.3691347665120666e+19, 4.2117974383768306e+19, 1.549140828086756e+19, 1.197251518256201e+19, 9.223372036854776e+18, 9.223372036854776e+18, 9.223372036854776e+18, 7.082211906170651e+18, 5.419842379272479e+18, 5.419842379272479e+18, 5.419842379272479e+18, 7.523593509237901e+17, 7.523593509237901e+17, 7.523593509237901e+17, 7.523593509237901e+17, 5.5854586408328403e+17, 5.5854586408328403e+17, 2.5695969452034015e+19, 2.5695969452034015e+19, 2.5695969452034015e+19, 1.549140828086756e+19, 1.197251518256201e+19, 9.223372036854776e+18, 9.223372036854776e+18, 5.419842379272479e+18, 5.419842379272479e+18, 4.1333789995479506e+18, 4.1333789995479506e+18, 1.3482799073658683e+18, 1.0092120446565083e+18, 7.523593509237901e+17, 5.5854586408328403e+17, 9.223372036854776e+18, 4.1333789995479506e+18, 4.1333789995479506e+18, 2.378408954200495e+18, 1.7941804260607158e+18, 1.7941804260607158e+18, 1.0092120446565083e+18, 7.523593509237901e+17, 7.523593509237901e+17, 5.5854586408328403e+17, 5.5854586408328403e+17, 5.5854586408328403e+17, 9.223372036854776e+18, 7.082211906170651e+18, 1.0092120446565083e+18, 5.419842379272479e+18, 5.5854586408328403e+17, 1.549140828086756e+19, 1.197251518256201e+19, 1.3482799073658683e+18, 1.0092120446565083e+18, 5.5854586408328403e+17, 1.549140828086756e+19, 9.223372036854776e+18, 1.3482799073658683e+18, 1.3482799073658683e+18, 1.0092120446565083e+18, 5.5854586408328403e+17, 1.3482799073658683e+18, 7.523593509237901e+17, 5.5854586408328403e+17, 5.5854586408328403e+17], \"sizemode\": \"area\", \"sizeref\": 1.0608058413105778e+18, \"symbol\": \"circle\"}, \"mode\": \"markers+text\", \"name\": \"\", \"scene\": \"scene\", \"showlegend\": false, \"text\": [\"CN093\", \"CN093\", \"CN093\", \"CN093\", \"CN093\", \"CN093\", \"CN093\", \"CN093\", \"CN093\", \"CN099\", \"CN099\", \"CN099\", \"CN099\", \"CN099\", \"CN099\", \"CN099\", \"CN099\", \"CN099\", \"CN100\", \"CN100\", \"CN100\", \"CN100\", \"CN100\", \"CN100\", \"CN100\", \"CN100\", \"CN100\", \"CN126\", \"CN126\", \"CN126\", \"CN126\", \"CN126\", \"CN126\", \"CN126\", \"CN126\", \"CN126\", \"CN275\", \"CN275\", \"CN275\", \"CN275\", \"CN275\", \"CN275\", \"CN275\", \"CN275\", \"CN275\", \"CN278\", \"CN278\", \"CN278\", \"CN278\", \"CN278\", \"CN278\", \"CN278\", \"CN278\", \"CN278\", \"CN281\", \"CN281\", \"CN283\", \"CN283\", \"CN283\", \"CN283\", \"CN283\", \"CN283\", \"CN284\", \"CN285\", \"CN286\", \"CN286\", \"CN286\", \"CN286\", \"CN286\", \"CN286\", \"CN286\", \"CN286\", \"CN286\", \"CN288\", \"CN288\", \"CN288\", \"CN288\", \"CN288\", \"CN288\", \"CN288\", \"CN288\", \"CN288\", \"CN289\", \"CN289\", \"CN289\", \"CN289\", \"CN289\", \"CN289\", \"CN289\", \"CN289\", \"CN289\", \"CN290\", \"CN290\", \"CN290\", \"CN290\", \"CN290\", \"CN290\", \"CN290\", \"CN290\", \"CN290\", \"CN292\", \"CN292\", \"CN292\", \"CN292\", \"CN292\", \"CN292\", \"CN334\", \"CN334\", \"CN334\", \"CN334\", \"CN334\", \"CN334\", \"CN334\", \"CN334\", \"CN334\", \"CN335\", \"CN335\", \"CN335\", \"CN335\", \"CN335\", \"CN335\", \"CN336\", \"CN336\", \"CN336\", \"CN336\", \"CN336\", \"CN336\", \"CN336\", \"CN338\", \"CN338\", \"CN338\", \"CN338\", \"CN338\", \"CN342\", \"CN342\", \"CN342\", \"CN343\", \"CN343\", \"CN344\", \"CN344\", \"CN344\", \"CN344\", \"CN344\", \"CN345\", \"CN345\", \"CN345\", \"CN346\", \"CN346\", \"CN346\", \"CN395\", \"CN395\", \"CN395\", \"CN395\"], \"type\": \"scatter3d\", \"x\": [0.0, 0.0, 0.0, 0.0, 0.0, 0.0, 0.0, 0.0, 0.0, 0.0, 0.0, 0.0, 0.0, 0.0, 0.0, 0.0, 0.0, 0.0, 0.0, 0.0, 0.0, 0.0, 0.0, 0.0, 0.0, 0.0, 0.0, 0.0, 0.0, 0.0, 0.0, 0.0, 0.0, 0.0, 0.0, 0.0, 0.0, 0.0, 0.0, 0.0, 0.0, 0.0, 0.0, 0.0, 0.0, 0.0, 0.0, 0.0, 0.0, 0.0, 0.0, 0.0, 0.0, 0.0, 0.0, 0.0, 0.0, 0.0, 0.0, 0.0, 0.0, 0.0, 0.0, 0.0, 0.0, 0.0, 0.0, 0.0, 0.0, 0.0, 0.0, 0.0, 0.0, 0.0, 0.0, 0.0, 0.0, 0.0, 0.0, 0.0, 0.0, 0.0, 0.0, 0.0, 0.0, 0.0, 0.0, 0.0, 0.0, 0.0, 0.0, 0.0, 0.0, 0.0, 0.0, 0.0, 0.0, 0.0, 0.0, 0.0, 0.0, 0.0, 0.0, 0.0, 0.0, 0.0, 0.0, 0.0, 0.0, 0.0, 0.0, 0.0, 0.0, 0.0, 0.0, 0.0, 0.0, 0.0, 0.0, 0.0, 0.0, 0.0, 0.0, 0.0, 0.0, 0.0, 0.0, 0.0, 0.0, 0.0, 0.0, 0.0, 0.0, 0.0, 0.0, 0.0, 0.0, 0.0, 0.0, 0.0, 0.0, 0.0, 0.0, 0.0, 0.0, 0.0, 0.0, 0.0, 0.0, 0.0, 0.0, 0.0, 0.0], \"y\": [-60.75118745393513, -60.05217314599635, -60.21547423481451, -61.158870921840794, -59.538597795248904, -67.72220061986043, -63.77007023946023, -61.22655862914219, -61.88798411923996, -60.57494000771868, -60.68928645849326, -61.304439935105314, -61.00958650848745, -61.46972460703987, -61.11353677938163, -61.31374100876196, -60.90198862610622, -68.36343990917459, -62.86189789808475, -60.75217495286459, -62.69552566936948, -61.196261255397964, -61.32174906787396, -60.895689026999335, -61.04937819759732, -61.4358825743977, -62.871056223844285, -61.37746948061531, -60.945224392632156, -61.38932445074329, -61.238462152540755, -61.157075810453456, -62.58502025835166, -63.140936052448595, -61.3545692613022, -61.27617050739009, -63.0747459518479, -63.09550021292299, -63.327606398291714, -70.24154925512283, -70.54614321850939, -63.489107019201604, -63.559018453351186, -48.31739698378559, -46.727766425654536, -63.0140343755948, -63.200027649246735, -62.901220551652614, -63.26817904527513, -46.75011802165369, -63.25797098634029, -62.7023431946856, -63.57580716659059, -70.72862705898417, -61.428233712937626, -61.89645335783423, -62.043886588856346, -62.05147587735457, -49.64030979337443, -62.70445468644807, -62.711569727283376, -49.655111733560524, -59.37985873510166, -49.7848514713609, -60.28846342567355, -62.50263298534182, -62.67584754437707, -60.673802201076654, -60.996689492631596, -63.37150265541684, -62.113037072468586, -62.089209276981215, -63.330014854256625, -63.60412212933175, -60.30145574594113, -65.15267969912556, -63.50624438822011, -64.45172081623664, -64.95177670657633, -65.5707428343778, -64.99478336218452, -65.91221619198205, -63.31735055751747, -63.43452993598127, -65.25852681580234, -60.38057092121936, -65.09619800483695, -42.351118666359135, -64.78658354116956, -65.39916696304155, -64.76476951982782, -62.00665480890412, -49.397654775838696, -61.98667529618951, -61.9465482703732, -62.170683922611616, -61.16239819311625, -49.50068016212949, -63.10976298462083, -63.15752325007695, -63.01335014414529, -63.94459195768303, -62.97392069102371, -63.960590151810244, -63.12696436992394, -49.77610532098474, -61.029262172053755, -61.77753195654853, -60.56519031037682, -62.47902265951993, -62.21689087493429, -62.94674458965757, -62.61385460698362, -62.527543212656475, -62.30758057143599, -62.6301457621013, -62.56150573061158, -62.16088350477428, -64.02070644348836, -61.6546337794381, -63.832153624080924, -60.484239551699396, -59.91702395790995, -60.8476380277742, -59.56990354622792, -61.263281884342526, -59.830939527919945, -60.39369362477795, -61.97727406295221, -60.941543189936795, -59.76712972504487, -60.467830972681185, -64.27547353620488, -59.55447505114777, -59.51515982124604, -59.56866994675619, -59.91838322243058, -59.76313232119952, -59.69414214694723, -59.66613708639593, -59.8418181568948, -60.14876595968577, -60.455148918659006, -59.733784224749506, -59.65604081004755, -59.62740044860427, -59.97938267103758, -60.41666589485104, -60.30916341007479, -60.938769304944934, -59.83252348177193, -60.71057606368141, -60.88669395207643], \"z\": [54.117132125448514, 53.343287814023704, 52.74629120646537, 53.76410237397174, 53.07532147231076, 42.0223038994316, 72.04853761865918, 53.192714670898546, 53.60987438558194, 53.414850752615116, 53.805074492488735, 53.49523863903513, 52.78964340749768, 53.83582920847344, 53.51776695686241, 52.799409267281895, 52.7588444765736, 42.243425971565756, 52.77950256615447, 50.00912946297451, 52.517956587943324, 50.649120407954115, 51.21468229766469, 50.620798383774165, 50.50573505593589, 50.62093825600328, 52.22929788738166, 53.869024175636746, 53.478731980020534, 53.124774990596784, 52.65790566439512, 53.027265325506974, 53.01757727872972, 53.31917361081088, 52.70267935991297, 52.34846438806406, 50.2265091497157, 50.258440149670264, 49.8039221831396, 42.42269852151155, 41.52544248590911, 49.8456025609156, 50.122040319637826, 31.053786504043916, 32.453970958429416, 50.386040500648704, 49.99351616467796, 51.71810716312807, 50.36002987698443, 32.90720980920118, 49.73919265517008, 51.68788214202511, 49.43433433555537, 42.445262505072755, 54.12178553706663, 54.000080907972695, 53.615219298002614, 53.63535337190594, 32.925771051679995, 53.99730781113808, 54.008534044510405, 32.29856443330397, 54.76059359627944, 32.771851226685094, 52.15670304166269, 53.667369963503766, 54.0435701599313, 51.88559761218135, 51.46624176106343, 71.59913939120491, 53.423091679254796, 53.68050911373071, 53.433399630737505, 53.408756083099064, 49.99768847552658, 53.180428318364086, 53.442669371177395, 53.693756805928714, 53.60620783588089, 53.33904036485085, 53.58785090850512, 53.16227961761895, 53.519689864427654, 53.35882955041355, 53.40954222921508, 49.8464714254118, 53.71739676413705, 53.66186892753911, 53.62668951622923, 53.218867431821, 53.690123065890674, 54.0632444825613, 33.247576376234896, 54.05724493881554, 53.85885061366438, 53.67895310874783, 53.17913514849833, 33.08725525194032, 69.97848066943608, 53.45099903886828, 53.55715971587801, 53.628140134439825, 53.5256323772837, 53.62430993945577, 53.80185748316406, 32.586547732318095, 53.614608373620236, 52.945269663147364, 52.46291580566245, 52.8265138141373, 52.84808543376831, 52.356152043762926, 52.79498977242493, 53.18257646249586, 52.130693856057306, 53.32955814187234, 53.31825956326853, 53.11287171006189, 52.84940649083921, 52.87884710854957, 53.16658565996296, 54.262894344485495, 53.70611994575857, 54.69634854612717, 53.92103696797039, 54.230377056661304, 53.602667092862106, 54.23673663492686, 53.874398436503434, 54.27969242299815, 53.958999403793996, 53.557430238103656, 37.6361331808898, 54.497765573657446, 54.35845007587763, 54.43960654997261, 54.56914916127192, 54.16942535572042, 54.2585309395323, 54.174736643696754, 54.42736491865578, 53.96920922853735, 54.125414471348606, 54.289641768467014, 54.309132396653304, 54.3923735970013, 54.7199295095141, 54.42548001807256, 54.860663445202434, 53.94601613273452, 53.914743175645555, 54.15913915337049, 53.93136190797932]}],                        {\"coloraxis\": {\"colorbar\": {\"title\": {\"text\": \"Cluster\"}}, \"colorscale\": [[0.0, \"#0d0887\"], [0.1111111111111111, \"#46039f\"], [0.2222222222222222, \"#7201a8\"], [0.3333333333333333, \"#9c179e\"], [0.4444444444444444, \"#bd3786\"], [0.5555555555555556, \"#d8576b\"], [0.6666666666666666, \"#ed7953\"], [0.7777777777777778, \"#fb9f3a\"], [0.8888888888888888, \"#fdca26\"], [1.0, \"#f0f921\"]]}, \"legend\": {\"itemsizing\": \"constant\", \"tracegroupgap\": 0}, \"scene\": {\"domain\": {\"x\": [0.0, 1.0], \"y\": [0.0, 1.0]}, \"xaxis\": {\"title\": {\"text\": \"x\"}}, \"yaxis\": {\"title\": {\"text\": \"y\"}}, \"zaxis\": {\"title\": {\"text\": \"z\"}}}, \"template\": {\"data\": {\"bar\": [{\"error_x\": {\"color\": \"#2a3f5f\"}, \"error_y\": {\"color\": \"#2a3f5f\"}, \"marker\": {\"line\": {\"color\": \"#E5ECF6\", \"width\": 0.5}}, \"type\": \"bar\"}], \"barpolar\": [{\"marker\": {\"line\": {\"color\": \"#E5ECF6\", \"width\": 0.5}}, \"type\": \"barpolar\"}], \"carpet\": [{\"aaxis\": {\"endlinecolor\": \"#2a3f5f\", \"gridcolor\": \"white\", \"linecolor\": \"white\", \"minorgridcolor\": \"white\", \"startlinecolor\": \"#2a3f5f\"}, \"baxis\": {\"endlinecolor\": \"#2a3f5f\", \"gridcolor\": \"white\", \"linecolor\": \"white\", \"minorgridcolor\": \"white\", \"startlinecolor\": \"#2a3f5f\"}, \"type\": \"carpet\"}], \"choropleth\": [{\"colorbar\": {\"outlinewidth\": 0, \"ticks\": \"\"}, \"type\": \"choropleth\"}], \"contour\": [{\"colorbar\": {\"outlinewidth\": 0, \"ticks\": \"\"}, \"colorscale\": [[0.0, \"#0d0887\"], [0.1111111111111111, \"#46039f\"], [0.2222222222222222, \"#7201a8\"], [0.3333333333333333, \"#9c179e\"], [0.4444444444444444, \"#bd3786\"], [0.5555555555555556, \"#d8576b\"], [0.6666666666666666, \"#ed7953\"], [0.7777777777777778, \"#fb9f3a\"], [0.8888888888888888, \"#fdca26\"], [1.0, \"#f0f921\"]], \"type\": \"contour\"}], \"contourcarpet\": [{\"colorbar\": {\"outlinewidth\": 0, \"ticks\": \"\"}, \"type\": \"contourcarpet\"}], \"heatmap\": [{\"colorbar\": {\"outlinewidth\": 0, \"ticks\": \"\"}, \"colorscale\": [[0.0, \"#0d0887\"], [0.1111111111111111, \"#46039f\"], [0.2222222222222222, \"#7201a8\"], [0.3333333333333333, \"#9c179e\"], [0.4444444444444444, \"#bd3786\"], [0.5555555555555556, \"#d8576b\"], [0.6666666666666666, \"#ed7953\"], [0.7777777777777778, \"#fb9f3a\"], [0.8888888888888888, \"#fdca26\"], [1.0, \"#f0f921\"]], \"type\": \"heatmap\"}], \"heatmapgl\": [{\"colorbar\": {\"outlinewidth\": 0, \"ticks\": \"\"}, \"colorscale\": [[0.0, \"#0d0887\"], [0.1111111111111111, \"#46039f\"], [0.2222222222222222, \"#7201a8\"], [0.3333333333333333, \"#9c179e\"], [0.4444444444444444, \"#bd3786\"], [0.5555555555555556, \"#d8576b\"], [0.6666666666666666, \"#ed7953\"], [0.7777777777777778, \"#fb9f3a\"], [0.8888888888888888, \"#fdca26\"], [1.0, \"#f0f921\"]], \"type\": \"heatmapgl\"}], \"histogram\": [{\"marker\": {\"colorbar\": {\"outlinewidth\": 0, \"ticks\": \"\"}}, \"type\": \"histogram\"}], \"histogram2d\": [{\"colorbar\": {\"outlinewidth\": 0, \"ticks\": \"\"}, \"colorscale\": [[0.0, \"#0d0887\"], [0.1111111111111111, \"#46039f\"], [0.2222222222222222, \"#7201a8\"], [0.3333333333333333, \"#9c179e\"], [0.4444444444444444, \"#bd3786\"], [0.5555555555555556, \"#d8576b\"], [0.6666666666666666, \"#ed7953\"], [0.7777777777777778, \"#fb9f3a\"], [0.8888888888888888, \"#fdca26\"], [1.0, \"#f0f921\"]], \"type\": \"histogram2d\"}], \"histogram2dcontour\": [{\"colorbar\": {\"outlinewidth\": 0, \"ticks\": \"\"}, \"colorscale\": [[0.0, \"#0d0887\"], [0.1111111111111111, \"#46039f\"], [0.2222222222222222, \"#7201a8\"], [0.3333333333333333, \"#9c179e\"], [0.4444444444444444, \"#bd3786\"], [0.5555555555555556, \"#d8576b\"], [0.6666666666666666, \"#ed7953\"], [0.7777777777777778, \"#fb9f3a\"], [0.8888888888888888, \"#fdca26\"], [1.0, \"#f0f921\"]], \"type\": \"histogram2dcontour\"}], \"mesh3d\": [{\"colorbar\": {\"outlinewidth\": 0, \"ticks\": \"\"}, \"type\": \"mesh3d\"}], \"parcoords\": [{\"line\": {\"colorbar\": {\"outlinewidth\": 0, \"ticks\": \"\"}}, \"type\": \"parcoords\"}], \"pie\": [{\"automargin\": true, \"type\": \"pie\"}], \"scatter\": [{\"marker\": {\"colorbar\": {\"outlinewidth\": 0, \"ticks\": \"\"}}, \"type\": \"scatter\"}], \"scatter3d\": [{\"line\": {\"colorbar\": {\"outlinewidth\": 0, \"ticks\": \"\"}}, \"marker\": {\"colorbar\": {\"outlinewidth\": 0, \"ticks\": \"\"}}, \"type\": \"scatter3d\"}], \"scattercarpet\": [{\"marker\": {\"colorbar\": {\"outlinewidth\": 0, \"ticks\": \"\"}}, \"type\": \"scattercarpet\"}], \"scattergeo\": [{\"marker\": {\"colorbar\": {\"outlinewidth\": 0, \"ticks\": \"\"}}, \"type\": \"scattergeo\"}], \"scattergl\": [{\"marker\": {\"colorbar\": {\"outlinewidth\": 0, \"ticks\": \"\"}}, \"type\": \"scattergl\"}], \"scattermapbox\": [{\"marker\": {\"colorbar\": {\"outlinewidth\": 0, \"ticks\": \"\"}}, \"type\": \"scattermapbox\"}], \"scatterpolar\": [{\"marker\": {\"colorbar\": {\"outlinewidth\": 0, \"ticks\": \"\"}}, \"type\": \"scatterpolar\"}], \"scatterpolargl\": [{\"marker\": {\"colorbar\": {\"outlinewidth\": 0, \"ticks\": \"\"}}, \"type\": \"scatterpolargl\"}], \"scatterternary\": [{\"marker\": {\"colorbar\": {\"outlinewidth\": 0, \"ticks\": \"\"}}, \"type\": \"scatterternary\"}], \"surface\": [{\"colorbar\": {\"outlinewidth\": 0, \"ticks\": \"\"}, \"colorscale\": [[0.0, \"#0d0887\"], [0.1111111111111111, \"#46039f\"], [0.2222222222222222, \"#7201a8\"], [0.3333333333333333, \"#9c179e\"], [0.4444444444444444, \"#bd3786\"], [0.5555555555555556, \"#d8576b\"], [0.6666666666666666, \"#ed7953\"], [0.7777777777777778, \"#fb9f3a\"], [0.8888888888888888, \"#fdca26\"], [1.0, \"#f0f921\"]], \"type\": \"surface\"}], \"table\": [{\"cells\": {\"fill\": {\"color\": \"#EBF0F8\"}, \"line\": {\"color\": \"white\"}}, \"header\": {\"fill\": {\"color\": \"#C8D4E3\"}, \"line\": {\"color\": \"white\"}}, \"type\": \"table\"}]}, \"layout\": {\"annotationdefaults\": {\"arrowcolor\": \"#2a3f5f\", \"arrowhead\": 0, \"arrowwidth\": 1}, \"autotypenumbers\": \"strict\", \"coloraxis\": {\"colorbar\": {\"outlinewidth\": 0, \"ticks\": \"\"}}, \"colorscale\": {\"diverging\": [[0, \"#8e0152\"], [0.1, \"#c51b7d\"], [0.2, \"#de77ae\"], [0.3, \"#f1b6da\"], [0.4, \"#fde0ef\"], [0.5, \"#f7f7f7\"], [0.6, \"#e6f5d0\"], [0.7, \"#b8e186\"], [0.8, \"#7fbc41\"], [0.9, \"#4d9221\"], [1, \"#276419\"]], \"sequential\": [[0.0, \"#0d0887\"], [0.1111111111111111, \"#46039f\"], [0.2222222222222222, \"#7201a8\"], [0.3333333333333333, \"#9c179e\"], [0.4444444444444444, \"#bd3786\"], [0.5555555555555556, \"#d8576b\"], [0.6666666666666666, \"#ed7953\"], [0.7777777777777778, \"#fb9f3a\"], [0.8888888888888888, \"#fdca26\"], [1.0, \"#f0f921\"]], \"sequentialminus\": [[0.0, \"#0d0887\"], [0.1111111111111111, \"#46039f\"], [0.2222222222222222, \"#7201a8\"], [0.3333333333333333, \"#9c179e\"], [0.4444444444444444, \"#bd3786\"], [0.5555555555555556, \"#d8576b\"], [0.6666666666666666, \"#ed7953\"], [0.7777777777777778, \"#fb9f3a\"], [0.8888888888888888, \"#fdca26\"], [1.0, \"#f0f921\"]]}, \"colorway\": [\"#636efa\", \"#EF553B\", \"#00cc96\", \"#ab63fa\", \"#FFA15A\", \"#19d3f3\", \"#FF6692\", \"#B6E880\", \"#FF97FF\", \"#FECB52\"], \"font\": {\"color\": \"#2a3f5f\"}, \"geo\": {\"bgcolor\": \"white\", \"lakecolor\": \"white\", \"landcolor\": \"#E5ECF6\", \"showlakes\": true, \"showland\": true, \"subunitcolor\": \"white\"}, \"hoverlabel\": {\"align\": \"left\"}, \"hovermode\": \"closest\", \"mapbox\": {\"style\": \"light\"}, \"paper_bgcolor\": \"white\", \"plot_bgcolor\": \"#E5ECF6\", \"polar\": {\"angularaxis\": {\"gridcolor\": \"white\", \"linecolor\": \"white\", \"ticks\": \"\"}, \"bgcolor\": \"#E5ECF6\", \"radialaxis\": {\"gridcolor\": \"white\", \"linecolor\": \"white\", \"ticks\": \"\"}}, \"scene\": {\"xaxis\": {\"backgroundcolor\": \"#E5ECF6\", \"gridcolor\": \"white\", \"gridwidth\": 2, \"linecolor\": \"white\", \"showbackground\": true, \"ticks\": \"\", \"zerolinecolor\": \"white\"}, \"yaxis\": {\"backgroundcolor\": \"#E5ECF6\", \"gridcolor\": \"white\", \"gridwidth\": 2, \"linecolor\": \"white\", \"showbackground\": true, \"ticks\": \"\", \"zerolinecolor\": \"white\"}, \"zaxis\": {\"backgroundcolor\": \"#E5ECF6\", \"gridcolor\": \"white\", \"gridwidth\": 2, \"linecolor\": \"white\", \"showbackground\": true, \"ticks\": \"\", \"zerolinecolor\": \"white\"}}, \"shapedefaults\": {\"line\": {\"color\": \"#2a3f5f\"}}, \"ternary\": {\"aaxis\": {\"gridcolor\": \"white\", \"linecolor\": \"white\", \"ticks\": \"\"}, \"baxis\": {\"gridcolor\": \"white\", \"linecolor\": \"white\", \"ticks\": \"\"}, \"bgcolor\": \"#E5ECF6\", \"caxis\": {\"gridcolor\": \"white\", \"linecolor\": \"white\", \"ticks\": \"\"}}, \"title\": {\"x\": 0.05}, \"xaxis\": {\"automargin\": true, \"gridcolor\": \"white\", \"linecolor\": \"white\", \"ticks\": \"\", \"title\": {\"standoff\": 15}, \"zerolinecolor\": \"white\", \"zerolinewidth\": 2}, \"yaxis\": {\"automargin\": true, \"gridcolor\": \"white\", \"linecolor\": \"white\", \"ticks\": \"\", \"title\": {\"standoff\": 15}, \"zerolinecolor\": \"white\", \"zerolinewidth\": 2}}}, \"title\": {\"text\": \"Cluster para -7.0 (kcal/mol) com o Luteoin na PLPro de SARS-CoV-2\"}},                        {\"responsive\": true}                    ).then(function(){\n",
       "                            \n",
       "var gd = document.getElementById('6db12190-8bb7-4a4d-a817-d7591ad25af2');\n",
       "var x = new MutationObserver(function (mutations, observer) {{\n",
       "        var display = window.getComputedStyle(gd).display;\n",
       "        if (!display || display === 'none') {{\n",
       "            console.log([gd, 'removed!']);\n",
       "            Plotly.purge(gd);\n",
       "            observer.disconnect();\n",
       "        }}\n",
       "}});\n",
       "\n",
       "// Listen for the removal of the full notebook cells\n",
       "var notebookContainer = gd.closest('#notebook-container');\n",
       "if (notebookContainer) {{\n",
       "    x.observe(notebookContainer, {childList: true});\n",
       "}}\n",
       "\n",
       "// Listen for the clearing of the current output cell\n",
       "var outputEl = gd.closest('.output');\n",
       "if (outputEl) {{\n",
       "    x.observe(outputEl, {childList: true});\n",
       "}}\n",
       "\n",
       "                        })                };                });            </script>        </div>"
      ]
     },
     "metadata": {},
     "output_type": "display_data"
    },
    {
     "name": "stdout",
     "output_type": "stream",
     "text": [
      "\n",
      "\n",
      "Para energia de -7.0 kcal/mol\n",
      "              mean  median       std  Ocupação %\n",
      "Cluster                                        \n",
      "-1      -7.660000    -7.6  0.719722    3.268476\n",
      " 0      -7.695522    -7.5  0.601610   88.001365\n",
      " 1      -7.280000    -7.1  0.303315    3.106332\n",
      " 2      -7.322222    -7.2  0.389801    5.623827\n"
     ]
    },
    {
     "data": {
      "image/png": "[encoded data removed]",
      "text/plain": [
       "<Figure size 432x288 with 1 Axes>"
      ]
     },
     "metadata": {
      "needs_background": "light"
     },
     "output_type": "display_data"
    },
    {
     "data": {
      "image/png": "[encoded data removed]",
      "text/plain": [
       "<Figure size 432x288 with 1 Axes>"
      ]
     },
     "metadata": {
      "needs_background": "light"
     },
     "output_type": "display_data"
    },
    {
     "data": {
      "application/vnd.plotly.v1+json": {
       "config": {
        "plotlyServerURL": "https://plot.ly"
       },
       "data": [
        {
         "hovertemplate": "x=%{x}<br>y=%{y}<br>z=%{z}<br>size=%{marker.size}<br>Name=%{text}<br>Cluster=%{marker.color}<extra></extra>",
         "legendgroup": "",
         "marker": {
          "color": [
           0,
           0,
           0,
           0,
           0,
           0,
           0,
           0,
           0,
           0,
           0,
           0,
           0,
           0,
           0,
           0,
           0,
           0,
           0,
           0,
           -1,
           0,
           0,
           0,
           0,
           -1,
           0,
           0,
           0,
           0,
           0,
           0,
           0,
           0,
           0,
           0,
           0,
           0,
           0,
           0,
           0,
           0
          ],
          "coloraxis": "coloraxis",
          "size": [
           6.362685441135936e+21,
           4.722366482869645e+21,
           4.722366482869645e+21,
           4.722366482869645e+21,
           6.362685441135936e+21,
           6.362685441135936e+21,
           3.754132467271021e+23,
           1.0399043998264189e+23,
           7.976644307687251e+22,
           7.976644307687251e+22,
           6.100425945333111e+22,
           4.65140474534599e+22,
           4.65140474534599e+22,
           3.5355913511524947e+22,
           2.678939031464213e+22,
           3.754132467271021e+23,
           6.100425945333111e+22,
           6.100425945333111e+22,
           6.100425945333111e+22,
           4.65140474534599e+22,
           4.65140474534599e+22,
           4.65140474534599e+22,
           3.5355913511524947e+22,
           2.678939031464213e+22,
           8.541466801005381e+21,
           6.362685441135936e+21,
           4.722366482869645e+21,
           4.722366482869645e+21,
           4.722366482869645e+21,
           1.523010387809837e+22,
           1.523010387809837e+22,
           1.523010387809837e+22,
           8.541466801005381e+21,
           6.362685441135936e+21,
           4.722366482869645e+21,
           4.722366482869645e+21,
           4.722366482869645e+21,
           4.722366482869645e+21,
           8.541466801005381e+21,
           6.362685441135936e+21,
           8.541466801005381e+21,
           4.722366482869645e+21
          ],
          "sizemode": "area",
          "sizeref": 938533116817755200000,
          "symbol": "circle"
         },
         "mode": "markers+text",
         "name": "",
         "scene": "scene",
         "showlegend": false,
         "text": [
          "CN099",
          "CN126",
          "CN126",
          "CN126",
          "CN275",
          "CN286",
          "CN288",
          "CN288",
          "CN288",
          "CN288",
          "CN288",
          "CN288",
          "CN288",
          "CN288",
          "CN288",
          "CN289",
          "CN289",
          "CN289",
          "CN289",
          "CN289",
          "CN289",
          "CN289",
          "CN289",
          "CN289",
          "CN290",
          "CN290",
          "CN290",
          "CN290",
          "CN290",
          "CN334",
          "CN334",
          "CN334",
          "CN334",
          "CN334",
          "CN334",
          "CN334",
          "CN336",
          "CN342",
          "CN344",
          "CN344",
          "CN345",
          "CN345"
         ],
         "type": "scatter3d",
         "x": [
          0,
          0,
          0,
          0,
          0,
          0,
          0,
          0,
          0,
          0,
          0,
          0,
          0,
          0,
          0,
          0,
          0,
          0,
          0,
          0,
          0,
          0,
          0,
          0,
          0,
          0,
          0,
          0,
          0,
          0,
          0,
          0,
          0,
          0,
          0,
          0,
          0,
          0,
          0,
          0,
          0,
          0
         ],
         "y": [
          -60.57494000771868,
          -61.37746948061531,
          -60.945224392632156,
          -61.38932445074329,
          -63.0747459518479,
          -60.28846342567355,
          -63.60412212933175,
          -60.30145574594113,
          -65.15267969912556,
          -63.50624438822011,
          -64.45172081623664,
          -64.95177670657633,
          -65.5707428343778,
          -64.99478336218452,
          -65.91221619198205,
          -63.31735055751747,
          -63.43452993598127,
          -65.25852681580234,
          -60.38057092121936,
          -65.09619800483695,
          -42.351118666359135,
          -64.78658354116956,
          -65.39916696304155,
          -64.76476951982782,
          -62.00665480890412,
          -49.397654775838696,
          -61.98667529618951,
          -61.9465482703732,
          -62.170683922611616,
          -61.029262172053755,
          -61.77753195654853,
          -60.56519031037682,
          -62.47902265951993,
          -62.21689087493429,
          -62.94674458965757,
          -62.61385460698362,
          -60.484239551699396,
          -59.55447505114777,
          -59.69414214694723,
          -59.66613708639593,
          -59.733784224749506,
          -59.65604081004755
         ],
         "z": [
          53.414850752615116,
          53.869024175636746,
          53.478731980020534,
          53.124774990596784,
          50.2265091497157,
          52.15670304166269,
          53.408756083099064,
          49.99768847552658,
          53.180428318364086,
          53.442669371177395,
          53.693756805928714,
          53.60620783588089,
          53.33904036485085,
          53.58785090850512,
          53.16227961761895,
          53.519689864427654,
          53.35882955041355,
          53.40954222921508,
          49.8464714254118,
          53.71739676413705,
          53.66186892753911,
          53.62668951622923,
          53.218867431821,
          53.690123065890674,
          54.0632444825613,
          33.247576376234896,
          54.05724493881554,
          53.85885061366438,
          53.67895310874783,
          53.614608373620236,
          52.945269663147364,
          52.46291580566245,
          52.8265138141373,
          52.84808543376831,
          52.356152043762926,
          52.79498977242493,
          54.262894344485495,
          54.497765573657446,
          54.2585309395323,
          54.174736643696754,
          54.289641768467014,
          54.309132396653304
         ]
        }
       ],
       "layout": {
        "coloraxis": {
         "colorbar": {
          "title": {
           "text": "Cluster"
          }
         },
         "colorscale": [
          [
           0,
           "#0d0887"
          ],
          [
           0.1111111111111111,
           "#46039f"
          ],
          [
           0.2222222222222222,
           "#7201a8"
          ],
          [
           0.3333333333333333,
           "#9c179e"
          ],
          [
           0.4444444444444444,
           "#bd3786"
          ],
          [
           0.5555555555555556,
           "#d8576b"
          ],
          [
           0.6666666666666666,
           "#ed7953"
          ],
          [
           0.7777777777777778,
           "#fb9f3a"
          ],
          [
           0.8888888888888888,
           "#fdca26"
          ],
          [
           1,
           "#f0f921"
          ]
         ]
        },
        "legend": {
         "itemsizing": "constant",
         "tracegroupgap": 0
        },
        "scene": {
         "domain": {
          "x": [
           0,
           1
          ],
          "y": [
           0,
           1
          ]
         },
         "xaxis": {
          "title": {
           "text": "x"
          }
         },
         "yaxis": {
          "title": {
           "text": "y"
          }
         },
         "zaxis": {
          "title": {
           "text": "z"
          }
         }
        },
        "template": {
         "data": {
          "bar": [
           {
            "error_x": {
             "color": "#2a3f5f"
            },
            "error_y": {
             "color": "#2a3f5f"
            },
            "marker": {
             "line": {
              "color": "#E5ECF6",
              "width": 0.5
             }
            },
            "type": "bar"
           }
          ],
          "barpolar": [
           {
            "marker": {
             "line": {
              "color": "#E5ECF6",
              "width": 0.5
             }
            },
            "type": "barpolar"
           }
          ],
          "carpet": [
           {
            "aaxis": {
             "endlinecolor": "#2a3f5f",
             "gridcolor": "white",
             "linecolor": "white",
             "minorgridcolor": "white",
             "startlinecolor": "#2a3f5f"
            },
            "baxis": {
             "endlinecolor": "#2a3f5f",
             "gridcolor": "white",
             "linecolor": "white",
             "minorgridcolor": "white",
             "startlinecolor": "#2a3f5f"
            },
            "type": "carpet"
           }
          ],
          "choropleth": [
           {
            "colorbar": {
             "outlinewidth": 0,
             "ticks": ""
            },
            "type": "choropleth"
           }
          ],
          "contour": [
           {
            "colorbar": {
             "outlinewidth": 0,
             "ticks": ""
            },
            "colorscale": [
             [
              0,
              "#0d0887"
             ],
             [
              0.1111111111111111,
              "#46039f"
             ],
             [
              0.2222222222222222,
              "#7201a8"
             ],
             [
              0.3333333333333333,
              "#9c179e"
             ],
             [
              0.4444444444444444,
              "#bd3786"
             ],
             [
              0.5555555555555556,
              "#d8576b"
             ],
             [
              0.6666666666666666,
              "#ed7953"
             ],
             [
              0.7777777777777778,
              "#fb9f3a"
             ],
             [
              0.8888888888888888,
              "#fdca26"
             ],
             [
              1,
              "#f0f921"
             ]
            ],
            "type": "contour"
           }
          ],
          "contourcarpet": [
           {
            "colorbar": {
             "outlinewidth": 0,
             "ticks": ""
            },
            "type": "contourcarpet"
           }
          ],
          "heatmap": [
           {
            "colorbar": {
             "outlinewidth": 0,
             "ticks": ""
            },
            "colorscale": [
             [
              0,
              "#0d0887"
             ],
             [
              0.1111111111111111,
              "#46039f"
             ],
             [
              0.2222222222222222,
              "#7201a8"
             ],
             [
              0.3333333333333333,
              "#9c179e"
             ],
             [
              0.4444444444444444,
              "#bd3786"
             ],
             [
              0.5555555555555556,
              "#d8576b"
             ],
             [
              0.6666666666666666,
              "#ed7953"
             ],
             [
              0.7777777777777778,
              "#fb9f3a"
             ],
             [
              0.8888888888888888,
              "#fdca26"
             ],
             [
              1,
              "#f0f921"
             ]
            ],
            "type": "heatmap"
           }
          ],
          "heatmapgl": [
           {
            "colorbar": {
             "outlinewidth": 0,
             "ticks": ""
            },
            "colorscale": [
             [
              0,
              "#0d0887"
             ],
             [
              0.1111111111111111,
              "#46039f"
             ],
             [
              0.2222222222222222,
              "#7201a8"
             ],
             [
              0.3333333333333333,
              "#9c179e"
             ],
             [
              0.4444444444444444,
              "#bd3786"
             ],
             [
              0.5555555555555556,
              "#d8576b"
             ],
             [
              0.6666666666666666,
              "#ed7953"
             ],
             [
              0.7777777777777778,
              "#fb9f3a"
             ],
             [
              0.8888888888888888,
              "#fdca26"
             ],
             [
              1,
              "#f0f921"
             ]
            ],
            "type": "heatmapgl"
           }
          ],
          "histogram": [
           {
            "marker": {
             "colorbar": {
              "outlinewidth": 0,
              "ticks": ""
             }
            },
            "type": "histogram"
           }
          ],
          "histogram2d": [
           {
            "colorbar": {
             "outlinewidth": 0,
             "ticks": ""
            },
            "colorscale": [
             [
              0,
              "#0d0887"
             ],
             [
              0.1111111111111111,
              "#46039f"
             ],
             [
              0.2222222222222222,
              "#7201a8"
             ],
             [
              0.3333333333333333,
              "#9c179e"
             ],
             [
              0.4444444444444444,
              "#bd3786"
             ],
             [
              0.5555555555555556,
              "#d8576b"
             ],
             [
              0.6666666666666666,
              "#ed7953"
             ],
             [
              0.7777777777777778,
              "#fb9f3a"
             ],
             [
              0.8888888888888888,
              "#fdca26"
             ],
             [
              1,
              "#f0f921"
             ]
            ],
            "type": "histogram2d"
           }
          ],
          "histogram2dcontour": [
           {
            "colorbar": {
             "outlinewidth": 0,
             "ticks": ""
            },
            "colorscale": [
             [
              0,
              "#0d0887"
             ],
             [
              0.1111111111111111,
              "#46039f"
             ],
             [
              0.2222222222222222,
              "#7201a8"
             ],
             [
              0.3333333333333333,
              "#9c179e"
             ],
             [
              0.4444444444444444,
              "#bd3786"
             ],
             [
              0.5555555555555556,
              "#d8576b"
             ],
             [
              0.6666666666666666,
              "#ed7953"
             ],
             [
              0.7777777777777778,
              "#fb9f3a"
             ],
             [
              0.8888888888888888,
              "#fdca26"
             ],
             [
              1,
              "#f0f921"
             ]
            ],
            "type": "histogram2dcontour"
           }
          ],
          "mesh3d": [
           {
            "colorbar": {
             "outlinewidth": 0,
             "ticks": ""
            },
            "type": "mesh3d"
           }
          ],
          "parcoords": [
           {
            "line": {
             "colorbar": {
              "outlinewidth": 0,
              "ticks": ""
             }
            },
            "type": "parcoords"
           }
          ],
          "pie": [
           {
            "automargin": true,
            "type": "pie"
           }
          ],
          "scatter": [
           {
            "marker": {
             "colorbar": {
              "outlinewidth": 0,
              "ticks": ""
             }
            },
            "type": "scatter"
           }
          ],
          "scatter3d": [
           {
            "line": {
             "colorbar": {
              "outlinewidth": 0,
              "ticks": ""
             }
            },
            "marker": {
             "colorbar": {
              "outlinewidth": 0,
              "ticks": ""
             }
            },
            "type": "scatter3d"
           }
          ],
          "scattercarpet": [
           {
            "marker": {
             "colorbar": {
              "outlinewidth": 0,
              "ticks": ""
             }
            },
            "type": "scattercarpet"
           }
          ],
          "scattergeo": [
           {
            "marker": {
             "colorbar": {
              "outlinewidth": 0,
              "ticks": ""
             }
            },
            "type": "scattergeo"
           }
          ],
          "scattergl": [
           {
            "marker": {
             "colorbar": {
              "outlinewidth": 0,
              "ticks": ""
             }
            },
            "type": "scattergl"
           }
          ],
          "scattermapbox": [
           {
            "marker": {
             "colorbar": {
              "outlinewidth": 0,
              "ticks": ""
             }
            },
            "type": "scattermapbox"
           }
          ],
          "scatterpolar": [
           {
            "marker": {
             "colorbar": {
              "outlinewidth": 0,
              "ticks": ""
             }
            },
            "type": "scatterpolar"
           }
          ],
          "scatterpolargl": [
           {
            "marker": {
             "colorbar": {
              "outlinewidth": 0,
              "ticks": ""
             }
            },
            "type": "scatterpolargl"
           }
          ],
          "scatterternary": [
           {
            "marker": {
             "colorbar": {
              "outlinewidth": 0,
              "ticks": ""
             }
            },
            "type": "scatterternary"
           }
          ],
          "surface": [
           {
            "colorbar": {
             "outlinewidth": 0,
             "ticks": ""
            },
            "colorscale": [
             [
              0,
              "#0d0887"
             ],
             [
              0.1111111111111111,
              "#46039f"
             ],
             [
              0.2222222222222222,
              "#7201a8"
             ],
             [
              0.3333333333333333,
              "#9c179e"
             ],
             [
              0.4444444444444444,
              "#bd3786"
             ],
             [
              0.5555555555555556,
              "#d8576b"
             ],
             [
              0.6666666666666666,
              "#ed7953"
             ],
             [
              0.7777777777777778,
              "#fb9f3a"
             ],
             [
              0.8888888888888888,
              "#fdca26"
             ],
             [
              1,
              "#f0f921"
             ]
            ],
            "type": "surface"
           }
          ],
          "table": [
           {
            "cells": {
             "fill": {
              "color": "#EBF0F8"
             },
             "line": {
              "color": "white"
             }
            },
            "header": {
             "fill": {
              "color": "#C8D4E3"
             },
             "line": {
              "color": "white"
             }
            },
            "type": "table"
           }
          ]
         },
         "layout": {
          "annotationdefaults": {
           "arrowcolor": "#2a3f5f",
           "arrowhead": 0,
           "arrowwidth": 1
          },
          "autotypenumbers": "strict",
          "coloraxis": {
           "colorbar": {
            "outlinewidth": 0,
            "ticks": ""
           }
          },
          "colorscale": {
           "diverging": [
            [
             0,
             "#8e0152"
            ],
            [
             0.1,
             "#c51b7d"
            ],
            [
             0.2,
             "#de77ae"
            ],
            [
             0.3,
             "#f1b6da"
            ],
            [
             0.4,
             "#fde0ef"
            ],
            [
             0.5,
             "#f7f7f7"
            ],
            [
             0.6,
             "#e6f5d0"
            ],
            [
             0.7,
             "#b8e186"
            ],
            [
             0.8,
             "#7fbc41"
            ],
            [
             0.9,
             "#4d9221"
            ],
            [
             1,
             "#276419"
            ]
           ],
           "sequential": [
            [
             0,
             "#0d0887"
            ],
            [
             0.1111111111111111,
             "#46039f"
            ],
            [
             0.2222222222222222,
             "#7201a8"
            ],
            [
             0.3333333333333333,
             "#9c179e"
            ],
            [
             0.4444444444444444,
             "#bd3786"
            ],
            [
             0.5555555555555556,
             "#d8576b"
            ],
            [
             0.6666666666666666,
             "#ed7953"
            ],
            [
             0.7777777777777778,
             "#fb9f3a"
            ],
            [
             0.8888888888888888,
             "#fdca26"
            ],
            [
             1,
             "#f0f921"
            ]
           ],
           "sequentialminus": [
            [
             0,
             "#0d0887"
            ],
            [
             0.1111111111111111,
             "#46039f"
            ],
            [
             0.2222222222222222,
             "#7201a8"
            ],
            [
             0.3333333333333333,
             "#9c179e"
            ],
            [
             0.4444444444444444,
             "#bd3786"
            ],
            [
             0.5555555555555556,
             "#d8576b"
            ],
            [
             0.6666666666666666,
             "#ed7953"
            ],
            [
             0.7777777777777778,
             "#fb9f3a"
            ],
            [
             0.8888888888888888,
             "#fdca26"
            ],
            [
             1,
             "#f0f921"
            ]
           ]
          },
          "colorway": [
           "#636efa",
           "#EF553B",
           "#00cc96",
           "#ab63fa",
           "#FFA15A",
           "#19d3f3",
           "#FF6692",
           "#B6E880",
           "#FF97FF",
           "#FECB52"
          ],
          "font": {
           "color": "#2a3f5f"
          },
          "geo": {
           "bgcolor": "white",
           "lakecolor": "white",
           "landcolor": "#E5ECF6",
           "showlakes": true,
           "showland": true,
           "subunitcolor": "white"
          },
          "hoverlabel": {
           "align": "left"
          },
          "hovermode": "closest",
          "mapbox": {
           "style": "light"
          },
          "paper_bgcolor": "white",
          "plot_bgcolor": "#E5ECF6",
          "polar": {
           "angularaxis": {
            "gridcolor": "white",
            "linecolor": "white",
            "ticks": ""
           },
           "bgcolor": "#E5ECF6",
           "radialaxis": {
            "gridcolor": "white",
            "linecolor": "white",
            "ticks": ""
           }
          },
          "scene": {
           "xaxis": {
            "backgroundcolor": "#E5ECF6",
            "gridcolor": "white",
            "gridwidth": 2,
            "linecolor": "white",
            "showbackground": true,
            "ticks": "",
            "zerolinecolor": "white"
           },
           "yaxis": {
            "backgroundcolor": "#E5ECF6",
            "gridcolor": "white",
            "gridwidth": 2,
            "linecolor": "white",
            "showbackground": true,
            "ticks": "",
            "zerolinecolor": "white"
           },
           "zaxis": {
            "backgroundcolor": "#E5ECF6",
            "gridcolor": "white",
            "gridwidth": 2,
            "linecolor": "white",
            "showbackground": true,
            "ticks": "",
            "zerolinecolor": "white"
           }
          },
          "shapedefaults": {
           "line": {
            "color": "#2a3f5f"
           }
          },
          "ternary": {
           "aaxis": {
            "gridcolor": "white",
            "linecolor": "white",
            "ticks": ""
           },
           "baxis": {
            "gridcolor": "white",
            "linecolor": "white",
            "ticks": ""
           },
           "bgcolor": "#E5ECF6",
           "caxis": {
            "gridcolor": "white",
            "linecolor": "white",
            "ticks": ""
           }
          },
          "title": {
           "x": 0.05
          },
          "xaxis": {
           "automargin": true,
           "gridcolor": "white",
           "linecolor": "white",
           "ticks": "",
           "title": {
            "standoff": 15
           },
           "zerolinecolor": "white",
           "zerolinewidth": 2
          },
          "yaxis": {
           "automargin": true,
           "gridcolor": "white",
           "linecolor": "white",
           "ticks": "",
           "title": {
            "standoff": 15
           },
           "zerolinecolor": "white",
           "zerolinewidth": 2
          }
         }
        },
        "title": {
         "text": "Cluster para -8.0 (kcal/mol) com o Luteoin na PLPro de SARS-CoV-2"
        }
       }
      },
      "text/html": [
       "<div>                            <div id=\"629dac39-e860-4f6f-924e-167b2104ce2a\" class=\"plotly-graph-div\" style=\"height:525px; width:100%;\"></div>            <script type=\"text/javascript\">                require([\"plotly\"], function(Plotly) {                    window.PLOTLYENV=window.PLOTLYENV || {};                                    if (document.getElementById(\"629dac39-e860-4f6f-924e-167b2104ce2a\")) {                    Plotly.newPlot(                        \"629dac39-e860-4f6f-924e-167b2104ce2a\",                        [{\"hovertemplate\": \"x=%{x}<br>y=%{y}<br>z=%{z}<br>size=%{marker.size}<br>Name=%{text}<br>Cluster=%{marker.color}<extra></extra>\", \"legendgroup\": \"\", \"marker\": {\"color\": [0, 0, 0, 0, 0, 0, 0, 0, 0, 0, 0, 0, 0, 0, 0, 0, 0, 0, 0, 0, -1, 0, 0, 0, 0, -1, 0, 0, 0, 0, 0, 0, 0, 0, 0, 0, 0, 0, 0, 0, 0, 0], \"coloraxis\": \"coloraxis\", \"size\": [6.362685441135936e+21, 4.722366482869645e+21, 4.722366482869645e+21, 4.722366482869645e+21, 6.362685441135936e+21, 6.362685441135936e+21, 3.754132467271021e+23, 1.0399043998264189e+23, 7.976644307687251e+22, 7.976644307687251e+22, 6.100425945333111e+22, 4.65140474534599e+22, 4.65140474534599e+22, 3.5355913511524947e+22, 2.678939031464213e+22, 3.754132467271021e+23, 6.100425945333111e+22, 6.100425945333111e+22, 6.100425945333111e+22, 4.65140474534599e+22, 4.65140474534599e+22, 4.65140474534599e+22, 3.5355913511524947e+22, 2.678939031464213e+22, 8.541466801005381e+21, 6.362685441135936e+21, 4.722366482869645e+21, 4.722366482869645e+21, 4.722366482869645e+21, 1.523010387809837e+22, 1.523010387809837e+22, 1.523010387809837e+22, 8.541466801005381e+21, 6.362685441135936e+21, 4.722366482869645e+21, 4.722366482869645e+21, 4.722366482869645e+21, 4.722366482869645e+21, 8.541466801005381e+21, 6.362685441135936e+21, 8.541466801005381e+21, 4.722366482869645e+21], \"sizemode\": \"area\", \"sizeref\": 9.385331168177552e+20, \"symbol\": \"circle\"}, \"mode\": \"markers+text\", \"name\": \"\", \"scene\": \"scene\", \"showlegend\": false, \"text\": [\"CN099\", \"CN126\", \"CN126\", \"CN126\", \"CN275\", \"CN286\", \"CN288\", \"CN288\", \"CN288\", \"CN288\", \"CN288\", \"CN288\", \"CN288\", \"CN288\", \"CN288\", \"CN289\", \"CN289\", \"CN289\", \"CN289\", \"CN289\", \"CN289\", \"CN289\", \"CN289\", \"CN289\", \"CN290\", \"CN290\", \"CN290\", \"CN290\", \"CN290\", \"CN334\", \"CN334\", \"CN334\", \"CN334\", \"CN334\", \"CN334\", \"CN334\", \"CN336\", \"CN342\", \"CN344\", \"CN344\", \"CN345\", \"CN345\"], \"type\": \"scatter3d\", \"x\": [0.0, 0.0, 0.0, 0.0, 0.0, 0.0, 0.0, 0.0, 0.0, 0.0, 0.0, 0.0, 0.0, 0.0, 0.0, 0.0, 0.0, 0.0, 0.0, 0.0, 0.0, 0.0, 0.0, 0.0, 0.0, 0.0, 0.0, 0.0, 0.0, 0.0, 0.0, 0.0, 0.0, 0.0, 0.0, 0.0, 0.0, 0.0, 0.0, 0.0, 0.0, 0.0], \"y\": [-60.57494000771868, -61.37746948061531, -60.945224392632156, -61.38932445074329, -63.0747459518479, -60.28846342567355, -63.60412212933175, -60.30145574594113, -65.15267969912556, -63.50624438822011, -64.45172081623664, -64.95177670657633, -65.5707428343778, -64.99478336218452, -65.91221619198205, -63.31735055751747, -63.43452993598127, -65.25852681580234, -60.38057092121936, -65.09619800483695, -42.351118666359135, -64.78658354116956, -65.39916696304155, -64.76476951982782, -62.00665480890412, -49.397654775838696, -61.98667529618951, -61.9465482703732, -62.170683922611616, -61.029262172053755, -61.77753195654853, -60.56519031037682, -62.47902265951993, -62.21689087493429, -62.94674458965757, -62.61385460698362, -60.484239551699396, -59.55447505114777, -59.69414214694723, -59.66613708639593, -59.733784224749506, -59.65604081004755], \"z\": [53.414850752615116, 53.869024175636746, 53.478731980020534, 53.124774990596784, 50.2265091497157, 52.15670304166269, 53.408756083099064, 49.99768847552658, 53.180428318364086, 53.442669371177395, 53.693756805928714, 53.60620783588089, 53.33904036485085, 53.58785090850512, 53.16227961761895, 53.519689864427654, 53.35882955041355, 53.40954222921508, 49.8464714254118, 53.71739676413705, 53.66186892753911, 53.62668951622923, 53.218867431821, 53.690123065890674, 54.0632444825613, 33.247576376234896, 54.05724493881554, 53.85885061366438, 53.67895310874783, 53.614608373620236, 52.945269663147364, 52.46291580566245, 52.8265138141373, 52.84808543376831, 52.356152043762926, 52.79498977242493, 54.262894344485495, 54.497765573657446, 54.2585309395323, 54.174736643696754, 54.289641768467014, 54.309132396653304]}],                        {\"coloraxis\": {\"colorbar\": {\"title\": {\"text\": \"Cluster\"}}, \"colorscale\": [[0.0, \"#0d0887\"], [0.1111111111111111, \"#46039f\"], [0.2222222222222222, \"#7201a8\"], [0.3333333333333333, \"#9c179e\"], [0.4444444444444444, \"#bd3786\"], [0.5555555555555556, \"#d8576b\"], [0.6666666666666666, \"#ed7953\"], [0.7777777777777778, \"#fb9f3a\"], [0.8888888888888888, \"#fdca26\"], [1.0, \"#f0f921\"]]}, \"legend\": {\"itemsizing\": \"constant\", \"tracegroupgap\": 0}, \"scene\": {\"domain\": {\"x\": [0.0, 1.0], \"y\": [0.0, 1.0]}, \"xaxis\": {\"title\": {\"text\": \"x\"}}, \"yaxis\": {\"title\": {\"text\": \"y\"}}, \"zaxis\": {\"title\": {\"text\": \"z\"}}}, \"template\": {\"data\": {\"bar\": [{\"error_x\": {\"color\": \"#2a3f5f\"}, \"error_y\": {\"color\": \"#2a3f5f\"}, \"marker\": {\"line\": {\"color\": \"#E5ECF6\", \"width\": 0.5}}, \"type\": \"bar\"}], \"barpolar\": [{\"marker\": {\"line\": {\"color\": \"#E5ECF6\", \"width\": 0.5}}, \"type\": \"barpolar\"}], \"carpet\": [{\"aaxis\": {\"endlinecolor\": \"#2a3f5f\", \"gridcolor\": \"white\", \"linecolor\": \"white\", \"minorgridcolor\": \"white\", \"startlinecolor\": \"#2a3f5f\"}, \"baxis\": {\"endlinecolor\": \"#2a3f5f\", \"gridcolor\": \"white\", \"linecolor\": \"white\", \"minorgridcolor\": \"white\", \"startlinecolor\": \"#2a3f5f\"}, \"type\": \"carpet\"}], \"choropleth\": [{\"colorbar\": {\"outlinewidth\": 0, \"ticks\": \"\"}, \"type\": \"choropleth\"}], \"contour\": [{\"colorbar\": {\"outlinewidth\": 0, \"ticks\": \"\"}, \"colorscale\": [[0.0, \"#0d0887\"], [0.1111111111111111, \"#46039f\"], [0.2222222222222222, \"#7201a8\"], [0.3333333333333333, \"#9c179e\"], [0.4444444444444444, \"#bd3786\"], [0.5555555555555556, \"#d8576b\"], [0.6666666666666666, \"#ed7953\"], [0.7777777777777778, \"#fb9f3a\"], [0.8888888888888888, \"#fdca26\"], [1.0, \"#f0f921\"]], \"type\": \"contour\"}], \"contourcarpet\": [{\"colorbar\": {\"outlinewidth\": 0, \"ticks\": \"\"}, \"type\": \"contourcarpet\"}], \"heatmap\": [{\"colorbar\": {\"outlinewidth\": 0, \"ticks\": \"\"}, \"colorscale\": [[0.0, \"#0d0887\"], [0.1111111111111111, \"#46039f\"], [0.2222222222222222, \"#7201a8\"], [0.3333333333333333, \"#9c179e\"], [0.4444444444444444, \"#bd3786\"], [0.5555555555555556, \"#d8576b\"], [0.6666666666666666, \"#ed7953\"], [0.7777777777777778, \"#fb9f3a\"], [0.8888888888888888, \"#fdca26\"], [1.0, \"#f0f921\"]], \"type\": \"heatmap\"}], \"heatmapgl\": [{\"colorbar\": {\"outlinewidth\": 0, \"ticks\": \"\"}, \"colorscale\": [[0.0, \"#0d0887\"], [0.1111111111111111, \"#46039f\"], [0.2222222222222222, \"#7201a8\"], [0.3333333333333333, \"#9c179e\"], [0.4444444444444444, \"#bd3786\"], [0.5555555555555556, \"#d8576b\"], [0.6666666666666666, \"#ed7953\"], [0.7777777777777778, \"#fb9f3a\"], [0.8888888888888888, \"#fdca26\"], [1.0, \"#f0f921\"]], \"type\": \"heatmapgl\"}], \"histogram\": [{\"marker\": {\"colorbar\": {\"outlinewidth\": 0, \"ticks\": \"\"}}, \"type\": \"histogram\"}], \"histogram2d\": [{\"colorbar\": {\"outlinewidth\": 0, \"ticks\": \"\"}, \"colorscale\": [[0.0, \"#0d0887\"], [0.1111111111111111, \"#46039f\"], [0.2222222222222222, \"#7201a8\"], [0.3333333333333333, \"#9c179e\"], [0.4444444444444444, \"#bd3786\"], [0.5555555555555556, \"#d8576b\"], [0.6666666666666666, \"#ed7953\"], [0.7777777777777778, \"#fb9f3a\"], [0.8888888888888888, \"#fdca26\"], [1.0, \"#f0f921\"]], \"type\": \"histogram2d\"}], \"histogram2dcontour\": [{\"colorbar\": {\"outlinewidth\": 0, \"ticks\": \"\"}, \"colorscale\": [[0.0, \"#0d0887\"], [0.1111111111111111, \"#46039f\"], [0.2222222222222222, \"#7201a8\"], [0.3333333333333333, \"#9c179e\"], [0.4444444444444444, \"#bd3786\"], [0.5555555555555556, \"#d8576b\"], [0.6666666666666666, \"#ed7953\"], [0.7777777777777778, \"#fb9f3a\"], [0.8888888888888888, \"#fdca26\"], [1.0, \"#f0f921\"]], \"type\": \"histogram2dcontour\"}], \"mesh3d\": [{\"colorbar\": {\"outlinewidth\": 0, \"ticks\": \"\"}, \"type\": \"mesh3d\"}], \"parcoords\": [{\"line\": {\"colorbar\": {\"outlinewidth\": 0, \"ticks\": \"\"}}, \"type\": \"parcoords\"}], \"pie\": [{\"automargin\": true, \"type\": \"pie\"}], \"scatter\": [{\"marker\": {\"colorbar\": {\"outlinewidth\": 0, \"ticks\": \"\"}}, \"type\": \"scatter\"}], \"scatter3d\": [{\"line\": {\"colorbar\": {\"outlinewidth\": 0, \"ticks\": \"\"}}, \"marker\": {\"colorbar\": {\"outlinewidth\": 0, \"ticks\": \"\"}}, \"type\": \"scatter3d\"}], \"scattercarpet\": [{\"marker\": {\"colorbar\": {\"outlinewidth\": 0, \"ticks\": \"\"}}, \"type\": \"scattercarpet\"}], \"scattergeo\": [{\"marker\": {\"colorbar\": {\"outlinewidth\": 0, \"ticks\": \"\"}}, \"type\": \"scattergeo\"}], \"scattergl\": [{\"marker\": {\"colorbar\": {\"outlinewidth\": 0, \"ticks\": \"\"}}, \"type\": \"scattergl\"}], \"scattermapbox\": [{\"marker\": {\"colorbar\": {\"outlinewidth\": 0, \"ticks\": \"\"}}, \"type\": \"scattermapbox\"}], \"scatterpolar\": [{\"marker\": {\"colorbar\": {\"outlinewidth\": 0, \"ticks\": \"\"}}, \"type\": \"scatterpolar\"}], \"scatterpolargl\": [{\"marker\": {\"colorbar\": {\"outlinewidth\": 0, \"ticks\": \"\"}}, \"type\": \"scatterpolargl\"}], \"scatterternary\": [{\"marker\": {\"colorbar\": {\"outlinewidth\": 0, \"ticks\": \"\"}}, \"type\": \"scatterternary\"}], \"surface\": [{\"colorbar\": {\"outlinewidth\": 0, \"ticks\": \"\"}, \"colorscale\": [[0.0, \"#0d0887\"], [0.1111111111111111, \"#46039f\"], [0.2222222222222222, \"#7201a8\"], [0.3333333333333333, \"#9c179e\"], [0.4444444444444444, \"#bd3786\"], [0.5555555555555556, \"#d8576b\"], [0.6666666666666666, \"#ed7953\"], [0.7777777777777778, \"#fb9f3a\"], [0.8888888888888888, \"#fdca26\"], [1.0, \"#f0f921\"]], \"type\": \"surface\"}], \"table\": [{\"cells\": {\"fill\": {\"color\": \"#EBF0F8\"}, \"line\": {\"color\": \"white\"}}, \"header\": {\"fill\": {\"color\": \"#C8D4E3\"}, \"line\": {\"color\": \"white\"}}, \"type\": \"table\"}]}, \"layout\": {\"annotationdefaults\": {\"arrowcolor\": \"#2a3f5f\", \"arrowhead\": 0, \"arrowwidth\": 1}, \"autotypenumbers\": \"strict\", \"coloraxis\": {\"colorbar\": {\"outlinewidth\": 0, \"ticks\": \"\"}}, \"colorscale\": {\"diverging\": [[0, \"#8e0152\"], [0.1, \"#c51b7d\"], [0.2, \"#de77ae\"], [0.3, \"#f1b6da\"], [0.4, \"#fde0ef\"], [0.5, \"#f7f7f7\"], [0.6, \"#e6f5d0\"], [0.7, \"#b8e186\"], [0.8, \"#7fbc41\"], [0.9, \"#4d9221\"], [1, \"#276419\"]], \"sequential\": [[0.0, \"#0d0887\"], [0.1111111111111111, \"#46039f\"], [0.2222222222222222, \"#7201a8\"], [0.3333333333333333, \"#9c179e\"], [0.4444444444444444, \"#bd3786\"], [0.5555555555555556, \"#d8576b\"], [0.6666666666666666, \"#ed7953\"], [0.7777777777777778, \"#fb9f3a\"], [0.8888888888888888, \"#fdca26\"], [1.0, \"#f0f921\"]], \"sequentialminus\": [[0.0, \"#0d0887\"], [0.1111111111111111, \"#46039f\"], [0.2222222222222222, \"#7201a8\"], [0.3333333333333333, \"#9c179e\"], [0.4444444444444444, \"#bd3786\"], [0.5555555555555556, \"#d8576b\"], [0.6666666666666666, \"#ed7953\"], [0.7777777777777778, \"#fb9f3a\"], [0.8888888888888888, \"#fdca26\"], [1.0, \"#f0f921\"]]}, \"colorway\": [\"#636efa\", \"#EF553B\", \"#00cc96\", \"#ab63fa\", \"#FFA15A\", \"#19d3f3\", \"#FF6692\", \"#B6E880\", \"#FF97FF\", \"#FECB52\"], \"font\": {\"color\": \"#2a3f5f\"}, \"geo\": {\"bgcolor\": \"white\", \"lakecolor\": \"white\", \"landcolor\": \"#E5ECF6\", \"showlakes\": true, \"showland\": true, \"subunitcolor\": \"white\"}, \"hoverlabel\": {\"align\": \"left\"}, \"hovermode\": \"closest\", \"mapbox\": {\"style\": \"light\"}, \"paper_bgcolor\": \"white\", \"plot_bgcolor\": \"#E5ECF6\", \"polar\": {\"angularaxis\": {\"gridcolor\": \"white\", \"linecolor\": \"white\", \"ticks\": \"\"}, \"bgcolor\": \"#E5ECF6\", \"radialaxis\": {\"gridcolor\": \"white\", \"linecolor\": \"white\", \"ticks\": \"\"}}, \"scene\": {\"xaxis\": {\"backgroundcolor\": \"#E5ECF6\", \"gridcolor\": \"white\", \"gridwidth\": 2, \"linecolor\": \"white\", \"showbackground\": true, \"ticks\": \"\", \"zerolinecolor\": \"white\"}, \"yaxis\": {\"backgroundcolor\": \"#E5ECF6\", \"gridcolor\": \"white\", \"gridwidth\": 2, \"linecolor\": \"white\", \"showbackground\": true, \"ticks\": \"\", \"zerolinecolor\": \"white\"}, \"zaxis\": {\"backgroundcolor\": \"#E5ECF6\", \"gridcolor\": \"white\", \"gridwidth\": 2, \"linecolor\": \"white\", \"showbackground\": true, \"ticks\": \"\", \"zerolinecolor\": \"white\"}}, \"shapedefaults\": {\"line\": {\"color\": \"#2a3f5f\"}}, \"ternary\": {\"aaxis\": {\"gridcolor\": \"white\", \"linecolor\": \"white\", \"ticks\": \"\"}, \"baxis\": {\"gridcolor\": \"white\", \"linecolor\": \"white\", \"ticks\": \"\"}, \"bgcolor\": \"#E5ECF6\", \"caxis\": {\"gridcolor\": \"white\", \"linecolor\": \"white\", \"ticks\": \"\"}}, \"title\": {\"x\": 0.05}, \"xaxis\": {\"automargin\": true, \"gridcolor\": \"white\", \"linecolor\": \"white\", \"ticks\": \"\", \"title\": {\"standoff\": 15}, \"zerolinecolor\": \"white\", \"zerolinewidth\": 2}, \"yaxis\": {\"automargin\": true, \"gridcolor\": \"white\", \"linecolor\": \"white\", \"ticks\": \"\", \"title\": {\"standoff\": 15}, \"zerolinecolor\": \"white\", \"zerolinewidth\": 2}}}, \"title\": {\"text\": \"Cluster para -8.0 (kcal/mol) com o Luteoin na PLPro de SARS-CoV-2\"}},                        {\"responsive\": true}                    ).then(function(){\n",
       "                            \n",
       "var gd = document.getElementById('629dac39-e860-4f6f-924e-167b2104ce2a');\n",
       "var x = new MutationObserver(function (mutations, observer) {{\n",
       "        var display = window.getComputedStyle(gd).display;\n",
       "        if (!display || display === 'none') {{\n",
       "            console.log([gd, 'removed!']);\n",
       "            Plotly.purge(gd);\n",
       "            observer.disconnect();\n",
       "        }}\n",
       "}});\n",
       "\n",
       "// Listen for the removal of the full notebook cells\n",
       "var notebookContainer = gd.closest('#notebook-container');\n",
       "if (notebookContainer) {{\n",
       "    x.observe(notebookContainer, {childList: true});\n",
       "}}\n",
       "\n",
       "// Listen for the clearing of the current output cell\n",
       "var outputEl = gd.closest('.output');\n",
       "if (outputEl) {{\n",
       "    x.observe(outputEl, {childList: true});\n",
       "}}\n",
       "\n",
       "                        })                };                });            </script>        </div>"
      ]
     },
     "metadata": {},
     "output_type": "display_data"
    },
    {
     "name": "stdout",
     "output_type": "stream",
     "text": [
      "\n",
      "\n",
      "Para energia de -8.0 kcal/mol\n",
      "           mean  median       std  Ocupação %\n",
      "Cluster                                     \n",
      "-1      -8.450   -8.45  0.494975    4.759223\n",
      " 0      -8.455   -8.30  0.459626   95.240777\n"
     ]
    },
    {
     "data": {
      "image/png": "[encoded data removed]",
      "text/plain": [
       "<Figure size 432x288 with 1 Axes>"
      ]
     },
     "metadata": {
      "needs_background": "light"
     },
     "output_type": "display_data"
    },
    {
     "data": {
      "image/png": "[encoded data removed]",
      "text/plain": [
       "<Figure size 432x288 with 1 Axes>"
      ]
     },
     "metadata": {
      "needs_background": "light"
     },
     "output_type": "display_data"
    },
    {
     "data": {
      "application/vnd.plotly.v1+json": {
       "config": {
        "plotlyServerURL": "https://plot.ly"
       },
       "data": [
        {
         "hovertemplate": "x=%{x}<br>y=%{y}<br>z=%{z}<br>size=%{marker.size}<br>Name=%{text}<br>Cluster=%{marker.color}<extra></extra>",
         "legendgroup": "",
         "marker": {
          "color": [
           0,
           -1,
           0,
           0,
           0
          ],
          "coloraxis": "coloraxis",
          "size": [
           3.321416142563494e+26,
           7.836417984815941e+25,
           5.8149737003040055e+25,
           5.8149737003040055e+25,
           3.321416142563494e+26
          ],
          "sizemode": "area",
          "sizeref": 8.303540356408734e+23,
          "symbol": "circle"
         },
         "mode": "markers+text",
         "name": "",
         "scene": "scene",
         "showlegend": false,
         "text": [
          "CN288",
          "CN288",
          "CN288",
          "CN288",
          "CN289"
         ],
         "type": "scatter3d",
         "x": [
          0,
          0,
          0,
          0,
          0
         ],
         "y": [
          -63.60412212933175,
          -60.30145574594113,
          -65.15267969912556,
          -63.50624438822011,
          -63.31735055751747
         ],
         "z": [
          53.408756083099064,
          49.99768847552658,
          53.180428318364086,
          53.442669371177395,
          53.519689864427654
         ]
        }
       ],
       "layout": {
        "coloraxis": {
         "colorbar": {
          "title": {
           "text": "Cluster"
          }
         },
         "colorscale": [
          [
           0,
           "#0d0887"
          ],
          [
           0.1111111111111111,
           "#46039f"
          ],
          [
           0.2222222222222222,
           "#7201a8"
          ],
          [
           0.3333333333333333,
           "#9c179e"
          ],
          [
           0.4444444444444444,
           "#bd3786"
          ],
          [
           0.5555555555555556,
           "#d8576b"
          ],
          [
           0.6666666666666666,
           "#ed7953"
          ],
          [
           0.7777777777777778,
           "#fb9f3a"
          ],
          [
           0.8888888888888888,
           "#fdca26"
          ],
          [
           1,
           "#f0f921"
          ]
         ]
        },
        "legend": {
         "itemsizing": "constant",
         "tracegroupgap": 0
        },
        "scene": {
         "domain": {
          "x": [
           0,
           1
          ],
          "y": [
           0,
           1
          ]
         },
         "xaxis": {
          "title": {
           "text": "x"
          }
         },
         "yaxis": {
          "title": {
           "text": "y"
          }
         },
         "zaxis": {
          "title": {
           "text": "z"
          }
         }
        },
        "template": {
         "data": {
          "bar": [
           {
            "error_x": {
             "color": "#2a3f5f"
            },
            "error_y": {
             "color": "#2a3f5f"
            },
            "marker": {
             "line": {
              "color": "#E5ECF6",
              "width": 0.5
             }
            },
            "type": "bar"
           }
          ],
          "barpolar": [
           {
            "marker": {
             "line": {
              "color": "#E5ECF6",
              "width": 0.5
             }
            },
            "type": "barpolar"
           }
          ],
          "carpet": [
           {
            "aaxis": {
             "endlinecolor": "#2a3f5f",
             "gridcolor": "white",
             "linecolor": "white",
             "minorgridcolor": "white",
             "startlinecolor": "#2a3f5f"
            },
            "baxis": {
             "endlinecolor": "#2a3f5f",
             "gridcolor": "white",
             "linecolor": "white",
             "minorgridcolor": "white",
             "startlinecolor": "#2a3f5f"
            },
            "type": "carpet"
           }
          ],
          "choropleth": [
           {
            "colorbar": {
             "outlinewidth": 0,
             "ticks": ""
            },
            "type": "choropleth"
           }
          ],
          "contour": [
           {
            "colorbar": {
             "outlinewidth": 0,
             "ticks": ""
            },
            "colorscale": [
             [
              0,
              "#0d0887"
             ],
             [
              0.1111111111111111,
              "#46039f"
             ],
             [
              0.2222222222222222,
              "#7201a8"
             ],
             [
              0.3333333333333333,
              "#9c179e"
             ],
             [
              0.4444444444444444,
              "#bd3786"
             ],
             [
              0.5555555555555556,
              "#d8576b"
             ],
             [
              0.6666666666666666,
              "#ed7953"
             ],
             [
              0.7777777777777778,
              "#fb9f3a"
             ],
             [
              0.8888888888888888,
              "#fdca26"
             ],
             [
              1,
              "#f0f921"
             ]
            ],
            "type": "contour"
           }
          ],
          "contourcarpet": [
           {
            "colorbar": {
             "outlinewidth": 0,
             "ticks": ""
            },
            "type": "contourcarpet"
           }
          ],
          "heatmap": [
           {
            "colorbar": {
             "outlinewidth": 0,
             "ticks": ""
            },
            "colorscale": [
             [
              0,
              "#0d0887"
             ],
             [
              0.1111111111111111,
              "#46039f"
             ],
             [
              0.2222222222222222,
              "#7201a8"
             ],
             [
              0.3333333333333333,
              "#9c179e"
             ],
             [
              0.4444444444444444,
              "#bd3786"
             ],
             [
              0.5555555555555556,
              "#d8576b"
             ],
             [
              0.6666666666666666,
              "#ed7953"
             ],
             [
              0.7777777777777778,
              "#fb9f3a"
             ],
             [
              0.8888888888888888,
              "#fdca26"
             ],
             [
              1,
              "#f0f921"
             ]
            ],
            "type": "heatmap"
           }
          ],
          "heatmapgl": [
           {
            "colorbar": {
             "outlinewidth": 0,
             "ticks": ""
            },
            "colorscale": [
             [
              0,
              "#0d0887"
             ],
             [
              0.1111111111111111,
              "#46039f"
             ],
             [
              0.2222222222222222,
              "#7201a8"
             ],
             [
              0.3333333333333333,
              "#9c179e"
             ],
             [
              0.4444444444444444,
              "#bd3786"
             ],
             [
              0.5555555555555556,
              "#d8576b"
             ],
             [
              0.6666666666666666,
              "#ed7953"
             ],
             [
              0.7777777777777778,
              "#fb9f3a"
             ],
             [
              0.8888888888888888,
              "#fdca26"
             ],
             [
              1,
              "#f0f921"
             ]
            ],
            "type": "heatmapgl"
           }
          ],
          "histogram": [
           {
            "marker": {
             "colorbar": {
              "outlinewidth": 0,
              "ticks": ""
             }
            },
            "type": "histogram"
           }
          ],
          "histogram2d": [
           {
            "colorbar": {
             "outlinewidth": 0,
             "ticks": ""
            },
            "colorscale": [
             [
              0,
              "#0d0887"
             ],
             [
              0.1111111111111111,
              "#46039f"
             ],
             [
              0.2222222222222222,
              "#7201a8"
             ],
             [
              0.3333333333333333,
              "#9c179e"
             ],
             [
              0.4444444444444444,
              "#bd3786"
             ],
             [
              0.5555555555555556,
              "#d8576b"
             ],
             [
              0.6666666666666666,
              "#ed7953"
             ],
             [
              0.7777777777777778,
              "#fb9f3a"
             ],
             [
              0.8888888888888888,
              "#fdca26"
             ],
             [
              1,
              "#f0f921"
             ]
            ],
            "type": "histogram2d"
           }
          ],
          "histogram2dcontour": [
           {
            "colorbar": {
             "outlinewidth": 0,
             "ticks": ""
            },
            "colorscale": [
             [
              0,
              "#0d0887"
             ],
             [
              0.1111111111111111,
              "#46039f"
             ],
             [
              0.2222222222222222,
              "#7201a8"
             ],
             [
              0.3333333333333333,
              "#9c179e"
             ],
             [
              0.4444444444444444,
              "#bd3786"
             ],
             [
              0.5555555555555556,
              "#d8576b"
             ],
             [
              0.6666666666666666,
              "#ed7953"
             ],
             [
              0.7777777777777778,
              "#fb9f3a"
             ],
             [
              0.8888888888888888,
              "#fdca26"
             ],
             [
              1,
              "#f0f921"
             ]
            ],
            "type": "histogram2dcontour"
           }
          ],
          "mesh3d": [
           {
            "colorbar": {
             "outlinewidth": 0,
             "ticks": ""
            },
            "type": "mesh3d"
           }
          ],
          "parcoords": [
           {
            "line": {
             "colorbar": {
              "outlinewidth": 0,
              "ticks": ""
             }
            },
            "type": "parcoords"
           }
          ],
          "pie": [
           {
            "automargin": true,
            "type": "pie"
           }
          ],
          "scatter": [
           {
            "marker": {
             "colorbar": {
              "outlinewidth": 0,
              "ticks": ""
             }
            },
            "type": "scatter"
           }
          ],
          "scatter3d": [
           {
            "line": {
             "colorbar": {
              "outlinewidth": 0,
              "ticks": ""
             }
            },
            "marker": {
             "colorbar": {
              "outlinewidth": 0,
              "ticks": ""
             }
            },
            "type": "scatter3d"
           }
          ],
          "scattercarpet": [
           {
            "marker": {
             "colorbar": {
              "outlinewidth": 0,
              "ticks": ""
             }
            },
            "type": "scattercarpet"
           }
          ],
          "scattergeo": [
           {
            "marker": {
             "colorbar": {
              "outlinewidth": 0,
              "ticks": ""
             }
            },
            "type": "scattergeo"
           }
          ],
          "scattergl": [
           {
            "marker": {
             "colorbar": {
              "outlinewidth": 0,
              "ticks": ""
             }
            },
            "type": "scattergl"
           }
          ],
          "scattermapbox": [
           {
            "marker": {
             "colorbar": {
              "outlinewidth": 0,
              "ticks": ""
             }
            },
            "type": "scattermapbox"
           }
          ],
          "scatterpolar": [
           {
            "marker": {
             "colorbar": {
              "outlinewidth": 0,
              "ticks": ""
             }
            },
            "type": "scatterpolar"
           }
          ],
          "scatterpolargl": [
           {
            "marker": {
             "colorbar": {
              "outlinewidth": 0,
              "ticks": ""
             }
            },
            "type": "scatterpolargl"
           }
          ],
          "scatterternary": [
           {
            "marker": {
             "colorbar": {
              "outlinewidth": 0,
              "ticks": ""
             }
            },
            "type": "scatterternary"
           }
          ],
          "surface": [
           {
            "colorbar": {
             "outlinewidth": 0,
             "ticks": ""
            },
            "colorscale": [
             [
              0,
              "#0d0887"
             ],
             [
              0.1111111111111111,
              "#46039f"
             ],
             [
              0.2222222222222222,
              "#7201a8"
             ],
             [
              0.3333333333333333,
              "#9c179e"
             ],
             [
              0.4444444444444444,
              "#bd3786"
             ],
             [
              0.5555555555555556,
              "#d8576b"
             ],
             [
              0.6666666666666666,
              "#ed7953"
             ],
             [
              0.7777777777777778,
              "#fb9f3a"
             ],
             [
              0.8888888888888888,
              "#fdca26"
             ],
             [
              1,
              "#f0f921"
             ]
            ],
            "type": "surface"
           }
          ],
          "table": [
           {
            "cells": {
             "fill": {
              "color": "#EBF0F8"
             },
             "line": {
              "color": "white"
             }
            },
            "header": {
             "fill": {
              "color": "#C8D4E3"
             },
             "line": {
              "color": "white"
             }
            },
            "type": "table"
           }
          ]
         },
         "layout": {
          "annotationdefaults": {
           "arrowcolor": "#2a3f5f",
           "arrowhead": 0,
           "arrowwidth": 1
          },
          "autotypenumbers": "strict",
          "coloraxis": {
           "colorbar": {
            "outlinewidth": 0,
            "ticks": ""
           }
          },
          "colorscale": {
           "diverging": [
            [
             0,
             "#8e0152"
            ],
            [
             0.1,
             "#c51b7d"
            ],
            [
             0.2,
             "#de77ae"
            ],
            [
             0.3,
             "#f1b6da"
            ],
            [
             0.4,
             "#fde0ef"
            ],
            [
             0.5,
             "#f7f7f7"
            ],
            [
             0.6,
             "#e6f5d0"
            ],
            [
             0.7,
             "#b8e186"
            ],
            [
             0.8,
             "#7fbc41"
            ],
            [
             0.9,
             "#4d9221"
            ],
            [
             1,
             "#276419"
            ]
           ],
           "sequential": [
            [
             0,
             "#0d0887"
            ],
            [
             0.1111111111111111,
             "#46039f"
            ],
            [
             0.2222222222222222,
             "#7201a8"
            ],
            [
             0.3333333333333333,
             "#9c179e"
            ],
            [
             0.4444444444444444,
             "#bd3786"
            ],
            [
             0.5555555555555556,
             "#d8576b"
            ],
            [
             0.6666666666666666,
             "#ed7953"
            ],
            [
             0.7777777777777778,
             "#fb9f3a"
            ],
            [
             0.8888888888888888,
             "#fdca26"
            ],
            [
             1,
             "#f0f921"
            ]
           ],
           "sequentialminus": [
            [
             0,
             "#0d0887"
            ],
            [
             0.1111111111111111,
             "#46039f"
            ],
            [
             0.2222222222222222,
             "#7201a8"
            ],
            [
             0.3333333333333333,
             "#9c179e"
            ],
            [
             0.4444444444444444,
             "#bd3786"
            ],
            [
             0.5555555555555556,
             "#d8576b"
            ],
            [
             0.6666666666666666,
             "#ed7953"
            ],
            [
             0.7777777777777778,
             "#fb9f3a"
            ],
            [
             0.8888888888888888,
             "#fdca26"
            ],
            [
             1,
             "#f0f921"
            ]
           ]
          },
          "colorway": [
           "#636efa",
           "#EF553B",
           "#00cc96",
           "#ab63fa",
           "#FFA15A",
           "#19d3f3",
           "#FF6692",
           "#B6E880",
           "#FF97FF",
           "#FECB52"
          ],
          "font": {
           "color": "#2a3f5f"
          },
          "geo": {
           "bgcolor": "white",
           "lakecolor": "white",
           "landcolor": "#E5ECF6",
           "showlakes": true,
           "showland": true,
           "subunitcolor": "white"
          },
          "hoverlabel": {
           "align": "left"
          },
          "hovermode": "closest",
          "mapbox": {
           "style": "light"
          },
          "paper_bgcolor": "white",
          "plot_bgcolor": "#E5ECF6",
          "polar": {
           "angularaxis": {
            "gridcolor": "white",
            "linecolor": "white",
            "ticks": ""
           },
           "bgcolor": "#E5ECF6",
           "radialaxis": {
            "gridcolor": "white",
            "linecolor": "white",
            "ticks": ""
           }
          },
          "scene": {
           "xaxis": {
            "backgroundcolor": "#E5ECF6",
            "gridcolor": "white",
            "gridwidth": 2,
            "linecolor": "white",
            "showbackground": true,
            "ticks": "",
            "zerolinecolor": "white"
           },
           "yaxis": {
            "backgroundcolor": "#E5ECF6",
            "gridcolor": "white",
            "gridwidth": 2,
            "linecolor": "white",
            "showbackground": true,
            "ticks": "",
            "zerolinecolor": "white"
           },
           "zaxis": {
            "backgroundcolor": "#E5ECF6",
            "gridcolor": "white",
            "gridwidth": 2,
            "linecolor": "white",
            "showbackground": true,
            "ticks": "",
            "zerolinecolor": "white"
           }
          },
          "shapedefaults": {
           "line": {
            "color": "#2a3f5f"
           }
          },
          "ternary": {
           "aaxis": {
            "gridcolor": "white",
            "linecolor": "white",
            "ticks": ""
           },
           "baxis": {
            "gridcolor": "white",
            "linecolor": "white",
            "ticks": ""
           },
           "bgcolor": "#E5ECF6",
           "caxis": {
            "gridcolor": "white",
            "linecolor": "white",
            "ticks": ""
           }
          },
          "title": {
           "x": 0.05
          },
          "xaxis": {
           "automargin": true,
           "gridcolor": "white",
           "linecolor": "white",
           "ticks": "",
           "title": {
            "standoff": 15
           },
           "zerolinecolor": "white",
           "zerolinewidth": 2
          },
          "yaxis": {
           "automargin": true,
           "gridcolor": "white",
           "linecolor": "white",
           "ticks": "",
           "title": {
            "standoff": 15
           },
           "zerolinecolor": "white",
           "zerolinewidth": 2
          }
         }
        },
        "title": {
         "text": "Cluster para -9.0 (kcal/mol) com o Luteoin na PLPro de SARS-CoV-2"
        }
       }
      },
      "text/html": [
       "<div>                            <div id=\"771fd577-64c2-4667-8fe6-da76dd4e974f\" class=\"plotly-graph-div\" style=\"height:525px; width:100%;\"></div>            <script type=\"text/javascript\">                require([\"plotly\"], function(Plotly) {                    window.PLOTLYENV=window.PLOTLYENV || {};                                    if (document.getElementById(\"771fd577-64c2-4667-8fe6-da76dd4e974f\")) {                    Plotly.newPlot(                        \"771fd577-64c2-4667-8fe6-da76dd4e974f\",                        [{\"hovertemplate\": \"x=%{x}<br>y=%{y}<br>z=%{z}<br>size=%{marker.size}<br>Name=%{text}<br>Cluster=%{marker.color}<extra></extra>\", \"legendgroup\": \"\", \"marker\": {\"color\": [0, -1, 0, 0, 0], \"coloraxis\": \"coloraxis\", \"size\": [3.321416142563494e+26, 7.836417984815941e+25, 5.8149737003040055e+25, 5.8149737003040055e+25, 3.321416142563494e+26], \"sizemode\": \"area\", \"sizeref\": 8.303540356408734e+23, \"symbol\": \"circle\"}, \"mode\": \"markers+text\", \"name\": \"\", \"scene\": \"scene\", \"showlegend\": false, \"text\": [\"CN288\", \"CN288\", \"CN288\", \"CN288\", \"CN289\"], \"type\": \"scatter3d\", \"x\": [0.0, 0.0, 0.0, 0.0, 0.0], \"y\": [-63.60412212933175, -60.30145574594113, -65.15267969912556, -63.50624438822011, -63.31735055751747], \"z\": [53.408756083099064, 49.99768847552658, 53.180428318364086, 53.442669371177395, 53.519689864427654]}],                        {\"coloraxis\": {\"colorbar\": {\"title\": {\"text\": \"Cluster\"}}, \"colorscale\": [[0.0, \"#0d0887\"], [0.1111111111111111, \"#46039f\"], [0.2222222222222222, \"#7201a8\"], [0.3333333333333333, \"#9c179e\"], [0.4444444444444444, \"#bd3786\"], [0.5555555555555556, \"#d8576b\"], [0.6666666666666666, \"#ed7953\"], [0.7777777777777778, \"#fb9f3a\"], [0.8888888888888888, \"#fdca26\"], [1.0, \"#f0f921\"]]}, \"legend\": {\"itemsizing\": \"constant\", \"tracegroupgap\": 0}, \"scene\": {\"domain\": {\"x\": [0.0, 1.0], \"y\": [0.0, 1.0]}, \"xaxis\": {\"title\": {\"text\": \"x\"}}, \"yaxis\": {\"title\": {\"text\": \"y\"}}, \"zaxis\": {\"title\": {\"text\": \"z\"}}}, \"template\": {\"data\": {\"bar\": [{\"error_x\": {\"color\": \"#2a3f5f\"}, \"error_y\": {\"color\": \"#2a3f5f\"}, \"marker\": {\"line\": {\"color\": \"#E5ECF6\", \"width\": 0.5}}, \"type\": \"bar\"}], \"barpolar\": [{\"marker\": {\"line\": {\"color\": \"#E5ECF6\", \"width\": 0.5}}, \"type\": \"barpolar\"}], \"carpet\": [{\"aaxis\": {\"endlinecolor\": \"#2a3f5f\", \"gridcolor\": \"white\", \"linecolor\": \"white\", \"minorgridcolor\": \"white\", \"startlinecolor\": \"#2a3f5f\"}, \"baxis\": {\"endlinecolor\": \"#2a3f5f\", \"gridcolor\": \"white\", \"linecolor\": \"white\", \"minorgridcolor\": \"white\", \"startlinecolor\": \"#2a3f5f\"}, \"type\": \"carpet\"}], \"choropleth\": [{\"colorbar\": {\"outlinewidth\": 0, \"ticks\": \"\"}, \"type\": \"choropleth\"}], \"contour\": [{\"colorbar\": {\"outlinewidth\": 0, \"ticks\": \"\"}, \"colorscale\": [[0.0, \"#0d0887\"], [0.1111111111111111, \"#46039f\"], [0.2222222222222222, \"#7201a8\"], [0.3333333333333333, \"#9c179e\"], [0.4444444444444444, \"#bd3786\"], [0.5555555555555556, \"#d8576b\"], [0.6666666666666666, \"#ed7953\"], [0.7777777777777778, \"#fb9f3a\"], [0.8888888888888888, \"#fdca26\"], [1.0, \"#f0f921\"]], \"type\": \"contour\"}], \"contourcarpet\": [{\"colorbar\": {\"outlinewidth\": 0, \"ticks\": \"\"}, \"type\": \"contourcarpet\"}], \"heatmap\": [{\"colorbar\": {\"outlinewidth\": 0, \"ticks\": \"\"}, \"colorscale\": [[0.0, \"#0d0887\"], [0.1111111111111111, \"#46039f\"], [0.2222222222222222, \"#7201a8\"], [0.3333333333333333, \"#9c179e\"], [0.4444444444444444, \"#bd3786\"], [0.5555555555555556, \"#d8576b\"], [0.6666666666666666, \"#ed7953\"], [0.7777777777777778, \"#fb9f3a\"], [0.8888888888888888, \"#fdca26\"], [1.0, \"#f0f921\"]], \"type\": \"heatmap\"}], \"heatmapgl\": [{\"colorbar\": {\"outlinewidth\": 0, \"ticks\": \"\"}, \"colorscale\": [[0.0, \"#0d0887\"], [0.1111111111111111, \"#46039f\"], [0.2222222222222222, \"#7201a8\"], [0.3333333333333333, \"#9c179e\"], [0.4444444444444444, \"#bd3786\"], [0.5555555555555556, \"#d8576b\"], [0.6666666666666666, \"#ed7953\"], [0.7777777777777778, \"#fb9f3a\"], [0.8888888888888888, \"#fdca26\"], [1.0, \"#f0f921\"]], \"type\": \"heatmapgl\"}], \"histogram\": [{\"marker\": {\"colorbar\": {\"outlinewidth\": 0, \"ticks\": \"\"}}, \"type\": \"histogram\"}], \"histogram2d\": [{\"colorbar\": {\"outlinewidth\": 0, \"ticks\": \"\"}, \"colorscale\": [[0.0, \"#0d0887\"], [0.1111111111111111, \"#46039f\"], [0.2222222222222222, \"#7201a8\"], [0.3333333333333333, \"#9c179e\"], [0.4444444444444444, \"#bd3786\"], [0.5555555555555556, \"#d8576b\"], [0.6666666666666666, \"#ed7953\"], [0.7777777777777778, \"#fb9f3a\"], [0.8888888888888888, \"#fdca26\"], [1.0, \"#f0f921\"]], \"type\": \"histogram2d\"}], \"histogram2dcontour\": [{\"colorbar\": {\"outlinewidth\": 0, \"ticks\": \"\"}, \"colorscale\": [[0.0, \"#0d0887\"], [0.1111111111111111, \"#46039f\"], [0.2222222222222222, \"#7201a8\"], [0.3333333333333333, \"#9c179e\"], [0.4444444444444444, \"#bd3786\"], [0.5555555555555556, \"#d8576b\"], [0.6666666666666666, \"#ed7953\"], [0.7777777777777778, \"#fb9f3a\"], [0.8888888888888888, \"#fdca26\"], [1.0, \"#f0f921\"]], \"type\": \"histogram2dcontour\"}], \"mesh3d\": [{\"colorbar\": {\"outlinewidth\": 0, \"ticks\": \"\"}, \"type\": \"mesh3d\"}], \"parcoords\": [{\"line\": {\"colorbar\": {\"outlinewidth\": 0, \"ticks\": \"\"}}, \"type\": \"parcoords\"}], \"pie\": [{\"automargin\": true, \"type\": \"pie\"}], \"scatter\": [{\"marker\": {\"colorbar\": {\"outlinewidth\": 0, \"ticks\": \"\"}}, \"type\": \"scatter\"}], \"scatter3d\": [{\"line\": {\"colorbar\": {\"outlinewidth\": 0, \"ticks\": \"\"}}, \"marker\": {\"colorbar\": {\"outlinewidth\": 0, \"ticks\": \"\"}}, \"type\": \"scatter3d\"}], \"scattercarpet\": [{\"marker\": {\"colorbar\": {\"outlinewidth\": 0, \"ticks\": \"\"}}, \"type\": \"scattercarpet\"}], \"scattergeo\": [{\"marker\": {\"colorbar\": {\"outlinewidth\": 0, \"ticks\": \"\"}}, \"type\": \"scattergeo\"}], \"scattergl\": [{\"marker\": {\"colorbar\": {\"outlinewidth\": 0, \"ticks\": \"\"}}, \"type\": \"scattergl\"}], \"scattermapbox\": [{\"marker\": {\"colorbar\": {\"outlinewidth\": 0, \"ticks\": \"\"}}, \"type\": \"scattermapbox\"}], \"scatterpolar\": [{\"marker\": {\"colorbar\": {\"outlinewidth\": 0, \"ticks\": \"\"}}, \"type\": \"scatterpolar\"}], \"scatterpolargl\": [{\"marker\": {\"colorbar\": {\"outlinewidth\": 0, \"ticks\": \"\"}}, \"type\": \"scatterpolargl\"}], \"scatterternary\": [{\"marker\": {\"colorbar\": {\"outlinewidth\": 0, \"ticks\": \"\"}}, \"type\": \"scatterternary\"}], \"surface\": [{\"colorbar\": {\"outlinewidth\": 0, \"ticks\": \"\"}, \"colorscale\": [[0.0, \"#0d0887\"], [0.1111111111111111, \"#46039f\"], [0.2222222222222222, \"#7201a8\"], [0.3333333333333333, \"#9c179e\"], [0.4444444444444444, \"#bd3786\"], [0.5555555555555556, \"#d8576b\"], [0.6666666666666666, \"#ed7953\"], [0.7777777777777778, \"#fb9f3a\"], [0.8888888888888888, \"#fdca26\"], [1.0, \"#f0f921\"]], \"type\": \"surface\"}], \"table\": [{\"cells\": {\"fill\": {\"color\": \"#EBF0F8\"}, \"line\": {\"color\": \"white\"}}, \"header\": {\"fill\": {\"color\": \"#C8D4E3\"}, \"line\": {\"color\": \"white\"}}, \"type\": \"table\"}]}, \"layout\": {\"annotationdefaults\": {\"arrowcolor\": \"#2a3f5f\", \"arrowhead\": 0, \"arrowwidth\": 1}, \"autotypenumbers\": \"strict\", \"coloraxis\": {\"colorbar\": {\"outlinewidth\": 0, \"ticks\": \"\"}}, \"colorscale\": {\"diverging\": [[0, \"#8e0152\"], [0.1, \"#c51b7d\"], [0.2, \"#de77ae\"], [0.3, \"#f1b6da\"], [0.4, \"#fde0ef\"], [0.5, \"#f7f7f7\"], [0.6, \"#e6f5d0\"], [0.7, \"#b8e186\"], [0.8, \"#7fbc41\"], [0.9, \"#4d9221\"], [1, \"#276419\"]], \"sequential\": [[0.0, \"#0d0887\"], [0.1111111111111111, \"#46039f\"], [0.2222222222222222, \"#7201a8\"], [0.3333333333333333, \"#9c179e\"], [0.4444444444444444, \"#bd3786\"], [0.5555555555555556, \"#d8576b\"], [0.6666666666666666, \"#ed7953\"], [0.7777777777777778, \"#fb9f3a\"], [0.8888888888888888, \"#fdca26\"], [1.0, \"#f0f921\"]], \"sequentialminus\": [[0.0, \"#0d0887\"], [0.1111111111111111, \"#46039f\"], [0.2222222222222222, \"#7201a8\"], [0.3333333333333333, \"#9c179e\"], [0.4444444444444444, \"#bd3786\"], [0.5555555555555556, \"#d8576b\"], [0.6666666666666666, \"#ed7953\"], [0.7777777777777778, \"#fb9f3a\"], [0.8888888888888888, \"#fdca26\"], [1.0, \"#f0f921\"]]}, \"colorway\": [\"#636efa\", \"#EF553B\", \"#00cc96\", \"#ab63fa\", \"#FFA15A\", \"#19d3f3\", \"#FF6692\", \"#B6E880\", \"#FF97FF\", \"#FECB52\"], \"font\": {\"color\": \"#2a3f5f\"}, \"geo\": {\"bgcolor\": \"white\", \"lakecolor\": \"white\", \"landcolor\": \"#E5ECF6\", \"showlakes\": true, \"showland\": true, \"subunitcolor\": \"white\"}, \"hoverlabel\": {\"align\": \"left\"}, \"hovermode\": \"closest\", \"mapbox\": {\"style\": \"light\"}, \"paper_bgcolor\": \"white\", \"plot_bgcolor\": \"#E5ECF6\", \"polar\": {\"angularaxis\": {\"gridcolor\": \"white\", \"linecolor\": \"white\", \"ticks\": \"\"}, \"bgcolor\": \"#E5ECF6\", \"radialaxis\": {\"gridcolor\": \"white\", \"linecolor\": \"white\", \"ticks\": \"\"}}, \"scene\": {\"xaxis\": {\"backgroundcolor\": \"#E5ECF6\", \"gridcolor\": \"white\", \"gridwidth\": 2, \"linecolor\": \"white\", \"showbackground\": true, \"ticks\": \"\", \"zerolinecolor\": \"white\"}, \"yaxis\": {\"backgroundcolor\": \"#E5ECF6\", \"gridcolor\": \"white\", \"gridwidth\": 2, \"linecolor\": \"white\", \"showbackground\": true, \"ticks\": \"\", \"zerolinecolor\": \"white\"}, \"zaxis\": {\"backgroundcolor\": \"#E5ECF6\", \"gridcolor\": \"white\", \"gridwidth\": 2, \"linecolor\": \"white\", \"showbackground\": true, \"ticks\": \"\", \"zerolinecolor\": \"white\"}}, \"shapedefaults\": {\"line\": {\"color\": \"#2a3f5f\"}}, \"ternary\": {\"aaxis\": {\"gridcolor\": \"white\", \"linecolor\": \"white\", \"ticks\": \"\"}, \"baxis\": {\"gridcolor\": \"white\", \"linecolor\": \"white\", \"ticks\": \"\"}, \"bgcolor\": \"#E5ECF6\", \"caxis\": {\"gridcolor\": \"white\", \"linecolor\": \"white\", \"ticks\": \"\"}}, \"title\": {\"x\": 0.05}, \"xaxis\": {\"automargin\": true, \"gridcolor\": \"white\", \"linecolor\": \"white\", \"ticks\": \"\", \"title\": {\"standoff\": 15}, \"zerolinecolor\": \"white\", \"zerolinewidth\": 2}, \"yaxis\": {\"automargin\": true, \"gridcolor\": \"white\", \"linecolor\": \"white\", \"ticks\": \"\", \"title\": {\"standoff\": 15}, \"zerolinecolor\": \"white\", \"zerolinewidth\": 2}}}, \"title\": {\"text\": \"Cluster para -9.0 (kcal/mol) com o Luteoin na PLPro de SARS-CoV-2\"}},                        {\"responsive\": true}                    ).then(function(){\n",
       "                            \n",
       "var gd = document.getElementById('771fd577-64c2-4667-8fe6-da76dd4e974f');\n",
       "var x = new MutationObserver(function (mutations, observer) {{\n",
       "        var display = window.getComputedStyle(gd).display;\n",
       "        if (!display || display === 'none') {{\n",
       "            console.log([gd, 'removed!']);\n",
       "            Plotly.purge(gd);\n",
       "            observer.disconnect();\n",
       "        }}\n",
       "}});\n",
       "\n",
       "// Listen for the removal of the full notebook cells\n",
       "var notebookContainer = gd.closest('#notebook-container');\n",
       "if (notebookContainer) {{\n",
       "    x.observe(notebookContainer, {childList: true});\n",
       "}}\n",
       "\n",
       "// Listen for the clearing of the current output cell\n",
       "var outputEl = gd.closest('.output');\n",
       "if (outputEl) {{\n",
       "    x.observe(outputEl, {childList: true});\n",
       "}}\n",
       "\n",
       "                        })                };                });            </script>        </div>"
      ]
     },
     "metadata": {},
     "output_type": "display_data"
    },
    {
     "name": "stdout",
     "output_type": "stream",
     "text": [
      "\n",
      "\n",
      "Para energia de -9.0 kcal/mol\n",
      "          mean  median      std  Ocupação %\n",
      "Cluster                                   \n",
      "-1       -9.1    -9.1      NaN   19.654428\n",
      " 0       -9.3    -9.3  0.34641   80.345572\n"
     ]
    },
    {
     "data": {
      "image/png": "[encoded data removed]",
      "text/plain": [
       "<Figure size 432x288 with 1 Axes>"
      ]
     },
     "metadata": {
      "needs_background": "light"
     },
     "output_type": "display_data"
    },
    {
     "data": {
      "image/png": "[encoded data removed]",
      "text/plain": [
       "<Figure size 432x288 with 1 Axes>"
      ]
     },
     "metadata": {
      "needs_background": "light"
     },
     "output_type": "display_data"
    }
   ],
   "source": [
    "valores_busca = [-7., -8., -9.]\n",
    "for i in valores_busca:\n",
    "    #CLUSTERIZACAO\n",
    "    clustering = DBSCAN(eps= 3, min_samples = 4).fit(df[df['Energy'] <= i].drop(['Name', 'Count', 'Energy'], axis=1))\n",
    "    df_p = df[df['Energy'] <= i].copy()\n",
    "    df_p['Cluster'] = clustering.labels_\n",
    "    \n",
    "    #IMPLEMENTAR A MÉDIA DO RMSD TAMBÉM!!!\n",
    "    pc = df_p[['Cluster', 'Energy']].groupby(by=['Cluster']).agg([np.mean, np.median, np.std, np.sum])['Energy']\n",
    "    pc['Ocupação %'] = pc['sum'].apply(lambda x: abs(x/ pc['sum'].sum() *100))\n",
    "    pc = pc.drop('sum', axis=1)\n",
    "    \n",
    "    siz = df_p.drop(['Name','Count'], axis=1).apply(abs).apply(lambda x: x**(abs(i) * 3) )['Energy']\n",
    "    fig = px.scatter_3d(df_p, x = 'x',  y = 'y',  z = 'z', text='Name', color = 'Cluster', size=siz, title=f'Cluster para {i} (kcal/mol) com o Luteoin na PLPro de SARS-CoV-2')\n",
    "    fig.show()\n",
    "    print(f'\\n\\nPara energia de {i} kcal/mol\\n', pc)\n",
    "    \n",
    "    \n",
    "    #Gráficos\n",
    "    sns.violinplot(x='Cluster', y='Energy', data=df_p, palette=\"colorblind\", split=True, inner=\"stick\")\n",
    "    plt.show()\n",
    "    sns.boxenplot(x='Cluster', y='Energy', data=df_p, palette=\"colorblind\")\n",
    "    sns.swarmplot(x='Cluster', y='Energy', data=df_p, color='.3')\n",
    "    plt.show()"
   ]
  },
  {
   "cell_type": "markdown",
   "metadata": {},
   "source": [
    "CN288 e CN289 são o dados com melhores resultados para uma análise completa."
   ]
  }
 ],
 "metadata": {
  "kernelspec": {
   "display_name": "Python 3",
   "language": "python",
   "name": "python3"
  },
  "language_info": {
   "codemirror_mode": {
    "name": "ipython",
    "version": 3
   },
   "file_extension": ".py",
   "mimetype": "text/x-python",
   "name": "python",
   "nbconvert_exporter": "python",
   "pygments_lexer": "ipython3",
   "version": "3.8.5"
  }
 },
 "nbformat": 4,
 "nbformat_minor": 4
}
